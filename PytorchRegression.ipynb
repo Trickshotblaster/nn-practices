{
  "nbformat": 4,
  "nbformat_minor": 0,
  "metadata": {
    "colab": {
      "provenance": [],
      "authorship_tag": "ABX9TyP1Mez6GJYhkhXHoh06QnA3",
      "include_colab_link": true
    },
    "kernelspec": {
      "name": "python3",
      "display_name": "Python 3"
    },
    "language_info": {
      "name": "python"
    }
  },
  "cells": [
    {
      "cell_type": "markdown",
      "metadata": {
        "id": "view-in-github",
        "colab_type": "text"
      },
      "source": [
        "<a href=\"https://colab.research.google.com/github/Trickshotblaster/nn-practices/blob/main/PytorchRegression.ipynb\" target=\"_parent\"><img src=\"https://colab.research.google.com/assets/colab-badge.svg\" alt=\"Open In Colab\"/></a>"
      ]
    },
    {
      "cell_type": "code",
      "source": [
        "import torch"
      ],
      "metadata": {
        "id": "EqWq9Ur-1KTc"
      },
      "execution_count": 1,
      "outputs": []
    },
    {
      "cell_type": "code",
      "source": [
        "import matplotlib.pyplot as plt"
      ],
      "metadata": {
        "id": "1LgTmsfU34GD"
      },
      "execution_count": 8,
      "outputs": []
    },
    {
      "cell_type": "code",
      "execution_count": 16,
      "metadata": {
        "colab": {
          "base_uri": "https://localhost:8080/"
        },
        "id": "YIzNbRM-1DVf",
        "outputId": "de2358f4-d98c-4265-be63-ad42a7f98619"
      },
      "outputs": [
        {
          "output_type": "stream",
          "name": "stdout",
          "text": [
            "tensor(0.3642, grad_fn=<MeanBackward0>)\n"
          ]
        }
      ],
      "source": [
        "#linear regression\n",
        "num_points = 16\n",
        "xs = torch.randn(num_points)\n",
        "ys = torch.randn(num_points)\n",
        "# y = ax + b\n",
        "a = torch.randn(1)\n",
        "b = torch.randn(1)\n",
        "params = [a,b]\n",
        "for p in params:\n",
        "  p.requires_grad = True\n",
        "#training loop\n",
        "num_epochs = 1000\n",
        "lr = 0.05\n",
        "for epoch in range(num_epochs):\n",
        "  outs = (a * xs) + b\n",
        "  loss = ((ys - outs) ** 2).mean()\n",
        "  for p in params:\n",
        "    p.grad = None\n",
        "  loss.backward()\n",
        "  for p in params:\n",
        "    p.data -= p.grad * lr\n",
        "print(loss)"
      ]
    },
    {
      "cell_type": "code",
      "source": [
        "with torch.no_grad():\n",
        "  ypred = (a*xs) + b\n",
        "  plt.scatter(xs, ys)\n",
        "  plt.scatter(xs, ypred, label=\"Set 2\")\n",
        "\n",
        "# Add a legend\n",
        "plt.legend()\n",
        "\n",
        "# Show the plot\n",
        "plt.show()\n"
      ],
      "metadata": {
        "colab": {
          "base_uri": "https://localhost:8080/",
          "height": 430
        },
        "id": "ZkiUbNv23_C8",
        "outputId": "3fb1eeb3-1145-4c9e-c8ff-0c4502ac4908"
      },
      "execution_count": 17,
      "outputs": [
        {
          "output_type": "display_data",
          "data": {
            "text/plain": [
              "<Figure size 640x480 with 1 Axes>"
            ],
            "image/png": "[encoded data removed]"
          },
          "metadata": {}
        }
      ]
    }
  ]
}