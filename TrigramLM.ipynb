{
  "nbformat": 4,
  "nbformat_minor": 0,
  "metadata": {
    "colab": {
      "provenance": [],
      "include_colab_link": true
    },
    "kernelspec": {
      "name": "python3",
      "display_name": "Python 3"
    },
    "language_info": {
      "name": "python"
    }
  },
  "cells": [
    {
      "cell_type": "markdown",
      "metadata": {
        "id": "view-in-github",
        "colab_type": "text"
      },
      "source": [
        "<a href=\"https://colab.research.google.com/github/Trickshotblaster/nn-practices/blob/main/TrigramLM.ipynb\" target=\"_parent\"><img src=\"https://colab.research.google.com/assets/colab-badge.svg\" alt=\"Open In Colab\"/></a>"
      ]
    },
    {
      "cell_type": "code",
      "source": [
        "import random\n",
        "import math"
      ],
      "metadata": {
        "id": "PiuT_51Tl7Nv"
      },
      "execution_count": 95,
      "outputs": []
    },
    {
      "cell_type": "code",
      "execution_count": 96,
      "metadata": {
        "id": "3ev7uHfxkMiG"
      },
      "outputs": [],
      "source": [
        "import requests\n",
        "\n",
        "url = 'https://raw.githubusercontent.com/karpathy/char-rnn/master/data/tinyshakespeare/input.txt'\n",
        "url = 'https://raw.githubusercontent.com/karpathy/makemore/master/names.txt'\n",
        "#url = 'https://raw.githubusercontent.com/Trickshotblaster/nn-practices/main/TrigramLM.ipynb'\n",
        "response = requests.get(url)\n",
        "\n",
        "with open('file.txt', 'wb') as f:\n",
        "  f.write(response.content)"
      ]
    },
    {
      "cell_type": "code",
      "source": [
        "with open('file.txt', 'r') as data:\n",
        "  dataset = data.readlines()\n",
        "\n",
        "with open('file.txt', 'r') as data:\n",
        "  raw_data = data.read()\n"
      ],
      "metadata": {
        "id": "VeY-m-Udk9vA"
      },
      "execution_count": 97,
      "outputs": []
    },
    {
      "cell_type": "code",
      "source": [
        "dataset = raw_data.split(\"\\n\")"
      ],
      "metadata": {
        "id": "94Huj2vsI8IW"
      },
      "execution_count": 98,
      "outputs": []
    },
    {
      "cell_type": "code",
      "source": [
        "dataset[:10]"
      ],
      "metadata": {
        "colab": {
          "base_uri": "https://localhost:8080/"
        },
        "id": "fMddGXOulfd7",
        "outputId": "82775029-afe2-4cbe-d2a5-89b249e7886c"
      },
      "execution_count": 99,
      "outputs": [
        {
          "output_type": "execute_result",
          "data": {
            "text/plain": [
              "['emma',\n",
              " 'olivia',\n",
              " 'ava',\n",
              " 'isabella',\n",
              " 'sophia',\n",
              " 'charlotte',\n",
              " 'mia',\n",
              " 'amelia',\n",
              " 'harper',\n",
              " 'evelyn']"
            ]
          },
          "metadata": {},
          "execution_count": 99
        }
      ]
    },
    {
      "cell_type": "code",
      "source": [
        "for i, data in enumerate(dataset):\n",
        "  dataset[i] = \".\" + data + \".\""
      ],
      "metadata": {
        "id": "iAKuZ0EotAvh"
      },
      "execution_count": 100,
      "outputs": []
    },
    {
      "cell_type": "code",
      "source": [
        "dataset[:10]"
      ],
      "metadata": {
        "colab": {
          "base_uri": "https://localhost:8080/"
        },
        "id": "9EQ62S6JtHBF",
        "outputId": "60b090ff-fb9b-4306-c295-4f49fd9cda61"
      },
      "execution_count": 101,
      "outputs": [
        {
          "output_type": "execute_result",
          "data": {
            "text/plain": [
              "['.emma.',\n",
              " '.olivia.',\n",
              " '.ava.',\n",
              " '.isabella.',\n",
              " '.sophia.',\n",
              " '.charlotte.',\n",
              " '.mia.',\n",
              " '.amelia.',\n",
              " '.harper.',\n",
              " '.evelyn.']"
            ]
          },
          "metadata": {},
          "execution_count": 101
        }
      ]
    },
    {
      "cell_type": "code",
      "source": [
        "raw_data = ''.join(dataset)"
      ],
      "metadata": {
        "id": "6b0O8l00lsV5"
      },
      "execution_count": 102,
      "outputs": []
    },
    {
      "cell_type": "code",
      "source": [
        "raw_data[:10]"
      ],
      "metadata": {
        "colab": {
          "base_uri": "https://localhost:8080/",
          "height": 35
        },
        "id": "V45hY8_ot7RS",
        "outputId": "5844add0-07ce-434d-b3a0-c103c3bcc06c"
      },
      "execution_count": 103,
      "outputs": [
        {
          "output_type": "execute_result",
          "data": {
            "text/plain": [
              "'.emma..oli'"
            ],
            "application/vnd.google.colaboratory.intrinsic+json": {
              "type": "string"
            }
          },
          "metadata": {},
          "execution_count": 103
        }
      ]
    },
    {
      "cell_type": "code",
      "source": [
        "train_set = dataset[:math.floor(len(dataset) * 0.8)]\n",
        "dev_set = dataset[math.floor(len(dataset) * 0.8):math.floor(len(dataset) * 0.9)]\n",
        "test_set = dataset[math.floor(len(dataset) * 0.9):len(dataset) - 1]"
      ],
      "metadata": {
        "id": "tysnVzUhfSBI"
      },
      "execution_count": 104,
      "outputs": []
    },
    {
      "cell_type": "code",
      "source": [
        "train_set[:10]"
      ],
      "metadata": {
        "id": "gclHeZg7w6tC",
        "outputId": "35111a3f-08a5-4c5e-e2c0-d20de51b8c76",
        "colab": {
          "base_uri": "https://localhost:8080/"
        }
      },
      "execution_count": 105,
      "outputs": [
        {
          "output_type": "execute_result",
          "data": {
            "text/plain": [
              "['.emma.',\n",
              " '.olivia.',\n",
              " '.ava.',\n",
              " '.isabella.',\n",
              " '.sophia.',\n",
              " '.charlotte.',\n",
              " '.mia.',\n",
              " '.amelia.',\n",
              " '.harper.',\n",
              " '.evelyn.']"
            ]
          },
          "metadata": {},
          "execution_count": 105
        }
      ]
    },
    {
      "cell_type": "code",
      "source": [
        "dev_set[:10]"
      ],
      "metadata": {
        "id": "tFQGzNUpw9q7",
        "outputId": "a55e3328-aac6-4fe6-904b-4a4c47da60fe",
        "colab": {
          "base_uri": "https://localhost:8080/"
        }
      },
      "execution_count": 106,
      "outputs": [
        {
          "output_type": "execute_result",
          "data": {
            "text/plain": [
              "['.amrom.',\n",
              " '.aniket.',\n",
              " '.ansen.',\n",
              " '.apolo.',\n",
              " '.aqib.',\n",
              " '.aquarius.',\n",
              " '.araf.',\n",
              " '.arafat.',\n",
              " '.areeb.',\n",
              " '.ariez.']"
            ]
          },
          "metadata": {},
          "execution_count": 106
        }
      ]
    },
    {
      "cell_type": "code",
      "source": [
        "test_set[:10]"
      ],
      "metadata": {
        "id": "3ZjMG1N6xAa6",
        "outputId": "d24a2d97-6fd5-437f-8e58-d58c6e29efb7",
        "colab": {
          "base_uri": "https://localhost:8080/"
        }
      },
      "execution_count": 107,
      "outputs": [
        {
          "output_type": "execute_result",
          "data": {
            "text/plain": [
              "['.arib.',\n",
              " '.arinze.',\n",
              " '.aristeo.',\n",
              " '.arlind.',\n",
              " '.armahni.',\n",
              " '.arnez.',\n",
              " '.arnie.',\n",
              " '.arrie.',\n",
              " '.arris.',\n",
              " '.arrison.']"
            ]
          },
          "metadata": {},
          "execution_count": 107
        }
      ]
    },
    {
      "cell_type": "code",
      "source": [
        "vocab = set(raw_data)"
      ],
      "metadata": {
        "id": "r8SisRZnmsXN"
      },
      "execution_count": 108,
      "outputs": []
    },
    {
      "cell_type": "code",
      "source": [
        "vocab"
      ],
      "metadata": {
        "colab": {
          "base_uri": "https://localhost:8080/"
        },
        "id": "wMmItrNTtm_F",
        "outputId": "f7834ee7-0b91-4b14-a0e2-934f5999aad4"
      },
      "execution_count": 109,
      "outputs": [
        {
          "output_type": "execute_result",
          "data": {
            "text/plain": [
              "{'.',\n",
              " 'a',\n",
              " 'b',\n",
              " 'c',\n",
              " 'd',\n",
              " 'e',\n",
              " 'f',\n",
              " 'g',\n",
              " 'h',\n",
              " 'i',\n",
              " 'j',\n",
              " 'k',\n",
              " 'l',\n",
              " 'm',\n",
              " 'n',\n",
              " 'o',\n",
              " 'p',\n",
              " 'q',\n",
              " 'r',\n",
              " 's',\n",
              " 't',\n",
              " 'u',\n",
              " 'v',\n",
              " 'w',\n",
              " 'x',\n",
              " 'y',\n",
              " 'z'}"
            ]
          },
          "metadata": {},
          "execution_count": 109
        }
      ]
    },
    {
      "cell_type": "code",
      "source": [
        "vocab_len = len(vocab)"
      ],
      "metadata": {
        "id": "Z4j0KdGLlLZv"
      },
      "execution_count": 110,
      "outputs": []
    },
    {
      "cell_type": "code",
      "source": [
        "vocab_len"
      ],
      "metadata": {
        "colab": {
          "base_uri": "https://localhost:8080/"
        },
        "id": "fq2cq6wClYmI",
        "outputId": "65ebb9f3-8991-45c3-97d0-993fe89843dd"
      },
      "execution_count": 111,
      "outputs": [
        {
          "output_type": "execute_result",
          "data": {
            "text/plain": [
              "27"
            ]
          },
          "metadata": {},
          "execution_count": 111
        }
      ]
    },
    {
      "cell_type": "code",
      "source": [
        "stoi = {char:i for i, char in enumerate(vocab)}"
      ],
      "metadata": {
        "id": "9KA09eJhmbl2"
      },
      "execution_count": 112,
      "outputs": []
    },
    {
      "cell_type": "code",
      "source": [
        "itos = {i:char for i, char in enumerate(vocab)}"
      ],
      "metadata": {
        "id": "RjRr7qIVm7Qx"
      },
      "execution_count": 113,
      "outputs": []
    },
    {
      "cell_type": "code",
      "source": [
        "import torch"
      ],
      "metadata": {
        "id": "lRWpmX5jpbnE"
      },
      "execution_count": 114,
      "outputs": []
    },
    {
      "cell_type": "code",
      "source": [
        "import torch.nn.functional as functional"
      ],
      "metadata": {
        "id": "9rCZJJKhp4LV"
      },
      "execution_count": 115,
      "outputs": []
    },
    {
      "cell_type": "code",
      "source": [
        "# make dataset\n",
        "xs, ys = [], []\n",
        "for data in train_set:\n",
        "  for ch1, ch2, ch3 in zip(data, data[1:], data[2:]):\n",
        "    xs.append([stoi[ch1], stoi[ch2]])\n",
        "    ys.append(stoi[ch3])\n",
        "\n",
        "xs = torch.tensor(xs)\n",
        "ys = torch.tensor(ys)\n",
        "num = xs.nelement()\n",
        "num"
      ],
      "metadata": {
        "colab": {
          "base_uri": "https://localhost:8080/"
        },
        "id": "1nhNqsYvl0xm",
        "outputId": "e05a9509-04e7-4c25-b466-9e8d948b00ff"
      },
      "execution_count": 116,
      "outputs": [
        {
          "output_type": "execute_result",
          "data": {
            "text/plain": [
              "314304"
            ]
          },
          "metadata": {},
          "execution_count": 116
        }
      ]
    },
    {
      "cell_type": "code",
      "source": [
        "ws = torch.randn((vocab_len*2, vocab_len))\n",
        "ws.requires_grad = True\n",
        "ws.shape"
      ],
      "metadata": {
        "colab": {
          "base_uri": "https://localhost:8080/"
        },
        "id": "7gEB2g5WpfRE",
        "outputId": "04bde34d-40bb-4bef-9676-607867167ae6"
      },
      "execution_count": 117,
      "outputs": [
        {
          "output_type": "execute_result",
          "data": {
            "text/plain": [
              "torch.Size([54, 27])"
            ]
          },
          "metadata": {},
          "execution_count": 117
        }
      ]
    },
    {
      "cell_type": "code",
      "source": [
        "xenc = functional.one_hot(xs[0], num_classes=vocab_len).float().flatten()\n",
        "xenc @ ws"
      ],
      "metadata": {
        "colab": {
          "base_uri": "https://localhost:8080/"
        },
        "id": "R2cwT-tEpvpL",
        "outputId": "0f8e0bd7-bb2b-4193-d8bc-c9ee3989d442"
      },
      "execution_count": 118,
      "outputs": [
        {
          "output_type": "execute_result",
          "data": {
            "text/plain": [
              "tensor([ 1.0992,  0.1850,  0.3321, -0.1491,  1.8630, -0.0954, -0.3334, -1.0885,\n",
              "        -0.5622, -2.5288,  1.9680, -0.9247, -0.1170, -0.8643,  1.0266,  2.5070,\n",
              "         0.6645,  1.2592,  1.9048, -2.3184, -3.8863,  0.9839,  0.6910, -1.3335,\n",
              "         0.6830, -1.6274,  1.9658], grad_fn=<SqueezeBackward4>)"
            ]
          },
          "metadata": {},
          "execution_count": 118
        }
      ]
    },
    {
      "cell_type": "code",
      "source": [
        "(xenc @ ws).shape"
      ],
      "metadata": {
        "id": "RjsgWVRZzQ8R",
        "outputId": "7a1321c5-cb69-4acd-9737-8ef132f33b76",
        "colab": {
          "base_uri": "https://localhost:8080/"
        }
      },
      "execution_count": 119,
      "outputs": [
        {
          "output_type": "execute_result",
          "data": {
            "text/plain": [
              "torch.Size([27])"
            ]
          },
          "metadata": {},
          "execution_count": 119
        }
      ]
    },
    {
      "cell_type": "code",
      "source": [
        "num_epochs = 100\n",
        "lr = 20"
      ],
      "metadata": {
        "id": "b62zCT1yreRx"
      },
      "execution_count": 120,
      "outputs": []
    },
    {
      "cell_type": "code",
      "source": [
        "torch.randn((3, 1))"
      ],
      "metadata": {
        "id": "kJYkhycyz8-p",
        "outputId": "ce9ef88e-79d5-42f8-f16a-ad69f7820199",
        "colab": {
          "base_uri": "https://localhost:8080/"
        }
      },
      "execution_count": 121,
      "outputs": [
        {
          "output_type": "execute_result",
          "data": {
            "text/plain": [
              "tensor([[ 0.9332],\n",
              "        [ 0.1708],\n",
              "        [-0.4885]])"
            ]
          },
          "metadata": {},
          "execution_count": 121
        }
      ]
    },
    {
      "cell_type": "code",
      "source": [
        "for epoch in range(num_epochs):\n",
        "\n",
        "    xenc = functional.one_hot(xs, num_classes=vocab_len).float().flatten(start_dim=1)\n",
        "    logits = xenc @ ws\n",
        "    counts = logits.exp()\n",
        "    probs = counts / counts.sum(1, keepdim=True)\n",
        "    loss = -probs[torch.arange(int(num / 2)), ys].log().mean() + (ws.mean() * 0.01)\n",
        "    print(loss.item())\n",
        "\n",
        "    ws.grad = None\n",
        "    loss.backward()\n",
        "    ws.data += ws.grad * -lr"
      ],
      "metadata": {
        "colab": {
          "base_uri": "https://localhost:8080/"
        },
        "id": "oohZ5r_PrqZm",
        "outputId": "bc70e83f-123b-45a3-a06b-f6c6f2658ae9"
      },
      "execution_count": 122,
      "outputs": [
        {
          "output_type": "stream",
          "name": "stdout",
          "text": [
            "4.146651744842529\n",
            "3.7447128295898438\n",
            "3.4575295448303223\n",
            "3.24652361869812\n",
            "3.0967602729797363\n",
            "2.991867780685425\n",
            "2.913304090499878\n",
            "2.8499600887298584\n",
            "2.796975612640381\n",
            "2.751849889755249\n",
            "2.712947130203247\n",
            "2.6790781021118164\n",
            "2.649341106414795\n",
            "2.623037576675415\n",
            "2.5996170043945312\n",
            "2.5786404609680176\n",
            "2.5597541332244873\n",
            "2.5426671504974365\n",
            "2.5271384716033936\n",
            "2.512968063354492\n",
            "2.499985456466675\n",
            "2.488046407699585\n",
            "2.4770278930664062\n",
            "2.466822624206543\n",
            "2.457341194152832\n",
            "2.448505401611328\n",
            "2.4402480125427246\n",
            "2.4325110912323\n",
            "2.425243616104126\n",
            "2.418402910232544\n",
            "2.4119508266448975\n",
            "2.405853033065796\n",
            "2.400080919265747\n",
            "2.394609212875366\n",
            "2.389413833618164\n",
            "2.384474992752075\n",
            "2.3797738552093506\n",
            "2.3752939701080322\n",
            "2.371020555496216\n",
            "2.3669393062591553\n",
            "2.3630383014678955\n",
            "2.3593063354492188\n",
            "2.3557324409484863\n",
            "2.3523073196411133\n",
            "2.3490219116210938\n",
            "2.345867872238159\n",
            "2.3428382873535156\n",
            "2.3399252891540527\n",
            "2.3371224403381348\n",
            "2.3344240188598633\n",
            "2.331824779510498\n",
            "2.3293185234069824\n",
            "2.3269007205963135\n",
            "2.324566602706909\n",
            "2.322312831878662\n",
            "2.320133924484253\n",
            "2.3180272579193115\n",
            "2.3159890174865723\n",
            "2.314016103744507\n",
            "2.3121049404144287\n",
            "2.310253143310547\n",
            "2.308457851409912\n",
            "2.3067166805267334\n",
            "2.3050265312194824\n",
            "2.3033862113952637\n",
            "2.301792860031128\n",
            "2.3002452850341797\n",
            "2.2987406253814697\n",
            "2.2972776889801025\n",
            "2.2958545684814453\n",
            "2.2944698333740234\n",
            "2.2931220531463623\n",
            "2.291809320449829\n",
            "2.2905309200286865\n",
            "2.289285659790039\n",
            "2.2880711555480957\n",
            "2.2868876457214355\n",
            "2.2857327461242676\n",
            "2.28460693359375\n",
            "2.283508062362671\n",
            "2.2824349403381348\n",
            "2.2813875675201416\n",
            "2.280364990234375\n",
            "2.2793655395507812\n",
            "2.2783889770507812\n",
            "2.2774345874786377\n",
            "2.2765016555786133\n",
            "2.2755894660949707\n",
            "2.2746968269348145\n",
            "2.2738242149353027\n",
            "2.272969961166382\n",
            "2.2721340656280518\n",
            "2.271315336227417\n",
            "2.2705142498016357\n",
            "2.2697291374206543\n",
            "2.268960475921631\n",
            "2.26820707321167\n",
            "2.2674689292907715\n",
            "2.2667453289031982\n",
            "2.26603627204895\n"
          ]
        }
      ]
    },
    {
      "cell_type": "code",
      "source": [
        "xs[:10]"
      ],
      "metadata": {
        "id": "crvU517kIuum",
        "outputId": "c0c8ab25-26a2-4d75-9b6f-efa21cdbd90d",
        "colab": {
          "base_uri": "https://localhost:8080/"
        }
      },
      "execution_count": 123,
      "outputs": [
        {
          "output_type": "execute_result",
          "data": {
            "text/plain": [
              "tensor([[ 0, 22],\n",
              "        [22,  2],\n",
              "        [ 2,  2],\n",
              "        [ 2, 20],\n",
              "        [ 0, 17],\n",
              "        [17, 10],\n",
              "        [10, 21],\n",
              "        [21, 24],\n",
              "        [24, 21],\n",
              "        [21, 20]])"
            ]
          },
          "metadata": {},
          "execution_count": 123
        }
      ]
    },
    {
      "cell_type": "code",
      "source": [
        "def forward(xs):\n",
        "  xenc = functional.one_hot(xs, num_classes=vocab_len).float().flatten(start_dim=1)\n",
        "  logits = xenc @ ws\n",
        "  counts = logits.exp()\n",
        "  probs = counts / counts.sum(1, keepdims=True)\n",
        "  outchar = itos[torch.multinomial(probs, num_samples=1).item()]\n",
        "  return outchar\n",
        "\n",
        "def prompt(ins):\n",
        "  out = ins\n",
        "  for char in range(500):\n",
        "    last_two = ins[-2:]\n",
        "    xs = torch.tensor([[stoi[last_two[0]], stoi[last_two[1]]]])\n",
        "    outs = forward(xs)\n",
        "    out += outs\n",
        "  return out\n",
        "\n",
        "prompt(\"Rom\")"
      ],
      "metadata": {
        "colab": {
          "base_uri": "https://localhost:8080/",
          "height": 70
        },
        "id": "koeHicLTt4Os",
        "outputId": "2b44d01b-d80b-432b-a5fe-d23fedc75faf"
      },
      "execution_count": 124,
      "outputs": [
        {
          "output_type": "execute_result",
          "data": {
            "text/plain": [
              "'Romaeailniaw.iaas.ahfaaaeae.eeaaiainb.ceaaaaeaa.aaa.aiiie.oa.eerrasejea.scefen.eeeeiziaiansiaiioaiieaeaeaiiatie.iiiaacaeoyakef.aaf.ageiaaieaooaarxeiaviiei.a.jiiaaexywich.e.iatauex.aak.aiaaea.eiaairiwaiiiza.eaariea.a.iiaaii..iayibuseiaeemi.tia.atyaaa.a.iia.aeaaaieamisi.aais..itabieai.eqyiiaamraaiaweivsf..aieaaieagaameey.yiniiiiiebjwbe.a..eaaa.aaiegee.efieyayagiieyi.weaaareeaia.aieeeeoaiahraraebaaaafaiekaeirmfortaaati.yaiiaaiaa.aezyaeaa.oia.aa..ayiiaaiii..aataaiaiioia..artaoiae.aaaeinieeaacoa.yiaai.i'"
            ],
            "application/vnd.google.colaboratory.intrinsic+json": {
              "type": "string"
            }
          },
          "metadata": {},
          "execution_count": 124
        }
      ]
    },
    {
      "cell_type": "code",
      "source": [
        "# make test set\n",
        "txs, tys = [], []\n",
        "for data in test_set:\n",
        "  for ch1, ch2, ch3 in zip(data, data[1:], data[2:]):\n",
        "    txs.append([stoi[ch1], stoi[ch2]])\n",
        "    tys.append(stoi[ch3])\n",
        "\n",
        "txs = torch.tensor(txs)\n",
        "tys = torch.tensor(tys)\n",
        "tnum = txs.nelement()\n",
        "tnum"
      ],
      "metadata": {
        "id": "E1aCdrq5gMg0",
        "outputId": "472bbae8-f28b-4836-87fe-0a4a093367c4",
        "colab": {
          "base_uri": "https://localhost:8080/"
        }
      },
      "execution_count": 125,
      "outputs": [
        {
          "output_type": "execute_result",
          "data": {
            "text/plain": [
              "39052"
            ]
          },
          "metadata": {},
          "execution_count": 125
        }
      ]
    },
    {
      "cell_type": "code",
      "source": [
        "xenc = functional.one_hot(txs, num_classes=vocab_len).float().flatten(start_dim=1)\n",
        "logits = xenc @ ws\n",
        "counts = logits.exp()\n",
        "probs = counts / counts.sum(1, keepdim=True)\n",
        "loss = -probs[torch.arange(int(tnum / 2)), tys].log().mean() + (ws.mean() * 0.01)\n",
        "print(loss.item())"
      ],
      "metadata": {
        "id": "c2U7N2msgXHI",
        "outputId": "7df103d8-fda3-42ff-aafa-554f5e8a1f9d",
        "colab": {
          "base_uri": "https://localhost:8080/"
        }
      },
      "execution_count": 126,
      "outputs": [
        {
          "output_type": "stream",
          "name": "stdout",
          "text": [
            "2.4852092266082764\n"
          ]
        }
      ]
    },
    {
      "cell_type": "code",
      "source": [
        "# make dev set\n",
        "dxs, dys = [], []\n",
        "for data in dev_set:\n",
        "  for ch1, ch2, ch3 in zip(data, data[1:], data[2:]):\n",
        "    dxs.append([stoi[ch1], stoi[ch2]])\n",
        "    dys.append(stoi[ch3])\n",
        "\n",
        "dxs = torch.tensor(dxs)\n",
        "dys = torch.tensor(dys)\n",
        "dnum = dxs.nelement()\n",
        "dnum"
      ],
      "metadata": {
        "id": "JDMlg63jgiCx",
        "outputId": "44eb23c9-5268-49b1-ba98-faa61efc334a",
        "colab": {
          "base_uri": "https://localhost:8080/"
        }
      },
      "execution_count": 127,
      "outputs": [
        {
          "output_type": "execute_result",
          "data": {
            "text/plain": [
              "38860"
            ]
          },
          "metadata": {},
          "execution_count": 127
        }
      ]
    },
    {
      "cell_type": "code",
      "source": [
        "dxs[:10]"
      ],
      "metadata": {
        "id": "s4BVac8gy-Au",
        "outputId": "b6b14188-6160-4300-aee4-b6f725d0c6d6",
        "colab": {
          "base_uri": "https://localhost:8080/"
        }
      },
      "execution_count": 128,
      "outputs": [
        {
          "output_type": "execute_result",
          "data": {
            "text/plain": [
              "tensor([[ 0, 20],\n",
              "        [20,  2],\n",
              "        [ 2, 11],\n",
              "        [11, 17],\n",
              "        [17,  2],\n",
              "        [ 0, 20],\n",
              "        [20, 18],\n",
              "        [18, 21],\n",
              "        [21, 23],\n",
              "        [23, 22]])"
            ]
          },
          "metadata": {},
          "execution_count": 128
        }
      ]
    },
    {
      "cell_type": "code",
      "source": [
        "xenc = functional.one_hot(dxs, num_classes=vocab_len).float().flatten(start_dim=1)\n",
        "logits = xenc @ ws\n",
        "counts = logits.exp()\n",
        "probs = counts / counts.sum(1, keepdim=True)\n",
        "loss = -probs[torch.arange(int(dnum / 2)), dys].log().mean() + (ws.mean() * 0.01)\n",
        "print(loss.item())"
      ],
      "metadata": {
        "id": "qgB7lKsCgjSe",
        "outputId": "9a2f02e0-f418-49c6-8f9e-236c8559f039",
        "colab": {
          "base_uri": "https://localhost:8080/"
        }
      },
      "execution_count": 129,
      "outputs": [
        {
          "output_type": "stream",
          "name": "stdout",
          "text": [
            "2.4921157360076904\n"
          ]
        }
      ]
    },
    {
      "cell_type": "markdown",
      "source": [
        "Looks like it might be overfitting? The dev set results seem fine, but the test set loss it much higher than it should be."
      ],
      "metadata": {
        "id": "a87DpLMBgrDs"
      }
    },
    {
      "cell_type": "code",
      "source": [
        "ws = torch.randn((vocab_len*2, vocab_len))\n",
        "ws.requires_grad = True\n",
        "ws.shape"
      ],
      "metadata": {
        "colab": {
          "base_uri": "https://localhost:8080/"
        },
        "id": "BSZuKtUTsQlS",
        "outputId": "6c8a2167-c779-40f6-d247-9efb324e0fda"
      },
      "execution_count": 130,
      "outputs": [
        {
          "output_type": "execute_result",
          "data": {
            "text/plain": [
              "torch.Size([54, 27])"
            ]
          },
          "metadata": {},
          "execution_count": 130
        }
      ]
    },
    {
      "cell_type": "code",
      "source": [
        "num_epochs = 100\n",
        "lr = 20\n",
        "regularization = 0.01"
      ],
      "metadata": {
        "id": "CUeGNQeHhCso"
      },
      "execution_count": 131,
      "outputs": []
    },
    {
      "cell_type": "code",
      "source": [
        "last_loss = 2.1\n",
        "\n",
        "for epoch in range(num_epochs):\n",
        "    dxenc = functional.one_hot(dxs, num_classes=vocab_len).float().flatten(start_dim=1)\n",
        "    dlogits = dxenc @ ws\n",
        "    dcounts = dlogits.exp()\n",
        "    dprobs = dcounts / dcounts.sum(1, keepdim=True)\n",
        "    dloss = -dprobs[torch.arange(int(dnum / 2)), dys].log().mean() + (ws.mean() * regularization)\n",
        "    dloss.detach()\n",
        "\n",
        "    xenc = functional.one_hot(xs, num_classes=vocab_len).float().flatten(start_dim=1)\n",
        "    logits = xenc @ ws\n",
        "    counts = logits.exp()\n",
        "    probs = counts / counts.sum(1, keepdim=True)\n",
        "    loss = -probs[torch.arange(int(num / 2)), ys].log().mean() + (ws.mean() * regularization * (abs(last_loss - dloss)))\n",
        "\n",
        "    print(loss.item())\n",
        "    ws.grad = None\n",
        "    loss.backward()\n",
        "    ws.data += ws.grad * -lr\n",
        "\n",
        "    last_loss = loss.item()"
      ],
      "metadata": {
        "id": "RO0WqQUBhGH-",
        "outputId": "cd5939fc-63b5-4736-93d0-437b63a77222",
        "colab": {
          "base_uri": "https://localhost:8080/"
        }
      },
      "execution_count": 132,
      "outputs": [
        {
          "output_type": "stream",
          "name": "stdout",
          "text": [
            "4.039921283721924\n",
            "3.69507098197937\n",
            "3.445436954498291\n",
            "3.2593672275543213\n",
            "3.1189703941345215\n",
            "3.011286497116089\n",
            "2.927229404449463\n",
            "2.860156297683716\n",
            "2.805246591567993\n",
            "2.7592620849609375\n",
            "2.7200984954833984\n",
            "2.6863322257995605\n",
            "2.656931161880493\n",
            "2.6311113834381104\n",
            "2.608255386352539\n",
            "2.5878732204437256\n",
            "2.5695691108703613\n",
            "2.5530240535736084\n",
            "2.537978172302246\n",
            "2.5242178440093994\n",
            "2.511569023132324\n",
            "2.4998884201049805\n",
            "2.489056348800659\n",
            "2.478975296020508\n",
            "2.4695611000061035\n",
            "2.4607443809509277\n",
            "2.4524669647216797\n",
            "2.444676637649536\n",
            "2.437330484390259\n",
            "2.430389881134033\n",
            "2.4238216876983643\n",
            "2.417595863342285\n",
            "2.411686658859253\n",
            "2.4060702323913574\n",
            "2.4007256031036377\n",
            "2.3956332206726074\n",
            "2.3907766342163086\n",
            "2.3861398696899414\n",
            "2.3817079067230225\n",
            "2.3774683475494385\n",
            "2.3734092712402344\n",
            "2.369518995285034\n",
            "2.3657877445220947\n",
            "2.362206220626831\n",
            "2.358765125274658\n",
            "2.3554577827453613\n",
            "2.3522753715515137\n",
            "2.3492119312286377\n",
            "2.3462612628936768\n",
            "2.343416690826416\n",
            "2.340672731399536\n",
            "2.3380253314971924\n",
            "2.3354690074920654\n",
            "2.3329989910125732\n",
            "2.3306117057800293\n",
            "2.3283028602600098\n",
            "2.326068878173828\n",
            "2.323906660079956\n",
            "2.321812629699707\n",
            "2.319783926010132\n",
            "2.3178176879882812\n",
            "2.315911054611206\n",
            "2.3140618801116943\n",
            "2.312267303466797\n",
            "2.310525417327881\n",
            "2.3088340759277344\n",
            "2.3071908950805664\n",
            "2.3055942058563232\n",
            "2.304042100906372\n",
            "2.302532911300659\n",
            "2.30106520652771\n",
            "2.2996366024017334\n",
            "2.2982468605041504\n",
            "2.296893358230591\n",
            "2.2955753803253174\n",
            "2.2942914962768555\n",
            "2.2930402755737305\n",
            "2.291821241378784\n",
            "2.290632486343384\n",
            "2.289473056793213\n",
            "2.288341999053955\n",
            "2.287238597869873\n",
            "2.2861616611480713\n",
            "2.2851102352142334\n",
            "2.284083604812622\n",
            "2.283080577850342\n",
            "2.2821009159088135\n",
            "2.2811436653137207\n",
            "2.280207633972168\n",
            "2.2792928218841553\n",
            "2.278398275375366\n",
            "2.2775230407714844\n",
            "2.2766666412353516\n",
            "2.2758288383483887\n",
            "2.2750089168548584\n",
            "2.2742059230804443\n",
            "2.2734198570251465\n",
            "2.2726495265960693\n",
            "2.271895408630371\n",
            "2.2711563110351562\n"
          ]
        }
      ]
    },
    {
      "cell_type": "code",
      "source": [
        "prompt(\"bro\")"
      ],
      "metadata": {
        "colab": {
          "base_uri": "https://localhost:8080/",
          "height": 70
        },
        "id": "gk1RgGqtr9Gn",
        "outputId": "0b16ce74-33e5-4141-a6c4-a27eefcc05cc"
      },
      "execution_count": 133,
      "outputs": [
        {
          "output_type": "execute_result",
          "data": {
            "text/plain": [
              "'bronynsb.yndn.vnnhs.ghtanlnennnynhndwktns.daekexndkennaa.sslgslnec.e.myrmsyaq..nnus.o.nna..sdsnnikuhsxauewniuhexcanwhnnnxxnnbtn.ngt..tislniten.nax.dcnlcndrnnxnnh.tn.e.hzstvsn.m..smyssb.e.l.lvns.anbnnnnthnnenuen..nqsklssfntrnomn.nhs..enn.frk..nl.nspovdnnscmnno.vnsngy.ydvek.ktneisuense.amnntnlspud.olsranunnzlc.nnrcesdn..mnihvn.nrinasbunxnwh.nnk.qao.enallsc..heon.rsybinrdemndnpn..nhcbi.hsd.zcnsrg.nv.eeenxzde.qd.l.hhratnd.u.p.ennnn.cm.rcnetinhbrnnxs.eynn.nmsnban.nnn.aszlbupmtvalchmrnhvsfnmpewunr.nynepn'"
            ],
            "application/vnd.google.colaboratory.intrinsic+json": {
              "type": "string"
            }
          },
          "metadata": {},
          "execution_count": 133
        }
      ]
    },
    {
      "cell_type": "markdown",
      "source": [
        "Idk, maybe? I've definitely screwed something up here but I have no idea what"
      ],
      "metadata": {
        "id": "ZIRWfgXmsdyV"
      }
    },
    {
      "cell_type": "code",
      "source": [
        "num_epochs = 100\n",
        "lr = 20\n",
        "regularization = 0.1"
      ],
      "metadata": {
        "id": "MHg5sbrru2_D"
      },
      "execution_count": 134,
      "outputs": []
    },
    {
      "cell_type": "code",
      "source": [
        "ws = torch.randn((vocab_len*2, vocab_len))\n",
        "ws.requires_grad = True\n",
        "ws.shape"
      ],
      "metadata": {
        "id": "IX2pJYM1u7kb",
        "outputId": "cd9e332a-4422-4884-9d82-3e62926b406d",
        "colab": {
          "base_uri": "https://localhost:8080/"
        }
      },
      "execution_count": 135,
      "outputs": [
        {
          "output_type": "execute_result",
          "data": {
            "text/plain": [
              "torch.Size([54, 27])"
            ]
          },
          "metadata": {},
          "execution_count": 135
        }
      ]
    },
    {
      "cell_type": "code",
      "source": [
        "for epoch in range(num_epochs):\n",
        "\n",
        "    xenc = functional.one_hot(xs, num_classes=vocab_len).float().flatten(start_dim=1)\n",
        "    logits = xenc @ ws\n",
        "    counts = logits.exp()\n",
        "    probs = counts / counts.sum(1, keepdim=True)\n",
        "    loss = -probs[torch.arange(int(num / 2)), ys].log().mean() + (ws.mean() * regularization)\n",
        "\n",
        "    print(loss.item())\n",
        "    ws.grad = None\n",
        "    loss.backward()\n",
        "    ws.data += ws.grad * -lr\n",
        "\n"
      ],
      "metadata": {
        "id": "hM5UbVbwu-E4",
        "outputId": "3e0f2bf0-438d-4d01-a492-a75555a4e352",
        "colab": {
          "base_uri": "https://localhost:8080/"
        }
      },
      "execution_count": 136,
      "outputs": [
        {
          "output_type": "stream",
          "name": "stdout",
          "text": [
            "4.264211654663086\n",
            "3.8671412467956543\n",
            "3.5927422046661377\n",
            "3.397332191467285\n",
            "3.2511322498321533\n",
            "3.133908748626709\n",
            "3.0365138053894043\n",
            "2.9548227787017822\n",
            "2.8860952854156494\n",
            "2.828001022338867\n",
            "2.7785120010375977\n",
            "2.7359535694122314\n",
            "2.699002742767334\n",
            "2.6666228771209717\n",
            "2.6380109786987305\n",
            "2.6125473976135254\n",
            "2.589751958847046\n",
            "2.5692529678344727\n",
            "2.5507547855377197\n",
            "2.534013032913208\n",
            "2.5188217163085938\n",
            "2.504999876022339\n",
            "2.4923877716064453\n",
            "2.480842113494873\n",
            "2.470235824584961\n",
            "2.460456609725952\n",
            "2.451406717300415\n",
            "2.4429991245269775\n",
            "2.4351601600646973\n",
            "2.427825927734375\n",
            "2.4209413528442383\n",
            "2.414458990097046\n",
            "2.4083385467529297\n",
            "2.402545213699341\n",
            "2.397048234939575\n",
            "2.3918216228485107\n",
            "2.386842727661133\n",
            "2.3820910453796387\n",
            "2.377549171447754\n",
            "2.373201608657837\n",
            "2.3690342903137207\n",
            "2.3650355339050293\n",
            "2.3611934185028076\n",
            "2.3574981689453125\n",
            "2.3539414405822754\n",
            "2.3505144119262695\n",
            "2.347210645675659\n",
            "2.344022274017334\n",
            "2.3409435749053955\n",
            "2.3379690647125244\n",
            "2.3350934982299805\n",
            "2.332310914993286\n",
            "2.329618453979492\n",
            "2.3270111083984375\n",
            "2.3244845867156982\n",
            "2.322035551071167\n",
            "2.3196611404418945\n",
            "2.317356824874878\n",
            "2.3151206970214844\n",
            "2.3129498958587646\n",
            "2.310840368270874\n",
            "2.308790922164917\n",
            "2.3067989349365234\n",
            "2.304861307144165\n",
            "2.302976608276367\n",
            "2.301142454147339\n",
            "2.299356698989868\n",
            "2.2976181507110596\n",
            "2.295924186706543\n",
            "2.2942731380462646\n",
            "2.292663812637329\n",
            "2.2910945415496826\n",
            "2.2895636558532715\n",
            "2.288069486618042\n",
            "2.2866103649139404\n",
            "2.285186290740967\n",
            "2.283795118331909\n",
            "2.282435178756714\n",
            "2.2811059951782227\n",
            "2.279806613922119\n",
            "2.278535842895508\n",
            "2.277291774749756\n",
            "2.2760748863220215\n",
            "2.2748827934265137\n",
            "2.2737159729003906\n",
            "2.2725725173950195\n",
            "2.2714521884918213\n",
            "2.2703542709350586\n",
            "2.269277334213257\n",
            "2.268221378326416\n",
            "2.2671854496002197\n",
            "2.2661688327789307\n",
            "2.2651708126068115\n",
            "2.264191150665283\n",
            "2.2632291316986084\n",
            "2.2622838020324707\n",
            "2.261355400085449\n",
            "2.2604424953460693\n",
            "2.25954532623291\n",
            "2.2586631774902344\n"
          ]
        }
      ]
    },
    {
      "cell_type": "code",
      "source": [
        "prompt('em')"
      ],
      "metadata": {
        "id": "ZClo7x4HvGb3",
        "outputId": "c46c15dc-5959-4625-a0e6-a61ca8abe43e",
        "colab": {
          "base_uri": "https://localhost:8080/",
          "height": 70
        }
      },
      "execution_count": 137,
      "outputs": [
        {
          "output_type": "execute_result",
          "data": {
            "text/plain": [
              "'emmy.nnh.a.aa.ayeiq.iaa.iiak.a.eyaa.yipaiisiyyg.yooaaaiq.a.ayaai.aaaa.aia.gmdieaamxe.ih..ghdm..egi.ialaajiy.a..e.zayzamirdiaam.a.eay.aiqaigoaiaaapaaadgaaa.taiimaam.ai..sisi.uiiqoiayaiiai.wia..ai..amiaaa.ermaaeaooo.aaaqaa..ay.i.e.a.i.iuaa.iiysyasmdeiaiyiaoiediaaaiaay.ayxa.a.eaiima.ie.r.a.ekiai.caiaao.i.adeiy.cca.i..impaarayeraim.maaamx.ismsn.waoge.eikgxaaegi.aao..d..ai.a.airsaayoeaa.i.aoazig.oliim.eiiai.a.as.lhyiiayinaae.aaapa.eiipqikoi..giaiaaai.aegi.aiaimoaiann.ahmiemadkiaeiam.eaia.n.simamaiaylia'"
            ],
            "application/vnd.google.colaboratory.intrinsic+json": {
              "type": "string"
            }
          },
          "metadata": {},
          "execution_count": 137
        }
      ]
    },
    {
      "cell_type": "markdown",
      "source": [
        "Okay this seems promising..."
      ],
      "metadata": {
        "id": "O4H4ywYCvOKR"
      }
    },
    {
      "cell_type": "markdown",
      "source": [
        "aeoioa, vim, esiaota, aipe, seto, and ioa are all decent"
      ],
      "metadata": {
        "id": "I8TJJVFIvkK7"
      }
    },
    {
      "cell_type": "code",
      "source": [
        "prompt('em')"
      ],
      "metadata": {
        "id": "bio5Ksp1v6ES",
        "outputId": "a458418a-15b5-4a38-a1b3-d904c0b8200d",
        "colab": {
          "base_uri": "https://localhost:8080/",
          "height": 70
        }
      },
      "execution_count": 138,
      "outputs": [
        {
          "output_type": "execute_result",
          "data": {
            "text/plain": [
              "'emad.igtasa.yeeex.okosaa.eqaaaaaaeaa.i.r.imieiaia.cbaaeiiigl.as.iilaiakmd.ey.rii.eac..ipadiaamicamamiiea.poripceidiiaoaemasayimy.iiaaa.m.aaq.isiie.rmu.aa.ileekio.dmm.a..kcim..omaa.yakx.aaaigraaozsay.aaet..aeym.yapiisa.egaiz.e.yigaoitkieoipiski.axa.i.gikaiaa.aiee.m.m.y.mg.mieiam.g.wyaaia.mci.eapethmqatpdciyiaa.yiaoaaayiiomraqiyiaaad...a.sakyamdiiaiiediayiyu..oaiei.ke.r..a.aia.teairiire.ayiraya.ziiiiaioaegisime.amy.aoi.yeaiyiicii.y.lianieairaariaiidyyla.aaoihea.iaiiyeaeiaaikgeemma.jaeim.zpka.yoa.gle'"
            ],
            "application/vnd.google.colaboratory.intrinsic+json": {
              "type": "string"
            }
          },
          "metadata": {},
          "execution_count": 138
        }
      ]
    },
    {
      "cell_type": "code",
      "source": [
        "ws = torch.randn((vocab_len*2, vocab_len))\n",
        "ws.requires_grad = True\n",
        "ws.shape"
      ],
      "metadata": {
        "id": "IaAESdxwvSkc",
        "outputId": "e984d611-88bd-4cd6-89a9-16239693b7c1",
        "colab": {
          "base_uri": "https://localhost:8080/"
        }
      },
      "execution_count": 139,
      "outputs": [
        {
          "output_type": "execute_result",
          "data": {
            "text/plain": [
              "torch.Size([54, 27])"
            ]
          },
          "metadata": {},
          "execution_count": 139
        }
      ]
    },
    {
      "cell_type": "code",
      "source": [
        "prompt('em')"
      ],
      "metadata": {
        "id": "qzEmPN-CvWQS",
        "outputId": "debcfc6c-f912-46d1-8e5d-5f0f7a868730",
        "colab": {
          "base_uri": "https://localhost:8080/",
          "height": 70
        }
      },
      "execution_count": 140,
      "outputs": [
        {
          "output_type": "execute_result",
          "data": {
            "text/plain": [
              "'emuill..w.fjau..xaxul.alxiaa.txli.xylqj..ip.ii..ilixa.uxxlaxa.xiray..i.jx.ufi.aixxailluuailyi..plx..xpa.xxuxlloxy.i.atilaat.r.xfi..slaauxvxili.li.l.ltaiauiza.ilyuufbu.iiaxxxigxiaxsxuiauxiiaa..xaxarxarxclkn..i.lnuiiaiaarabxa.ulxpau.xxxx.usulxiuiii.i.xiu.x.lxau.ukykuxal..b.lraxxaq..iuia.xpux.lxxyf.fx.xrupi.lpa..z.iiplxlfl.xi.pulxluqx.xxxxa.iiax.brlaluu.xxxaupi.fv.auitl..kxpugiaxxxlixllaxall..wa.a..bkal.luxwkux.u.kuy.vixlzaxlf..uf.fpax.lixixxia.izlixxaia.x.uvxaa.xsxxalva..ua.pur.f.eulxm.uialilx.iuxaa'"
            ],
            "application/vnd.google.colaboratory.intrinsic+json": {
              "type": "string"
            }
          },
          "metadata": {},
          "execution_count": 140
        }
      ]
    },
    {
      "cell_type": "markdown",
      "source": [
        "There's definitely some improvement over base randomness sometimes, but for others, it sucks"
      ],
      "metadata": {
        "id": "lyoJKsxqvYrc"
      }
    },
    {
      "cell_type": "code",
      "source": [
        "regularization = 0.05"
      ],
      "metadata": {
        "id": "yaJJZiT20qgB"
      },
      "execution_count": 141,
      "outputs": []
    },
    {
      "cell_type": "code",
      "source": [
        "\n",
        "\n",
        "for epoch in range(num_epochs):\n",
        "    dxenc = functional.one_hot(dxs, num_classes=vocab_len).float().flatten(start_dim=1)\n",
        "    dlogits = dxenc @ ws\n",
        "    dcounts = dlogits.exp()\n",
        "    dprobs = dcounts / dcounts.sum(1, keepdim=True)\n",
        "    dloss = -dprobs[torch.arange(int(dnum / 2)), dys].log().mean() + (ws.mean() * regularization)\n",
        "    dloss.detach()\n",
        "\n",
        "    xenc = functional.one_hot(xs, num_classes=vocab_len).float().flatten(start_dim=1)\n",
        "    logits = xenc @ ws\n",
        "    counts = logits.exp()\n",
        "    probs = counts / counts.sum(1, keepdim=True)\n",
        "    loss = -probs[torch.arange(int(num / 2)), ys].log().mean() + (ws.mean() * regularization)\n",
        "\n",
        "    print(loss.item(), dloss.item())\n",
        "    ws.grad = None\n",
        "    loss.backward()\n",
        "    ws.data += ws.grad * -lr\n"
      ],
      "metadata": {
        "id": "qnpHZsoiwRMz",
        "outputId": "064cf3f4-0224-4bff-f11a-9f21da7b69e8",
        "colab": {
          "base_uri": "https://localhost:8080/"
        }
      },
      "execution_count": 142,
      "outputs": [
        {
          "output_type": "stream",
          "name": "stdout",
          "text": [
            "4.240062713623047 4.196844100952148\n",
            "3.829982280731201 3.853170871734619\n",
            "3.539628744125366 3.6119472980499268\n",
            "3.3373332023620605 3.4443278312683105\n",
            "3.1902883052825928 3.3221781253814697\n",
            "3.0764071941375732 3.227492094039917\n",
            "2.9851863384246826 3.1519126892089844\n",
            "2.910688877105713 3.090407609939575\n",
            "2.8488216400146484 3.039299249649048\n",
            "2.7967019081115723 2.9959874153137207\n",
            "2.752281904220581 2.958686113357544\n",
            "2.714054822921753 2.9261474609375\n",
            "2.6808691024780273 2.897465229034424\n",
            "2.6518216133117676 2.871958017349243\n",
            "2.6261940002441406 2.8490965366363525\n",
            "2.603412389755249 2.8284668922424316\n",
            "2.5830161571502686 2.8097376823425293\n",
            "2.564634323120117 2.79264235496521\n",
            "2.5479681491851807 2.7769646644592285\n",
            "2.5327744483947754 2.7625274658203125\n",
            "2.5188560485839844 2.749183416366577\n",
            "2.5060503482818604 2.736809492111206\n",
            "2.494222402572632 2.72530198097229\n",
            "2.483260154724121 2.7145729064941406\n",
            "2.4730687141418457 2.704545259475708\n",
            "2.463567018508911 2.6951537132263184\n",
            "2.4546873569488525 2.686340570449829\n",
            "2.4463682174682617 2.6780548095703125\n",
            "2.43855881690979 2.6702516078948975\n",
            "2.431213855743408 2.6628904342651367\n",
            "2.424293041229248 2.6559367179870605\n",
            "2.4177610874176025 2.649358034133911\n",
            "2.4115867614746094 2.6431260108947754\n",
            "2.4057414531707764 2.6372146606445312\n",
            "2.4002010822296143 2.631601095199585\n",
            "2.394942283630371 2.62626314163208\n",
            "2.3899450302124023 2.621183156967163\n",
            "2.385190725326538 2.616342782974243\n",
            "2.3806631565093994 2.6117255687713623\n",
            "2.3763458728790283 2.6073179244995117\n",
            "2.3722264766693115 2.6031064987182617\n",
            "2.368290901184082 2.5990781784057617\n",
            "2.3645284175872803 2.595221757888794\n",
            "2.3609280586242676 2.5915274620056152\n",
            "2.357480049133301 2.5879852771759033\n",
            "2.3541741371154785 2.584585428237915\n",
            "2.3510026931762695 2.5813205242156982\n",
            "2.3479580879211426 2.5781822204589844\n",
            "2.345032215118408 2.5751636028289795\n",
            "2.342219114303589 2.5722575187683105\n",
            "2.3395118713378906 2.569458246231079\n",
            "2.336904287338257 2.5667595863342285\n",
            "2.3343913555145264 2.5641560554504395\n",
            "2.331967830657959 2.5616424083709717\n",
            "2.3296289443969727 2.5592141151428223\n",
            "2.3273699283599854 2.55686616897583\n",
            "2.3251872062683105 2.554595470428467\n",
            "2.3230762481689453 2.552396535873413\n",
            "2.321033477783203 2.550266981124878\n",
            "2.3190555572509766 2.5482027530670166\n",
            "2.317139148712158 2.54620099067688\n",
            "2.315281391143799 2.5442583560943604\n",
            "2.31347918510437 2.542371988296509\n",
            "2.3117306232452393 2.5405399799346924\n",
            "2.310032367706299 2.5387589931488037\n",
            "2.308382272720337 2.5370266437530518\n",
            "2.3067784309387207 2.5353410243988037\n",
            "2.3052186965942383 2.5336999893188477\n",
            "2.303701162338257 2.532102346420288\n",
            "2.3022239208221436 2.530545473098755\n",
            "2.3007850646972656 2.5290274620056152\n",
            "2.2993826866149902 2.5275473594665527\n",
            "2.298016309738159 2.5261032581329346\n",
            "2.2966840267181396 2.524693727493286\n",
            "2.295384168624878 2.523317575454712\n",
            "2.2941160202026367 2.5219736099243164\n",
            "2.2928779125213623 2.520660400390625\n",
            "2.29166841506958 2.519376516342163\n",
            "2.2904868125915527 2.5181212425231934\n",
            "2.289332151412964 2.5168938636779785\n",
            "2.288203477859497 2.515692949295044\n",
            "2.287100076675415 2.5145180225372314\n",
            "2.286020517349243 2.513366937637329\n",
            "2.284964084625244 2.5122411251068115\n",
            "2.2839303016662598 2.5111374855041504\n",
            "2.2829179763793945 2.510056495666504\n",
            "2.2819271087646484 2.5089972019195557\n",
            "2.280956268310547 2.5079591274261475\n",
            "2.2800049781799316 2.506941318511963\n",
            "2.2790727615356445 2.5059428215026855\n",
            "2.278158664703369 2.5049641132354736\n",
            "2.2772626876831055 2.5040032863616943\n",
            "2.276383876800537 2.503061056137085\n",
            "2.275521755218506 2.50213623046875\n",
            "2.2746760845184326 2.501227855682373\n",
            "2.27384614944458 2.5003364086151123\n",
            "2.273031234741211 2.4994609355926514\n",
            "2.272231340408325 2.498600482940674\n",
            "2.2714459896087646 2.497756004333496\n",
            "2.270674467086792 2.4969255924224854\n"
          ]
        }
      ]
    },
    {
      "cell_type": "code",
      "source": [
        "dxs[:10]"
      ],
      "metadata": {
        "id": "eMh3jc3Vwt4O",
        "outputId": "82a845e4-7373-45c7-ecfc-2f1912a48b4d",
        "colab": {
          "base_uri": "https://localhost:8080/"
        }
      },
      "execution_count": 143,
      "outputs": [
        {
          "output_type": "execute_result",
          "data": {
            "text/plain": [
              "tensor([[ 0, 20],\n",
              "        [20,  2],\n",
              "        [ 2, 11],\n",
              "        [11, 17],\n",
              "        [17,  2],\n",
              "        [ 0, 20],\n",
              "        [20, 18],\n",
              "        [18, 21],\n",
              "        [21, 23],\n",
              "        [23, 22]])"
            ]
          },
          "metadata": {},
          "execution_count": 143
        }
      ]
    },
    {
      "cell_type": "code",
      "source": [
        "xs[:10]"
      ],
      "metadata": {
        "id": "Day0lbW8wv9e",
        "outputId": "2f21f967-f791-439c-9063-5e2ada67375b",
        "colab": {
          "base_uri": "https://localhost:8080/"
        }
      },
      "execution_count": 144,
      "outputs": [
        {
          "output_type": "execute_result",
          "data": {
            "text/plain": [
              "tensor([[ 0, 22],\n",
              "        [22,  2],\n",
              "        [ 2,  2],\n",
              "        [ 2, 20],\n",
              "        [ 0, 17],\n",
              "        [17, 10],\n",
              "        [10, 21],\n",
              "        [21, 24],\n",
              "        [24, 21],\n",
              "        [21, 20]])"
            ]
          },
          "metadata": {},
          "execution_count": 144
        }
      ]
    },
    {
      "cell_type": "code",
      "source": [
        "prompt(\"em\")"
      ],
      "metadata": {
        "id": "2OSIHSsg0yfQ",
        "outputId": "c897c50a-4658-450b-9efd-397583e0f849",
        "colab": {
          "base_uri": "https://localhost:8080/",
          "height": 70
        }
      },
      "execution_count": 145,
      "outputs": [
        {
          "output_type": "execute_result",
          "data": {
            "text/plain": [
              "'emadwmlesr.nie.sirbia.emaaexialio.yaa.eaufyeaieeawyomaios.yakga.a.iiaalyio..iaaaaaaje.ii.aqoniae.eiai..ximiaiaa..yoeaa.aeiiuaha.a.eoa.aea.yeaiaiv.lyexeiayaidoy.a..pi..vaigiiigi..aaiyapii.aie..giaeeba.aayamiamaiiigiiika.iiyza.i.a.iaaoiian.a.a.sieauzigi.iienlieyuie.ay.aiagaz..y.a.eaa.aiaaoiyaaiiisib.pm.uamia.oaeyb.ieainyiymaapa..fi.oieiiaaaace.aeaiaiif...aie.aiia.sia.aseaga.pmai.otiaegaaye.aiyaymie.amia.caa.s.lli.aemgaa.iai..yyaiiepaeimiimoaaa...io.ak.siomaaia.ai.iely.ssiiiia.i.ltgriii.h.iaadeeijain'"
            ],
            "application/vnd.google.colaboratory.intrinsic+json": {
              "type": "string"
            }
          },
          "metadata": {},
          "execution_count": 145
        }
      ]
    },
    {
      "cell_type": "markdown",
      "source": [
        "High regularization results in a fairly large disparity between normal and dev sets, but it seems to produce better results in odd cases"
      ],
      "metadata": {
        "id": "uPN4Ni4x08Ov"
      }
    },
    {
      "cell_type": "code",
      "source": [
        "xenc = functional.one_hot(txs, num_classes=vocab_len).float().flatten(start_dim=1)\n",
        "logits = xenc @ ws\n",
        "counts = logits.exp()\n",
        "probs = counts / counts.sum(1, keepdim=True)\n",
        "\n",
        "loss = -probs[torch.arange(int(tnum/2)), tys].log().mean()\n",
        "loss"
      ],
      "metadata": {
        "id": "9S2st9d12btC",
        "outputId": "1d2c494b-4174-45f0-c6df-9cb148502290",
        "colab": {
          "base_uri": "https://localhost:8080/"
        }
      },
      "execution_count": 146,
      "outputs": [
        {
          "output_type": "execute_result",
          "data": {
            "text/plain": [
              "tensor(2.4995, grad_fn=<NegBackward0>)"
            ]
          },
          "metadata": {},
          "execution_count": 146
        }
      ]
    },
    {
      "cell_type": "code",
      "source": [
        "ws.shape"
      ],
      "metadata": {
        "id": "_qYAO9Y-3ir1",
        "outputId": "eca93575-3b30-4450-e42b-3213342a57ed",
        "colab": {
          "base_uri": "https://localhost:8080/"
        }
      },
      "execution_count": 147,
      "outputs": [
        {
          "output_type": "execute_result",
          "data": {
            "text/plain": [
              "torch.Size([54, 27])"
            ]
          },
          "metadata": {},
          "execution_count": 147
        }
      ]
    },
    {
      "cell_type": "markdown",
      "source": [
        "Wait"
      ],
      "metadata": {
        "id": "bk24801t4ojs"
      }
    },
    {
      "cell_type": "code",
      "source": [
        "ws = torch.randn((vocab_len, vocab_len, vocab_len))\n",
        "ws.requires_grad = True\n",
        "ws.shape"
      ],
      "metadata": {
        "id": "tdx_fv444Wj1",
        "outputId": "b036def6-86ca-4338-bc38-8cb68ab2a85a",
        "colab": {
          "base_uri": "https://localhost:8080/"
        }
      },
      "execution_count": 148,
      "outputs": [
        {
          "output_type": "execute_result",
          "data": {
            "text/plain": [
              "torch.Size([27, 27, 27])"
            ]
          },
          "metadata": {},
          "execution_count": 148
        }
      ]
    },
    {
      "cell_type": "code",
      "source": [
        "xenc = functional.one_hot(xs, num_classes=vocab_len).float()\n",
        "xenc.shape"
      ],
      "metadata": {
        "id": "JqWmw4sO7TBK",
        "outputId": "a18b1521-53b0-4176-e924-a03573938657",
        "colab": {
          "base_uri": "https://localhost:8080/"
        }
      },
      "execution_count": 149,
      "outputs": [
        {
          "output_type": "execute_result",
          "data": {
            "text/plain": [
              "torch.Size([157152, 2, 27])"
            ]
          },
          "metadata": {},
          "execution_count": 149
        }
      ]
    },
    {
      "cell_type": "code",
      "source": [
        "xenc[0].shape"
      ],
      "metadata": {
        "id": "KUb7U1De7PEh",
        "outputId": "3f0d8846-30d3-4dd8-ea90-f5025c55b80f",
        "colab": {
          "base_uri": "https://localhost:8080/"
        }
      },
      "execution_count": 150,
      "outputs": [
        {
          "output_type": "execute_result",
          "data": {
            "text/plain": [
              "torch.Size([2, 27])"
            ]
          },
          "metadata": {},
          "execution_count": 150
        }
      ]
    },
    {
      "cell_type": "code",
      "source": [
        "(xenc[0] @ ws).shape"
      ],
      "metadata": {
        "id": "TNAtYUfz4q7C",
        "outputId": "ef292c22-8200-4da3-c844-cd4dee733ef1",
        "colab": {
          "base_uri": "https://localhost:8080/"
        }
      },
      "execution_count": 151,
      "outputs": [
        {
          "output_type": "execute_result",
          "data": {
            "text/plain": [
              "torch.Size([27, 2, 27])"
            ]
          },
          "metadata": {},
          "execution_count": 151
        }
      ]
    },
    {
      "cell_type": "markdown",
      "source": [
        "Holup, gotta learn matrix multiplication again, it's hard being a 3 dimensional being trying to comprehend 700 dimensional math"
      ],
      "metadata": {
        "id": "NG7SpWUw_Psd"
      }
    },
    {
      "cell_type": "code",
      "source": [
        "2 + 9 + 25"
      ],
      "metadata": {
        "id": "lxtxpM6BWa83",
        "outputId": "6c5b2a1e-14b3-45a1-d47b-309eacabe108",
        "colab": {
          "base_uri": "https://localhost:8080/"
        }
      },
      "execution_count": 152,
      "outputs": [
        {
          "output_type": "execute_result",
          "data": {
            "text/plain": [
              "36"
            ]
          },
          "metadata": {},
          "execution_count": 152
        }
      ]
    },
    {
      "cell_type": "code",
      "source": [
        "a = torch.tensor([[2, 8, 3],\n",
        "                 [5, 4, 1]])\n",
        "\n",
        "b = torch.tensor([[4, 1],\n",
        "                 [6, 3],\n",
        "                 [2, 4]])\n",
        "# each row/column is an n tuple\n",
        "# dot product of (a, b), (c, d) is a*b + c*d\n",
        "\n",
        "a @ b\n"
      ],
      "metadata": {
        "id": "SVVuBLq2Qs1F",
        "outputId": "d97fab1b-93a3-47f6-b35c-ae696154d3f0",
        "colab": {
          "base_uri": "https://localhost:8080/"
        }
      },
      "execution_count": 153,
      "outputs": [
        {
          "output_type": "execute_result",
          "data": {
            "text/plain": [
              "tensor([[62, 38],\n",
              "        [46, 21]])"
            ]
          },
          "metadata": {},
          "execution_count": 153
        }
      ]
    },
    {
      "cell_type": "code",
      "source": [
        "inputs = torch.randn((2)) # inputs transposed?\n",
        "print(inputs)\n",
        "\n",
        "\n",
        "w1 = torch.randn((2, 1))  # (num in prev, num in target)\n",
        "print(w1)\n",
        "inputs @ w1"
      ],
      "metadata": {
        "id": "vupgnbkQY91p",
        "outputId": "173f1afe-f347-4c38-96cd-5b7f43b23609",
        "colab": {
          "base_uri": "https://localhost:8080/"
        }
      },
      "execution_count": 154,
      "outputs": [
        {
          "output_type": "stream",
          "name": "stdout",
          "text": [
            "tensor([-0.0658,  0.4113])\n",
            "tensor([[0.8495],\n",
            "        [0.4958]])\n"
          ]
        },
        {
          "output_type": "execute_result",
          "data": {
            "text/plain": [
              "tensor([0.1480])"
            ]
          },
          "metadata": {},
          "execution_count": 154
        }
      ]
    },
    {
      "cell_type": "code",
      "source": [
        "inputs = torch.randn(10) # 10 inputs (same as randn(1, 10))\n",
        "\n",
        "w1 = torch.randn(10, 3) # takes in 10, goes to 3 neurons\n",
        "w2 = torch.randn(3, 8) # holy moly this is so easy bruh i was overcomplicating it\n",
        "w3 = torch.randn(8, 1) # take in 8, to 1 neuron\n",
        "\n",
        "wi1 = inputs @ w1\n",
        "wi2 = wi1 @ w2\n",
        "wi3 = wi2 @ w3\n",
        "wi3"
      ],
      "metadata": {
        "id": "fLHN1xNSa7G_",
        "outputId": "12e54022-776e-4268-a6a0-ae8403c6afca",
        "colab": {
          "base_uri": "https://localhost:8080/"
        }
      },
      "execution_count": 155,
      "outputs": [
        {
          "output_type": "execute_result",
          "data": {
            "text/plain": [
              "tensor([-15.0408])"
            ]
          },
          "metadata": {},
          "execution_count": 155
        }
      ]
    },
    {
      "cell_type": "code",
      "source": [
        "xenc[0].shape"
      ],
      "metadata": {
        "id": "8_W2R0BkbvfM",
        "outputId": "17bfd1e7-3d30-4d69-9d4d-52e902557b20",
        "colab": {
          "base_uri": "https://localhost:8080/"
        }
      },
      "execution_count": 156,
      "outputs": [
        {
          "output_type": "execute_result",
          "data": {
            "text/plain": [
              "torch.Size([2, 27])"
            ]
          },
          "metadata": {},
          "execution_count": 156
        }
      ]
    },
    {
      "cell_type": "code",
      "source": [
        "xenc[0] @ torch.randn(27, vocab_len)"
      ],
      "metadata": {
        "id": "p3lgloC5b9aL",
        "outputId": "ba30e450-1001-46f4-f8cc-234d540f0a03",
        "colab": {
          "base_uri": "https://localhost:8080/"
        }
      },
      "execution_count": 157,
      "outputs": [
        {
          "output_type": "execute_result",
          "data": {
            "text/plain": [
              "tensor([[ 1.0453, -0.6560, -0.2914, -0.2650, -0.5257,  0.1919, -0.5012, -0.9533,\n",
              "          2.4707, -0.4729, -1.8837, -2.3957, -0.9601, -0.0288, -0.2552, -0.4242,\n",
              "         -0.7089,  0.8960,  2.2341,  0.2556,  0.4734, -0.8018, -0.7373,  0.0290,\n",
              "          0.6066,  0.3971, -0.6067],\n",
              "        [-0.7906, -1.4233,  0.9381, -0.2078, -0.6279,  0.6031, -0.1861,  0.7809,\n",
              "          0.1411,  1.6500, -0.2014, -0.1855,  0.8052,  0.2001,  0.8525, -0.2062,\n",
              "         -0.1582, -0.1472, -0.5068, -0.4175,  1.1444, -1.0875, -1.0663,  0.6578,\n",
              "         -1.2933, -2.1694,  0.8118]])"
            ]
          },
          "metadata": {},
          "execution_count": 157
        }
      ]
    },
    {
      "cell_type": "markdown",
      "source": [
        "ok maybe I wasn't as wrong as I thought. Other people might just be counting each individual trigram and doing a one_hot with num_classes as 27*27, while I just had a 'two-hot' tensor with the shape of (1, 54)."
      ],
      "metadata": {
        "id": "aGQU4JN8cSL8"
      }
    },
    {
      "cell_type": "code",
      "source": [
        "# make dataset\n",
        "xs, ys = [], []\n",
        "for data in train_set:\n",
        "  for ch1, ch2, ch3 in zip(data, data[1:], data[2:]):\n",
        "    xs.append([stoi[ch1], stoi[ch2]])\n",
        "    ys.append(stoi[ch3])\n",
        "\n",
        "xs = torch.tensor(xs)\n",
        "ys = torch.tensor(ys)\n",
        "num = xs.nelement()\n",
        "num"
      ],
      "metadata": {
        "id": "7jqJT6NZf5F4",
        "outputId": "39b845fa-20bb-4833-b923-964dafe0f531",
        "colab": {
          "base_uri": "https://localhost:8080/"
        }
      },
      "execution_count": 158,
      "outputs": [
        {
          "output_type": "execute_result",
          "data": {
            "text/plain": [
              "314304"
            ]
          },
          "metadata": {},
          "execution_count": 158
        }
      ]
    },
    {
      "cell_type": "code",
      "source": [
        "xs[:10]"
      ],
      "metadata": {
        "id": "9_OdPunjdCOb",
        "outputId": "80a2c55d-7851-4435-e887-bdea203e9fcd",
        "colab": {
          "base_uri": "https://localhost:8080/"
        }
      },
      "execution_count": 159,
      "outputs": [
        {
          "output_type": "execute_result",
          "data": {
            "text/plain": [
              "tensor([[ 0, 22],\n",
              "        [22,  2],\n",
              "        [ 2,  2],\n",
              "        [ 2, 20],\n",
              "        [ 0, 17],\n",
              "        [17, 10],\n",
              "        [10, 21],\n",
              "        [21, 24],\n",
              "        [24, 21],\n",
              "        [21, 20]])"
            ]
          },
          "metadata": {},
          "execution_count": 159
        }
      ]
    },
    {
      "cell_type": "code",
      "source": [
        "xenc = functional.one_hot(xs, num_classes=27).float().flatten(start_dim=1)"
      ],
      "metadata": {
        "id": "6TGIFPgcOi7o"
      },
      "execution_count": 160,
      "outputs": []
    },
    {
      "cell_type": "code",
      "source": [
        "lr = 10\n",
        "num_epochs = 1000"
      ],
      "metadata": {
        "id": "t_bmAsWsQn40"
      },
      "execution_count": 161,
      "outputs": []
    },
    {
      "cell_type": "code",
      "source": [
        "ws = torch.randn(vocab_len*2, vocab_len)\n",
        "ws.requires_grad = True\n",
        "\n",
        "for epoch in range(num_epochs):\n",
        "  logits = xenc @ ws\n",
        "  counts = logits.exp()\n",
        "  probs = counts / counts.sum(1, keepdim=True)\n",
        "\n",
        "  loss = -probs[torch.arange(xs.nelement() // 2), ys].log().mean()\n",
        "\n",
        "  ws.grad = None\n",
        "  loss.backward()\n",
        "  ws.data -= ws.grad * lr\n",
        "  if epoch % 10 == 0:\n",
        "    print(loss.item())"
      ],
      "metadata": {
        "id": "Hr0YgCjvhzV-",
        "outputId": "600198c9-d4d1-4cd2-fd10-8debc9864c2a",
        "colab": {
          "base_uri": "https://localhost:8080/"
        }
      },
      "execution_count": 162,
      "outputs": [
        {
          "output_type": "stream",
          "name": "stdout",
          "text": [
            "4.188051223754883\n",
            "3.0435733795166016\n",
            "2.741241455078125\n",
            "2.598267078399658\n",
            "2.515678882598877\n",
            "2.4618256092071533\n",
            "2.423388719558716\n",
            "2.3943471908569336\n",
            "2.371595621109009\n",
            "2.353297233581543\n",
            "2.338268995285034\n",
            "2.325711250305176\n",
            "2.315065860748291\n",
            "2.3059334754943848\n",
            "2.2980234622955322\n",
            "2.2911183834075928\n",
            "2.2850520610809326\n",
            "2.2796928882598877\n",
            "2.2749359607696533\n",
            "2.2706947326660156\n",
            "2.266896963119507\n",
            "2.2634823322296143\n",
            "2.26039981842041\n",
            "2.25760555267334\n",
            "2.2550625801086426\n",
            "2.2527389526367188\n",
            "2.250608205795288\n",
            "2.2486462593078613\n",
            "2.2468340396881104\n",
            "2.2451536655426025\n",
            "2.2435905933380127\n",
            "2.2421317100524902\n",
            "2.240767002105713\n",
            "2.2394862174987793\n",
            "2.23828125\n",
            "2.237144708633423\n",
            "2.236070394515991\n",
            "2.235053062438965\n",
            "2.2340877056121826\n",
            "2.2331700325012207\n",
            "2.2322959899902344\n",
            "2.2314627170562744\n",
            "2.2306666374206543\n",
            "2.229905366897583\n",
            "2.2291767597198486\n",
            "2.228478193283081\n",
            "2.2278079986572266\n",
            "2.2271645069122314\n",
            "2.226545572280884\n",
            "2.225950241088867\n",
            "2.225376844406128\n",
            "2.2248241901397705\n",
            "2.2242913246154785\n",
            "2.2237770557403564\n",
            "2.2232799530029297\n",
            "2.2228002548217773\n",
            "2.2223360538482666\n",
            "2.2218871116638184\n",
            "2.2214527130126953\n",
            "2.22103214263916\n",
            "2.2206244468688965\n",
            "2.220229148864746\n",
            "2.219845771789551\n",
            "2.2194738388061523\n",
            "2.2191131114959717\n",
            "2.2187626361846924\n",
            "2.2184221744537354\n",
            "2.2180914878845215\n",
            "2.2177703380584717\n",
            "2.2174577713012695\n",
            "2.217153549194336\n",
            "2.21685791015625\n",
            "2.2165699005126953\n",
            "2.216289758682251\n",
            "2.2160167694091797\n",
            "2.2157506942749023\n",
            "2.215491533279419\n",
            "2.215238571166992\n",
            "2.2149927616119385\n",
            "2.214752674102783\n",
            "2.2145180702209473\n",
            "2.2142891883850098\n",
            "2.2140657901763916\n",
            "2.213848114013672\n",
            "2.2136354446411133\n",
            "2.2134270668029785\n",
            "2.213223934173584\n",
            "2.2130253314971924\n",
            "2.2128310203552246\n",
            "2.212641477584839\n",
            "2.2124555110931396\n",
            "2.2122740745544434\n",
            "2.212096691131592\n",
            "2.2119226455688477\n",
            "2.211751937866211\n",
            "2.211585283279419\n",
            "2.2114222049713135\n",
            "2.2112624645233154\n",
            "2.2111058235168457\n",
            "2.2109525203704834\n"
          ]
        }
      ]
    },
    {
      "cell_type": "markdown",
      "source": [
        "Ok I guess I was doing it right the first time, but I'm glad I got the practice with matmul and neural nets :)"
      ],
      "metadata": {
        "id": "lUtLTn-6QzAT"
      }
    },
    {
      "cell_type": "code",
      "source": [
        "prompt(\"em\")"
      ],
      "metadata": {
        "id": "10AaonKxRigX",
        "outputId": "d418ba79-48a9-457e-e843-50f4be505ad5",
        "colab": {
          "base_uri": "https://localhost:8080/",
          "height": 70
        }
      },
      "execution_count": 163,
      "outputs": [
        {
          "output_type": "execute_result",
          "data": {
            "text/plain": [
              "'emip..a..aiyiymtamiaaoi.meiybb.ysma.ir..i.i..ii.aauaaiiemaamiypb..aoaribgabaaiobmiia.ie.aamm.y.agao..e.ic.ioy.kayii.gy.aoaieoeaa.eiva..a...a.i.iar.arer.ma.iaeaheaysf.eia..isa.avma.a.niyyqiaom.oeieaeabiecaa.k.goalia..aeia.a.eeibaaai.iya.amireta.aii.i.aaa.t.amaai.s.eiaisiieo..g.aoaea.i.aaaa..ai.ioaooaa..oa.aimioaieaaaaxiai.aiob.ieaey.aaoyiaaamis....iaimdyaa.ieyi.iaarb.ah.aaaiara.pa.emeaiaamepiybrai.eaaeaaa.aeawaaaagaaai.aimamaaagasimi.a.iyaaoare..iaaiaia.aieaadiia.a.eimipmaiaaaeyaaar..aicm.a.iyaoiyy'"
            ],
            "application/vnd.google.colaboratory.intrinsic+json": {
              "type": "string"
            }
          },
          "metadata": {},
          "execution_count": 163
        }
      ]
    },
    {
      "cell_type": "code",
      "source": [
        "ws = torch.randn(vocab_len*2, vocab_len)\n",
        "ws.requires_grad = True\n",
        "\n",
        "for epoch in range(num_epochs):\n",
        "  xenc = xs\n",
        "  logits = torch.stack([ws[x[0]] + ws[x[1]] for x in xenc])\n",
        "  counts = logits.exp()\n",
        "  probs = counts / counts.sum(1, keepdim=True)\n",
        "\n",
        "  loss = -probs[torch.arange(xs.nelement() // 2), ys].log().mean()\n",
        "\n",
        "  ws.grad = None\n",
        "  loss.backward()\n",
        "  ws.data -= ws.grad * lr\n",
        "  if epoch % 10 == 0:\n",
        "    print(loss.item())"
      ],
      "metadata": {
        "id": "DeQFr4e0SEus",
        "outputId": "f93799d7-ac13-467d-e0fc-305d00d83e1e",
        "colab": {
          "base_uri": "https://localhost:8080/",
          "height": 408
        }
      },
      "execution_count": 164,
      "outputs": [
        {
          "output_type": "stream",
          "name": "stdout",
          "text": [
            "4.42507791519165\n"
          ]
        },
        {
          "output_type": "error",
          "ename": "KeyboardInterrupt",
          "evalue": "ignored",
          "traceback": [
            "\u001b[0;31m---------------------------------------------------------------------------\u001b[0m",
            "\u001b[0;31mKeyboardInterrupt\u001b[0m                         Traceback (most recent call last)",
            "\u001b[0;32m<ipython-input-164-4ae3f07fd1ef>\u001b[0m in \u001b[0;36m<cell line: 4>\u001b[0;34m()\u001b[0m\n\u001b[1;32m     11\u001b[0m \u001b[0;34m\u001b[0m\u001b[0m\n\u001b[1;32m     12\u001b[0m   \u001b[0mws\u001b[0m\u001b[0;34m.\u001b[0m\u001b[0mgrad\u001b[0m \u001b[0;34m=\u001b[0m \u001b[0;32mNone\u001b[0m\u001b[0;34m\u001b[0m\u001b[0;34m\u001b[0m\u001b[0m\n\u001b[0;32m---> 13\u001b[0;31m   \u001b[0mloss\u001b[0m\u001b[0;34m.\u001b[0m\u001b[0mbackward\u001b[0m\u001b[0;34m(\u001b[0m\u001b[0;34m)\u001b[0m\u001b[0;34m\u001b[0m\u001b[0;34m\u001b[0m\u001b[0m\n\u001b[0m\u001b[1;32m     14\u001b[0m   \u001b[0mws\u001b[0m\u001b[0;34m.\u001b[0m\u001b[0mdata\u001b[0m \u001b[0;34m-=\u001b[0m \u001b[0mws\u001b[0m\u001b[0;34m.\u001b[0m\u001b[0mgrad\u001b[0m \u001b[0;34m*\u001b[0m \u001b[0mlr\u001b[0m\u001b[0;34m\u001b[0m\u001b[0;34m\u001b[0m\u001b[0m\n\u001b[1;32m     15\u001b[0m   \u001b[0;32mif\u001b[0m \u001b[0mepoch\u001b[0m \u001b[0;34m%\u001b[0m \u001b[0;36m10\u001b[0m \u001b[0;34m==\u001b[0m \u001b[0;36m0\u001b[0m\u001b[0;34m:\u001b[0m\u001b[0;34m\u001b[0m\u001b[0;34m\u001b[0m\u001b[0m\n",
            "\u001b[0;32m/usr/local/lib/python3.10/dist-packages/torch/_tensor.py\u001b[0m in \u001b[0;36mbackward\u001b[0;34m(self, gradient, retain_graph, create_graph, inputs)\u001b[0m\n\u001b[1;32m    485\u001b[0m                 \u001b[0minputs\u001b[0m\u001b[0;34m=\u001b[0m\u001b[0minputs\u001b[0m\u001b[0;34m,\u001b[0m\u001b[0;34m\u001b[0m\u001b[0;34m\u001b[0m\u001b[0m\n\u001b[1;32m    486\u001b[0m             )\n\u001b[0;32m--> 487\u001b[0;31m         torch.autograd.backward(\n\u001b[0m\u001b[1;32m    488\u001b[0m             \u001b[0mself\u001b[0m\u001b[0;34m,\u001b[0m \u001b[0mgradient\u001b[0m\u001b[0;34m,\u001b[0m \u001b[0mretain_graph\u001b[0m\u001b[0;34m,\u001b[0m \u001b[0mcreate_graph\u001b[0m\u001b[0;34m,\u001b[0m \u001b[0minputs\u001b[0m\u001b[0;34m=\u001b[0m\u001b[0minputs\u001b[0m\u001b[0;34m\u001b[0m\u001b[0;34m\u001b[0m\u001b[0m\n\u001b[1;32m    489\u001b[0m         )\n",
            "\u001b[0;32m/usr/local/lib/python3.10/dist-packages/torch/autograd/__init__.py\u001b[0m in \u001b[0;36mbackward\u001b[0;34m(tensors, grad_tensors, retain_graph, create_graph, grad_variables, inputs)\u001b[0m\n\u001b[1;32m    198\u001b[0m     \u001b[0;31m# some Python versions print out the first line of a multi-line function\u001b[0m\u001b[0;34m\u001b[0m\u001b[0;34m\u001b[0m\u001b[0m\n\u001b[1;32m    199\u001b[0m     \u001b[0;31m# calls in the traceback and some print out the last line\u001b[0m\u001b[0;34m\u001b[0m\u001b[0;34m\u001b[0m\u001b[0m\n\u001b[0;32m--> 200\u001b[0;31m     Variable._execution_engine.run_backward(  # Calls into the C++ engine to run the backward pass\n\u001b[0m\u001b[1;32m    201\u001b[0m         \u001b[0mtensors\u001b[0m\u001b[0;34m,\u001b[0m \u001b[0mgrad_tensors_\u001b[0m\u001b[0;34m,\u001b[0m \u001b[0mretain_graph\u001b[0m\u001b[0;34m,\u001b[0m \u001b[0mcreate_graph\u001b[0m\u001b[0;34m,\u001b[0m \u001b[0minputs\u001b[0m\u001b[0;34m,\u001b[0m\u001b[0;34m\u001b[0m\u001b[0;34m\u001b[0m\u001b[0m\n\u001b[1;32m    202\u001b[0m         allow_unreachable=True, accumulate_grad=True)  # Calls into the C++ engine to run the backward pass\n",
            "\u001b[0;31mKeyboardInterrupt\u001b[0m: "
          ]
        }
      ]
    },
    {
      "cell_type": "markdown",
      "source": [
        "Yeah ig it works but it's unoptimized af right now... who cares, though?"
      ],
      "metadata": {
        "id": "-xIbYyrjTrHv"
      }
    },
    {
      "cell_type": "code",
      "source": [
        "# ok cross entropy time\n",
        "for epoch in range(num_epochs):\n",
        "  xenc = functional.one_hot(xs, num_classes=27).float().flatten(start_dim=1)\n",
        "  loss = functional.cross_entropy(xenc @ ws, ys)\n",
        "  ws.grad = None\n",
        "  loss.backward()\n",
        "  ws.data -= ws.grad * lr\n",
        "  if epoch % 10 == 0:\n",
        "    print(loss.item())"
      ],
      "metadata": {
        "id": "ldXWuLbWjpc6",
        "outputId": "f614103c-33b1-4980-c040-7219e57e42f6",
        "colab": {
          "base_uri": "https://localhost:8080/"
        }
      },
      "execution_count": 185,
      "outputs": [
        {
          "output_type": "stream",
          "name": "stdout",
          "text": [
            "2.7844204902648926\n",
            "2.7604000568389893\n",
            "2.7383432388305664\n",
            "2.7180495262145996\n",
            "2.6993393898010254\n",
            "2.682053565979004\n",
            "2.666048049926758\n",
            "2.651193380355835\n",
            "2.6373751163482666\n",
            "2.6124446392059326\n",
            "2.6011581420898438\n",
            "2.5905582904815674\n",
            "2.580580234527588\n",
            "2.571166753768921\n",
            "2.562267780303955\n",
            "2.553838014602661\n",
            "2.5458383560180664\n",
            "2.5382323265075684\n",
            "2.5240793228149414\n",
            "2.5174787044525146\n",
            "2.5111634731292725\n",
            "2.505112648010254\n",
            "2.4993088245391846\n",
            "2.493734121322632\n",
            "2.4883739948272705\n",
            "2.4832143783569336\n",
            "2.4782419204711914\n",
            "2.4688167572021484\n",
            "2.464343786239624\n",
            "2.4600183963775635\n",
            "2.4558324813842773\n",
            "2.4517791271209717\n",
            "2.4478514194488525\n",
            "2.444042921066284\n",
            "2.4403483867645264\n",
            "2.4367620944976807\n",
            "2.42989444732666\n",
            "2.4266045093536377\n",
            "2.4234049320220947\n",
            "2.4202919006347656\n",
            "2.4172616004943848\n",
            "2.414311647415161\n",
            "2.411437749862671\n",
            "2.408637285232544\n",
            "2.4059078693389893\n",
            "2.4006502628326416\n",
            "2.3981173038482666\n",
            "2.3956453800201416\n",
            "2.393232822418213\n",
            "2.3908755779266357\n",
            "2.38857364654541\n",
            "2.386324405670166\n",
            "2.3841261863708496\n",
            "2.381976842880249\n",
            "2.377819538116455\n",
            "2.3758082389831543\n",
            "2.373840093612671\n",
            "2.3719139099121094\n",
            "2.370027542114258\n",
            "2.368180274963379\n",
            "2.366370916366577\n",
            "2.364598512649536\n",
            "2.362861394882202\n",
            "2.359489917755127\n",
            "2.357853412628174\n",
            "2.356248140335083\n",
            "2.3546736240386963\n",
            "2.3531289100646973\n",
            "2.3516132831573486\n",
            "2.350125312805176\n",
            "2.3486649990081787\n",
            "2.347230911254883\n",
            "2.344439744949341\n",
            "2.343080997467041\n",
            "2.3417463302612305\n",
            "2.3404347896575928\n",
            "2.3391456604003906\n",
            "2.337878704071045\n",
            "2.3366329669952393\n",
            "2.3354084491729736\n",
            "2.3342041969299316\n",
            "2.3318545818328857\n",
            "2.3307087421417236\n",
            "2.3295810222625732\n",
            "2.3284711837768555\n",
            "2.3273792266845703\n",
            "2.3263039588928223\n",
            "2.3252460956573486\n",
            "2.324204444885254\n",
            "2.323178291320801\n",
            "2.3211734294891357\n",
            "2.3201935291290283\n",
            "2.3192286491394043\n",
            "2.318277359008789\n",
            "2.31734037399292\n",
            "2.3164172172546387\n",
            "2.315506935119629\n",
            "2.314610242843628\n",
            "2.3137264251708984\n",
            "2.3119959831237793\n",
            "2.3111486434936523\n",
            "2.3103132247924805\n",
            "2.3094894886016846\n",
            "2.3086769580841064\n",
            "2.307875394821167\n",
            "2.307084798812866\n",
            "2.306304931640625\n",
            "2.305535316467285\n",
            "2.3040268421173096\n",
            "2.3032875061035156\n",
            "2.3025577068328857\n",
            "2.30183744430542\n",
            "2.301126480102539\n",
            "2.300424575805664\n",
            "2.2997312545776367\n",
            "2.299046754837036\n",
            "2.2983713150024414\n",
            "2.2970452308654785\n",
            "2.296393871307373\n",
            "2.2957513332366943\n",
            "2.295116424560547\n",
            "2.2944886684417725\n",
            "2.2938692569732666\n",
            "2.2932565212249756\n",
            "2.292651653289795\n",
            "2.292053699493408\n",
            "2.2908787727355957\n",
            "2.2903013229370117\n",
            "2.28973126411438\n",
            "2.2891671657562256\n",
            "2.288609743118286\n",
            "2.2880587577819824\n",
            "2.2875137329101562\n",
            "2.2869746685028076\n",
            "2.2864420413970947\n",
            "2.2853944301605225\n",
            "2.284879207611084\n",
            "2.284369468688965\n",
            "2.283865451812744\n",
            "2.2833666801452637\n",
            "2.2828731536865234\n",
            "2.2823853492736816\n",
            "2.28190279006958\n",
            "2.2814252376556396\n",
            "2.280484914779663\n",
            "2.280022382736206\n",
            "2.279564619064331\n",
            "2.27911114692688\n",
            "2.27866268157959\n",
            "2.278218984603882\n",
            "2.2777793407440186\n",
            "2.2773444652557373\n",
            "2.276914119720459\n",
            "2.2760658264160156\n",
            "2.2756476402282715\n",
            "2.2752344608306885\n",
            "2.274824619293213\n",
            "2.2744193077087402\n",
            "2.274017095565796\n",
            "2.2736194133758545\n",
            "2.273226022720337\n",
            "2.2728354930877686\n",
            "2.272066354751587\n",
            "2.2716875076293945\n",
            "2.2713117599487305\n",
            "2.270939826965332\n",
            "2.270571708679199\n",
            "2.2702062129974365\n",
            "2.2698445320129395\n",
            "2.269486427307129\n",
            "2.2691311836242676\n",
            "2.268430709838867\n",
            "2.268085479736328\n",
            "2.267742872238159\n",
            "2.2674036026000977\n",
            "2.2670671939849854\n",
            "2.2667338848114014\n",
            "2.2664034366607666\n",
            "2.26607608795166\n",
            "2.265751600265503\n",
            "2.265111207962036\n",
            "2.2647950649261475\n",
            "2.264481782913208\n",
            "2.2641708850860596\n",
            "2.2638628482818604\n",
            "2.2635576725006104\n",
            "2.2632546424865723\n",
            "2.2629547119140625\n",
            "2.2626566886901855\n",
            "2.262068748474121\n",
            "2.2617781162261963\n",
            "2.2614903450012207\n",
            "2.261204719543457\n",
            "2.2609214782714844\n",
            "2.2606406211853027\n",
            "2.260362386703491\n",
            "2.2600858211517334\n",
            "2.2598116397857666\n",
            "2.259270429611206\n",
            "2.259002923965454\n",
            "2.258737325668335\n",
            "2.258474111557007\n",
            "2.2582130432128906\n",
            "2.2579538822174072\n",
            "2.2576966285705566\n",
            "2.257441759109497\n",
            "2.257188558578491\n",
            "2.256688356399536\n",
            "2.256441116333008\n",
            "2.2561957836151123\n",
            "2.2559523582458496\n",
            "2.2557103633880615\n",
            "2.2554707527160645\n",
            "2.255232810974121\n",
            "2.2549965381622314\n",
            "2.2547624111175537\n",
            "2.254298686981201\n",
            "2.2540698051452637\n",
            "2.2538421154022217\n",
            "2.2536165714263916\n",
            "2.253392219543457\n",
            "2.2531700134277344\n",
            "2.2529492378234863\n",
            "2.252729654312134\n",
            "2.252512216567993\n",
            "2.2520816326141357\n",
            "2.251868724822998\n",
            "2.251657247543335\n",
            "2.2514472007751465\n",
            "2.2512388229370117\n",
            "2.2510321140289307\n",
            "2.250826358795166\n",
            "2.250622272491455\n",
            "2.250419855117798\n",
            "2.250018835067749\n",
            "2.2498204708099365\n",
            "2.2496235370635986\n",
            "2.2494277954101562\n",
            "2.2492337226867676\n",
            "2.2490408420562744\n",
            "2.2488491535186768\n",
            "2.2486588954925537\n",
            "2.2484700679779053\n",
            "2.248095750808716\n",
            "2.247910499572754\n",
            "2.2477269172668457\n",
            "2.247544288635254\n",
            "2.2473623752593994\n",
            "2.2471823692321777\n",
            "2.2470033168792725\n",
            "2.2468254566192627\n",
            "2.2466485500335693\n",
            "2.2462987899780273\n",
            "2.2461256980895996\n",
            "2.2459535598754883\n",
            "2.2457828521728516\n",
            "2.2456130981445312\n",
            "2.2454442977905273\n",
            "2.24527645111084\n",
            "2.245109796524048\n",
            "2.2449443340301514\n",
            "2.244616746902466\n",
            "2.2444543838500977\n",
            "2.244292974472046\n",
            "2.2441327571868896\n",
            "2.24397349357605\n",
            "2.2438149452209473\n",
            "2.2436580657958984\n",
            "2.243501901626587\n",
            "2.243346691131592\n",
            "2.2430388927459717\n",
            "2.2428863048553467\n",
            "2.242734909057617\n",
            "2.242584466934204\n",
            "2.2424349784851074\n",
            "2.242285966873169\n",
            "2.242137908935547\n",
            "2.2419912815093994\n",
            "2.2418453693389893\n",
            "2.241556406021118\n",
            "2.241412878036499\n",
            "2.2412703037261963\n",
            "2.241128444671631\n",
            "2.24098801612854\n",
            "2.2408478260040283\n",
            "2.240708827972412\n",
            "2.2405707836151123\n",
            "2.2404332160949707\n",
            "2.2401609420776367\n",
            "2.240025520324707\n",
            "2.2398910522460938\n",
            "2.239758014678955\n",
            "2.2396249771118164\n",
            "2.2394933700561523\n",
            "2.2393622398376465\n",
            "2.239232063293457\n",
            "2.239102602005005\n",
            "2.238845109939575\n",
            "2.238717794418335\n",
            "2.238591432571411\n",
            "2.2384653091430664\n",
            "2.238339900970459\n",
            "2.238215446472168\n",
            "2.2380917072296143\n",
            "2.237968683242798\n",
            "2.2378458976745605\n",
            "2.2376036643981934\n",
            "2.237483263015747\n",
            "2.237363576889038\n",
            "2.2372443675994873\n",
            "2.237126111984253\n",
            "2.2370083332061768\n",
            "2.236891269683838\n",
            "2.2367751598358154\n",
            "2.236659288406372\n",
            "2.236429452896118\n",
            "2.2363154888153076\n",
            "2.2362024784088135\n",
            "2.2360899448394775\n",
            "2.2359776496887207\n",
            "2.2358663082122803\n",
            "2.235755443572998\n",
            "2.235645294189453\n",
            "2.2355358600616455\n",
            "2.235318422317505\n",
            "2.235210657119751\n",
            "2.235102891921997\n",
            "2.2349963188171387\n",
            "2.2348902225494385\n",
            "2.2347843647003174\n",
            "2.234679698944092\n",
            "2.234574794769287\n",
            "2.234471082687378\n",
            "2.234264373779297\n",
            "2.2341623306274414\n",
            "2.234060764312744\n",
            "2.233959674835205\n",
            "2.233859062194824\n",
            "2.2337584495544434\n",
            "2.233658790588379\n",
            "2.2335596084594727\n",
            "2.2334609031677246\n",
            "2.2332651615142822\n",
            "2.233167886734009\n",
            "2.2330710887908936\n",
            "2.2329747676849365\n",
            "2.232879161834717\n",
            "2.2327840328216553\n",
            "2.232689142227173\n",
            "2.232595205307007\n",
            "2.232501268386841\n",
            "2.2323150634765625\n",
            "2.23222279548645\n",
            "2.232131004333496\n",
            "2.232039451599121\n",
            "2.2319483757019043\n",
            "2.2318577766418457\n",
            "2.2317678928375244\n",
            "2.231678009033203\n",
            "2.23158860206604\n",
            "2.2314112186431885\n",
            "2.231323480606079\n",
            "2.231236219406128\n",
            "2.2311487197875977\n",
            "2.231062173843384\n",
            "2.230976104736328\n",
            "2.2308900356292725\n",
            "2.230804920196533\n",
            "2.230719566345215\n",
            "2.230550765991211\n",
            "2.230466842651367\n",
            "2.2303833961486816\n",
            "2.2303004264831543\n",
            "2.230217695236206\n",
            "2.230135917663574\n",
            "2.230053663253784\n",
            "2.2299721240997314\n",
            "2.229891061782837\n",
            "2.2297301292419434\n",
            "2.2296502590179443\n",
            "2.2295706272125244\n",
            "2.2294914722442627\n",
            "2.22941255569458\n",
            "2.2293341159820557\n",
            "2.2292561531066895\n",
            "2.2291786670684814\n",
            "2.2291009426116943\n",
            "2.228947401046753\n",
            "2.2288708686828613\n",
            "2.228794813156128\n",
            "2.228719472885132\n",
            "2.2286438941955566\n",
            "2.2285690307617188\n",
            "2.228494644165039\n",
            "2.2284202575683594\n",
            "2.228346109390259\n",
            "2.2281992435455322\n",
            "2.2281267642974854\n",
            "2.2280538082122803\n",
            "2.2279818058013916\n",
            "2.2279093265533447\n",
            "2.2278378009796143\n",
            "2.227766752243042\n",
            "2.2276954650878906\n",
            "2.2276246547698975\n",
            "2.2274844646453857\n",
            "2.22741436958313\n",
            "2.2273449897766113\n",
            "2.227276086807251\n",
            "2.2272067070007324\n",
            "2.2271382808685303\n",
            "2.2270703315734863\n",
            "2.2270023822784424\n",
            "2.2269344329833984\n",
            "2.226799964904785\n",
            "2.2267332077026367\n",
            "2.2266666889190674\n",
            "2.226600408554077\n",
            "2.226534366607666\n",
            "2.226468801498413\n",
            "2.2264034748077393\n",
            "2.2263383865356445\n",
            "2.22627329826355\n",
            "2.226144790649414\n",
            "2.2260804176330566\n",
            "2.2260167598724365\n",
            "2.2259533405303955\n",
            "2.2258901596069336\n",
            "2.225827217102051\n",
            "2.225764513015747\n",
            "2.2257022857666016\n",
            "2.225639820098877\n",
            "2.2255163192749023\n",
            "2.2254550457000732\n",
            "2.2253940105438232\n",
            "2.2253329753875732\n",
            "2.2252724170684814\n",
            "2.2252118587493896\n",
            "2.225151777267456\n",
            "2.2250916957855225\n",
            "2.225032329559326\n",
            "2.2249138355255127\n",
            "2.2248547077178955\n",
            "2.2247958183288574\n",
            "2.2247376441955566\n",
            "2.2246792316436768\n",
            "2.224621534347534\n",
            "2.2245640754699707\n",
            "2.22450590133667\n",
            "2.2244489192962646\n",
            "2.224335193634033\n",
            "2.224278450012207\n",
            "2.22422194480896\n",
            "2.224165916442871\n",
            "2.2241101264953613\n",
            "2.2240543365478516\n",
            "2.2239990234375\n",
            "2.2239437103271484\n",
            "2.223888635635376\n",
            "2.2237794399261475\n",
            "2.223724842071533\n",
            "2.223670721054077\n",
            "2.223616600036621\n",
            "2.223562717437744\n",
            "2.2235095500946045\n",
            "2.2234561443328857\n",
            "2.223402976989746\n",
            "2.2233500480651855\n",
            "2.2232446670532227\n",
            "2.2231922149658203\n",
            "2.223140001296997\n",
            "2.223088502883911\n",
            "2.223036766052246\n",
            "2.222985029220581\n",
            "2.222933769226074\n",
            "2.2228827476501465\n",
            "2.2228317260742188\n",
            "2.2227303981781006\n",
            "2.222679853439331\n",
            "2.222630023956299\n",
            "2.2225801944732666\n",
            "2.2225301265716553\n",
            "2.2224807739257812\n",
            "2.222431182861328\n",
            "2.222382068634033\n",
            "2.2223329544067383\n",
            "2.222235679626465\n",
            "2.222187042236328\n",
            "2.2221384048461914\n",
            "2.222090482711792\n",
            "2.2220423221588135\n",
            "2.2219948768615723\n",
            "2.221947193145752\n",
            "2.22189998626709\n",
            "2.2218525409698486\n",
            "2.2217586040496826\n",
            "2.2217118740081787\n",
            "2.221665382385254\n",
            "2.221618890762329\n",
            "2.2215726375579834\n",
            "2.2215263843536377\n",
            "2.22148060798645\n",
            "2.2214348316192627\n",
            "2.2213892936706543\n",
            "2.2212986946105957\n",
            "2.2212536334991455\n",
            "2.2212088108062744\n",
            "2.221163749694824\n",
            "2.2211194038391113\n",
            "2.2210752964019775\n",
            "2.2210307121276855\n",
            "2.2209866046905518\n",
            "2.220942735671997\n",
            "2.220855712890625\n",
            "2.2208118438720703\n",
            "2.220768928527832\n",
            "2.2207252979278564\n",
            "2.220682382583618\n",
            "2.220639705657959\n",
            "2.2205970287323\n",
            "2.2205543518066406\n",
            "2.2205119132995605\n",
            "2.2204275131225586\n",
            "2.2203855514526367\n",
            "2.220344066619873\n",
            "2.2203023433685303\n",
            "2.2202606201171875\n",
            "2.2202188968658447\n",
            "2.2201778888702393\n",
            "2.220136880874634\n",
            "2.2200961112976074\n",
            "2.2200145721435547\n",
            "2.2199740409851074\n",
            "2.21993350982666\n",
            "2.219893455505371\n",
            "2.219852924346924\n",
            "2.2198128700256348\n",
            "2.219773292541504\n",
            "2.219733715057373\n",
            "2.219694137573242\n",
            "2.2196152210235596\n",
            "2.219576120376587\n",
            "2.219536781311035\n",
            "2.2194983959198\n",
            "2.2194597721099854\n",
            "2.219421148300171\n",
            "2.2193822860717773\n",
            "2.219343662261963\n",
            "2.2193055152893066\n",
            "2.2192294597625732\n",
            "2.219191551208496\n",
            "2.219153881072998\n",
            "2.219116449356079\n",
            "2.21907901763916\n",
            "2.219041347503662\n",
            "2.2190041542053223\n",
            "2.2189671993255615\n",
            "2.2189300060272217\n",
            "2.2188565731048584\n",
            "2.2188198566436768\n",
            "2.218783140182495\n",
            "2.2187466621398926\n",
            "2.218710422515869\n",
            "2.218674421310425\n",
            "2.2186384201049805\n",
            "2.218602418899536\n",
            "2.21856689453125\n",
            "2.2184956073760986\n",
            "2.2184598445892334\n",
            "2.2184247970581055\n",
            "2.2183895111083984\n",
            "2.2183539867401123\n",
            "2.2183191776275635\n",
            "2.2182843685150146\n",
            "2.218249797821045\n",
            "2.218214988708496\n",
            "2.2181456089019775\n",
            "2.218111515045166\n",
            "2.2180771827697754\n",
            "2.218043327331543\n",
            "2.2180089950561523\n",
            "2.217975378036499\n",
            "2.2179415225982666\n",
            "2.217907667160034\n",
            "2.217874050140381\n",
            "2.2178075313568115\n",
            "2.2177741527557373\n",
            "2.217740774154663\n",
            "2.217707872390747\n",
            "2.217674970626831\n",
            "2.217642307281494\n",
            "2.217609167098999\n",
            "2.217576742172241\n",
            "2.2175440788269043\n",
            "2.2174794673919678\n",
            "2.217446804046631\n",
            "2.2174148559570312\n",
            "2.2173829078674316\n",
            "2.217350959777832\n",
            "2.2173187732696533\n",
            "2.217287302017212\n",
            "2.2172555923461914\n",
            "2.21722412109375\n",
            "2.217161178588867\n",
            "2.217129945755005\n",
            "2.2170987129211426\n",
            "2.2170674800872803\n",
            "2.2170369625091553\n",
            "2.217005968093872\n",
            "2.216974973678589\n",
            "2.216944456100464\n",
            "2.2169137001037598\n",
            "2.216852903366089\n",
            "2.216822624206543\n",
            "2.216792583465576\n",
            "2.216762065887451\n",
            "2.2167322635650635\n",
            "2.2167019844055176\n",
            "2.21667218208313\n",
            "2.216642379760742\n",
            "2.2166125774383545\n",
            "2.2165534496307373\n",
            "2.216524124145508\n",
            "2.216494560241699\n",
            "2.216465473175049\n",
            "2.2164366245269775\n",
            "2.216407060623169\n",
            "2.2163782119750977\n",
            "2.2163491249084473\n",
            "2.216320514678955\n",
            "2.2162628173828125\n",
            "2.2162342071533203\n",
            "2.216205596923828\n",
            "2.216177463531494\n",
            "2.21614933013916\n",
            "2.216120958328247\n",
            "2.216092824935913\n",
            "2.216064691543579\n",
            "2.216036558151245\n",
            "2.2159807682037354\n",
            "2.2159531116485596\n",
            "2.2159252166748047\n",
            "2.215897798538208\n",
            "2.2158701419830322\n",
            "2.2158429622650146\n",
            "2.2158150672912598\n",
            "2.2157881259918213\n",
            "2.2157609462738037\n",
            "2.2157068252563477\n",
            "2.21567964553833\n",
            "2.2156527042388916\n",
            "2.215625762939453\n",
            "2.215599298477173\n",
            "2.2155725955963135\n",
            "2.215545892715454\n",
            "2.2155191898345947\n",
            "2.2154929637908936\n",
            "2.215440034866333\n",
            "2.215414047241211\n",
            "2.2153878211975098\n",
            "2.2153618335723877\n",
            "2.2153356075286865\n",
            "2.2153098583221436\n",
            "2.2152841091156006\n",
            "2.2152583599090576\n",
            "2.2152326107025146\n",
            "2.2151811122894287\n",
            "2.215155601501465\n",
            "2.21513032913208\n",
            "2.215104818344116\n",
            "2.2150795459747314\n",
            "2.2150542736053467\n",
            "2.215029239654541\n",
            "2.2150039672851562\n",
            "2.2149791717529297\n",
            "2.2149291038513184\n",
            "2.214904308319092\n",
            "2.2148795127868652\n",
            "2.2148549556732178\n",
            "2.214830160140991\n",
            "2.214805841445923\n",
            "2.2147812843322754\n",
            "2.214756965637207\n",
            "2.2147324085235596\n",
            "2.214684009552002\n",
            "2.2146599292755127\n",
            "2.2146356105804443\n",
            "2.214611768722534\n",
            "2.214587688446045\n",
            "2.2145638465881348\n",
            "2.2145400047302246\n",
            "2.2145161628723145\n",
            "2.2144923210144043\n",
            "2.2144453525543213\n",
            "2.214421510696411\n",
            "2.214398145675659\n",
            "2.214374542236328\n",
            "2.214351177215576\n",
            "2.2143282890319824\n",
            "2.2143049240112305\n",
            "2.2142815589904785\n",
            "2.2142586708068848\n",
            "2.214212656021118\n",
            "2.2141897678375244\n",
            "2.2141666412353516\n",
            "2.214143753051758\n",
            "2.214121103286743\n",
            "2.2140984535217285\n",
            "2.214076280593872\n",
            "2.2140533924102783\n",
            "2.2140307426452637\n",
            "2.2139859199523926\n",
            "2.213963747024536\n",
            "2.2139413356781006\n",
            "2.2139194011688232\n",
            "2.2138969898223877\n",
            "2.2138750553131104\n",
            "2.213853120803833\n",
            "2.2138309478759766\n",
            "2.213809013366699\n",
            "2.2137653827667236\n",
            "2.2137436866760254\n",
            "2.213721513748169\n",
            "2.213700294494629\n",
            "2.2136783599853516\n",
            "2.2136569023132324\n",
            "2.2136354446411133\n",
            "2.213613986968994\n",
            "2.213593006134033\n",
            "2.213550090789795\n",
            "2.213529109954834\n",
            "2.213507890701294\n",
            "2.213486671447754\n",
            "2.213465452194214\n",
            "2.213444709777832\n",
            "2.21342396736145\n",
            "2.2134029865264893\n",
            "2.2133822441101074\n",
            "2.2133402824401855\n",
            "2.213319778442383\n",
            "2.213298797607422\n",
            "2.2132785320281982\n",
            "2.2132577896118164\n",
            "2.2132372856140137\n",
            "2.21321702003479\n",
            "2.2131967544555664\n",
            "2.2131762504577637\n",
            "2.2131357192993164\n",
            "2.2131154537200928\n",
            "2.213095188140869\n",
            "2.2130753993988037\n",
            "2.213055372238159\n",
            "2.2130353450775146\n",
            "2.213015079498291\n",
            "2.2129955291748047\n",
            "2.21297550201416\n",
            "2.2129361629486084\n",
            "2.212916374206543\n",
            "2.2128965854644775\n",
            "2.212876796722412\n",
            "2.212857484817505\n",
            "2.2128379344940186\n",
            "2.2128183841705322\n",
            "2.212799072265625\n",
            "2.2127797603607178\n",
            "2.2127411365509033\n",
            "2.212722063064575\n",
            "2.212702512741089\n",
            "2.2126834392547607\n",
            "2.2126643657684326\n",
            "2.2126455307006836\n",
            "2.2126262187957764\n",
            "2.2126073837280273\n",
            "2.2125887870788574\n",
            "2.2125508785247803\n",
            "2.2125320434570312\n",
            "2.2125134468078613\n",
            "2.2124946117401123\n",
            "2.2124760150909424\n",
            "2.2124574184417725\n",
            "2.2124390602111816\n",
            "2.2124202251434326\n",
            "2.212401866912842\n",
            "2.212364912033081\n",
            "2.2123467922210693\n",
            "2.2123281955718994\n",
            "2.2123100757598877\n",
            "2.212291955947876\n",
            "2.212273597717285\n",
            "2.2122554779052734\n",
            "2.212237596511841\n",
            "2.212219476699829\n",
            "2.2121834754943848\n",
            "2.212165355682373\n",
            "2.2121477127075195\n",
            "2.212129831314087\n",
            "2.2121119499206543\n",
            "2.212094306945801\n",
            "2.212076425552368\n",
            "2.2120585441589355\n",
            "2.2120413780212402\n",
            "2.212005853652954\n",
            "2.2119884490966797\n",
            "2.211970806121826\n",
            "2.2119534015655518\n",
            "2.2119362354278564\n",
            "2.211918830871582\n",
            "2.2119014263153076\n",
            "2.211884021759033\n",
            "2.211866855621338\n",
            "2.2118327617645264\n",
            "2.211815118789673\n",
            "2.2117984294891357\n",
            "2.2117810249328613\n",
            "2.211764335632324\n",
            "2.211747169494629\n",
            "2.2117302417755127\n",
            "2.2117135524749756\n",
            "2.2116966247558594\n",
            "2.211663007736206\n",
            "2.21164608001709\n",
            "2.2116293907165527\n",
            "2.2116127014160156\n",
            "2.2115960121154785\n",
            "2.2115793228149414\n",
            "2.2115626335144043\n",
            "2.2115464210510254\n",
            "2.2115299701690674\n",
            "2.2114973068237305\n",
            "2.2114806175231934\n",
            "2.2114641666412354\n",
            "2.2114481925964355\n",
            "2.2114317417144775\n",
            "2.2114155292510986\n",
            "2.2113990783691406\n",
            "2.211383104324341\n",
            "2.211367130279541\n",
            "2.211334705352783\n",
            "2.2113187313079834\n",
            "2.2113027572631836\n",
            "2.211286783218384\n",
            "2.211270809173584\n",
            "2.2112550735473633\n",
            "2.2112390995025635\n",
            "2.2112233638763428\n",
            "2.211207628250122\n",
            "2.2111759185791016\n",
            "2.211160182952881\n",
            "2.21114444732666\n",
            "2.2111289501190186\n",
            "2.211113214492798\n",
            "2.2110979557037354\n",
            "2.211082696914673\n",
            "2.211066961288452\n",
            "2.2110517024993896\n",
            "2.2110204696655273\n",
            "2.211005210876465\n",
            "2.2109897136688232\n",
            "2.21097469329834\n",
            "2.2109594345092773\n",
            "2.210944175720215\n",
            "2.2109289169311523\n",
            "2.210913896560669\n",
            "2.2108988761901855\n",
            "2.2108685970306396\n",
            "2.210853338241577\n",
            "2.210838556289673\n",
            "2.2108235359191895\n",
            "2.210808753967285\n",
            "2.210793972015381\n",
            "2.2107787132263184\n",
            "2.210764169692993\n",
            "2.210749387741089\n",
            "2.2107200622558594\n",
            "2.210704803466797\n",
            "2.2106900215148926\n",
            "2.2106757164001465\n",
            "2.2106611728668213\n",
            "2.210646390914917\n",
            "2.2106316089630127\n",
            "2.2106173038482666\n",
            "2.2106025218963623\n",
            "2.21057391166687\n",
            "2.210559368133545\n",
            "2.2105448246002197\n",
            "2.2105307579040527\n",
            "2.2105162143707275\n",
            "2.2105019092559814\n",
            "2.2104876041412354\n",
            "2.2104732990264893\n",
            "2.2104592323303223\n",
            "2.2104310989379883\n",
            "2.210416793823242\n",
            "2.210402488708496\n",
            "2.210388660430908\n",
            "2.2103748321533203\n",
            "2.210360527038574\n",
            "2.210346221923828\n",
            "2.2103326320648193\n",
            "2.2103185653686523\n"
          ]
        }
      ]
    },
    {
      "cell_type": "markdown",
      "source": [
        "Bro ez ws"
      ],
      "metadata": {
        "id": "1E2FKtiPlqXC"
      }
    },
    {
      "cell_type": "code",
      "source": [
        "prompt(\"em\")"
      ],
      "metadata": {
        "id": "Yui1bzuBlrr0",
        "outputId": "9a735644-8df6-4cd8-a9cb-b3f2e1b22ec0",
        "colab": {
          "base_uri": "https://localhost:8080/",
          "height": 70
        }
      },
      "execution_count": 186,
      "outputs": [
        {
          "output_type": "execute_result",
          "data": {
            "text/plain": [
              "'em.aiir.yi.e.aeimioropeemiinarri.im.dar.iioiibgoiaearaaba.la.eaii..aaaeikaacemiy.i.m.mobi.ibre.ain.a.ieiapi.ifia.l.a.ae.upa.ea.b.ibyabiaai.aooimmoarbammaniaai.ieo.eiaiymta.iiaiaaaeiimir..yae.eii.i.aaeasiirbaacioiaa..aime.s.ieieijaaoo.i.o.iiib..pybaami..myeaiaai..aii.c.aa.aaioiiea.e.daaj.meii..a.ae.aaaraia..aiemaamafaaaiy.akaaa.aaoo..aaiaoy..aa.epaai.ma..admmot.imiaros.yba.iaaa.i.aeai.iuiaaaec.i.ea..b.ia.a..i..iammyka..i.saaaa.iioaa.giaaaaai.aainiiaamt.ama.oiiaambiei.ia.mi.ai...aa.eagb..ai...rberaa'"
            ],
            "application/vnd.google.colaboratory.intrinsic+json": {
              "type": "string"
            }
          },
          "metadata": {},
          "execution_count": 186
        }
      ]
    },
    {
      "cell_type": "markdown",
      "source": [
        "ok now time for some multi layer stuff"
      ],
      "metadata": {
        "id": "8he_zoVznQ8O"
      }
    },
    {
      "cell_type": "code",
      "source": [
        "w1 = torch.randn((vocab_len*2, vocab_len), requires_grad=True)\n",
        "w2 = torch.randn((vocab_len, vocab_len), requires_grad=True)"
      ],
      "metadata": {
        "id": "1o5HORnAnbqQ"
      },
      "execution_count": 199,
      "outputs": []
    },
    {
      "cell_type": "code",
      "source": [
        "lr = 0.05"
      ],
      "metadata": {
        "id": "EtQBwq5PorCh"
      },
      "execution_count": 203,
      "outputs": []
    },
    {
      "cell_type": "code",
      "source": [
        "for epoch in range(num_epochs):\n",
        "  xenc = functional.one_hot(xs, num_classes=27).float().flatten(start_dim=1)\n",
        "  wi1 = xenc @ w1\n",
        "  wi2 = wi1 @ w2\n",
        "  loss = functional.cross_entropy(wi2, ys)\n",
        "  w1.grad = None\n",
        "  w2.grad = None\n",
        "  loss.backward()\n",
        "  w1.data -= w1.grad * lr\n",
        "  w2.data -= w2.grad * lr\n",
        "  if epoch % 10 == 0:\n",
        "    print(loss.item())"
      ],
      "metadata": {
        "id": "No02nTsonUQD",
        "outputId": "87c016f5-8f25-49e9-c2c1-d4a2d35caab7",
        "colab": {
          "base_uri": "https://localhost:8080/"
        }
      },
      "execution_count": 206,
      "outputs": [
        {
          "output_type": "stream",
          "name": "stdout",
          "text": [
            "2.675579309463501\n",
            "2.6710140705108643\n",
            "2.6665289402008057\n",
            "2.662121057510376\n",
            "2.657789707183838\n",
            "2.653531551361084\n",
            "2.649346113204956\n",
            "2.645230531692505\n",
            "2.641184091567993\n",
            "2.637204647064209\n",
            "2.633291006088257\n",
            "2.629441261291504\n",
            "2.6256537437438965\n",
            "2.6219279766082764\n",
            "2.6182618141174316\n",
            "2.614655017852783\n",
            "2.611104726791382\n",
            "2.6076104640960693\n",
            "2.6041712760925293\n",
            "2.6007862091064453\n",
            "2.5974528789520264\n",
            "2.5941715240478516\n",
            "2.590940475463867\n",
            "2.587759256362915\n",
            "2.584625720977783\n",
            "2.58154034614563\n",
            "2.578500747680664\n",
            "2.5755066871643066\n",
            "2.5725574493408203\n",
            "2.5696523189544678\n",
            "2.566789388656616\n",
            "2.5639688968658447\n",
            "2.561189651489258\n",
            "2.558450698852539\n",
            "2.555751323699951\n",
            "2.553091049194336\n",
            "2.550468921661377\n",
            "2.5478837490081787\n",
            "2.545335531234741\n",
            "2.5428237915039062\n",
            "2.54034686088562\n",
            "2.5379045009613037\n",
            "2.535496234893799\n",
            "2.533121109008789\n",
            "2.5307796001434326\n",
            "2.5284693241119385\n",
            "2.526190996170044\n",
            "2.5239431858062744\n",
            "2.521726131439209\n",
            "2.519538640975952\n",
            "2.517380475997925\n",
            "2.5152511596679688\n",
            "2.5131497383117676\n",
            "2.511075973510742\n",
            "2.5090298652648926\n",
            "2.507009983062744\n",
            "2.505016326904297\n",
            "2.5030484199523926\n",
            "2.501105546951294\n",
            "2.499187707901001\n",
            "2.4972939491271973\n",
            "2.495424509048462\n",
            "2.4935779571533203\n",
            "2.4917550086975098\n",
            "2.4899542331695557\n",
            "2.488175868988037\n",
            "2.486419439315796\n",
            "2.4846842288970947\n",
            "2.4829702377319336\n",
            "2.4812769889831543\n",
            "2.4796042442321777\n",
            "2.4779510498046875\n",
            "2.4763174057006836\n",
            "2.474703311920166\n",
            "2.4731080532073975\n",
            "2.471531629562378\n",
            "2.469973564147949\n",
            "2.468433141708374\n",
            "2.4669103622436523\n",
            "2.4654057025909424\n",
            "2.4639174938201904\n",
            "2.4624459743499756\n",
            "2.460991382598877\n",
            "2.4595530033111572\n",
            "2.4581305980682373\n",
            "2.456723690032959\n",
            "2.4553325176239014\n",
            "2.453956127166748\n",
            "2.4525949954986572\n",
            "2.4512486457824707\n",
            "2.4499166011810303\n",
            "2.448598861694336\n",
            "2.4472949504852295\n",
            "2.44600510597229\n",
            "2.444728374481201\n",
            "2.4434654712677\n",
            "2.44221568107605\n",
            "2.440978527069092\n",
            "2.4397542476654053\n",
            "2.438542604446411\n"
          ]
        }
      ]
    },
    {
      "cell_type": "code",
      "source": [
        "prompt(\"br\")"
      ],
      "metadata": {
        "id": "1ezSkjaNpZ_B",
        "outputId": "fe715c66-18bd-4499-95ee-a03343d85ba4",
        "colab": {
          "base_uri": "https://localhost:8080/",
          "height": 70
        }
      },
      "execution_count": 210,
      "outputs": [
        {
          "output_type": "execute_result",
          "data": {
            "text/plain": [
              "'brijeiiyaaiiiieiiiieaaeiiri.iiayyeiaaaeaiaaaaatiiiai.yiiiobaasliiloaaioiieiiaaadlaiiiiiaaiaaiioatuiaiatieiyceeiriyuioeykaeiaieieqeyaiaobieiaiyaououiaiiayeaeieooiaaetiiet.oaoillioieiiliaaailiyey.ileyaiteyauaherilyyaaeieoyeoraeiyeoaayaieyaaiiiaiyetibeiaeaioaieoeaeyeaieqoiyioe.eaaiaaearoieeaeeaiiaeeateiaaaoeioiuiooieriyiasylyiiiaiiyytisayeoaaieteleieaaiaiioiiaooaeaoeiliiuiiu.aieeyaiitiyaeiaaeiiybaaiaioaeyoaartauyiam.aeiyeay.eiiileaaraiioeeoiaiiioiiaaecoiuitiaeieiayeiiooieiiiiialaoiaiialheoiyiieaiiiuy'"
            ],
            "application/vnd.google.colaboratory.intrinsic+json": {
              "type": "string"
            }
          },
          "metadata": {},
          "execution_count": 210
        }
      ]
    },
    {
      "cell_type": "code",
      "source": [
        "def forward(xs):\n",
        "  xenc = functional.one_hot(xs, num_classes=vocab_len).float().flatten(start_dim=1)\n",
        "  logits1 = xenc @ w1\n",
        "  logits = logits1 @ w2\n",
        "  counts = logits.exp()\n",
        "  probs = counts / counts.sum(1, keepdims=True)\n",
        "  outchar = itos[torch.multinomial(probs, num_samples=1).item()]\n",
        "  return outchar\n",
        "\n",
        "def prompt(ins):\n",
        "  out = ins\n",
        "  for char in range(500):\n",
        "    last_two = ins[-2:]\n",
        "    xs = torch.tensor([[stoi[last_two[0]], stoi[last_two[1]]]])\n",
        "    outs = forward(xs)\n",
        "    out += outs\n",
        "  return out\n",
        "\n",
        "prompt(\"br\")"
      ],
      "metadata": {
        "id": "B4XdxRk3s5Sm",
        "outputId": "f368da54-b9e7-4a91-a6a8-11f179f3c12a",
        "colab": {
          "base_uri": "https://localhost:8080/",
          "height": 70
        }
      },
      "execution_count": 212,
      "outputs": [
        {
          "output_type": "execute_result",
          "data": {
            "text/plain": [
              "'brhavarelpeveiieeieiekirrimoaamiefaiiauiaopea.ioeoeedezabaeu.oeipishwkelokkauxoie..xeikhreuellawiaoeuaradakpaaizeraoaaerenuiieaaseaeeuh.raaa.uaayoliaahoaaseehoinezoaoz.ay.eeiaaaarlsihieohioeeaeuoyiaaazzeiuiaioauehaofo.iie.een.raooaa.kjaoifeaorz.haaekaiiiihkk.headoiiaiiaeaoreeriieahoahoieatonkazroakakpoaeaalanaaiiaeau.earopoaroafi.ixoheuiianoeoaeiu.osaeueeakeaaaeieaoarnaeeahopodoiihelriaeedon..aeoezidoioknsadmeioheraa.rekeaioeaueaazeapezoaaeoe.saaieeaaolaokerraaoh.lauhooehntaoo.ozoeeoaealout.eiutip'"
            ],
            "application/vnd.google.colaboratory.intrinsic+json": {
              "type": "string"
            }
          },
          "metadata": {},
          "execution_count": 212
        }
      ]
    },
    {
      "cell_type": "markdown",
      "source": [
        "It ain't much but it's honest work"
      ],
      "metadata": {
        "id": "oPAEk-uGtKpF"
      }
    }
  ]
}