{
  "nbformat": 4,
  "nbformat_minor": 0,
  "metadata": {
    "colab": {
      "provenance": [],
      "include_colab_link": true
    },
    "kernelspec": {
      "name": "python3",
      "display_name": "Python 3"
    },
    "language_info": {
      "name": "python"
    }
  },
  "cells": [
    {
      "cell_type": "markdown",
      "metadata": {
        "id": "view-in-github",
        "colab_type": "text"
      },
      "source": [
        "<a href=\"https://colab.research.google.com/github/Trickshotblaster/nn-practices/blob/main/TrigramLM.ipynb\" target=\"_parent\"><img src=\"https://colab.research.google.com/assets/colab-badge.svg\" alt=\"Open In Colab\"/></a>"
      ]
    },
    {
      "cell_type": "code",
      "source": [
        "import random\n",
        "import math"
      ],
      "metadata": {
        "id": "PiuT_51Tl7Nv"
      },
      "execution_count": 448,
      "outputs": []
    },
    {
      "cell_type": "code",
      "execution_count": 449,
      "metadata": {
        "id": "3ev7uHfxkMiG"
      },
      "outputs": [],
      "source": [
        "import requests\n",
        "\n",
        "url = 'https://raw.githubusercontent.com/karpathy/char-rnn/master/data/tinyshakespeare/input.txt'\n",
        "url = 'https://raw.githubusercontent.com/karpathy/makemore/master/names.txt'\n",
        "#url = 'https://raw.githubusercontent.com/Trickshotblaster/nn-practices/main/TrigramLM.ipynb'\n",
        "response = requests.get(url)\n",
        "\n",
        "with open('file.txt', 'wb') as f:\n",
        "  f.write(response.content)"
      ]
    },
    {
      "cell_type": "code",
      "source": [
        "with open('file.txt', 'r') as data:\n",
        "  dataset = data.readlines()\n",
        "\n",
        "with open('file.txt', 'r') as data:\n",
        "  raw_data = data.read()\n"
      ],
      "metadata": {
        "id": "VeY-m-Udk9vA"
      },
      "execution_count": 450,
      "outputs": []
    },
    {
      "cell_type": "code",
      "source": [
        "dataset = raw_data.split(\"\\n\")"
      ],
      "metadata": {
        "id": "94Huj2vsI8IW"
      },
      "execution_count": 451,
      "outputs": []
    },
    {
      "cell_type": "code",
      "source": [
        "dataset[:10]"
      ],
      "metadata": {
        "colab": {
          "base_uri": "https://localhost:8080/"
        },
        "id": "fMddGXOulfd7",
        "outputId": "f1baa0cd-8729-450d-e752-11314897b94b"
      },
      "execution_count": 452,
      "outputs": [
        {
          "output_type": "execute_result",
          "data": {
            "text/plain": [
              "['emma',\n",
              " 'olivia',\n",
              " 'ava',\n",
              " 'isabella',\n",
              " 'sophia',\n",
              " 'charlotte',\n",
              " 'mia',\n",
              " 'amelia',\n",
              " 'harper',\n",
              " 'evelyn']"
            ]
          },
          "metadata": {},
          "execution_count": 452
        }
      ]
    },
    {
      "cell_type": "code",
      "source": [
        "for i, data in enumerate(dataset):\n",
        "  dataset[i] = \".\" + data + \".\""
      ],
      "metadata": {
        "id": "iAKuZ0EotAvh"
      },
      "execution_count": 453,
      "outputs": []
    },
    {
      "cell_type": "code",
      "source": [
        "dataset[:10]"
      ],
      "metadata": {
        "colab": {
          "base_uri": "https://localhost:8080/"
        },
        "id": "9EQ62S6JtHBF",
        "outputId": "7af52c24-2197-4258-be41-fda20d0dfe10"
      },
      "execution_count": 454,
      "outputs": [
        {
          "output_type": "execute_result",
          "data": {
            "text/plain": [
              "['.emma.',\n",
              " '.olivia.',\n",
              " '.ava.',\n",
              " '.isabella.',\n",
              " '.sophia.',\n",
              " '.charlotte.',\n",
              " '.mia.',\n",
              " '.amelia.',\n",
              " '.harper.',\n",
              " '.evelyn.']"
            ]
          },
          "metadata": {},
          "execution_count": 454
        }
      ]
    },
    {
      "cell_type": "code",
      "source": [
        "raw_data = ''.join(dataset)"
      ],
      "metadata": {
        "id": "6b0O8l00lsV5"
      },
      "execution_count": 455,
      "outputs": []
    },
    {
      "cell_type": "code",
      "source": [
        "raw_data[:10]"
      ],
      "metadata": {
        "colab": {
          "base_uri": "https://localhost:8080/",
          "height": 35
        },
        "id": "V45hY8_ot7RS",
        "outputId": "b989b3c2-e469-4b86-f9ca-a2739922a8dd"
      },
      "execution_count": 456,
      "outputs": [
        {
          "output_type": "execute_result",
          "data": {
            "text/plain": [
              "'.emma..oli'"
            ],
            "application/vnd.google.colaboratory.intrinsic+json": {
              "type": "string"
            }
          },
          "metadata": {},
          "execution_count": 456
        }
      ]
    },
    {
      "cell_type": "code",
      "source": [
        "train_set = dataset[:math.floor(len(dataset) * 0.8)]\n",
        "dev_set = dataset[math.floor(len(dataset) * 0.8):math.floor(len(dataset) * 0.9)]\n",
        "test_set = dataset[math.floor(len(dataset) * 0.9):len(dataset) - 1]"
      ],
      "metadata": {
        "id": "tysnVzUhfSBI"
      },
      "execution_count": 457,
      "outputs": []
    },
    {
      "cell_type": "code",
      "source": [
        "train_set[:10]"
      ],
      "metadata": {
        "id": "gclHeZg7w6tC",
        "outputId": "66d50252-5453-4fcb-c162-91dcb239b5c0",
        "colab": {
          "base_uri": "https://localhost:8080/"
        }
      },
      "execution_count": 458,
      "outputs": [
        {
          "output_type": "execute_result",
          "data": {
            "text/plain": [
              "['.emma.',\n",
              " '.olivia.',\n",
              " '.ava.',\n",
              " '.isabella.',\n",
              " '.sophia.',\n",
              " '.charlotte.',\n",
              " '.mia.',\n",
              " '.amelia.',\n",
              " '.harper.',\n",
              " '.evelyn.']"
            ]
          },
          "metadata": {},
          "execution_count": 458
        }
      ]
    },
    {
      "cell_type": "code",
      "source": [
        "dev_set[:10]"
      ],
      "metadata": {
        "id": "tFQGzNUpw9q7",
        "outputId": "e1263f72-7693-4782-9b25-42404a863b01",
        "colab": {
          "base_uri": "https://localhost:8080/"
        }
      },
      "execution_count": 459,
      "outputs": [
        {
          "output_type": "execute_result",
          "data": {
            "text/plain": [
              "['.amrom.',\n",
              " '.aniket.',\n",
              " '.ansen.',\n",
              " '.apolo.',\n",
              " '.aqib.',\n",
              " '.aquarius.',\n",
              " '.araf.',\n",
              " '.arafat.',\n",
              " '.areeb.',\n",
              " '.ariez.']"
            ]
          },
          "metadata": {},
          "execution_count": 459
        }
      ]
    },
    {
      "cell_type": "code",
      "source": [
        "test_set[:10]"
      ],
      "metadata": {
        "id": "3ZjMG1N6xAa6",
        "outputId": "b5d7a5ae-8713-4c5b-aee5-521c70c508a8",
        "colab": {
          "base_uri": "https://localhost:8080/"
        }
      },
      "execution_count": 460,
      "outputs": [
        {
          "output_type": "execute_result",
          "data": {
            "text/plain": [
              "['.arib.',\n",
              " '.arinze.',\n",
              " '.aristeo.',\n",
              " '.arlind.',\n",
              " '.armahni.',\n",
              " '.arnez.',\n",
              " '.arnie.',\n",
              " '.arrie.',\n",
              " '.arris.',\n",
              " '.arrison.']"
            ]
          },
          "metadata": {},
          "execution_count": 460
        }
      ]
    },
    {
      "cell_type": "code",
      "source": [
        "vocab = set(raw_data)"
      ],
      "metadata": {
        "id": "r8SisRZnmsXN"
      },
      "execution_count": 461,
      "outputs": []
    },
    {
      "cell_type": "code",
      "source": [
        "vocab"
      ],
      "metadata": {
        "colab": {
          "base_uri": "https://localhost:8080/"
        },
        "id": "wMmItrNTtm_F",
        "outputId": "a51dd270-240a-4592-d5ac-b7a354547e6d"
      },
      "execution_count": 462,
      "outputs": [
        {
          "output_type": "execute_result",
          "data": {
            "text/plain": [
              "{'.',\n",
              " 'a',\n",
              " 'b',\n",
              " 'c',\n",
              " 'd',\n",
              " 'e',\n",
              " 'f',\n",
              " 'g',\n",
              " 'h',\n",
              " 'i',\n",
              " 'j',\n",
              " 'k',\n",
              " 'l',\n",
              " 'm',\n",
              " 'n',\n",
              " 'o',\n",
              " 'p',\n",
              " 'q',\n",
              " 'r',\n",
              " 's',\n",
              " 't',\n",
              " 'u',\n",
              " 'v',\n",
              " 'w',\n",
              " 'x',\n",
              " 'y',\n",
              " 'z'}"
            ]
          },
          "metadata": {},
          "execution_count": 462
        }
      ]
    },
    {
      "cell_type": "code",
      "source": [
        "vocab_len = len(vocab)"
      ],
      "metadata": {
        "id": "Z4j0KdGLlLZv"
      },
      "execution_count": 463,
      "outputs": []
    },
    {
      "cell_type": "code",
      "source": [
        "vocab_len"
      ],
      "metadata": {
        "colab": {
          "base_uri": "https://localhost:8080/"
        },
        "id": "fq2cq6wClYmI",
        "outputId": "4d875fd5-31a9-4473-de17-b140f62be76c"
      },
      "execution_count": 464,
      "outputs": [
        {
          "output_type": "execute_result",
          "data": {
            "text/plain": [
              "27"
            ]
          },
          "metadata": {},
          "execution_count": 464
        }
      ]
    },
    {
      "cell_type": "code",
      "source": [
        "stoi = {char:i for i, char in enumerate(vocab)}"
      ],
      "metadata": {
        "id": "9KA09eJhmbl2"
      },
      "execution_count": 465,
      "outputs": []
    },
    {
      "cell_type": "code",
      "source": [
        "itos = {i:char for i, char in enumerate(vocab)}"
      ],
      "metadata": {
        "id": "RjRr7qIVm7Qx"
      },
      "execution_count": 466,
      "outputs": []
    },
    {
      "cell_type": "code",
      "source": [
        "import torch"
      ],
      "metadata": {
        "id": "lRWpmX5jpbnE"
      },
      "execution_count": 467,
      "outputs": []
    },
    {
      "cell_type": "code",
      "source": [
        "import torch.nn.functional as functional"
      ],
      "metadata": {
        "id": "9rCZJJKhp4LV"
      },
      "execution_count": 468,
      "outputs": []
    },
    {
      "cell_type": "code",
      "source": [
        "# make dataset\n",
        "xs, ys = [], []\n",
        "for data in train_set:\n",
        "  for ch1, ch2, ch3 in zip(data, data[1:], data[2:]):\n",
        "    xs.append([stoi[ch1], stoi[ch2]])\n",
        "    ys.append(stoi[ch3])\n",
        "\n",
        "xs = torch.tensor(xs)\n",
        "ys = torch.tensor(ys)\n",
        "num = xs.nelement()\n",
        "num"
      ],
      "metadata": {
        "colab": {
          "base_uri": "https://localhost:8080/"
        },
        "id": "1nhNqsYvl0xm",
        "outputId": "700ba7d0-316e-49be-c0fe-b69fbd1a6b2f"
      },
      "execution_count": 469,
      "outputs": [
        {
          "output_type": "execute_result",
          "data": {
            "text/plain": [
              "314304"
            ]
          },
          "metadata": {},
          "execution_count": 469
        }
      ]
    },
    {
      "cell_type": "code",
      "source": [
        "ws = torch.randn((vocab_len*2, vocab_len))\n",
        "ws.requires_grad = True\n",
        "ws.shape"
      ],
      "metadata": {
        "colab": {
          "base_uri": "https://localhost:8080/"
        },
        "id": "7gEB2g5WpfRE",
        "outputId": "d95f923d-f1b1-4961-cc69-1d9741de3285"
      },
      "execution_count": 470,
      "outputs": [
        {
          "output_type": "execute_result",
          "data": {
            "text/plain": [
              "torch.Size([54, 27])"
            ]
          },
          "metadata": {},
          "execution_count": 470
        }
      ]
    },
    {
      "cell_type": "code",
      "source": [
        "xenc = functional.one_hot(xs[0], num_classes=vocab_len).float().flatten()\n",
        "xenc @ ws"
      ],
      "metadata": {
        "colab": {
          "base_uri": "https://localhost:8080/"
        },
        "id": "R2cwT-tEpvpL",
        "outputId": "1cc825c8-5a4c-4a43-fdca-efca7fd01d81"
      },
      "execution_count": 471,
      "outputs": [
        {
          "output_type": "execute_result",
          "data": {
            "text/plain": [
              "tensor([-0.4084,  0.3408,  1.7516, -0.7858,  0.3800,  0.3164,  0.2218, -1.1666,\n",
              "        -1.2482,  3.7461, -1.8359,  0.0464,  1.4693, -1.5752, -0.7963, -2.6585,\n",
              "        -0.5314,  0.9454,  0.7938, -1.4467, -0.5844, -2.4619, -1.1767,  0.1932,\n",
              "         2.3272, -0.0392,  1.5166], grad_fn=<SqueezeBackward4>)"
            ]
          },
          "metadata": {},
          "execution_count": 471
        }
      ]
    },
    {
      "cell_type": "code",
      "source": [
        "(xenc @ ws).shape"
      ],
      "metadata": {
        "id": "RjsgWVRZzQ8R",
        "outputId": "5cd9486d-6876-42ba-e984-58b46f61954a",
        "colab": {
          "base_uri": "https://localhost:8080/"
        }
      },
      "execution_count": 472,
      "outputs": [
        {
          "output_type": "execute_result",
          "data": {
            "text/plain": [
              "torch.Size([27])"
            ]
          },
          "metadata": {},
          "execution_count": 472
        }
      ]
    },
    {
      "cell_type": "code",
      "source": [
        "num_epochs = 100\n",
        "lr = 20"
      ],
      "metadata": {
        "id": "b62zCT1yreRx"
      },
      "execution_count": 473,
      "outputs": []
    },
    {
      "cell_type": "code",
      "source": [
        "torch.randn((3, 1))"
      ],
      "metadata": {
        "id": "kJYkhycyz8-p",
        "outputId": "7174296b-0dd7-408d-b3c6-b9e5b07ef166",
        "colab": {
          "base_uri": "https://localhost:8080/"
        }
      },
      "execution_count": 474,
      "outputs": [
        {
          "output_type": "execute_result",
          "data": {
            "text/plain": [
              "tensor([[-0.6523],\n",
              "        [ 0.2456],\n",
              "        [ 0.5307]])"
            ]
          },
          "metadata": {},
          "execution_count": 474
        }
      ]
    },
    {
      "cell_type": "code",
      "source": [
        "for epoch in range(num_epochs):\n",
        "\n",
        "    xenc = functional.one_hot(xs, num_classes=vocab_len).float().flatten(start_dim=1)\n",
        "    logits = xenc @ ws\n",
        "    counts = logits.exp()\n",
        "    probs = counts / counts.sum(1, keepdim=True)\n",
        "    loss = -probs[torch.arange(int(num / 2)), ys].log().mean() + (ws.mean() * 0.01)\n",
        "    print(loss.item())\n",
        "\n",
        "    ws.grad = None\n",
        "    loss.backward()\n",
        "    ws.data += ws.grad * -lr"
      ],
      "metadata": {
        "colab": {
          "base_uri": "https://localhost:8080/"
        },
        "id": "oohZ5r_PrqZm",
        "outputId": "f1491cca-808a-40b4-83f5-9799ac720c96"
      },
      "execution_count": 475,
      "outputs": [
        {
          "output_type": "stream",
          "name": "stdout",
          "text": [
            "3.9720306396484375\n",
            "3.67653489112854\n",
            "3.4562888145446777\n",
            "3.2916576862335205\n",
            "3.1641571521759033\n",
            "3.0605287551879883\n",
            "2.9741897583007812\n",
            "2.9016494750976562\n",
            "2.8406293392181396\n",
            "2.78926157951355\n",
            "2.7457776069641113\n",
            "2.7085485458374023\n",
            "2.676234006881714\n",
            "2.647834300994873\n",
            "2.6226298809051514\n",
            "2.6000959873199463\n",
            "2.579831123352051\n",
            "2.5615177154541016\n",
            "2.544893741607666\n",
            "2.529743194580078\n",
            "2.515883445739746\n",
            "2.5031614303588867\n",
            "2.4914438724517822\n",
            "2.4806182384490967\n",
            "2.4705874919891357\n",
            "2.4612672328948975\n",
            "2.4525833129882812\n",
            "2.444471836090088\n",
            "2.4368762969970703\n",
            "2.429748296737671\n",
            "2.423043727874756\n",
            "2.416724443435669\n",
            "2.410756826400757\n",
            "2.4051103591918945\n",
            "2.399759531021118\n",
            "2.394679307937622\n",
            "2.3898489475250244\n",
            "2.385249376296997\n",
            "2.380863904953003\n",
            "2.376676321029663\n",
            "2.372673988342285\n",
            "2.368842363357544\n",
            "2.3651719093322754\n",
            "2.3616509437561035\n",
            "2.3582701683044434\n",
            "2.3550214767456055\n",
            "2.3518965244293213\n",
            "2.3488876819610596\n",
            "2.3459887504577637\n",
            "2.343193292617798\n",
            "2.340496063232422\n",
            "2.3378913402557373\n",
            "2.335374116897583\n",
            "2.332940101623535\n",
            "2.330585241317749\n",
            "2.32830548286438\n",
            "2.3260974884033203\n",
            "2.3239569664001465\n",
            "2.3218817710876465\n",
            "2.319868564605713\n",
            "2.3179142475128174\n",
            "2.316016674041748\n",
            "2.314173460006714\n",
            "2.3123815059661865\n",
            "2.3106398582458496\n",
            "2.308945655822754\n",
            "2.3072969913482666\n",
            "2.305692434310913\n",
            "2.3041298389434814\n",
            "2.302607536315918\n",
            "2.3011245727539062\n",
            "2.2996792793273926\n",
            "2.298269748687744\n",
            "2.2968952655792236\n",
            "2.2955543994903564\n",
            "2.294245719909668\n",
            "2.2929680347442627\n",
            "2.2917206287384033\n",
            "2.2905025482177734\n",
            "2.2893123626708984\n",
            "2.288149356842041\n",
            "2.287013053894043\n",
            "2.2859017848968506\n",
            "2.2848150730133057\n",
            "2.28375244140625\n",
            "2.282712459564209\n",
            "2.2816948890686035\n",
            "2.2806992530822754\n",
            "2.279724359512329\n",
            "2.2787699699401855\n",
            "2.2778353691101074\n",
            "2.2769196033477783\n",
            "2.276022434234619\n",
            "2.275143623352051\n",
            "2.274282217025757\n",
            "2.2734375\n",
            "2.2726099491119385\n",
            "2.2717978954315186\n",
            "2.2710018157958984\n",
            "2.2702207565307617\n"
          ]
        }
      ]
    },
    {
      "cell_type": "code",
      "source": [
        "xs[:10]"
      ],
      "metadata": {
        "id": "crvU517kIuum",
        "outputId": "b7058482-0e14-465a-dff4-b38ec8edc11f",
        "colab": {
          "base_uri": "https://localhost:8080/"
        }
      },
      "execution_count": 476,
      "outputs": [
        {
          "output_type": "execute_result",
          "data": {
            "text/plain": [
              "tensor([[12, 21],\n",
              "        [21, 20],\n",
              "        [20, 20],\n",
              "        [20,  9],\n",
              "        [12, 18],\n",
              "        [18,  3],\n",
              "        [ 3, 25],\n",
              "        [25,  1],\n",
              "        [ 1, 25],\n",
              "        [25,  9]])"
            ]
          },
          "metadata": {},
          "execution_count": 476
        }
      ]
    },
    {
      "cell_type": "code",
      "source": [
        "def forward(xs):\n",
        "  xenc = functional.one_hot(xs, num_classes=vocab_len).float().flatten(start_dim=1)\n",
        "  logits = xenc @ ws\n",
        "  counts = logits.exp()\n",
        "  probs = counts / counts.sum(1, keepdims=True)\n",
        "  outchar = itos[torch.multinomial(probs, num_samples=1).item()]\n",
        "  return outchar\n",
        "\n",
        "def prompt(ins):\n",
        "  out = ins\n",
        "  for char in range(500):\n",
        "    last_two = ins[-2:]\n",
        "    xs = torch.tensor([[stoi[last_two[0]], stoi[last_two[1]]]])\n",
        "    outs = forward(xs)\n",
        "    out += outs\n",
        "  return out\n",
        "\n",
        "prompt(\"Rom\")"
      ],
      "metadata": {
        "colab": {
          "base_uri": "https://localhost:8080/",
          "height": 71
        },
        "id": "koeHicLTt4Os",
        "outputId": "28ed0984-63d6-4154-bca2-b64b684111d2"
      },
      "execution_count": 477,
      "outputs": [
        {
          "output_type": "execute_result",
          "data": {
            "text/plain": [
              "'Romda.eiiaa.ayqsieii.ii.jaeauaiib.pviieiaii.a.oioeaaabeiiiawmiueeareeawiaaalibl.eeaeaeaaaxeiiya.iabiu.ae.ageeyaaibsmavmaaieaaiaaymeaafaaifaioiixaaigiiyeeiiei.eaaaazybiaarewaaa..bdb.aa.yaieaaaeaaiiaaaeaaiaaaf.aaiay.eaijiieaeyaafazeb.ae..aiiaaeiae.igaaeabaaaiav.h.caeau.bjiaaabii.a.vbie.aei.iabuiae.ua.ene.anai...t.iaiueaiba.raiaai.nyiiiieaataaab.aiuaai.alibeiaaaaa.iwkbaaiina.yaeae..aiibbeaa.ie.aiamie.aaoai.b.bawei.yareaebeebveeaaaiai.yiea.iihaia.azniueaeaaiaeia.aiy..aaeaf.icaeiaebi.iafyiaawi.aaiaebaid'"
            ],
            "application/vnd.google.colaboratory.intrinsic+json": {
              "type": "string"
            }
          },
          "metadata": {},
          "execution_count": 477
        }
      ]
    },
    {
      "cell_type": "code",
      "source": [
        "# make test set\n",
        "txs, tys = [], []\n",
        "for data in test_set:\n",
        "  for ch1, ch2, ch3 in zip(data, data[1:], data[2:]):\n",
        "    txs.append([stoi[ch1], stoi[ch2]])\n",
        "    tys.append(stoi[ch3])\n",
        "\n",
        "txs = torch.tensor(txs)\n",
        "tys = torch.tensor(tys)\n",
        "tnum = txs.nelement()\n",
        "tnum"
      ],
      "metadata": {
        "id": "E1aCdrq5gMg0",
        "outputId": "48785171-df96-40f3-f675-101ba8491702",
        "colab": {
          "base_uri": "https://localhost:8080/"
        }
      },
      "execution_count": 478,
      "outputs": [
        {
          "output_type": "execute_result",
          "data": {
            "text/plain": [
              "39052"
            ]
          },
          "metadata": {},
          "execution_count": 478
        }
      ]
    },
    {
      "cell_type": "code",
      "source": [
        "xenc = functional.one_hot(txs, num_classes=vocab_len).float().flatten(start_dim=1)\n",
        "logits = xenc @ ws\n",
        "counts = logits.exp()\n",
        "probs = counts / counts.sum(1, keepdim=True)\n",
        "loss = -probs[torch.arange(int(tnum / 2)), tys].log().mean() + (ws.mean() * 0.01)\n",
        "print(loss.item())"
      ],
      "metadata": {
        "id": "c2U7N2msgXHI",
        "outputId": "821c558a-c0d9-42b3-9495-dc9fa3807916",
        "colab": {
          "base_uri": "https://localhost:8080/"
        }
      },
      "execution_count": 479,
      "outputs": [
        {
          "output_type": "stream",
          "name": "stdout",
          "text": [
            "2.487349033355713\n"
          ]
        }
      ]
    },
    {
      "cell_type": "code",
      "source": [
        "# make dev set\n",
        "dxs, dys = [], []\n",
        "for data in dev_set:\n",
        "  for ch1, ch2, ch3 in zip(data, data[1:], data[2:]):\n",
        "    dxs.append([stoi[ch1], stoi[ch2]])\n",
        "    dys.append(stoi[ch3])\n",
        "\n",
        "dxs = torch.tensor(dxs)\n",
        "dys = torch.tensor(dys)\n",
        "dnum = dxs.nelement()\n",
        "dnum"
      ],
      "metadata": {
        "id": "JDMlg63jgiCx",
        "outputId": "5324218d-0685-4980-cc0b-e4407ea6a7f2",
        "colab": {
          "base_uri": "https://localhost:8080/"
        }
      },
      "execution_count": 480,
      "outputs": [
        {
          "output_type": "execute_result",
          "data": {
            "text/plain": [
              "38860"
            ]
          },
          "metadata": {},
          "execution_count": 480
        }
      ]
    },
    {
      "cell_type": "code",
      "source": [
        "dxs[:10]"
      ],
      "metadata": {
        "id": "s4BVac8gy-Au",
        "outputId": "06426729-c9e8-4611-8e6e-2c5baa594f21",
        "colab": {
          "base_uri": "https://localhost:8080/"
        }
      },
      "execution_count": 481,
      "outputs": [
        {
          "output_type": "execute_result",
          "data": {
            "text/plain": [
              "tensor([[12,  9],\n",
              "        [ 9, 20],\n",
              "        [20, 19],\n",
              "        [19, 18],\n",
              "        [18, 20],\n",
              "        [12,  9],\n",
              "        [ 9,  0],\n",
              "        [ 0, 25],\n",
              "        [25, 24],\n",
              "        [24, 21]])"
            ]
          },
          "metadata": {},
          "execution_count": 481
        }
      ]
    },
    {
      "cell_type": "code",
      "source": [
        "xenc = functional.one_hot(dxs, num_classes=vocab_len).float().flatten(start_dim=1)\n",
        "logits = xenc @ ws\n",
        "counts = logits.exp()\n",
        "probs = counts / counts.sum(1, keepdim=True)\n",
        "loss = -probs[torch.arange(int(dnum / 2)), dys].log().mean() + (ws.mean() * 0.01)\n",
        "print(loss.item())"
      ],
      "metadata": {
        "id": "qgB7lKsCgjSe",
        "outputId": "d5b02a86-ea3c-4dc2-97a0-64e069b9eb8b",
        "colab": {
          "base_uri": "https://localhost:8080/"
        }
      },
      "execution_count": 482,
      "outputs": [
        {
          "output_type": "stream",
          "name": "stdout",
          "text": [
            "2.4953885078430176\n"
          ]
        }
      ]
    },
    {
      "cell_type": "markdown",
      "source": [
        "Looks like it might be overfitting? The dev set results seem fine, but the test set loss it much higher than it should be."
      ],
      "metadata": {
        "id": "a87DpLMBgrDs"
      }
    },
    {
      "cell_type": "code",
      "source": [
        "ws = torch.randn((vocab_len*2, vocab_len))\n",
        "ws.requires_grad = True\n",
        "ws.shape"
      ],
      "metadata": {
        "colab": {
          "base_uri": "https://localhost:8080/"
        },
        "id": "BSZuKtUTsQlS",
        "outputId": "a2d30493-2f6f-4704-909f-6137ceb9fdb5"
      },
      "execution_count": 483,
      "outputs": [
        {
          "output_type": "execute_result",
          "data": {
            "text/plain": [
              "torch.Size([54, 27])"
            ]
          },
          "metadata": {},
          "execution_count": 483
        }
      ]
    },
    {
      "cell_type": "code",
      "source": [
        "num_epochs = 100\n",
        "lr = 20\n",
        "regularization = 0.01"
      ],
      "metadata": {
        "id": "CUeGNQeHhCso"
      },
      "execution_count": 484,
      "outputs": []
    },
    {
      "cell_type": "code",
      "source": [
        "last_loss = 2.1\n",
        "\n",
        "for epoch in range(num_epochs):\n",
        "    dxenc = functional.one_hot(dxs, num_classes=vocab_len).float().flatten(start_dim=1)\n",
        "    dlogits = dxenc @ ws\n",
        "    dcounts = dlogits.exp()\n",
        "    dprobs = dcounts / dcounts.sum(1, keepdim=True)\n",
        "    dloss = -dprobs[torch.arange(int(dnum / 2)), dys].log().mean() + (ws.mean() * regularization)\n",
        "    dloss.detach()\n",
        "\n",
        "    xenc = functional.one_hot(xs, num_classes=vocab_len).float().flatten(start_dim=1)\n",
        "    logits = xenc @ ws\n",
        "    counts = logits.exp()\n",
        "    probs = counts / counts.sum(1, keepdim=True)\n",
        "    loss = -probs[torch.arange(int(num / 2)), ys].log().mean() + (ws.mean() * regularization * (abs(last_loss - dloss)))\n",
        "\n",
        "    print(loss.item())\n",
        "    ws.grad = None\n",
        "    loss.backward()\n",
        "    ws.data += ws.grad * -lr\n",
        "\n",
        "    last_loss = loss.item()"
      ],
      "metadata": {
        "id": "RO0WqQUBhGH-",
        "outputId": "edc00865-b457-4618-88ac-5346f2fd8b3c",
        "colab": {
          "base_uri": "https://localhost:8080/"
        }
      },
      "execution_count": 485,
      "outputs": [
        {
          "output_type": "stream",
          "name": "stdout",
          "text": [
            "3.9933948516845703\n",
            "3.6653103828430176\n",
            "3.4273719787597656\n",
            "3.254211902618408\n",
            "3.125101089477539\n",
            "3.024634838104248\n",
            "2.943120002746582\n",
            "2.8754098415374756\n",
            "2.818420648574829\n",
            "2.769979476928711\n",
            "2.72843074798584\n",
            "2.6924736499786377\n",
            "2.6610751152038574\n",
            "2.633422613143921\n",
            "2.608877658843994\n",
            "2.5869436264038086\n",
            "2.567228317260742\n",
            "2.5494189262390137\n",
            "2.533259391784668\n",
            "2.518538236618042\n",
            "2.505075693130493\n",
            "2.492720365524292\n",
            "2.4813413619995117\n",
            "2.4708266258239746\n",
            "2.4610798358917236\n",
            "2.452017307281494\n",
            "2.4435675144195557\n",
            "2.4356679916381836\n",
            "2.42826509475708\n",
            "2.4213125705718994\n",
            "2.4147684574127197\n",
            "2.408597707748413\n",
            "2.402768611907959\n",
            "2.3972535133361816\n",
            "2.392026662826538\n",
            "2.3870673179626465\n",
            "2.382354497909546\n",
            "2.3778703212738037\n",
            "2.37359881401062\n",
            "2.369525194168091\n",
            "2.3656363487243652\n",
            "2.361919403076172\n",
            "2.358363628387451\n",
            "2.3549585342407227\n",
            "2.3516948223114014\n",
            "2.3485636711120605\n",
            "2.3455569744110107\n",
            "2.342667579650879\n",
            "2.339888572692871\n",
            "2.3372130393981934\n",
            "2.3346359729766846\n",
            "2.3321516513824463\n",
            "2.3297548294067383\n",
            "2.3274407386779785\n",
            "2.3252053260803223\n",
            "2.3230443000793457\n",
            "2.320953845977783\n",
            "2.3189303874969482\n",
            "2.3169705867767334\n",
            "2.3150715827941895\n",
            "2.313230276107788\n",
            "2.3114442825317383\n",
            "2.3097105026245117\n",
            "2.3080267906188965\n",
            "2.3063912391662598\n",
            "2.3048012256622314\n",
            "2.303255081176758\n",
            "2.301751136779785\n",
            "2.3002872467041016\n",
            "2.2988622188568115\n",
            "2.297473430633545\n",
            "2.2961208820343018\n",
            "2.29480242729187\n",
            "2.2935171127319336\n",
            "2.2922627925872803\n",
            "2.29103946685791\n",
            "2.2898454666137695\n",
            "2.288679361343384\n",
            "2.2875406742095947\n",
            "2.286428689956665\n",
            "2.28534197807312\n",
            "2.2842798233032227\n",
            "2.2832412719726562\n",
            "2.2822256088256836\n",
            "2.2812328338623047\n",
            "2.280261516571045\n",
            "2.2793102264404297\n",
            "2.2783796787261963\n",
            "2.2774689197540283\n",
            "2.2765769958496094\n",
            "2.275702953338623\n",
            "2.2748472690582275\n",
            "2.2740089893341064\n",
            "2.2731871604919434\n",
            "2.2723820209503174\n",
            "2.271592617034912\n",
            "2.2708187103271484\n",
            "2.270059823989868\n",
            "2.269315481185913\n",
            "2.268585443496704\n"
          ]
        }
      ]
    },
    {
      "cell_type": "code",
      "source": [
        "prompt(\"bro\")"
      ],
      "metadata": {
        "colab": {
          "base_uri": "https://localhost:8080/",
          "height": 71
        },
        "id": "gk1RgGqtr9Gn",
        "outputId": "b275c08b-5747-43dd-9fb8-1ed0dc216049"
      },
      "execution_count": 486,
      "outputs": [
        {
          "output_type": "execute_result",
          "data": {
            "text/plain": [
              "'broenn.zchcanegsnsalbn..kil..ncnlnssnonenn.isnepvn.nxpsnnsy...swsaspnnbkios.ocoouih.lsnisscnnln.ls.tsnsnspnnony.ssnsqdcndyhlhnonyenrpnsysuneenogei.sunnp.mcnshsnoe.eh.nnmsnnbdknunn.nnsnsut..cgn.knsr.ylh.dnwnllc.rn.goknssrznnldneuneep.dgckn.oncd.s.chsnzqsennvssrnnz.nnt.ognsgnuyoknssvslsnnonmcsnnnrssynednvnnnnnnn.snlsybgnionkid.asns.nlno.nn.snnhnsiilavh.ssnl.onnesn.dqke..nosdsun.snnnlsano.snsn.jd.pslnrnonngyoanngnsnlnusnacols.nlyshnnnnsnnho.nnduasnvssneenszlshsnnthine..segsndrnennuhnynv.o.e.dwnnrnnskn'"
            ],
            "application/vnd.google.colaboratory.intrinsic+json": {
              "type": "string"
            }
          },
          "metadata": {},
          "execution_count": 486
        }
      ]
    },
    {
      "cell_type": "markdown",
      "source": [
        "Idk, maybe? I've definitely screwed something up here but I have no idea what"
      ],
      "metadata": {
        "id": "ZIRWfgXmsdyV"
      }
    },
    {
      "cell_type": "code",
      "source": [
        "num_epochs = 100\n",
        "lr = 20\n",
        "regularization = 0.1"
      ],
      "metadata": {
        "id": "MHg5sbrru2_D"
      },
      "execution_count": 487,
      "outputs": []
    },
    {
      "cell_type": "code",
      "source": [
        "ws = torch.randn((vocab_len*2, vocab_len))\n",
        "ws.requires_grad = True\n",
        "ws.shape"
      ],
      "metadata": {
        "id": "IX2pJYM1u7kb",
        "outputId": "b54cf043-6d09-4ead-92e8-ee90d8843443",
        "colab": {
          "base_uri": "https://localhost:8080/"
        }
      },
      "execution_count": 488,
      "outputs": [
        {
          "output_type": "execute_result",
          "data": {
            "text/plain": [
              "torch.Size([54, 27])"
            ]
          },
          "metadata": {},
          "execution_count": 488
        }
      ]
    },
    {
      "cell_type": "code",
      "source": [
        "for epoch in range(num_epochs):\n",
        "\n",
        "    xenc = functional.one_hot(xs, num_classes=vocab_len).float().flatten(start_dim=1)\n",
        "    logits = xenc @ ws\n",
        "    counts = logits.exp()\n",
        "    probs = counts / counts.sum(1, keepdim=True)\n",
        "    loss = -probs[torch.arange(int(num / 2)), ys].log().mean() + (ws.mean() * regularization)\n",
        "\n",
        "    print(loss.item())\n",
        "    ws.grad = None\n",
        "    loss.backward()\n",
        "    ws.data += ws.grad * -lr\n",
        "\n"
      ],
      "metadata": {
        "id": "hM5UbVbwu-E4",
        "outputId": "dfeeaece-2e4a-4d8a-9e6a-95534259f39e",
        "colab": {
          "base_uri": "https://localhost:8080/"
        }
      },
      "execution_count": 489,
      "outputs": [
        {
          "output_type": "stream",
          "name": "stdout",
          "text": [
            "4.29519510269165\n",
            "3.8420252799987793\n",
            "3.5212149620056152\n",
            "3.293205976486206\n",
            "3.1379246711730957\n",
            "3.0283141136169434\n",
            "2.9440038204193115\n",
            "2.8752810955047607\n",
            "2.8177661895751953\n",
            "2.7690062522888184\n",
            "2.727297782897949\n",
            "2.6913259029388428\n",
            "2.6600441932678223\n",
            "2.6326217651367188\n",
            "2.608396291732788\n",
            "2.586840867996216\n",
            "2.567530870437622\n",
            "2.5501203536987305\n",
            "2.5343313217163086\n",
            "2.5199341773986816\n",
            "2.5067412853240967\n",
            "2.494598627090454\n",
            "2.4833784103393555\n",
            "2.4729716777801514\n",
            "2.4632883071899414\n",
            "2.454249382019043\n",
            "2.445789098739624\n",
            "2.4378485679626465\n",
            "2.43037748336792\n",
            "2.423332929611206\n",
            "2.4166760444641113\n",
            "2.4103732109069824\n",
            "2.4043943881988525\n",
            "2.3987138271331787\n",
            "2.3933069705963135\n",
            "2.3881547451019287\n",
            "2.383236885070801\n",
            "2.3785369396209717\n",
            "2.374040365219116\n",
            "2.3697333335876465\n",
            "2.365602970123291\n",
            "2.361637830734253\n",
            "2.3578286170959473\n",
            "2.3541648387908936\n",
            "2.3506386280059814\n",
            "2.3472414016723633\n",
            "2.343966245651245\n",
            "2.340806484222412\n",
            "2.3377554416656494\n",
            "2.334808111190796\n",
            "2.331958293914795\n",
            "2.3292012214660645\n",
            "2.3265328407287598\n",
            "2.3239481449127197\n",
            "2.3214430809020996\n",
            "2.31901478767395\n",
            "2.3166587352752686\n",
            "2.3143720626831055\n",
            "2.3121519088745117\n",
            "2.3099944591522217\n",
            "2.3078978061676025\n",
            "2.305859327316284\n",
            "2.3038759231567383\n",
            "2.301945924758911\n",
            "2.3000667095184326\n",
            "2.298236846923828\n",
            "2.2964537143707275\n",
            "2.2947158813476562\n",
            "2.2930209636688232\n",
            "2.2913687229156494\n",
            "2.2897560596466064\n",
            "2.288182020187378\n",
            "2.2866454124450684\n",
            "2.285144805908203\n",
            "2.2836785316467285\n",
            "2.282245397567749\n",
            "2.2808451652526855\n",
            "2.279475212097168\n",
            "2.2781357765197754\n",
            "2.276825189590454\n",
            "2.2755424976348877\n",
            "2.2742865085601807\n",
            "2.273057222366333\n",
            "2.271852731704712\n",
            "2.2706727981567383\n",
            "2.269517183303833\n",
            "2.268383264541626\n",
            "2.2672719955444336\n",
            "2.2661826610565186\n",
            "2.2651140689849854\n",
            "2.2640650272369385\n",
            "2.263035774230957\n",
            "2.2620253562927246\n",
            "2.261033535003662\n",
            "2.260059356689453\n",
            "2.2591023445129395\n",
            "2.258162498474121\n",
            "2.2572383880615234\n",
            "2.256330728530884\n",
            "2.2554383277893066\n"
          ]
        }
      ]
    },
    {
      "cell_type": "code",
      "source": [
        "prompt('em')"
      ],
      "metadata": {
        "id": "ZClo7x4HvGb3",
        "outputId": "846cd66e-3f3d-4c08-e5b4-2869ed6a36db",
        "colab": {
          "base_uri": "https://localhost:8080/",
          "height": 71
        }
      },
      "execution_count": 490,
      "outputs": [
        {
          "output_type": "execute_result",
          "data": {
            "text/plain": [
              "'em.aoaii.aj...aiye.aaoi.aaii..aiaii.eiiiet.uyiiaaia.g..ai.baraaiyauimy.e.lmam.a..iaaa.iruqeliaoam.saiaea.aaeibya.i.iiema.eii.aaoabaaayaeatiaayaufh.iaeaai.omauie.kaaialyaaa.bi.a.oyxaya.aiamioty.aaai..tem..mmaee.i.s..aaiiia.i.adti.alii.smaioaimbjii.aa.iei.aiaaey.ai.ocbmuyuy.ayeeilie.qa.i.iaiaiitsaiym.i.ai.ime.yay.aamiii.i.mmai.eaie.ytieioariqaaemi.e.a.iiy.ai.iiia.e.ya.ia.ii.amaaemiusonyeaeai.aema.uwdieyialbaseaaieeer.iamaa.aaai.oiacaiaza.aaeaaao.yaiataimit..a.rtsam..iame.ahiaeaia.amahidiaeeaioag.a.j'"
            ],
            "application/vnd.google.colaboratory.intrinsic+json": {
              "type": "string"
            }
          },
          "metadata": {},
          "execution_count": 490
        }
      ]
    },
    {
      "cell_type": "markdown",
      "source": [
        "Okay this seems promising..."
      ],
      "metadata": {
        "id": "O4H4ywYCvOKR"
      }
    },
    {
      "cell_type": "markdown",
      "source": [
        "aeoioa, vim, esiaota, aipe, seto, and ioa are all decent"
      ],
      "metadata": {
        "id": "I8TJJVFIvkK7"
      }
    },
    {
      "cell_type": "code",
      "source": [
        "prompt('em')"
      ],
      "metadata": {
        "id": "bio5Ksp1v6ES",
        "outputId": "fc173f9f-6298-4d8d-eafe-d59500f85f51",
        "colab": {
          "base_uri": "https://localhost:8080/",
          "height": 71
        }
      },
      "execution_count": 491,
      "outputs": [
        {
          "output_type": "execute_result",
          "data": {
            "text/plain": [
              "'emcaey.yai.i.ieaaltamiaas.eouaaaiyii.b.ayii.eim.iyy.o.aaialie.yr.ieailanojiii.aiaiee.tay.eayitii.aii.yna.aaayanmaa.oiali.itcayeal.ha.ualm..eema.deeia.a.iaema.i.biaggaitiaaaa.oguv.a..icy.r..tig.e.y.aahaila.ioiaihai.ei.ioiai.e.a..am.oca..ma.iaibaaayaioaaeamac.eiaa.f.aea...daiooi.mymtviearmat.a.aiyaamqoaiaiajagjaa..eciai.a.mi.ataya.tytaaaa..aeaatbamal.oaaaidmd..apeaawaj.yit.iiiiei.a.snyaayaa.iaino.arimayraaa..hii.rayti.aiiaaaiaigih.iel.as.a.eeioaia.aieoeaae..iiiloga.iyy..bt.aeom.aeabmdooeaaiaaieaaian'"
            ],
            "application/vnd.google.colaboratory.intrinsic+json": {
              "type": "string"
            }
          },
          "metadata": {},
          "execution_count": 491
        }
      ]
    },
    {
      "cell_type": "code",
      "source": [
        "ws = torch.randn((vocab_len*2, vocab_len))\n",
        "ws.requires_grad = True\n",
        "ws.shape"
      ],
      "metadata": {
        "id": "IaAESdxwvSkc",
        "outputId": "49c5d265-a34b-40db-b6c5-063012bdcad6",
        "colab": {
          "base_uri": "https://localhost:8080/"
        }
      },
      "execution_count": 492,
      "outputs": [
        {
          "output_type": "execute_result",
          "data": {
            "text/plain": [
              "torch.Size([54, 27])"
            ]
          },
          "metadata": {},
          "execution_count": 492
        }
      ]
    },
    {
      "cell_type": "code",
      "source": [
        "prompt('em')"
      ],
      "metadata": {
        "id": "qzEmPN-CvWQS",
        "outputId": "115bb9cb-9715-4508-8f94-7da4a2a78ab3",
        "colab": {
          "base_uri": "https://localhost:8080/",
          "height": 71
        }
      },
      "execution_count": 493,
      "outputs": [
        {
          "output_type": "execute_result",
          "data": {
            "text/plain": [
              "'embmqqbbbbqnq.abnqhbtbb..tqbbbbbnq.bb.hbbbbqqqbbb.bbqqbrqy..obbq.bybhhbhwqnbbbbbbboymhbbbbbbbbbbbbbbbb.hbbybb.bnbbbbbbhbbbbbmq.bbbbb.babqpbbbbbbbbqbbq.bnbbhqbbpq.bbbbbqbbtbbbbtbbqtbab.bbyhb.bbbbbbgbqbbb.qmbbbqqbqbb.qbbqbebqbbq.qqbqbymqb.bbqqzbbbbqbqby.fbzhbbbbqsaobbh.qbbbbbbbqbbqbqby.bbbbbhybbbbqbbbbbbqbbhbbbbsqbbbq.bqqyzbbbbbbb.bbsqhbqbbbqbqbbfbbqbbbpbbbbbbbbbbbqbbhbbnwbbykbqbtblbqbbbbbqbyqbb.qbqbbqbnbb..by.fhbbqqbbhbxbzqbbyqnbqbb.qbbbqbbbbbyqbbbrbbbbbbqqhbbbbnhbbbmqqbbbqbbnbyqbbbbxb.qbbqnbqqqbhg'"
            ],
            "application/vnd.google.colaboratory.intrinsic+json": {
              "type": "string"
            }
          },
          "metadata": {},
          "execution_count": 493
        }
      ]
    },
    {
      "cell_type": "markdown",
      "source": [
        "There's definitely some improvement over base randomness sometimes, but for others, it sucks"
      ],
      "metadata": {
        "id": "lyoJKsxqvYrc"
      }
    },
    {
      "cell_type": "code",
      "source": [
        "regularization = 0.05"
      ],
      "metadata": {
        "id": "yaJJZiT20qgB"
      },
      "execution_count": 494,
      "outputs": []
    },
    {
      "cell_type": "code",
      "source": [
        "\n",
        "\n",
        "for epoch in range(num_epochs):\n",
        "    dxenc = functional.one_hot(dxs, num_classes=vocab_len).float().flatten(start_dim=1)\n",
        "    dlogits = dxenc @ ws\n",
        "    dcounts = dlogits.exp()\n",
        "    dprobs = dcounts / dcounts.sum(1, keepdim=True)\n",
        "    dloss = -dprobs[torch.arange(int(dnum / 2)), dys].log().mean() + (ws.mean() * regularization)\n",
        "    dloss.detach()\n",
        "\n",
        "    xenc = functional.one_hot(xs, num_classes=vocab_len).float().flatten(start_dim=1)\n",
        "    logits = xenc @ ws\n",
        "    counts = logits.exp()\n",
        "    probs = counts / counts.sum(1, keepdim=True)\n",
        "    loss = -probs[torch.arange(int(num / 2)), ys].log().mean() + (ws.mean() * regularization)\n",
        "\n",
        "    print(loss.item(), dloss.item())\n",
        "    ws.grad = None\n",
        "    loss.backward()\n",
        "    ws.data += ws.grad * -lr\n"
      ],
      "metadata": {
        "id": "qnpHZsoiwRMz",
        "outputId": "5c88a999-ddfc-44dd-9704-7c51fdeb7bd1",
        "colab": {
          "base_uri": "https://localhost:8080/"
        }
      },
      "execution_count": 495,
      "outputs": [
        {
          "output_type": "stream",
          "name": "stdout",
          "text": [
            "4.355617046356201 4.329306602478027\n",
            "3.924482583999634 3.953385829925537\n",
            "3.5875072479248047 3.6562716960906982\n",
            "3.336085319519043 3.432685375213623\n",
            "3.161936044692993 3.2779321670532227\n",
            "3.042645215988159 3.173408031463623\n",
            "2.953641891479492 3.0967767238616943\n",
            "2.881988286972046 3.0359373092651367\n",
            "2.8222384452819824 2.985684394836426\n",
            "2.7715303897857666 2.9432756900787354\n",
            "2.7280261516571045 2.907015085220337\n",
            "2.690399408340454 2.875734806060791\n",
            "2.657621383666992 2.8485476970672607\n",
            "2.6288671493530273 2.8247411251068115\n",
            "2.603475570678711 2.80373477935791\n",
            "2.580916404724121 2.7850584983825684\n",
            "2.560764789581299 2.76833176612854\n",
            "2.5426735877990723 2.7532474994659424\n",
            "2.5263559818267822 2.7395544052124023\n",
            "2.5115702152252197 2.727046489715576\n",
            "2.498110294342041 2.715553045272827\n",
            "2.4858012199401855 2.7049336433410645\n",
            "2.4744937419891357 2.6950738430023193\n",
            "2.464062452316284 2.685879707336426\n",
            "2.4544003009796143 2.6772751808166504\n",
            "2.4454185962677 2.6691970825195312\n",
            "2.437042474746704 2.6615936756134033\n",
            "2.4292075634002686 2.6544206142425537\n",
            "2.421858549118042 2.6476399898529053\n",
            "2.414949893951416 2.641219139099121\n",
            "2.4084410667419434 2.635129690170288\n",
            "2.4022960662841797 2.6293461322784424\n",
            "2.396483898162842 2.623845338821411\n",
            "2.3909778594970703 2.618607759475708\n",
            "2.3857529163360596 2.613614082336426\n",
            "2.380786895751953 2.6088483333587646\n",
            "2.3760619163513184 2.604294776916504\n",
            "2.3715593814849854 2.599940299987793\n",
            "2.3672637939453125 2.5957720279693604\n",
            "2.363161563873291 2.5917792320251465\n",
            "2.359238862991333 2.5879502296447754\n",
            "2.355485200881958 2.5842764377593994\n",
            "2.351889133453369 2.5807487964630127\n",
            "2.3484408855438232 2.5773587226867676\n",
            "2.3451318740844727 2.57409930229187\n",
            "2.341954469680786 2.5709636211395264\n",
            "2.338900566101074 2.567944049835205\n",
            "2.335963249206543 2.5650362968444824\n",
            "2.333136558532715 2.5622332096099854\n",
            "2.330414056777954 2.55953049659729\n",
            "2.3277907371520996 2.556922674179077\n",
            "2.325261116027832 2.554405927658081\n",
            "2.3228209018707275 2.5519750118255615\n",
            "2.320465087890625 2.549626588821411\n",
            "2.318190097808838 2.547355890274048\n",
            "2.3159916400909424 2.5451598167419434\n",
            "2.313866138458252 2.5430352687835693\n",
            "2.3118104934692383 2.5409791469573975\n",
            "2.3098208904266357 2.538987398147583\n",
            "2.307894706726074 2.537057638168335\n",
            "2.3060293197631836 2.5351874828338623\n",
            "2.3042213916778564 2.5333735942840576\n",
            "2.30246901512146 2.531614303588867\n",
            "2.300769567489624 2.5299065113067627\n",
            "2.2991201877593994 2.5282485485076904\n",
            "2.2975194454193115 2.5266380310058594\n",
            "2.2959649562835693 2.5250725746154785\n",
            "2.2944552898406982 2.5235509872436523\n",
            "2.2929880619049072 2.522071361541748\n",
            "2.2915618419647217 2.5206313133239746\n",
            "2.2901744842529297 2.5192301273345947\n",
            "2.288825273513794 2.5178654193878174\n",
            "2.2875118255615234 2.516536235809326\n",
            "2.286233425140381 2.5152406692504883\n",
            "2.2849881649017334 2.5139777660369873\n",
            "2.283775568008423 2.5127463340759277\n",
            "2.2825934886932373 2.511545181274414\n",
            "2.2814412117004395 2.5103724002838135\n",
            "2.280317544937134 2.509228229522705\n",
            "2.279221534729004 2.508110284805298\n",
            "2.2781519889831543 2.5070180892944336\n",
            "2.2771079540252686 2.505951166152954\n",
            "2.2760894298553467 2.5049080848693848\n",
            "2.2750937938690186 2.503887891769409\n",
            "2.2741212844848633 2.502890110015869\n",
            "2.2731711864471436 2.5019137859344482\n",
            "2.272242546081543 2.5009584426879883\n",
            "2.271334648132324 2.5000228881835938\n",
            "2.270446538925171 2.4991071224212646\n",
            "2.269577741622925 2.4982094764709473\n",
            "2.2687277793884277 2.4973299503326416\n",
            "2.2678956985473633 2.4964678287506104\n",
            "2.267080783843994 2.4956231117248535\n",
            "2.2662830352783203 2.4947946071624756\n",
            "2.2655017375946045 2.4939823150634766\n",
            "2.2647361755371094 2.493184804916382\n",
            "2.2639858722686768 2.4924023151397705\n",
            "2.2632501125335693 2.4916341304779053\n",
            "2.262528896331787 2.490880012512207\n",
            "2.261821746826172 2.4901394844055176\n"
          ]
        }
      ]
    },
    {
      "cell_type": "code",
      "source": [
        "dxs[:10]"
      ],
      "metadata": {
        "id": "eMh3jc3Vwt4O",
        "outputId": "9cb71f3d-91ba-4c59-8be0-c1f7bd6c0ccc",
        "colab": {
          "base_uri": "https://localhost:8080/"
        }
      },
      "execution_count": 496,
      "outputs": [
        {
          "output_type": "execute_result",
          "data": {
            "text/plain": [
              "tensor([[12,  9],\n",
              "        [ 9, 20],\n",
              "        [20, 19],\n",
              "        [19, 18],\n",
              "        [18, 20],\n",
              "        [12,  9],\n",
              "        [ 9,  0],\n",
              "        [ 0, 25],\n",
              "        [25, 24],\n",
              "        [24, 21]])"
            ]
          },
          "metadata": {},
          "execution_count": 496
        }
      ]
    },
    {
      "cell_type": "code",
      "source": [
        "xs[:10]"
      ],
      "metadata": {
        "id": "Day0lbW8wv9e",
        "outputId": "21062ff4-f883-40c0-927a-6552c4cb85c9",
        "colab": {
          "base_uri": "https://localhost:8080/"
        }
      },
      "execution_count": 497,
      "outputs": [
        {
          "output_type": "execute_result",
          "data": {
            "text/plain": [
              "tensor([[12, 21],\n",
              "        [21, 20],\n",
              "        [20, 20],\n",
              "        [20,  9],\n",
              "        [12, 18],\n",
              "        [18,  3],\n",
              "        [ 3, 25],\n",
              "        [25,  1],\n",
              "        [ 1, 25],\n",
              "        [25,  9]])"
            ]
          },
          "metadata": {},
          "execution_count": 497
        }
      ]
    },
    {
      "cell_type": "code",
      "source": [
        "prompt(\"em\")"
      ],
      "metadata": {
        "id": "2OSIHSsg0yfQ",
        "outputId": "4d676cb7-c652-4334-c660-9c612f337c4f",
        "colab": {
          "base_uri": "https://localhost:8080/",
          "height": 71
        }
      },
      "execution_count": 498,
      "outputs": [
        {
          "output_type": "execute_result",
          "data": {
            "text/plain": [
              "'eme..e.tieiaiuyoy..a.e...aiailaiy.iil.tiaepmai.mata.iameai.a.n.oy.oai.aaab.oiaa.iim..pbq.myii.yai.aziknra.i.ed....iiiikagiiakia..aqiii.adpiitiyaaiiioi.aa.i.izo.aoaaesi.aammmaraa.bramaamssaiioapib.yat.e.iawaliaa..sihefabaii.aa.oka.aa.odfw.taoi.bamip..aa.a.imyaihakmaiiyvmbegiiam.o.iym.iiatiagox.iiaeie.e.a.ayaebaabaaaanaaieniiaaaaieakigaeaa.as.aaoasiaira.eae.as..eai.yao..bimmefmilaz.anelai.omnaia.eaeisimainaiaoab.ai.o.ahameiey.ioobagi.eiia.ii.iibreeoag.eaiymrasaa.iaaaiet...eageioiliaii.ynayr.yaamo.if'"
            ],
            "application/vnd.google.colaboratory.intrinsic+json": {
              "type": "string"
            }
          },
          "metadata": {},
          "execution_count": 498
        }
      ]
    },
    {
      "cell_type": "markdown",
      "source": [
        "High regularization results in a fairly large disparity between normal and dev sets, but it seems to produce better results in odd cases"
      ],
      "metadata": {
        "id": "uPN4Ni4x08Ov"
      }
    },
    {
      "cell_type": "code",
      "source": [
        "xenc = functional.one_hot(txs, num_classes=vocab_len).float().flatten(start_dim=1)\n",
        "logits = xenc @ ws\n",
        "counts = logits.exp()\n",
        "probs = counts / counts.sum(1, keepdim=True)\n",
        "\n",
        "loss = -probs[torch.arange(int(tnum/2)), tys].log().mean()\n",
        "loss"
      ],
      "metadata": {
        "id": "9S2st9d12btC",
        "outputId": "24ea58d9-954c-4757-d094-dcddeffae641",
        "colab": {
          "base_uri": "https://localhost:8080/"
        }
      },
      "execution_count": 499,
      "outputs": [
        {
          "output_type": "execute_result",
          "data": {
            "text/plain": [
              "tensor(2.4886, grad_fn=<NegBackward0>)"
            ]
          },
          "metadata": {},
          "execution_count": 499
        }
      ]
    },
    {
      "cell_type": "code",
      "source": [
        "ws.shape"
      ],
      "metadata": {
        "id": "_qYAO9Y-3ir1",
        "outputId": "6705a0a6-9ec0-43c6-aa41-3974dfe0fe75",
        "colab": {
          "base_uri": "https://localhost:8080/"
        }
      },
      "execution_count": 500,
      "outputs": [
        {
          "output_type": "execute_result",
          "data": {
            "text/plain": [
              "torch.Size([54, 27])"
            ]
          },
          "metadata": {},
          "execution_count": 500
        }
      ]
    },
    {
      "cell_type": "markdown",
      "source": [
        "Wait"
      ],
      "metadata": {
        "id": "bk24801t4ojs"
      }
    },
    {
      "cell_type": "code",
      "source": [
        "ws = torch.randn((vocab_len, vocab_len, vocab_len))\n",
        "ws.requires_grad = True\n",
        "ws.shape"
      ],
      "metadata": {
        "id": "tdx_fv444Wj1",
        "outputId": "4a1cc3de-68c9-439d-d905-8bb3ef532adf",
        "colab": {
          "base_uri": "https://localhost:8080/"
        }
      },
      "execution_count": 503,
      "outputs": [
        {
          "output_type": "execute_result",
          "data": {
            "text/plain": [
              "torch.Size([27, 27, 27])"
            ]
          },
          "metadata": {},
          "execution_count": 503
        }
      ]
    },
    {
      "cell_type": "code",
      "source": [
        "xenc = functional.one_hot(xs, num_classes=vocab_len).float()\n",
        "xenc.shape"
      ],
      "metadata": {
        "id": "JqWmw4sO7TBK",
        "outputId": "1f6c83f4-057c-4551-8382-efe429f5656b",
        "colab": {
          "base_uri": "https://localhost:8080/"
        }
      },
      "execution_count": 509,
      "outputs": [
        {
          "output_type": "execute_result",
          "data": {
            "text/plain": [
              "torch.Size([157152, 2, 27])"
            ]
          },
          "metadata": {},
          "execution_count": 509
        }
      ]
    },
    {
      "cell_type": "code",
      "source": [
        "xenc[0].shape"
      ],
      "metadata": {
        "id": "KUb7U1De7PEh",
        "outputId": "439d2613-a550-45a0-ab5e-d9e415cc0b3f",
        "colab": {
          "base_uri": "https://localhost:8080/"
        }
      },
      "execution_count": 516,
      "outputs": [
        {
          "output_type": "execute_result",
          "data": {
            "text/plain": [
              "torch.Size([2, 27])"
            ]
          },
          "metadata": {},
          "execution_count": 516
        }
      ]
    },
    {
      "cell_type": "code",
      "source": [
        "(xenc[0] @ ws).shape"
      ],
      "metadata": {
        "id": "TNAtYUfz4q7C",
        "outputId": "fb367cfa-87e8-4280-9def-f5f994dd27c8",
        "colab": {
          "base_uri": "https://localhost:8080/"
        }
      },
      "execution_count": 515,
      "outputs": [
        {
          "output_type": "execute_result",
          "data": {
            "text/plain": [
              "torch.Size([27, 2, 27])"
            ]
          },
          "metadata": {},
          "execution_count": 515
        }
      ]
    },
    {
      "cell_type": "markdown",
      "source": [
        "Holup, gotta learn matrix multiplication again, it's hard being a 3 dimensional being trying to comprehend 700 dimensional math"
      ],
      "metadata": {
        "id": "NG7SpWUw_Psd"
      }
    }
  ]
}