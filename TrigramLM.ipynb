{
  "nbformat": 4,
  "nbformat_minor": 0,
  "metadata": {
    "colab": {
      "provenance": [],
      "include_colab_link": true
    },
    "kernelspec": {
      "name": "python3",
      "display_name": "Python 3"
    },
    "language_info": {
      "name": "python"
    }
  },
  "cells": [
    {
      "cell_type": "markdown",
      "metadata": {
        "id": "view-in-github",
        "colab_type": "text"
      },
      "source": [
        "<a href=\"https://colab.research.google.com/github/Trickshotblaster/nn-practices/blob/main/TrigramLM.ipynb\" target=\"_parent\"><img src=\"https://colab.research.google.com/assets/colab-badge.svg\" alt=\"Open In Colab\"/></a>"
      ]
    },
    {
      "cell_type": "code",
      "source": [
        "import random\n",
        "import math"
      ],
      "metadata": {
        "id": "PiuT_51Tl7Nv"
      },
      "execution_count": 1,
      "outputs": []
    },
    {
      "cell_type": "code",
      "execution_count": 27,
      "metadata": {
        "id": "3ev7uHfxkMiG"
      },
      "outputs": [],
      "source": [
        "import requests\n",
        "\n",
        "url = 'https://raw.githubusercontent.com/karpathy/char-rnn/master/data/tinyshakespeare/input.txt'\n",
        "url = 'https://raw.githubusercontent.com/karpathy/makemore/master/names.txt'\n",
        "response = requests.get(url)\n",
        "\n",
        "with open('file.txt', 'wb') as f:\n",
        "  f.write(response.content)"
      ]
    },
    {
      "cell_type": "code",
      "source": [
        "with open('file.txt', 'r') as data:\n",
        "  dataset = data.readlines()\n",
        "\n",
        "with open('file.txt', 'r') as data:\n",
        "  raw_data = data.read()\n"
      ],
      "metadata": {
        "id": "VeY-m-Udk9vA"
      },
      "execution_count": 28,
      "outputs": []
    },
    {
      "cell_type": "code",
      "source": [
        "raw_data[:10]"
      ],
      "metadata": {
        "colab": {
          "base_uri": "https://localhost:8080/",
          "height": 35
        },
        "id": "6b0O8l00lsV5",
        "outputId": "0cf924e7-9fc4-40db-f292-cd0fce2e99f2"
      },
      "execution_count": 29,
      "outputs": [
        {
          "output_type": "execute_result",
          "data": {
            "text/plain": [
              "'emma\\nolivi'"
            ],
            "application/vnd.google.colaboratory.intrinsic+json": {
              "type": "string"
            }
          },
          "metadata": {},
          "execution_count": 29
        }
      ]
    },
    {
      "cell_type": "code",
      "source": [
        "dataset = raw_data.split(\"\\n\")"
      ],
      "metadata": {
        "id": "94Huj2vsI8IW"
      },
      "execution_count": null,
      "outputs": []
    },
    {
      "cell_type": "code",
      "source": [
        "dataset[:10]"
      ],
      "metadata": {
        "colab": {
          "base_uri": "https://localhost:8080/"
        },
        "id": "fMddGXOulfd7",
        "outputId": "0e1a8ca1-213b-48b5-8a80-eefb3352ce67"
      },
      "execution_count": 30,
      "outputs": [
        {
          "output_type": "execute_result",
          "data": {
            "text/plain": [
              "['emma\\n',\n",
              " 'olivia\\n',\n",
              " 'ava\\n',\n",
              " 'isabella\\n',\n",
              " 'sophia\\n',\n",
              " 'charlotte\\n',\n",
              " 'mia\\n',\n",
              " 'amelia\\n',\n",
              " 'harper\\n',\n",
              " 'evelyn\\n']"
            ]
          },
          "metadata": {},
          "execution_count": 30
        }
      ]
    },
    {
      "cell_type": "code",
      "source": [
        "vocab = set(raw_data)"
      ],
      "metadata": {
        "id": "r8SisRZnmsXN"
      },
      "execution_count": 31,
      "outputs": []
    },
    {
      "cell_type": "code",
      "source": [
        "vocab_len = len(vocab)"
      ],
      "metadata": {
        "id": "Z4j0KdGLlLZv"
      },
      "execution_count": 32,
      "outputs": []
    },
    {
      "cell_type": "code",
      "source": [
        "vocab_len"
      ],
      "metadata": {
        "colab": {
          "base_uri": "https://localhost:8080/"
        },
        "id": "fq2cq6wClYmI",
        "outputId": "bc79103d-4b4f-4e31-cd85-22d7053fa219"
      },
      "execution_count": 33,
      "outputs": [
        {
          "output_type": "execute_result",
          "data": {
            "text/plain": [
              "27"
            ]
          },
          "metadata": {},
          "execution_count": 33
        }
      ]
    },
    {
      "cell_type": "code",
      "source": [
        "stoi = {char:i for i, char in enumerate(vocab)}"
      ],
      "metadata": {
        "id": "9KA09eJhmbl2"
      },
      "execution_count": 34,
      "outputs": []
    },
    {
      "cell_type": "code",
      "source": [
        "itos = {i:char for i, char in enumerate(vocab)}"
      ],
      "metadata": {
        "id": "RjRr7qIVm7Qx"
      },
      "execution_count": 35,
      "outputs": []
    },
    {
      "cell_type": "code",
      "source": [
        "import torch"
      ],
      "metadata": {
        "id": "lRWpmX5jpbnE"
      },
      "execution_count": 36,
      "outputs": []
    },
    {
      "cell_type": "code",
      "source": [
        "import torch.nn.functional as functional"
      ],
      "metadata": {
        "id": "9rCZJJKhp4LV"
      },
      "execution_count": 37,
      "outputs": []
    },
    {
      "cell_type": "code",
      "source": [
        "# make dataset\n",
        "xs, ys = [], []\n",
        "for data in dataset:\n",
        "  for ch1, ch2, ch3 in zip(data, data[1:], data[2:]):\n",
        "    xs.append([stoi[ch1], stoi[ch2]])\n",
        "    ys.append(stoi[ch3])\n",
        "\n",
        "xs = torch.tensor(xs)\n",
        "ys = torch.tensor(ys)\n",
        "num = xs.nelement()\n",
        "num"
      ],
      "metadata": {
        "colab": {
          "base_uri": "https://localhost:8080/"
        },
        "id": "1nhNqsYvl0xm",
        "outputId": "b09ae38f-d198-4b8d-d9d8-255b752a672d"
      },
      "execution_count": 38,
      "outputs": [
        {
          "output_type": "execute_result",
          "data": {
            "text/plain": [
              "328158"
            ]
          },
          "metadata": {},
          "execution_count": 38
        }
      ]
    },
    {
      "cell_type": "code",
      "source": [
        "ws = torch.randn((vocab_len*2, vocab_len))\n",
        "ws.requires_grad = True\n",
        "ws.shape"
      ],
      "metadata": {
        "colab": {
          "base_uri": "https://localhost:8080/"
        },
        "id": "7gEB2g5WpfRE",
        "outputId": "24609b16-d11d-43e2-ccba-c8289fa0af33"
      },
      "execution_count": 39,
      "outputs": [
        {
          "output_type": "execute_result",
          "data": {
            "text/plain": [
              "torch.Size([54, 27])"
            ]
          },
          "metadata": {},
          "execution_count": 39
        }
      ]
    },
    {
      "cell_type": "code",
      "source": [
        "xenc = functional.one_hot(xs[0], num_classes=vocab_len).float().flatten()\n",
        "xenc @ ws"
      ],
      "metadata": {
        "colab": {
          "base_uri": "https://localhost:8080/"
        },
        "id": "R2cwT-tEpvpL",
        "outputId": "f829c1f4-00b1-4114-a86e-9b60601496b4"
      },
      "execution_count": 40,
      "outputs": [
        {
          "output_type": "execute_result",
          "data": {
            "text/plain": [
              "tensor([-0.3484, -0.4287, -1.0911, -0.0913, -0.2678, -0.4413,  1.8398,  1.5626,\n",
              "         1.4224, -1.9533,  0.9077, -0.9520, -0.2274, -0.5187,  0.8891, -0.0765,\n",
              "        -0.5123, -0.4290, -0.4983,  0.4587,  0.5009,  1.0575, -0.2927,  0.5266,\n",
              "         2.3705,  1.6488,  1.8706], grad_fn=<SqueezeBackward4>)"
            ]
          },
          "metadata": {},
          "execution_count": 40
        }
      ]
    },
    {
      "cell_type": "code",
      "source": [
        "(xenc @ ws).shape"
      ],
      "metadata": {
        "id": "RjsgWVRZzQ8R",
        "outputId": "fdcd6dcc-d4f8-4892-e415-40af3d53b9c3",
        "colab": {
          "base_uri": "https://localhost:8080/"
        }
      },
      "execution_count": 42,
      "outputs": [
        {
          "output_type": "execute_result",
          "data": {
            "text/plain": [
              "torch.Size([27])"
            ]
          },
          "metadata": {},
          "execution_count": 42
        }
      ]
    },
    {
      "cell_type": "code",
      "source": [
        "num_epochs = 100\n",
        "lr = 50"
      ],
      "metadata": {
        "id": "b62zCT1yreRx"
      },
      "execution_count": 43,
      "outputs": []
    },
    {
      "cell_type": "code",
      "source": [
        "torch.randn((3, 1))"
      ],
      "metadata": {
        "id": "kJYkhycyz8-p",
        "outputId": "d0bd5332-d9b3-47ef-ced2-0fd59e8b1c26",
        "colab": {
          "base_uri": "https://localhost:8080/"
        }
      },
      "execution_count": 41,
      "outputs": [
        {
          "output_type": "execute_result",
          "data": {
            "text/plain": [
              "tensor([[-1.4262],\n",
              "        [ 1.4987],\n",
              "        [ 0.0610]])"
            ]
          },
          "metadata": {},
          "execution_count": 41
        }
      ]
    },
    {
      "cell_type": "code",
      "source": [
        "for epoch in range(num_epochs):\n",
        "    xenc = functional.one_hot(xs, num_classes=vocab_len).float().flatten(start_dim=1)\n",
        "    logits = xenc @ ws\n",
        "    counts = logits.exp()\n",
        "    probs = counts / counts.sum(1, keepdim=True)\n",
        "    loss = -probs[torch.arange(int(num / 2)), ys].log().mean() + (ws.mean() * 0.01)\n",
        "    print(loss.item())\n",
        "\n",
        "    ws.grad = None\n",
        "    loss.backward()\n",
        "    ws.data += ws.grad * -lr"
      ],
      "metadata": {
        "colab": {
          "base_uri": "https://localhost:8080/"
        },
        "id": "oohZ5r_PrqZm",
        "outputId": "375c1323-7017-404e-f4ee-dfa3f4f36281"
      },
      "execution_count": 44,
      "outputs": [
        {
          "output_type": "stream",
          "name": "stdout",
          "text": [
            "4.002766132354736\n",
            "3.356700897216797\n",
            "3.089658260345459\n",
            "2.923118829727173\n",
            "2.813214063644409\n",
            "2.7364096641540527\n",
            "2.6803433895111084\n",
            "2.6371471881866455\n",
            "2.6025054454803467\n",
            "2.5738236904144287\n",
            "2.54961895942688\n",
            "2.5288779735565186\n",
            "2.51092267036438\n",
            "2.4952244758605957\n",
            "2.481394052505493\n",
            "2.469111680984497\n",
            "2.458134412765503\n",
            "2.4482579231262207\n",
            "2.4393253326416016\n",
            "2.4312024116516113\n",
            "2.423785448074341\n",
            "2.4169833660125732\n",
            "2.4107248783111572\n",
            "2.4049463272094727\n",
            "2.399597644805908\n",
            "2.3946309089660645\n",
            "2.3900108337402344\n",
            "2.3857016563415527\n",
            "2.3816757202148438\n",
            "2.377906084060669\n",
            "2.37437105178833\n",
            "2.3710503578186035\n",
            "2.3679254055023193\n",
            "2.3649802207946777\n",
            "2.3622004985809326\n",
            "2.3595728874206543\n",
            "2.357086181640625\n",
            "2.354729413986206\n",
            "2.352492570877075\n",
            "2.350367546081543\n",
            "2.348345994949341\n",
            "2.3464207649230957\n",
            "2.344585418701172\n",
            "2.3428330421447754\n",
            "2.3411595821380615\n",
            "2.339559316635132\n",
            "2.338027238845825\n",
            "2.336560010910034\n",
            "2.3351528644561768\n",
            "2.3338027000427246\n",
            "2.3325064182281494\n",
            "2.3312599658966064\n",
            "2.330061674118042\n",
            "2.3289082050323486\n",
            "2.3277976512908936\n",
            "2.3267271518707275\n",
            "2.3256945610046387\n",
            "2.3246982097625732\n",
            "2.3237361907958984\n",
            "2.3228065967559814\n",
            "2.3219082355499268\n",
            "2.321038246154785\n",
            "2.320197105407715\n",
            "2.3193821907043457\n",
            "2.3185925483703613\n",
            "2.317826747894287\n",
            "2.317084550857544\n",
            "2.316363573074341\n",
            "2.315664291381836\n",
            "2.314984083175659\n",
            "2.314323663711548\n",
            "2.3136813640594482\n",
            "2.313056707382202\n",
            "2.312448501586914\n",
            "2.311856746673584\n",
            "2.3112802505493164\n",
            "2.3107187747955322\n",
            "2.310171127319336\n",
            "2.3096377849578857\n",
            "2.309117555618286\n",
            "2.308609962463379\n",
            "2.308114528656006\n",
            "2.307630777359009\n",
            "2.3071584701538086\n",
            "2.3066976070404053\n",
            "2.306246757507324\n",
            "2.3058066368103027\n",
            "2.3053760528564453\n",
            "2.304955005645752\n",
            "2.3045432567596436\n",
            "2.304140329360962\n",
            "2.303746461868286\n",
            "2.303360939025879\n",
            "2.302983045578003\n",
            "2.3026137351989746\n",
            "2.3022518157958984\n",
            "2.3018972873687744\n",
            "2.3015499114990234\n",
            "2.3012094497680664\n",
            "2.3008761405944824\n"
          ]
        }
      ]
    },
    {
      "cell_type": "code",
      "source": [
        "xs[:10]"
      ],
      "metadata": {
        "id": "crvU517kIuum",
        "outputId": "11376cb0-7bdf-4732-c93c-668bb1c16613",
        "colab": {
          "base_uri": "https://localhost:8080/"
        }
      },
      "execution_count": 25,
      "outputs": [
        {
          "output_type": "execute_result",
          "data": {
            "text/plain": [
              "tensor([[ 4, 19],\n",
              "        [19, 36],\n",
              "        [36, 43],\n",
              "        [43, 14],\n",
              "        [14, 32],\n",
              "        [32, 15],\n",
              "        [15, 19],\n",
              "        [19, 14],\n",
              "        [14, 19],\n",
              "        [19, 20]])"
            ]
          },
          "metadata": {},
          "execution_count": 25
        }
      ]
    },
    {
      "cell_type": "code",
      "source": [
        "def forward(xs):\n",
        "  xenc = functional.one_hot(xs, num_classes=vocab_len).float().flatten(start_dim=1)\n",
        "  logits = xenc @ ws\n",
        "  counts = logits.exp()\n",
        "  probs = counts / counts.sum(1, keepdims=True)\n",
        "  outchar = itos[torch.multinomial(probs, num_samples=1).item()]\n",
        "  return outchar\n",
        "\n",
        "def prompt(ins):\n",
        "  out = ins\n",
        "  for char in range(500):\n",
        "    last_two = ins[-2:]\n",
        "    xs = torch.tensor([[stoi[last_two[0]], stoi[last_two[1]]]])\n",
        "    outs = forward(xs)\n",
        "    out += outs\n",
        "  return out\n",
        "\n",
        "prompt(\"Rom\")"
      ],
      "metadata": {
        "colab": {
          "base_uri": "https://localhost:8080/",
          "height": 70
        },
        "id": "koeHicLTt4Os",
        "outputId": "7d501ffc-5457-4369-d44e-78d800add63a"
      },
      "execution_count": 46,
      "outputs": [
        {
          "output_type": "execute_result",
          "data": {
            "text/plain": [
              "'Roma\\nue\\neaaauya\\na\\n\\nmroaabyioeamiea\\n\\naaeiaaaaioydei\\n\\niibfiaiha\\niaeaiee\\noyeay\\nyoaeerubyauaaieaei\\niaaea\\n\\nyoieii\\nai\\neai\\nyaii\\nuiaord\\nakaiwre\\n\\neoyi\\nai\\n\\n\\ni\\neaiapemaaiaai\\nii\\neanbaiea\\neeeaiee\\neiiaaa\\nuaieimeuyeia\\naysiiiuia\\no\\n\\ni\\nueeyi\\ne\\naaaa\\n\\noiu\\nanapeaitaeeieyeezb\\n\\naimyeiiaejmaais\\naiaaierieiioitoeaiiau\\nyeyi\\naangyiibia\\ni\\niiuysbiyyziaaywaoaoaaak\\nes\\n\\nai\\niipibaeqk\\nraamaaiaoiiema\\nieaieeli\\n\\nam\\naa\\ngaetbamaiaera\\niaiaa\\n\\n\\n\\niraaeeiiea\\naiaoaoiieami\\nza\\nyen\\nyia\\n\\naeiaboipieaayui\\niyaauaaeaoaaia\\ni\\n\\nejei\\neiaaaeoaaade\\na\\n\\nazoai'"
            ],
            "application/vnd.google.colaboratory.intrinsic+json": {
              "type": "string"
            }
          },
          "metadata": {},
          "execution_count": 46
        }
      ]
    }
  ]
}