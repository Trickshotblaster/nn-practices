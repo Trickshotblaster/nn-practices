{
  "nbformat": 4,
  "nbformat_minor": 0,
  "metadata": {
    "colab": {
      "provenance": [],
      "include_colab_link": true
    },
    "kernelspec": {
      "name": "python3",
      "display_name": "Python 3"
    },
    "language_info": {
      "name": "python"
    }
  },
  "cells": [
    {
      "cell_type": "markdown",
      "metadata": {
        "id": "view-in-github",
        "colab_type": "text"
      },
      "source": [
        "<a href=\"https://colab.research.google.com/github/Trickshotblaster/nn-practices/blob/main/TrigramLM.ipynb\" target=\"_parent\"><img src=\"https://colab.research.google.com/assets/colab-badge.svg\" alt=\"Open In Colab\"/></a>"
      ]
    },
    {
      "cell_type": "code",
      "source": [
        "import random\n",
        "import math"
      ],
      "metadata": {
        "id": "PiuT_51Tl7Nv"
      },
      "execution_count": 1,
      "outputs": []
    },
    {
      "cell_type": "code",
      "execution_count": 2,
      "metadata": {
        "id": "3ev7uHfxkMiG"
      },
      "outputs": [],
      "source": [
        "import requests\n",
        "\n",
        "url = 'https://raw.githubusercontent.com/karpathy/char-rnn/master/data/tinyshakespeare/input.txt'\n",
        "url = 'https://raw.githubusercontent.com/karpathy/makemore/master/names.txt'\n",
        "\n",
        "response = requests.get(url)\n",
        "\n",
        "with open('file.txt', 'wb') as f:\n",
        "  f.write(response.content)"
      ]
    },
    {
      "cell_type": "code",
      "source": [
        "with open('file.txt', 'r') as data:\n",
        "  dataset = data.readlines()\n",
        "\n",
        "with open('file.txt', 'r') as data:\n",
        "  raw_data = data.read()\n"
      ],
      "metadata": {
        "id": "VeY-m-Udk9vA"
      },
      "execution_count": 3,
      "outputs": []
    },
    {
      "cell_type": "code",
      "source": [
        "raw_data[:10]"
      ],
      "metadata": {
        "colab": {
          "base_uri": "https://localhost:8080/",
          "height": 35
        },
        "id": "6b0O8l00lsV5",
        "outputId": "f8e1b8b2-53f0-431a-f75b-34ad7d6a9c7d"
      },
      "execution_count": 4,
      "outputs": [
        {
          "output_type": "execute_result",
          "data": {
            "text/plain": [
              "'emma\\nolivi'"
            ],
            "application/vnd.google.colaboratory.intrinsic+json": {
              "type": "string"
            }
          },
          "metadata": {},
          "execution_count": 4
        }
      ]
    },
    {
      "cell_type": "code",
      "source": [
        "dataset = raw_data.split(\"\\n\")"
      ],
      "metadata": {
        "id": "94Huj2vsI8IW"
      },
      "execution_count": 5,
      "outputs": []
    },
    {
      "cell_type": "code",
      "source": [
        "dataset[:10]"
      ],
      "metadata": {
        "colab": {
          "base_uri": "https://localhost:8080/"
        },
        "id": "fMddGXOulfd7",
        "outputId": "39c0758d-f771-49bf-ea4e-1ad98fe18d1f"
      },
      "execution_count": 6,
      "outputs": [
        {
          "output_type": "execute_result",
          "data": {
            "text/plain": [
              "['emma',\n",
              " 'olivia',\n",
              " 'ava',\n",
              " 'isabella',\n",
              " 'sophia',\n",
              " 'charlotte',\n",
              " 'mia',\n",
              " 'amelia',\n",
              " 'harper',\n",
              " 'evelyn']"
            ]
          },
          "metadata": {},
          "execution_count": 6
        }
      ]
    },
    {
      "cell_type": "code",
      "source": [
        "vocab = set(raw_data)"
      ],
      "metadata": {
        "id": "r8SisRZnmsXN"
      },
      "execution_count": 7,
      "outputs": []
    },
    {
      "cell_type": "code",
      "source": [
        "vocab_len = len(vocab)"
      ],
      "metadata": {
        "id": "Z4j0KdGLlLZv"
      },
      "execution_count": 8,
      "outputs": []
    },
    {
      "cell_type": "code",
      "source": [
        "vocab_len"
      ],
      "metadata": {
        "colab": {
          "base_uri": "https://localhost:8080/"
        },
        "id": "fq2cq6wClYmI",
        "outputId": "2c80c25e-14b7-483e-84fa-6ea865a7e910"
      },
      "execution_count": 9,
      "outputs": [
        {
          "output_type": "execute_result",
          "data": {
            "text/plain": [
              "27"
            ]
          },
          "metadata": {},
          "execution_count": 9
        }
      ]
    },
    {
      "cell_type": "code",
      "source": [
        "stoi = {char:i for i, char in enumerate(vocab)}"
      ],
      "metadata": {
        "id": "9KA09eJhmbl2"
      },
      "execution_count": 10,
      "outputs": []
    },
    {
      "cell_type": "code",
      "source": [
        "itos = {i:char for i, char in enumerate(vocab)}"
      ],
      "metadata": {
        "id": "RjRr7qIVm7Qx"
      },
      "execution_count": 11,
      "outputs": []
    },
    {
      "cell_type": "code",
      "source": [
        "import torch"
      ],
      "metadata": {
        "id": "lRWpmX5jpbnE"
      },
      "execution_count": 12,
      "outputs": []
    },
    {
      "cell_type": "code",
      "source": [
        "import torch.nn.functional as functional"
      ],
      "metadata": {
        "id": "9rCZJJKhp4LV"
      },
      "execution_count": 13,
      "outputs": []
    },
    {
      "cell_type": "code",
      "source": [
        "# make dataset\n",
        "xs, ys = [], []\n",
        "for data in dataset:\n",
        "  for ch1, ch2, ch3 in zip(data, data[1:], data[2:]):\n",
        "    xs.append([stoi[ch1], stoi[ch2]])\n",
        "    ys.append(stoi[ch3])\n",
        "\n",
        "xs = torch.tensor(xs)\n",
        "ys = torch.tensor(ys)\n",
        "num = xs.nelement()\n",
        "num"
      ],
      "metadata": {
        "colab": {
          "base_uri": "https://localhost:8080/"
        },
        "id": "1nhNqsYvl0xm",
        "outputId": "b3c672df-42dd-400b-f60c-4ca3eca4cad0"
      },
      "execution_count": 14,
      "outputs": [
        {
          "output_type": "execute_result",
          "data": {
            "text/plain": [
              "264094"
            ]
          },
          "metadata": {},
          "execution_count": 14
        }
      ]
    },
    {
      "cell_type": "code",
      "source": [
        "ws = torch.randn((vocab_len*2, vocab_len))\n",
        "ws.requires_grad = True\n",
        "ws.shape"
      ],
      "metadata": {
        "colab": {
          "base_uri": "https://localhost:8080/"
        },
        "id": "7gEB2g5WpfRE",
        "outputId": "24eef653-cbe7-4d55-f297-a7e5f69c67e5"
      },
      "execution_count": 15,
      "outputs": [
        {
          "output_type": "execute_result",
          "data": {
            "text/plain": [
              "torch.Size([54, 27])"
            ]
          },
          "metadata": {},
          "execution_count": 15
        }
      ]
    },
    {
      "cell_type": "code",
      "source": [
        "xenc = functional.one_hot(xs[0], num_classes=vocab_len).float().flatten()\n",
        "xenc @ ws"
      ],
      "metadata": {
        "colab": {
          "base_uri": "https://localhost:8080/"
        },
        "id": "R2cwT-tEpvpL",
        "outputId": "c7c64d7e-11e3-47ef-d18c-9aa314be903d"
      },
      "execution_count": 16,
      "outputs": [
        {
          "output_type": "execute_result",
          "data": {
            "text/plain": [
              "tensor([-1.1150, -2.1575, -1.3457,  0.3497, -2.6369,  1.0399,  2.0206,  2.9631,\n",
              "         3.3517,  1.9344, -0.3824,  1.3967, -0.9577,  0.6481,  0.3936,  2.1484,\n",
              "         2.2706,  1.4456,  0.2828, -0.9791,  0.0200,  0.8186, -0.7874,  0.5812,\n",
              "         1.6020, -0.1085,  1.2318], grad_fn=<SqueezeBackward4>)"
            ]
          },
          "metadata": {},
          "execution_count": 16
        }
      ]
    },
    {
      "cell_type": "code",
      "source": [
        "(xenc @ ws).shape"
      ],
      "metadata": {
        "id": "RjsgWVRZzQ8R",
        "outputId": "89bb60df-3c82-4ce3-cd0b-766ee70f4f0b",
        "colab": {
          "base_uri": "https://localhost:8080/"
        }
      },
      "execution_count": 17,
      "outputs": [
        {
          "output_type": "execute_result",
          "data": {
            "text/plain": [
              "torch.Size([27])"
            ]
          },
          "metadata": {},
          "execution_count": 17
        }
      ]
    },
    {
      "cell_type": "code",
      "source": [
        "num_epochs = 100\n",
        "lr = 50"
      ],
      "metadata": {
        "id": "b62zCT1yreRx"
      },
      "execution_count": 18,
      "outputs": []
    },
    {
      "cell_type": "code",
      "source": [
        "torch.randn((3, 1))"
      ],
      "metadata": {
        "id": "kJYkhycyz8-p",
        "outputId": "617a7bce-4c57-41d8-a384-27d7920222a7",
        "colab": {
          "base_uri": "https://localhost:8080/"
        }
      },
      "execution_count": 19,
      "outputs": [
        {
          "output_type": "execute_result",
          "data": {
            "text/plain": [
              "tensor([[-1.0210],\n",
              "        [ 0.4341],\n",
              "        [-0.4939]])"
            ]
          },
          "metadata": {},
          "execution_count": 19
        }
      ]
    },
    {
      "cell_type": "code",
      "source": [
        "for epoch in range(num_epochs):\n",
        "    xenc = functional.one_hot(xs, num_classes=vocab_len).float().flatten(start_dim=1)\n",
        "    logits = xenc @ ws\n",
        "    counts = logits.exp()\n",
        "    probs = counts / counts.sum(1, keepdim=True)\n",
        "    loss = -probs[torch.arange(int(num / 2)), ys].log().mean() + (ws.mean() * 0.01)\n",
        "    print(loss.item())\n",
        "\n",
        "    ws.grad = None\n",
        "    loss.backward()\n",
        "    ws.data += ws.grad * -lr"
      ],
      "metadata": {
        "colab": {
          "base_uri": "https://localhost:8080/"
        },
        "id": "oohZ5r_PrqZm",
        "outputId": "9321a578-4e8f-4e32-9b9f-4c519fc88d50"
      },
      "execution_count": 20,
      "outputs": [
        {
          "output_type": "stream",
          "name": "stdout",
          "text": [
            "4.131076335906982\n",
            "3.416553497314453\n",
            "3.092968225479126\n",
            "2.9063868522644043\n",
            "2.7875494956970215\n",
            "2.7067811489105225\n",
            "2.648846387863159\n",
            "2.6051576137542725\n",
            "2.5709540843963623\n",
            "2.5434374809265137\n",
            "2.520812511444092\n",
            "2.501863718032837\n",
            "2.4857404232025146\n",
            "2.471829891204834\n",
            "2.459683418273926\n",
            "2.4489684104919434\n",
            "2.43943452835083\n",
            "2.430889844894409\n",
            "2.423185348510742\n",
            "2.4162020683288574\n",
            "2.4098429679870605\n",
            "2.40402889251709\n",
            "2.3986928462982178\n",
            "2.3937795162200928\n",
            "2.3892407417297363\n",
            "2.3850364685058594\n",
            "2.381131410598755\n",
            "2.377495050430298\n",
            "2.374101161956787\n",
            "2.3709263801574707\n",
            "2.367949962615967\n",
            "2.3651552200317383\n",
            "2.3625245094299316\n",
            "2.360044479370117\n",
            "2.3577022552490234\n",
            "2.3554866313934326\n",
            "2.3533878326416016\n",
            "2.351395845413208\n",
            "2.3495030403137207\n",
            "2.3477022647857666\n",
            "2.3459861278533936\n",
            "2.3443496227264404\n",
            "2.3427860736846924\n",
            "2.341291904449463\n",
            "2.3398613929748535\n",
            "2.3384907245635986\n",
            "2.337177038192749\n",
            "2.3359155654907227\n",
            "2.3347036838531494\n",
            "2.3335390090942383\n",
            "2.3324179649353027\n",
            "2.33133864402771\n",
            "2.330298662185669\n",
            "2.3292956352233887\n",
            "2.3283281326293945\n",
            "2.3273940086364746\n",
            "2.326491355895996\n",
            "2.3256187438964844\n",
            "2.324774980545044\n",
            "2.3239586353302\n",
            "2.3231680393218994\n",
            "2.322402000427246\n",
            "2.321659564971924\n",
            "2.3209400177001953\n",
            "2.320241689682007\n",
            "2.3195641040802\n",
            "2.31890606880188\n",
            "2.3182668685913086\n",
            "2.31764554977417\n",
            "2.3170418739318848\n",
            "2.3164544105529785\n",
            "2.315882682800293\n",
            "2.315326452255249\n",
            "2.3147847652435303\n",
            "2.3142569065093994\n",
            "2.3137428760528564\n",
            "2.313241720199585\n",
            "2.312753200531006\n",
            "2.3122758865356445\n",
            "2.3118109703063965\n",
            "2.311356782913208\n",
            "2.3109138011932373\n",
            "2.3104805946350098\n",
            "2.3100576400756836\n",
            "2.309643507003784\n",
            "2.309239625930786\n",
            "2.308844566345215\n",
            "2.308457612991333\n",
            "2.308079242706299\n",
            "2.3077094554901123\n",
            "2.3073463439941406\n",
            "2.3069913387298584\n",
            "2.306643486022949\n",
            "2.306303024291992\n",
            "2.305968999862671\n",
            "2.3056418895721436\n",
            "2.305320978164673\n",
            "2.3050060272216797\n",
            "2.3046977519989014\n",
            "2.3043951988220215\n"
          ]
        }
      ]
    },
    {
      "cell_type": "code",
      "source": [
        "xs[:10]"
      ],
      "metadata": {
        "id": "crvU517kIuum",
        "outputId": "15a61c51-35fa-4c97-e065-34ab67f65517",
        "colab": {
          "base_uri": "https://localhost:8080/"
        }
      },
      "execution_count": 21,
      "outputs": [
        {
          "output_type": "execute_result",
          "data": {
            "text/plain": [
              "tensor([[18,  4],\n",
              "        [ 4,  4],\n",
              "        [ 2, 26],\n",
              "        [26,  0],\n",
              "        [ 0,  1],\n",
              "        [ 1,  0],\n",
              "        [23,  1],\n",
              "        [ 0, 15],\n",
              "        [15, 23],\n",
              "        [23,  7]])"
            ]
          },
          "metadata": {},
          "execution_count": 21
        }
      ]
    },
    {
      "cell_type": "code",
      "source": [
        "def forward(xs):\n",
        "  xenc = functional.one_hot(xs, num_classes=vocab_len).float().flatten(start_dim=1)\n",
        "  logits = xenc @ ws\n",
        "  counts = logits.exp()\n",
        "  probs = counts / counts.sum(1, keepdims=True)\n",
        "  outchar = itos[torch.multinomial(probs, num_samples=1).item()]\n",
        "  return outchar\n",
        "\n",
        "def prompt(ins):\n",
        "  out = ins\n",
        "  for char in range(500):\n",
        "    last_two = ins[-2:]\n",
        "    xs = torch.tensor([[stoi[last_two[0]], stoi[last_two[1]]]])\n",
        "    outs = forward(xs)\n",
        "    out += outs\n",
        "  return out\n",
        "\n",
        "prompt(\"Rom\")"
      ],
      "metadata": {
        "colab": {
          "base_uri": "https://localhost:8080/",
          "height": 71
        },
        "id": "koeHicLTt4Os",
        "outputId": "6d1c509d-91a1-40c5-a7ce-f504500447de"
      },
      "execution_count": 22,
      "outputs": [
        {
          "output_type": "execute_result",
          "data": {
            "text/plain": [
              "'Romeeaeiieaeaarikeamimosaoueaurtaymaaiaaioataabneeiaoaeaaooaiiaiiaaaaoiaimbaaiaeaauibaiieloieaaiiaiueemidooiaoygaiekeaeeaieaaiiaaaisioaiaiiaiwoaimoeioaiyiaeaiaauaijiymeiiooaiabyeasbaiearaamyaaaarapaoiiaoaiiiameaooyybeieiibaaeeeagaeeeeeieaokreasaascabeeebeseoiidaaayseeaiuaaeeaasemaaaamyabiyaiiieaiiaeadbariieaaieaybieeaoyeieaeyeaiaiireiaiiaie\\niaaioamebairiikeauradiapoieiumeoieoaaaaeuiideamataeraiayooeiieeajoieybeiyaeiiamiubaaaabdaiomaemuerimieiapaiaqeaiyirieioaaaiaiiiaauyyaauaamu\\niaaaaiairaiaeaiaatix'"
            ],
            "application/vnd.google.colaboratory.intrinsic+json": {
              "type": "string"
            }
          },
          "metadata": {},
          "execution_count": 22
        }
      ]
    }
  ]
}