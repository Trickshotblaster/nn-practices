{
  "nbformat": 4,
  "nbformat_minor": 0,
  "metadata": {
    "colab": {
      "provenance": [],
      "gpuType": "T4",
      "authorship_tag": "ABX9TyPhjdtteZEHL1tvRDzCzYFI",
      "include_colab_link": true
    },
    "kernelspec": {
      "name": "python3",
      "display_name": "Python 3"
    },
    "language_info": {
      "name": "python"
    },
    "accelerator": "GPU"
  },
  "cells": [
    {
      "cell_type": "markdown",
      "metadata": {
        "id": "view-in-github",
        "colab_type": "text"
      },
      "source": [
        "<a href=\"https://colab.research.google.com/github/Trickshotblaster/nn-practices/blob/main/PracticeCharNN.ipynb\" target=\"_parent\"><img src=\"https://colab.research.google.com/assets/colab-badge.svg\" alt=\"Open In Colab\"/></a>"
      ]
    },
    {
      "cell_type": "code",
      "execution_count": 189,
      "metadata": {
        "id": "cRnOYuCjiP6J"
      },
      "outputs": [],
      "source": [
        "import torch"
      ]
    },
    {
      "cell_type": "code",
      "source": [
        "device = torch.device(\"cuda:0\" if torch.cuda.is_available() else \"cpu\")"
      ],
      "metadata": {
        "id": "Q8M6VWvHiS03"
      },
      "execution_count": 190,
      "outputs": []
    },
    {
      "cell_type": "code",
      "source": [
        "mytensor = torch.randn(5, 5).to(device)"
      ],
      "metadata": {
        "id": "ar8I2TkyiZax"
      },
      "execution_count": 191,
      "outputs": []
    },
    {
      "cell_type": "markdown",
      "source": [
        "i have some ideas i wanna try"
      ],
      "metadata": {
        "id": "pCRCqdStixvM"
      }
    },
    {
      "cell_type": "code",
      "source": [
        "mytensor.cpu()"
      ],
      "metadata": {
        "colab": {
          "base_uri": "https://localhost:8080/"
        },
        "id": "jaTQMRBEigJt",
        "outputId": "0d383b58-a27b-48bf-fa4f-f8a5d20c0bfa"
      },
      "execution_count": 192,
      "outputs": [
        {
          "output_type": "execute_result",
          "data": {
            "text/plain": [
              "tensor([[ 0.0795, -1.7948, -0.0780,  0.8381, -0.0595],\n",
              "        [-0.3190, -0.6545, -0.9096, -1.8340, -0.2699],\n",
              "        [ 1.5970,  0.1319,  2.1338,  0.5839,  0.9573],\n",
              "        [ 0.6841, -0.2651, -0.1495, -0.3459,  1.7350],\n",
              "        [-0.2856, -0.9763,  1.2581, -1.1817, -1.2226]])"
            ]
          },
          "metadata": {},
          "execution_count": 192
        }
      ]
    },
    {
      "cell_type": "code",
      "source": [
        "class NeuralNet:\n",
        "  def __init__(self, inputSize=10, hiddenSizes=[400, 200, 300, 100], memorySize=100):\n",
        "    self.C = torch.randn(len(stoi), 10)\n",
        "    self.memoryMat = torch.randn(memorySize, memorySize, requires_grad=True).to(device)\n",
        "    self.hiddens = [torch.randn(inputSize, hiddenSizes[0], requires_grad=True).to(device) / (inputSize ** 0.5)]\n",
        "    self.biases = [torch.randn(hiddenSizes[0], requires_grad=True).to(device)]\n",
        "    for last, size in zip(hiddenSizes, hiddenSizes[1:]):\n",
        "      self.hiddens.append(torch.randn(last, size, requires_grad=True).to(device) / (last ** 0.5))\n",
        "      self.biases.append(torch.randn(size, requires_grad=True).to(device) * 0.01)\n",
        "    self.params = [weight.detach() for weight in self.hiddens]\n",
        "    self.params.extend([bias.detach() for bias in self.biases])\n",
        "    self.input_size = inputSize\n",
        "  def __call__(self, input):\n",
        "    input = input.to(device)\n",
        "    out = (input @ self.hiddens[0] + self.biases[0]).tanh()\n",
        "    for layer, bias in zip(self.hiddens[1:], self.biases[1:]):\n",
        "      out = (out @ layer + bias).tanh()\n",
        "    return out"
      ],
      "metadata": {
        "id": "9IXRnU2ri05M"
      },
      "execution_count": 193,
      "outputs": []
    },
    {
      "cell_type": "code",
      "source": [
        "mynet = NeuralNet(inputSize=3)"
      ],
      "metadata": {
        "id": "vWm1uyC7kmuz"
      },
      "execution_count": 194,
      "outputs": []
    },
    {
      "cell_type": "code",
      "source": [
        "[x.shape for x in mynet.hiddens]"
      ],
      "metadata": {
        "colab": {
          "base_uri": "https://localhost:8080/"
        },
        "id": "_ICoU5dHkwKj",
        "outputId": "2eb59dc3-9fc0-4c20-b744-413714262b2c"
      },
      "execution_count": 195,
      "outputs": [
        {
          "output_type": "execute_result",
          "data": {
            "text/plain": [
              "[torch.Size([3, 400]),\n",
              " torch.Size([400, 200]),\n",
              " torch.Size([200, 300]),\n",
              " torch.Size([300, 100])]"
            ]
          },
          "metadata": {},
          "execution_count": 195
        }
      ]
    },
    {
      "cell_type": "code",
      "source": [
        "mynet(torch.randn(mynet.input_size))"
      ],
      "metadata": {
        "colab": {
          "base_uri": "https://localhost:8080/"
        },
        "id": "Pa-DIov6kpHx",
        "outputId": "c69489df-91b8-43e1-a875-2b972cf15d1c"
      },
      "execution_count": 196,
      "outputs": [
        {
          "output_type": "execute_result",
          "data": {
            "text/plain": [
              "tensor([ 0.2744, -0.2114,  0.0494,  0.2096, -0.0368, -0.0592, -0.2753, -0.0823,\n",
              "        -0.1868, -0.2632,  0.0230,  0.3963, -0.2277,  0.6267, -0.1523, -0.4881,\n",
              "         0.4808,  0.4478, -0.0219,  0.2510, -0.0067,  0.4300,  0.3539, -0.6971,\n",
              "         0.2354,  0.1946, -0.6704, -0.4525,  0.6747, -0.1751, -0.4367,  0.0892,\n",
              "         0.1731, -0.6084,  0.1039, -0.5919, -0.6999, -0.8077, -0.0138, -0.3309,\n",
              "        -0.3875,  0.1301,  0.5212,  0.1310,  0.3019, -0.2368, -0.0727,  0.1877,\n",
              "         0.0665, -0.3524,  0.3775, -0.2921,  0.3025, -0.1086, -0.0865,  0.4343,\n",
              "        -0.3391, -0.2388, -0.1536,  0.2151, -0.0242,  0.1895,  0.0899, -0.1127,\n",
              "        -0.4980,  0.3655,  0.5747, -0.1616, -0.4859,  0.5254, -0.0217, -0.2817,\n",
              "         0.1751,  0.3129, -0.3040,  0.6655,  0.0012,  0.0953, -0.2560,  0.4999,\n",
              "        -0.2295, -0.2053, -0.2380,  0.3535,  0.1161, -0.2789, -0.3405, -0.3941,\n",
              "         0.1117, -0.4743,  0.1578, -0.6628, -0.0187, -0.3941,  0.1302,  0.2196,\n",
              "        -0.3226, -0.0446,  0.3629,  0.2615], device='cuda:0',\n",
              "       grad_fn=<TanhBackward0>)"
            ]
          },
          "metadata": {},
          "execution_count": 196
        }
      ]
    },
    {
      "cell_type": "code",
      "source": [
        "import matplotlib.pyplot as plt\n",
        "\n",
        "plt.hist(mynet(torch.randn(mynet.input_size).to(device)).detach().cpu().flatten().numpy())"
      ],
      "metadata": {
        "colab": {
          "base_uri": "https://localhost:8080/",
          "height": 517
        },
        "id": "BenKBreNmF7x",
        "outputId": "71748b92-64c4-4525-afbc-86d8d12659a2"
      },
      "execution_count": 197,
      "outputs": [
        {
          "output_type": "execute_result",
          "data": {
            "text/plain": [
              "(array([ 2., 13., 11., 18., 13., 16., 10.,  8.,  6.,  3.]),\n",
              " array([-0.80917692, -0.64515138, -0.4811258 , -0.31710023, -0.15307467,\n",
              "         0.01095089,  0.17497645,  0.33900201,  0.50302756,  0.66705316,\n",
              "         0.83107871]),\n",
              " <BarContainer object of 10 artists>)"
            ]
          },
          "metadata": {},
          "execution_count": 197
        },
        {
          "output_type": "display_data",
          "data": {
            "text/plain": [
              "<Figure size 640x480 with 1 Axes>"
            ],
            "image/png": "[encoded data removed]"
          },
          "metadata": {}
        }
      ]
    },
    {
      "cell_type": "markdown",
      "source": [
        "ok watch this"
      ],
      "metadata": {
        "id": "A0fpDqeSoMsQ"
      }
    },
    {
      "cell_type": "code",
      "source": [
        "my_dataset = \"skibidi\"\n",
        "vocab = [\".\"] + sorted(list(set(my_dataset)))\n",
        "stoi = {char:i for i, char in enumerate(vocab)}\n",
        "itos = {i:char for i, char in enumerate(vocab)}\n"
      ],
      "metadata": {
        "id": "v1Hi4_qsn-Uc"
      },
      "execution_count": 198,
      "outputs": []
    },
    {
      "cell_type": "code",
      "source": [
        "stoi[\".\"]"
      ],
      "metadata": {
        "colab": {
          "base_uri": "https://localhost:8080/"
        },
        "id": "tTCwjjJGpOh2",
        "outputId": "e59c43fb-0cfc-4f00-eaee-78d26d4f6f14"
      },
      "execution_count": 199,
      "outputs": [
        {
          "output_type": "execute_result",
          "data": {
            "text/plain": [
              "0"
            ]
          },
          "metadata": {},
          "execution_count": 199
        }
      ]
    },
    {
      "cell_type": "code",
      "source": [
        "itos[0]"
      ],
      "metadata": {
        "colab": {
          "base_uri": "https://localhost:8080/",
          "height": 35
        },
        "id": "ixQRAilHpWqd",
        "outputId": "773058db-89b9-4136-a81c-ad3ab2abf790"
      },
      "execution_count": 200,
      "outputs": [
        {
          "output_type": "execute_result",
          "data": {
            "text/plain": [
              "'.'"
            ],
            "application/vnd.google.colaboratory.intrinsic+json": {
              "type": "string"
            }
          },
          "metadata": {},
          "execution_count": 200
        }
      ]
    },
    {
      "cell_type": "code",
      "source": [
        "def make_dataset(text, context_len=mynet.input_size):\n",
        "  xs, ys = [], []\n",
        "  context = [0] * context_len\n",
        "  splitwords = text.split()\n",
        "  for word in splitwords:\n",
        "    word = \".\" + word + \".\"\n",
        "    for last, char in zip(word, word[1:]):\n",
        "      context = context[1:] + [stoi[last]]\n",
        "      xs.append(context)\n",
        "      ys.append(stoi[char])\n",
        "  return torch.Tensor(xs).to(device), torch.tensor(ys).to(device)"
      ],
      "metadata": {
        "id": "27STNz5spYji"
      },
      "execution_count": 201,
      "outputs": []
    },
    {
      "cell_type": "code",
      "source": [
        "Xs, Ys = make_dataset(my_dataset, mynet.input_size)"
      ],
      "metadata": {
        "id": "hYDYPnJQlTTc"
      },
      "execution_count": 202,
      "outputs": []
    },
    {
      "cell_type": "code",
      "source": [
        "Xs"
      ],
      "metadata": {
        "colab": {
          "base_uri": "https://localhost:8080/"
        },
        "id": "Rfn5_xgHlgS0",
        "outputId": "b0384a84-e53e-4c97-db91-cffa00a3864b"
      },
      "execution_count": 203,
      "outputs": [
        {
          "output_type": "execute_result",
          "data": {
            "text/plain": [
              "tensor([[0., 0., 0.],\n",
              "        [0., 0., 5.],\n",
              "        [0., 5., 4.],\n",
              "        [5., 4., 3.],\n",
              "        [4., 3., 1.],\n",
              "        [3., 1., 3.],\n",
              "        [1., 3., 2.],\n",
              "        [3., 2., 3.]], device='cuda:0')"
            ]
          },
          "metadata": {},
          "execution_count": 203
        }
      ]
    },
    {
      "cell_type": "code",
      "source": [
        "Ys"
      ],
      "metadata": {
        "colab": {
          "base_uri": "https://localhost:8080/"
        },
        "id": "U9NZSRdRlq4r",
        "outputId": "e4c53ee2-03e6-443f-b81a-7404111e4356"
      },
      "execution_count": 204,
      "outputs": [
        {
          "output_type": "execute_result",
          "data": {
            "text/plain": [
              "tensor([5, 4, 3, 1, 3, 2, 3, 0], device='cuda:0')"
            ]
          },
          "metadata": {},
          "execution_count": 204
        }
      ]
    },
    {
      "cell_type": "code",
      "source": [
        "train_len = len(Xs)"
      ],
      "metadata": {
        "id": "UuMoxHi-rqii"
      },
      "execution_count": 205,
      "outputs": []
    },
    {
      "cell_type": "code",
      "source": [
        "[param.is_leaf for param in mynet.params]"
      ],
      "metadata": {
        "id": "3tLd11nEK65P",
        "outputId": "1169c670-b525-47f7-8acc-5593dfa8bf9c",
        "colab": {
          "base_uri": "https://localhost:8080/"
        }
      },
      "execution_count": 206,
      "outputs": [
        {
          "output_type": "execute_result",
          "data": {
            "text/plain": [
              "[True, True, True, True, True, True, True, True]"
            ]
          },
          "metadata": {},
          "execution_count": 206
        }
      ]
    },
    {
      "cell_type": "code",
      "source": [
        "num_epochs = 10000\n",
        "lr = 0.1\n",
        "batch_size = 16\n",
        "optimizer = torch.optim.SGD(mynet.params, lr)"
      ],
      "metadata": {
        "id": "xl055TSJmFTa"
      },
      "execution_count": 207,
      "outputs": []
    },
    {
      "cell_type": "code",
      "source": [
        "import torch.nn.functional as F"
      ],
      "metadata": {
        "id": "SG4tAOo5NBDM"
      },
      "execution_count": 208,
      "outputs": []
    },
    {
      "cell_type": "code",
      "source": [
        "for epoch in range(num_epochs):\n",
        "  batch_indices = torch.randint(0, train_len-1, (batch_size,))\n",
        "  xs = Xs[batch_indices]\n",
        "  ys = Ys[batch_indices]\n",
        "\n",
        "  out = mynet(xs)\n",
        "  loss = F.cross_entropy(out, ys)\n",
        "\n",
        "  for p in mynet.params:\n",
        "    p.grad = None\n",
        "\n",
        "  loss.backward()\n",
        "\n",
        "  optimizer.step()\n",
        "\n",
        "  if epoch % 1000 == 0:\n",
        "    print(loss.item())"
      ],
      "metadata": {
        "id": "Bd9tiluRrhNy",
        "outputId": "d9f8f053-e2e9-40b2-988a-9c0ace721213",
        "colab": {
          "base_uri": "https://localhost:8080/",
          "height": 495
        }
      },
      "execution_count": 211,
      "outputs": [
        {
          "output_type": "error",
          "ename": "RuntimeError",
          "evalue": "Trying to backward through the graph a second time (or directly access saved tensors after they have already been freed). Saved intermediate values of the graph are freed when you call .backward() or autograd.grad(). Specify retain_graph=True if you need to backward through the graph a second time or if you need to access saved tensors after calling backward.",
          "traceback": [
            "\u001b[0;31m---------------------------------------------------------------------------\u001b[0m",
            "\u001b[0;31mRuntimeError\u001b[0m                              Traceback (most recent call last)",
            "\u001b[0;32m<ipython-input-211-f60ed7e01444>\u001b[0m in \u001b[0;36m<cell line: 1>\u001b[0;34m()\u001b[0m\n\u001b[1;32m     10\u001b[0m     \u001b[0mp\u001b[0m\u001b[0;34m.\u001b[0m\u001b[0mgrad\u001b[0m \u001b[0;34m=\u001b[0m \u001b[0;32mNone\u001b[0m\u001b[0;34m\u001b[0m\u001b[0;34m\u001b[0m\u001b[0m\n\u001b[1;32m     11\u001b[0m \u001b[0;34m\u001b[0m\u001b[0m\n\u001b[0;32m---> 12\u001b[0;31m   \u001b[0mloss\u001b[0m\u001b[0;34m.\u001b[0m\u001b[0mbackward\u001b[0m\u001b[0;34m(\u001b[0m\u001b[0;34m)\u001b[0m\u001b[0;34m\u001b[0m\u001b[0;34m\u001b[0m\u001b[0m\n\u001b[0m\u001b[1;32m     13\u001b[0m \u001b[0;34m\u001b[0m\u001b[0m\n\u001b[1;32m     14\u001b[0m   \u001b[0moptimizer\u001b[0m\u001b[0;34m.\u001b[0m\u001b[0mstep\u001b[0m\u001b[0;34m(\u001b[0m\u001b[0;34m)\u001b[0m\u001b[0;34m\u001b[0m\u001b[0;34m\u001b[0m\u001b[0m\n",
            "\u001b[0;32m/usr/local/lib/python3.10/dist-packages/torch/_tensor.py\u001b[0m in \u001b[0;36mbackward\u001b[0;34m(self, gradient, retain_graph, create_graph, inputs)\u001b[0m\n\u001b[1;32m    490\u001b[0m                 \u001b[0minputs\u001b[0m\u001b[0;34m=\u001b[0m\u001b[0minputs\u001b[0m\u001b[0;34m,\u001b[0m\u001b[0;34m\u001b[0m\u001b[0;34m\u001b[0m\u001b[0m\n\u001b[1;32m    491\u001b[0m             )\n\u001b[0;32m--> 492\u001b[0;31m         torch.autograd.backward(\n\u001b[0m\u001b[1;32m    493\u001b[0m             \u001b[0mself\u001b[0m\u001b[0;34m,\u001b[0m \u001b[0mgradient\u001b[0m\u001b[0;34m,\u001b[0m \u001b[0mretain_graph\u001b[0m\u001b[0;34m,\u001b[0m \u001b[0mcreate_graph\u001b[0m\u001b[0;34m,\u001b[0m \u001b[0minputs\u001b[0m\u001b[0;34m=\u001b[0m\u001b[0minputs\u001b[0m\u001b[0;34m\u001b[0m\u001b[0;34m\u001b[0m\u001b[0m\n\u001b[1;32m    494\u001b[0m         )\n",
            "\u001b[0;32m/usr/local/lib/python3.10/dist-packages/torch/autograd/__init__.py\u001b[0m in \u001b[0;36mbackward\u001b[0;34m(tensors, grad_tensors, retain_graph, create_graph, grad_variables, inputs)\u001b[0m\n\u001b[1;32m    249\u001b[0m     \u001b[0;31m# some Python versions print out the first line of a multi-line function\u001b[0m\u001b[0;34m\u001b[0m\u001b[0;34m\u001b[0m\u001b[0m\n\u001b[1;32m    250\u001b[0m     \u001b[0;31m# calls in the traceback and some print out the last line\u001b[0m\u001b[0;34m\u001b[0m\u001b[0;34m\u001b[0m\u001b[0m\n\u001b[0;32m--> 251\u001b[0;31m     Variable._execution_engine.run_backward(  # Calls into the C++ engine to run the backward pass\n\u001b[0m\u001b[1;32m    252\u001b[0m         \u001b[0mtensors\u001b[0m\u001b[0;34m,\u001b[0m\u001b[0;34m\u001b[0m\u001b[0;34m\u001b[0m\u001b[0m\n\u001b[1;32m    253\u001b[0m         \u001b[0mgrad_tensors_\u001b[0m\u001b[0;34m,\u001b[0m\u001b[0;34m\u001b[0m\u001b[0;34m\u001b[0m\u001b[0m\n",
            "\u001b[0;31mRuntimeError\u001b[0m: Trying to backward through the graph a second time (or directly access saved tensors after they have already been freed). Saved intermediate values of the graph are freed when you call .backward() or autograd.grad(). Specify retain_graph=True if you need to backward through the graph a second time or if you need to access saved tensors after calling backward."
          ]
        }
      ]
    }
  ]
}