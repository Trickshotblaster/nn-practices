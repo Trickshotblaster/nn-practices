{
  "nbformat": 4,
  "nbformat_minor": 0,
  "metadata": {
    "colab": {
      "provenance": [],
      "gpuType": "T4",
      "authorship_tag": "ABX9TyMV2msTpkheaTVYVD+o9gSx",
      "include_colab_link": true
    },
    "kernelspec": {
      "name": "python3",
      "display_name": "Python 3"
    },
    "language_info": {
      "name": "python"
    },
    "accelerator": "GPU"
  },
  "cells": [
    {
      "cell_type": "markdown",
      "metadata": {
        "id": "view-in-github",
        "colab_type": "text"
      },
      "source": [
        "<a href=\"https://colab.research.google.com/github/Trickshotblaster/nn-practices/blob/main/PracticeCharNN.ipynb\" target=\"_parent\"><img src=\"https://colab.research.google.com/assets/colab-badge.svg\" alt=\"Open In Colab\"/></a>"
      ]
    },
    {
      "cell_type": "code",
      "execution_count": 1,
      "metadata": {
        "id": "cRnOYuCjiP6J"
      },
      "outputs": [],
      "source": [
        "import torch"
      ]
    },
    {
      "cell_type": "code",
      "source": [
        "device = torch.device(\"cuda:0\" if torch.cuda.is_available() else \"cpu\")"
      ],
      "metadata": {
        "id": "Q8M6VWvHiS03"
      },
      "execution_count": 2,
      "outputs": []
    },
    {
      "cell_type": "code",
      "source": [
        "mytensor = torch.randn(5, 5).to(device)"
      ],
      "metadata": {
        "id": "ar8I2TkyiZax"
      },
      "execution_count": 3,
      "outputs": []
    },
    {
      "cell_type": "markdown",
      "source": [
        "i have some ideas i wanna try"
      ],
      "metadata": {
        "id": "pCRCqdStixvM"
      }
    },
    {
      "cell_type": "code",
      "source": [
        "mytensor.cpu()"
      ],
      "metadata": {
        "colab": {
          "base_uri": "https://localhost:8080/"
        },
        "id": "jaTQMRBEigJt",
        "outputId": "d796464b-9388-4831-b726-80b84a4ab69c"
      },
      "execution_count": 4,
      "outputs": [
        {
          "output_type": "execute_result",
          "data": {
            "text/plain": [
              "tensor([[ 3.1111,  1.7866,  0.9312, -0.5678, -2.0771],\n",
              "        [ 1.6637, -0.4045,  0.0543,  0.7117, -1.3718],\n",
              "        [ 0.0768,  0.8824,  0.6401,  0.2464,  0.3956],\n",
              "        [ 0.6138, -1.1618,  1.0472, -1.0849,  0.0357],\n",
              "        [-0.5681, -0.0468, -0.5384, -0.6728, -0.5374]])"
            ]
          },
          "metadata": {},
          "execution_count": 4
        }
      ]
    },
    {
      "cell_type": "code",
      "source": [
        "class NeuralNet:\n",
        "  def __init__(self, inputSize=10, hiddenSizes=[400, 200, 300, 100], memorySize=100):\n",
        "    self.memoryMat = torch.randn(memorySize, memorySize, requires_grad=True).to(device)\n",
        "    self.hiddens = [torch.randn(inputSize, hiddenSizes[0], requires_grad=True).to(device) / (inputSize ** 0.5)]\n",
        "    self.biases = [torch.randn(hiddenSizes[0], requires_grad=True).to(device)]\n",
        "    for last, size in zip(hiddenSizes, hiddenSizes[1:]):\n",
        "      self.hiddens.append(torch.randn(last, size, requires_grad=True).to(device) / (last ** 0.5))\n",
        "      self.biases.append(torch.randn(size, requires_grad=True).to(device) * 0.01)\n",
        "  def __call__(self, input):\n",
        "    input = input.to(device)\n",
        "    out = (input @ self.hiddens[0] + self.biases[0]).tanh()\n",
        "    for layer, bias in zip(self.hiddens[1:], self.biases[1:]):\n",
        "      out = (out @ layer + bias).tanh()\n",
        "    return out"
      ],
      "metadata": {
        "id": "9IXRnU2ri05M"
      },
      "execution_count": 21,
      "outputs": []
    },
    {
      "cell_type": "code",
      "source": [
        "mynet = NeuralNet()"
      ],
      "metadata": {
        "id": "vWm1uyC7kmuz"
      },
      "execution_count": 6,
      "outputs": []
    },
    {
      "cell_type": "code",
      "source": [
        "[x.shape for x in mynet.hiddens]"
      ],
      "metadata": {
        "colab": {
          "base_uri": "https://localhost:8080/"
        },
        "id": "_ICoU5dHkwKj",
        "outputId": "aa5412d4-e91c-4584-9d15-e2add9ed9d63"
      },
      "execution_count": 7,
      "outputs": [
        {
          "output_type": "execute_result",
          "data": {
            "text/plain": [
              "[torch.Size([10, 400]),\n",
              " torch.Size([400, 200]),\n",
              " torch.Size([200, 300]),\n",
              " torch.Size([300, 100])]"
            ]
          },
          "metadata": {},
          "execution_count": 7
        }
      ]
    },
    {
      "cell_type": "code",
      "source": [
        "mynet(torch.randn(10))"
      ],
      "metadata": {
        "colab": {
          "base_uri": "https://localhost:8080/"
        },
        "id": "Pa-DIov6kpHx",
        "outputId": "03552ac6-4912-4bac-eb6a-1193879b47e3"
      },
      "execution_count": 8,
      "outputs": [
        {
          "output_type": "execute_result",
          "data": {
            "text/plain": [
              "tensor([ 0.5849,  0.1298,  0.0441, -0.4259,  0.4480, -0.1019, -0.7864, -0.3878,\n",
              "         0.6124,  0.0739,  0.1874,  0.0046,  0.5342, -0.1458, -0.1220,  0.5939,\n",
              "         0.5860, -0.0762, -0.2817, -0.2144, -0.1661, -0.7973,  0.0191,  0.4999,\n",
              "         0.1439, -0.1350,  0.0651,  0.7094, -0.0262,  0.1476,  0.3958,  0.0930,\n",
              "        -0.0625, -0.6924,  0.1736, -0.3947, -0.5518,  0.4304,  0.6136,  0.7403,\n",
              "         0.2832,  0.2581,  0.4119, -0.0423,  0.1967,  0.1873,  0.1409,  0.1298,\n",
              "        -0.0202,  0.3572, -0.3630, -0.1541, -0.5550, -0.4830,  0.3975, -0.1109,\n",
              "        -0.4316, -0.4512, -0.7925, -0.2216, -0.1646, -0.3512,  0.7024,  0.4883,\n",
              "        -0.1946, -0.0968, -0.6381, -0.2922,  0.2200, -0.0899,  0.0205, -0.2357,\n",
              "         0.1155, -0.3126, -0.5127, -0.0832, -0.2763, -0.3941,  0.0610, -0.5159,\n",
              "        -0.5989, -0.1889,  0.2222, -0.1454,  0.0441,  0.3890, -0.0975, -0.4112,\n",
              "         0.4564,  0.2021, -0.2226, -0.2250,  0.3339,  0.2279,  0.1725,  0.1433,\n",
              "        -0.8666, -0.7259, -0.1035, -0.0584], device='cuda:0')"
            ]
          },
          "metadata": {},
          "execution_count": 8
        }
      ]
    },
    {
      "cell_type": "code",
      "source": [
        "import matplotlib.pyplot as plt\n",
        "\n",
        "plt.hist(mynet(torch.randn(10).to(device)).cpu().flatten().numpy())"
      ],
      "metadata": {
        "colab": {
          "base_uri": "https://localhost:8080/",
          "height": 517
        },
        "id": "BenKBreNmF7x",
        "outputId": "4efa2013-ccd5-48f6-b538-3fe6657f3086"
      },
      "execution_count": 9,
      "outputs": [
        {
          "output_type": "execute_result",
          "data": {
            "text/plain": [
              "(array([ 7.,  6.,  9., 14., 14., 11., 17., 10.,  9.,  3.]),\n",
              " array([-0.84602678, -0.6810959 , -0.51616508, -0.3512342 , -0.18630335,\n",
              "        -0.0213725 ,  0.14355835,  0.3084892 ,  0.47342008,  0.6383509 ,\n",
              "         0.80328178]),\n",
              " <BarContainer object of 10 artists>)"
            ]
          },
          "metadata": {},
          "execution_count": 9
        },
        {
          "output_type": "display_data",
          "data": {
            "text/plain": [
              "<Figure size 640x480 with 1 Axes>"
            ],
            "image/png": "[encoded data removed]"
          },
          "metadata": {}
        }
      ]
    },
    {
      "cell_type": "markdown",
      "source": [
        "ok watch this"
      ],
      "metadata": {
        "id": "A0fpDqeSoMsQ"
      }
    },
    {
      "cell_type": "code",
      "source": [
        "my_dataset = \"skibidi\"\n",
        "vocab = [\".\"] + sorted(list(set(my_dataset)))\n",
        "stoi = {char:i for i, char in enumerate(vocab)}\n",
        "itos = {i:char for i, char in enumerate(vocab)}\n"
      ],
      "metadata": {
        "id": "v1Hi4_qsn-Uc"
      },
      "execution_count": 10,
      "outputs": []
    },
    {
      "cell_type": "code",
      "source": [
        "stoi[\".\"]"
      ],
      "metadata": {
        "colab": {
          "base_uri": "https://localhost:8080/"
        },
        "id": "tTCwjjJGpOh2",
        "outputId": "b4727565-3768-4f56-ba18-5d953de94b7b"
      },
      "execution_count": 11,
      "outputs": [
        {
          "output_type": "execute_result",
          "data": {
            "text/plain": [
              "0"
            ]
          },
          "metadata": {},
          "execution_count": 11
        }
      ]
    },
    {
      "cell_type": "code",
      "source": [
        "itos[0]"
      ],
      "metadata": {
        "colab": {
          "base_uri": "https://localhost:8080/",
          "height": 35
        },
        "id": "ixQRAilHpWqd",
        "outputId": "f991c25c-1620-4324-effe-acd074935880"
      },
      "execution_count": 12,
      "outputs": [
        {
          "output_type": "execute_result",
          "data": {
            "text/plain": [
              "'.'"
            ],
            "application/vnd.google.colaboratory.intrinsic+json": {
              "type": "string"
            }
          },
          "metadata": {},
          "execution_count": 12
        }
      ]
    },
    {
      "cell_type": "code",
      "source": [
        "def make_dataset(text, context_len):\n",
        "  xs, ys = [], []\n",
        "  context = [0] * context_len\n",
        "  splitwords = text.split()\n",
        "  for word in splitwords:\n",
        "    word = \".\" + word + \".\"\n",
        "    for last, char in zip(word, word[1:]):\n",
        "      context = context[1:] + [stoi[last]]\n",
        "      xs.append(context)\n",
        "      ys.append(stoi[char])\n",
        "  return torch.tensor(xs), torch.tensor(ys)"
      ],
      "metadata": {
        "id": "27STNz5spYji"
      },
      "execution_count": 17,
      "outputs": []
    },
    {
      "cell_type": "code",
      "source": [
        "Xs, Ys = make_dataset(my_dataset, 2)"
      ],
      "metadata": {
        "id": "hYDYPnJQlTTc"
      },
      "execution_count": 18,
      "outputs": []
    },
    {
      "cell_type": "code",
      "source": [
        "Xs"
      ],
      "metadata": {
        "colab": {
          "base_uri": "https://localhost:8080/"
        },
        "id": "Rfn5_xgHlgS0",
        "outputId": "f930a024-71fe-4c35-ac01-593660e20cdd"
      },
      "execution_count": 19,
      "outputs": [
        {
          "output_type": "execute_result",
          "data": {
            "text/plain": [
              "tensor([[0, 0],\n",
              "        [0, 5],\n",
              "        [5, 4],\n",
              "        [4, 3],\n",
              "        [3, 1],\n",
              "        [1, 3],\n",
              "        [3, 2],\n",
              "        [2, 3]])"
            ]
          },
          "metadata": {},
          "execution_count": 19
        }
      ]
    },
    {
      "cell_type": "code",
      "source": [
        "Ys"
      ],
      "metadata": {
        "colab": {
          "base_uri": "https://localhost:8080/"
        },
        "id": "U9NZSRdRlq4r",
        "outputId": "c6142f3d-3e2d-4988-fed7-92d24b8127d8"
      },
      "execution_count": 20,
      "outputs": [
        {
          "output_type": "execute_result",
          "data": {
            "text/plain": [
              "tensor([5, 4, 3, 1, 3, 2, 3, 0])"
            ]
          },
          "metadata": {},
          "execution_count": 20
        }
      ]
    },
    {
      "cell_type": "code",
      "source": [
        "train_len = len(Xs)"
      ],
      "metadata": {
        "id": "UuMoxHi-rqii"
      },
      "execution_count": null,
      "outputs": []
    },
    {
      "cell_type": "code",
      "source": [
        "num_epochs = 10000\n",
        "lr = 0.1\n",
        "batch_size = 16"
      ],
      "metadata": {
        "id": "xl055TSJmFTa"
      },
      "execution_count": null,
      "outputs": []
    },
    {
      "cell_type": "code",
      "source": [
        "for epoch in range(num_epochs):\n",
        "  batch_indices = torch.randint(0, train_len-1, (batch_size,))\n",
        ""
      ],
      "metadata": {
        "id": "Bd9tiluRrhNy"
      },
      "execution_count": null,
      "outputs": []
    }
  ]
}