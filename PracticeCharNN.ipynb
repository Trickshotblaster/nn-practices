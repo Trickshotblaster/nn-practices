{
  "nbformat": 4,
  "nbformat_minor": 0,
  "metadata": {
    "colab": {
      "provenance": [],
      "authorship_tag": "ABX9TyMWV9nz1mUVUIUD6qluBUvd",
      "include_colab_link": true
    },
    "kernelspec": {
      "name": "python3",
      "display_name": "Python 3"
    },
    "language_info": {
      "name": "python"
    }
  },
  "cells": [
    {
      "cell_type": "markdown",
      "metadata": {
        "id": "view-in-github",
        "colab_type": "text"
      },
      "source": [
        "<a href=\"https://colab.research.google.com/github/Trickshotblaster/nn-practices/blob/main/PracticeCharNN.ipynb\" target=\"_parent\"><img src=\"https://colab.research.google.com/assets/colab-badge.svg\" alt=\"Open In Colab\"/></a>"
      ]
    },
    {
      "cell_type": "code",
      "execution_count": 1,
      "metadata": {
        "id": "cRnOYuCjiP6J"
      },
      "outputs": [],
      "source": [
        "import torch"
      ]
    },
    {
      "cell_type": "code",
      "source": [
        "device = torch.device(\"cuda:0\" if torch.cuda.is_available() else \"cpu\")"
      ],
      "metadata": {
        "id": "Q8M6VWvHiS03"
      },
      "execution_count": 2,
      "outputs": []
    },
    {
      "cell_type": "code",
      "source": [
        "mytensor = torch.randn(5, 5).to(device)"
      ],
      "metadata": {
        "id": "ar8I2TkyiZax"
      },
      "execution_count": 3,
      "outputs": []
    },
    {
      "cell_type": "markdown",
      "source": [
        "i have some ideas i wanna try"
      ],
      "metadata": {
        "id": "pCRCqdStixvM"
      }
    },
    {
      "cell_type": "code",
      "source": [
        "mytensor.cpu()"
      ],
      "metadata": {
        "colab": {
          "base_uri": "https://localhost:8080/"
        },
        "id": "jaTQMRBEigJt",
        "outputId": "fc6f6c24-801a-4309-b21c-fccf476fc929"
      },
      "execution_count": 4,
      "outputs": [
        {
          "output_type": "execute_result",
          "data": {
            "text/plain": [
              "tensor([[ 0.0043,  1.2607,  0.6630, -0.6156,  1.0007],\n",
              "        [-0.8511,  1.6739,  1.7535, -0.4987,  1.4597],\n",
              "        [-0.3630,  0.5496, -1.4796,  1.5901, -0.7032],\n",
              "        [-0.2103,  2.0770,  0.5202,  0.8432,  1.3584],\n",
              "        [-1.1295, -0.4127, -0.4572,  0.0083, -0.8240]])"
            ]
          },
          "metadata": {},
          "execution_count": 4
        }
      ]
    },
    {
      "cell_type": "code",
      "source": [
        "class NeuralNet:\n",
        "  def __init__(self, inputSize=10, hiddenSizes=[400, 200, 300, 100], memorySize=100):\n",
        "    self.memoryMat = torch.randn(memorySize, memorySize).to(device)\n",
        "    self.hiddens = [torch.randn(inputSize, hiddenSizes[0]).to(device) / (inputSize ** 0.5)]\n",
        "    self.biases = [torch.randn(hiddenSizes[0])]\n",
        "    for last, size in zip(hiddenSizes, hiddenSizes[1:]):\n",
        "      self.hiddens.append(torch.randn(last, size).to(device) / (last ** 0.5))\n",
        "      self.biases.append(torch.randn(size).to(device) * 0.01)\n",
        "  def __call__(self, input):\n",
        "    print(input.shape)\n",
        "    out = (input @ self.hiddens[0] + self.biases[0]).tanh()\n",
        "    print(out.shape)\n",
        "    for layer, bias in zip(self.hiddens[1:], self.biases[1:]):\n",
        "      out = (out @ layer + bias).tanh()\n",
        "    return out"
      ],
      "metadata": {
        "id": "9IXRnU2ri05M"
      },
      "execution_count": 25,
      "outputs": []
    },
    {
      "cell_type": "code",
      "source": [
        "mynet = NeuralNet()"
      ],
      "metadata": {
        "id": "vWm1uyC7kmuz"
      },
      "execution_count": 26,
      "outputs": []
    },
    {
      "cell_type": "code",
      "source": [
        "[x.shape for x in mynet.hiddens]"
      ],
      "metadata": {
        "colab": {
          "base_uri": "https://localhost:8080/"
        },
        "id": "_ICoU5dHkwKj",
        "outputId": "2b2ed605-df71-4a18-a065-9ba98274a2ed"
      },
      "execution_count": 27,
      "outputs": [
        {
          "output_type": "execute_result",
          "data": {
            "text/plain": [
              "[torch.Size([10, 400]),\n",
              " torch.Size([400, 200]),\n",
              " torch.Size([200, 300]),\n",
              " torch.Size([300, 100])]"
            ]
          },
          "metadata": {},
          "execution_count": 27
        }
      ]
    },
    {
      "cell_type": "code",
      "source": [
        "mynet(torch.randn(10))"
      ],
      "metadata": {
        "colab": {
          "base_uri": "https://localhost:8080/"
        },
        "id": "Pa-DIov6kpHx",
        "outputId": "a0a6b996-ec9b-435b-dea3-71a97ec27c4d"
      },
      "execution_count": 28,
      "outputs": [
        {
          "output_type": "stream",
          "name": "stdout",
          "text": [
            "torch.Size([10])\n",
            "torch.Size([400])\n"
          ]
        },
        {
          "output_type": "execute_result",
          "data": {
            "text/plain": [
              "tensor([-1.9521e-01, -8.2675e-02, -5.0028e-01,  2.9120e-01,  5.1278e-01,\n",
              "        -3.2647e-01,  1.0456e-01,  5.1897e-01, -2.5285e-04,  3.8008e-01,\n",
              "        -3.9601e-01,  2.2750e-01,  2.6113e-01, -1.6884e-01,  2.4027e-01,\n",
              "        -3.5230e-01,  1.6925e-01,  2.9720e-02, -1.0637e-01,  2.8572e-01,\n",
              "        -6.5552e-01,  2.5330e-01, -4.4895e-01, -1.7434e-01,  4.4225e-01,\n",
              "         3.1894e-01, -3.3036e-01, -4.2942e-01, -7.5340e-03,  2.2133e-01,\n",
              "        -4.7893e-01,  3.4531e-01, -1.4267e-01, -1.0329e-01, -3.2144e-01,\n",
              "        -1.2645e-01,  1.4203e-01, -4.6870e-01, -1.5566e-01, -4.0455e-01,\n",
              "         1.0659e-01,  5.1125e-01,  1.6783e-01, -1.3076e-05, -2.6337e-01,\n",
              "        -3.4656e-01,  6.5372e-02, -1.7547e-01, -4.6427e-02,  2.6806e-01,\n",
              "        -3.8358e-01, -3.5891e-01,  2.0830e-01, -2.6575e-01, -4.0849e-01,\n",
              "        -5.0801e-01,  6.6787e-01, -4.9464e-01,  3.7805e-01,  3.6786e-01,\n",
              "         2.7629e-01, -2.2515e-01,  2.3027e-01, -2.2633e-01, -1.1566e-01,\n",
              "         4.3609e-01,  5.0431e-01,  4.1383e-01,  6.2816e-01,  5.3588e-01,\n",
              "        -2.1936e-01,  4.0518e-01,  8.3149e-02,  1.9373e-02, -1.1470e-01,\n",
              "         5.0529e-01, -1.0655e-01, -1.0707e-01, -1.1617e-01,  2.4625e-01,\n",
              "         2.7029e-01, -2.9809e-01,  7.7410e-01,  1.6108e-02,  2.1745e-01,\n",
              "         1.2520e-01, -2.4846e-01, -3.6266e-01,  4.2857e-01,  5.6194e-01,\n",
              "        -3.9124e-01, -3.1273e-01, -7.1091e-02,  3.4554e-01,  6.5208e-01,\n",
              "        -4.3509e-01,  1.8359e-02,  2.2481e-02, -3.1442e-01,  1.0075e-01])"
            ]
          },
          "metadata": {},
          "execution_count": 28
        }
      ]
    },
    {
      "cell_type": "code",
      "source": [
        "import matplotlib.pyplot as plt\n",
        "\n",
        "plt.hist(mynet(torch.randn(10).to(device)).cpu().flatten().numpy())"
      ],
      "metadata": {
        "colab": {
          "base_uri": "https://localhost:8080/",
          "height": 551
        },
        "id": "BenKBreNmF7x",
        "outputId": "1cadbb36-b64a-485f-fe80-3ae30025ef78"
      },
      "execution_count": 29,
      "outputs": [
        {
          "output_type": "stream",
          "name": "stdout",
          "text": [
            "torch.Size([10])\n",
            "torch.Size([400])\n"
          ]
        },
        {
          "output_type": "execute_result",
          "data": {
            "text/plain": [
              "(array([ 5.,  8.,  8., 14., 11., 16., 15., 12.,  6.,  5.]),\n",
              " array([-0.74179101, -0.58539677, -0.42900246, -0.27260819, -0.11621392,\n",
              "         0.04018036,  0.19657463,  0.3529689 ,  0.50936317,  0.66575742,\n",
              "         0.82215172]),\n",
              " <BarContainer object of 10 artists>)"
            ]
          },
          "metadata": {},
          "execution_count": 29
        },
        {
          "output_type": "display_data",
          "data": {
            "text/plain": [
              "<Figure size 640x480 with 1 Axes>"
            ],
            "image/png": "[encoded data removed]"
          },
          "metadata": {}
        }
      ]
    },
    {
      "cell_type": "markdown",
      "source": [
        "ok watch this"
      ],
      "metadata": {
        "id": "A0fpDqeSoMsQ"
      }
    },
    {
      "cell_type": "code",
      "source": [
        "my_dataset = \"skibidi\"\n",
        "vocab = [\".\"] + sorted(list(set(my_dataset)))\n",
        "stoi = {char:i for i, char in enumerate(vocab)}\n",
        "itos = {i:char for i, char in enumerate(vocab)}\n"
      ],
      "metadata": {
        "id": "v1Hi4_qsn-Uc"
      },
      "execution_count": 30,
      "outputs": []
    },
    {
      "cell_type": "code",
      "source": [
        "stoi[\".\"]"
      ],
      "metadata": {
        "colab": {
          "base_uri": "https://localhost:8080/"
        },
        "id": "tTCwjjJGpOh2",
        "outputId": "d6dff43c-db27-4ac5-a049-cf0cfd4b3171"
      },
      "execution_count": 33,
      "outputs": [
        {
          "output_type": "execute_result",
          "data": {
            "text/plain": [
              "0"
            ]
          },
          "metadata": {},
          "execution_count": 33
        }
      ]
    },
    {
      "cell_type": "code",
      "source": [
        "itos[0]"
      ],
      "metadata": {
        "colab": {
          "base_uri": "https://localhost:8080/",
          "height": 35
        },
        "id": "ixQRAilHpWqd",
        "outputId": "3d9c6d6d-bbb3-41af-9a7b-d103e103aee8"
      },
      "execution_count": 34,
      "outputs": [
        {
          "output_type": "execute_result",
          "data": {
            "text/plain": [
              "'.'"
            ],
            "application/vnd.google.colaboratory.intrinsic+json": {
              "type": "string"
            }
          },
          "metadata": {},
          "execution_count": 34
        }
      ]
    },
    {
      "cell_type": "code",
      "source": [
        "def make_dataset(text, context_len):\n",
        "  xs, ys = [], []\n",
        "  context = [0] * context_len\n",
        "  splitwords = text.split()\n",
        "  for word in splitwords:\n",
        "    word = \".\" + word + \".\"\n",
        "    for last, char in zip(word, word[1:]):\n",
        "      context = context[1:] + stoi[last]\n",
        "      xs.append(context)\n",
        "      ys.append(stoi[char])"
      ],
      "metadata": {
        "id": "27STNz5spYji"
      },
      "execution_count": null,
      "outputs": []
    }
  ]
}