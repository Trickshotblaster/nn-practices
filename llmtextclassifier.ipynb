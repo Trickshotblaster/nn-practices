{
 "cells": [
  {
   "cell_type": "code",
   "execution_count": 1,
   "id": "5c4320cf",
   "metadata": {
    "_cell_guid": "b1076dfc-b9ad-4769-8c92-a6c4dae69d19",
    "_uuid": "8f2839f25d086af736a60e9eeb907d3b93b6e0e5",
    "execution": {
     "iopub.execute_input": "2023-11-16T17:44:50.947666Z",
     "iopub.status.busy": "2023-11-16T17:44:50.946442Z",
     "iopub.status.idle": "2023-11-16T17:44:51.716660Z",
     "shell.execute_reply": "2023-11-16T17:44:51.715690Z"
    },
    "papermill": {
     "duration": 0.785482,
     "end_time": "2023-11-16T17:44:51.718982",
     "exception": false,
     "start_time": "2023-11-16T17:44:50.933500",
     "status": "completed"
    },
    "tags": []
   },
   "outputs": [
    {
     "name": "stdout",
     "output_type": "stream",
     "text": [
      "/kaggle/input/llm-detect-ai-generated-text/sample_submission.csv\n",
      "/kaggle/input/llm-detect-ai-generated-text/train_prompts.csv\n",
      "/kaggle/input/llm-detect-ai-generated-text/test_essays.csv\n",
      "/kaggle/input/llm-detect-ai-generated-text/train_essays.csv\n",
      "/kaggle/input/daigt-v2-train-dataset/train_v2_drcat_02.csv\n"
     ]
    }
   ],
   "source": [
    "# This Python 3 environment comes with many helpful analytics libraries installed\n",
    "# It is defined by the kaggle/python Docker image: https://github.com/kaggle/docker-python\n",
    "# For example, here's several helpful packages to load\n",
    "\n",
    "import numpy as np # linear algebra\n",
    "import pandas as pd # data processing, CSV file I/O (e.g. pd.read_csv)\n",
    "\n",
    "# Input data files are available in the read-only \"../input/\" directory\n",
    "# For example, running this (by clicking run or pressing Shift+Enter) will list all files under the input directory\n",
    "\n",
    "import os\n",
    "for dirname, _, filenames in os.walk('/kaggle/input'):\n",
    "    for filename in filenames:\n",
    "        print(os.path.join(dirname, filename))\n",
    "\n",
    "# You can write up to 20GB to the current directory (/kaggle/working/) that gets preserved as output when you create a version using \"Save & Run All\" \n",
    "# You can also write temporary files to /kaggle/temp/, but they won't be saved outside of the current session"
   ]
  },
  {
   "cell_type": "code",
   "execution_count": 2,
   "id": "42e0c1a4",
   "metadata": {
    "execution": {
     "iopub.execute_input": "2023-11-16T17:44:51.743574Z",
     "iopub.status.busy": "2023-11-16T17:44:51.743039Z",
     "iopub.status.idle": "2023-11-16T17:44:54.032461Z",
     "shell.execute_reply": "2023-11-16T17:44:54.031465Z"
    },
    "papermill": {
     "duration": 2.304133,
     "end_time": "2023-11-16T17:44:54.035209",
     "exception": false,
     "start_time": "2023-11-16T17:44:51.731076",
     "status": "completed"
    },
    "tags": []
   },
   "outputs": [],
   "source": [
    "dataset = pd.read_csv(\"/kaggle/input/daigt-v2-train-dataset/train_v2_drcat_02.csv\")"
   ]
  },
  {
   "cell_type": "code",
   "execution_count": 3,
   "id": "f8b42629",
   "metadata": {
    "execution": {
     "iopub.execute_input": "2023-11-16T17:44:54.058148Z",
     "iopub.status.busy": "2023-11-16T17:44:54.057732Z",
     "iopub.status.idle": "2023-11-16T17:44:54.062265Z",
     "shell.execute_reply": "2023-11-16T17:44:54.061185Z"
    },
    "papermill": {
     "duration": 0.018943,
     "end_time": "2023-11-16T17:44:54.064791",
     "exception": false,
     "start_time": "2023-11-16T17:44:54.045848",
     "status": "completed"
    },
    "tags": []
   },
   "outputs": [],
   "source": [
    "import random"
   ]
  },
  {
   "cell_type": "code",
   "execution_count": 4,
   "id": "82888262",
   "metadata": {
    "execution": {
     "iopub.execute_input": "2023-11-16T17:44:54.087791Z",
     "iopub.status.busy": "2023-11-16T17:44:54.087389Z",
     "iopub.status.idle": "2023-11-16T17:44:57.404388Z",
     "shell.execute_reply": "2023-11-16T17:44:57.403340Z"
    },
    "papermill": {
     "duration": 3.331472,
     "end_time": "2023-11-16T17:44:57.407169",
     "exception": false,
     "start_time": "2023-11-16T17:44:54.075697",
     "status": "completed"
    },
    "tags": []
   },
   "outputs": [],
   "source": [
    "stoi = {\"[PAD]\": 0,\n",
    "       \"[UNK]\": 1}\n",
    "itos = {0 : \"[PAD]\",\n",
    "       1 : \"[UNK]\"}\n",
    "total_text = set()\n",
    "for index, row in dataset.iterrows():\n",
    "    if random.random() <= 0.1:\n",
    "        total_text.update(row[\"text\"].lower().split())\n",
    "stoi.update({char:i+2 for i, char in enumerate(sorted(total_text))})\n",
    "itos.update({i+2:char for i, char in enumerate(sorted(total_text))})"
   ]
  },
  {
   "cell_type": "code",
   "execution_count": 5,
   "id": "5678daf5",
   "metadata": {
    "execution": {
     "iopub.execute_input": "2023-11-16T17:44:57.429846Z",
     "iopub.status.busy": "2023-11-16T17:44:57.429475Z",
     "iopub.status.idle": "2023-11-16T17:44:57.436684Z",
     "shell.execute_reply": "2023-11-16T17:44:57.435678Z"
    },
    "papermill": {
     "duration": 0.021561,
     "end_time": "2023-11-16T17:44:57.439346",
     "exception": false,
     "start_time": "2023-11-16T17:44:57.417785",
     "status": "completed"
    },
    "tags": []
   },
   "outputs": [
    {
     "data": {
      "text/plain": [
       "'the'"
      ]
     },
     "execution_count": 5,
     "metadata": {},
     "output_type": "execute_result"
    }
   ],
   "source": [
    "itos[stoi['the']]"
   ]
  },
  {
   "cell_type": "code",
   "execution_count": 6,
   "id": "f590e226",
   "metadata": {
    "execution": {
     "iopub.execute_input": "2023-11-16T17:44:57.462328Z",
     "iopub.status.busy": "2023-11-16T17:44:57.461929Z",
     "iopub.status.idle": "2023-11-16T17:44:57.468466Z",
     "shell.execute_reply": "2023-11-16T17:44:57.467489Z"
    },
    "papermill": {
     "duration": 0.020667,
     "end_time": "2023-11-16T17:44:57.470796",
     "exception": false,
     "start_time": "2023-11-16T17:44:57.450129",
     "status": "completed"
    },
    "tags": []
   },
   "outputs": [
    {
     "data": {
      "text/plain": [
       "44818"
      ]
     },
     "execution_count": 6,
     "metadata": {},
     "output_type": "execute_result"
    }
   ],
   "source": [
    "vocab_size = len(stoi)\n",
    "vocab_size"
   ]
  },
  {
   "cell_type": "code",
   "execution_count": 7,
   "id": "cc4e9449",
   "metadata": {
    "execution": {
     "iopub.execute_input": "2023-11-16T17:44:57.494204Z",
     "iopub.status.busy": "2023-11-16T17:44:57.493510Z",
     "iopub.status.idle": "2023-11-16T17:44:57.499843Z",
     "shell.execute_reply": "2023-11-16T17:44:57.498891Z"
    },
    "papermill": {
     "duration": 0.02041,
     "end_time": "2023-11-16T17:44:57.502141",
     "exception": false,
     "start_time": "2023-11-16T17:44:57.481731",
     "status": "completed"
    },
    "tags": []
   },
   "outputs": [
    {
     "data": {
      "text/plain": [
       "'[PAD]'"
      ]
     },
     "execution_count": 7,
     "metadata": {},
     "output_type": "execute_result"
    }
   ],
   "source": [
    "itos[0]"
   ]
  },
  {
   "cell_type": "code",
   "execution_count": 8,
   "id": "ae27ead3",
   "metadata": {
    "execution": {
     "iopub.execute_input": "2023-11-16T17:44:57.525650Z",
     "iopub.status.busy": "2023-11-16T17:44:57.525277Z",
     "iopub.status.idle": "2023-11-16T17:44:57.534485Z",
     "shell.execute_reply": "2023-11-16T17:44:57.533427Z"
    },
    "papermill": {
     "duration": 0.023612,
     "end_time": "2023-11-16T17:44:57.536751",
     "exception": false,
     "start_time": "2023-11-16T17:44:57.513139",
     "status": "completed"
    },
    "tags": []
   },
   "outputs": [],
   "source": [
    "class tokenizer:\n",
    "    def __init__(self, stoi, itos, max_len=100):\n",
    "        self.stoi = stoi\n",
    "        self.itos = itos\n",
    "        self.vocab_size = len(itos)\n",
    "        self.max_len = max_len\n",
    "    def encode(self, text):\n",
    "        out = []\n",
    "        text = text.lower().split()[:self.max_len]\n",
    "        for word in text:\n",
    "            if word in stoi:\n",
    "                out.append(stoi[word])\n",
    "            else:\n",
    "                out.append(1)\n",
    "        out = [0] * max(0, abs(len(out) - self.max_len)) + out\n",
    "        return out\n",
    "    def decode(self, ids):\n",
    "        out = \"\"\n",
    "        for token in ids:\n",
    "            if token in itos:\n",
    "                out += itos[token] + \" \"\n",
    "        return out"
   ]
  },
  {
   "cell_type": "code",
   "execution_count": 9,
   "id": "c5b7be8a",
   "metadata": {
    "execution": {
     "iopub.execute_input": "2023-11-16T17:44:57.560342Z",
     "iopub.status.busy": "2023-11-16T17:44:57.559981Z",
     "iopub.status.idle": "2023-11-16T17:44:57.564672Z",
     "shell.execute_reply": "2023-11-16T17:44:57.563705Z"
    },
    "papermill": {
     "duration": 0.019174,
     "end_time": "2023-11-16T17:44:57.566934",
     "exception": false,
     "start_time": "2023-11-16T17:44:57.547760",
     "status": "completed"
    },
    "tags": []
   },
   "outputs": [],
   "source": [
    "context_len = 30"
   ]
  },
  {
   "cell_type": "code",
   "execution_count": 10,
   "id": "894550d3",
   "metadata": {
    "execution": {
     "iopub.execute_input": "2023-11-16T17:44:57.590719Z",
     "iopub.status.busy": "2023-11-16T17:44:57.589884Z",
     "iopub.status.idle": "2023-11-16T17:44:57.594558Z",
     "shell.execute_reply": "2023-11-16T17:44:57.593618Z"
    },
    "papermill": {
     "duration": 0.018905,
     "end_time": "2023-11-16T17:44:57.596780",
     "exception": false,
     "start_time": "2023-11-16T17:44:57.577875",
     "status": "completed"
    },
    "tags": []
   },
   "outputs": [],
   "source": [
    "tokenizer = tokenizer(stoi, itos, max_len=context_len)"
   ]
  },
  {
   "cell_type": "code",
   "execution_count": 11,
   "id": "61b8ff6c",
   "metadata": {
    "execution": {
     "iopub.execute_input": "2023-11-16T17:44:57.621329Z",
     "iopub.status.busy": "2023-11-16T17:44:57.620347Z",
     "iopub.status.idle": "2023-11-16T17:44:57.628337Z",
     "shell.execute_reply": "2023-11-16T17:44:57.627293Z"
    },
    "papermill": {
     "duration": 0.022684,
     "end_time": "2023-11-16T17:44:57.630512",
     "exception": false,
     "start_time": "2023-11-16T17:44:57.607828",
     "status": "completed"
    },
    "tags": []
   },
   "outputs": [
    {
     "data": {
      "text/plain": [
       "[0,\n",
       " 0,\n",
       " 0,\n",
       " 0,\n",
       " 0,\n",
       " 0,\n",
       " 0,\n",
       " 0,\n",
       " 0,\n",
       " 0,\n",
       " 0,\n",
       " 0,\n",
       " 8509,\n",
       " 8487,\n",
       " 20260,\n",
       " 6474,\n",
       " 5223,\n",
       " 36307,\n",
       " 40055,\n",
       " 6411,\n",
       " 17417,\n",
       " 21807,\n",
       " 39868,\n",
       " 2035,\n",
       " 43620,\n",
       " 20545,\n",
       " 18296,\n",
       " 11734,\n",
       " 4598,\n",
       " 7683]"
      ]
     },
     "execution_count": 11,
     "metadata": {},
     "output_type": "execute_result"
    }
   ],
   "source": [
    "tokenizer.encode(\"Cars. Cars have been around since they became famous in the 1900s, when Henry Ford created and built\")"
   ]
  },
  {
   "cell_type": "code",
   "execution_count": 12,
   "id": "f6b5423f",
   "metadata": {
    "execution": {
     "iopub.execute_input": "2023-11-16T17:44:57.654745Z",
     "iopub.status.busy": "2023-11-16T17:44:57.654376Z",
     "iopub.status.idle": "2023-11-16T17:44:57.660250Z",
     "shell.execute_reply": "2023-11-16T17:44:57.659517Z"
    },
    "papermill": {
     "duration": 0.020605,
     "end_time": "2023-11-16T17:44:57.662142",
     "exception": false,
     "start_time": "2023-11-16T17:44:57.641537",
     "status": "completed"
    },
    "tags": []
   },
   "outputs": [
    {
     "data": {
      "text/plain": [
       "'[PAD] [PAD] [PAD] [PAD] [PAD] [PAD] [PAD] [PAD] [PAD] [PAD] [PAD] [PAD] cars. cars have been around since they became famous in the 1900s, when henry ford created and built '"
      ]
     },
     "execution_count": 12,
     "metadata": {},
     "output_type": "execute_result"
    }
   ],
   "source": [
    "tokenizer.decode(tokenizer.encode(\"Cars. Cars have been around since they became famous in the 1900s, when Henry Ford created and built\"))"
   ]
  },
  {
   "cell_type": "code",
   "execution_count": 13,
   "id": "2a56fefa",
   "metadata": {
    "execution": {
     "iopub.execute_input": "2023-11-16T17:44:57.686291Z",
     "iopub.status.busy": "2023-11-16T17:44:57.685887Z",
     "iopub.status.idle": "2023-11-16T17:45:00.834600Z",
     "shell.execute_reply": "2023-11-16T17:45:00.833354Z"
    },
    "papermill": {
     "duration": 3.164028,
     "end_time": "2023-11-16T17:45:00.837492",
     "exception": false,
     "start_time": "2023-11-16T17:44:57.673464",
     "status": "completed"
    },
    "tags": []
   },
   "outputs": [],
   "source": [
    "import torch"
   ]
  },
  {
   "cell_type": "code",
   "execution_count": 14,
   "id": "7ec9790e",
   "metadata": {
    "execution": {
     "iopub.execute_input": "2023-11-16T17:45:00.862732Z",
     "iopub.status.busy": "2023-11-16T17:45:00.862172Z",
     "iopub.status.idle": "2023-11-16T17:45:07.532193Z",
     "shell.execute_reply": "2023-11-16T17:45:07.531062Z"
    },
    "papermill": {
     "duration": 6.685651,
     "end_time": "2023-11-16T17:45:07.534989",
     "exception": false,
     "start_time": "2023-11-16T17:45:00.849338",
     "status": "completed"
    },
    "tags": []
   },
   "outputs": [],
   "source": [
    "def build_dataset():\n",
    "    xs, ys = [], []\n",
    "    for index, row in dataset.iterrows():\n",
    "        xs.append(tokenizer.encode(row[\"text\"]))\n",
    "        ys.append(row[\"label\"])\n",
    "    xs = torch.tensor(xs)\n",
    "    ys = torch.tensor(ys)\n",
    "    return xs, ys\n",
    "xs, ys = build_dataset()"
   ]
  },
  {
   "cell_type": "code",
   "execution_count": 15,
   "id": "a86c0f90",
   "metadata": {
    "execution": {
     "iopub.execute_input": "2023-11-16T17:45:07.559591Z",
     "iopub.status.busy": "2023-11-16T17:45:07.559171Z",
     "iopub.status.idle": "2023-11-16T17:45:07.578814Z",
     "shell.execute_reply": "2023-11-16T17:45:07.577676Z"
    },
    "papermill": {
     "duration": 0.034816,
     "end_time": "2023-11-16T17:45:07.581218",
     "exception": false,
     "start_time": "2023-11-16T17:45:07.546402",
     "status": "completed"
    },
    "tags": []
   },
   "outputs": [
    {
     "data": {
      "text/plain": [
       "'phones modern humans today are always on their phone. they are always on their phone more than 5 hours a day no stop .all they do is text back and '"
      ]
     },
     "execution_count": 15,
     "metadata": {},
     "output_type": "execute_result"
    }
   ],
   "source": [
    "tokenizer.decode(xs[0].numpy())"
   ]
  },
  {
   "cell_type": "code",
   "execution_count": 16,
   "id": "8d4cb8a7",
   "metadata": {
    "execution": {
     "iopub.execute_input": "2023-11-16T17:45:07.605462Z",
     "iopub.status.busy": "2023-11-16T17:45:07.605035Z",
     "iopub.status.idle": "2023-11-16T17:45:07.623971Z",
     "shell.execute_reply": "2023-11-16T17:45:07.622749Z"
    },
    "papermill": {
     "duration": 0.033807,
     "end_time": "2023-11-16T17:45:07.626306",
     "exception": false,
     "start_time": "2023-11-16T17:45:07.592499",
     "status": "completed"
    },
    "tags": []
   },
   "outputs": [
    {
     "data": {
      "text/plain": [
       "tensor(0)"
      ]
     },
     "execution_count": 16,
     "metadata": {},
     "output_type": "execute_result"
    }
   ],
   "source": [
    "ys[0]"
   ]
  },
  {
   "cell_type": "code",
   "execution_count": 17,
   "id": "d6773082",
   "metadata": {
    "execution": {
     "iopub.execute_input": "2023-11-16T17:45:07.651112Z",
     "iopub.status.busy": "2023-11-16T17:45:07.650697Z",
     "iopub.status.idle": "2023-11-16T17:45:07.655556Z",
     "shell.execute_reply": "2023-11-16T17:45:07.654469Z"
    },
    "papermill": {
     "duration": 0.020137,
     "end_time": "2023-11-16T17:45:07.657989",
     "exception": false,
     "start_time": "2023-11-16T17:45:07.637852",
     "status": "completed"
    },
    "tags": []
   },
   "outputs": [],
   "source": [
    "emb_dim = 10"
   ]
  },
  {
   "cell_type": "code",
   "execution_count": 18,
   "id": "5a1f2201",
   "metadata": {
    "execution": {
     "iopub.execute_input": "2023-11-16T17:45:07.683317Z",
     "iopub.status.busy": "2023-11-16T17:45:07.682936Z",
     "iopub.status.idle": "2023-11-16T17:45:07.721667Z",
     "shell.execute_reply": "2023-11-16T17:45:07.720776Z"
    },
    "papermill": {
     "duration": 0.054442,
     "end_time": "2023-11-16T17:45:07.724447",
     "exception": false,
     "start_time": "2023-11-16T17:45:07.670005",
     "status": "completed"
    },
    "tags": []
   },
   "outputs": [],
   "source": [
    "# initialize parameters\n",
    "C = torch.randn(vocab_size, emb_dim) * 0.1\n",
    "w1 = torch.randn(context_len * emb_dim, 100) * 0.1\n",
    "b1 = torch.randn(100) * 0.01\n",
    "w2 = torch.randn(100, 2) * 0.1\n",
    "b2 = torch.randn(2) * 0.01\n",
    "\n",
    "params = [C, w1, b1, w2, b2]\n",
    "for p in params:\n",
    "    p.requires_grad = True"
   ]
  },
  {
   "cell_type": "code",
   "execution_count": 19,
   "id": "1e6e3a85",
   "metadata": {
    "execution": {
     "iopub.execute_input": "2023-11-16T17:45:07.750325Z",
     "iopub.status.busy": "2023-11-16T17:45:07.749309Z",
     "iopub.status.idle": "2023-11-16T17:45:07.753857Z",
     "shell.execute_reply": "2023-11-16T17:45:07.753072Z"
    },
    "papermill": {
     "duration": 0.019633,
     "end_time": "2023-11-16T17:45:07.755963",
     "exception": false,
     "start_time": "2023-11-16T17:45:07.736330",
     "status": "completed"
    },
    "tags": []
   },
   "outputs": [],
   "source": [
    "num_examples = len(xs)"
   ]
  },
  {
   "cell_type": "code",
   "execution_count": 20,
   "id": "af89802e",
   "metadata": {
    "execution": {
     "iopub.execute_input": "2023-11-16T17:45:07.781797Z",
     "iopub.status.busy": "2023-11-16T17:45:07.781085Z",
     "iopub.status.idle": "2023-11-16T17:45:07.786179Z",
     "shell.execute_reply": "2023-11-16T17:45:07.785091Z"
    },
    "papermill": {
     "duration": 0.020606,
     "end_time": "2023-11-16T17:45:07.788270",
     "exception": false,
     "start_time": "2023-11-16T17:45:07.767664",
     "status": "completed"
    },
    "tags": []
   },
   "outputs": [],
   "source": [
    "# training params\n",
    "num_epochs = 150000\n",
    "lr = 0.01\n",
    "batch_size = 16"
   ]
  },
  {
   "cell_type": "code",
   "execution_count": 21,
   "id": "937f6639",
   "metadata": {
    "execution": {
     "iopub.execute_input": "2023-11-16T17:45:07.814439Z",
     "iopub.status.busy": "2023-11-16T17:45:07.814022Z",
     "iopub.status.idle": "2023-11-16T17:45:07.818499Z",
     "shell.execute_reply": "2023-11-16T17:45:07.817428Z"
    },
    "papermill": {
     "duration": 0.020485,
     "end_time": "2023-11-16T17:45:07.820673",
     "exception": false,
     "start_time": "2023-11-16T17:45:07.800188",
     "status": "completed"
    },
    "tags": []
   },
   "outputs": [],
   "source": [
    "import torch.nn.functional as F"
   ]
  },
  {
   "cell_type": "code",
   "execution_count": 22,
   "id": "2ad08e03",
   "metadata": {
    "execution": {
     "iopub.execute_input": "2023-11-16T17:45:07.846735Z",
     "iopub.status.busy": "2023-11-16T17:45:07.845526Z",
     "iopub.status.idle": "2023-11-16T17:47:18.492253Z",
     "shell.execute_reply": "2023-11-16T17:47:18.491050Z"
    },
    "papermill": {
     "duration": 130.663024,
     "end_time": "2023-11-16T17:47:18.495374",
     "exception": false,
     "start_time": "2023-11-16T17:45:07.832350",
     "status": "completed"
    },
    "tags": []
   },
   "outputs": [
    {
     "name": "stdout",
     "output_type": "stream",
     "text": [
      "Epoch: 0 , loss: 0.7041065096855164\n",
      "Epoch: 1000 , loss: 0.666569709777832\n",
      "Epoch: 2000 , loss: 0.7159237265586853\n",
      "Epoch: 3000 , loss: 0.6696544289588928\n",
      "Epoch: 4000 , loss: 0.6647873520851135\n",
      "Epoch: 5000 , loss: 0.6194063425064087\n",
      "Epoch: 6000 , loss: 0.6472158432006836\n",
      "Epoch: 7000 , loss: 0.6610148549079895\n",
      "Epoch: 8000 , loss: 0.5692396759986877\n",
      "Epoch: 9000 , loss: 0.5215916037559509\n",
      "Epoch: 10000 , loss: 0.5241203904151917\n",
      "Epoch: 11000 , loss: 0.612557053565979\n",
      "Epoch: 12000 , loss: 0.6103710532188416\n",
      "Epoch: 13000 , loss: 0.6535864472389221\n",
      "Epoch: 14000 , loss: 0.5833619832992554\n",
      "Epoch: 15000 , loss: 0.4598546028137207\n",
      "Epoch: 16000 , loss: 0.5573556423187256\n",
      "Epoch: 17000 , loss: 0.49386683106422424\n",
      "Epoch: 18000 , loss: 0.38247013092041016\n",
      "Epoch: 19000 , loss: 0.3662448525428772\n",
      "Epoch: 20000 , loss: 0.3510403335094452\n",
      "Epoch: 21000 , loss: 0.5207529067993164\n",
      "Epoch: 22000 , loss: 0.4289911687374115\n",
      "Epoch: 23000 , loss: 0.39424988627433777\n",
      "Epoch: 24000 , loss: 0.4177905321121216\n",
      "Epoch: 25000 , loss: 0.3687369227409363\n",
      "Epoch: 26000 , loss: 0.39317378401756287\n",
      "Epoch: 27000 , loss: 0.4192832112312317\n",
      "Epoch: 28000 , loss: 0.4350634217262268\n",
      "Epoch: 29000 , loss: 0.42330923676490784\n",
      "Epoch: 30000 , loss: 0.42899835109710693\n",
      "Epoch: 31000 , loss: 0.38431021571159363\n",
      "Epoch: 32000 , loss: 0.44593825936317444\n",
      "Epoch: 33000 , loss: 0.322263240814209\n",
      "Epoch: 34000 , loss: 0.48792511224746704\n",
      "Epoch: 35000 , loss: 0.4823356866836548\n",
      "Epoch: 36000 , loss: 0.45824116468429565\n",
      "Epoch: 37000 , loss: 0.4059629738330841\n",
      "Epoch: 38000 , loss: 0.3938078284263611\n",
      "Epoch: 39000 , loss: 0.3359282910823822\n",
      "Epoch: 40000 , loss: 0.464078426361084\n",
      "Epoch: 41000 , loss: 0.3449459969997406\n",
      "Epoch: 42000 , loss: 0.32310616970062256\n",
      "Epoch: 43000 , loss: 0.3418280780315399\n",
      "Epoch: 44000 , loss: 0.325611412525177\n",
      "Epoch: 45000 , loss: 0.3893679976463318\n",
      "Epoch: 46000 , loss: 0.43327999114990234\n",
      "Epoch: 47000 , loss: 0.35155749320983887\n",
      "Epoch: 48000 , loss: 0.3272911310195923\n",
      "Epoch: 49000 , loss: 0.3250068426132202\n",
      "Epoch: 50000 , loss: 0.4272715747356415\n",
      "Epoch: 51000 , loss: 0.33110684156417847\n",
      "Epoch: 52000 , loss: 0.4217008054256439\n",
      "Epoch: 53000 , loss: 0.4023771584033966\n",
      "Epoch: 54000 , loss: 0.3217620253562927\n",
      "Epoch: 55000 , loss: 0.35208189487457275\n",
      "Epoch: 56000 , loss: 0.33869004249572754\n",
      "Epoch: 57000 , loss: 0.34837281703948975\n",
      "Epoch: 58000 , loss: 0.3409269154071808\n",
      "Epoch: 59000 , loss: 0.3560546934604645\n",
      "Epoch: 60000 , loss: 0.33084067702293396\n",
      "Epoch: 61000 , loss: 0.38808825612068176\n",
      "Epoch: 62000 , loss: 0.347234845161438\n",
      "Epoch: 63000 , loss: 0.32165688276290894\n",
      "Epoch: 64000 , loss: 0.337785929441452\n",
      "Epoch: 65000 , loss: 0.3385295271873474\n",
      "Epoch: 66000 , loss: 0.32352492213249207\n",
      "Epoch: 67000 , loss: 0.3283284306526184\n",
      "Epoch: 68000 , loss: 0.3865513801574707\n",
      "Epoch: 69000 , loss: 0.3538261950016022\n",
      "Epoch: 70000 , loss: 0.41307100653648376\n",
      "Epoch: 71000 , loss: 0.4152505397796631\n",
      "Epoch: 72000 , loss: 0.32707327604293823\n",
      "Epoch: 73000 , loss: 0.3566512167453766\n",
      "Epoch: 74000 , loss: 0.3142518997192383\n",
      "Epoch: 75000 , loss: 0.4341450035572052\n",
      "Epoch: 76000 , loss: 0.3149765729904175\n",
      "Epoch: 77000 , loss: 0.4496461749076843\n",
      "Epoch: 78000 , loss: 0.31856608390808105\n",
      "Epoch: 79000 , loss: 0.4913257360458374\n",
      "Epoch: 80000 , loss: 0.32309219241142273\n",
      "Epoch: 81000 , loss: 0.31876054406166077\n",
      "Epoch: 82000 , loss: 0.3666754364967346\n",
      "Epoch: 83000 , loss: 0.38391801714897156\n",
      "Epoch: 84000 , loss: 0.388903945684433\n",
      "Epoch: 85000 , loss: 0.3189464807510376\n",
      "Epoch: 86000 , loss: 0.4137629270553589\n",
      "Epoch: 87000 , loss: 0.3262058198451996\n",
      "Epoch: 88000 , loss: 0.42322322726249695\n",
      "Epoch: 89000 , loss: 0.3286002576351166\n",
      "Epoch: 90000 , loss: 0.3573128879070282\n",
      "Epoch: 91000 , loss: 0.3308069705963135\n",
      "Epoch: 92000 , loss: 0.314593106508255\n",
      "Epoch: 93000 , loss: 0.321215957403183\n",
      "Epoch: 94000 , loss: 0.37420424818992615\n",
      "Epoch: 95000 , loss: 0.322724848985672\n",
      "Epoch: 96000 , loss: 0.37655454874038696\n",
      "Epoch: 97000 , loss: 0.43134409189224243\n",
      "Epoch: 98000 , loss: 0.35197553038597107\n",
      "Epoch: 99000 , loss: 0.31390511989593506\n",
      "Epoch: 100000 , loss: 0.33255019783973694\n",
      "Epoch: 101000 , loss: 0.3866853713989258\n",
      "Epoch: 102000 , loss: 0.38222742080688477\n",
      "Epoch: 103000 , loss: 0.39558929204940796\n",
      "Epoch: 104000 , loss: 0.40399664640426636\n",
      "Epoch: 105000 , loss: 0.331533282995224\n",
      "Epoch: 106000 , loss: 0.3217364549636841\n",
      "Epoch: 107000 , loss: 0.31425657868385315\n",
      "Epoch: 108000 , loss: 0.32124483585357666\n",
      "Epoch: 109000 , loss: 0.4302709996700287\n",
      "Epoch: 110000 , loss: 0.4114885926246643\n",
      "Epoch: 111000 , loss: 0.3150511682033539\n",
      "Epoch: 112000 , loss: 0.40290367603302\n",
      "Epoch: 113000 , loss: 0.3198780119419098\n",
      "Epoch: 114000 , loss: 0.3155536651611328\n",
      "Epoch: 115000 , loss: 0.35380154848098755\n",
      "Epoch: 116000 , loss: 0.35031184554100037\n",
      "Epoch: 117000 , loss: 0.3135915994644165\n",
      "Epoch: 118000 , loss: 0.3526570200920105\n",
      "Epoch: 119000 , loss: 0.3209388852119446\n",
      "Epoch: 120000 , loss: 0.32664787769317627\n",
      "Epoch: 121000 , loss: 0.32727694511413574\n",
      "Epoch: 122000 , loss: 0.3728179931640625\n",
      "Epoch: 123000 , loss: 0.34642472863197327\n",
      "Epoch: 124000 , loss: 0.4451245963573456\n",
      "Epoch: 125000 , loss: 0.31512001156806946\n",
      "Epoch: 126000 , loss: 0.3197234272956848\n",
      "Epoch: 127000 , loss: 0.31432488560676575\n",
      "Epoch: 128000 , loss: 0.31445395946502686\n",
      "Epoch: 129000 , loss: 0.31516531109809875\n",
      "Epoch: 130000 , loss: 0.3208789825439453\n",
      "Epoch: 131000 , loss: 0.3709881007671356\n",
      "Epoch: 132000 , loss: 0.3760513663291931\n",
      "Epoch: 133000 , loss: 0.35035595297813416\n",
      "Epoch: 134000 , loss: 0.3141416609287262\n",
      "Epoch: 135000 , loss: 0.313654363155365\n",
      "Epoch: 136000 , loss: 0.32267266511917114\n",
      "Epoch: 137000 , loss: 0.32912012934684753\n",
      "Epoch: 138000 , loss: 0.31347909569740295\n",
      "Epoch: 139000 , loss: 0.3576052784919739\n",
      "Epoch: 140000 , loss: 0.3142518401145935\n",
      "Epoch: 141000 , loss: 0.37638214230537415\n",
      "Epoch: 142000 , loss: 0.32034242153167725\n",
      "Epoch: 143000 , loss: 0.37801432609558105\n",
      "Epoch: 144000 , loss: 0.3213784098625183\n",
      "Epoch: 145000 , loss: 0.3201468586921692\n",
      "Epoch: 146000 , loss: 0.4095841348171234\n",
      "Epoch: 147000 , loss: 0.4097316861152649\n",
      "Epoch: 148000 , loss: 0.3147749602794647\n",
      "Epoch: 149000 , loss: 0.36984798312187195\n"
     ]
    }
   ],
   "source": [
    "for epoch in range(num_epochs):\n",
    "    selection = torch.randint(0, num_examples-1, (batch_size, ))\n",
    "    ins = xs[selection]\n",
    "    outs = ys[selection]\n",
    "    emb = C[ins].view(-1, emb_dim * context_len)\n",
    "    l1 = ((emb @ w1) + b1).tanh()\n",
    "    logits = ((l1 @ w2) + b2).sigmoid()\n",
    "    for p in params:\n",
    "        p.grad = None\n",
    "\n",
    "    loss = F.cross_entropy(logits, outs)\n",
    "    if epoch % 1000 == 0:\n",
    "        print(\"Epoch:\", epoch, \", loss:\", loss.item())\n",
    "    loss.backward()\n",
    "    \n",
    "    for p in params:\n",
    "        p.data -= p.grad * lr\n",
    "    "
   ]
  },
  {
   "cell_type": "code",
   "execution_count": 23,
   "id": "23893ded",
   "metadata": {
    "execution": {
     "iopub.execute_input": "2023-11-16T17:47:18.549935Z",
     "iopub.status.busy": "2023-11-16T17:47:18.549499Z",
     "iopub.status.idle": "2023-11-16T17:47:18.561911Z",
     "shell.execute_reply": "2023-11-16T17:47:18.560705Z"
    },
    "papermill": {
     "duration": 0.041457,
     "end_time": "2023-11-16T17:47:18.564041",
     "exception": false,
     "start_time": "2023-11-16T17:47:18.522584",
     "status": "completed"
    },
    "tags": []
   },
   "outputs": [
    {
     "name": "stdout",
     "output_type": "stream",
     "text": [
      "finding a rock-like formation on mars was one of the biggest dicscovories nasa has made. they first say it in a picture taken by one of their satlights called viking \n",
      "prediction: 0\n",
      "truth: 0\n"
     ]
    }
   ],
   "source": [
    "with torch.no_grad():\n",
    "    selection = torch.randint(0, num_examples-1, (1,))\n",
    "    ins = xs[selection]\n",
    "    outs = ys[selection]\n",
    "    emb = C[ins].view(-1, emb_dim * context_len)\n",
    "    l1 = ((emb @ w1) + b1).tanh()\n",
    "    logits = ((l1 @ w2) + b2).sigmoid()\n",
    "    print(tokenizer.decode(ins[0].numpy()))\n",
    "    print(\"prediction:\", torch.argmax(logits).item())\n",
    "    print(\"truth:\", outs[0].item())"
   ]
  },
  {
   "cell_type": "code",
   "execution_count": 24,
   "id": "75a57958",
   "metadata": {
    "execution": {
     "iopub.execute_input": "2023-11-16T17:47:18.674317Z",
     "iopub.status.busy": "2023-11-16T17:47:18.673574Z",
     "iopub.status.idle": "2023-11-16T17:47:18.685598Z",
     "shell.execute_reply": "2023-11-16T17:47:18.684448Z"
    },
    "papermill": {
     "duration": 0.040564,
     "end_time": "2023-11-16T17:47:18.687909",
     "exception": false,
     "start_time": "2023-11-16T17:47:18.647345",
     "status": "completed"
    },
    "tags": []
   },
   "outputs": [
    {
     "name": "stdout",
     "output_type": "stream",
     "text": [
      "cell phones are a great way to keep in touch with the outside world, but they have no place inside a school building during class hours. allowing students to bring \n",
      "prediction: 0 confidence: 0.9970309138298035\n",
      "truth: 1\n",
      "selection index: 38134\n"
     ]
    }
   ],
   "source": [
    "with torch.no_grad():\n",
    "    while True:\n",
    "        selection = torch.randint(0, num_examples-1, (1,))\n",
    "        ins = xs[selection]\n",
    "        outs = ys[selection]\n",
    "        emb = C[ins].view(-1, emb_dim * context_len)\n",
    "        l1 = ((emb @ w1) + b1).tanh()\n",
    "        logits = ((l1 @ w2) + b2).sigmoid()\n",
    "        if outs[0].item() == 1:\n",
    "            print(tokenizer.decode(ins[0].numpy()))\n",
    "            print(\"prediction:\", torch.argmax(logits).item(), \"confidence:\", (logits[0][torch.argmax(logits).item()]/logits.sum()).item())\n",
    "            print(\"truth:\", outs[0].item())\n",
    "            print(\"selection index:\", selection.item())\n",
    "            break"
   ]
  },
  {
   "cell_type": "code",
   "execution_count": 25,
   "id": "b79ea689",
   "metadata": {
    "execution": {
     "iopub.execute_input": "2023-11-16T17:47:18.740957Z",
     "iopub.status.busy": "2023-11-16T17:47:18.739970Z",
     "iopub.status.idle": "2023-11-16T17:47:18.747570Z",
     "shell.execute_reply": "2023-11-16T17:47:18.746203Z"
    },
    "papermill": {
     "duration": 0.036734,
     "end_time": "2023-11-16T17:47:18.750049",
     "exception": false,
     "start_time": "2023-11-16T17:47:18.713315",
     "status": "completed"
    },
    "tags": []
   },
   "outputs": [],
   "source": [
    "def prompt(essay):\n",
    "    with torch.no_grad():\n",
    "        ins = torch.tensor(tokenizer.encode(essay))\n",
    "        emb = C[ins].view(-1, emb_dim * context_len)\n",
    "        l1 = ((emb @ w1) + b1).tanh()\n",
    "        logits = ((l1 @ w2) + b2).sigmoid()\n",
    "        return round((logits[0][1] / logits[0].sum()).item(), 1)"
   ]
  },
  {
   "cell_type": "code",
   "execution_count": 26,
   "id": "e978607c",
   "metadata": {
    "execution": {
     "iopub.execute_input": "2023-11-16T17:47:18.803430Z",
     "iopub.status.busy": "2023-11-16T17:47:18.802959Z",
     "iopub.status.idle": "2023-11-16T17:47:18.811846Z",
     "shell.execute_reply": "2023-11-16T17:47:18.810828Z"
    },
    "papermill": {
     "duration": 0.03807,
     "end_time": "2023-11-16T17:47:18.814091",
     "exception": false,
     "start_time": "2023-11-16T17:47:18.776021",
     "status": "completed"
    },
    "tags": []
   },
   "outputs": [
    {
     "data": {
      "text/plain": [
       "1.0"
      ]
     },
     "execution_count": 26,
     "metadata": {},
     "output_type": "execute_result"
    }
   ],
   "source": [
    "prompt(\"furthermore, the introduction of cars into modern society assisted with means of transportation\")"
   ]
  },
  {
   "cell_type": "code",
   "execution_count": 27,
   "id": "f12b9f9d",
   "metadata": {
    "execution": {
     "iopub.execute_input": "2023-11-16T17:47:18.867131Z",
     "iopub.status.busy": "2023-11-16T17:47:18.866709Z",
     "iopub.status.idle": "2023-11-16T17:47:18.874309Z",
     "shell.execute_reply": "2023-11-16T17:47:18.873146Z"
    },
    "papermill": {
     "duration": 0.036765,
     "end_time": "2023-11-16T17:47:18.876579",
     "exception": false,
     "start_time": "2023-11-16T17:47:18.839814",
     "status": "completed"
    },
    "tags": []
   },
   "outputs": [
    {
     "data": {
      "text/plain": [
       "'today many people are on their phone & driving at the same time. cell phone use while driving has led to 1.6 million crashes each year. nearly 390,000 injuries have '"
      ]
     },
     "execution_count": 27,
     "metadata": {},
     "output_type": "execute_result"
    }
   ],
   "source": [
    "tokenizer.decode(xs[96].numpy())"
   ]
  },
  {
   "cell_type": "code",
   "execution_count": 28,
   "id": "f4025365",
   "metadata": {
    "execution": {
     "iopub.execute_input": "2023-11-16T17:47:18.931811Z",
     "iopub.status.busy": "2023-11-16T17:47:18.931427Z",
     "iopub.status.idle": "2023-11-16T17:47:18.938712Z",
     "shell.execute_reply": "2023-11-16T17:47:18.937744Z"
    },
    "papermill": {
     "duration": 0.03665,
     "end_time": "2023-11-16T17:47:18.941011",
     "exception": false,
     "start_time": "2023-11-16T17:47:18.904361",
     "status": "completed"
    },
    "tags": []
   },
   "outputs": [
    {
     "data": {
      "text/plain": [
       "tensor(0)"
      ]
     },
     "execution_count": 28,
     "metadata": {},
     "output_type": "execute_result"
    }
   ],
   "source": [
    "ys[96]"
   ]
  },
  {
   "cell_type": "code",
   "execution_count": 29,
   "id": "b6111a89",
   "metadata": {
    "execution": {
     "iopub.execute_input": "2023-11-16T17:47:18.994679Z",
     "iopub.status.busy": "2023-11-16T17:47:18.994279Z",
     "iopub.status.idle": "2023-11-16T17:47:19.007234Z",
     "shell.execute_reply": "2023-11-16T17:47:19.006359Z"
    },
    "papermill": {
     "duration": 0.04249,
     "end_time": "2023-11-16T17:47:19.009467",
     "exception": false,
     "start_time": "2023-11-16T17:47:18.966977",
     "status": "completed"
    },
    "tags": []
   },
   "outputs": [],
   "source": [
    "test_dataset = pd.read_csv(\"/kaggle/input/llm-detect-ai-generated-text/test_essays.csv\")"
   ]
  },
  {
   "cell_type": "code",
   "execution_count": 30,
   "id": "8800caf0",
   "metadata": {
    "execution": {
     "iopub.execute_input": "2023-11-16T17:47:19.064018Z",
     "iopub.status.busy": "2023-11-16T17:47:19.062821Z",
     "iopub.status.idle": "2023-11-16T17:47:19.074613Z",
     "shell.execute_reply": "2023-11-16T17:47:19.073733Z"
    },
    "papermill": {
     "duration": 0.041494,
     "end_time": "2023-11-16T17:47:19.077036",
     "exception": false,
     "start_time": "2023-11-16T17:47:19.035542",
     "status": "completed"
    },
    "tags": []
   },
   "outputs": [],
   "source": [
    "import csv\n",
    "\n",
    "with open('submission.csv', 'w', newline='') as file:\n",
    "    writer = csv.writer(file)\n",
    "    field = [\"id\", \"generated\"]\n",
    "    \n",
    "    writer.writerow(field)\n",
    "    for index, row in test_dataset.iterrows():\n",
    "        writer.writerow([row[\"id\"], prompt(row[\"text\"])])"
   ]
  },
  {
   "cell_type": "code",
   "execution_count": 31,
   "id": "96e947a5",
   "metadata": {
    "execution": {
     "iopub.execute_input": "2023-11-16T17:47:19.131675Z",
     "iopub.status.busy": "2023-11-16T17:47:19.130550Z",
     "iopub.status.idle": "2023-11-16T17:47:19.137039Z",
     "shell.execute_reply": "2023-11-16T17:47:19.136261Z"
    },
    "papermill": {
     "duration": 0.035817,
     "end_time": "2023-11-16T17:47:19.139081",
     "exception": false,
     "start_time": "2023-11-16T17:47:19.103264",
     "status": "completed"
    },
    "tags": []
   },
   "outputs": [],
   "source": [
    "answers = pd.read_csv(\"/kaggle/working/submission.csv\")"
   ]
  },
  {
   "cell_type": "code",
   "execution_count": 32,
   "id": "e1ace50d",
   "metadata": {
    "execution": {
     "iopub.execute_input": "2023-11-16T17:47:19.194742Z",
     "iopub.status.busy": "2023-11-16T17:47:19.193617Z",
     "iopub.status.idle": "2023-11-16T17:47:19.201887Z",
     "shell.execute_reply": "2023-11-16T17:47:19.200742Z"
    },
    "papermill": {
     "duration": 0.038741,
     "end_time": "2023-11-16T17:47:19.204669",
     "exception": false,
     "start_time": "2023-11-16T17:47:19.165928",
     "status": "completed"
    },
    "tags": []
   },
   "outputs": [
    {
     "name": "stdout",
     "output_type": "stream",
     "text": [
      "id           0000aaaa\n",
      "generated         1.0\n",
      "Name: 0, dtype: object\n",
      "id           1111bbbb\n",
      "generated         1.0\n",
      "Name: 1, dtype: object\n",
      "id           2222cccc\n",
      "generated         1.0\n",
      "Name: 2, dtype: object\n"
     ]
    }
   ],
   "source": [
    "for index, row in answers.iterrows():\n",
    "    print(row)"
   ]
  }
 ],
 "metadata": {
  "kaggle": {
   "accelerator": "none",
   "dataSources": [
    {
     "databundleVersionId": 6888007,
     "sourceId": 61542,
     "sourceType": "competition"
    },
    {
     "datasetId": 4005256,
     "sourceId": 6977472,
     "sourceType": "datasetVersion"
    }
   ],
   "dockerImageVersionId": 30579,
   "isGpuEnabled": false,
   "isInternetEnabled": false,
   "language": "python",
   "sourceType": "notebook"
  },
  "kernelspec": {
   "display_name": "Python 3",
   "language": "python",
   "name": "python3"
  },
  "language_info": {
   "codemirror_mode": {
    "name": "ipython",
    "version": 3
   },
   "file_extension": ".py",
   "mimetype": "text/x-python",
   "name": "python",
   "nbconvert_exporter": "python",
   "pygments_lexer": "ipython3",
   "version": "3.10.12"
  },
  "papermill": {
   "default_parameters": {},
   "duration": 152.78401,
   "end_time": "2023-11-16T17:47:20.153535",
   "environment_variables": {},
   "exception": null,
   "input_path": "__notebook__.ipynb",
   "output_path": "__notebook__.ipynb",
   "parameters": {},
   "start_time": "2023-11-16T17:44:47.369525",
   "version": "2.4.0"
  }
 },
 "nbformat": 4,
 "nbformat_minor": 5
}
