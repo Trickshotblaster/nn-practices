{
 "cells": [
  {
   "cell_type": "code",
   "execution_count": 1,
   "id": "27d77123",
   "metadata": {
    "_cell_guid": "b1076dfc-b9ad-4769-8c92-a6c4dae69d19",
    "_uuid": "8f2839f25d086af736a60e9eeb907d3b93b6e0e5",
    "execution": {
     "iopub.execute_input": "2023-11-16T17:22:32.430970Z",
     "iopub.status.busy": "2023-11-16T17:22:32.430401Z",
     "iopub.status.idle": "2023-11-16T17:22:33.355612Z",
     "shell.execute_reply": "2023-11-16T17:22:33.354469Z"
    },
    "papermill": {
     "duration": 0.941236,
     "end_time": "2023-11-16T17:22:33.358579",
     "exception": false,
     "start_time": "2023-11-16T17:22:32.417343",
     "status": "completed"
    },
    "tags": []
   },
   "outputs": [
    {
     "name": "stdout",
     "output_type": "stream",
     "text": [
      "/kaggle/input/llm-detect-ai-generated-text/sample_submission.csv\n",
      "/kaggle/input/llm-detect-ai-generated-text/train_prompts.csv\n",
      "/kaggle/input/llm-detect-ai-generated-text/test_essays.csv\n",
      "/kaggle/input/llm-detect-ai-generated-text/train_essays.csv\n",
      "/kaggle/input/daigt-v2-train-dataset/train_v2_drcat_02.csv\n"
     ]
    }
   ],
   "source": [
    "# This Python 3 environment comes with many helpful analytics libraries installed\n",
    "# It is defined by the kaggle/python Docker image: https://github.com/kaggle/docker-python\n",
    "# For example, here's several helpful packages to load\n",
    "\n",
    "import numpy as np # linear algebra\n",
    "import pandas as pd # data processing, CSV file I/O (e.g. pd.read_csv)\n",
    "\n",
    "# Input data files are available in the read-only \"../input/\" directory\n",
    "# For example, running this (by clicking run or pressing Shift+Enter) will list all files under the input directory\n",
    "\n",
    "import os\n",
    "for dirname, _, filenames in os.walk('/kaggle/input'):\n",
    "    for filename in filenames:\n",
    "        print(os.path.join(dirname, filename))\n",
    "\n",
    "# You can write up to 20GB to the current directory (/kaggle/working/) that gets preserved as output when you create a version using \"Save & Run All\" \n",
    "# You can also write temporary files to /kaggle/temp/, but they won't be saved outside of the current session"
   ]
  },
  {
   "cell_type": "code",
   "execution_count": 2,
   "id": "280e4368",
   "metadata": {
    "execution": {
     "iopub.execute_input": "2023-11-16T17:22:33.382873Z",
     "iopub.status.busy": "2023-11-16T17:22:33.382029Z",
     "iopub.status.idle": "2023-11-16T17:22:35.738953Z",
     "shell.execute_reply": "2023-11-16T17:22:35.738034Z"
    },
    "papermill": {
     "duration": 2.37201,
     "end_time": "2023-11-16T17:22:35.741804",
     "exception": false,
     "start_time": "2023-11-16T17:22:33.369794",
     "status": "completed"
    },
    "tags": []
   },
   "outputs": [],
   "source": [
    "dataset = pd.read_csv(\"/kaggle/input/daigt-v2-train-dataset/train_v2_drcat_02.csv\")"
   ]
  },
  {
   "cell_type": "code",
   "execution_count": 3,
   "id": "33e8c090",
   "metadata": {
    "execution": {
     "iopub.execute_input": "2023-11-16T17:22:35.766354Z",
     "iopub.status.busy": "2023-11-16T17:22:35.765958Z",
     "iopub.status.idle": "2023-11-16T17:22:35.772501Z",
     "shell.execute_reply": "2023-11-16T17:22:35.770205Z"
    },
    "papermill": {
     "duration": 0.022309,
     "end_time": "2023-11-16T17:22:35.775913",
     "exception": false,
     "start_time": "2023-11-16T17:22:35.753604",
     "status": "completed"
    },
    "tags": []
   },
   "outputs": [],
   "source": [
    "import random"
   ]
  },
  {
   "cell_type": "code",
   "execution_count": 4,
   "id": "7d72d344",
   "metadata": {
    "execution": {
     "iopub.execute_input": "2023-11-16T17:22:35.804691Z",
     "iopub.status.busy": "2023-11-16T17:22:35.803644Z",
     "iopub.status.idle": "2023-11-16T17:22:39.046372Z",
     "shell.execute_reply": "2023-11-16T17:22:39.045270Z"
    },
    "papermill": {
     "duration": 3.257892,
     "end_time": "2023-11-16T17:22:39.049155",
     "exception": false,
     "start_time": "2023-11-16T17:22:35.791263",
     "status": "completed"
    },
    "tags": []
   },
   "outputs": [],
   "source": [
    "stoi = {\"[PAD]\": 0,\n",
    "       \"[UNK]\": 1}\n",
    "itos = {0 : \"[PAD]\",\n",
    "       1 : \"[UNK]\"}\n",
    "total_text = set()\n",
    "for index, row in dataset.iterrows():\n",
    "    if random.random() <= 0.1:\n",
    "        total_text.update(row[\"text\"].lower().split())\n",
    "stoi.update({char:i+2 for i, char in enumerate(sorted(total_text))})\n",
    "itos.update({i+2:char for i, char in enumerate(sorted(total_text))})"
   ]
  },
  {
   "cell_type": "code",
   "execution_count": 5,
   "id": "54366e5d",
   "metadata": {
    "execution": {
     "iopub.execute_input": "2023-11-16T17:22:39.073147Z",
     "iopub.status.busy": "2023-11-16T17:22:39.072692Z",
     "iopub.status.idle": "2023-11-16T17:22:39.081149Z",
     "shell.execute_reply": "2023-11-16T17:22:39.080091Z"
    },
    "papermill": {
     "duration": 0.023767,
     "end_time": "2023-11-16T17:22:39.083748",
     "exception": false,
     "start_time": "2023-11-16T17:22:39.059981",
     "status": "completed"
    },
    "tags": []
   },
   "outputs": [
    {
     "data": {
      "text/plain": [
       "'the'"
      ]
     },
     "execution_count": 5,
     "metadata": {},
     "output_type": "execute_result"
    }
   ],
   "source": [
    "itos[stoi['the']]"
   ]
  },
  {
   "cell_type": "code",
   "execution_count": 6,
   "id": "6372f695",
   "metadata": {
    "execution": {
     "iopub.execute_input": "2023-11-16T17:22:39.108792Z",
     "iopub.status.busy": "2023-11-16T17:22:39.107633Z",
     "iopub.status.idle": "2023-11-16T17:22:39.115182Z",
     "shell.execute_reply": "2023-11-16T17:22:39.114046Z"
    },
    "papermill": {
     "duration": 0.022728,
     "end_time": "2023-11-16T17:22:39.117648",
     "exception": false,
     "start_time": "2023-11-16T17:22:39.094920",
     "status": "completed"
    },
    "tags": []
   },
   "outputs": [
    {
     "data": {
      "text/plain": [
       "44608"
      ]
     },
     "execution_count": 6,
     "metadata": {},
     "output_type": "execute_result"
    }
   ],
   "source": [
    "vocab_size = len(stoi)\n",
    "vocab_size"
   ]
  },
  {
   "cell_type": "code",
   "execution_count": 7,
   "id": "4dc2fc83",
   "metadata": {
    "execution": {
     "iopub.execute_input": "2023-11-16T17:22:39.142382Z",
     "iopub.status.busy": "2023-11-16T17:22:39.141883Z",
     "iopub.status.idle": "2023-11-16T17:22:39.148811Z",
     "shell.execute_reply": "2023-11-16T17:22:39.147689Z"
    },
    "papermill": {
     "duration": 0.022406,
     "end_time": "2023-11-16T17:22:39.151306",
     "exception": false,
     "start_time": "2023-11-16T17:22:39.128900",
     "status": "completed"
    },
    "tags": []
   },
   "outputs": [
    {
     "data": {
      "text/plain": [
       "'[PAD]'"
      ]
     },
     "execution_count": 7,
     "metadata": {},
     "output_type": "execute_result"
    }
   ],
   "source": [
    "itos[0]"
   ]
  },
  {
   "cell_type": "code",
   "execution_count": 8,
   "id": "f7ed9d86",
   "metadata": {
    "execution": {
     "iopub.execute_input": "2023-11-16T17:22:39.176766Z",
     "iopub.status.busy": "2023-11-16T17:22:39.175752Z",
     "iopub.status.idle": "2023-11-16T17:22:39.185472Z",
     "shell.execute_reply": "2023-11-16T17:22:39.184543Z"
    },
    "papermill": {
     "duration": 0.025177,
     "end_time": "2023-11-16T17:22:39.187987",
     "exception": false,
     "start_time": "2023-11-16T17:22:39.162810",
     "status": "completed"
    },
    "tags": []
   },
   "outputs": [],
   "source": [
    "class tokenizer:\n",
    "    def __init__(self, stoi, itos, max_len=100):\n",
    "        self.stoi = stoi\n",
    "        self.itos = itos\n",
    "        self.vocab_size = len(itos)\n",
    "        self.max_len = max_len\n",
    "    def encode(self, text):\n",
    "        out = []\n",
    "        text = text.lower().split()[:self.max_len]\n",
    "        for word in text:\n",
    "            if word in stoi:\n",
    "                out.append(stoi[word])\n",
    "            else:\n",
    "                out.append(1)\n",
    "        out = [0] * max(0, abs(len(out) - self.max_len)) + out\n",
    "        return out\n",
    "    def decode(self, ids):\n",
    "        out = \"\"\n",
    "        for token in ids:\n",
    "            if token in itos:\n",
    "                out += itos[token] + \" \"\n",
    "        return out"
   ]
  },
  {
   "cell_type": "code",
   "execution_count": 9,
   "id": "c994c918",
   "metadata": {
    "execution": {
     "iopub.execute_input": "2023-11-16T17:22:39.213778Z",
     "iopub.status.busy": "2023-11-16T17:22:39.212965Z",
     "iopub.status.idle": "2023-11-16T17:22:39.217922Z",
     "shell.execute_reply": "2023-11-16T17:22:39.216752Z"
    },
    "papermill": {
     "duration": 0.020677,
     "end_time": "2023-11-16T17:22:39.220353",
     "exception": false,
     "start_time": "2023-11-16T17:22:39.199676",
     "status": "completed"
    },
    "tags": []
   },
   "outputs": [],
   "source": [
    "context_len = 30"
   ]
  },
  {
   "cell_type": "code",
   "execution_count": 10,
   "id": "324bd795",
   "metadata": {
    "execution": {
     "iopub.execute_input": "2023-11-16T17:22:39.244837Z",
     "iopub.status.busy": "2023-11-16T17:22:39.244392Z",
     "iopub.status.idle": "2023-11-16T17:22:39.249376Z",
     "shell.execute_reply": "2023-11-16T17:22:39.248233Z"
    },
    "papermill": {
     "duration": 0.020068,
     "end_time": "2023-11-16T17:22:39.251812",
     "exception": false,
     "start_time": "2023-11-16T17:22:39.231744",
     "status": "completed"
    },
    "tags": []
   },
   "outputs": [],
   "source": [
    "tokenizer = tokenizer(stoi, itos, max_len=context_len)"
   ]
  },
  {
   "cell_type": "code",
   "execution_count": 11,
   "id": "e6c3930e",
   "metadata": {
    "execution": {
     "iopub.execute_input": "2023-11-16T17:22:39.276387Z",
     "iopub.status.busy": "2023-11-16T17:22:39.275991Z",
     "iopub.status.idle": "2023-11-16T17:22:39.283878Z",
     "shell.execute_reply": "2023-11-16T17:22:39.282745Z"
    },
    "papermill": {
     "duration": 0.023057,
     "end_time": "2023-11-16T17:22:39.286256",
     "exception": false,
     "start_time": "2023-11-16T17:22:39.263199",
     "status": "completed"
    },
    "tags": []
   },
   "outputs": [
    {
     "data": {
      "text/plain": [
       "[0,\n",
       " 0,\n",
       " 0,\n",
       " 0,\n",
       " 0,\n",
       " 0,\n",
       " 0,\n",
       " 0,\n",
       " 0,\n",
       " 0,\n",
       " 0,\n",
       " 0,\n",
       " 8354,\n",
       " 8333,\n",
       " 20122,\n",
       " 6328,\n",
       " 5073,\n",
       " 36031,\n",
       " 39812,\n",
       " 6268,\n",
       " 17258,\n",
       " 21677,\n",
       " 39624,\n",
       " 2029,\n",
       " 43382,\n",
       " 20410,\n",
       " 18119,\n",
       " 11521,\n",
       " 4468,\n",
       " 7547]"
      ]
     },
     "execution_count": 11,
     "metadata": {},
     "output_type": "execute_result"
    }
   ],
   "source": [
    "tokenizer.encode(\"Cars. Cars have been around since they became famous in the 1900s, when Henry Ford created and built\")"
   ]
  },
  {
   "cell_type": "code",
   "execution_count": 12,
   "id": "8f5208dc",
   "metadata": {
    "execution": {
     "iopub.execute_input": "2023-11-16T17:22:39.311469Z",
     "iopub.status.busy": "2023-11-16T17:22:39.311033Z",
     "iopub.status.idle": "2023-11-16T17:22:39.318612Z",
     "shell.execute_reply": "2023-11-16T17:22:39.317520Z"
    },
    "papermill": {
     "duration": 0.023366,
     "end_time": "2023-11-16T17:22:39.320997",
     "exception": false,
     "start_time": "2023-11-16T17:22:39.297631",
     "status": "completed"
    },
    "tags": []
   },
   "outputs": [
    {
     "data": {
      "text/plain": [
       "'[PAD] [PAD] [PAD] [PAD] [PAD] [PAD] [PAD] [PAD] [PAD] [PAD] [PAD] [PAD] cars. cars have been around since they became famous in the 1900s, when henry ford created and built '"
      ]
     },
     "execution_count": 12,
     "metadata": {},
     "output_type": "execute_result"
    }
   ],
   "source": [
    "tokenizer.decode(tokenizer.encode(\"Cars. Cars have been around since they became famous in the 1900s, when Henry Ford created and built\"))"
   ]
  },
  {
   "cell_type": "code",
   "execution_count": 13,
   "id": "51571cfd",
   "metadata": {
    "execution": {
     "iopub.execute_input": "2023-11-16T17:22:39.346923Z",
     "iopub.status.busy": "2023-11-16T17:22:39.346516Z",
     "iopub.status.idle": "2023-11-16T17:22:43.101928Z",
     "shell.execute_reply": "2023-11-16T17:22:43.100631Z"
    },
    "papermill": {
     "duration": 3.772207,
     "end_time": "2023-11-16T17:22:43.105351",
     "exception": false,
     "start_time": "2023-11-16T17:22:39.333144",
     "status": "completed"
    },
    "tags": []
   },
   "outputs": [],
   "source": [
    "import torch"
   ]
  },
  {
   "cell_type": "code",
   "execution_count": 14,
   "id": "568b96e2",
   "metadata": {
    "execution": {
     "iopub.execute_input": "2023-11-16T17:22:43.131939Z",
     "iopub.status.busy": "2023-11-16T17:22:43.131341Z",
     "iopub.status.idle": "2023-11-16T17:22:49.749602Z",
     "shell.execute_reply": "2023-11-16T17:22:49.748356Z"
    },
    "papermill": {
     "duration": 6.634804,
     "end_time": "2023-11-16T17:22:49.752491",
     "exception": false,
     "start_time": "2023-11-16T17:22:43.117687",
     "status": "completed"
    },
    "tags": []
   },
   "outputs": [],
   "source": [
    "def build_dataset():\n",
    "    xs, ys = [], []\n",
    "    for index, row in dataset.iterrows():\n",
    "        xs.append(tokenizer.encode(row[\"text\"]))\n",
    "        ys.append(row[\"label\"])\n",
    "    xs = torch.tensor(xs)\n",
    "    ys = torch.tensor(ys)\n",
    "    return xs, ys\n",
    "xs, ys = build_dataset()"
   ]
  },
  {
   "cell_type": "code",
   "execution_count": 15,
   "id": "4142810a",
   "metadata": {
    "execution": {
     "iopub.execute_input": "2023-11-16T17:22:49.777442Z",
     "iopub.status.busy": "2023-11-16T17:22:49.776995Z",
     "iopub.status.idle": "2023-11-16T17:22:49.801071Z",
     "shell.execute_reply": "2023-11-16T17:22:49.799876Z"
    },
    "papermill": {
     "duration": 0.039913,
     "end_time": "2023-11-16T17:22:49.803921",
     "exception": false,
     "start_time": "2023-11-16T17:22:49.764008",
     "status": "completed"
    },
    "tags": []
   },
   "outputs": [
    {
     "data": {
      "text/plain": [
       "'phones modern humans today are always on their phone. they are always on their phone more than 5 hours a day no stop .all they do is text back and '"
      ]
     },
     "execution_count": 15,
     "metadata": {},
     "output_type": "execute_result"
    }
   ],
   "source": [
    "tokenizer.decode(xs[0].numpy())"
   ]
  },
  {
   "cell_type": "code",
   "execution_count": 16,
   "id": "43caa8cd",
   "metadata": {
    "execution": {
     "iopub.execute_input": "2023-11-16T17:22:49.829157Z",
     "iopub.status.busy": "2023-11-16T17:22:49.828726Z",
     "iopub.status.idle": "2023-11-16T17:22:49.850850Z",
     "shell.execute_reply": "2023-11-16T17:22:49.849601Z"
    },
    "papermill": {
     "duration": 0.037879,
     "end_time": "2023-11-16T17:22:49.853459",
     "exception": false,
     "start_time": "2023-11-16T17:22:49.815580",
     "status": "completed"
    },
    "tags": []
   },
   "outputs": [
    {
     "data": {
      "text/plain": [
       "tensor(0)"
      ]
     },
     "execution_count": 16,
     "metadata": {},
     "output_type": "execute_result"
    }
   ],
   "source": [
    "ys[0]"
   ]
  },
  {
   "cell_type": "code",
   "execution_count": 17,
   "id": "bf7f964a",
   "metadata": {
    "execution": {
     "iopub.execute_input": "2023-11-16T17:22:49.879491Z",
     "iopub.status.busy": "2023-11-16T17:22:49.879028Z",
     "iopub.status.idle": "2023-11-16T17:22:49.884125Z",
     "shell.execute_reply": "2023-11-16T17:22:49.882917Z"
    },
    "papermill": {
     "duration": 0.021094,
     "end_time": "2023-11-16T17:22:49.886614",
     "exception": false,
     "start_time": "2023-11-16T17:22:49.865520",
     "status": "completed"
    },
    "tags": []
   },
   "outputs": [],
   "source": [
    "emb_dim = 10"
   ]
  },
  {
   "cell_type": "code",
   "execution_count": 18,
   "id": "770b3e5f",
   "metadata": {
    "execution": {
     "iopub.execute_input": "2023-11-16T17:22:49.911750Z",
     "iopub.status.busy": "2023-11-16T17:22:49.911288Z",
     "iopub.status.idle": "2023-11-16T17:22:49.952730Z",
     "shell.execute_reply": "2023-11-16T17:22:49.951812Z"
    },
    "papermill": {
     "duration": 0.057127,
     "end_time": "2023-11-16T17:22:49.955316",
     "exception": false,
     "start_time": "2023-11-16T17:22:49.898189",
     "status": "completed"
    },
    "tags": []
   },
   "outputs": [],
   "source": [
    "# initialize parameters\n",
    "C = torch.randn(vocab_size, emb_dim) * 0.1\n",
    "w1 = torch.randn(context_len * emb_dim, 100) * 0.1\n",
    "b1 = torch.randn(100) * 0.01\n",
    "w2 = torch.randn(100, 2) * 0.1\n",
    "b2 = torch.randn(2) * 0.01\n",
    "\n",
    "params = [C, w1, b1, w2, b2]\n",
    "for p in params:\n",
    "    p.requires_grad = True"
   ]
  },
  {
   "cell_type": "code",
   "execution_count": 19,
   "id": "88831601",
   "metadata": {
    "execution": {
     "iopub.execute_input": "2023-11-16T17:22:49.981046Z",
     "iopub.status.busy": "2023-11-16T17:22:49.980327Z",
     "iopub.status.idle": "2023-11-16T17:22:49.987636Z",
     "shell.execute_reply": "2023-11-16T17:22:49.986753Z"
    },
    "papermill": {
     "duration": 0.023078,
     "end_time": "2023-11-16T17:22:49.990165",
     "exception": false,
     "start_time": "2023-11-16T17:22:49.967087",
     "status": "completed"
    },
    "tags": []
   },
   "outputs": [],
   "source": [
    "num_examples = len(xs)"
   ]
  },
  {
   "cell_type": "code",
   "execution_count": 20,
   "id": "1688ee21",
   "metadata": {
    "execution": {
     "iopub.execute_input": "2023-11-16T17:22:50.016275Z",
     "iopub.status.busy": "2023-11-16T17:22:50.015401Z",
     "iopub.status.idle": "2023-11-16T17:22:50.020567Z",
     "shell.execute_reply": "2023-11-16T17:22:50.019781Z"
    },
    "papermill": {
     "duration": 0.020915,
     "end_time": "2023-11-16T17:22:50.022922",
     "exception": false,
     "start_time": "2023-11-16T17:22:50.002007",
     "status": "completed"
    },
    "tags": []
   },
   "outputs": [],
   "source": [
    "# training params\n",
    "num_epochs = 150000\n",
    "lr = 0.01\n",
    "batch_size = 16"
   ]
  },
  {
   "cell_type": "code",
   "execution_count": 21,
   "id": "662e8a32",
   "metadata": {
    "execution": {
     "iopub.execute_input": "2023-11-16T17:22:50.048797Z",
     "iopub.status.busy": "2023-11-16T17:22:50.047938Z",
     "iopub.status.idle": "2023-11-16T17:22:50.053221Z",
     "shell.execute_reply": "2023-11-16T17:22:50.052445Z"
    },
    "papermill": {
     "duration": 0.020963,
     "end_time": "2023-11-16T17:22:50.055552",
     "exception": false,
     "start_time": "2023-11-16T17:22:50.034589",
     "status": "completed"
    },
    "tags": []
   },
   "outputs": [],
   "source": [
    "import torch.nn.functional as F"
   ]
  },
  {
   "cell_type": "code",
   "execution_count": 22,
   "id": "fdbb97f6",
   "metadata": {
    "execution": {
     "iopub.execute_input": "2023-11-16T17:22:50.081471Z",
     "iopub.status.busy": "2023-11-16T17:22:50.080627Z",
     "iopub.status.idle": "2023-11-16T17:25:30.380831Z",
     "shell.execute_reply": "2023-11-16T17:25:30.379712Z"
    },
    "papermill": {
     "duration": 160.31695,
     "end_time": "2023-11-16T17:25:30.384151",
     "exception": false,
     "start_time": "2023-11-16T17:22:50.067201",
     "status": "completed"
    },
    "tags": []
   },
   "outputs": [
    {
     "name": "stdout",
     "output_type": "stream",
     "text": [
      "Epoch: 0 , loss: 0.7018887996673584\n",
      "Epoch: 1000 , loss: 0.6407331228256226\n",
      "Epoch: 2000 , loss: 0.6564851403236389\n",
      "Epoch: 3000 , loss: 0.6855296492576599\n",
      "Epoch: 4000 , loss: 0.6256868243217468\n",
      "Epoch: 5000 , loss: 0.646554172039032\n",
      "Epoch: 6000 , loss: 0.6064630150794983\n",
      "Epoch: 7000 , loss: 0.6537873148918152\n",
      "Epoch: 8000 , loss: 0.5783604383468628\n",
      "Epoch: 9000 , loss: 0.7226593494415283\n",
      "Epoch: 10000 , loss: 0.5815320611000061\n",
      "Epoch: 11000 , loss: 0.539470911026001\n",
      "Epoch: 12000 , loss: 0.5919642448425293\n",
      "Epoch: 13000 , loss: 0.5460279583930969\n",
      "Epoch: 14000 , loss: 0.5537245273590088\n",
      "Epoch: 15000 , loss: 0.48451903462409973\n",
      "Epoch: 16000 , loss: 0.5546855926513672\n",
      "Epoch: 17000 , loss: 0.5416461825370789\n",
      "Epoch: 18000 , loss: 0.42463603615760803\n",
      "Epoch: 19000 , loss: 0.39539268612861633\n",
      "Epoch: 20000 , loss: 0.37280118465423584\n",
      "Epoch: 21000 , loss: 0.438774049282074\n",
      "Epoch: 22000 , loss: 0.48591169714927673\n",
      "Epoch: 23000 , loss: 0.44220396876335144\n",
      "Epoch: 24000 , loss: 0.4549175202846527\n",
      "Epoch: 25000 , loss: 0.4425811469554901\n",
      "Epoch: 26000 , loss: 0.48120900988578796\n",
      "Epoch: 27000 , loss: 0.5069558024406433\n",
      "Epoch: 28000 , loss: 0.41475096344947815\n",
      "Epoch: 29000 , loss: 0.4051744341850281\n",
      "Epoch: 30000 , loss: 0.372322142124176\n",
      "Epoch: 31000 , loss: 0.3191244900226593\n",
      "Epoch: 32000 , loss: 0.35482850670814514\n",
      "Epoch: 33000 , loss: 0.49925437569618225\n",
      "Epoch: 34000 , loss: 0.49851104617118835\n",
      "Epoch: 35000 , loss: 0.3940260410308838\n",
      "Epoch: 36000 , loss: 0.46082648634910583\n",
      "Epoch: 37000 , loss: 0.38270169496536255\n",
      "Epoch: 38000 , loss: 0.3361879587173462\n",
      "Epoch: 39000 , loss: 0.4656316339969635\n",
      "Epoch: 40000 , loss: 0.37023860216140747\n",
      "Epoch: 41000 , loss: 0.34196722507476807\n",
      "Epoch: 42000 , loss: 0.3461015224456787\n",
      "Epoch: 43000 , loss: 0.4875223636627197\n",
      "Epoch: 44000 , loss: 0.3681144416332245\n",
      "Epoch: 45000 , loss: 0.33120712637901306\n",
      "Epoch: 46000 , loss: 0.3627137243747711\n",
      "Epoch: 47000 , loss: 0.40063199400901794\n",
      "Epoch: 48000 , loss: 0.31958654522895813\n",
      "Epoch: 49000 , loss: 0.4753420948982239\n",
      "Epoch: 50000 , loss: 0.40891143679618835\n",
      "Epoch: 51000 , loss: 0.3834456205368042\n",
      "Epoch: 52000 , loss: 0.37998324632644653\n",
      "Epoch: 53000 , loss: 0.3189444839954376\n",
      "Epoch: 54000 , loss: 0.3190963864326477\n",
      "Epoch: 55000 , loss: 0.3192884027957916\n",
      "Epoch: 56000 , loss: 0.3368537425994873\n",
      "Epoch: 57000 , loss: 0.46154606342315674\n",
      "Epoch: 58000 , loss: 0.4127042889595032\n",
      "Epoch: 59000 , loss: 0.3441372215747833\n",
      "Epoch: 60000 , loss: 0.36812758445739746\n",
      "Epoch: 61000 , loss: 0.42259037494659424\n",
      "Epoch: 62000 , loss: 0.3960810899734497\n",
      "Epoch: 63000 , loss: 0.3276257812976837\n",
      "Epoch: 64000 , loss: 0.32697635889053345\n",
      "Epoch: 65000 , loss: 0.31942054629325867\n",
      "Epoch: 66000 , loss: 0.4448215663433075\n",
      "Epoch: 67000 , loss: 0.31528812646865845\n",
      "Epoch: 68000 , loss: 0.32884833216667175\n",
      "Epoch: 69000 , loss: 0.3251505196094513\n",
      "Epoch: 70000 , loss: 0.32315731048583984\n",
      "Epoch: 71000 , loss: 0.38738593459129333\n",
      "Epoch: 72000 , loss: 0.37064534425735474\n",
      "Epoch: 73000 , loss: 0.3992619812488556\n",
      "Epoch: 74000 , loss: 0.3158464729785919\n",
      "Epoch: 75000 , loss: 0.33076566457748413\n",
      "Epoch: 76000 , loss: 0.4371866285800934\n",
      "Epoch: 77000 , loss: 0.34020817279815674\n",
      "Epoch: 78000 , loss: 0.36471545696258545\n",
      "Epoch: 79000 , loss: 0.37609341740608215\n",
      "Epoch: 80000 , loss: 0.3246292769908905\n",
      "Epoch: 81000 , loss: 0.44291016459465027\n",
      "Epoch: 82000 , loss: 0.4380413293838501\n",
      "Epoch: 83000 , loss: 0.3151323199272156\n",
      "Epoch: 84000 , loss: 0.45378267765045166\n",
      "Epoch: 85000 , loss: 0.31570571660995483\n",
      "Epoch: 86000 , loss: 0.37617653608322144\n",
      "Epoch: 87000 , loss: 0.3166547417640686\n",
      "Epoch: 88000 , loss: 0.3489839434623718\n",
      "Epoch: 89000 , loss: 0.31536808609962463\n",
      "Epoch: 90000 , loss: 0.3664343059062958\n",
      "Epoch: 91000 , loss: 0.3649561107158661\n",
      "Epoch: 92000 , loss: 0.3298994302749634\n",
      "Epoch: 93000 , loss: 0.37134823203086853\n",
      "Epoch: 94000 , loss: 0.3152252435684204\n",
      "Epoch: 95000 , loss: 0.3406960368156433\n",
      "Epoch: 96000 , loss: 0.34390825033187866\n",
      "Epoch: 97000 , loss: 0.3288882076740265\n",
      "Epoch: 98000 , loss: 0.3137090802192688\n",
      "Epoch: 99000 , loss: 0.375521183013916\n",
      "Epoch: 100000 , loss: 0.4346252977848053\n",
      "Epoch: 101000 , loss: 0.32124659419059753\n",
      "Epoch: 102000 , loss: 0.3814966678619385\n",
      "Epoch: 103000 , loss: 0.3196561336517334\n",
      "Epoch: 104000 , loss: 0.32078614830970764\n",
      "Epoch: 105000 , loss: 0.35394519567489624\n",
      "Epoch: 106000 , loss: 0.3161705732345581\n",
      "Epoch: 107000 , loss: 0.33529573678970337\n",
      "Epoch: 108000 , loss: 0.3185713291168213\n",
      "Epoch: 109000 , loss: 0.31355294585227966\n",
      "Epoch: 110000 , loss: 0.317002534866333\n",
      "Epoch: 111000 , loss: 0.382459819316864\n",
      "Epoch: 112000 , loss: 0.3738548457622528\n",
      "Epoch: 113000 , loss: 0.31359627842903137\n",
      "Epoch: 114000 , loss: 0.4747254252433777\n",
      "Epoch: 115000 , loss: 0.3446182608604431\n",
      "Epoch: 116000 , loss: 0.31372830271720886\n",
      "Epoch: 117000 , loss: 0.319983571767807\n",
      "Epoch: 118000 , loss: 0.4075886905193329\n",
      "Epoch: 119000 , loss: 0.346636027097702\n",
      "Epoch: 120000 , loss: 0.314047247171402\n",
      "Epoch: 121000 , loss: 0.3743164837360382\n",
      "Epoch: 122000 , loss: 0.3233034312725067\n",
      "Epoch: 123000 , loss: 0.4114525616168976\n",
      "Epoch: 124000 , loss: 0.3187561631202698\n",
      "Epoch: 125000 , loss: 0.31422367691993713\n",
      "Epoch: 126000 , loss: 0.3186531662940979\n",
      "Epoch: 127000 , loss: 0.3175946772098541\n",
      "Epoch: 128000 , loss: 0.3308635354042053\n",
      "Epoch: 129000 , loss: 0.38834479451179504\n",
      "Epoch: 130000 , loss: 0.3165834844112396\n",
      "Epoch: 131000 , loss: 0.31627196073532104\n",
      "Epoch: 132000 , loss: 0.3923172950744629\n",
      "Epoch: 133000 , loss: 0.33236372470855713\n",
      "Epoch: 134000 , loss: 0.3338276147842407\n",
      "Epoch: 135000 , loss: 0.3862135112285614\n",
      "Epoch: 136000 , loss: 0.42920562624931335\n",
      "Epoch: 137000 , loss: 0.37578508257865906\n",
      "Epoch: 138000 , loss: 0.33995020389556885\n",
      "Epoch: 139000 , loss: 0.34451714158058167\n",
      "Epoch: 140000 , loss: 0.3768158257007599\n",
      "Epoch: 141000 , loss: 0.3203105926513672\n",
      "Epoch: 142000 , loss: 0.3587906062602997\n",
      "Epoch: 143000 , loss: 0.37521812319755554\n",
      "Epoch: 144000 , loss: 0.31661540269851685\n",
      "Epoch: 145000 , loss: 0.3174523711204529\n",
      "Epoch: 146000 , loss: 0.32067984342575073\n",
      "Epoch: 147000 , loss: 0.32487842440605164\n",
      "Epoch: 148000 , loss: 0.3173964321613312\n",
      "Epoch: 149000 , loss: 0.3242168128490448\n"
     ]
    }
   ],
   "source": [
    "for epoch in range(num_epochs):\n",
    "    selection = torch.randint(0, num_examples-1, (batch_size, ))\n",
    "    ins = xs[selection]\n",
    "    outs = ys[selection]\n",
    "    emb = C[ins].view(-1, emb_dim * context_len)\n",
    "    l1 = ((emb @ w1) + b1).tanh()\n",
    "    logits = ((l1 @ w2) + b2).sigmoid()\n",
    "    for p in params:\n",
    "        p.grad = None\n",
    "\n",
    "    loss = F.cross_entropy(logits, outs)\n",
    "    if epoch % 1000 == 0:\n",
    "        print(\"Epoch:\", epoch, \", loss:\", loss.item())\n",
    "    loss.backward()\n",
    "    \n",
    "    for p in params:\n",
    "        p.data -= p.grad * lr\n",
    "    "
   ]
  },
  {
   "cell_type": "code",
   "execution_count": 23,
   "id": "51229358",
   "metadata": {
    "execution": {
     "iopub.execute_input": "2023-11-16T17:25:30.513149Z",
     "iopub.status.busy": "2023-11-16T17:25:30.512342Z",
     "iopub.status.idle": "2023-11-16T17:25:30.526571Z",
     "shell.execute_reply": "2023-11-16T17:25:30.525697Z"
    },
    "papermill": {
     "duration": 0.116608,
     "end_time": "2023-11-16T17:25:30.529748",
     "exception": false,
     "start_time": "2023-11-16T17:25:30.413140",
     "status": "completed"
    },
    "tags": []
   },
   "outputs": [
    {
     "name": "stdout",
     "output_type": "stream",
     "text": [
      "extending the school day can be both a blessing and a curse for students. on the one hand, four days of school can be fewer school days in a week \n",
      "prediction: 1\n",
      "truth: 1\n"
     ]
    }
   ],
   "source": [
    "with torch.no_grad():\n",
    "    selection = torch.randint(0, num_examples-1, (1,))\n",
    "    ins = xs[selection]\n",
    "    outs = ys[selection]\n",
    "    emb = C[ins].view(-1, emb_dim * context_len)\n",
    "    l1 = ((emb @ w1) + b1).tanh()\n",
    "    logits = ((l1 @ w2) + b2).sigmoid()\n",
    "    print(tokenizer.decode(ins[0].numpy()))\n",
    "    print(\"prediction:\", torch.argmax(logits).item())\n",
    "    print(\"truth:\", outs[0].item())"
   ]
  },
  {
   "cell_type": "code",
   "execution_count": 24,
   "id": "8628c95a",
   "metadata": {
    "execution": {
     "iopub.execute_input": "2023-11-16T17:25:30.584739Z",
     "iopub.status.busy": "2023-11-16T17:25:30.584293Z",
     "iopub.status.idle": "2023-11-16T17:25:30.597168Z",
     "shell.execute_reply": "2023-11-16T17:25:30.595872Z"
    },
    "papermill": {
     "duration": 0.042967,
     "end_time": "2023-11-16T17:25:30.599583",
     "exception": false,
     "start_time": "2023-11-16T17:25:30.556616",
     "status": "completed"
    },
    "tags": []
   },
   "outputs": [
    {
     "name": "stdout",
     "output_type": "stream",
     "text": [
      "graduating early from high school can be a great opportunity for motivated and actively engaged students who are looking to take their education to the next level. while leaving the \n",
      "prediction: 1 confidence: 0.9999995231628418\n",
      "truth: 1\n",
      "selection index: 29703\n"
     ]
    }
   ],
   "source": [
    "with torch.no_grad():\n",
    "    while True:\n",
    "        selection = torch.randint(0, num_examples-1, (1,))\n",
    "        ins = xs[selection]\n",
    "        outs = ys[selection]\n",
    "        emb = C[ins].view(-1, emb_dim * context_len)\n",
    "        l1 = ((emb @ w1) + b1).tanh()\n",
    "        logits = ((l1 @ w2) + b2).sigmoid()\n",
    "        if outs[0].item() == 1:\n",
    "            print(tokenizer.decode(ins[0].numpy()))\n",
    "            print(\"prediction:\", torch.argmax(logits).item(), \"confidence:\", (logits[0][torch.argmax(logits).item()]/logits.sum()).item())\n",
    "            print(\"truth:\", outs[0].item())\n",
    "            print(\"selection index:\", selection.item())\n",
    "            break"
   ]
  },
  {
   "cell_type": "code",
   "execution_count": 25,
   "id": "b5d69f1f",
   "metadata": {
    "execution": {
     "iopub.execute_input": "2023-11-16T17:25:30.654962Z",
     "iopub.status.busy": "2023-11-16T17:25:30.653746Z",
     "iopub.status.idle": "2023-11-16T17:25:30.660325Z",
     "shell.execute_reply": "2023-11-16T17:25:30.659507Z"
    },
    "papermill": {
     "duration": 0.03613,
     "end_time": "2023-11-16T17:25:30.662608",
     "exception": false,
     "start_time": "2023-11-16T17:25:30.626478",
     "status": "completed"
    },
    "tags": []
   },
   "outputs": [],
   "source": [
    "def prompt(essay):\n",
    "    with torch.no_grad():\n",
    "        ins = torch.tensor(tokenizer.encode(essay))\n",
    "        emb = C[ins].view(-1, emb_dim * context_len)\n",
    "        l1 = ((emb @ w1) + b1).tanh()\n",
    "        logits = ((l1 @ w2) + b2).sigmoid()\n",
    "        return logits[0][1] / logits.sum()"
   ]
  },
  {
   "cell_type": "code",
   "execution_count": 26,
   "id": "536478eb",
   "metadata": {
    "execution": {
     "iopub.execute_input": "2023-11-16T17:25:30.717295Z",
     "iopub.status.busy": "2023-11-16T17:25:30.716594Z",
     "iopub.status.idle": "2023-11-16T17:25:30.737472Z",
     "shell.execute_reply": "2023-11-16T17:25:30.736620Z"
    },
    "papermill": {
     "duration": 0.051242,
     "end_time": "2023-11-16T17:25:30.739957",
     "exception": false,
     "start_time": "2023-11-16T17:25:30.688715",
     "status": "completed"
    },
    "tags": []
   },
   "outputs": [
    {
     "data": {
      "text/plain": [
       "tensor(1.1511e-06)"
      ]
     },
     "execution_count": 26,
     "metadata": {},
     "output_type": "execute_result"
    }
   ],
   "source": [
    "prompt(\"i love cats always, they are my favoite animals ever and so fun. i have two cats at home\")"
   ]
  },
  {
   "cell_type": "code",
   "execution_count": 27,
   "id": "1e73ffd1",
   "metadata": {
    "execution": {
     "iopub.execute_input": "2023-11-16T17:25:30.793627Z",
     "iopub.status.busy": "2023-11-16T17:25:30.792797Z",
     "iopub.status.idle": "2023-11-16T17:25:30.799770Z",
     "shell.execute_reply": "2023-11-16T17:25:30.798465Z"
    },
    "papermill": {
     "duration": 0.036382,
     "end_time": "2023-11-16T17:25:30.802293",
     "exception": false,
     "start_time": "2023-11-16T17:25:30.765911",
     "status": "completed"
    },
    "tags": []
   },
   "outputs": [
    {
     "data": {
      "text/plain": [
       "'today many people are on their phone & driving at the same time. cell phone use while driving has led to 1.6 million crashes each year. nearly 390,000 injuries have '"
      ]
     },
     "execution_count": 27,
     "metadata": {},
     "output_type": "execute_result"
    }
   ],
   "source": [
    "tokenizer.decode(xs[96].numpy())"
   ]
  },
  {
   "cell_type": "code",
   "execution_count": 28,
   "id": "caf23233",
   "metadata": {
    "execution": {
     "iopub.execute_input": "2023-11-16T17:25:30.856290Z",
     "iopub.status.busy": "2023-11-16T17:25:30.855843Z",
     "iopub.status.idle": "2023-11-16T17:25:30.862787Z",
     "shell.execute_reply": "2023-11-16T17:25:30.861983Z"
    },
    "papermill": {
     "duration": 0.036715,
     "end_time": "2023-11-16T17:25:30.865150",
     "exception": false,
     "start_time": "2023-11-16T17:25:30.828435",
     "status": "completed"
    },
    "tags": []
   },
   "outputs": [
    {
     "data": {
      "text/plain": [
       "tensor(0)"
      ]
     },
     "execution_count": 28,
     "metadata": {},
     "output_type": "execute_result"
    }
   ],
   "source": [
    "ys[96]"
   ]
  },
  {
   "cell_type": "code",
   "execution_count": 29,
   "id": "7de62f6e",
   "metadata": {
    "execution": {
     "iopub.execute_input": "2023-11-16T17:25:30.919759Z",
     "iopub.status.busy": "2023-11-16T17:25:30.919284Z",
     "iopub.status.idle": "2023-11-16T17:25:31.140126Z",
     "shell.execute_reply": "2023-11-16T17:25:31.139237Z"
    },
    "papermill": {
     "duration": 0.251561,
     "end_time": "2023-11-16T17:25:31.142842",
     "exception": false,
     "start_time": "2023-11-16T17:25:30.891281",
     "status": "completed"
    },
    "tags": []
   },
   "outputs": [],
   "source": [
    "test_dataset = pd.read_csv(\"/kaggle/input/llm-detect-ai-generated-text/train_essays.csv\")"
   ]
  },
  {
   "cell_type": "code",
   "execution_count": 30,
   "id": "07cb5f5c",
   "metadata": {
    "execution": {
     "iopub.execute_input": "2023-11-16T17:25:31.198360Z",
     "iopub.status.busy": "2023-11-16T17:25:31.197935Z",
     "iopub.status.idle": "2023-11-16T17:25:31.745220Z",
     "shell.execute_reply": "2023-11-16T17:25:31.743917Z"
    },
    "papermill": {
     "duration": 0.578436,
     "end_time": "2023-11-16T17:25:31.748602",
     "exception": false,
     "start_time": "2023-11-16T17:25:31.170166",
     "status": "completed"
    },
    "tags": []
   },
   "outputs": [],
   "source": [
    "import csv\n",
    "\n",
    "with open('submission.csv', 'w', newline='') as file:\n",
    "    writer = csv.writer(file)\n",
    "    field = [\"id\", \"generated\"]\n",
    "    \n",
    "    writer.writerow(field)\n",
    "    for index, row in test_dataset.iterrows():\n",
    "        writer.writerow([row[\"id\"], prompt(row[\"text\"]).item()])"
   ]
  },
  {
   "cell_type": "code",
   "execution_count": 31,
   "id": "78373f0e",
   "metadata": {
    "execution": {
     "iopub.execute_input": "2023-11-16T17:25:31.804607Z",
     "iopub.status.busy": "2023-11-16T17:25:31.804125Z",
     "iopub.status.idle": "2023-11-16T17:25:31.812403Z",
     "shell.execute_reply": "2023-11-16T17:25:31.811510Z"
    },
    "papermill": {
     "duration": 0.038209,
     "end_time": "2023-11-16T17:25:31.814852",
     "exception": false,
     "start_time": "2023-11-16T17:25:31.776643",
     "status": "completed"
    },
    "tags": []
   },
   "outputs": [],
   "source": [
    "answers = pd.read_csv(\"/kaggle/working/submission.csv\")"
   ]
  },
  {
   "cell_type": "code",
   "execution_count": 32,
   "id": "bc5af323",
   "metadata": {
    "execution": {
     "iopub.execute_input": "2023-11-16T17:25:31.870127Z",
     "iopub.status.busy": "2023-11-16T17:25:31.869306Z",
     "iopub.status.idle": "2023-11-16T17:25:31.877202Z",
     "shell.execute_reply": "2023-11-16T17:25:31.876164Z"
    },
    "papermill": {
     "duration": 0.038088,
     "end_time": "2023-11-16T17:25:31.879653",
     "exception": false,
     "start_time": "2023-11-16T17:25:31.841565",
     "status": "completed"
    },
    "tags": []
   },
   "outputs": [
    {
     "name": "stdout",
     "output_type": "stream",
     "text": [
      "id           0059830c\n",
      "generated    0.000004\n",
      "Name: 0, dtype: object\n"
     ]
    }
   ],
   "source": [
    "for index, row in answers.iterrows():\n",
    "    print(row)\n",
    "    break"
   ]
  }
 ],
 "metadata": {
  "kaggle": {
   "accelerator": "none",
   "dataSources": [
    {
     "databundleVersionId": 6888007,
     "sourceId": 61542,
     "sourceType": "competition"
    },
    {
     "datasetId": 4005256,
     "sourceId": 6977472,
     "sourceType": "datasetVersion"
    }
   ],
   "dockerImageVersionId": 30579,
   "isGpuEnabled": false,
   "isInternetEnabled": false,
   "language": "python",
   "sourceType": "notebook"
  },
  "kernelspec": {
   "display_name": "Python 3",
   "language": "python",
   "name": "python3"
  },
  "language_info": {
   "codemirror_mode": {
    "name": "ipython",
    "version": 3
   },
   "file_extension": ".py",
   "mimetype": "text/x-python",
   "name": "python",
   "nbconvert_exporter": "python",
   "pygments_lexer": "ipython3",
   "version": "3.10.12"
  },
  "papermill": {
   "default_parameters": {},
   "duration": 184.417187,
   "end_time": "2023-11-16T17:25:32.929207",
   "environment_variables": {},
   "exception": null,
   "input_path": "__notebook__.ipynb",
   "output_path": "__notebook__.ipynb",
   "parameters": {},
   "start_time": "2023-11-16T17:22:28.512020",
   "version": "2.4.0"
  }
 },
 "nbformat": 4,
 "nbformat_minor": 5
}
