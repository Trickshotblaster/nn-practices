{
 "cells": [
  {
   "cell_type": "code",
   "execution_count": 1,
   "id": "5dab5693",
   "metadata": {
    "_cell_guid": "b1076dfc-b9ad-4769-8c92-a6c4dae69d19",
    "_uuid": "8f2839f25d086af736a60e9eeb907d3b93b6e0e5",
    "execution": {
     "iopub.execute_input": "2023-11-14T23:20:20.211577Z",
     "iopub.status.busy": "2023-11-14T23:20:20.210876Z",
     "iopub.status.idle": "2023-11-14T23:20:20.544365Z",
     "shell.execute_reply": "2023-11-14T23:20:20.542238Z"
    },
    "papermill": {
     "duration": 0.346267,
     "end_time": "2023-11-14T23:20:20.548686",
     "exception": false,
     "start_time": "2023-11-14T23:20:20.202419",
     "status": "completed"
    },
    "tags": []
   },
   "outputs": [
    {
     "name": "stdout",
     "output_type": "stream",
     "text": [
      "/kaggle/input/llm-detect-ai-generated-text/sample_submission.csv\n",
      "/kaggle/input/llm-detect-ai-generated-text/train_prompts.csv\n",
      "/kaggle/input/llm-detect-ai-generated-text/test_essays.csv\n",
      "/kaggle/input/llm-detect-ai-generated-text/train_essays.csv\n"
     ]
    }
   ],
   "source": [
    "# This Python 3 environment comes with many helpful analytics libraries installed\n",
    "# It is defined by the kaggle/python Docker image: https://github.com/kaggle/docker-python\n",
    "# For example, here's several helpful packages to load\n",
    "\n",
    "import numpy as np # linear algebra\n",
    "import pandas as pd # data processing, CSV file I/O (e.g. pd.read_csv)\n",
    "\n",
    "# Input data files are available in the read-only \"../input/\" directory\n",
    "# For example, running this (by clicking run or pressing Shift+Enter) will list all files under the input directory\n",
    "\n",
    "import os\n",
    "for dirname, _, filenames in os.walk('/kaggle/input'):\n",
    "    for filename in filenames:\n",
    "        print(os.path.join(dirname, filename))\n",
    "\n",
    "# You can write up to 20GB to the current directory (/kaggle/working/) that gets preserved as output when you create a version using \"Save & Run All\" \n",
    "# You can also write temporary files to /kaggle/temp/, but they won't be saved outside of the current session"
   ]
  },
  {
   "cell_type": "code",
   "execution_count": 2,
   "id": "a2da2afd",
   "metadata": {
    "execution": {
     "iopub.execute_input": "2023-11-14T23:20:20.563808Z",
     "iopub.status.busy": "2023-11-14T23:20:20.563300Z",
     "iopub.status.idle": "2023-11-14T23:20:20.671340Z",
     "shell.execute_reply": "2023-11-14T23:20:20.669849Z"
    },
    "papermill": {
     "duration": 0.118317,
     "end_time": "2023-11-14T23:20:20.673804",
     "exception": false,
     "start_time": "2023-11-14T23:20:20.555487",
     "status": "completed"
    },
    "tags": []
   },
   "outputs": [],
   "source": [
    "dataset = pd.read_csv(\"/kaggle/input/llm-detect-ai-generated-text/train_essays.csv\")"
   ]
  },
  {
   "cell_type": "code",
   "execution_count": 3,
   "id": "8a3db1ab",
   "metadata": {
    "execution": {
     "iopub.execute_input": "2023-11-14T23:20:20.687513Z",
     "iopub.status.busy": "2023-11-14T23:20:20.687135Z",
     "iopub.status.idle": "2023-11-14T23:20:20.915376Z",
     "shell.execute_reply": "2023-11-14T23:20:20.914345Z"
    },
    "papermill": {
     "duration": 0.238187,
     "end_time": "2023-11-14T23:20:20.918013",
     "exception": false,
     "start_time": "2023-11-14T23:20:20.679826",
     "status": "completed"
    },
    "tags": []
   },
   "outputs": [],
   "source": [
    "stoi = {\"[PAD]\": 0,\n",
    "       \"[UNK]\": 1}\n",
    "itos = {0 : \"[PAD]\",\n",
    "       1 : \"[UNK]\"}\n",
    "total_text = set()\n",
    "for index, row in dataset.iterrows():\n",
    "    total_text.update(row[\"text\"].lower().split())\n",
    "stoi.update({char:i+2 for i, char in enumerate(sorted(total_text))})\n",
    "itos.update({i+2:char for i, char in enumerate(sorted(total_text))})"
   ]
  },
  {
   "cell_type": "code",
   "execution_count": 4,
   "id": "3cff4706",
   "metadata": {
    "execution": {
     "iopub.execute_input": "2023-11-14T23:20:20.931487Z",
     "iopub.status.busy": "2023-11-14T23:20:20.931085Z",
     "iopub.status.idle": "2023-11-14T23:20:20.939661Z",
     "shell.execute_reply": "2023-11-14T23:20:20.938131Z"
    },
    "papermill": {
     "duration": 0.017711,
     "end_time": "2023-11-14T23:20:20.941819",
     "exception": false,
     "start_time": "2023-11-14T23:20:20.924108",
     "status": "completed"
    },
    "tags": []
   },
   "outputs": [
    {
     "data": {
      "text/plain": [
       "'the'"
      ]
     },
     "execution_count": 4,
     "metadata": {},
     "output_type": "execute_result"
    }
   ],
   "source": [
    "itos[stoi['the']]"
   ]
  },
  {
   "cell_type": "code",
   "execution_count": 5,
   "id": "d608a5ab",
   "metadata": {
    "execution": {
     "iopub.execute_input": "2023-11-14T23:20:20.955213Z",
     "iopub.status.busy": "2023-11-14T23:20:20.954799Z",
     "iopub.status.idle": "2023-11-14T23:20:20.961339Z",
     "shell.execute_reply": "2023-11-14T23:20:20.960381Z"
    },
    "papermill": {
     "duration": 0.015601,
     "end_time": "2023-11-14T23:20:20.963312",
     "exception": false,
     "start_time": "2023-11-14T23:20:20.947711",
     "status": "completed"
    },
    "tags": []
   },
   "outputs": [
    {
     "data": {
      "text/plain": [
       "27098"
      ]
     },
     "execution_count": 5,
     "metadata": {},
     "output_type": "execute_result"
    }
   ],
   "source": [
    "vocab_size = len(stoi)\n",
    "vocab_size"
   ]
  },
  {
   "cell_type": "code",
   "execution_count": 6,
   "id": "cccb3066",
   "metadata": {
    "execution": {
     "iopub.execute_input": "2023-11-14T23:20:20.978095Z",
     "iopub.status.busy": "2023-11-14T23:20:20.976978Z",
     "iopub.status.idle": "2023-11-14T23:20:20.984658Z",
     "shell.execute_reply": "2023-11-14T23:20:20.983473Z"
    },
    "papermill": {
     "duration": 0.017569,
     "end_time": "2023-11-14T23:20:20.987044",
     "exception": false,
     "start_time": "2023-11-14T23:20:20.969475",
     "status": "completed"
    },
    "tags": []
   },
   "outputs": [
    {
     "data": {
      "text/plain": [
       "'[PAD]'"
      ]
     },
     "execution_count": 6,
     "metadata": {},
     "output_type": "execute_result"
    }
   ],
   "source": [
    "itos[0]"
   ]
  },
  {
   "cell_type": "code",
   "execution_count": 7,
   "id": "d6520815",
   "metadata": {
    "execution": {
     "iopub.execute_input": "2023-11-14T23:20:21.001782Z",
     "iopub.status.busy": "2023-11-14T23:20:21.001374Z",
     "iopub.status.idle": "2023-11-14T23:20:21.009792Z",
     "shell.execute_reply": "2023-11-14T23:20:21.008490Z"
    },
    "papermill": {
     "duration": 0.019137,
     "end_time": "2023-11-14T23:20:21.012737",
     "exception": false,
     "start_time": "2023-11-14T23:20:20.993600",
     "status": "completed"
    },
    "tags": []
   },
   "outputs": [],
   "source": [
    "class tokenizer:\n",
    "    def __init__(self, stoi, itos, max_len=100):\n",
    "        self.stoi = stoi\n",
    "        self.itos = itos\n",
    "        self.vocab_size = len(itos)\n",
    "        self.max_len = max_len\n",
    "    def encode(self, text):\n",
    "        out = []\n",
    "        text = text.lower().split()[:self.max_len]\n",
    "        for word in text:\n",
    "            if word in stoi:\n",
    "                out.append(stoi[word])\n",
    "            else:\n",
    "                out.append(1)\n",
    "        out = [0] * max(0, abs(len(out) - self.max_len)) + out\n",
    "        return out\n",
    "    def decode(self, ids):\n",
    "        out = \"\"\n",
    "        for token in ids:\n",
    "            if token in itos:\n",
    "                out += itos[token] + \" \"\n",
    "        return out"
   ]
  },
  {
   "cell_type": "code",
   "execution_count": 8,
   "id": "4659a635",
   "metadata": {
    "execution": {
     "iopub.execute_input": "2023-11-14T23:20:21.028122Z",
     "iopub.status.busy": "2023-11-14T23:20:21.027660Z",
     "iopub.status.idle": "2023-11-14T23:20:21.034036Z",
     "shell.execute_reply": "2023-11-14T23:20:21.032437Z"
    },
    "papermill": {
     "duration": 0.017398,
     "end_time": "2023-11-14T23:20:21.037019",
     "exception": false,
     "start_time": "2023-11-14T23:20:21.019621",
     "status": "completed"
    },
    "tags": []
   },
   "outputs": [],
   "source": [
    "tokenizer = tokenizer(stoi, itos)"
   ]
  },
  {
   "cell_type": "code",
   "execution_count": 9,
   "id": "e16ae97d",
   "metadata": {
    "execution": {
     "iopub.execute_input": "2023-11-14T23:20:21.051920Z",
     "iopub.status.busy": "2023-11-14T23:20:21.051540Z",
     "iopub.status.idle": "2023-11-14T23:20:21.059417Z",
     "shell.execute_reply": "2023-11-14T23:20:21.058523Z"
    },
    "papermill": {
     "duration": 0.017297,
     "end_time": "2023-11-14T23:20:21.061184",
     "exception": false,
     "start_time": "2023-11-14T23:20:21.043887",
     "status": "completed"
    },
    "tags": []
   },
   "outputs": [
    {
     "data": {
      "text/plain": [
       "[0,\n",
       " 0,\n",
       " 0,\n",
       " 0,\n",
       " 0,\n",
       " 0,\n",
       " 0,\n",
       " 0,\n",
       " 0,\n",
       " 0,\n",
       " 0,\n",
       " 0,\n",
       " 0,\n",
       " 0,\n",
       " 0,\n",
       " 0,\n",
       " 0,\n",
       " 0,\n",
       " 0,\n",
       " 0,\n",
       " 0,\n",
       " 0,\n",
       " 0,\n",
       " 0,\n",
       " 0,\n",
       " 0,\n",
       " 0,\n",
       " 0,\n",
       " 0,\n",
       " 0,\n",
       " 0,\n",
       " 0,\n",
       " 0,\n",
       " 0,\n",
       " 0,\n",
       " 0,\n",
       " 0,\n",
       " 0,\n",
       " 0,\n",
       " 0,\n",
       " 0,\n",
       " 0,\n",
       " 0,\n",
       " 0,\n",
       " 0,\n",
       " 0,\n",
       " 0,\n",
       " 0,\n",
       " 0,\n",
       " 0,\n",
       " 0,\n",
       " 0,\n",
       " 0,\n",
       " 0,\n",
       " 0,\n",
       " 0,\n",
       " 0,\n",
       " 0,\n",
       " 0,\n",
       " 0,\n",
       " 0,\n",
       " 0,\n",
       " 0,\n",
       " 0,\n",
       " 0,\n",
       " 0,\n",
       " 0,\n",
       " 0,\n",
       " 0,\n",
       " 0,\n",
       " 0,\n",
       " 0,\n",
       " 0,\n",
       " 0,\n",
       " 0,\n",
       " 0,\n",
       " 0,\n",
       " 0,\n",
       " 0,\n",
       " 0,\n",
       " 0,\n",
       " 0,\n",
       " 5101,\n",
       " 5078,\n",
       " 12037,\n",
       " 3689,\n",
       " 3022,\n",
       " 21877,\n",
       " 23950,\n",
       " 3649,\n",
       " 10404,\n",
       " 13049,\n",
       " 23783,\n",
       " 1057,\n",
       " 26411,\n",
       " 12229,\n",
       " 10942,\n",
       " 7047,\n",
       " 2623,\n",
       " 4481]"
      ]
     },
     "execution_count": 9,
     "metadata": {},
     "output_type": "execute_result"
    }
   ],
   "source": [
    "tokenizer.encode(\"Cars. Cars have been around since they became famous in the 1900s, when Henry Ford created and built\")"
   ]
  },
  {
   "cell_type": "code",
   "execution_count": 10,
   "id": "b5ab14a4",
   "metadata": {
    "execution": {
     "iopub.execute_input": "2023-11-14T23:20:21.075766Z",
     "iopub.status.busy": "2023-11-14T23:20:21.075377Z",
     "iopub.status.idle": "2023-11-14T23:20:21.081969Z",
     "shell.execute_reply": "2023-11-14T23:20:21.081089Z"
    },
    "papermill": {
     "duration": 0.016101,
     "end_time": "2023-11-14T23:20:21.083772",
     "exception": false,
     "start_time": "2023-11-14T23:20:21.067671",
     "status": "completed"
    },
    "tags": []
   },
   "outputs": [
    {
     "data": {
      "text/plain": [
       "'[PAD] [PAD] [PAD] [PAD] [PAD] [PAD] [PAD] [PAD] [PAD] [PAD] [PAD] [PAD] [PAD] [PAD] [PAD] [PAD] [PAD] [PAD] [PAD] [PAD] [PAD] [PAD] [PAD] [PAD] [PAD] [PAD] [PAD] [PAD] [PAD] [PAD] [PAD] [PAD] [PAD] [PAD] [PAD] [PAD] [PAD] [PAD] [PAD] [PAD] [PAD] [PAD] [PAD] [PAD] [PAD] [PAD] [PAD] [PAD] [PAD] [PAD] [PAD] [PAD] [PAD] [PAD] [PAD] [PAD] [PAD] [PAD] [PAD] [PAD] [PAD] [PAD] [PAD] [PAD] [PAD] [PAD] [PAD] [PAD] [PAD] [PAD] [PAD] [PAD] [PAD] [PAD] [PAD] [PAD] [PAD] [PAD] [PAD] [PAD] [PAD] [PAD] cars. cars have been around since they became famous in the 1900s, when henry ford created and built '"
      ]
     },
     "execution_count": 10,
     "metadata": {},
     "output_type": "execute_result"
    }
   ],
   "source": [
    "tokenizer.decode(tokenizer.encode(\"Cars. Cars have been around since they became famous in the 1900s, when Henry Ford created and built\"))"
   ]
  },
  {
   "cell_type": "code",
   "execution_count": 11,
   "id": "5eef0eb8",
   "metadata": {
    "execution": {
     "iopub.execute_input": "2023-11-14T23:20:21.098804Z",
     "iopub.status.busy": "2023-11-14T23:20:21.097937Z",
     "iopub.status.idle": "2023-11-14T23:20:25.180966Z",
     "shell.execute_reply": "2023-11-14T23:20:25.178749Z"
    },
    "papermill": {
     "duration": 4.093458,
     "end_time": "2023-11-14T23:20:25.183774",
     "exception": false,
     "start_time": "2023-11-14T23:20:21.090316",
     "status": "completed"
    },
    "tags": []
   },
   "outputs": [],
   "source": [
    "import torch"
   ]
  },
  {
   "cell_type": "code",
   "execution_count": 12,
   "id": "f3fe32cd",
   "metadata": {
    "execution": {
     "iopub.execute_input": "2023-11-14T23:20:25.200034Z",
     "iopub.status.busy": "2023-11-14T23:20:25.199448Z",
     "iopub.status.idle": "2023-11-14T23:20:25.432424Z",
     "shell.execute_reply": "2023-11-14T23:20:25.430859Z"
    },
    "papermill": {
     "duration": 0.244637,
     "end_time": "2023-11-14T23:20:25.435337",
     "exception": false,
     "start_time": "2023-11-14T23:20:25.190700",
     "status": "completed"
    },
    "tags": []
   },
   "outputs": [],
   "source": [
    "def build_dataset():\n",
    "    xs, ys = [], []\n",
    "    for index, row in dataset.iterrows():\n",
    "        xs.append(tokenizer.encode(row[\"text\"]))\n",
    "        ys.append(row[\"generated\"])\n",
    "    xs = torch.tensor(xs)\n",
    "    ys = torch.tensor(ys)\n",
    "    return xs, ys\n",
    "xs, ys = build_dataset()"
   ]
  },
  {
   "cell_type": "code",
   "execution_count": 13,
   "id": "9bbefe64",
   "metadata": {
    "execution": {
     "iopub.execute_input": "2023-11-14T23:20:25.451607Z",
     "iopub.status.busy": "2023-11-14T23:20:25.451139Z",
     "iopub.status.idle": "2023-11-14T23:20:25.477235Z",
     "shell.execute_reply": "2023-11-14T23:20:25.475918Z"
    },
    "papermill": {
     "duration": 0.036924,
     "end_time": "2023-11-14T23:20:25.479516",
     "exception": false,
     "start_time": "2023-11-14T23:20:25.442592",
     "status": "completed"
    },
    "tags": []
   },
   "outputs": [
    {
     "data": {
      "text/plain": [
       "'cars. cars have been around since they became famous in the 1900s, when henry ford created and built the first modelt. cars have played a major role in our every day lives since then. but now, people are starting to question if limiting car usage would be a good thing. to me, limiting the use of cars might be a good thing to do. in like matter of this, article, \"in german suburb, life goes on without cars,\" by elizabeth rosenthal states, how automobiles are the linchpin of suburbs, where middle class families from either shanghai or chicago tend to '"
      ]
     },
     "execution_count": 13,
     "metadata": {},
     "output_type": "execute_result"
    }
   ],
   "source": [
    "tokenizer.decode(xs[0].numpy())"
   ]
  },
  {
   "cell_type": "code",
   "execution_count": 14,
   "id": "2262444e",
   "metadata": {
    "execution": {
     "iopub.execute_input": "2023-11-14T23:20:25.494706Z",
     "iopub.status.busy": "2023-11-14T23:20:25.494259Z",
     "iopub.status.idle": "2023-11-14T23:20:25.518128Z",
     "shell.execute_reply": "2023-11-14T23:20:25.516141Z"
    },
    "papermill": {
     "duration": 0.034896,
     "end_time": "2023-11-14T23:20:25.521167",
     "exception": false,
     "start_time": "2023-11-14T23:20:25.486271",
     "status": "completed"
    },
    "tags": []
   },
   "outputs": [
    {
     "data": {
      "text/plain": [
       "tensor(0)"
      ]
     },
     "execution_count": 14,
     "metadata": {},
     "output_type": "execute_result"
    }
   ],
   "source": [
    "ys[0]"
   ]
  },
  {
   "cell_type": "code",
   "execution_count": 15,
   "id": "e40db249",
   "metadata": {
    "execution": {
     "iopub.execute_input": "2023-11-14T23:20:25.538947Z",
     "iopub.status.busy": "2023-11-14T23:20:25.538235Z",
     "iopub.status.idle": "2023-11-14T23:20:25.543249Z",
     "shell.execute_reply": "2023-11-14T23:20:25.541532Z"
    },
    "papermill": {
     "duration": 0.016836,
     "end_time": "2023-11-14T23:20:25.546319",
     "exception": false,
     "start_time": "2023-11-14T23:20:25.529483",
     "status": "completed"
    },
    "tags": []
   },
   "outputs": [],
   "source": [
    "emb_dim = 10\n",
    "context_len = 100"
   ]
  },
  {
   "cell_type": "code",
   "execution_count": 16,
   "id": "d2682d5f",
   "metadata": {
    "execution": {
     "iopub.execute_input": "2023-11-14T23:20:25.567653Z",
     "iopub.status.busy": "2023-11-14T23:20:25.566940Z",
     "iopub.status.idle": "2023-11-14T23:20:25.615239Z",
     "shell.execute_reply": "2023-11-14T23:20:25.613852Z"
    },
    "papermill": {
     "duration": 0.06226,
     "end_time": "2023-11-14T23:20:25.617833",
     "exception": false,
     "start_time": "2023-11-14T23:20:25.555573",
     "status": "completed"
    },
    "tags": []
   },
   "outputs": [],
   "source": [
    "# initialize parameters\n",
    "C = torch.randn(vocab_size, emb_dim) * 0.1\n",
    "w1 = torch.randn(context_len * emb_dim, 100) * 0.1\n",
    "b1 = torch.randn(100) * 0.01\n",
    "w2 = torch.randn(100, 2) * 0.1\n",
    "b2 = torch.randn(2) * 0.01\n",
    "\n",
    "params = [C, w1, b1, w2, b2]\n",
    "for p in params:\n",
    "    p.requires_grad = True"
   ]
  },
  {
   "cell_type": "code",
   "execution_count": 17,
   "id": "842a62a1",
   "metadata": {
    "execution": {
     "iopub.execute_input": "2023-11-14T23:20:25.635294Z",
     "iopub.status.busy": "2023-11-14T23:20:25.634633Z",
     "iopub.status.idle": "2023-11-14T23:20:25.639830Z",
     "shell.execute_reply": "2023-11-14T23:20:25.638569Z"
    },
    "papermill": {
     "duration": 0.017562,
     "end_time": "2023-11-14T23:20:25.642808",
     "exception": false,
     "start_time": "2023-11-14T23:20:25.625246",
     "status": "completed"
    },
    "tags": []
   },
   "outputs": [],
   "source": [
    "num_examples = len(xs)"
   ]
  },
  {
   "cell_type": "code",
   "execution_count": 18,
   "id": "6183db10",
   "metadata": {
    "execution": {
     "iopub.execute_input": "2023-11-14T23:20:25.659915Z",
     "iopub.status.busy": "2023-11-14T23:20:25.659488Z",
     "iopub.status.idle": "2023-11-14T23:20:25.664919Z",
     "shell.execute_reply": "2023-11-14T23:20:25.663469Z"
    },
    "papermill": {
     "duration": 0.016697,
     "end_time": "2023-11-14T23:20:25.667378",
     "exception": false,
     "start_time": "2023-11-14T23:20:25.650681",
     "status": "completed"
    },
    "tags": []
   },
   "outputs": [],
   "source": [
    "# training params\n",
    "num_epochs = 100000\n",
    "lr = 0.001\n",
    "batch_size = 32"
   ]
  },
  {
   "cell_type": "code",
   "execution_count": 19,
   "id": "049dd5dc",
   "metadata": {
    "execution": {
     "iopub.execute_input": "2023-11-14T23:20:25.684589Z",
     "iopub.status.busy": "2023-11-14T23:20:25.683393Z",
     "iopub.status.idle": "2023-11-14T23:20:25.691777Z",
     "shell.execute_reply": "2023-11-14T23:20:25.690637Z"
    },
    "papermill": {
     "duration": 0.019592,
     "end_time": "2023-11-14T23:20:25.694256",
     "exception": false,
     "start_time": "2023-11-14T23:20:25.674664",
     "status": "completed"
    },
    "tags": []
   },
   "outputs": [],
   "source": [
    "import torch.nn.functional as F"
   ]
  },
  {
   "cell_type": "code",
   "execution_count": 20,
   "id": "e0ad02f2",
   "metadata": {
    "execution": {
     "iopub.execute_input": "2023-11-14T23:20:25.713373Z",
     "iopub.status.busy": "2023-11-14T23:20:25.712207Z",
     "iopub.status.idle": "2023-11-14T23:22:31.479230Z",
     "shell.execute_reply": "2023-11-14T23:22:31.477580Z"
    },
    "papermill": {
     "duration": 125.78018,
     "end_time": "2023-11-14T23:22:31.482432",
     "exception": false,
     "start_time": "2023-11-14T23:20:25.702252",
     "status": "completed"
    },
    "tags": []
   },
   "outputs": [
    {
     "name": "stdout",
     "output_type": "stream",
     "text": [
      "Epoch: 0 , loss: 0.6834402084350586\n",
      "Epoch: 1000 , loss: 0.6344739198684692\n",
      "Epoch: 2000 , loss: 0.574284017086029\n",
      "Epoch: 3000 , loss: 0.5157482624053955\n",
      "Epoch: 4000 , loss: 0.4966508746147156\n",
      "Epoch: 5000 , loss: 0.4564148187637329\n",
      "Epoch: 6000 , loss: 0.41934099793434143\n",
      "Epoch: 7000 , loss: 0.39981362223625183\n",
      "Epoch: 8000 , loss: 0.38611936569213867\n",
      "Epoch: 9000 , loss: 0.37509405612945557\n",
      "Epoch: 10000 , loss: 0.36387571692466736\n",
      "Epoch: 11000 , loss: 0.35215264558792114\n",
      "Epoch: 12000 , loss: 0.34922531247138977\n",
      "Epoch: 13000 , loss: 0.34379836916923523\n",
      "Epoch: 14000 , loss: 0.3394901156425476\n",
      "Epoch: 15000 , loss: 0.3369530439376831\n",
      "Epoch: 16000 , loss: 0.33599817752838135\n",
      "Epoch: 17000 , loss: 0.33191531896591187\n",
      "Epoch: 18000 , loss: 0.32918819785118103\n",
      "Epoch: 19000 , loss: 0.33179453015327454\n",
      "Epoch: 20000 , loss: 0.32788747549057007\n",
      "Epoch: 21000 , loss: 0.32777413725852966\n",
      "Epoch: 22000 , loss: 0.32558953762054443\n",
      "Epoch: 23000 , loss: 0.32405173778533936\n",
      "Epoch: 24000 , loss: 0.351763516664505\n",
      "Epoch: 25000 , loss: 0.3243342936038971\n",
      "Epoch: 26000 , loss: 0.3224271237850189\n",
      "Epoch: 27000 , loss: 0.3224494755268097\n",
      "Epoch: 28000 , loss: 0.3209938704967499\n",
      "Epoch: 29000 , loss: 0.3221496045589447\n",
      "Epoch: 30000 , loss: 0.32006582617759705\n",
      "Epoch: 31000 , loss: 0.3203687071800232\n",
      "Epoch: 32000 , loss: 0.3197716772556305\n",
      "Epoch: 33000 , loss: 0.31968891620635986\n",
      "Epoch: 34000 , loss: 0.32005226612091064\n",
      "Epoch: 35000 , loss: 0.31855645775794983\n",
      "Epoch: 36000 , loss: 0.31936076283454895\n",
      "Epoch: 37000 , loss: 0.3494105339050293\n",
      "Epoch: 38000 , loss: 0.3186021149158478\n",
      "Epoch: 39000 , loss: 0.34886297583580017\n",
      "Epoch: 40000 , loss: 0.3187173008918762\n",
      "Epoch: 41000 , loss: 0.3178599774837494\n",
      "Epoch: 42000 , loss: 0.317318320274353\n",
      "Epoch: 43000 , loss: 0.3476625382900238\n",
      "Epoch: 44000 , loss: 0.3177088797092438\n",
      "Epoch: 45000 , loss: 0.34741663932800293\n",
      "Epoch: 46000 , loss: 0.3168843984603882\n",
      "Epoch: 47000 , loss: 0.3165895342826843\n",
      "Epoch: 48000 , loss: 0.3165226876735687\n",
      "Epoch: 49000 , loss: 0.3165479302406311\n",
      "Epoch: 50000 , loss: 0.31667718291282654\n",
      "Epoch: 51000 , loss: 0.3472890257835388\n",
      "Epoch: 52000 , loss: 0.3165140450000763\n",
      "Epoch: 53000 , loss: 0.31621304154396057\n",
      "Epoch: 54000 , loss: 0.31665125489234924\n",
      "Epoch: 55000 , loss: 0.31624969840049744\n",
      "Epoch: 56000 , loss: 0.3160483241081238\n",
      "Epoch: 57000 , loss: 0.31636515259742737\n",
      "Epoch: 58000 , loss: 0.31604674458503723\n",
      "Epoch: 59000 , loss: 0.3155673146247864\n",
      "Epoch: 60000 , loss: 0.3158071041107178\n",
      "Epoch: 61000 , loss: 0.3159402906894684\n",
      "Epoch: 62000 , loss: 0.3160252869129181\n",
      "Epoch: 63000 , loss: 0.3162896931171417\n",
      "Epoch: 64000 , loss: 0.3154323399066925\n",
      "Epoch: 65000 , loss: 0.31529220938682556\n",
      "Epoch: 66000 , loss: 0.3153286576271057\n",
      "Epoch: 67000 , loss: 0.3155389130115509\n",
      "Epoch: 68000 , loss: 0.31592613458633423\n",
      "Epoch: 69000 , loss: 0.31533706188201904\n",
      "Epoch: 70000 , loss: 0.3154517114162445\n",
      "Epoch: 71000 , loss: 0.3149785101413727\n",
      "Epoch: 72000 , loss: 0.3150961995124817\n",
      "Epoch: 73000 , loss: 0.315017431974411\n",
      "Epoch: 74000 , loss: 0.3151615262031555\n",
      "Epoch: 75000 , loss: 0.3151567876338959\n",
      "Epoch: 76000 , loss: 0.3150094151496887\n",
      "Epoch: 77000 , loss: 0.31483814120292664\n",
      "Epoch: 78000 , loss: 0.3156794011592865\n",
      "Epoch: 79000 , loss: 0.31525668501853943\n",
      "Epoch: 80000 , loss: 0.3154488205909729\n",
      "Epoch: 81000 , loss: 0.3147806227207184\n",
      "Epoch: 82000 , loss: 0.31489989161491394\n",
      "Epoch: 83000 , loss: 0.3150261640548706\n",
      "Epoch: 84000 , loss: 0.31474247574806213\n",
      "Epoch: 85000 , loss: 0.34580516815185547\n",
      "Epoch: 86000 , loss: 0.31467345356941223\n",
      "Epoch: 87000 , loss: 0.31505778431892395\n",
      "Epoch: 88000 , loss: 0.314537912607193\n",
      "Epoch: 89000 , loss: 0.31472188234329224\n",
      "Epoch: 90000 , loss: 0.3457525372505188\n",
      "Epoch: 91000 , loss: 0.3150910437107086\n",
      "Epoch: 92000 , loss: 0.3147757351398468\n",
      "Epoch: 93000 , loss: 0.31464049220085144\n",
      "Epoch: 94000 , loss: 0.345636785030365\n",
      "Epoch: 95000 , loss: 0.31446754932403564\n",
      "Epoch: 96000 , loss: 0.3146955370903015\n",
      "Epoch: 97000 , loss: 0.31453943252563477\n",
      "Epoch: 98000 , loss: 0.31449592113494873\n",
      "Epoch: 99000 , loss: 0.31440192461013794\n"
     ]
    }
   ],
   "source": [
    "for epoch in range(num_epochs):\n",
    "    selection = torch.randint(0, num_examples-1, (batch_size, ))\n",
    "    ins = xs[selection]\n",
    "    outs = ys[selection]\n",
    "    emb = C[ins].view(-1, emb_dim * context_len)\n",
    "    l1 = ((emb @ w1) + b1).tanh()\n",
    "    logits = ((l1 @ w2) + b2).sigmoid()\n",
    "    for p in params:\n",
    "        p.grad = None\n",
    "        \n",
    "    loss = F.cross_entropy(logits, outs)\n",
    "    if epoch % 1000 == 0:\n",
    "        print(\"Epoch:\", epoch, \", loss:\", loss.item())\n",
    "    loss.backward()\n",
    "    \n",
    "    for p in params:\n",
    "        p.data -= p.grad * lr\n",
    "    "
   ]
  },
  {
   "cell_type": "code",
   "execution_count": 21,
   "id": "533dd337",
   "metadata": {
    "execution": {
     "iopub.execute_input": "2023-11-14T23:22:31.511674Z",
     "iopub.status.busy": "2023-11-14T23:22:31.510235Z",
     "iopub.status.idle": "2023-11-14T23:22:31.528394Z",
     "shell.execute_reply": "2023-11-14T23:22:31.525940Z"
    },
    "papermill": {
     "duration": 0.035527,
     "end_time": "2023-11-14T23:22:31.531259",
     "exception": false,
     "start_time": "2023-11-14T23:22:31.495732",
     "status": "completed"
    },
    "tags": []
   },
   "outputs": [
    {
     "name": "stdout",
     "output_type": "stream",
     "text": [
      "dear mr.mrs. senator, in light of previous research i've done on the electoral college, i would like the opportunity to voice my opinion on how the voting system should work in this country. based off of the information acquired and with the best interest of the country at heart, i believe that the system should be changed to the election by popular vote for the president of the united states. first and foremost, when voters vote, they aren't really voting for their candidate, but a slate of electors, which in turn elect the president. don't you think that this method \n",
      "prediction: 0\n",
      "truth: 0\n"
     ]
    }
   ],
   "source": [
    "with torch.no_grad():\n",
    "    selection = torch.randint(0, num_examples-1, (1,))\n",
    "    ins = xs[selection]\n",
    "    outs = ys[selection]\n",
    "    emb = C[ins].view(-1, emb_dim * context_len)\n",
    "    l1 = ((emb @ w1) + b1).tanh()\n",
    "    logits = ((l1 @ w2) + b2).sigmoid()\n",
    "    print(tokenizer.decode(ins[0].numpy()))\n",
    "    print(\"prediction:\", torch.argmax(logits).item())\n",
    "    print(\"truth:\", outs[0].item())"
   ]
  },
  {
   "cell_type": "code",
   "execution_count": 22,
   "id": "0dea7641",
   "metadata": {
    "execution": {
     "iopub.execute_input": "2023-11-14T23:22:31.558687Z",
     "iopub.status.busy": "2023-11-14T23:22:31.558239Z",
     "iopub.status.idle": "2023-11-14T23:22:31.564934Z",
     "shell.execute_reply": "2023-11-14T23:22:31.563470Z"
    },
    "papermill": {
     "duration": 0.023395,
     "end_time": "2023-11-14T23:22:31.567595",
     "exception": false,
     "start_time": "2023-11-14T23:22:31.544200",
     "status": "completed"
    },
    "tags": []
   },
   "outputs": [],
   "source": [
    "def prompt(essay):\n",
    "    with torch.no_grad():\n",
    "        ins = torch.tensor(tokenizer.encode(essay))\n",
    "        emb = C[ins].view(-1, emb_dim * context_len)\n",
    "        l1 = ((emb @ w1) + b1).tanh()\n",
    "        logits = ((l1 @ w2) + b2).sigmoid()\n",
    "        return logits[0][1] / logits.sum()"
   ]
  },
  {
   "cell_type": "code",
   "execution_count": 23,
   "id": "fc2bec95",
   "metadata": {
    "execution": {
     "iopub.execute_input": "2023-11-14T23:22:31.595419Z",
     "iopub.status.busy": "2023-11-14T23:22:31.594957Z",
     "iopub.status.idle": "2023-11-14T23:22:31.618880Z",
     "shell.execute_reply": "2023-11-14T23:22:31.617357Z"
    },
    "papermill": {
     "duration": 0.04074,
     "end_time": "2023-11-14T23:22:31.621583",
     "exception": false,
     "start_time": "2023-11-14T23:22:31.580843",
     "status": "completed"
    },
    "tags": []
   },
   "outputs": [
    {
     "data": {
      "text/plain": [
       "tensor(0.0071)"
      ]
     },
     "execution_count": 23,
     "metadata": {},
     "output_type": "execute_result"
    }
   ],
   "source": [
    "prompt(\"no\")"
   ]
  },
  {
   "cell_type": "code",
   "execution_count": 24,
   "id": "5eef0c64",
   "metadata": {
    "execution": {
     "iopub.execute_input": "2023-11-14T23:22:31.723686Z",
     "iopub.status.busy": "2023-11-14T23:22:31.722117Z",
     "iopub.status.idle": "2023-11-14T23:22:31.731022Z",
     "shell.execute_reply": "2023-11-14T23:22:31.729665Z"
    },
    "papermill": {
     "duration": 0.02729,
     "end_time": "2023-11-14T23:22:31.733870",
     "exception": false,
     "start_time": "2023-11-14T23:22:31.706580",
     "status": "completed"
    },
    "tags": []
   },
   "outputs": [
    {
     "data": {
      "text/plain": [
       "'when electing the president of the united states, you must vote in favor of the president you want. however, instead of coming down to popular vote, the system uses the electrolar college to decide. the electoral vote works in that the people of a certain states votes for their candidate and the majority of people who vote for a certain president give their votes to a slate of voters. what this means is that the popular vote within a state wins the electoral votes of the electors who then vote for the president. many people dislike this system including myself. '"
      ]
     },
     "execution_count": 24,
     "metadata": {},
     "output_type": "execute_result"
    }
   ],
   "source": [
    "tokenizer.decode(xs[96].numpy())"
   ]
  },
  {
   "cell_type": "code",
   "execution_count": 25,
   "id": "5acef72a",
   "metadata": {
    "execution": {
     "iopub.execute_input": "2023-11-14T23:22:31.762202Z",
     "iopub.status.busy": "2023-11-14T23:22:31.761790Z",
     "iopub.status.idle": "2023-11-14T23:22:31.768763Z",
     "shell.execute_reply": "2023-11-14T23:22:31.767260Z"
    },
    "papermill": {
     "duration": 0.024304,
     "end_time": "2023-11-14T23:22:31.771352",
     "exception": false,
     "start_time": "2023-11-14T23:22:31.747048",
     "status": "completed"
    },
    "tags": []
   },
   "outputs": [
    {
     "data": {
      "text/plain": [
       "tensor(0)"
      ]
     },
     "execution_count": 25,
     "metadata": {},
     "output_type": "execute_result"
    }
   ],
   "source": [
    "ys[96]"
   ]
  },
  {
   "cell_type": "code",
   "execution_count": 26,
   "id": "040f53d0",
   "metadata": {
    "execution": {
     "iopub.execute_input": "2023-11-14T23:22:31.801211Z",
     "iopub.status.busy": "2023-11-14T23:22:31.800811Z",
     "iopub.status.idle": "2023-11-14T23:22:31.847249Z",
     "shell.execute_reply": "2023-11-14T23:22:31.845637Z"
    },
    "papermill": {
     "duration": 0.064837,
     "end_time": "2023-11-14T23:22:31.850246",
     "exception": false,
     "start_time": "2023-11-14T23:22:31.785409",
     "status": "completed"
    },
    "tags": []
   },
   "outputs": [],
   "source": [
    "test_dataset = pd.read_csv(\"/kaggle/input/llm-detect-ai-generated-text/train_essays.csv\")"
   ]
  },
  {
   "cell_type": "code",
   "execution_count": 27,
   "id": "e1c4fd35",
   "metadata": {
    "execution": {
     "iopub.execute_input": "2023-11-14T23:22:31.880503Z",
     "iopub.status.busy": "2023-11-14T23:22:31.880014Z",
     "iopub.status.idle": "2023-11-14T23:22:31.887201Z",
     "shell.execute_reply": "2023-11-14T23:22:31.885575Z"
    },
    "papermill": {
     "duration": 0.025964,
     "end_time": "2023-11-14T23:22:31.890317",
     "exception": false,
     "start_time": "2023-11-14T23:22:31.864353",
     "status": "completed"
    },
    "tags": []
   },
   "outputs": [],
   "source": [
    "import csv\n",
    "\n",
    "with open('submission.csv', 'w', newline='') as file:\n",
    "    writer = csv.writer(file)\n",
    "    field = [\"id\", \"generated\"]\n",
    "    \n",
    "    writer.writerow(field)\n",
    "    writer.writerow([\"Oladele Damilola\", \"40\", \"Nigeria\"])"
   ]
  }
 ],
 "metadata": {
  "kaggle": {
   "accelerator": "none",
   "dataSources": [
    {
     "databundleVersionId": 6888007,
     "sourceId": 61542,
     "sourceType": "competition"
    }
   ],
   "dockerImageVersionId": 30579,
   "isGpuEnabled": false,
   "isInternetEnabled": false,
   "language": "python",
   "sourceType": "notebook"
  },
  "kernelspec": {
   "display_name": "Python 3",
   "language": "python",
   "name": "python3"
  },
  "language_info": {
   "codemirror_mode": {
    "name": "ipython",
    "version": 3
   },
   "file_extension": ".py",
   "mimetype": "text/x-python",
   "name": "python",
   "nbconvert_exporter": "python",
   "pygments_lexer": "ipython3",
   "version": "3.10.12"
  },
  "papermill": {
   "default_parameters": {},
   "duration": 135.78465,
   "end_time": "2023-11-14T23:22:33.030395",
   "environment_variables": {},
   "exception": null,
   "input_path": "__notebook__.ipynb",
   "output_path": "__notebook__.ipynb",
   "parameters": {},
   "start_time": "2023-11-14T23:20:17.245745",
   "version": "2.4.0"
  }
 },
 "nbformat": 4,
 "nbformat_minor": 5
}
