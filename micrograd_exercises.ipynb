{
  "nbformat": 4,
  "nbformat_minor": 0,
  "metadata": {
    "colab": {
      "provenance": [],
      "include_colab_link": true
    },
    "kernelspec": {
      "name": "python3",
      "display_name": "Python 3"
    },
    "language_info": {
      "name": "python"
    }
  },
  "cells": [
    {
      "cell_type": "markdown",
      "metadata": {
        "id": "view-in-github",
        "colab_type": "text"
      },
      "source": [
        "<a href=\"https://colab.research.google.com/github/Trickshotblaster/nn-practices/blob/main/micrograd_exercises.ipynb\" target=\"_parent\"><img src=\"https://colab.research.google.com/assets/colab-badge.svg\" alt=\"Open In Colab\"/></a>"
      ]
    },
    {
      "cell_type": "markdown",
      "source": [
        "# micrograd exercises\n",
        "\n",
        "1. watch the [micrograd video](https://www.youtube.com/watch?v=VMj-3S1tku0) on YouTube\n",
        "2. come back and complete these exercises to level up :)"
      ],
      "metadata": {
        "id": "JnGHatCI51JP"
      }
    },
    {
      "cell_type": "markdown",
      "source": [
        "## section 1: derivatives"
      ],
      "metadata": {
        "id": "OFt6NKOz6iBZ"
      }
    },
    {
      "cell_type": "code",
      "source": [
        "# here is a mathematical expression that takes 3 inputs and produces one output\n",
        "from math import sin, cos\n",
        "\n",
        "def f(a, b, c):\n",
        "  return -a**3 + sin(3*b) - 1.0/c + b**2.5 - a**0.5\n",
        "\n",
        "print(f(2, 3, 4))"
      ],
      "metadata": {
        "id": "3Jx9fCXl5xHd",
        "outputId": "30d70632-567d-43f0-b59b-02ba68fc3328",
        "colab": {
          "base_uri": "https://localhost:8080/"
        }
      },
      "execution_count": 1,
      "outputs": [
        {
          "output_type": "stream",
          "name": "stdout",
          "text": [
            "6.336362190988558\n"
          ]
        }
      ]
    },
    {
      "cell_type": "code",
      "source": [
        "# write the function df that returns the analytical gradient of f\n",
        "# i.e. use your skills from calculus to take the derivative, then implement the formula\n",
        "# if you do not calculus then feel free to ask wolframalpha, e.g.:\n",
        "# https://www.wolframalpha.com/input?i=d%2Fda%28sin%283*a%29%29%29\n",
        "\n",
        "def gradf(a, b, c):\n",
        "\n",
        "  return [grada, gradb, gradc] # todo, return [df/da, df/db, df/dc]\n",
        "\n",
        "# expected answer is the list of\n",
        "ans = [-12.353553390593273, 10.25699027111255, 0.0625]\n",
        "yours = gradf(2, 3, 4)\n",
        "for dim in range(3):\n",
        "  ok = 'OK' if abs(yours[dim] - ans[dim]) < 1e-5 else 'WRONG!'\n",
        "  print(f\"{ok} for dim {dim}: expected {ans[dim]}, yours returns {yours[dim]}\")\n"
      ],
      "metadata": {
        "id": "qXaH59eL9zxf",
        "outputId": "ae920fd9-a4a5-417f-b614-8bad489c3710",
        "colab": {
          "base_uri": "https://localhost:8080/",
          "height": 364
        }
      },
      "execution_count": 2,
      "outputs": [
        {
          "output_type": "error",
          "ename": "NameError",
          "evalue": "ignored",
          "traceback": [
            "\u001b[0;31m---------------------------------------------------------------------------\u001b[0m",
            "\u001b[0;31mNameError\u001b[0m                                 Traceback (most recent call last)",
            "\u001b[0;32m<ipython-input-2-aa5b61b8f24b>\u001b[0m in \u001b[0;36m<cell line: 12>\u001b[0;34m()\u001b[0m\n\u001b[1;32m     10\u001b[0m \u001b[0;31m# expected answer is the list of\u001b[0m\u001b[0;34m\u001b[0m\u001b[0;34m\u001b[0m\u001b[0m\n\u001b[1;32m     11\u001b[0m \u001b[0mans\u001b[0m \u001b[0;34m=\u001b[0m \u001b[0;34m[\u001b[0m\u001b[0;34m-\u001b[0m\u001b[0;36m12.353553390593273\u001b[0m\u001b[0;34m,\u001b[0m \u001b[0;36m10.25699027111255\u001b[0m\u001b[0;34m,\u001b[0m \u001b[0;36m0.0625\u001b[0m\u001b[0;34m]\u001b[0m\u001b[0;34m\u001b[0m\u001b[0;34m\u001b[0m\u001b[0m\n\u001b[0;32m---> 12\u001b[0;31m \u001b[0myours\u001b[0m \u001b[0;34m=\u001b[0m \u001b[0mgradf\u001b[0m\u001b[0;34m(\u001b[0m\u001b[0;36m2\u001b[0m\u001b[0;34m,\u001b[0m \u001b[0;36m3\u001b[0m\u001b[0;34m,\u001b[0m \u001b[0;36m4\u001b[0m\u001b[0;34m)\u001b[0m\u001b[0;34m\u001b[0m\u001b[0;34m\u001b[0m\u001b[0m\n\u001b[0m\u001b[1;32m     13\u001b[0m \u001b[0;32mfor\u001b[0m \u001b[0mdim\u001b[0m \u001b[0;32min\u001b[0m \u001b[0mrange\u001b[0m\u001b[0;34m(\u001b[0m\u001b[0;36m3\u001b[0m\u001b[0;34m)\u001b[0m\u001b[0;34m:\u001b[0m\u001b[0;34m\u001b[0m\u001b[0;34m\u001b[0m\u001b[0m\n\u001b[1;32m     14\u001b[0m   \u001b[0mok\u001b[0m \u001b[0;34m=\u001b[0m \u001b[0;34m'OK'\u001b[0m \u001b[0;32mif\u001b[0m \u001b[0mabs\u001b[0m\u001b[0;34m(\u001b[0m\u001b[0myours\u001b[0m\u001b[0;34m[\u001b[0m\u001b[0mdim\u001b[0m\u001b[0;34m]\u001b[0m \u001b[0;34m-\u001b[0m \u001b[0mans\u001b[0m\u001b[0;34m[\u001b[0m\u001b[0mdim\u001b[0m\u001b[0;34m]\u001b[0m\u001b[0;34m)\u001b[0m \u001b[0;34m<\u001b[0m \u001b[0;36m1e-5\u001b[0m \u001b[0;32melse\u001b[0m \u001b[0;34m'WRONG!'\u001b[0m\u001b[0;34m\u001b[0m\u001b[0;34m\u001b[0m\u001b[0m\n",
            "\u001b[0;32m<ipython-input-2-aa5b61b8f24b>\u001b[0m in \u001b[0;36mgradf\u001b[0;34m(a, b, c)\u001b[0m\n\u001b[1;32m      6\u001b[0m \u001b[0;32mdef\u001b[0m \u001b[0mgradf\u001b[0m\u001b[0;34m(\u001b[0m\u001b[0ma\u001b[0m\u001b[0;34m,\u001b[0m \u001b[0mb\u001b[0m\u001b[0;34m,\u001b[0m \u001b[0mc\u001b[0m\u001b[0;34m)\u001b[0m\u001b[0;34m:\u001b[0m\u001b[0;34m\u001b[0m\u001b[0;34m\u001b[0m\u001b[0m\n\u001b[1;32m      7\u001b[0m \u001b[0;34m\u001b[0m\u001b[0m\n\u001b[0;32m----> 8\u001b[0;31m   \u001b[0;32mreturn\u001b[0m \u001b[0;34m[\u001b[0m\u001b[0mgrada\u001b[0m\u001b[0;34m,\u001b[0m \u001b[0mgradb\u001b[0m\u001b[0;34m,\u001b[0m \u001b[0mgradc\u001b[0m\u001b[0;34m]\u001b[0m \u001b[0;31m# todo, return [df/da, df/db, df/dc]\u001b[0m\u001b[0;34m\u001b[0m\u001b[0;34m\u001b[0m\u001b[0m\n\u001b[0m\u001b[1;32m      9\u001b[0m \u001b[0;34m\u001b[0m\u001b[0m\n\u001b[1;32m     10\u001b[0m \u001b[0;31m# expected answer is the list of\u001b[0m\u001b[0;34m\u001b[0m\u001b[0;34m\u001b[0m\u001b[0m\n",
            "\u001b[0;31mNameError\u001b[0m: name 'grada' is not defined"
          ]
        }
      ]
    },
    {
      "cell_type": "code",
      "source": [
        "# now estimate the gradient numerically without any calculus, using\n",
        "# the approximation we used in the video.\n",
        "# you should not call the function df from the last cell\n",
        "\n",
        "# -----------\n",
        "h = 0.00000001\n",
        "a = 2\n",
        "b = 3\n",
        "c = 4\n",
        "normal = f(a, b, c)\n",
        "grada = (f(a + h, b, c) - normal) / h\n",
        "gradb = (f(a, b + h, c) - normal) / h\n",
        "gradc = (f(a, b, c + h) - normal) / h\n",
        "numerical_grad = [grada, gradb, gradc] # TODO\n",
        "# -----------\n",
        "\n",
        "for dim in range(3):\n",
        "  ok = 'OK' if abs(numerical_grad[dim] - ans[dim]) < 1e-5 else 'WRONG!'\n",
        "  print(f\"{ok} for dim {dim}: expected {ans[dim]}, yours returns {numerical_grad[dim]}\")\n"
      ],
      "metadata": {
        "id": "_27n-KTA9Qla",
        "outputId": "4d7904c5-e156-41d5-e444-54ac6941c69f",
        "colab": {
          "base_uri": "https://localhost:8080/"
        }
      },
      "execution_count": 3,
      "outputs": [
        {
          "output_type": "stream",
          "name": "stdout",
          "text": [
            "OK for dim 0: expected -12.353553390593273, yours returns -12.353553380251014\n",
            "OK for dim 1: expected 10.25699027111255, yours returns 10.256990368162633\n",
            "OK for dim 2: expected 0.0625, yours returns 0.0624999607623522\n"
          ]
        }
      ]
    },
    {
      "cell_type": "code",
      "source": [
        "# there is an alternative formula that provides a much better numerical\n",
        "# approximation to the derivative of a function.\n",
        "# learn about it here: https://en.wikipedia.org/wiki/Symmetric_derivative\n",
        "# implement it. confirm that for the same step size h this version gives a\n",
        "# better approximation.\n",
        "\n",
        "# -----------\n",
        "h = 0.0000001\n",
        "syma = (f(a + h, b, c) - f(a - h, b, c)) / (2 * h)\n",
        "symb = (f(a, b + h, c) - f(a, b - h, c)) / (2 * h)\n",
        "symc = (f(a, b, c + h) - f(a, b, c - h)) / (2 * h)\n",
        "numerical_grad2 = [syma, symb, symc] # TODO\n",
        "# -----------\n",
        "\n",
        "for dim in range(3):\n",
        "  ok = 'OK' if abs(numerical_grad2[dim] - ans[dim]) < 1e-5 else 'WRONG!'\n",
        "  print(f\"{ok} for dim {dim}: expected {ans[dim]}, yours returns {numerical_grad2[dim]}\")\n"
      ],
      "metadata": {
        "id": "BUqsGb5o_h2P",
        "outputId": "4ade4d15-3cd9-47f8-f96d-7b4883083ff5",
        "colab": {
          "base_uri": "https://localhost:8080/"
        }
      },
      "execution_count": 4,
      "outputs": [
        {
          "output_type": "stream",
          "name": "stdout",
          "text": [
            "OK for dim 0: expected -12.353553390593273, yours returns -12.353553380251014\n",
            "OK for dim 1: expected 10.25699027111255, yours returns 10.256990252699438\n",
            "OK for dim 2: expected 0.0625, yours returns 0.06250000073038109\n"
          ]
        }
      ]
    },
    {
      "cell_type": "markdown",
      "source": [
        "## section 2: support for softmax"
      ],
      "metadata": {
        "id": "tklF9s_4AtlI"
      }
    },
    {
      "cell_type": "code",
      "source": [
        "import math"
      ],
      "metadata": {
        "id": "kdqvOA4A8sOS"
      },
      "execution_count": 5,
      "outputs": []
    },
    {
      "cell_type": "code",
      "source": [
        "# Value class starter code, with many functions taken out\n",
        "from math import exp, log\n",
        "\n",
        "class Value:\n",
        "\n",
        "  def __init__(self, data, _children=(), _op='', label=''):\n",
        "    self.data = data\n",
        "    self.grad = 0.0\n",
        "    self._backward = lambda: None\n",
        "    self._prev = set(_children)\n",
        "    self._op = _op\n",
        "    self.label = label\n",
        "\n",
        "  def __repr__(self):\n",
        "    return f\"Value(data={self.data})\"\n",
        "\n",
        "  def __add__(self, other): # exactly as in the video\n",
        "    other = other if isinstance(other, Value) else Value(other)\n",
        "    out = Value(self.data + other.data, (self, other), '+')\n",
        "\n",
        "    def _backward():\n",
        "      self.grad += 1.0 * out.grad\n",
        "      other.grad += 1.0 * out.grad\n",
        "    out._backward = _backward\n",
        "\n",
        "    return out\n",
        "\n",
        "  def __radd__(self, other):\n",
        "    return self + other\n",
        "\n",
        "  def exp(self):\n",
        "    out = Value(math.exp(self.data), (self, ), 'exp')\n",
        "    def _backward():\n",
        "      self.grad += out.data * out.grad # TODO\n",
        "    out._backward = _backward\n",
        "\n",
        "    return out\n",
        "\n",
        "  def __pow__(self, other):\n",
        "    out = Value(self.data ** other, (self, ), 'pow')\n",
        "    def _backward():\n",
        "      print(\"n\", other)\n",
        "      print(\"x\", self.data)\n",
        "      print(\"out grad\", out.grad)\n",
        "      print(out, out.grad, out._prev)\n",
        "      self.grad += (other * (self.data ** (other - 1))) * out.grad\n",
        "    out._backward = _backward\n",
        "    return out\n",
        "  def __truediv__(self, other):\n",
        "    return self * (other ** -1)\n",
        "\n",
        "  def __mul__(self, other):\n",
        "    other = other if isinstance(other, Value) else Value(other)\n",
        "    out = Value(self.data * other.data, (self, other), '*')\n",
        "    def _backward():\n",
        "      self.grad += other.data * out.grad\n",
        "      other.grad += self.data * out.grad\n",
        "      print(self.grad, other.grad, out.grad, other.data, self.data)\n",
        "    out._backward = _backward\n",
        "    return out\n",
        "\n",
        "  def __neg__(self):\n",
        "    return self * -1\n",
        "\n",
        "  def __sub__(self, other):\n",
        "    return self + -other\n",
        "\n",
        "  def log(self):\n",
        "    out = Value(math.log10(self.data), (self, ), 'log')\n",
        "    def _backward():\n",
        "      self.grad += (1 / (self.data * (math.log(10)))) * out.grad\n",
        "      print(\"log\", self.grad)\n",
        "    out._backward = _backward\n",
        "    return out\n",
        "  # ------\n",
        "  # re-implement all the other functions needed for the exercises below\n",
        "  # your code here\n",
        "  # TODO\n",
        "  # ------\n",
        "\n",
        "  def backward(self): # exactly as in video\n",
        "    topo = []\n",
        "    visited = set()\n",
        "    def build_topo(v):\n",
        "      if v not in visited:\n",
        "        visited.add(v)\n",
        "        for child in v._prev:\n",
        "          build_topo(child)\n",
        "        topo.append(v)\n",
        "    build_topo(self)\n",
        "\n",
        "    self.grad = 1.0\n",
        "    for node in reversed(topo):\n",
        "      node._backward()"
      ],
      "metadata": {
        "id": "nAPe_RVrCTeO"
      },
      "execution_count": 55,
      "outputs": []
    },
    {
      "cell_type": "code",
      "source": [
        "from graphviz import Digraph\n",
        "\n",
        "def trace(root):\n",
        "    nodes, edges = set(), set()\n",
        "    def build(v):\n",
        "      if v not in nodes:\n",
        "        nodes.add(v)\n",
        "        for child in v._prev:\n",
        "          edges.add((child, v))\n",
        "          build(child)\n",
        "    build(root)\n",
        "    return nodes, edges\n",
        "\n",
        "def draw_dot(root):\n",
        "  dot = Digraph(format='svg', graph_attr={'rankdir': 'LR'})\n",
        "\n",
        "  nodes, edges = trace(root)\n",
        "  for n in nodes:\n",
        "    uid = str(id(n))\n",
        "    dot.node(name = uid, label = \"{ %s | data %.4f | grad %.4f }\" % (n.label, n.data, n.grad), shape='record')\n",
        "    if n._op:\n",
        "      dot.node(name = uid + n._op, label = n._op)\n",
        "      dot.edge(uid + n._op, uid)\n",
        "\n",
        "  for n1, n2 in edges:\n",
        "    dot.edge(str(id(n1)), str(id(n2)) + n2._op)\n",
        "\n",
        "  return dot"
      ],
      "metadata": {
        "id": "5g--LvCFELLL"
      },
      "execution_count": 7,
      "outputs": []
    },
    {
      "cell_type": "code",
      "source": [
        "# without referencing our code/video __too__ much, make this cell work\n",
        "# you'll have to implement (in some cases re-implemented) a number of functions\n",
        "# of the Value object, similar to what we've seen in the video.\n",
        "# instead of the squared error loss this implements the negative log likelihood\n",
        "# loss, which is very often used in classification.\n",
        "\n",
        "# this is the softmax function\n",
        "# https://en.wikipedia.org/wiki/Softmax_function\n",
        "def softmax(logits):\n",
        "  counts = [logit.exp() for logit in logits]\n",
        "  print(counts)\n",
        "  denominator = sum(counts)\n",
        "  out = [c / denominator for c in counts]\n",
        "  return out\n",
        "\n",
        "# this is the negative log likelihood loss function, pervasive in classification\n",
        "logits = [Value(0.0), Value(3.0), Value(-2.0), Value(1.0)]\n",
        "probs = softmax(logits)\n",
        "loss = -probs[3].log() # dim 3 acts as the label for this input example\n",
        "loss.backward()\n",
        "print(loss.data)\n",
        "\n",
        "ans = [0.041772570515350445, 0.8390245074625319, 0.005653302662216329, -0.8864503806400986]\n",
        "for dim in range(4):\n",
        "  ok = 'OK' if abs(logits[dim].grad - ans[dim]) < 1e-5 else 'WRONG!'\n",
        "  print(f\"{ok} for dim {dim}: expected {ans[dim]}, yours returns {logits[dim].grad}\")\n"
      ],
      "metadata": {
        "id": "VgWvwVQNAvnI",
        "outputId": "daf500d3-7e06-4a03-817a-396f768a6414",
        "colab": {
          "base_uri": "https://localhost:8080/"
        }
      },
      "execution_count": 56,
      "outputs": [
        {
          "output_type": "stream",
          "name": "stdout",
          "text": [
            "[Value(data=1.0), Value(data=20.085536923187668), Value(data=0.1353352832366127), Value(data=2.718281828459045)]\n",
            "-1.0 -0.944814317280191 1.0 -1 -0.944814317280191\n",
            "log -3.824711032511114\n",
            "-0.15976801130640933 -10.396642498781793 -3.824711032511114 0.04177257051535045 2.718281828459045\n",
            "n -1\n",
            "x 23.939154034883327\n",
            "out grad -10.396642498781793\n",
            "Value(data=0.04177257051535045) -10.396642498781793 {Value(data=23.939154034883327)}\n",
            "0.944814317280191\n",
            "WRONG! for dim 0: expected 0.041772570515350445, yours returns 0.018141596869731172\n",
            "WRONG! for dim 1: expected 0.8390245074625319, yours returns 0.3643837137725713\n",
            "WRONG! for dim 2: expected 0.005653302662216329, yours returns 0.0024551981507295144\n",
            "WRONG! for dim 3: expected -0.8864503806400986, yours returns -0.38498050879303203\n"
          ]
        }
      ]
    },
    {
      "cell_type": "code",
      "source": [
        "draw_dot(loss)"
      ],
      "metadata": {
        "id": "5l4pV7zMESa1",
        "outputId": "e82890c5-af0c-4109-f49b-6ba486fc6551",
        "colab": {
          "base_uri": "https://localhost:8080/",
          "height": 248
        }
      },
      "execution_count": 57,
      "outputs": [
        {
          "output_type": "execute_result",
          "data": {
            "image/svg+xml": "<?xml version=\"1.0\" encoding=\"UTF-8\" standalone=\"no\"?>\n<!DOCTYPE svg PUBLIC \"-//W3C//DTD SVG 1.1//EN\"\n \"http://www.w3.org/Graphics/SVG/1.1/DTD/svg11.dtd\">\n<!-- Generated by graphviz version 2.43.0 (0)\n -->\n<!-- Title: %3 Pages: 1 -->\n<svg width=\"3014pt\" height=\"155pt\"\n viewBox=\"0.00 0.00 3014.00 155.00\" xmlns=\"http://www.w3.org/2000/svg\" xmlns:xlink=\"http://www.w3.org/1999/xlink\">\n<g id=\"graph0\" class=\"graph\" transform=\"scale(1 1) rotate(0) translate(4 151)\">\n<title>%3</title>\n<polygon fill=\"white\" stroke=\"transparent\" points=\"-4,4 -4,-151 3010,-151 3010,4 -4,4\"/>\n<!-- 137075934764608 -->\n<g id=\"node1\" class=\"node\">\n<title>137075934764608</title>\n<polygon fill=\"none\" stroke=\"black\" points=\"1876,-47.5 1876,-83.5 2069,-83.5 2069,-47.5 1876,-47.5\"/>\n<text text-anchor=\"middle\" x=\"1886\" y=\"-61.8\" font-family=\"Times,serif\" font-size=\"14.00\"> </text>\n<polyline fill=\"none\" stroke=\"black\" points=\"1896,-47.5 1896,-83.5 \"/>\n<text text-anchor=\"middle\" x=\"1936\" y=\"-61.8\" font-family=\"Times,serif\" font-size=\"14.00\">data 0.0418</text>\n<polyline fill=\"none\" stroke=\"black\" points=\"1976,-47.5 1976,-83.5 \"/>\n<text text-anchor=\"middle\" x=\"2022.5\" y=\"-61.8\" font-family=\"Times,serif\" font-size=\"14.00\">grad &#45;10.3966</text>\n</g>\n<!-- 137075934763408* -->\n<g id=\"node28\" class=\"node\">\n<title>137075934763408*</title>\n<ellipse fill=\"none\" stroke=\"black\" cx=\"2132\" cy=\"-41.5\" rx=\"27\" ry=\"18\"/>\n<text text-anchor=\"middle\" x=\"2132\" y=\"-37.8\" font-family=\"Times,serif\" font-size=\"14.00\">*</text>\n</g>\n<!-- 137075934764608&#45;&gt;137075934763408* -->\n<g id=\"edge19\" class=\"edge\">\n<title>137075934764608&#45;&gt;137075934763408*</title>\n<path fill=\"none\" stroke=\"black\" d=\"M2069.2,-50.92C2078.43,-49.51 2087.33,-48.15 2095.37,-46.93\"/>\n<polygon fill=\"black\" stroke=\"black\" points=\"2096.03,-50.37 2105.38,-45.4 2094.97,-43.45 2096.03,-50.37\"/>\n</g>\n<!-- 137075934764608pow -->\n<g id=\"node2\" class=\"node\">\n<title>137075934764608pow</title>\n<ellipse fill=\"none\" stroke=\"black\" cx=\"1813\" cy=\"-65.5\" rx=\"27\" ry=\"18\"/>\n<text text-anchor=\"middle\" x=\"1813\" y=\"-61.8\" font-family=\"Times,serif\" font-size=\"14.00\">pow</text>\n</g>\n<!-- 137075934764608pow&#45;&gt;137075934764608 -->\n<g id=\"edge1\" class=\"edge\">\n<title>137075934764608pow&#45;&gt;137075934764608</title>\n<path fill=\"none\" stroke=\"black\" d=\"M1840.01,-65.5C1847.52,-65.5 1856.21,-65.5 1865.47,-65.5\"/>\n<polygon fill=\"black\" stroke=\"black\" points=\"1865.72,-69 1875.72,-65.5 1865.72,-62 1865.72,-69\"/>\n</g>\n<!-- 137075934766672 -->\n<g id=\"node3\" class=\"node\">\n<title>137075934766672</title>\n<polygon fill=\"none\" stroke=\"black\" points=\"934.5,-110.5 934.5,-146.5 1116.5,-146.5 1116.5,-110.5 934.5,-110.5\"/>\n<text text-anchor=\"middle\" x=\"944.5\" y=\"-124.8\" font-family=\"Times,serif\" font-size=\"14.00\"> </text>\n<polyline fill=\"none\" stroke=\"black\" points=\"954.5,-110.5 954.5,-146.5 \"/>\n<text text-anchor=\"middle\" x=\"994.5\" y=\"-124.8\" font-family=\"Times,serif\" font-size=\"14.00\">data 0.1353</text>\n<polyline fill=\"none\" stroke=\"black\" points=\"1034.5,-110.5 1034.5,-146.5 \"/>\n<text text-anchor=\"middle\" x=\"1075.5\" y=\"-124.8\" font-family=\"Times,serif\" font-size=\"14.00\">grad 0.0181</text>\n</g>\n<!-- 137075934770368+ -->\n<g id=\"node13\" class=\"node\">\n<title>137075934770368+</title>\n<ellipse fill=\"none\" stroke=\"black\" cx=\"1183\" cy=\"-73.5\" rx=\"27\" ry=\"18\"/>\n<text text-anchor=\"middle\" x=\"1183\" y=\"-69.8\" font-family=\"Times,serif\" font-size=\"14.00\">+</text>\n</g>\n<!-- 137075934766672&#45;&gt;137075934770368+ -->\n<g id=\"edge29\" class=\"edge\">\n<title>137075934766672&#45;&gt;137075934770368+</title>\n<path fill=\"none\" stroke=\"black\" d=\"M1090.46,-110.46C1100.41,-107.33 1110.53,-103.97 1120,-100.5 1130.25,-96.75 1141.24,-92.16 1151.07,-87.84\"/>\n<polygon fill=\"black\" stroke=\"black\" points=\"1152.75,-90.92 1160.45,-83.64 1149.89,-84.53 1152.75,-90.92\"/>\n</g>\n<!-- 137075934766672exp -->\n<g id=\"node4\" class=\"node\">\n<title>137075934766672exp</title>\n<ellipse fill=\"none\" stroke=\"black\" cx=\"868\" cy=\"-128.5\" rx=\"27\" ry=\"18\"/>\n<text text-anchor=\"middle\" x=\"868\" y=\"-124.8\" font-family=\"Times,serif\" font-size=\"14.00\">exp</text>\n</g>\n<!-- 137075934766672exp&#45;&gt;137075934766672 -->\n<g id=\"edge2\" class=\"edge\">\n<title>137075934766672exp&#45;&gt;137075934766672</title>\n<path fill=\"none\" stroke=\"black\" d=\"M895.03,-128.5C903.48,-128.5 913.42,-128.5 923.98,-128.5\"/>\n<polygon fill=\"black\" stroke=\"black\" points=\"924.27,-132 934.27,-128.5 924.27,-125 924.27,-132\"/>\n</g>\n<!-- 137075934772816 -->\n<g id=\"node5\" class=\"node\">\n<title>137075934772816</title>\n<polygon fill=\"none\" stroke=\"black\" points=\"2507,-78.5 2507,-114.5 2698,-114.5 2698,-78.5 2507,-78.5\"/>\n<text text-anchor=\"middle\" x=\"2517\" y=\"-92.8\" font-family=\"Times,serif\" font-size=\"14.00\"> </text>\n<polyline fill=\"none\" stroke=\"black\" points=\"2527,-78.5 2527,-114.5 \"/>\n<text text-anchor=\"middle\" x=\"2569.5\" y=\"-92.8\" font-family=\"Times,serif\" font-size=\"14.00\">data &#45;1.0000</text>\n<polyline fill=\"none\" stroke=\"black\" points=\"2612,-78.5 2612,-114.5 \"/>\n<text text-anchor=\"middle\" x=\"2655\" y=\"-92.8\" font-family=\"Times,serif\" font-size=\"14.00\">grad &#45;0.9448</text>\n</g>\n<!-- 137075934766960* -->\n<g id=\"node24\" class=\"node\">\n<title>137075934766960*</title>\n<ellipse fill=\"none\" stroke=\"black\" cx=\"2761\" cy=\"-68.5\" rx=\"27\" ry=\"18\"/>\n<text text-anchor=\"middle\" x=\"2761\" y=\"-64.8\" font-family=\"Times,serif\" font-size=\"14.00\">*</text>\n</g>\n<!-- 137075934772816&#45;&gt;137075934766960* -->\n<g id=\"edge18\" class=\"edge\">\n<title>137075934772816&#45;&gt;137075934766960*</title>\n<path fill=\"none\" stroke=\"black\" d=\"M2698.15,-79.57C2707.46,-77.9 2716.44,-76.29 2724.54,-74.84\"/>\n<polygon fill=\"black\" stroke=\"black\" points=\"2725.41,-78.24 2734.64,-73.04 2724.18,-71.35 2725.41,-78.24\"/>\n</g>\n<!-- 137075934767248 -->\n<g id=\"node6\" class=\"node\">\n<title>137075934767248</title>\n<polygon fill=\"none\" stroke=\"black\" points=\"1247.5,-0.5 1247.5,-36.5 1433.5,-36.5 1433.5,-0.5 1247.5,-0.5\"/>\n<text text-anchor=\"middle\" x=\"1257.5\" y=\"-14.8\" font-family=\"Times,serif\" font-size=\"14.00\"> </text>\n<polyline fill=\"none\" stroke=\"black\" points=\"1267.5,-0.5 1267.5,-36.5 \"/>\n<text text-anchor=\"middle\" x=\"1307.5\" y=\"-14.8\" font-family=\"Times,serif\" font-size=\"14.00\">data 2.7183</text>\n<polyline fill=\"none\" stroke=\"black\" points=\"1347.5,-0.5 1347.5,-36.5 \"/>\n<text text-anchor=\"middle\" x=\"1390.5\" y=\"-14.8\" font-family=\"Times,serif\" font-size=\"14.00\">grad &#45;0.1416</text>\n</g>\n<!-- 137075934771472+ -->\n<g id=\"node15\" class=\"node\">\n<title>137075934771472+</title>\n<ellipse fill=\"none\" stroke=\"black\" cx=\"1498\" cy=\"-65.5\" rx=\"27\" ry=\"18\"/>\n<text text-anchor=\"middle\" x=\"1498\" y=\"-61.8\" font-family=\"Times,serif\" font-size=\"14.00\">+</text>\n</g>\n<!-- 137075934767248&#45;&gt;137075934771472+ -->\n<g id=\"edge25\" class=\"edge\">\n<title>137075934767248&#45;&gt;137075934771472+</title>\n<path fill=\"none\" stroke=\"black\" d=\"M1404.95,-36.54C1415.02,-39.48 1425.31,-42.54 1435,-45.5 1444.37,-48.36 1454.5,-51.58 1463.81,-54.58\"/>\n<polygon fill=\"black\" stroke=\"black\" points=\"1462.91,-57.97 1473.5,-57.73 1465.07,-51.31 1462.91,-57.97\"/>\n</g>\n<!-- 137075934767248&#45;&gt;137075934763408* -->\n<g id=\"edge23\" class=\"edge\">\n<title>137075934767248&#45;&gt;137075934763408*</title>\n<path fill=\"none\" stroke=\"black\" d=\"M1433.6,-18.5C1495.96,-18.5 1580.19,-18.5 1654.5,-18.5 1654.5,-18.5 1654.5,-18.5 1814,-18.5 1916.07,-18.5 2036.15,-30.51 2094.92,-37.17\"/>\n<polygon fill=\"black\" stroke=\"black\" points=\"2094.82,-40.68 2105.16,-38.35 2095.62,-33.73 2094.82,-40.68\"/>\n</g>\n<!-- 137075934767248exp -->\n<g id=\"node7\" class=\"node\">\n<title>137075934767248exp</title>\n<ellipse fill=\"none\" stroke=\"black\" cx=\"1183\" cy=\"-18.5\" rx=\"27\" ry=\"18\"/>\n<text text-anchor=\"middle\" x=\"1183\" y=\"-14.8\" font-family=\"Times,serif\" font-size=\"14.00\">exp</text>\n</g>\n<!-- 137075934767248exp&#45;&gt;137075934767248 -->\n<g id=\"edge3\" class=\"edge\">\n<title>137075934767248exp&#45;&gt;137075934767248</title>\n<path fill=\"none\" stroke=\"black\" d=\"M1210.03,-18.5C1218,-18.5 1227.31,-18.5 1237.2,-18.5\"/>\n<polygon fill=\"black\" stroke=\"black\" points=\"1237.27,-22 1247.27,-18.5 1237.27,-15 1237.27,-22\"/>\n</g>\n<!-- 137075934769312 -->\n<g id=\"node8\" class=\"node\">\n<title>137075934769312</title>\n<polygon fill=\"none\" stroke=\"black\" points=\"619.5,-55.5 619.5,-91.5 801.5,-91.5 801.5,-55.5 619.5,-55.5\"/>\n<text text-anchor=\"middle\" x=\"629.5\" y=\"-69.8\" font-family=\"Times,serif\" font-size=\"14.00\"> </text>\n<polyline fill=\"none\" stroke=\"black\" points=\"639.5,-55.5 639.5,-91.5 \"/>\n<text text-anchor=\"middle\" x=\"679.5\" y=\"-69.8\" font-family=\"Times,serif\" font-size=\"14.00\">data 1.0000</text>\n<polyline fill=\"none\" stroke=\"black\" points=\"719.5,-55.5 719.5,-91.5 \"/>\n<text text-anchor=\"middle\" x=\"760.5\" y=\"-69.8\" font-family=\"Times,serif\" font-size=\"14.00\">grad 0.0181</text>\n</g>\n<!-- 137075934764896+ -->\n<g id=\"node22\" class=\"node\">\n<title>137075934764896+</title>\n<ellipse fill=\"none\" stroke=\"black\" cx=\"868\" cy=\"-73.5\" rx=\"27\" ry=\"18\"/>\n<text text-anchor=\"middle\" x=\"868\" y=\"-69.8\" font-family=\"Times,serif\" font-size=\"14.00\">+</text>\n</g>\n<!-- 137075934769312&#45;&gt;137075934764896+ -->\n<g id=\"edge27\" class=\"edge\">\n<title>137075934769312&#45;&gt;137075934764896+</title>\n<path fill=\"none\" stroke=\"black\" d=\"M801.5,-73.5C811.84,-73.5 821.87,-73.5 830.85,-73.5\"/>\n<polygon fill=\"black\" stroke=\"black\" points=\"830.87,-77 840.87,-73.5 830.87,-70 830.87,-77\"/>\n</g>\n<!-- 137075934769312+ -->\n<g id=\"node9\" class=\"node\">\n<title>137075934769312+</title>\n<ellipse fill=\"none\" stroke=\"black\" cx=\"553\" cy=\"-73.5\" rx=\"27\" ry=\"18\"/>\n<text text-anchor=\"middle\" x=\"553\" y=\"-69.8\" font-family=\"Times,serif\" font-size=\"14.00\">+</text>\n</g>\n<!-- 137075934769312+&#45;&gt;137075934769312 -->\n<g id=\"edge4\" class=\"edge\">\n<title>137075934769312+&#45;&gt;137075934769312</title>\n<path fill=\"none\" stroke=\"black\" d=\"M580.03,-73.5C588.48,-73.5 598.42,-73.5 608.98,-73.5\"/>\n<polygon fill=\"black\" stroke=\"black\" points=\"609.27,-77 619.27,-73.5 609.27,-70 609.27,-77\"/>\n</g>\n<!-- 137075934768496 -->\n<g id=\"node10\" class=\"node\">\n<title>137075934768496</title>\n<polygon fill=\"none\" stroke=\"black\" points=\"616,-0.5 616,-36.5 805,-36.5 805,-0.5 616,-0.5\"/>\n<text text-anchor=\"middle\" x=\"626\" y=\"-14.8\" font-family=\"Times,serif\" font-size=\"14.00\"> </text>\n<polyline fill=\"none\" stroke=\"black\" points=\"636,-0.5 636,-36.5 \"/>\n<text text-anchor=\"middle\" x=\"679.5\" y=\"-14.8\" font-family=\"Times,serif\" font-size=\"14.00\">data 20.0855</text>\n<polyline fill=\"none\" stroke=\"black\" points=\"723,-0.5 723,-36.5 \"/>\n<text text-anchor=\"middle\" x=\"764\" y=\"-14.8\" font-family=\"Times,serif\" font-size=\"14.00\">grad 0.0181</text>\n</g>\n<!-- 137075934768496&#45;&gt;137075934764896+ -->\n<g id=\"edge17\" class=\"edge\">\n<title>137075934768496&#45;&gt;137075934764896+</title>\n<path fill=\"none\" stroke=\"black\" d=\"M778.28,-36.52C787.33,-39.33 796.44,-42.35 805,-45.5 815.5,-49.36 826.72,-54.2 836.69,-58.76\"/>\n<polygon fill=\"black\" stroke=\"black\" points=\"835.25,-61.96 845.79,-63.01 838.21,-55.61 835.25,-61.96\"/>\n</g>\n<!-- 137075934768496exp -->\n<g id=\"node11\" class=\"node\">\n<title>137075934768496exp</title>\n<ellipse fill=\"none\" stroke=\"black\" cx=\"553\" cy=\"-18.5\" rx=\"27\" ry=\"18\"/>\n<text text-anchor=\"middle\" x=\"553\" y=\"-14.8\" font-family=\"Times,serif\" font-size=\"14.00\">exp</text>\n</g>\n<!-- 137075934768496exp&#45;&gt;137075934768496 -->\n<g id=\"edge5\" class=\"edge\">\n<title>137075934768496exp&#45;&gt;137075934768496</title>\n<path fill=\"none\" stroke=\"black\" d=\"M580.03,-18.5C587.66,-18.5 596.52,-18.5 605.94,-18.5\"/>\n<polygon fill=\"black\" stroke=\"black\" points=\"605.94,-22 615.94,-18.5 605.94,-15 605.94,-22\"/>\n</g>\n<!-- 137075934770368 -->\n<g id=\"node12\" class=\"node\">\n<title>137075934770368</title>\n<polygon fill=\"none\" stroke=\"black\" points=\"1246,-55.5 1246,-91.5 1435,-91.5 1435,-55.5 1246,-55.5\"/>\n<text text-anchor=\"middle\" x=\"1256\" y=\"-69.8\" font-family=\"Times,serif\" font-size=\"14.00\"> </text>\n<polyline fill=\"none\" stroke=\"black\" points=\"1266,-55.5 1266,-91.5 \"/>\n<text text-anchor=\"middle\" x=\"1309.5\" y=\"-69.8\" font-family=\"Times,serif\" font-size=\"14.00\">data 21.2209</text>\n<polyline fill=\"none\" stroke=\"black\" points=\"1353,-55.5 1353,-91.5 \"/>\n<text text-anchor=\"middle\" x=\"1394\" y=\"-69.8\" font-family=\"Times,serif\" font-size=\"14.00\">grad 0.0181</text>\n</g>\n<!-- 137075934770368&#45;&gt;137075934771472+ -->\n<g id=\"edge21\" class=\"edge\">\n<title>137075934770368&#45;&gt;137075934771472+</title>\n<path fill=\"none\" stroke=\"black\" d=\"M1435.1,-68.68C1444.12,-68.22 1452.84,-67.77 1460.75,-67.36\"/>\n<polygon fill=\"black\" stroke=\"black\" points=\"1461.19,-70.85 1470.99,-66.84 1460.83,-63.86 1461.19,-70.85\"/>\n</g>\n<!-- 137075934770368+&#45;&gt;137075934770368 -->\n<g id=\"edge6\" class=\"edge\">\n<title>137075934770368+&#45;&gt;137075934770368</title>\n<path fill=\"none\" stroke=\"black\" d=\"M1210.03,-73.5C1217.66,-73.5 1226.52,-73.5 1235.94,-73.5\"/>\n<polygon fill=\"black\" stroke=\"black\" points=\"1235.94,-77 1245.94,-73.5 1235.94,-70 1235.94,-77\"/>\n</g>\n<!-- 137075934771472 -->\n<g id=\"node14\" class=\"node\">\n<title>137075934771472</title>\n<polygon fill=\"none\" stroke=\"black\" points=\"1561,-47.5 1561,-83.5 1750,-83.5 1750,-47.5 1561,-47.5\"/>\n<text text-anchor=\"middle\" x=\"1571\" y=\"-61.8\" font-family=\"Times,serif\" font-size=\"14.00\"> </text>\n<polyline fill=\"none\" stroke=\"black\" points=\"1581,-47.5 1581,-83.5 \"/>\n<text text-anchor=\"middle\" x=\"1624.5\" y=\"-61.8\" font-family=\"Times,serif\" font-size=\"14.00\">data 23.9392</text>\n<polyline fill=\"none\" stroke=\"black\" points=\"1668,-47.5 1668,-83.5 \"/>\n<text text-anchor=\"middle\" x=\"1709\" y=\"-61.8\" font-family=\"Times,serif\" font-size=\"14.00\">grad 0.0181</text>\n</g>\n<!-- 137075934771472&#45;&gt;137075934764608pow -->\n<g id=\"edge16\" class=\"edge\">\n<title>137075934771472&#45;&gt;137075934764608pow</title>\n<path fill=\"none\" stroke=\"black\" d=\"M1750.1,-65.5C1759.12,-65.5 1767.84,-65.5 1775.75,-65.5\"/>\n<polygon fill=\"black\" stroke=\"black\" points=\"1775.99,-69 1785.99,-65.5 1775.99,-62 1775.99,-69\"/>\n</g>\n<!-- 137075934771472+&#45;&gt;137075934771472 -->\n<g id=\"edge7\" class=\"edge\">\n<title>137075934771472+&#45;&gt;137075934771472</title>\n<path fill=\"none\" stroke=\"black\" d=\"M1525.03,-65.5C1532.66,-65.5 1541.52,-65.5 1550.94,-65.5\"/>\n<polygon fill=\"black\" stroke=\"black\" points=\"1550.94,-69 1560.94,-65.5 1550.94,-62 1550.94,-69\"/>\n</g>\n<!-- 137075934769936 -->\n<g id=\"node16\" class=\"node\">\n<title>137075934769936</title>\n<polygon fill=\"none\" stroke=\"black\" points=\"308,-110.5 308,-146.5 490,-146.5 490,-110.5 308,-110.5\"/>\n<text text-anchor=\"middle\" x=\"318\" y=\"-124.8\" font-family=\"Times,serif\" font-size=\"14.00\"> </text>\n<polyline fill=\"none\" stroke=\"black\" points=\"328,-110.5 328,-146.5 \"/>\n<text text-anchor=\"middle\" x=\"368\" y=\"-124.8\" font-family=\"Times,serif\" font-size=\"14.00\">data 1.0000</text>\n<polyline fill=\"none\" stroke=\"black\" points=\"408,-110.5 408,-146.5 \"/>\n<text text-anchor=\"middle\" x=\"449\" y=\"-124.8\" font-family=\"Times,serif\" font-size=\"14.00\">grad 0.0181</text>\n</g>\n<!-- 137075934769936&#45;&gt;137075934769312+ -->\n<g id=\"edge22\" class=\"edge\">\n<title>137075934769936&#45;&gt;137075934769312+</title>\n<path fill=\"none\" stroke=\"black\" d=\"M461.3,-110.41C470.97,-107.28 480.8,-103.92 490,-100.5 500.23,-96.69 511.21,-92.09 521.05,-87.77\"/>\n<polygon fill=\"black\" stroke=\"black\" points=\"522.72,-90.85 530.43,-83.58 519.87,-84.46 522.72,-90.85\"/>\n</g>\n<!-- 137075934769936exp -->\n<g id=\"node17\" class=\"node\">\n<title>137075934769936exp</title>\n<ellipse fill=\"none\" stroke=\"black\" cx=\"245\" cy=\"-128.5\" rx=\"27\" ry=\"18\"/>\n<text text-anchor=\"middle\" x=\"245\" y=\"-124.8\" font-family=\"Times,serif\" font-size=\"14.00\">exp</text>\n</g>\n<!-- 137075934769936exp&#45;&gt;137075934769936 -->\n<g id=\"edge8\" class=\"edge\">\n<title>137075934769936exp&#45;&gt;137075934769936</title>\n<path fill=\"none\" stroke=\"black\" d=\"M272.13,-128.5C279.67,-128.5 288.39,-128.5 297.64,-128.5\"/>\n<polygon fill=\"black\" stroke=\"black\" points=\"297.87,-132 307.87,-128.5 297.87,-125 297.87,-132\"/>\n</g>\n<!-- 137075934764848 -->\n<g id=\"node18\" class=\"node\">\n<title>137075934764848</title>\n<polygon fill=\"none\" stroke=\"black\" points=\"617,-110.5 617,-146.5 804,-146.5 804,-110.5 617,-110.5\"/>\n<text text-anchor=\"middle\" x=\"627\" y=\"-124.8\" font-family=\"Times,serif\" font-size=\"14.00\"> </text>\n<polyline fill=\"none\" stroke=\"black\" points=\"637,-110.5 637,-146.5 \"/>\n<text text-anchor=\"middle\" x=\"679.5\" y=\"-124.8\" font-family=\"Times,serif\" font-size=\"14.00\">data &#45;2.0000</text>\n<polyline fill=\"none\" stroke=\"black\" points=\"722,-110.5 722,-146.5 \"/>\n<text text-anchor=\"middle\" x=\"763\" y=\"-124.8\" font-family=\"Times,serif\" font-size=\"14.00\">grad 0.0025</text>\n</g>\n<!-- 137075934764848&#45;&gt;137075934766672exp -->\n<g id=\"edge28\" class=\"edge\">\n<title>137075934764848&#45;&gt;137075934766672exp</title>\n<path fill=\"none\" stroke=\"black\" d=\"M804.2,-128.5C813.52,-128.5 822.54,-128.5 830.69,-128.5\"/>\n<polygon fill=\"black\" stroke=\"black\" points=\"830.88,-132 840.88,-128.5 830.88,-125 830.88,-132\"/>\n</g>\n<!-- 137076771027744 -->\n<g id=\"node19\" class=\"node\">\n<title>137076771027744</title>\n<polygon fill=\"none\" stroke=\"black\" points=\"0,-110.5 0,-146.5 182,-146.5 182,-110.5 0,-110.5\"/>\n<text text-anchor=\"middle\" x=\"10\" y=\"-124.8\" font-family=\"Times,serif\" font-size=\"14.00\"> </text>\n<polyline fill=\"none\" stroke=\"black\" points=\"20,-110.5 20,-146.5 \"/>\n<text text-anchor=\"middle\" x=\"60\" y=\"-124.8\" font-family=\"Times,serif\" font-size=\"14.00\">data 0.0000</text>\n<polyline fill=\"none\" stroke=\"black\" points=\"100,-110.5 100,-146.5 \"/>\n<text text-anchor=\"middle\" x=\"141\" y=\"-124.8\" font-family=\"Times,serif\" font-size=\"14.00\">grad 0.0181</text>\n</g>\n<!-- 137076771027744&#45;&gt;137075934769936exp -->\n<g id=\"edge30\" class=\"edge\">\n<title>137076771027744&#45;&gt;137075934769936exp</title>\n<path fill=\"none\" stroke=\"black\" d=\"M182.18,-128.5C191.14,-128.5 199.83,-128.5 207.73,-128.5\"/>\n<polygon fill=\"black\" stroke=\"black\" points=\"207.96,-132 217.96,-128.5 207.96,-125 207.96,-132\"/>\n</g>\n<!-- 137075934768400 -->\n<g id=\"node20\" class=\"node\">\n<title>137075934768400</title>\n<polygon fill=\"none\" stroke=\"black\" points=\"308,-55.5 308,-91.5 490,-91.5 490,-55.5 308,-55.5\"/>\n<text text-anchor=\"middle\" x=\"318\" y=\"-69.8\" font-family=\"Times,serif\" font-size=\"14.00\"> </text>\n<polyline fill=\"none\" stroke=\"black\" points=\"328,-55.5 328,-91.5 \"/>\n<text text-anchor=\"middle\" x=\"368\" y=\"-69.8\" font-family=\"Times,serif\" font-size=\"14.00\">data 0.0000</text>\n<polyline fill=\"none\" stroke=\"black\" points=\"408,-55.5 408,-91.5 \"/>\n<text text-anchor=\"middle\" x=\"449\" y=\"-69.8\" font-family=\"Times,serif\" font-size=\"14.00\">grad 0.0181</text>\n</g>\n<!-- 137075934768400&#45;&gt;137075934769312+ -->\n<g id=\"edge24\" class=\"edge\">\n<title>137075934768400&#45;&gt;137075934769312+</title>\n<path fill=\"none\" stroke=\"black\" d=\"M490.18,-73.5C499.14,-73.5 507.83,-73.5 515.73,-73.5\"/>\n<polygon fill=\"black\" stroke=\"black\" points=\"515.96,-77 525.96,-73.5 515.96,-70 515.96,-77\"/>\n</g>\n<!-- 137075934764896 -->\n<g id=\"node21\" class=\"node\">\n<title>137075934764896</title>\n<polygon fill=\"none\" stroke=\"black\" points=\"931,-55.5 931,-91.5 1120,-91.5 1120,-55.5 931,-55.5\"/>\n<text text-anchor=\"middle\" x=\"941\" y=\"-69.8\" font-family=\"Times,serif\" font-size=\"14.00\"> </text>\n<polyline fill=\"none\" stroke=\"black\" points=\"951,-55.5 951,-91.5 \"/>\n<text text-anchor=\"middle\" x=\"994.5\" y=\"-69.8\" font-family=\"Times,serif\" font-size=\"14.00\">data 21.0855</text>\n<polyline fill=\"none\" stroke=\"black\" points=\"1038,-55.5 1038,-91.5 \"/>\n<text text-anchor=\"middle\" x=\"1079\" y=\"-69.8\" font-family=\"Times,serif\" font-size=\"14.00\">grad 0.0181</text>\n</g>\n<!-- 137075934764896&#45;&gt;137075934770368+ -->\n<g id=\"edge15\" class=\"edge\">\n<title>137075934764896&#45;&gt;137075934770368+</title>\n<path fill=\"none\" stroke=\"black\" d=\"M1120.1,-73.5C1129.12,-73.5 1137.84,-73.5 1145.75,-73.5\"/>\n<polygon fill=\"black\" stroke=\"black\" points=\"1145.99,-77 1155.99,-73.5 1145.99,-70 1145.99,-77\"/>\n</g>\n<!-- 137075934764896+&#45;&gt;137075934764896 -->\n<g id=\"edge9\" class=\"edge\">\n<title>137075934764896+&#45;&gt;137075934764896</title>\n<path fill=\"none\" stroke=\"black\" d=\"M895.03,-73.5C902.66,-73.5 911.52,-73.5 920.94,-73.5\"/>\n<polygon fill=\"black\" stroke=\"black\" points=\"920.94,-77 930.94,-73.5 920.94,-70 920.94,-77\"/>\n</g>\n<!-- 137075934766960 -->\n<g id=\"node23\" class=\"node\">\n<title>137075934766960</title>\n<polygon fill=\"none\" stroke=\"black\" points=\"2824,-50.5 2824,-86.5 3006,-86.5 3006,-50.5 2824,-50.5\"/>\n<text text-anchor=\"middle\" x=\"2834\" y=\"-64.8\" font-family=\"Times,serif\" font-size=\"14.00\"> </text>\n<polyline fill=\"none\" stroke=\"black\" points=\"2844,-50.5 2844,-86.5 \"/>\n<text text-anchor=\"middle\" x=\"2884\" y=\"-64.8\" font-family=\"Times,serif\" font-size=\"14.00\">data 0.9448</text>\n<polyline fill=\"none\" stroke=\"black\" points=\"2924,-50.5 2924,-86.5 \"/>\n<text text-anchor=\"middle\" x=\"2965\" y=\"-64.8\" font-family=\"Times,serif\" font-size=\"14.00\">grad 1.0000</text>\n</g>\n<!-- 137075934766960*&#45;&gt;137075934766960 -->\n<g id=\"edge10\" class=\"edge\">\n<title>137075934766960*&#45;&gt;137075934766960</title>\n<path fill=\"none\" stroke=\"black\" d=\"M2788.13,-68.5C2795.67,-68.5 2804.39,-68.5 2813.64,-68.5\"/>\n<polygon fill=\"black\" stroke=\"black\" points=\"2813.87,-72 2823.87,-68.5 2813.87,-65 2813.87,-72\"/>\n</g>\n<!-- 137075934772096 -->\n<g id=\"node25\" class=\"node\">\n<title>137075934772096</title>\n<polygon fill=\"none\" stroke=\"black\" points=\"2507,-23.5 2507,-59.5 2698,-59.5 2698,-23.5 2507,-23.5\"/>\n<text text-anchor=\"middle\" x=\"2517\" y=\"-37.8\" font-family=\"Times,serif\" font-size=\"14.00\"> </text>\n<polyline fill=\"none\" stroke=\"black\" points=\"2527,-23.5 2527,-59.5 \"/>\n<text text-anchor=\"middle\" x=\"2569.5\" y=\"-37.8\" font-family=\"Times,serif\" font-size=\"14.00\">data &#45;0.9448</text>\n<polyline fill=\"none\" stroke=\"black\" points=\"2612,-23.5 2612,-59.5 \"/>\n<text text-anchor=\"middle\" x=\"2655\" y=\"-37.8\" font-family=\"Times,serif\" font-size=\"14.00\">grad &#45;1.0000</text>\n</g>\n<!-- 137075934772096&#45;&gt;137075934766960* -->\n<g id=\"edge13\" class=\"edge\">\n<title>137075934772096&#45;&gt;137075934766960*</title>\n<path fill=\"none\" stroke=\"black\" d=\"M2698.15,-57.83C2707.46,-59.44 2716.44,-60.99 2724.54,-62.38\"/>\n<polygon fill=\"black\" stroke=\"black\" points=\"2724.19,-65.87 2734.64,-64.12 2725.38,-58.98 2724.19,-65.87\"/>\n</g>\n<!-- 137075934772096log -->\n<g id=\"node26\" class=\"node\">\n<title>137075934772096log</title>\n<ellipse fill=\"none\" stroke=\"black\" cx=\"2444\" cy=\"-41.5\" rx=\"27\" ry=\"18\"/>\n<text text-anchor=\"middle\" x=\"2444\" y=\"-37.8\" font-family=\"Times,serif\" font-size=\"14.00\">log</text>\n</g>\n<!-- 137075934772096log&#45;&gt;137075934772096 -->\n<g id=\"edge11\" class=\"edge\">\n<title>137075934772096log&#45;&gt;137075934772096</title>\n<path fill=\"none\" stroke=\"black\" d=\"M2471.19,-41.5C2478.67,-41.5 2487.31,-41.5 2496.51,-41.5\"/>\n<polygon fill=\"black\" stroke=\"black\" points=\"2496.68,-45 2506.68,-41.5 2496.68,-38 2496.68,-45\"/>\n</g>\n<!-- 137075934763408 -->\n<g id=\"node27\" class=\"node\">\n<title>137075934763408</title>\n<polygon fill=\"none\" stroke=\"black\" points=\"2195,-23.5 2195,-59.5 2381,-59.5 2381,-23.5 2195,-23.5\"/>\n<text text-anchor=\"middle\" x=\"2205\" y=\"-37.8\" font-family=\"Times,serif\" font-size=\"14.00\"> </text>\n<polyline fill=\"none\" stroke=\"black\" points=\"2215,-23.5 2215,-59.5 \"/>\n<text text-anchor=\"middle\" x=\"2255\" y=\"-37.8\" font-family=\"Times,serif\" font-size=\"14.00\">data 0.1135</text>\n<polyline fill=\"none\" stroke=\"black\" points=\"2295,-23.5 2295,-59.5 \"/>\n<text text-anchor=\"middle\" x=\"2338\" y=\"-37.8\" font-family=\"Times,serif\" font-size=\"14.00\">grad &#45;3.8247</text>\n</g>\n<!-- 137075934763408&#45;&gt;137075934772096log -->\n<g id=\"edge14\" class=\"edge\">\n<title>137075934763408&#45;&gt;137075934772096log</title>\n<path fill=\"none\" stroke=\"black\" d=\"M2381.25,-41.5C2390.15,-41.5 2398.76,-41.5 2406.59,-41.5\"/>\n<polygon fill=\"black\" stroke=\"black\" points=\"2406.73,-45 2416.73,-41.5 2406.73,-38 2406.73,-45\"/>\n</g>\n<!-- 137075934763408*&#45;&gt;137075934763408 -->\n<g id=\"edge12\" class=\"edge\">\n<title>137075934763408*&#45;&gt;137075934763408</title>\n<path fill=\"none\" stroke=\"black\" d=\"M2159.12,-41.5C2166.62,-41.5 2175.29,-41.5 2184.5,-41.5\"/>\n<polygon fill=\"black\" stroke=\"black\" points=\"2184.69,-45 2194.69,-41.5 2184.69,-38 2184.69,-45\"/>\n</g>\n<!-- 137075934770512 -->\n<g id=\"node29\" class=\"node\">\n<title>137075934770512</title>\n<polygon fill=\"none\" stroke=\"black\" points=\"308,-0.5 308,-36.5 490,-36.5 490,-0.5 308,-0.5\"/>\n<text text-anchor=\"middle\" x=\"318\" y=\"-14.8\" font-family=\"Times,serif\" font-size=\"14.00\"> </text>\n<polyline fill=\"none\" stroke=\"black\" points=\"328,-0.5 328,-36.5 \"/>\n<text text-anchor=\"middle\" x=\"368\" y=\"-14.8\" font-family=\"Times,serif\" font-size=\"14.00\">data 3.0000</text>\n<polyline fill=\"none\" stroke=\"black\" points=\"408,-0.5 408,-36.5 \"/>\n<text text-anchor=\"middle\" x=\"449\" y=\"-14.8\" font-family=\"Times,serif\" font-size=\"14.00\">grad 0.3644</text>\n</g>\n<!-- 137075934770512&#45;&gt;137075934768496exp -->\n<g id=\"edge26\" class=\"edge\">\n<title>137075934770512&#45;&gt;137075934768496exp</title>\n<path fill=\"none\" stroke=\"black\" d=\"M490.18,-18.5C499.14,-18.5 507.83,-18.5 515.73,-18.5\"/>\n<polygon fill=\"black\" stroke=\"black\" points=\"515.96,-22 525.96,-18.5 515.96,-15 515.96,-22\"/>\n</g>\n<!-- 137075934759808 -->\n<g id=\"node30\" class=\"node\">\n<title>137075934759808</title>\n<polygon fill=\"none\" stroke=\"black\" points=\"932.5,-0.5 932.5,-36.5 1118.5,-36.5 1118.5,-0.5 932.5,-0.5\"/>\n<text text-anchor=\"middle\" x=\"942.5\" y=\"-14.8\" font-family=\"Times,serif\" font-size=\"14.00\"> </text>\n<polyline fill=\"none\" stroke=\"black\" points=\"952.5,-0.5 952.5,-36.5 \"/>\n<text text-anchor=\"middle\" x=\"992.5\" y=\"-14.8\" font-family=\"Times,serif\" font-size=\"14.00\">data 1.0000</text>\n<polyline fill=\"none\" stroke=\"black\" points=\"1032.5,-0.5 1032.5,-36.5 \"/>\n<text text-anchor=\"middle\" x=\"1075.5\" y=\"-14.8\" font-family=\"Times,serif\" font-size=\"14.00\">grad &#45;0.3850</text>\n</g>\n<!-- 137075934759808&#45;&gt;137075934767248exp -->\n<g id=\"edge20\" class=\"edge\">\n<title>137075934759808&#45;&gt;137075934767248exp</title>\n<path fill=\"none\" stroke=\"black\" d=\"M1118.75,-18.5C1128.32,-18.5 1137.58,-18.5 1145.93,-18.5\"/>\n<polygon fill=\"black\" stroke=\"black\" points=\"1145.97,-22 1155.97,-18.5 1145.97,-15 1145.97,-22\"/>\n</g>\n</g>\n</svg>\n",
            "text/plain": [
              "<graphviz.graphs.Digraph at 0x7cab7a663820>"
            ]
          },
          "metadata": {},
          "execution_count": 57
        }
      ]
    },
    {
      "cell_type": "code",
      "source": [
        "# verify the gradient using the torch library\n",
        "# torch should give you the exact same gradient\n",
        "import torch\n"
      ],
      "metadata": {
        "id": "q7ca1SVAGG1S"
      },
      "execution_count": null,
      "outputs": []
    }
  ]
}