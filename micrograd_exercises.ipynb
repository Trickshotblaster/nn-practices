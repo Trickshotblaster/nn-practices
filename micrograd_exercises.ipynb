{
  "nbformat": 4,
  "nbformat_minor": 0,
  "metadata": {
    "colab": {
      "provenance": [],
      "include_colab_link": true
    },
    "kernelspec": {
      "name": "python3",
      "display_name": "Python 3"
    },
    "language_info": {
      "name": "python"
    }
  },
  "cells": [
    {
      "cell_type": "markdown",
      "metadata": {
        "id": "view-in-github",
        "colab_type": "text"
      },
      "source": [
        "<a href=\"https://colab.research.google.com/github/Trickshotblaster/nn-practices/blob/main/micrograd_exercises.ipynb\" target=\"_parent\"><img src=\"https://colab.research.google.com/assets/colab-badge.svg\" alt=\"Open In Colab\"/></a>"
      ]
    },
    {
      "cell_type": "markdown",
      "source": [
        "# micrograd exercises\n",
        "\n",
        "1. watch the [micrograd video](https://www.youtube.com/watch?v=VMj-3S1tku0) on YouTube\n",
        "2. come back and complete these exercises to level up :)"
      ],
      "metadata": {
        "id": "JnGHatCI51JP"
      }
    },
    {
      "cell_type": "markdown",
      "source": [
        "## section 1: derivatives"
      ],
      "metadata": {
        "id": "OFt6NKOz6iBZ"
      }
    },
    {
      "cell_type": "code",
      "source": [
        "# here is a mathematical expression that takes 3 inputs and produces one output\n",
        "from math import sin, cos\n",
        "\n",
        "def f(a, b, c):\n",
        "  return -a**3 + sin(3*b) - 1.0/c + b**2.5 - a**0.5\n",
        "\n",
        "print(f(2, 3, 4))"
      ],
      "metadata": {
        "id": "3Jx9fCXl5xHd",
        "outputId": "d60eab7b-62f4-4541-b974-1706c07fbcdb",
        "colab": {
          "base_uri": "https://localhost:8080/"
        }
      },
      "execution_count": 1,
      "outputs": [
        {
          "output_type": "stream",
          "name": "stdout",
          "text": [
            "6.336362190988558\n"
          ]
        }
      ]
    },
    {
      "cell_type": "code",
      "source": [
        "# write the function df that returns the analytical gradient of f\n",
        "# i.e. use your skills from calculus to take the derivative, then implement the formula\n",
        "# if you do not calculus then feel free to ask wolframalpha, e.g.:\n",
        "# https://www.wolframalpha.com/input?i=d%2Fda%28sin%283*a%29%29%29\n",
        "\n",
        "def gradf(a, b, c):\n",
        "\n",
        "  return [grada, gradb, gradc] # todo, return [df/da, df/db, df/dc]\n",
        "\n",
        "# expected answer is the list of\n",
        "ans = [-12.353553390593273, 10.25699027111255, 0.0625]\n",
        "yours = gradf(2, 3, 4)\n",
        "for dim in range(3):\n",
        "  ok = 'OK' if abs(yours[dim] - ans[dim]) < 1e-5 else 'WRONG!'\n",
        "  print(f\"{ok} for dim {dim}: expected {ans[dim]}, yours returns {yours[dim]}\")\n"
      ],
      "metadata": {
        "id": "qXaH59eL9zxf",
        "outputId": "00a5962f-5288-471f-a666-b4a8ba6ca5b5",
        "colab": {
          "base_uri": "https://localhost:8080/"
        }
      },
      "execution_count": 2,
      "outputs": [
        {
          "output_type": "stream",
          "name": "stdout",
          "text": [
            "OK for dim 0: expected -12.353553390593273, yours returns -12.353553380251014\n",
            "OK for dim 1: expected 10.25699027111255, yours returns 10.256990368162633\n",
            "OK for dim 2: expected 0.0625, yours returns 0.0624999607623522\n"
          ]
        }
      ]
    },
    {
      "cell_type": "code",
      "source": [
        "# now estimate the gradient numerically without any calculus, using\n",
        "# the approximation we used in the video.\n",
        "# you should not call the function df from the last cell\n",
        "\n",
        "# -----------\n",
        "h = 0.00000001\n",
        "a = 2\n",
        "b = 3\n",
        "c = 4\n",
        "normal = f(a, b, c)\n",
        "grada = (f(a + h, b, c) - normal) / h\n",
        "gradb = (f(a, b + h, c) - normal) / h\n",
        "gradc = (f(a, b, c + h) - normal) / h\n",
        "numerical_grad = [grada, gradb, gradc] # TODO\n",
        "# -----------\n",
        "\n",
        "for dim in range(3):\n",
        "  ok = 'OK' if abs(numerical_grad[dim] - ans[dim]) < 1e-5 else 'WRONG!'\n",
        "  print(f\"{ok} for dim {dim}: expected {ans[dim]}, yours returns {numerical_grad[dim]}\")\n"
      ],
      "metadata": {
        "id": "_27n-KTA9Qla",
        "outputId": "486a0b81-744f-41a8-841c-cd49344b9677",
        "colab": {
          "base_uri": "https://localhost:8080/"
        }
      },
      "execution_count": 3,
      "outputs": [
        {
          "output_type": "stream",
          "name": "stdout",
          "text": [
            "OK for dim 0: expected -12.353553390593273, yours returns -12.353553380251014\n",
            "OK for dim 1: expected 10.25699027111255, yours returns 10.256990368162633\n",
            "OK for dim 2: expected 0.0625, yours returns 0.0624999607623522\n"
          ]
        }
      ]
    },
    {
      "cell_type": "code",
      "source": [
        "# there is an alternative formula that provides a much better numerical\n",
        "# approximation to the derivative of a function.\n",
        "# learn about it here: https://en.wikipedia.org/wiki/Symmetric_derivative\n",
        "# implement it. confirm that for the same step size h this version gives a\n",
        "# better approximation.\n",
        "\n",
        "# -----------\n",
        "h = 0.0000001\n",
        "syma = (f(a + h, b, c) - f(a - h, b, c)) / (2 * h)\n",
        "symb = (f(a, b + h, c) - f(a, b - h, c)) / (2 * h)\n",
        "symc = (f(a, b, c + h) - f(a, b, c - h)) / (2 * h)\n",
        "numerical_grad2 = [syma, symb, symc] # TODO\n",
        "# -----------\n",
        "\n",
        "for dim in range(3):\n",
        "  ok = 'OK' if abs(numerical_grad2[dim] - ans[dim]) < 1e-5 else 'WRONG!'\n",
        "  print(f\"{ok} for dim {dim}: expected {ans[dim]}, yours returns {numerical_grad2[dim]}\")\n"
      ],
      "metadata": {
        "id": "BUqsGb5o_h2P",
        "outputId": "4f1a7d95-ad97-41e0-e63c-f049738477d1",
        "colab": {
          "base_uri": "https://localhost:8080/"
        }
      },
      "execution_count": 4,
      "outputs": [
        {
          "output_type": "stream",
          "name": "stdout",
          "text": [
            "OK for dim 0: expected -12.353553390593273, yours returns -12.353553380251014\n",
            "OK for dim 1: expected 10.25699027111255, yours returns 10.256990252699438\n",
            "OK for dim 2: expected 0.0625, yours returns 0.06250000073038109\n"
          ]
        }
      ]
    },
    {
      "cell_type": "markdown",
      "source": [
        "## section 2: support for softmax"
      ],
      "metadata": {
        "id": "tklF9s_4AtlI"
      }
    },
    {
      "cell_type": "code",
      "source": [
        "import math"
      ],
      "metadata": {
        "id": "kdqvOA4A8sOS"
      },
      "execution_count": 5,
      "outputs": []
    },
    {
      "cell_type": "code",
      "source": [
        "# Value class starter code, with many functions taken out\n",
        "from math import exp, log\n",
        "\n",
        "class Value:\n",
        "\n",
        "  def __init__(self, data, _children=(), _op='', label=''):\n",
        "    self.data = data\n",
        "    self.grad = 0.0\n",
        "    self._backward = lambda: None\n",
        "    self._prev = set(_children)\n",
        "    self._op = _op\n",
        "    self.label = label\n",
        "\n",
        "  def __repr__(self):\n",
        "    return f\"Value(data={self.data})\"\n",
        "\n",
        "  def __add__(self, other): # exactly as in the video\n",
        "    other = other if isinstance(other, Value) else Value(other)\n",
        "    out = Value(self.data + other.data, (self, other), '+')\n",
        "\n",
        "    def _backward():\n",
        "      self.grad += 1.0 * out.grad\n",
        "      other.grad += 1.0 * out.grad\n",
        "    out._backward = _backward\n",
        "\n",
        "    return out\n",
        "\n",
        "  def __radd__(self, other):\n",
        "    return self + other\n",
        "\n",
        "  def exp(self):\n",
        "    out = Value(math.exp(self.data), (self, ), 'exp')\n",
        "    def _backward():\n",
        "      self.grad += out.grad # TODO\n",
        "    out._backward = _backward\n",
        "\n",
        "    return out\n",
        "\n",
        "  def __pow__(self, other):\n",
        "    out = Value(self.data ** other, (self, ), 'pow')\n",
        "    def _backward():\n",
        "      print(\"data\", self.data)\n",
        "      print(\"other\", other)\n",
        "      print(\"out grad\", out.grad)\n",
        "      self.grad += (self.data * (self.data ** other - 1))\n",
        "    self._backward = _backward\n",
        "    return out\n",
        "  def __truediv__(self, other):\n",
        "    return self * (other ** -1)\n",
        "\n",
        "  def __mul__(self, other):\n",
        "    other = other if isinstance(other, Value) else Value(other)\n",
        "    out = Value(self.data * other.data, (self, other), '*')\n",
        "    def _backward():\n",
        "      self.grad += other.data * out.grad\n",
        "      other.grad += self.data * out.grad\n",
        "    self._backward = _backward\n",
        "    return out\n",
        "\n",
        "  def __neg__(self):\n",
        "    return self * -1\n",
        "\n",
        "  def __sub__(self, other):\n",
        "    return self + -other\n",
        "\n",
        "  def log(self):\n",
        "    out = Value(math.log10(self.data), (self, ), 'log')\n",
        "    def _backward():\n",
        "      self.grad = (1 / (out.data * (math.log(10)))) * out.grad\n",
        "    self._backward = _backward\n",
        "    return out\n",
        "  # ------\n",
        "  # re-implement all the other functions needed for the exercises below\n",
        "  # your code here\n",
        "  # TODO\n",
        "  # ------\n",
        "\n",
        "  def backward(self): # exactly as in video\n",
        "    topo = []\n",
        "    visited = set()\n",
        "    def build_topo(v):\n",
        "      if v not in visited:\n",
        "        visited.add(v)\n",
        "        for child in v._prev:\n",
        "          build_topo(child)\n",
        "        topo.append(v)\n",
        "    build_topo(self)\n",
        "\n",
        "    self.grad = 1.0\n",
        "    for node in reversed(topo):\n",
        "      node._backward()"
      ],
      "metadata": {
        "id": "nAPe_RVrCTeO"
      },
      "execution_count": 47,
      "outputs": []
    },
    {
      "cell_type": "code",
      "source": [
        "from graphviz import Digraph\n",
        "\n",
        "def trace(root):\n",
        "    nodes, edges = set(), set()\n",
        "    def build(v):\n",
        "      if v not in nodes:\n",
        "        nodes.add(v)\n",
        "        for child in v._prev:\n",
        "          edges.add((child, v))\n",
        "          build(child)\n",
        "    build(root)\n",
        "    return nodes, edges\n",
        "\n",
        "def draw_dot(root):\n",
        "  dot = Digraph(format='svg', graph_attr={'rankdir': 'LR'})\n",
        "\n",
        "  nodes, edges = trace(root)\n",
        "  for n in nodes:\n",
        "    uid = str(id(n))\n",
        "    dot.node(name = uid, label = \"{ %s | data %.4f | grad %.4f }\" % (n.label, n.data, n.grad), shape='record')\n",
        "    if n._op:\n",
        "      dot.node(name = uid + n._op, label = n._op)\n",
        "      dot.edge(uid + n._op, uid)\n",
        "\n",
        "  for n1, n2 in edges:\n",
        "    dot.edge(str(id(n1)), str(id(n2)) + n2._op)\n",
        "\n",
        "  return dot"
      ],
      "metadata": {
        "id": "5g--LvCFELLL"
      },
      "execution_count": 35,
      "outputs": []
    },
    {
      "cell_type": "code",
      "source": [
        "# without referencing our code/video __too__ much, make this cell work\n",
        "# you'll have to implement (in some cases re-implemented) a number of functions\n",
        "# of the Value object, similar to what we've seen in the video.\n",
        "# instead of the squared error loss this implements the negative log likelihood\n",
        "# loss, which is very often used in classification.\n",
        "\n",
        "# this is the softmax function\n",
        "# https://en.wikipedia.org/wiki/Softmax_function\n",
        "def softmax(logits):\n",
        "  counts = [logit.exp() for logit in logits]\n",
        "  print(counts)\n",
        "  denominator = sum(counts)\n",
        "  out = [c / denominator for c in counts]\n",
        "  return out\n",
        "\n",
        "# this is the negative log likelihood loss function, pervasive in classification\n",
        "logits = [Value(0.0), Value(3.0), Value(-2.0), Value(1.0)]\n",
        "probs = softmax(logits)\n",
        "loss = -probs[3].log() # dim 3 acts as the label for this input example\n",
        "loss.backward()\n",
        "print(loss.data)\n",
        "\n",
        "ans = [0.041772570515350445, 0.8390245074625319, 0.005653302662216329, -0.8864503806400986]\n",
        "for dim in range(4):\n",
        "  ok = 'OK' if abs(logits[dim].grad - ans[dim]) < 1e-5 else 'WRONG!'\n",
        "  print(f\"{ok} for dim {dim}: expected {ans[dim]}, yours returns {logits[dim].grad}\")\n"
      ],
      "metadata": {
        "id": "VgWvwVQNAvnI",
        "outputId": "928f8894-680b-49fc-e92e-d8fe891f7ff3",
        "colab": {
          "base_uri": "https://localhost:8080/"
        }
      },
      "execution_count": 48,
      "outputs": [
        {
          "output_type": "stream",
          "name": "stdout",
          "text": [
            "[Value(data=1.0), Value(data=20.085536923187668), Value(data=0.1353352832366127), Value(data=2.718281828459045)]\n",
            "data 23.939154034883327\n",
            "other -1\n",
            "out grad 0.0\n",
            "0.944814317280191\n",
            "WRONG! for dim 0: expected 0.041772570515350445, yours returns 0.0\n",
            "WRONG! for dim 1: expected 0.8390245074625319, yours returns 0.0\n",
            "WRONG! for dim 2: expected 0.005653302662216329, yours returns 0.0\n",
            "WRONG! for dim 3: expected -0.8864503806400986, yours returns 0.0\n"
          ]
        }
      ]
    },
    {
      "cell_type": "code",
      "source": [
        "draw_dot(loss)"
      ],
      "metadata": {
        "id": "5l4pV7zMESa1",
        "outputId": "8be22471-1c92-49ac-8967-758967f4413f",
        "colab": {
          "base_uri": "https://localhost:8080/",
          "height": 321
        }
      },
      "execution_count": 49,
      "outputs": [
        {
          "output_type": "execute_result",
          "data": {
            "image/svg+xml": "<?xml version=\"1.0\" encoding=\"UTF-8\" standalone=\"no\"?>\n<!DOCTYPE svg PUBLIC \"-//W3C//DTD SVG 1.1//EN\"\n \"http://www.w3.org/Graphics/SVG/1.1/DTD/svg11.dtd\">\n<!-- Generated by graphviz version 2.43.0 (0)\n -->\n<!-- Title: %3 Pages: 1 -->\n<svg width=\"3010pt\" height=\"210pt\"\n viewBox=\"0.00 0.00 3010.00 210.00\" xmlns=\"http://www.w3.org/2000/svg\" xmlns:xlink=\"http://www.w3.org/1999/xlink\">\n<g id=\"graph0\" class=\"graph\" transform=\"scale(1 1) rotate(0) translate(4 206)\">\n<title>%3</title>\n<polygon fill=\"white\" stroke=\"transparent\" points=\"-4,4 -4,-206 3006,-206 3006,4 -4,4\"/>\n<!-- 134649878703616 -->\n<g id=\"node1\" class=\"node\">\n<title>134649878703616</title>\n<polygon fill=\"none\" stroke=\"black\" points=\"1887,-47.5 1887,-83.5 2069,-83.5 2069,-47.5 1887,-47.5\"/>\n<text text-anchor=\"middle\" x=\"1897\" y=\"-61.8\" font-family=\"Times,serif\" font-size=\"14.00\"> </text>\n<polyline fill=\"none\" stroke=\"black\" points=\"1907,-47.5 1907,-83.5 \"/>\n<text text-anchor=\"middle\" x=\"1947\" y=\"-61.8\" font-family=\"Times,serif\" font-size=\"14.00\">data 0.0418</text>\n<polyline fill=\"none\" stroke=\"black\" points=\"1987,-47.5 1987,-83.5 \"/>\n<text text-anchor=\"middle\" x=\"2028\" y=\"-61.8\" font-family=\"Times,serif\" font-size=\"14.00\">grad 1.2495</text>\n</g>\n<!-- 134649878703760* -->\n<g id=\"node12\" class=\"node\">\n<title>134649878703760*</title>\n<ellipse fill=\"none\" stroke=\"black\" cx=\"2132\" cy=\"-41.5\" rx=\"27\" ry=\"18\"/>\n<text text-anchor=\"middle\" x=\"2132\" y=\"-37.8\" font-family=\"Times,serif\" font-size=\"14.00\">*</text>\n</g>\n<!-- 134649878703616&#45;&gt;134649878703760* -->\n<g id=\"edge18\" class=\"edge\">\n<title>134649878703616&#45;&gt;134649878703760*</title>\n<path fill=\"none\" stroke=\"black\" d=\"M2069.18,-51.26C2078.42,-49.8 2087.38,-48.39 2095.47,-47.11\"/>\n<polygon fill=\"black\" stroke=\"black\" points=\"2096.23,-50.53 2105.56,-45.52 2095.14,-43.62 2096.23,-50.53\"/>\n</g>\n<!-- 134649878703616pow -->\n<g id=\"node2\" class=\"node\">\n<title>134649878703616pow</title>\n<ellipse fill=\"none\" stroke=\"black\" cx=\"1824\" cy=\"-65.5\" rx=\"27\" ry=\"18\"/>\n<text text-anchor=\"middle\" x=\"1824\" y=\"-61.8\" font-family=\"Times,serif\" font-size=\"14.00\">pow</text>\n</g>\n<!-- 134649878703616pow&#45;&gt;134649878703616 -->\n<g id=\"edge1\" class=\"edge\">\n<title>134649878703616pow&#45;&gt;134649878703616</title>\n<path fill=\"none\" stroke=\"black\" d=\"M1851.13,-65.5C1858.67,-65.5 1867.39,-65.5 1876.64,-65.5\"/>\n<polygon fill=\"black\" stroke=\"black\" points=\"1876.87,-69 1886.87,-65.5 1876.87,-62 1876.87,-69\"/>\n</g>\n<!-- 134649878702608 -->\n<g id=\"node3\" class=\"node\">\n<title>134649878702608</title>\n<polygon fill=\"none\" stroke=\"black\" points=\"931,-110.5 931,-146.5 1120,-146.5 1120,-110.5 931,-110.5\"/>\n<text text-anchor=\"middle\" x=\"941\" y=\"-124.8\" font-family=\"Times,serif\" font-size=\"14.00\"> </text>\n<polyline fill=\"none\" stroke=\"black\" points=\"951,-110.5 951,-146.5 \"/>\n<text text-anchor=\"middle\" x=\"994.5\" y=\"-124.8\" font-family=\"Times,serif\" font-size=\"14.00\">data 21.0855</text>\n<polyline fill=\"none\" stroke=\"black\" points=\"1038,-110.5 1038,-146.5 \"/>\n<text text-anchor=\"middle\" x=\"1079\" y=\"-124.8\" font-family=\"Times,serif\" font-size=\"14.00\">grad 0.0000</text>\n</g>\n<!-- 134649878702944+ -->\n<g id=\"node27\" class=\"node\">\n<title>134649878702944+</title>\n<ellipse fill=\"none\" stroke=\"black\" cx=\"1183\" cy=\"-73.5\" rx=\"27\" ry=\"18\"/>\n<text text-anchor=\"middle\" x=\"1183\" y=\"-69.8\" font-family=\"Times,serif\" font-size=\"14.00\">+</text>\n</g>\n<!-- 134649878702608&#45;&gt;134649878702944+ -->\n<g id=\"edge16\" class=\"edge\">\n<title>134649878702608&#45;&gt;134649878702944+</title>\n<path fill=\"none\" stroke=\"black\" d=\"M1090.46,-110.46C1100.41,-107.33 1110.53,-103.97 1120,-100.5 1130.25,-96.75 1141.24,-92.16 1151.07,-87.84\"/>\n<polygon fill=\"black\" stroke=\"black\" points=\"1152.75,-90.92 1160.45,-83.64 1149.89,-84.53 1152.75,-90.92\"/>\n</g>\n<!-- 134649878702608+ -->\n<g id=\"node4\" class=\"node\">\n<title>134649878702608+</title>\n<ellipse fill=\"none\" stroke=\"black\" cx=\"868\" cy=\"-128.5\" rx=\"27\" ry=\"18\"/>\n<text text-anchor=\"middle\" x=\"868\" y=\"-124.8\" font-family=\"Times,serif\" font-size=\"14.00\">+</text>\n</g>\n<!-- 134649878702608+&#45;&gt;134649878702608 -->\n<g id=\"edge2\" class=\"edge\">\n<title>134649878702608+&#45;&gt;134649878702608</title>\n<path fill=\"none\" stroke=\"black\" d=\"M895.03,-128.5C902.66,-128.5 911.52,-128.5 920.94,-128.5\"/>\n<polygon fill=\"black\" stroke=\"black\" points=\"920.94,-132 930.94,-128.5 920.94,-125 920.94,-132\"/>\n</g>\n<!-- 134649878695936 -->\n<g id=\"node5\" class=\"node\">\n<title>134649878695936</title>\n<polygon fill=\"none\" stroke=\"black\" points=\"616,-165.5 616,-201.5 805,-201.5 805,-165.5 616,-165.5\"/>\n<text text-anchor=\"middle\" x=\"626\" y=\"-179.8\" font-family=\"Times,serif\" font-size=\"14.00\"> </text>\n<polyline fill=\"none\" stroke=\"black\" points=\"636,-165.5 636,-201.5 \"/>\n<text text-anchor=\"middle\" x=\"679.5\" y=\"-179.8\" font-family=\"Times,serif\" font-size=\"14.00\">data 20.0855</text>\n<polyline fill=\"none\" stroke=\"black\" points=\"723,-165.5 723,-201.5 \"/>\n<text text-anchor=\"middle\" x=\"764\" y=\"-179.8\" font-family=\"Times,serif\" font-size=\"14.00\">grad 0.0000</text>\n</g>\n<!-- 134649878695936&#45;&gt;134649878702608+ -->\n<g id=\"edge30\" class=\"edge\">\n<title>134649878695936&#45;&gt;134649878702608+</title>\n<path fill=\"none\" stroke=\"black\" d=\"M778.28,-165.48C787.33,-162.67 796.44,-159.65 805,-156.5 815.5,-152.64 826.72,-147.8 836.69,-143.24\"/>\n<polygon fill=\"black\" stroke=\"black\" points=\"838.21,-146.39 845.79,-138.99 835.25,-140.04 838.21,-146.39\"/>\n</g>\n<!-- 134649878695936exp -->\n<g id=\"node6\" class=\"node\">\n<title>134649878695936exp</title>\n<ellipse fill=\"none\" stroke=\"black\" cx=\"553\" cy=\"-183.5\" rx=\"27\" ry=\"18\"/>\n<text text-anchor=\"middle\" x=\"553\" y=\"-179.8\" font-family=\"Times,serif\" font-size=\"14.00\">exp</text>\n</g>\n<!-- 134649878695936exp&#45;&gt;134649878695936 -->\n<g id=\"edge3\" class=\"edge\">\n<title>134649878695936exp&#45;&gt;134649878695936</title>\n<path fill=\"none\" stroke=\"black\" d=\"M580.03,-183.5C587.66,-183.5 596.52,-183.5 605.94,-183.5\"/>\n<polygon fill=\"black\" stroke=\"black\" points=\"605.94,-187 615.94,-183.5 605.94,-180 605.94,-187\"/>\n</g>\n<!-- 134649878701600 -->\n<g id=\"node7\" class=\"node\">\n<title>134649878701600</title>\n<polygon fill=\"none\" stroke=\"black\" points=\"0,-55.5 0,-91.5 182,-91.5 182,-55.5 0,-55.5\"/>\n<text text-anchor=\"middle\" x=\"10\" y=\"-69.8\" font-family=\"Times,serif\" font-size=\"14.00\"> </text>\n<polyline fill=\"none\" stroke=\"black\" points=\"20,-55.5 20,-91.5 \"/>\n<text text-anchor=\"middle\" x=\"60\" y=\"-69.8\" font-family=\"Times,serif\" font-size=\"14.00\">data 0.0000</text>\n<polyline fill=\"none\" stroke=\"black\" points=\"100,-55.5 100,-91.5 \"/>\n<text text-anchor=\"middle\" x=\"141\" y=\"-69.8\" font-family=\"Times,serif\" font-size=\"14.00\">grad 0.0000</text>\n</g>\n<!-- 134649878694784exp -->\n<g id=\"node29\" class=\"node\">\n<title>134649878694784exp</title>\n<ellipse fill=\"none\" stroke=\"black\" cx=\"245\" cy=\"-73.5\" rx=\"27\" ry=\"18\"/>\n<text text-anchor=\"middle\" x=\"245\" y=\"-69.8\" font-family=\"Times,serif\" font-size=\"14.00\">exp</text>\n</g>\n<!-- 134649878701600&#45;&gt;134649878694784exp -->\n<g id=\"edge17\" class=\"edge\">\n<title>134649878701600&#45;&gt;134649878694784exp</title>\n<path fill=\"none\" stroke=\"black\" d=\"M182.18,-73.5C191.14,-73.5 199.83,-73.5 207.73,-73.5\"/>\n<polygon fill=\"black\" stroke=\"black\" points=\"207.96,-77 217.96,-73.5 207.96,-70 207.96,-77\"/>\n</g>\n<!-- 134649878704192 -->\n<g id=\"node8\" class=\"node\">\n<title>134649878704192</title>\n<polygon fill=\"none\" stroke=\"black\" points=\"308,-165.5 308,-201.5 490,-201.5 490,-165.5 308,-165.5\"/>\n<text text-anchor=\"middle\" x=\"318\" y=\"-179.8\" font-family=\"Times,serif\" font-size=\"14.00\"> </text>\n<polyline fill=\"none\" stroke=\"black\" points=\"328,-165.5 328,-201.5 \"/>\n<text text-anchor=\"middle\" x=\"368\" y=\"-179.8\" font-family=\"Times,serif\" font-size=\"14.00\">data 3.0000</text>\n<polyline fill=\"none\" stroke=\"black\" points=\"408,-165.5 408,-201.5 \"/>\n<text text-anchor=\"middle\" x=\"449\" y=\"-179.8\" font-family=\"Times,serif\" font-size=\"14.00\">grad 0.0000</text>\n</g>\n<!-- 134649878704192&#45;&gt;134649878695936exp -->\n<g id=\"edge26\" class=\"edge\">\n<title>134649878704192&#45;&gt;134649878695936exp</title>\n<path fill=\"none\" stroke=\"black\" d=\"M490.18,-183.5C499.14,-183.5 507.83,-183.5 515.73,-183.5\"/>\n<polygon fill=\"black\" stroke=\"black\" points=\"515.96,-187 525.96,-183.5 515.96,-180 515.96,-187\"/>\n</g>\n<!-- 134649878705776 -->\n<g id=\"node9\" class=\"node\">\n<title>134649878705776</title>\n<polygon fill=\"none\" stroke=\"black\" points=\"2820,-50.5 2820,-86.5 3002,-86.5 3002,-50.5 2820,-50.5\"/>\n<text text-anchor=\"middle\" x=\"2830\" y=\"-64.8\" font-family=\"Times,serif\" font-size=\"14.00\"> </text>\n<polyline fill=\"none\" stroke=\"black\" points=\"2840,-50.5 2840,-86.5 \"/>\n<text text-anchor=\"middle\" x=\"2880\" y=\"-64.8\" font-family=\"Times,serif\" font-size=\"14.00\">data 0.9448</text>\n<polyline fill=\"none\" stroke=\"black\" points=\"2920,-50.5 2920,-86.5 \"/>\n<text text-anchor=\"middle\" x=\"2961\" y=\"-64.8\" font-family=\"Times,serif\" font-size=\"14.00\">grad 1.0000</text>\n</g>\n<!-- 134649878705776* -->\n<g id=\"node10\" class=\"node\">\n<title>134649878705776*</title>\n<ellipse fill=\"none\" stroke=\"black\" cx=\"2757\" cy=\"-68.5\" rx=\"27\" ry=\"18\"/>\n<text text-anchor=\"middle\" x=\"2757\" y=\"-64.8\" font-family=\"Times,serif\" font-size=\"14.00\">*</text>\n</g>\n<!-- 134649878705776*&#45;&gt;134649878705776 -->\n<g id=\"edge4\" class=\"edge\">\n<title>134649878705776*&#45;&gt;134649878705776</title>\n<path fill=\"none\" stroke=\"black\" d=\"M2784.13,-68.5C2791.67,-68.5 2800.39,-68.5 2809.64,-68.5\"/>\n<polygon fill=\"black\" stroke=\"black\" points=\"2809.87,-72 2819.87,-68.5 2809.87,-65 2809.87,-72\"/>\n</g>\n<!-- 134649878703760 -->\n<g id=\"node11\" class=\"node\">\n<title>134649878703760</title>\n<polygon fill=\"none\" stroke=\"black\" points=\"2195,-23.5 2195,-59.5 2377,-59.5 2377,-23.5 2195,-23.5\"/>\n<text text-anchor=\"middle\" x=\"2205\" y=\"-37.8\" font-family=\"Times,serif\" font-size=\"14.00\"> </text>\n<polyline fill=\"none\" stroke=\"black\" points=\"2215,-23.5 2215,-59.5 \"/>\n<text text-anchor=\"middle\" x=\"2255\" y=\"-37.8\" font-family=\"Times,serif\" font-size=\"14.00\">data 0.1135</text>\n<polyline fill=\"none\" stroke=\"black\" points=\"2295,-23.5 2295,-59.5 \"/>\n<text text-anchor=\"middle\" x=\"2336\" y=\"-37.8\" font-family=\"Times,serif\" font-size=\"14.00\">grad 0.4597</text>\n</g>\n<!-- 134649878700880log -->\n<g id=\"node25\" class=\"node\">\n<title>134649878700880log</title>\n<ellipse fill=\"none\" stroke=\"black\" cx=\"2440\" cy=\"-41.5\" rx=\"27\" ry=\"18\"/>\n<text text-anchor=\"middle\" x=\"2440\" y=\"-37.8\" font-family=\"Times,serif\" font-size=\"14.00\">log</text>\n</g>\n<!-- 134649878703760&#45;&gt;134649878700880log -->\n<g id=\"edge29\" class=\"edge\">\n<title>134649878703760&#45;&gt;134649878700880log</title>\n<path fill=\"none\" stroke=\"black\" d=\"M2377.18,-41.5C2386.14,-41.5 2394.83,-41.5 2402.73,-41.5\"/>\n<polygon fill=\"black\" stroke=\"black\" points=\"2402.96,-45 2412.96,-41.5 2402.96,-38 2402.96,-45\"/>\n</g>\n<!-- 134649878703760*&#45;&gt;134649878703760 -->\n<g id=\"edge5\" class=\"edge\">\n<title>134649878703760*&#45;&gt;134649878703760</title>\n<path fill=\"none\" stroke=\"black\" d=\"M2159.13,-41.5C2166.67,-41.5 2175.39,-41.5 2184.64,-41.5\"/>\n<polygon fill=\"black\" stroke=\"black\" points=\"2184.87,-45 2194.87,-41.5 2184.87,-38 2184.87,-45\"/>\n</g>\n<!-- 134649878701216 -->\n<g id=\"node13\" class=\"node\">\n<title>134649878701216</title>\n<polygon fill=\"none\" stroke=\"black\" points=\"617,-55.5 617,-91.5 804,-91.5 804,-55.5 617,-55.5\"/>\n<text text-anchor=\"middle\" x=\"627\" y=\"-69.8\" font-family=\"Times,serif\" font-size=\"14.00\"> </text>\n<polyline fill=\"none\" stroke=\"black\" points=\"637,-55.5 637,-91.5 \"/>\n<text text-anchor=\"middle\" x=\"679.5\" y=\"-69.8\" font-family=\"Times,serif\" font-size=\"14.00\">data &#45;2.0000</text>\n<polyline fill=\"none\" stroke=\"black\" points=\"722,-55.5 722,-91.5 \"/>\n<text text-anchor=\"middle\" x=\"763\" y=\"-69.8\" font-family=\"Times,serif\" font-size=\"14.00\">grad 0.0000</text>\n</g>\n<!-- 134649878695600exp -->\n<g id=\"node15\" class=\"node\">\n<title>134649878695600exp</title>\n<ellipse fill=\"none\" stroke=\"black\" cx=\"868\" cy=\"-73.5\" rx=\"27\" ry=\"18\"/>\n<text text-anchor=\"middle\" x=\"868\" y=\"-69.8\" font-family=\"Times,serif\" font-size=\"14.00\">exp</text>\n</g>\n<!-- 134649878701216&#45;&gt;134649878695600exp -->\n<g id=\"edge13\" class=\"edge\">\n<title>134649878701216&#45;&gt;134649878695600exp</title>\n<path fill=\"none\" stroke=\"black\" d=\"M804.2,-73.5C813.52,-73.5 822.54,-73.5 830.69,-73.5\"/>\n<polygon fill=\"black\" stroke=\"black\" points=\"830.88,-77 840.88,-73.5 830.88,-70 830.88,-77\"/>\n</g>\n<!-- 134649878695600 -->\n<g id=\"node14\" class=\"node\">\n<title>134649878695600</title>\n<polygon fill=\"none\" stroke=\"black\" points=\"934.5,-55.5 934.5,-91.5 1116.5,-91.5 1116.5,-55.5 934.5,-55.5\"/>\n<text text-anchor=\"middle\" x=\"944.5\" y=\"-69.8\" font-family=\"Times,serif\" font-size=\"14.00\"> </text>\n<polyline fill=\"none\" stroke=\"black\" points=\"954.5,-55.5 954.5,-91.5 \"/>\n<text text-anchor=\"middle\" x=\"994.5\" y=\"-69.8\" font-family=\"Times,serif\" font-size=\"14.00\">data 0.1353</text>\n<polyline fill=\"none\" stroke=\"black\" points=\"1034.5,-55.5 1034.5,-91.5 \"/>\n<text text-anchor=\"middle\" x=\"1075.5\" y=\"-69.8\" font-family=\"Times,serif\" font-size=\"14.00\">grad 0.0000</text>\n</g>\n<!-- 134649878695600&#45;&gt;134649878702944+ -->\n<g id=\"edge23\" class=\"edge\">\n<title>134649878695600&#45;&gt;134649878702944+</title>\n<path fill=\"none\" stroke=\"black\" d=\"M1116.5,-73.5C1126.84,-73.5 1136.87,-73.5 1145.85,-73.5\"/>\n<polygon fill=\"black\" stroke=\"black\" points=\"1145.87,-77 1155.87,-73.5 1145.87,-70 1145.87,-77\"/>\n</g>\n<!-- 134649878695600exp&#45;&gt;134649878695600 -->\n<g id=\"edge6\" class=\"edge\">\n<title>134649878695600exp&#45;&gt;134649878695600</title>\n<path fill=\"none\" stroke=\"black\" d=\"M895.03,-73.5C903.48,-73.5 913.42,-73.5 923.98,-73.5\"/>\n<polygon fill=\"black\" stroke=\"black\" points=\"924.27,-77 934.27,-73.5 924.27,-70 924.27,-77\"/>\n</g>\n<!-- 134649878705872 -->\n<g id=\"node16\" class=\"node\">\n<title>134649878705872</title>\n<polygon fill=\"none\" stroke=\"black\" points=\"2503,-78.5 2503,-114.5 2694,-114.5 2694,-78.5 2503,-78.5\"/>\n<text text-anchor=\"middle\" x=\"2513\" y=\"-92.8\" font-family=\"Times,serif\" font-size=\"14.00\"> </text>\n<polyline fill=\"none\" stroke=\"black\" points=\"2523,-78.5 2523,-114.5 \"/>\n<text text-anchor=\"middle\" x=\"2565.5\" y=\"-92.8\" font-family=\"Times,serif\" font-size=\"14.00\">data &#45;1.0000</text>\n<polyline fill=\"none\" stroke=\"black\" points=\"2608,-78.5 2608,-114.5 \"/>\n<text text-anchor=\"middle\" x=\"2651\" y=\"-92.8\" font-family=\"Times,serif\" font-size=\"14.00\">grad &#45;0.9448</text>\n</g>\n<!-- 134649878705872&#45;&gt;134649878705776* -->\n<g id=\"edge19\" class=\"edge\">\n<title>134649878705872&#45;&gt;134649878705776*</title>\n<path fill=\"none\" stroke=\"black\" d=\"M2694.15,-79.57C2703.46,-77.9 2712.44,-76.29 2720.54,-74.84\"/>\n<polygon fill=\"black\" stroke=\"black\" points=\"2721.41,-78.24 2730.64,-73.04 2720.18,-71.35 2721.41,-78.24\"/>\n</g>\n<!-- 134649878695648 -->\n<g id=\"node17\" class=\"node\">\n<title>134649878695648</title>\n<polygon fill=\"none\" stroke=\"black\" points=\"1249.5,-0.5 1249.5,-36.5 1431.5,-36.5 1431.5,-0.5 1249.5,-0.5\"/>\n<text text-anchor=\"middle\" x=\"1259.5\" y=\"-14.8\" font-family=\"Times,serif\" font-size=\"14.00\"> </text>\n<polyline fill=\"none\" stroke=\"black\" points=\"1269.5,-0.5 1269.5,-36.5 \"/>\n<text text-anchor=\"middle\" x=\"1309.5\" y=\"-14.8\" font-family=\"Times,serif\" font-size=\"14.00\">data 2.7183</text>\n<polyline fill=\"none\" stroke=\"black\" points=\"1349.5,-0.5 1349.5,-36.5 \"/>\n<text text-anchor=\"middle\" x=\"1390.5\" y=\"-14.8\" font-family=\"Times,serif\" font-size=\"14.00\">grad 0.0192</text>\n</g>\n<!-- 134649878695648&#45;&gt;134649878703760* -->\n<g id=\"edge28\" class=\"edge\">\n<title>134649878695648&#45;&gt;134649878703760*</title>\n<path fill=\"none\" stroke=\"black\" d=\"M1431.77,-18.5C1495.53,-18.5 1583,-18.5 1660,-18.5 1660,-18.5 1660,-18.5 1825,-18.5 1923.05,-18.5 2038.28,-30.39 2095.3,-37.07\"/>\n<polygon fill=\"black\" stroke=\"black\" points=\"2094.91,-40.55 2105.26,-38.25 2095.74,-33.6 2094.91,-40.55\"/>\n</g>\n<!-- 134649878702320+ -->\n<g id=\"node20\" class=\"node\">\n<title>134649878702320+</title>\n<ellipse fill=\"none\" stroke=\"black\" cx=\"1498\" cy=\"-65.5\" rx=\"27\" ry=\"18\"/>\n<text text-anchor=\"middle\" x=\"1498\" y=\"-61.8\" font-family=\"Times,serif\" font-size=\"14.00\">+</text>\n</g>\n<!-- 134649878695648&#45;&gt;134649878702320+ -->\n<g id=\"edge27\" class=\"edge\">\n<title>134649878695648&#45;&gt;134649878702320+</title>\n<path fill=\"none\" stroke=\"black\" d=\"M1404.95,-36.54C1415.02,-39.48 1425.31,-42.54 1435,-45.5 1444.37,-48.36 1454.5,-51.58 1463.81,-54.58\"/>\n<polygon fill=\"black\" stroke=\"black\" points=\"1462.91,-57.97 1473.5,-57.73 1465.07,-51.31 1462.91,-57.97\"/>\n</g>\n<!-- 134649878695648exp -->\n<g id=\"node18\" class=\"node\">\n<title>134649878695648exp</title>\n<ellipse fill=\"none\" stroke=\"black\" cx=\"1183\" cy=\"-18.5\" rx=\"27\" ry=\"18\"/>\n<text text-anchor=\"middle\" x=\"1183\" y=\"-14.8\" font-family=\"Times,serif\" font-size=\"14.00\">exp</text>\n</g>\n<!-- 134649878695648exp&#45;&gt;134649878695648 -->\n<g id=\"edge7\" class=\"edge\">\n<title>134649878695648exp&#45;&gt;134649878695648</title>\n<path fill=\"none\" stroke=\"black\" d=\"M1210.03,-18.5C1218.48,-18.5 1228.42,-18.5 1238.98,-18.5\"/>\n<polygon fill=\"black\" stroke=\"black\" points=\"1239.27,-22 1249.27,-18.5 1239.27,-15 1239.27,-22\"/>\n</g>\n<!-- 134649878702320 -->\n<g id=\"node19\" class=\"node\">\n<title>134649878702320</title>\n<polygon fill=\"none\" stroke=\"black\" points=\"1561,-47.5 1561,-83.5 1761,-83.5 1761,-47.5 1561,-47.5\"/>\n<text text-anchor=\"middle\" x=\"1571\" y=\"-61.8\" font-family=\"Times,serif\" font-size=\"14.00\"> </text>\n<polyline fill=\"none\" stroke=\"black\" points=\"1581,-47.5 1581,-83.5 \"/>\n<text text-anchor=\"middle\" x=\"1624.5\" y=\"-61.8\" font-family=\"Times,serif\" font-size=\"14.00\">data 23.9392</text>\n<polyline fill=\"none\" stroke=\"black\" points=\"1668,-47.5 1668,-83.5 \"/>\n<text text-anchor=\"middle\" x=\"1714.5\" y=\"-61.8\" font-family=\"Times,serif\" font-size=\"14.00\">grad &#45;22.9392</text>\n</g>\n<!-- 134649878702320&#45;&gt;134649878703616pow -->\n<g id=\"edge21\" class=\"edge\">\n<title>134649878702320&#45;&gt;134649878703616pow</title>\n<path fill=\"none\" stroke=\"black\" d=\"M1761.21,-65.5C1770.2,-65.5 1778.86,-65.5 1786.7,-65.5\"/>\n<polygon fill=\"black\" stroke=\"black\" points=\"1786.85,-69 1796.85,-65.5 1786.85,-62 1786.85,-69\"/>\n</g>\n<!-- 134649878702320+&#45;&gt;134649878702320 -->\n<g id=\"edge8\" class=\"edge\">\n<title>134649878702320+&#45;&gt;134649878702320</title>\n<path fill=\"none\" stroke=\"black\" d=\"M1525.23,-65.5C1532.69,-65.5 1541.31,-65.5 1550.52,-65.5\"/>\n<polygon fill=\"black\" stroke=\"black\" points=\"1550.71,-69 1560.71,-65.5 1550.71,-62 1550.71,-69\"/>\n</g>\n<!-- 134649878702800 -->\n<g id=\"node21\" class=\"node\">\n<title>134649878702800</title>\n<polygon fill=\"none\" stroke=\"black\" points=\"619.5,-110.5 619.5,-146.5 801.5,-146.5 801.5,-110.5 619.5,-110.5\"/>\n<text text-anchor=\"middle\" x=\"629.5\" y=\"-124.8\" font-family=\"Times,serif\" font-size=\"14.00\"> </text>\n<polyline fill=\"none\" stroke=\"black\" points=\"639.5,-110.5 639.5,-146.5 \"/>\n<text text-anchor=\"middle\" x=\"679.5\" y=\"-124.8\" font-family=\"Times,serif\" font-size=\"14.00\">data 1.0000</text>\n<polyline fill=\"none\" stroke=\"black\" points=\"719.5,-110.5 719.5,-146.5 \"/>\n<text text-anchor=\"middle\" x=\"760.5\" y=\"-124.8\" font-family=\"Times,serif\" font-size=\"14.00\">grad 0.0000</text>\n</g>\n<!-- 134649878702800&#45;&gt;134649878702608+ -->\n<g id=\"edge14\" class=\"edge\">\n<title>134649878702800&#45;&gt;134649878702608+</title>\n<path fill=\"none\" stroke=\"black\" d=\"M801.5,-128.5C811.84,-128.5 821.87,-128.5 830.85,-128.5\"/>\n<polygon fill=\"black\" stroke=\"black\" points=\"830.87,-132 840.87,-128.5 830.87,-125 830.87,-132\"/>\n</g>\n<!-- 134649878702800+ -->\n<g id=\"node22\" class=\"node\">\n<title>134649878702800+</title>\n<ellipse fill=\"none\" stroke=\"black\" cx=\"553\" cy=\"-128.5\" rx=\"27\" ry=\"18\"/>\n<text text-anchor=\"middle\" x=\"553\" y=\"-124.8\" font-family=\"Times,serif\" font-size=\"14.00\">+</text>\n</g>\n<!-- 134649878702800+&#45;&gt;134649878702800 -->\n<g id=\"edge9\" class=\"edge\">\n<title>134649878702800+&#45;&gt;134649878702800</title>\n<path fill=\"none\" stroke=\"black\" d=\"M580.03,-128.5C588.48,-128.5 598.42,-128.5 608.98,-128.5\"/>\n<polygon fill=\"black\" stroke=\"black\" points=\"609.27,-132 619.27,-128.5 609.27,-125 609.27,-132\"/>\n</g>\n<!-- 134649878702896 -->\n<g id=\"node23\" class=\"node\">\n<title>134649878702896</title>\n<polygon fill=\"none\" stroke=\"black\" points=\"308,-110.5 308,-146.5 490,-146.5 490,-110.5 308,-110.5\"/>\n<text text-anchor=\"middle\" x=\"318\" y=\"-124.8\" font-family=\"Times,serif\" font-size=\"14.00\"> </text>\n<polyline fill=\"none\" stroke=\"black\" points=\"328,-110.5 328,-146.5 \"/>\n<text text-anchor=\"middle\" x=\"368\" y=\"-124.8\" font-family=\"Times,serif\" font-size=\"14.00\">data 0.0000</text>\n<polyline fill=\"none\" stroke=\"black\" points=\"408,-110.5 408,-146.5 \"/>\n<text text-anchor=\"middle\" x=\"449\" y=\"-124.8\" font-family=\"Times,serif\" font-size=\"14.00\">grad 0.0000</text>\n</g>\n<!-- 134649878702896&#45;&gt;134649878702800+ -->\n<g id=\"edge15\" class=\"edge\">\n<title>134649878702896&#45;&gt;134649878702800+</title>\n<path fill=\"none\" stroke=\"black\" d=\"M490.18,-128.5C499.14,-128.5 507.83,-128.5 515.73,-128.5\"/>\n<polygon fill=\"black\" stroke=\"black\" points=\"515.96,-132 525.96,-128.5 515.96,-125 515.96,-132\"/>\n</g>\n<!-- 134649878700880 -->\n<g id=\"node24\" class=\"node\">\n<title>134649878700880</title>\n<polygon fill=\"none\" stroke=\"black\" points=\"2503,-23.5 2503,-59.5 2694,-59.5 2694,-23.5 2503,-23.5\"/>\n<text text-anchor=\"middle\" x=\"2513\" y=\"-37.8\" font-family=\"Times,serif\" font-size=\"14.00\"> </text>\n<polyline fill=\"none\" stroke=\"black\" points=\"2523,-23.5 2523,-59.5 \"/>\n<text text-anchor=\"middle\" x=\"2565.5\" y=\"-37.8\" font-family=\"Times,serif\" font-size=\"14.00\">data &#45;0.9448</text>\n<polyline fill=\"none\" stroke=\"black\" points=\"2608,-23.5 2608,-59.5 \"/>\n<text text-anchor=\"middle\" x=\"2651\" y=\"-37.8\" font-family=\"Times,serif\" font-size=\"14.00\">grad &#45;1.0000</text>\n</g>\n<!-- 134649878700880&#45;&gt;134649878705776* -->\n<g id=\"edge20\" class=\"edge\">\n<title>134649878700880&#45;&gt;134649878705776*</title>\n<path fill=\"none\" stroke=\"black\" d=\"M2694.15,-57.83C2703.46,-59.44 2712.44,-60.99 2720.54,-62.38\"/>\n<polygon fill=\"black\" stroke=\"black\" points=\"2720.19,-65.87 2730.64,-64.12 2721.38,-58.98 2720.19,-65.87\"/>\n</g>\n<!-- 134649878700880log&#45;&gt;134649878700880 -->\n<g id=\"edge10\" class=\"edge\">\n<title>134649878700880log&#45;&gt;134649878700880</title>\n<path fill=\"none\" stroke=\"black\" d=\"M2467.19,-41.5C2474.67,-41.5 2483.31,-41.5 2492.51,-41.5\"/>\n<polygon fill=\"black\" stroke=\"black\" points=\"2492.68,-45 2502.68,-41.5 2492.68,-38 2492.68,-45\"/>\n</g>\n<!-- 134649878702944 -->\n<g id=\"node26\" class=\"node\">\n<title>134649878702944</title>\n<polygon fill=\"none\" stroke=\"black\" points=\"1246,-55.5 1246,-91.5 1435,-91.5 1435,-55.5 1246,-55.5\"/>\n<text text-anchor=\"middle\" x=\"1256\" y=\"-69.8\" font-family=\"Times,serif\" font-size=\"14.00\"> </text>\n<polyline fill=\"none\" stroke=\"black\" points=\"1266,-55.5 1266,-91.5 \"/>\n<text text-anchor=\"middle\" x=\"1309.5\" y=\"-69.8\" font-family=\"Times,serif\" font-size=\"14.00\">data 21.2209</text>\n<polyline fill=\"none\" stroke=\"black\" points=\"1353,-55.5 1353,-91.5 \"/>\n<text text-anchor=\"middle\" x=\"1394\" y=\"-69.8\" font-family=\"Times,serif\" font-size=\"14.00\">grad 0.0000</text>\n</g>\n<!-- 134649878702944&#45;&gt;134649878702320+ -->\n<g id=\"edge22\" class=\"edge\">\n<title>134649878702944&#45;&gt;134649878702320+</title>\n<path fill=\"none\" stroke=\"black\" d=\"M1435.1,-68.68C1444.12,-68.22 1452.84,-67.77 1460.75,-67.36\"/>\n<polygon fill=\"black\" stroke=\"black\" points=\"1461.19,-70.85 1470.99,-66.84 1460.83,-63.86 1461.19,-70.85\"/>\n</g>\n<!-- 134649878702944+&#45;&gt;134649878702944 -->\n<g id=\"edge11\" class=\"edge\">\n<title>134649878702944+&#45;&gt;134649878702944</title>\n<path fill=\"none\" stroke=\"black\" d=\"M1210.03,-73.5C1217.66,-73.5 1226.52,-73.5 1235.94,-73.5\"/>\n<polygon fill=\"black\" stroke=\"black\" points=\"1235.94,-77 1245.94,-73.5 1235.94,-70 1235.94,-77\"/>\n</g>\n<!-- 134649878694784 -->\n<g id=\"node28\" class=\"node\">\n<title>134649878694784</title>\n<polygon fill=\"none\" stroke=\"black\" points=\"308,-55.5 308,-91.5 490,-91.5 490,-55.5 308,-55.5\"/>\n<text text-anchor=\"middle\" x=\"318\" y=\"-69.8\" font-family=\"Times,serif\" font-size=\"14.00\"> </text>\n<polyline fill=\"none\" stroke=\"black\" points=\"328,-55.5 328,-91.5 \"/>\n<text text-anchor=\"middle\" x=\"368\" y=\"-69.8\" font-family=\"Times,serif\" font-size=\"14.00\">data 1.0000</text>\n<polyline fill=\"none\" stroke=\"black\" points=\"408,-55.5 408,-91.5 \"/>\n<text text-anchor=\"middle\" x=\"449\" y=\"-69.8\" font-family=\"Times,serif\" font-size=\"14.00\">grad 0.0000</text>\n</g>\n<!-- 134649878694784&#45;&gt;134649878702800+ -->\n<g id=\"edge24\" class=\"edge\">\n<title>134649878694784&#45;&gt;134649878702800+</title>\n<path fill=\"none\" stroke=\"black\" d=\"M464.26,-91.64C472.97,-94.43 481.75,-97.41 490,-100.5 500.48,-104.42 511.69,-109.27 521.66,-113.83\"/>\n<polygon fill=\"black\" stroke=\"black\" points=\"520.23,-117.02 530.77,-118.07 523.18,-110.68 520.23,-117.02\"/>\n</g>\n<!-- 134649878694784exp&#45;&gt;134649878694784 -->\n<g id=\"edge12\" class=\"edge\">\n<title>134649878694784exp&#45;&gt;134649878694784</title>\n<path fill=\"none\" stroke=\"black\" d=\"M272.13,-73.5C279.67,-73.5 288.39,-73.5 297.64,-73.5\"/>\n<polygon fill=\"black\" stroke=\"black\" points=\"297.87,-77 307.87,-73.5 297.87,-70 297.87,-77\"/>\n</g>\n<!-- 134649878697952 -->\n<g id=\"node30\" class=\"node\">\n<title>134649878697952</title>\n<polygon fill=\"none\" stroke=\"black\" points=\"934.5,-0.5 934.5,-36.5 1116.5,-36.5 1116.5,-0.5 934.5,-0.5\"/>\n<text text-anchor=\"middle\" x=\"944.5\" y=\"-14.8\" font-family=\"Times,serif\" font-size=\"14.00\"> </text>\n<polyline fill=\"none\" stroke=\"black\" points=\"954.5,-0.5 954.5,-36.5 \"/>\n<text text-anchor=\"middle\" x=\"994.5\" y=\"-14.8\" font-family=\"Times,serif\" font-size=\"14.00\">data 1.0000</text>\n<polyline fill=\"none\" stroke=\"black\" points=\"1034.5,-0.5 1034.5,-36.5 \"/>\n<text text-anchor=\"middle\" x=\"1075.5\" y=\"-14.8\" font-family=\"Times,serif\" font-size=\"14.00\">grad 0.0000</text>\n</g>\n<!-- 134649878697952&#45;&gt;134649878695648exp -->\n<g id=\"edge25\" class=\"edge\">\n<title>134649878697952&#45;&gt;134649878695648exp</title>\n<path fill=\"none\" stroke=\"black\" d=\"M1116.5,-18.5C1126.84,-18.5 1136.87,-18.5 1145.85,-18.5\"/>\n<polygon fill=\"black\" stroke=\"black\" points=\"1145.87,-22 1155.87,-18.5 1145.87,-15 1145.87,-22\"/>\n</g>\n</g>\n</svg>\n",
            "text/plain": [
              "<graphviz.graphs.Digraph at 0x7a769e305450>"
            ]
          },
          "metadata": {},
          "execution_count": 49
        }
      ]
    },
    {
      "cell_type": "code",
      "source": [
        "# verify the gradient using the torch library\n",
        "# torch should give you the exact same gradient\n",
        "import torch\n"
      ],
      "metadata": {
        "id": "q7ca1SVAGG1S"
      },
      "execution_count": null,
      "outputs": []
    }
  ]
}