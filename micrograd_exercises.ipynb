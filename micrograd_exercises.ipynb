{
  "nbformat": 4,
  "nbformat_minor": 0,
  "metadata": {
    "colab": {
      "provenance": [],
      "include_colab_link": true
    },
    "kernelspec": {
      "name": "python3",
      "display_name": "Python 3"
    },
    "language_info": {
      "name": "python"
    }
  },
  "cells": [
    {
      "cell_type": "markdown",
      "metadata": {
        "id": "view-in-github",
        "colab_type": "text"
      },
      "source": [
        "<a href=\"https://colab.research.google.com/github/Trickshotblaster/nn-practices/blob/main/micrograd_exercises.ipynb\" target=\"_parent\"><img src=\"https://colab.research.google.com/assets/colab-badge.svg\" alt=\"Open In Colab\"/></a>"
      ]
    },
    {
      "cell_type": "markdown",
      "source": [
        "# micrograd exercises\n",
        "\n",
        "1. watch the [micrograd video](https://www.youtube.com/watch?v=VMj-3S1tku0) on YouTube\n",
        "2. come back and complete these exercises to level up :)"
      ],
      "metadata": {
        "id": "JnGHatCI51JP"
      }
    },
    {
      "cell_type": "markdown",
      "source": [
        "## section 1: derivatives"
      ],
      "metadata": {
        "id": "OFt6NKOz6iBZ"
      }
    },
    {
      "cell_type": "code",
      "source": [
        "# here is a mathematical expression that takes 3 inputs and produces one output\n",
        "from math import sin, cos\n",
        "\n",
        "def f(a, b, c):\n",
        "  return -a**3 + sin(3*b) - 1.0/c + b**2.5 - a**0.5\n",
        "\n",
        "print(f(2, 3, 4))"
      ],
      "metadata": {
        "id": "3Jx9fCXl5xHd",
        "outputId": "168519cf-bac0-4a68-c45e-f9c762684a0b",
        "colab": {
          "base_uri": "https://localhost:8080/"
        }
      },
      "execution_count": 1,
      "outputs": [
        {
          "output_type": "stream",
          "name": "stdout",
          "text": [
            "6.336362190988558\n"
          ]
        }
      ]
    },
    {
      "cell_type": "code",
      "source": [
        "# write the function df that returns the analytical gradient of f\n",
        "# i.e. use your skills from calculus to take the derivative, then implement the formula\n",
        "# if you do not calculus then feel free to ask wolframalpha, e.g.:\n",
        "# https://www.wolframalpha.com/input?i=d%2Fda%28sin%283*a%29%29%29\n",
        "\n",
        "def gradf(a, b, c):\n",
        "\n",
        "  return [grada, gradb, gradc] # todo, return [df/da, df/db, df/dc]\n",
        "\n",
        "# expected answer is the list of\n",
        "ans = [-12.353553390593273, 10.25699027111255, 0.0625]\n",
        "yours = gradf(2, 3, 4)\n",
        "for dim in range(3):\n",
        "  ok = 'OK' if abs(yours[dim] - ans[dim]) < 1e-5 else 'WRONG!'\n",
        "  print(f\"{ok} for dim {dim}: expected {ans[dim]}, yours returns {yours[dim]}\")\n"
      ],
      "metadata": {
        "id": "qXaH59eL9zxf",
        "outputId": "a487012f-96f2-4fb2-bbe1-fa78051f8011",
        "colab": {
          "base_uri": "https://localhost:8080/",
          "height": 372
        }
      },
      "execution_count": 2,
      "outputs": [
        {
          "output_type": "error",
          "ename": "NameError",
          "evalue": "ignored",
          "traceback": [
            "\u001b[0;31m---------------------------------------------------------------------------\u001b[0m",
            "\u001b[0;31mNameError\u001b[0m                                 Traceback (most recent call last)",
            "\u001b[0;32m<ipython-input-2-aa5b61b8f24b>\u001b[0m in \u001b[0;36m<cell line: 12>\u001b[0;34m()\u001b[0m\n\u001b[1;32m     10\u001b[0m \u001b[0;31m# expected answer is the list of\u001b[0m\u001b[0;34m\u001b[0m\u001b[0;34m\u001b[0m\u001b[0m\n\u001b[1;32m     11\u001b[0m \u001b[0mans\u001b[0m \u001b[0;34m=\u001b[0m \u001b[0;34m[\u001b[0m\u001b[0;34m-\u001b[0m\u001b[0;36m12.353553390593273\u001b[0m\u001b[0;34m,\u001b[0m \u001b[0;36m10.25699027111255\u001b[0m\u001b[0;34m,\u001b[0m \u001b[0;36m0.0625\u001b[0m\u001b[0;34m]\u001b[0m\u001b[0;34m\u001b[0m\u001b[0;34m\u001b[0m\u001b[0m\n\u001b[0;32m---> 12\u001b[0;31m \u001b[0myours\u001b[0m \u001b[0;34m=\u001b[0m \u001b[0mgradf\u001b[0m\u001b[0;34m(\u001b[0m\u001b[0;36m2\u001b[0m\u001b[0;34m,\u001b[0m \u001b[0;36m3\u001b[0m\u001b[0;34m,\u001b[0m \u001b[0;36m4\u001b[0m\u001b[0;34m)\u001b[0m\u001b[0;34m\u001b[0m\u001b[0;34m\u001b[0m\u001b[0m\n\u001b[0m\u001b[1;32m     13\u001b[0m \u001b[0;32mfor\u001b[0m \u001b[0mdim\u001b[0m \u001b[0;32min\u001b[0m \u001b[0mrange\u001b[0m\u001b[0;34m(\u001b[0m\u001b[0;36m3\u001b[0m\u001b[0;34m)\u001b[0m\u001b[0;34m:\u001b[0m\u001b[0;34m\u001b[0m\u001b[0;34m\u001b[0m\u001b[0m\n\u001b[1;32m     14\u001b[0m   \u001b[0mok\u001b[0m \u001b[0;34m=\u001b[0m \u001b[0;34m'OK'\u001b[0m \u001b[0;32mif\u001b[0m \u001b[0mabs\u001b[0m\u001b[0;34m(\u001b[0m\u001b[0myours\u001b[0m\u001b[0;34m[\u001b[0m\u001b[0mdim\u001b[0m\u001b[0;34m]\u001b[0m \u001b[0;34m-\u001b[0m \u001b[0mans\u001b[0m\u001b[0;34m[\u001b[0m\u001b[0mdim\u001b[0m\u001b[0;34m]\u001b[0m\u001b[0;34m)\u001b[0m \u001b[0;34m<\u001b[0m \u001b[0;36m1e-5\u001b[0m \u001b[0;32melse\u001b[0m \u001b[0;34m'WRONG!'\u001b[0m\u001b[0;34m\u001b[0m\u001b[0;34m\u001b[0m\u001b[0m\n",
            "\u001b[0;32m<ipython-input-2-aa5b61b8f24b>\u001b[0m in \u001b[0;36mgradf\u001b[0;34m(a, b, c)\u001b[0m\n\u001b[1;32m      6\u001b[0m \u001b[0;32mdef\u001b[0m \u001b[0mgradf\u001b[0m\u001b[0;34m(\u001b[0m\u001b[0ma\u001b[0m\u001b[0;34m,\u001b[0m \u001b[0mb\u001b[0m\u001b[0;34m,\u001b[0m \u001b[0mc\u001b[0m\u001b[0;34m)\u001b[0m\u001b[0;34m:\u001b[0m\u001b[0;34m\u001b[0m\u001b[0;34m\u001b[0m\u001b[0m\n\u001b[1;32m      7\u001b[0m \u001b[0;34m\u001b[0m\u001b[0m\n\u001b[0;32m----> 8\u001b[0;31m   \u001b[0;32mreturn\u001b[0m \u001b[0;34m[\u001b[0m\u001b[0mgrada\u001b[0m\u001b[0;34m,\u001b[0m \u001b[0mgradb\u001b[0m\u001b[0;34m,\u001b[0m \u001b[0mgradc\u001b[0m\u001b[0;34m]\u001b[0m \u001b[0;31m# todo, return [df/da, df/db, df/dc]\u001b[0m\u001b[0;34m\u001b[0m\u001b[0;34m\u001b[0m\u001b[0m\n\u001b[0m\u001b[1;32m      9\u001b[0m \u001b[0;34m\u001b[0m\u001b[0m\n\u001b[1;32m     10\u001b[0m \u001b[0;31m# expected answer is the list of\u001b[0m\u001b[0;34m\u001b[0m\u001b[0;34m\u001b[0m\u001b[0m\n",
            "\u001b[0;31mNameError\u001b[0m: name 'grada' is not defined"
          ]
        }
      ]
    },
    {
      "cell_type": "code",
      "source": [
        "# now estimate the gradient numerically without any calculus, using\n",
        "# the approximation we used in the video.\n",
        "# you should not call the function df from the last cell\n",
        "\n",
        "# -----------\n",
        "h = 0.00000001\n",
        "a = 2\n",
        "b = 3\n",
        "c = 4\n",
        "normal = f(a, b, c)\n",
        "grada = (f(a + h, b, c) - normal) / h\n",
        "gradb = (f(a, b + h, c) - normal) / h\n",
        "gradc = (f(a, b, c + h) - normal) / h\n",
        "numerical_grad = [grada, gradb, gradc] # TODO\n",
        "# -----------\n",
        "\n",
        "for dim in range(3):\n",
        "  ok = 'OK' if abs(numerical_grad[dim] - ans[dim]) < 1e-5 else 'WRONG!'\n",
        "  print(f\"{ok} for dim {dim}: expected {ans[dim]}, yours returns {numerical_grad[dim]}\")\n"
      ],
      "metadata": {
        "id": "_27n-KTA9Qla",
        "outputId": "c78cce98-bc04-4225-b8ac-764176160ef6",
        "colab": {
          "base_uri": "https://localhost:8080/",
          "height": 222
        }
      },
      "execution_count": null,
      "outputs": [
        {
          "output_type": "error",
          "ename": "NameError",
          "evalue": "ignored",
          "traceback": [
            "\u001b[0;31m---------------------------------------------------------------------------\u001b[0m",
            "\u001b[0;31mNameError\u001b[0m                                 Traceback (most recent call last)",
            "\u001b[0;32m<ipython-input-2-99f0e35de44f>\u001b[0m in \u001b[0;36m<cell line: 17>\u001b[0;34m()\u001b[0m\n\u001b[1;32m     16\u001b[0m \u001b[0;34m\u001b[0m\u001b[0m\n\u001b[1;32m     17\u001b[0m \u001b[0;32mfor\u001b[0m \u001b[0mdim\u001b[0m \u001b[0;32min\u001b[0m \u001b[0mrange\u001b[0m\u001b[0;34m(\u001b[0m\u001b[0;36m3\u001b[0m\u001b[0;34m)\u001b[0m\u001b[0;34m:\u001b[0m\u001b[0;34m\u001b[0m\u001b[0;34m\u001b[0m\u001b[0m\n\u001b[0;32m---> 18\u001b[0;31m   \u001b[0mok\u001b[0m \u001b[0;34m=\u001b[0m \u001b[0;34m'OK'\u001b[0m \u001b[0;32mif\u001b[0m \u001b[0mabs\u001b[0m\u001b[0;34m(\u001b[0m\u001b[0mnumerical_grad\u001b[0m\u001b[0;34m[\u001b[0m\u001b[0mdim\u001b[0m\u001b[0;34m]\u001b[0m \u001b[0;34m-\u001b[0m \u001b[0mans\u001b[0m\u001b[0;34m[\u001b[0m\u001b[0mdim\u001b[0m\u001b[0;34m]\u001b[0m\u001b[0;34m)\u001b[0m \u001b[0;34m<\u001b[0m \u001b[0;36m1e-5\u001b[0m \u001b[0;32melse\u001b[0m \u001b[0;34m'WRONG!'\u001b[0m\u001b[0;34m\u001b[0m\u001b[0;34m\u001b[0m\u001b[0m\n\u001b[0m\u001b[1;32m     19\u001b[0m   \u001b[0mprint\u001b[0m\u001b[0;34m(\u001b[0m\u001b[0;34mf\"{ok} for dim {dim}: expected {ans[dim]}, yours returns {numerical_grad[dim]}\"\u001b[0m\u001b[0;34m)\u001b[0m\u001b[0;34m\u001b[0m\u001b[0;34m\u001b[0m\u001b[0m\n",
            "\u001b[0;31mNameError\u001b[0m: name 'ans' is not defined"
          ]
        }
      ]
    },
    {
      "cell_type": "code",
      "source": [
        "# there is an alternative formula that provides a much better numerical\n",
        "# approximation to the derivative of a function.\n",
        "# learn about it here: https://en.wikipedia.org/wiki/Symmetric_derivative\n",
        "# implement it. confirm that for the same step size h this version gives a\n",
        "# better approximation.\n",
        "\n",
        "# -----------\n",
        "h = 0.0000001\n",
        "syma = (f(a + h, b, c) - f(a - h, b, c)) / (2 * h)\n",
        "symb = (f(a, b + h, c) - f(a, b - h, c)) / (2 * h)\n",
        "symc = (f(a, b, c + h) - f(a, b, c - h)) / (2 * h)\n",
        "numerical_grad2 = [syma, symb, symc] # TODO\n",
        "# -----------\n",
        "\n",
        "for dim in range(3):\n",
        "  ok = 'OK' if abs(numerical_grad2[dim] - ans[dim]) < 1e-5 else 'WRONG!'\n",
        "  print(f\"{ok} for dim {dim}: expected {ans[dim]}, yours returns {numerical_grad2[dim]}\")\n"
      ],
      "metadata": {
        "id": "BUqsGb5o_h2P",
        "outputId": "7eb9c693-dffd-49ee-e157-b28b9db71d24",
        "colab": {
          "base_uri": "https://localhost:8080/",
          "height": 244
        }
      },
      "execution_count": 3,
      "outputs": [
        {
          "output_type": "error",
          "ename": "NameError",
          "evalue": "ignored",
          "traceback": [
            "\u001b[0;31m---------------------------------------------------------------------------\u001b[0m",
            "\u001b[0;31mNameError\u001b[0m                                 Traceback (most recent call last)",
            "\u001b[0;32m<ipython-input-3-fb369080bdc9>\u001b[0m in \u001b[0;36m<cell line: 9>\u001b[0;34m()\u001b[0m\n\u001b[1;32m      7\u001b[0m \u001b[0;31m# -----------\u001b[0m\u001b[0;34m\u001b[0m\u001b[0;34m\u001b[0m\u001b[0m\n\u001b[1;32m      8\u001b[0m \u001b[0mh\u001b[0m \u001b[0;34m=\u001b[0m \u001b[0;36m0.0000001\u001b[0m\u001b[0;34m\u001b[0m\u001b[0;34m\u001b[0m\u001b[0m\n\u001b[0;32m----> 9\u001b[0;31m \u001b[0msyma\u001b[0m \u001b[0;34m=\u001b[0m \u001b[0;34m(\u001b[0m\u001b[0mf\u001b[0m\u001b[0;34m(\u001b[0m\u001b[0ma\u001b[0m \u001b[0;34m+\u001b[0m \u001b[0mh\u001b[0m\u001b[0;34m,\u001b[0m \u001b[0mb\u001b[0m\u001b[0;34m,\u001b[0m \u001b[0mc\u001b[0m\u001b[0;34m)\u001b[0m \u001b[0;34m-\u001b[0m \u001b[0mf\u001b[0m\u001b[0;34m(\u001b[0m\u001b[0ma\u001b[0m \u001b[0;34m-\u001b[0m \u001b[0mh\u001b[0m\u001b[0;34m,\u001b[0m \u001b[0mb\u001b[0m\u001b[0;34m,\u001b[0m \u001b[0mc\u001b[0m\u001b[0;34m)\u001b[0m\u001b[0;34m)\u001b[0m \u001b[0;34m/\u001b[0m \u001b[0;34m(\u001b[0m\u001b[0;36m2\u001b[0m \u001b[0;34m*\u001b[0m \u001b[0mh\u001b[0m\u001b[0;34m)\u001b[0m\u001b[0;34m\u001b[0m\u001b[0;34m\u001b[0m\u001b[0m\n\u001b[0m\u001b[1;32m     10\u001b[0m \u001b[0msymb\u001b[0m \u001b[0;34m=\u001b[0m \u001b[0;34m(\u001b[0m\u001b[0mf\u001b[0m\u001b[0;34m(\u001b[0m\u001b[0ma\u001b[0m\u001b[0;34m,\u001b[0m \u001b[0mb\u001b[0m \u001b[0;34m+\u001b[0m \u001b[0mh\u001b[0m\u001b[0;34m,\u001b[0m \u001b[0mc\u001b[0m\u001b[0;34m)\u001b[0m \u001b[0;34m-\u001b[0m \u001b[0mf\u001b[0m\u001b[0;34m(\u001b[0m\u001b[0ma\u001b[0m\u001b[0;34m,\u001b[0m \u001b[0mb\u001b[0m \u001b[0;34m-\u001b[0m \u001b[0mh\u001b[0m\u001b[0;34m,\u001b[0m \u001b[0mc\u001b[0m\u001b[0;34m)\u001b[0m\u001b[0;34m)\u001b[0m \u001b[0;34m/\u001b[0m \u001b[0;34m(\u001b[0m\u001b[0;36m2\u001b[0m \u001b[0;34m*\u001b[0m \u001b[0mh\u001b[0m\u001b[0;34m)\u001b[0m\u001b[0;34m\u001b[0m\u001b[0;34m\u001b[0m\u001b[0m\n\u001b[1;32m     11\u001b[0m \u001b[0msymc\u001b[0m \u001b[0;34m=\u001b[0m \u001b[0;34m(\u001b[0m\u001b[0mf\u001b[0m\u001b[0;34m(\u001b[0m\u001b[0ma\u001b[0m\u001b[0;34m,\u001b[0m \u001b[0mb\u001b[0m\u001b[0;34m,\u001b[0m \u001b[0mc\u001b[0m \u001b[0;34m+\u001b[0m \u001b[0mh\u001b[0m\u001b[0;34m)\u001b[0m \u001b[0;34m-\u001b[0m \u001b[0mf\u001b[0m\u001b[0;34m(\u001b[0m\u001b[0ma\u001b[0m\u001b[0;34m,\u001b[0m \u001b[0mb\u001b[0m\u001b[0;34m,\u001b[0m \u001b[0mc\u001b[0m \u001b[0;34m-\u001b[0m \u001b[0mh\u001b[0m\u001b[0;34m)\u001b[0m\u001b[0;34m)\u001b[0m \u001b[0;34m/\u001b[0m \u001b[0;34m(\u001b[0m\u001b[0;36m2\u001b[0m \u001b[0;34m*\u001b[0m \u001b[0mh\u001b[0m\u001b[0;34m)\u001b[0m\u001b[0;34m\u001b[0m\u001b[0;34m\u001b[0m\u001b[0m\n",
            "\u001b[0;31mNameError\u001b[0m: name 'a' is not defined"
          ]
        }
      ]
    },
    {
      "cell_type": "markdown",
      "source": [
        "## section 2: support for softmax"
      ],
      "metadata": {
        "id": "tklF9s_4AtlI"
      }
    },
    {
      "cell_type": "code",
      "source": [
        "import math"
      ],
      "metadata": {
        "id": "kdqvOA4A8sOS"
      },
      "execution_count": 4,
      "outputs": []
    },
    {
      "cell_type": "code",
      "source": [
        "# Value class starter code, with many functions taken out\n",
        "from math import exp, log\n",
        "\n",
        "class Value:\n",
        "\n",
        "  def __init__(self, data, _children=(), _op='', label=''):\n",
        "    self.data = data\n",
        "    self.grad = 0.0\n",
        "    self._backward = lambda: None\n",
        "    self._prev = set(_children)\n",
        "    self._op = _op\n",
        "    self.label = label\n",
        "\n",
        "  def __repr__(self):\n",
        "    return f\"Value(data={self.data})\"\n",
        "\n",
        "  def __add__(self, other): # exactly as in the video\n",
        "    other = other if isinstance(other, Value) else Value(other)\n",
        "    out = Value(self.data + other.data, (self, other), '+')\n",
        "\n",
        "    def _backward():\n",
        "      self.grad += 1.0 * out.grad\n",
        "      other.grad += 1.0 * out.grad\n",
        "    out._backward = _backward\n",
        "\n",
        "    return out\n",
        "\n",
        "  def __radd__(self, other):\n",
        "    return self + other\n",
        "\n",
        "  def exp(self):\n",
        "    out = Value(math.exp(self.data), (self, ), 'exp')\n",
        "    def _backward():\n",
        "      self.grad += out.data * out.grad # TODO\n",
        "    out._backward = _backward\n",
        "\n",
        "    return out\n",
        "\n",
        "  def __pow__(self, other):\n",
        "    out = Value(self.data ** other, (self, ), 'pow')\n",
        "    def _backward():\n",
        "      print(\"n\", other)\n",
        "      print(\"x\", self.data)\n",
        "      print(\"out grad\", out.grad)\n",
        "      print(out, out.grad, out._prev)\n",
        "      self.grad += (other * (self.data ** (other - 1))) * out.grad\n",
        "    out._backward = _backward\n",
        "    return out\n",
        "\n",
        "  def __truediv__(self, other):\n",
        "    return self * (other ** -1)\n",
        "\n",
        "  def __mul__(self, other):\n",
        "    other = other if isinstance(other, Value) else Value(other)\n",
        "    out = Value(self.data * other.data, (self, other), '*')\n",
        "    def _backward():\n",
        "      self.grad += other.data * out.grad\n",
        "      other.grad += self.data * out.grad\n",
        "      print(self.grad, other.grad, out.grad, other.data, self.data)\n",
        "    out._backward = _backward\n",
        "    return out\n",
        "\n",
        "  def __neg__(self):\n",
        "    return self * -1\n",
        "\n",
        "  def __sub__(self, other):\n",
        "    return self + -other\n",
        "\n",
        "  def log(self):\n",
        "    out = Value(math.log10(self.data), (self, ), 'log')\n",
        "    def _backward():\n",
        "      self.grad += (1 / (self.data * (math.log(10)))) * out.grad\n",
        "      print(\"log\", self.grad)\n",
        "    out._backward = _backward\n",
        "    return out\n",
        "  # ------\n",
        "  # re-implement all the other functions needed for the exercises below\n",
        "  # your code here\n",
        "  # TODO\n",
        "  # ------\n",
        "\n",
        "  def backward(self): # exactly as in video\n",
        "    topo = []\n",
        "    visited = set()\n",
        "    def build_topo(v):\n",
        "      if v not in visited:\n",
        "        visited.add(v)\n",
        "        for child in v._prev:\n",
        "          build_topo(child)\n",
        "        topo.append(v)\n",
        "    build_topo(self)\n",
        "\n",
        "    self.grad = 1.0\n",
        "    for node in reversed(topo):\n",
        "      node._backward()"
      ],
      "metadata": {
        "id": "nAPe_RVrCTeO"
      },
      "execution_count": 25,
      "outputs": []
    },
    {
      "cell_type": "code",
      "source": [
        "from graphviz import Digraph\n",
        "\n",
        "def trace(root):\n",
        "    nodes, edges = set(), set()\n",
        "    def build(v):\n",
        "      if v not in nodes:\n",
        "        nodes.add(v)\n",
        "        for child in v._prev:\n",
        "          edges.add((child, v))\n",
        "          build(child)\n",
        "    build(root)\n",
        "    return nodes, edges\n",
        "\n",
        "def draw_dot(root):\n",
        "  dot = Digraph(format='svg', graph_attr={'rankdir': 'LR'})\n",
        "\n",
        "  nodes, edges = trace(root)\n",
        "  for n in nodes:\n",
        "    uid = str(id(n))\n",
        "    dot.node(name = uid, label = \"{ %s | data %.4f | grad %.4f }\" % (n.label, n.data, n.grad), shape='record')\n",
        "    if n._op:\n",
        "      dot.node(name = uid + n._op, label = n._op)\n",
        "      dot.edge(uid + n._op, uid)\n",
        "\n",
        "  for n1, n2 in edges:\n",
        "    dot.edge(str(id(n1)), str(id(n2)) + n2._op)\n",
        "\n",
        "  return dot"
      ],
      "metadata": {
        "id": "5g--LvCFELLL"
      },
      "execution_count": 6,
      "outputs": []
    },
    {
      "cell_type": "code",
      "source": [
        "# without referencing our code/video __too__ much, make this cell work\n",
        "# you'll have to implement (in some cases re-implemented) a number of functions\n",
        "# of the Value object, similar to what we've seen in the video.\n",
        "# instead of the squared error loss this implements the negative log likelihood\n",
        "# loss, which is very often used in classification.\n",
        "\n",
        "# this is the softmax function\n",
        "# https://en.wikipedia.org/wiki/Softmax_function\n",
        "def softmax(logits):\n",
        "  counts = [logit.exp() for logit in logits]\n",
        "  denominator = sum(counts)\n",
        "  print(\"denominator\", denominator, \"counts\", counts)\n",
        "  out = [c / denominator for c in counts]\n",
        "  return out\n",
        "\n",
        "# this is the negative log likelihood loss function, pervasive in classification\n",
        "logits = [Value(0.0, label='a'), Value(3.0, label='b'), Value(-2.0, label='c'), Value(1.0, label='d')]\n",
        "probs = softmax(logits)\n",
        "print(\"probs1\", probs)\n",
        "loss = -probs[3].log() # dim 3 acts as the label for this input example\n",
        "print(\"probs\", probs, loss)\n",
        "loss.backward()\n",
        "print(loss.data)\n",
        "\n",
        "ans = [0.041772570515350445, 0.8390245074625319, 0.005653302662216329, -0.8864503806400986]\n",
        "for dim in range(4):\n",
        "  ok = 'OK' if abs(logits[dim].grad - ans[dim]) < 1e-5 else 'WRONG!'\n",
        "  print(f\"{ok} for dim {dim}: expected {ans[dim]}, yours returns {logits[dim].grad}\")\n"
      ],
      "metadata": {
        "id": "VgWvwVQNAvnI",
        "outputId": "867c1086-d1c9-44c0-86e6-9efd7b874123",
        "colab": {
          "base_uri": "https://localhost:8080/"
        }
      },
      "execution_count": 26,
      "outputs": [
        {
          "output_type": "stream",
          "name": "stdout",
          "text": [
            "denominator Value(data=23.939154034883327) counts [Value(data=1.0), Value(data=20.085536923187668), Value(data=0.1353352832366127), Value(data=2.718281828459045)]\n",
            "probs1 [Value(data=0.04177257051535045), Value(data=0.839024507462532), Value(data=0.00565330266221633), Value(data=0.11354961935990122)]\n",
            "probs [Value(data=0.04177257051535045), Value(data=0.839024507462532), Value(data=0.00565330266221633), Value(data=0.11354961935990122)] Value(data=0.944814317280191)\n",
            "-1.0 -0.944814317280191 1.0 -1 -0.944814317280191\n",
            "log -3.824711032511114\n",
            "-0.15976801130640933 -10.396642498781793 -3.824711032511114 0.04177257051535045 2.718281828459045\n",
            "n -1\n",
            "x 23.939154034883327\n",
            "out grad -10.396642498781793\n",
            "Value(data=0.04177257051535045) -10.396642498781793 {Value(data=23.939154034883327)}\n",
            "0.944814317280191\n",
            "WRONG! for dim 0: expected 0.041772570515350445, yours returns 0.018141596869731172\n",
            "WRONG! for dim 1: expected 0.8390245074625319, yours returns 0.3643837137725713\n",
            "WRONG! for dim 2: expected 0.005653302662216329, yours returns 0.0024551981507295144\n",
            "WRONG! for dim 3: expected -0.8864503806400986, yours returns -0.38498050879303203\n"
          ]
        }
      ]
    },
    {
      "cell_type": "code",
      "source": [
        "draw_dot(loss)"
      ],
      "metadata": {
        "id": "5l4pV7zMESa1",
        "outputId": "8b891157-e621-4bd4-f09f-0ce1d202021d",
        "colab": {
          "base_uri": "https://localhost:8080/",
          "height": 437
        }
      },
      "execution_count": 20,
      "outputs": [
        {
          "output_type": "execute_result",
          "data": {
            "image/svg+xml": "<?xml version=\"1.0\" encoding=\"UTF-8\" standalone=\"no\"?>\n<!DOCTYPE svg PUBLIC \"-//W3C//DTD SVG 1.1//EN\"\n \"http://www.w3.org/Graphics/SVG/1.1/DTD/svg11.dtd\">\n<!-- Generated by graphviz version 2.43.0 (0)\n -->\n<!-- Title: %3 Pages: 1 -->\n<svg width=\"3021pt\" height=\"297pt\"\n viewBox=\"0.00 0.00 3021.00 297.00\" xmlns=\"http://www.w3.org/2000/svg\" xmlns:xlink=\"http://www.w3.org/1999/xlink\">\n<g id=\"graph0\" class=\"graph\" transform=\"scale(1 1) rotate(0) translate(4 293)\">\n<title>%3</title>\n<polygon fill=\"white\" stroke=\"transparent\" points=\"-4,4 -4,-293 3017,-293 3017,4 -4,4\"/>\n<!-- 136472373824048 -->\n<g id=\"node1\" class=\"node\">\n<title>136472373824048</title>\n<polygon fill=\"none\" stroke=\"black\" points=\"312.5,-252.5 312.5,-288.5 494.5,-288.5 494.5,-252.5 312.5,-252.5\"/>\n<text text-anchor=\"middle\" x=\"322.5\" y=\"-266.8\" font-family=\"Times,serif\" font-size=\"14.00\"> </text>\n<polyline fill=\"none\" stroke=\"black\" points=\"332.5,-252.5 332.5,-288.5 \"/>\n<text text-anchor=\"middle\" x=\"372.5\" y=\"-266.8\" font-family=\"Times,serif\" font-size=\"14.00\">data 0.0000</text>\n<polyline fill=\"none\" stroke=\"black\" points=\"412.5,-252.5 412.5,-288.5 \"/>\n<text text-anchor=\"middle\" x=\"453.5\" y=\"-266.8\" font-family=\"Times,serif\" font-size=\"14.00\">grad 0.0181</text>\n</g>\n<!-- 136472373824912+ -->\n<g id=\"node26\" class=\"node\">\n<title>136472373824912+</title>\n<ellipse fill=\"none\" stroke=\"black\" cx=\"559\" cy=\"-215.5\" rx=\"27\" ry=\"18\"/>\n<text text-anchor=\"middle\" x=\"559\" y=\"-211.8\" font-family=\"Times,serif\" font-size=\"14.00\">+</text>\n</g>\n<!-- 136472373824048&#45;&gt;136472373824912+ -->\n<g id=\"edge27\" class=\"edge\">\n<title>136472373824048&#45;&gt;136472373824912+</title>\n<path fill=\"none\" stroke=\"black\" d=\"M469.84,-252.41C478.7,-249.61 487.62,-246.61 496,-243.5 506.49,-239.61 517.7,-234.76 527.67,-230.2\"/>\n<polygon fill=\"black\" stroke=\"black\" points=\"529.2,-233.35 536.78,-225.95 526.24,-227 529.2,-233.35\"/>\n</g>\n<!-- 136472925470336 -->\n<g id=\"node2\" class=\"node\">\n<title>136472925470336</title>\n<polygon fill=\"none\" stroke=\"black\" points=\"2514,-55.5 2514,-91.5 2705,-91.5 2705,-55.5 2514,-55.5\"/>\n<text text-anchor=\"middle\" x=\"2524\" y=\"-69.8\" font-family=\"Times,serif\" font-size=\"14.00\"> </text>\n<polyline fill=\"none\" stroke=\"black\" points=\"2534,-55.5 2534,-91.5 \"/>\n<text text-anchor=\"middle\" x=\"2576.5\" y=\"-69.8\" font-family=\"Times,serif\" font-size=\"14.00\">data &#45;0.9448</text>\n<polyline fill=\"none\" stroke=\"black\" points=\"2619,-55.5 2619,-91.5 \"/>\n<text text-anchor=\"middle\" x=\"2662\" y=\"-69.8\" font-family=\"Times,serif\" font-size=\"14.00\">grad &#45;1.0000</text>\n</g>\n<!-- 136472373837008* -->\n<g id=\"node11\" class=\"node\">\n<title>136472373837008*</title>\n<ellipse fill=\"none\" stroke=\"black\" cx=\"2768\" cy=\"-45.5\" rx=\"27\" ry=\"18\"/>\n<text text-anchor=\"middle\" x=\"2768\" y=\"-41.8\" font-family=\"Times,serif\" font-size=\"14.00\">*</text>\n</g>\n<!-- 136472925470336&#45;&gt;136472373837008* -->\n<g id=\"edge22\" class=\"edge\">\n<title>136472925470336&#45;&gt;136472373837008*</title>\n<path fill=\"none\" stroke=\"black\" d=\"M2705.15,-56.57C2714.46,-54.9 2723.44,-53.29 2731.54,-51.84\"/>\n<polygon fill=\"black\" stroke=\"black\" points=\"2732.41,-55.24 2741.64,-50.04 2731.18,-48.35 2732.41,-55.24\"/>\n</g>\n<!-- 136472925470336log -->\n<g id=\"node3\" class=\"node\">\n<title>136472925470336log</title>\n<ellipse fill=\"none\" stroke=\"black\" cx=\"2451\" cy=\"-73.5\" rx=\"27\" ry=\"18\"/>\n<text text-anchor=\"middle\" x=\"2451\" y=\"-69.8\" font-family=\"Times,serif\" font-size=\"14.00\">log</text>\n</g>\n<!-- 136472925470336log&#45;&gt;136472925470336 -->\n<g id=\"edge1\" class=\"edge\">\n<title>136472925470336log&#45;&gt;136472925470336</title>\n<path fill=\"none\" stroke=\"black\" d=\"M2478.19,-73.5C2485.67,-73.5 2494.31,-73.5 2503.51,-73.5\"/>\n<polygon fill=\"black\" stroke=\"black\" points=\"2503.68,-77 2513.68,-73.5 2503.68,-70 2503.68,-77\"/>\n</g>\n<!-- 136472373831824 -->\n<g id=\"node4\" class=\"node\">\n<title>136472373831824</title>\n<polygon fill=\"none\" stroke=\"black\" points=\"938,-142.5 938,-178.5 1127,-178.5 1127,-142.5 938,-142.5\"/>\n<text text-anchor=\"middle\" x=\"948\" y=\"-156.8\" font-family=\"Times,serif\" font-size=\"14.00\"> </text>\n<polyline fill=\"none\" stroke=\"black\" points=\"958,-142.5 958,-178.5 \"/>\n<text text-anchor=\"middle\" x=\"1001.5\" y=\"-156.8\" font-family=\"Times,serif\" font-size=\"14.00\">data 21.0855</text>\n<polyline fill=\"none\" stroke=\"black\" points=\"1045,-142.5 1045,-178.5 \"/>\n<text text-anchor=\"middle\" x=\"1086\" y=\"-156.8\" font-family=\"Times,serif\" font-size=\"14.00\">grad 0.0181</text>\n</g>\n<!-- 136472373833552+ -->\n<g id=\"node22\" class=\"node\">\n<title>136472373833552+</title>\n<ellipse fill=\"none\" stroke=\"black\" cx=\"1190\" cy=\"-105.5\" rx=\"27\" ry=\"18\"/>\n<text text-anchor=\"middle\" x=\"1190\" y=\"-101.8\" font-family=\"Times,serif\" font-size=\"14.00\">+</text>\n</g>\n<!-- 136472373831824&#45;&gt;136472373833552+ -->\n<g id=\"edge17\" class=\"edge\">\n<title>136472373831824&#45;&gt;136472373833552+</title>\n<path fill=\"none\" stroke=\"black\" d=\"M1097.46,-142.46C1107.41,-139.33 1117.53,-135.97 1127,-132.5 1137.25,-128.75 1148.24,-124.16 1158.07,-119.84\"/>\n<polygon fill=\"black\" stroke=\"black\" points=\"1159.75,-122.92 1167.45,-115.64 1156.89,-116.53 1159.75,-122.92\"/>\n</g>\n<!-- 136472373831824+ -->\n<g id=\"node5\" class=\"node\">\n<title>136472373831824+</title>\n<ellipse fill=\"none\" stroke=\"black\" cx=\"875\" cy=\"-160.5\" rx=\"27\" ry=\"18\"/>\n<text text-anchor=\"middle\" x=\"875\" y=\"-156.8\" font-family=\"Times,serif\" font-size=\"14.00\">+</text>\n</g>\n<!-- 136472373831824+&#45;&gt;136472373831824 -->\n<g id=\"edge2\" class=\"edge\">\n<title>136472373831824+&#45;&gt;136472373831824</title>\n<path fill=\"none\" stroke=\"black\" d=\"M902.03,-160.5C909.66,-160.5 918.52,-160.5 927.94,-160.5\"/>\n<polygon fill=\"black\" stroke=\"black\" points=\"927.94,-164 937.94,-160.5 927.94,-157 927.94,-164\"/>\n</g>\n<!-- 136472925462176 -->\n<g id=\"node6\" class=\"node\">\n<title>136472925462176</title>\n<polygon fill=\"none\" stroke=\"black\" points=\"938,-32.5 938,-68.5 1127,-68.5 1127,-32.5 938,-32.5\"/>\n<text text-anchor=\"middle\" x=\"949.5\" y=\"-46.8\" font-family=\"Times,serif\" font-size=\"14.00\">d</text>\n<polyline fill=\"none\" stroke=\"black\" points=\"961,-32.5 961,-68.5 \"/>\n<text text-anchor=\"middle\" x=\"1001\" y=\"-46.8\" font-family=\"Times,serif\" font-size=\"14.00\">data 1.0000</text>\n<polyline fill=\"none\" stroke=\"black\" points=\"1041,-32.5 1041,-68.5 \"/>\n<text text-anchor=\"middle\" x=\"1084\" y=\"-46.8\" font-family=\"Times,serif\" font-size=\"14.00\">grad &#45;0.3850</text>\n</g>\n<!-- 136472373836192exp -->\n<g id=\"node28\" class=\"node\">\n<title>136472373836192exp</title>\n<ellipse fill=\"none\" stroke=\"black\" cx=\"1190\" cy=\"-50.5\" rx=\"27\" ry=\"18\"/>\n<text text-anchor=\"middle\" x=\"1190\" y=\"-46.8\" font-family=\"Times,serif\" font-size=\"14.00\">exp</text>\n</g>\n<!-- 136472925462176&#45;&gt;136472373836192exp -->\n<g id=\"edge29\" class=\"edge\">\n<title>136472925462176&#45;&gt;136472373836192exp</title>\n<path fill=\"none\" stroke=\"black\" d=\"M1127.1,-50.5C1136.12,-50.5 1144.84,-50.5 1152.75,-50.5\"/>\n<polygon fill=\"black\" stroke=\"black\" points=\"1152.99,-54 1162.99,-50.5 1152.99,-47 1152.99,-54\"/>\n</g>\n<!-- 136472373823664 -->\n<g id=\"node7\" class=\"node\">\n<title>136472373823664</title>\n<polygon fill=\"none\" stroke=\"black\" points=\"1568,-79.5 1568,-115.5 1757,-115.5 1757,-79.5 1568,-79.5\"/>\n<text text-anchor=\"middle\" x=\"1578\" y=\"-93.8\" font-family=\"Times,serif\" font-size=\"14.00\"> </text>\n<polyline fill=\"none\" stroke=\"black\" points=\"1588,-79.5 1588,-115.5 \"/>\n<text text-anchor=\"middle\" x=\"1631.5\" y=\"-93.8\" font-family=\"Times,serif\" font-size=\"14.00\">data 23.9392</text>\n<polyline fill=\"none\" stroke=\"black\" points=\"1675,-79.5 1675,-115.5 \"/>\n<text text-anchor=\"middle\" x=\"1716\" y=\"-93.8\" font-family=\"Times,serif\" font-size=\"14.00\">grad 0.0181</text>\n</g>\n<!-- 136472373830480pow -->\n<g id=\"node20\" class=\"node\">\n<title>136472373830480pow</title>\n<ellipse fill=\"none\" stroke=\"black\" cx=\"1820\" cy=\"-97.5\" rx=\"27\" ry=\"18\"/>\n<text text-anchor=\"middle\" x=\"1820\" y=\"-93.8\" font-family=\"Times,serif\" font-size=\"14.00\">pow</text>\n</g>\n<!-- 136472373823664&#45;&gt;136472373830480pow -->\n<g id=\"edge21\" class=\"edge\">\n<title>136472373823664&#45;&gt;136472373830480pow</title>\n<path fill=\"none\" stroke=\"black\" d=\"M1757.1,-97.5C1766.12,-97.5 1774.84,-97.5 1782.75,-97.5\"/>\n<polygon fill=\"black\" stroke=\"black\" points=\"1782.99,-101 1792.99,-97.5 1782.99,-94 1782.99,-101\"/>\n</g>\n<!-- 136472373823664+ -->\n<g id=\"node8\" class=\"node\">\n<title>136472373823664+</title>\n<ellipse fill=\"none\" stroke=\"black\" cx=\"1505\" cy=\"-97.5\" rx=\"27\" ry=\"18\"/>\n<text text-anchor=\"middle\" x=\"1505\" y=\"-93.8\" font-family=\"Times,serif\" font-size=\"14.00\">+</text>\n</g>\n<!-- 136472373823664+&#45;&gt;136472373823664 -->\n<g id=\"edge3\" class=\"edge\">\n<title>136472373823664+&#45;&gt;136472373823664</title>\n<path fill=\"none\" stroke=\"black\" d=\"M1532.03,-97.5C1539.66,-97.5 1548.52,-97.5 1557.94,-97.5\"/>\n<polygon fill=\"black\" stroke=\"black\" points=\"1557.94,-101 1567.94,-97.5 1557.94,-94 1557.94,-101\"/>\n</g>\n<!-- 136472925466304 -->\n<g id=\"node9\" class=\"node\">\n<title>136472925466304</title>\n<polygon fill=\"none\" stroke=\"black\" points=\"311,-142.5 311,-178.5 496,-178.5 496,-142.5 311,-142.5\"/>\n<text text-anchor=\"middle\" x=\"322.5\" y=\"-156.8\" font-family=\"Times,serif\" font-size=\"14.00\">b</text>\n<polyline fill=\"none\" stroke=\"black\" points=\"334,-142.5 334,-178.5 \"/>\n<text text-anchor=\"middle\" x=\"374\" y=\"-156.8\" font-family=\"Times,serif\" font-size=\"14.00\">data 3.0000</text>\n<polyline fill=\"none\" stroke=\"black\" points=\"414,-142.5 414,-178.5 \"/>\n<text text-anchor=\"middle\" x=\"455\" y=\"-156.8\" font-family=\"Times,serif\" font-size=\"14.00\">grad 0.3644</text>\n</g>\n<!-- 136472373833456exp -->\n<g id=\"node14\" class=\"node\">\n<title>136472373833456exp</title>\n<ellipse fill=\"none\" stroke=\"black\" cx=\"559\" cy=\"-160.5\" rx=\"27\" ry=\"18\"/>\n<text text-anchor=\"middle\" x=\"559\" y=\"-156.8\" font-family=\"Times,serif\" font-size=\"14.00\">exp</text>\n</g>\n<!-- 136472925466304&#45;&gt;136472373833456exp -->\n<g id=\"edge25\" class=\"edge\">\n<title>136472925466304&#45;&gt;136472373833456exp</title>\n<path fill=\"none\" stroke=\"black\" d=\"M496.01,-160.5C505.01,-160.5 513.74,-160.5 521.66,-160.5\"/>\n<polygon fill=\"black\" stroke=\"black\" points=\"521.91,-164 531.91,-160.5 521.91,-157 521.91,-164\"/>\n</g>\n<!-- 136472373837008 -->\n<g id=\"node10\" class=\"node\">\n<title>136472373837008</title>\n<polygon fill=\"none\" stroke=\"black\" points=\"2831,-27.5 2831,-63.5 3013,-63.5 3013,-27.5 2831,-27.5\"/>\n<text text-anchor=\"middle\" x=\"2841\" y=\"-41.8\" font-family=\"Times,serif\" font-size=\"14.00\"> </text>\n<polyline fill=\"none\" stroke=\"black\" points=\"2851,-27.5 2851,-63.5 \"/>\n<text text-anchor=\"middle\" x=\"2891\" y=\"-41.8\" font-family=\"Times,serif\" font-size=\"14.00\">data 0.9448</text>\n<polyline fill=\"none\" stroke=\"black\" points=\"2931,-27.5 2931,-63.5 \"/>\n<text text-anchor=\"middle\" x=\"2972\" y=\"-41.8\" font-family=\"Times,serif\" font-size=\"14.00\">grad 1.0000</text>\n</g>\n<!-- 136472373837008*&#45;&gt;136472373837008 -->\n<g id=\"edge4\" class=\"edge\">\n<title>136472373837008*&#45;&gt;136472373837008</title>\n<path fill=\"none\" stroke=\"black\" d=\"M2795.13,-45.5C2802.67,-45.5 2811.39,-45.5 2820.64,-45.5\"/>\n<polygon fill=\"black\" stroke=\"black\" points=\"2820.87,-49 2830.87,-45.5 2820.87,-42 2820.87,-49\"/>\n</g>\n<!-- 136472925462752 -->\n<g id=\"node12\" class=\"node\">\n<title>136472925462752</title>\n<polygon fill=\"none\" stroke=\"black\" points=\"622,-87.5 622,-123.5 812,-123.5 812,-87.5 622,-87.5\"/>\n<text text-anchor=\"middle\" x=\"633.5\" y=\"-101.8\" font-family=\"Times,serif\" font-size=\"14.00\">c</text>\n<polyline fill=\"none\" stroke=\"black\" points=\"645,-87.5 645,-123.5 \"/>\n<text text-anchor=\"middle\" x=\"687.5\" y=\"-101.8\" font-family=\"Times,serif\" font-size=\"14.00\">data &#45;2.0000</text>\n<polyline fill=\"none\" stroke=\"black\" points=\"730,-87.5 730,-123.5 \"/>\n<text text-anchor=\"middle\" x=\"771\" y=\"-101.8\" font-family=\"Times,serif\" font-size=\"14.00\">grad 0.0025</text>\n</g>\n<!-- 136472373837248exp -->\n<g id=\"node30\" class=\"node\">\n<title>136472373837248exp</title>\n<ellipse fill=\"none\" stroke=\"black\" cx=\"875\" cy=\"-105.5\" rx=\"27\" ry=\"18\"/>\n<text text-anchor=\"middle\" x=\"875\" y=\"-101.8\" font-family=\"Times,serif\" font-size=\"14.00\">exp</text>\n</g>\n<!-- 136472925462752&#45;&gt;136472373837248exp -->\n<g id=\"edge18\" class=\"edge\">\n<title>136472925462752&#45;&gt;136472373837248exp</title>\n<path fill=\"none\" stroke=\"black\" d=\"M812.34,-105.5C821.26,-105.5 829.87,-105.5 837.69,-105.5\"/>\n<polygon fill=\"black\" stroke=\"black\" points=\"837.82,-109 847.82,-105.5 837.82,-102 837.82,-109\"/>\n</g>\n<!-- 136472373833456 -->\n<g id=\"node13\" class=\"node\">\n<title>136472373833456</title>\n<polygon fill=\"none\" stroke=\"black\" points=\"622.5,-142.5 622.5,-178.5 811.5,-178.5 811.5,-142.5 622.5,-142.5\"/>\n<text text-anchor=\"middle\" x=\"632.5\" y=\"-156.8\" font-family=\"Times,serif\" font-size=\"14.00\"> </text>\n<polyline fill=\"none\" stroke=\"black\" points=\"642.5,-142.5 642.5,-178.5 \"/>\n<text text-anchor=\"middle\" x=\"686\" y=\"-156.8\" font-family=\"Times,serif\" font-size=\"14.00\">data 20.0855</text>\n<polyline fill=\"none\" stroke=\"black\" points=\"729.5,-142.5 729.5,-178.5 \"/>\n<text text-anchor=\"middle\" x=\"770.5\" y=\"-156.8\" font-family=\"Times,serif\" font-size=\"14.00\">grad 0.0181</text>\n</g>\n<!-- 136472373833456&#45;&gt;136472373831824+ -->\n<g id=\"edge23\" class=\"edge\">\n<title>136472373833456&#45;&gt;136472373831824+</title>\n<path fill=\"none\" stroke=\"black\" d=\"M811.9,-160.5C821.05,-160.5 829.9,-160.5 837.91,-160.5\"/>\n<polygon fill=\"black\" stroke=\"black\" points=\"837.91,-164 847.91,-160.5 837.91,-157 837.91,-164\"/>\n</g>\n<!-- 136472373833456exp&#45;&gt;136472373833456 -->\n<g id=\"edge5\" class=\"edge\">\n<title>136472373833456exp&#45;&gt;136472373833456</title>\n<path fill=\"none\" stroke=\"black\" d=\"M586.11,-160.5C593.84,-160.5 602.8,-160.5 612.35,-160.5\"/>\n<polygon fill=\"black\" stroke=\"black\" points=\"612.48,-164 622.48,-160.5 612.48,-157 612.48,-164\"/>\n</g>\n<!-- 136472925466880 -->\n<g id=\"node15\" class=\"node\">\n<title>136472925466880</title>\n<polygon fill=\"none\" stroke=\"black\" points=\"312.5,-197.5 312.5,-233.5 494.5,-233.5 494.5,-197.5 312.5,-197.5\"/>\n<text text-anchor=\"middle\" x=\"322.5\" y=\"-211.8\" font-family=\"Times,serif\" font-size=\"14.00\"> </text>\n<polyline fill=\"none\" stroke=\"black\" points=\"332.5,-197.5 332.5,-233.5 \"/>\n<text text-anchor=\"middle\" x=\"372.5\" y=\"-211.8\" font-family=\"Times,serif\" font-size=\"14.00\">data 1.0000</text>\n<polyline fill=\"none\" stroke=\"black\" points=\"412.5,-197.5 412.5,-233.5 \"/>\n<text text-anchor=\"middle\" x=\"453.5\" y=\"-211.8\" font-family=\"Times,serif\" font-size=\"14.00\">grad 0.0181</text>\n</g>\n<!-- 136472925466880&#45;&gt;136472373824912+ -->\n<g id=\"edge30\" class=\"edge\">\n<title>136472925466880&#45;&gt;136472373824912+</title>\n<path fill=\"none\" stroke=\"black\" d=\"M494.68,-215.5C504.22,-215.5 513.48,-215.5 521.84,-215.5\"/>\n<polygon fill=\"black\" stroke=\"black\" points=\"521.9,-219 531.9,-215.5 521.9,-212 521.9,-219\"/>\n</g>\n<!-- 136472925466880exp -->\n<g id=\"node16\" class=\"node\">\n<title>136472925466880exp</title>\n<ellipse fill=\"none\" stroke=\"black\" cx=\"248\" cy=\"-215.5\" rx=\"27\" ry=\"18\"/>\n<text text-anchor=\"middle\" x=\"248\" y=\"-211.8\" font-family=\"Times,serif\" font-size=\"14.00\">exp</text>\n</g>\n<!-- 136472925466880exp&#45;&gt;136472925466880 -->\n<g id=\"edge6\" class=\"edge\">\n<title>136472925466880exp&#45;&gt;136472925466880</title>\n<path fill=\"none\" stroke=\"black\" d=\"M275.04,-215.5C283.06,-215.5 292.41,-215.5 302.35,-215.5\"/>\n<polygon fill=\"black\" stroke=\"black\" points=\"302.45,-219 312.45,-215.5 302.45,-212 302.45,-219\"/>\n</g>\n<!-- 136472373826352 -->\n<g id=\"node17\" class=\"node\">\n<title>136472373826352</title>\n<polygon fill=\"none\" stroke=\"black\" points=\"2202,-55.5 2202,-91.5 2388,-91.5 2388,-55.5 2202,-55.5\"/>\n<text text-anchor=\"middle\" x=\"2212\" y=\"-69.8\" font-family=\"Times,serif\" font-size=\"14.00\"> </text>\n<polyline fill=\"none\" stroke=\"black\" points=\"2222,-55.5 2222,-91.5 \"/>\n<text text-anchor=\"middle\" x=\"2262\" y=\"-69.8\" font-family=\"Times,serif\" font-size=\"14.00\">data 0.1135</text>\n<polyline fill=\"none\" stroke=\"black\" points=\"2302,-55.5 2302,-91.5 \"/>\n<text text-anchor=\"middle\" x=\"2345\" y=\"-69.8\" font-family=\"Times,serif\" font-size=\"14.00\">grad &#45;3.8247</text>\n</g>\n<!-- 136472373826352&#45;&gt;136472925470336log -->\n<g id=\"edge15\" class=\"edge\">\n<title>136472373826352&#45;&gt;136472925470336log</title>\n<path fill=\"none\" stroke=\"black\" d=\"M2388.25,-73.5C2397.15,-73.5 2405.76,-73.5 2413.59,-73.5\"/>\n<polygon fill=\"black\" stroke=\"black\" points=\"2413.73,-77 2423.73,-73.5 2413.73,-70 2413.73,-77\"/>\n</g>\n<!-- 136472373826352* -->\n<g id=\"node18\" class=\"node\">\n<title>136472373826352*</title>\n<ellipse fill=\"none\" stroke=\"black\" cx=\"2139\" cy=\"-73.5\" rx=\"27\" ry=\"18\"/>\n<text text-anchor=\"middle\" x=\"2139\" y=\"-69.8\" font-family=\"Times,serif\" font-size=\"14.00\">*</text>\n</g>\n<!-- 136472373826352*&#45;&gt;136472373826352 -->\n<g id=\"edge7\" class=\"edge\">\n<title>136472373826352*&#45;&gt;136472373826352</title>\n<path fill=\"none\" stroke=\"black\" d=\"M2166.12,-73.5C2173.62,-73.5 2182.29,-73.5 2191.5,-73.5\"/>\n<polygon fill=\"black\" stroke=\"black\" points=\"2191.69,-77 2201.69,-73.5 2191.69,-70 2191.69,-77\"/>\n</g>\n<!-- 136472373830480 -->\n<g id=\"node19\" class=\"node\">\n<title>136472373830480</title>\n<polygon fill=\"none\" stroke=\"black\" points=\"1883,-79.5 1883,-115.5 2076,-115.5 2076,-79.5 1883,-79.5\"/>\n<text text-anchor=\"middle\" x=\"1893\" y=\"-93.8\" font-family=\"Times,serif\" font-size=\"14.00\"> </text>\n<polyline fill=\"none\" stroke=\"black\" points=\"1903,-79.5 1903,-115.5 \"/>\n<text text-anchor=\"middle\" x=\"1943\" y=\"-93.8\" font-family=\"Times,serif\" font-size=\"14.00\">data 0.0418</text>\n<polyline fill=\"none\" stroke=\"black\" points=\"1983,-79.5 1983,-115.5 \"/>\n<text text-anchor=\"middle\" x=\"2029.5\" y=\"-93.8\" font-family=\"Times,serif\" font-size=\"14.00\">grad &#45;10.3966</text>\n</g>\n<!-- 136472373830480&#45;&gt;136472373826352* -->\n<g id=\"edge26\" class=\"edge\">\n<title>136472373830480&#45;&gt;136472373826352*</title>\n<path fill=\"none\" stroke=\"black\" d=\"M2076.2,-82.92C2085.43,-81.51 2094.33,-80.15 2102.37,-78.93\"/>\n<polygon fill=\"black\" stroke=\"black\" points=\"2103.03,-82.37 2112.38,-77.4 2101.97,-75.45 2103.03,-82.37\"/>\n</g>\n<!-- 136472373830480pow&#45;&gt;136472373830480 -->\n<g id=\"edge8\" class=\"edge\">\n<title>136472373830480pow&#45;&gt;136472373830480</title>\n<path fill=\"none\" stroke=\"black\" d=\"M1847.01,-97.5C1854.52,-97.5 1863.21,-97.5 1872.47,-97.5\"/>\n<polygon fill=\"black\" stroke=\"black\" points=\"1872.72,-101 1882.72,-97.5 1872.72,-94 1872.72,-101\"/>\n</g>\n<!-- 136472373833552 -->\n<g id=\"node21\" class=\"node\">\n<title>136472373833552</title>\n<polygon fill=\"none\" stroke=\"black\" points=\"1253,-87.5 1253,-123.5 1442,-123.5 1442,-87.5 1253,-87.5\"/>\n<text text-anchor=\"middle\" x=\"1263\" y=\"-101.8\" font-family=\"Times,serif\" font-size=\"14.00\"> </text>\n<polyline fill=\"none\" stroke=\"black\" points=\"1273,-87.5 1273,-123.5 \"/>\n<text text-anchor=\"middle\" x=\"1316.5\" y=\"-101.8\" font-family=\"Times,serif\" font-size=\"14.00\">data 21.2209</text>\n<polyline fill=\"none\" stroke=\"black\" points=\"1360,-87.5 1360,-123.5 \"/>\n<text text-anchor=\"middle\" x=\"1401\" y=\"-101.8\" font-family=\"Times,serif\" font-size=\"14.00\">grad 0.0181</text>\n</g>\n<!-- 136472373833552&#45;&gt;136472373823664+ -->\n<g id=\"edge13\" class=\"edge\">\n<title>136472373833552&#45;&gt;136472373823664+</title>\n<path fill=\"none\" stroke=\"black\" d=\"M1442.1,-100.68C1451.12,-100.22 1459.84,-99.77 1467.75,-99.36\"/>\n<polygon fill=\"black\" stroke=\"black\" points=\"1468.19,-102.85 1477.99,-98.84 1467.83,-95.86 1468.19,-102.85\"/>\n</g>\n<!-- 136472373833552+&#45;&gt;136472373833552 -->\n<g id=\"edge9\" class=\"edge\">\n<title>136472373833552+&#45;&gt;136472373833552</title>\n<path fill=\"none\" stroke=\"black\" d=\"M1217.03,-105.5C1224.66,-105.5 1233.52,-105.5 1242.94,-105.5\"/>\n<polygon fill=\"black\" stroke=\"black\" points=\"1242.94,-109 1252.94,-105.5 1242.94,-102 1242.94,-109\"/>\n</g>\n<!-- 136472925466448 -->\n<g id=\"node23\" class=\"node\">\n<title>136472925466448</title>\n<polygon fill=\"none\" stroke=\"black\" points=\"0,-197.5 0,-233.5 185,-233.5 185,-197.5 0,-197.5\"/>\n<text text-anchor=\"middle\" x=\"11.5\" y=\"-211.8\" font-family=\"Times,serif\" font-size=\"14.00\">a</text>\n<polyline fill=\"none\" stroke=\"black\" points=\"23,-197.5 23,-233.5 \"/>\n<text text-anchor=\"middle\" x=\"63\" y=\"-211.8\" font-family=\"Times,serif\" font-size=\"14.00\">data 0.0000</text>\n<polyline fill=\"none\" stroke=\"black\" points=\"103,-197.5 103,-233.5 \"/>\n<text text-anchor=\"middle\" x=\"144\" y=\"-211.8\" font-family=\"Times,serif\" font-size=\"14.00\">grad 0.0181</text>\n</g>\n<!-- 136472925466448&#45;&gt;136472925466880exp -->\n<g id=\"edge28\" class=\"edge\">\n<title>136472925466448&#45;&gt;136472925466880exp</title>\n<path fill=\"none\" stroke=\"black\" d=\"M185.01,-215.5C194.01,-215.5 202.74,-215.5 210.66,-215.5\"/>\n<polygon fill=\"black\" stroke=\"black\" points=\"210.91,-219 220.91,-215.5 210.91,-212 210.91,-219\"/>\n</g>\n<!-- 136472373828944 -->\n<g id=\"node24\" class=\"node\">\n<title>136472373828944</title>\n<polygon fill=\"none\" stroke=\"black\" points=\"2514,-0.5 2514,-36.5 2705,-36.5 2705,-0.5 2514,-0.5\"/>\n<text text-anchor=\"middle\" x=\"2524\" y=\"-14.8\" font-family=\"Times,serif\" font-size=\"14.00\"> </text>\n<polyline fill=\"none\" stroke=\"black\" points=\"2534,-0.5 2534,-36.5 \"/>\n<text text-anchor=\"middle\" x=\"2576.5\" y=\"-14.8\" font-family=\"Times,serif\" font-size=\"14.00\">data &#45;1.0000</text>\n<polyline fill=\"none\" stroke=\"black\" points=\"2619,-0.5 2619,-36.5 \"/>\n<text text-anchor=\"middle\" x=\"2662\" y=\"-14.8\" font-family=\"Times,serif\" font-size=\"14.00\">grad &#45;0.9448</text>\n</g>\n<!-- 136472373828944&#45;&gt;136472373837008* -->\n<g id=\"edge20\" class=\"edge\">\n<title>136472373828944&#45;&gt;136472373837008*</title>\n<path fill=\"none\" stroke=\"black\" d=\"M2705.15,-34.83C2714.46,-36.44 2723.44,-37.99 2731.54,-39.38\"/>\n<polygon fill=\"black\" stroke=\"black\" points=\"2731.19,-42.87 2741.64,-41.12 2732.38,-35.98 2731.19,-42.87\"/>\n</g>\n<!-- 136472373824912 -->\n<g id=\"node25\" class=\"node\">\n<title>136472373824912</title>\n<polygon fill=\"none\" stroke=\"black\" points=\"626,-197.5 626,-233.5 808,-233.5 808,-197.5 626,-197.5\"/>\n<text text-anchor=\"middle\" x=\"636\" y=\"-211.8\" font-family=\"Times,serif\" font-size=\"14.00\"> </text>\n<polyline fill=\"none\" stroke=\"black\" points=\"646,-197.5 646,-233.5 \"/>\n<text text-anchor=\"middle\" x=\"686\" y=\"-211.8\" font-family=\"Times,serif\" font-size=\"14.00\">data 1.0000</text>\n<polyline fill=\"none\" stroke=\"black\" points=\"726,-197.5 726,-233.5 \"/>\n<text text-anchor=\"middle\" x=\"767\" y=\"-211.8\" font-family=\"Times,serif\" font-size=\"14.00\">grad 0.0181</text>\n</g>\n<!-- 136472373824912&#45;&gt;136472373831824+ -->\n<g id=\"edge24\" class=\"edge\">\n<title>136472373824912&#45;&gt;136472373831824+</title>\n<path fill=\"none\" stroke=\"black\" d=\"M782.31,-197.48C792.31,-194.35 802.48,-190.98 812,-187.5 822.26,-183.75 833.24,-179.17 843.08,-174.84\"/>\n<polygon fill=\"black\" stroke=\"black\" points=\"844.75,-177.93 852.45,-170.65 841.9,-171.54 844.75,-177.93\"/>\n</g>\n<!-- 136472373824912+&#45;&gt;136472373824912 -->\n<g id=\"edge10\" class=\"edge\">\n<title>136472373824912+&#45;&gt;136472373824912</title>\n<path fill=\"none\" stroke=\"black\" d=\"M586.11,-215.5C594.74,-215.5 604.93,-215.5 615.74,-215.5\"/>\n<polygon fill=\"black\" stroke=\"black\" points=\"615.81,-219 625.81,-215.5 615.81,-212 615.81,-219\"/>\n</g>\n<!-- 136472373836192 -->\n<g id=\"node27\" class=\"node\">\n<title>136472373836192</title>\n<polygon fill=\"none\" stroke=\"black\" points=\"1254.5,-32.5 1254.5,-68.5 1440.5,-68.5 1440.5,-32.5 1254.5,-32.5\"/>\n<text text-anchor=\"middle\" x=\"1264.5\" y=\"-46.8\" font-family=\"Times,serif\" font-size=\"14.00\"> </text>\n<polyline fill=\"none\" stroke=\"black\" points=\"1274.5,-32.5 1274.5,-68.5 \"/>\n<text text-anchor=\"middle\" x=\"1314.5\" y=\"-46.8\" font-family=\"Times,serif\" font-size=\"14.00\">data 2.7183</text>\n<polyline fill=\"none\" stroke=\"black\" points=\"1354.5,-32.5 1354.5,-68.5 \"/>\n<text text-anchor=\"middle\" x=\"1397.5\" y=\"-46.8\" font-family=\"Times,serif\" font-size=\"14.00\">grad &#45;0.1416</text>\n</g>\n<!-- 136472373836192&#45;&gt;136472373823664+ -->\n<g id=\"edge19\" class=\"edge\">\n<title>136472373836192&#45;&gt;136472373823664+</title>\n<path fill=\"none\" stroke=\"black\" d=\"M1411.95,-68.54C1422.02,-71.48 1432.31,-74.54 1442,-77.5 1451.37,-80.36 1461.5,-83.58 1470.81,-86.58\"/>\n<polygon fill=\"black\" stroke=\"black\" points=\"1469.91,-89.97 1480.5,-89.73 1472.07,-83.31 1469.91,-89.97\"/>\n</g>\n<!-- 136472373836192&#45;&gt;136472373826352* -->\n<g id=\"edge14\" class=\"edge\">\n<title>136472373836192&#45;&gt;136472373826352*</title>\n<path fill=\"none\" stroke=\"black\" d=\"M1440.6,-50.5C1502.96,-50.5 1587.19,-50.5 1661.5,-50.5 1661.5,-50.5 1661.5,-50.5 1821,-50.5 1923.07,-50.5 2043.15,-62.51 2101.92,-69.17\"/>\n<polygon fill=\"black\" stroke=\"black\" points=\"2101.82,-72.68 2112.16,-70.35 2102.62,-65.73 2101.82,-72.68\"/>\n</g>\n<!-- 136472373836192exp&#45;&gt;136472373836192 -->\n<g id=\"edge11\" class=\"edge\">\n<title>136472373836192exp&#45;&gt;136472373836192</title>\n<path fill=\"none\" stroke=\"black\" d=\"M1217.03,-50.5C1225,-50.5 1234.31,-50.5 1244.2,-50.5\"/>\n<polygon fill=\"black\" stroke=\"black\" points=\"1244.27,-54 1254.27,-50.5 1244.27,-47 1244.27,-54\"/>\n</g>\n<!-- 136472373837248 -->\n<g id=\"node29\" class=\"node\">\n<title>136472373837248</title>\n<polygon fill=\"none\" stroke=\"black\" points=\"941.5,-87.5 941.5,-123.5 1123.5,-123.5 1123.5,-87.5 941.5,-87.5\"/>\n<text text-anchor=\"middle\" x=\"951.5\" y=\"-101.8\" font-family=\"Times,serif\" font-size=\"14.00\"> </text>\n<polyline fill=\"none\" stroke=\"black\" points=\"961.5,-87.5 961.5,-123.5 \"/>\n<text text-anchor=\"middle\" x=\"1001.5\" y=\"-101.8\" font-family=\"Times,serif\" font-size=\"14.00\">data 0.1353</text>\n<polyline fill=\"none\" stroke=\"black\" points=\"1041.5,-87.5 1041.5,-123.5 \"/>\n<text text-anchor=\"middle\" x=\"1082.5\" y=\"-101.8\" font-family=\"Times,serif\" font-size=\"14.00\">grad 0.0181</text>\n</g>\n<!-- 136472373837248&#45;&gt;136472373833552+ -->\n<g id=\"edge16\" class=\"edge\">\n<title>136472373837248&#45;&gt;136472373833552+</title>\n<path fill=\"none\" stroke=\"black\" d=\"M1123.5,-105.5C1133.84,-105.5 1143.87,-105.5 1152.85,-105.5\"/>\n<polygon fill=\"black\" stroke=\"black\" points=\"1152.87,-109 1162.87,-105.5 1152.87,-102 1152.87,-109\"/>\n</g>\n<!-- 136472373837248exp&#45;&gt;136472373837248 -->\n<g id=\"edge12\" class=\"edge\">\n<title>136472373837248exp&#45;&gt;136472373837248</title>\n<path fill=\"none\" stroke=\"black\" d=\"M902.03,-105.5C910.48,-105.5 920.42,-105.5 930.98,-105.5\"/>\n<polygon fill=\"black\" stroke=\"black\" points=\"931.27,-109 941.27,-105.5 931.27,-102 931.27,-109\"/>\n</g>\n</g>\n</svg>\n",
            "text/plain": [
              "<graphviz.graphs.Digraph at 0x7c1ef35d20e0>"
            ]
          },
          "metadata": {},
          "execution_count": 20
        }
      ]
    },
    {
      "cell_type": "code",
      "source": [
        "# verify the gradient using the torch library\n",
        "# torch should give you the exact same gradient\n",
        "import torch\n"
      ],
      "metadata": {
        "id": "q7ca1SVAGG1S"
      },
      "execution_count": null,
      "outputs": []
    }
  ]
}