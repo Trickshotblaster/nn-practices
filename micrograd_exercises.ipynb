{
  "nbformat": 4,
  "nbformat_minor": 0,
  "metadata": {
    "colab": {
      "provenance": [],
      "include_colab_link": true
    },
    "kernelspec": {
      "name": "python3",
      "display_name": "Python 3"
    },
    "language_info": {
      "name": "python"
    }
  },
  "cells": [
    {
      "cell_type": "markdown",
      "metadata": {
        "id": "view-in-github",
        "colab_type": "text"
      },
      "source": [
        "<a href=\"https://colab.research.google.com/github/Trickshotblaster/nn-practices/blob/main/micrograd_exercises.ipynb\" target=\"_parent\"><img src=\"https://colab.research.google.com/assets/colab-badge.svg\" alt=\"Open In Colab\"/></a>"
      ]
    },
    {
      "cell_type": "markdown",
      "source": [
        "# micrograd exercises\n",
        "\n",
        "1. watch the [micrograd video](https://www.youtube.com/watch?v=VMj-3S1tku0) on YouTube\n",
        "2. come back and complete these exercises to level up :)"
      ],
      "metadata": {
        "id": "JnGHatCI51JP"
      }
    },
    {
      "cell_type": "markdown",
      "source": [
        "## section 1: derivatives"
      ],
      "metadata": {
        "id": "OFt6NKOz6iBZ"
      }
    },
    {
      "cell_type": "code",
      "source": [
        "# here is a mathematical expression that takes 3 inputs and produces one output\n",
        "from math import sin, cos\n",
        "\n",
        "def f(a, b, c):\n",
        "  return -a**3 + sin(3*b) - 1.0/c + b**2.5 - a**0.5\n",
        "\n",
        "print(f(2, 3, 4))"
      ],
      "metadata": {
        "id": "3Jx9fCXl5xHd",
        "outputId": "47c59350-f553-44f7-b573-6734b749e161",
        "colab": {
          "base_uri": "https://localhost:8080/"
        }
      },
      "execution_count": 10,
      "outputs": [
        {
          "output_type": "stream",
          "name": "stdout",
          "text": [
            "6.336362190988558\n"
          ]
        }
      ]
    },
    {
      "cell_type": "code",
      "source": [
        "# write the function df that returns the analytical gradient of f\n",
        "# i.e. use your skills from calculus to take the derivative, then implement the formula\n",
        "# if you do not calculus then feel free to ask wolframalpha, e.g.:\n",
        "# https://www.wolframalpha.com/input?i=d%2Fda%28sin%283*a%29%29%29\n",
        "\n",
        "def gradf(a, b, c):\n",
        "\n",
        "  return [grada, gradb, gradc] # todo, return [df/da, df/db, df/dc]\n",
        "\n",
        "# expected answer is the list of\n",
        "ans = [-12.353553390593273, 10.25699027111255, 0.0625]\n",
        "yours = gradf(2, 3, 4)\n",
        "for dim in range(3):\n",
        "  ok = 'OK' if abs(yours[dim] - ans[dim]) < 1e-5 else 'WRONG!'\n",
        "  print(f\"{ok} for dim {dim}: expected {ans[dim]}, yours returns {yours[dim]}\")\n"
      ],
      "metadata": {
        "id": "qXaH59eL9zxf",
        "outputId": "c948003b-4995-40a6-e8e4-f12bb7dbd92d",
        "colab": {
          "base_uri": "https://localhost:8080/",
          "height": 366
        }
      },
      "execution_count": 11,
      "outputs": [
        {
          "output_type": "error",
          "ename": "NameError",
          "evalue": "ignored",
          "traceback": [
            "\u001b[0;31m---------------------------------------------------------------------------\u001b[0m",
            "\u001b[0;31mNameError\u001b[0m                                 Traceback (most recent call last)",
            "\u001b[0;32m<ipython-input-11-aa5b61b8f24b>\u001b[0m in \u001b[0;36m<cell line: 12>\u001b[0;34m()\u001b[0m\n\u001b[1;32m     10\u001b[0m \u001b[0;31m# expected answer is the list of\u001b[0m\u001b[0;34m\u001b[0m\u001b[0;34m\u001b[0m\u001b[0m\n\u001b[1;32m     11\u001b[0m \u001b[0mans\u001b[0m \u001b[0;34m=\u001b[0m \u001b[0;34m[\u001b[0m\u001b[0;34m-\u001b[0m\u001b[0;36m12.353553390593273\u001b[0m\u001b[0;34m,\u001b[0m \u001b[0;36m10.25699027111255\u001b[0m\u001b[0;34m,\u001b[0m \u001b[0;36m0.0625\u001b[0m\u001b[0;34m]\u001b[0m\u001b[0;34m\u001b[0m\u001b[0;34m\u001b[0m\u001b[0m\n\u001b[0;32m---> 12\u001b[0;31m \u001b[0myours\u001b[0m \u001b[0;34m=\u001b[0m \u001b[0mgradf\u001b[0m\u001b[0;34m(\u001b[0m\u001b[0;36m2\u001b[0m\u001b[0;34m,\u001b[0m \u001b[0;36m3\u001b[0m\u001b[0;34m,\u001b[0m \u001b[0;36m4\u001b[0m\u001b[0;34m)\u001b[0m\u001b[0;34m\u001b[0m\u001b[0;34m\u001b[0m\u001b[0m\n\u001b[0m\u001b[1;32m     13\u001b[0m \u001b[0;32mfor\u001b[0m \u001b[0mdim\u001b[0m \u001b[0;32min\u001b[0m \u001b[0mrange\u001b[0m\u001b[0;34m(\u001b[0m\u001b[0;36m3\u001b[0m\u001b[0;34m)\u001b[0m\u001b[0;34m:\u001b[0m\u001b[0;34m\u001b[0m\u001b[0;34m\u001b[0m\u001b[0m\n\u001b[1;32m     14\u001b[0m   \u001b[0mok\u001b[0m \u001b[0;34m=\u001b[0m \u001b[0;34m'OK'\u001b[0m \u001b[0;32mif\u001b[0m \u001b[0mabs\u001b[0m\u001b[0;34m(\u001b[0m\u001b[0myours\u001b[0m\u001b[0;34m[\u001b[0m\u001b[0mdim\u001b[0m\u001b[0;34m]\u001b[0m \u001b[0;34m-\u001b[0m \u001b[0mans\u001b[0m\u001b[0;34m[\u001b[0m\u001b[0mdim\u001b[0m\u001b[0;34m]\u001b[0m\u001b[0;34m)\u001b[0m \u001b[0;34m<\u001b[0m \u001b[0;36m1e-5\u001b[0m \u001b[0;32melse\u001b[0m \u001b[0;34m'WRONG!'\u001b[0m\u001b[0;34m\u001b[0m\u001b[0;34m\u001b[0m\u001b[0m\n",
            "\u001b[0;32m<ipython-input-11-aa5b61b8f24b>\u001b[0m in \u001b[0;36mgradf\u001b[0;34m(a, b, c)\u001b[0m\n\u001b[1;32m      6\u001b[0m \u001b[0;32mdef\u001b[0m \u001b[0mgradf\u001b[0m\u001b[0;34m(\u001b[0m\u001b[0ma\u001b[0m\u001b[0;34m,\u001b[0m \u001b[0mb\u001b[0m\u001b[0;34m,\u001b[0m \u001b[0mc\u001b[0m\u001b[0;34m)\u001b[0m\u001b[0;34m:\u001b[0m\u001b[0;34m\u001b[0m\u001b[0;34m\u001b[0m\u001b[0m\n\u001b[1;32m      7\u001b[0m \u001b[0;34m\u001b[0m\u001b[0m\n\u001b[0;32m----> 8\u001b[0;31m   \u001b[0;32mreturn\u001b[0m \u001b[0;34m[\u001b[0m\u001b[0mgrada\u001b[0m\u001b[0;34m,\u001b[0m \u001b[0mgradb\u001b[0m\u001b[0;34m,\u001b[0m \u001b[0mgradc\u001b[0m\u001b[0;34m]\u001b[0m \u001b[0;31m# todo, return [df/da, df/db, df/dc]\u001b[0m\u001b[0;34m\u001b[0m\u001b[0;34m\u001b[0m\u001b[0m\n\u001b[0m\u001b[1;32m      9\u001b[0m \u001b[0;34m\u001b[0m\u001b[0m\n\u001b[1;32m     10\u001b[0m \u001b[0;31m# expected answer is the list of\u001b[0m\u001b[0;34m\u001b[0m\u001b[0;34m\u001b[0m\u001b[0m\n",
            "\u001b[0;31mNameError\u001b[0m: name 'grada' is not defined"
          ]
        }
      ]
    },
    {
      "cell_type": "code",
      "source": [
        "# now estimate the gradient numerically without any calculus, using\n",
        "# the approximation we used in the video.\n",
        "# you should not call the function df from the last cell\n",
        "\n",
        "# -----------\n",
        "h = 0.00000001\n",
        "a = 2\n",
        "b = 3\n",
        "c = 4\n",
        "normal = f(a, b, c)\n",
        "grada = (f(a + h, b, c) - normal) / h\n",
        "gradb = (f(a, b + h, c) - normal) / h\n",
        "gradc = (f(a, b, c + h) - normal) / h\n",
        "numerical_grad = [grada, gradb, gradc] # TODO\n",
        "# -----------\n",
        "ans = [-12.353553390593273, 10.25699027111255, 0.0625]\n",
        "for dim in range(3):\n",
        "  ok = 'OK' if abs(numerical_grad[dim] - ans[dim]) < 1e-5 else 'WRONG!'\n",
        "  print(f\"{ok} for dim {dim}: expected {ans[dim]}, yours returns {numerical_grad[dim]}\")\n"
      ],
      "metadata": {
        "id": "_27n-KTA9Qla",
        "outputId": "90c93d17-4a5f-48ce-996e-c2466760e961",
        "colab": {
          "base_uri": "https://localhost:8080/"
        }
      },
      "execution_count": 12,
      "outputs": [
        {
          "output_type": "stream",
          "name": "stdout",
          "text": [
            "OK for dim 0: expected -12.353553390593273, yours returns -12.353553380251014\n",
            "OK for dim 1: expected 10.25699027111255, yours returns 10.256990368162633\n",
            "OK for dim 2: expected 0.0625, yours returns 0.0624999607623522\n"
          ]
        }
      ]
    },
    {
      "cell_type": "code",
      "source": [
        "# there is an alternative formula that provides a much better numerical\n",
        "# approximation to the derivative of a function.\n",
        "# learn about it here: https://en.wikipedia.org/wiki/Symmetric_derivative\n",
        "# implement it. confirm that for the same step size h this version gives a\n",
        "# better approximation.\n",
        "\n",
        "# -----------\n",
        "h = 0.0000001\n",
        "syma = (f(a + h, b, c) - f(a - h, b, c)) / (2 * h)\n",
        "symb = (f(a, b + h, c) - f(a, b - h, c)) / (2 * h)\n",
        "symc = (f(a, b, c + h) - f(a, b, c - h)) / (2 * h)\n",
        "numerical_grad2 = [syma, symb, symc] # TODO\n",
        "# -----------\n",
        "ans = [-12.353553390593273, 10.25699027111255, 0.0625]\n",
        "for dim in range(3):\n",
        "  ok = 'OK' if abs(numerical_grad2[dim] - ans[dim]) < 1e-5 else 'WRONG!'\n",
        "  print(f\"{ok} for dim {dim}: expected {ans[dim]}, yours returns {numerical_grad2[dim]}\")\n"
      ],
      "metadata": {
        "id": "BUqsGb5o_h2P",
        "outputId": "a2ab49b0-65b8-4c53-e1c7-672435f062dc",
        "colab": {
          "base_uri": "https://localhost:8080/"
        }
      },
      "execution_count": 13,
      "outputs": [
        {
          "output_type": "stream",
          "name": "stdout",
          "text": [
            "OK for dim 0: expected -12.353553390593273, yours returns -12.353553380251014\n",
            "OK for dim 1: expected 10.25699027111255, yours returns 10.256990252699438\n",
            "OK for dim 2: expected 0.0625, yours returns 0.06250000073038109\n"
          ]
        }
      ]
    },
    {
      "cell_type": "markdown",
      "source": [
        "## section 2: support for softmax"
      ],
      "metadata": {
        "id": "tklF9s_4AtlI"
      }
    },
    {
      "cell_type": "code",
      "source": [
        "import math"
      ],
      "metadata": {
        "id": "kdqvOA4A8sOS"
      },
      "execution_count": null,
      "outputs": []
    },
    {
      "cell_type": "code",
      "source": [
        "# Value class starter code, with many functions taken out\n",
        "from math import exp, log\n",
        "\n",
        "class Value:\n",
        "\n",
        "  def __init__(self, data, _children=(), _op='', label=''):\n",
        "    self.data = data\n",
        "    self.grad = 0.0\n",
        "    self._backward = lambda: None\n",
        "    self._prev = set(_children)\n",
        "    self._op = _op\n",
        "    self.label = label\n",
        "\n",
        "  def __repr__(self):\n",
        "    return f\"Value(data={self.data})\"\n",
        "\n",
        "  def __add__(self, other): # exactly as in the video\n",
        "    other = other if isinstance(other, Value) else Value(other)\n",
        "    out = Value(self.data + other.data, (self, other), '+')\n",
        "\n",
        "    def _backward():\n",
        "      self.grad += 1.0 * out.grad\n",
        "      other.grad += 1.0 * out.grad\n",
        "    out._backward = _backward\n",
        "\n",
        "    return out\n",
        "\n",
        "  def __radd__(self, other):\n",
        "    return self + other\n",
        "\n",
        "  def exp(self):\n",
        "    out = Value(math.exp(self.data), (self, ), 'exp')\n",
        "    def _backward():\n",
        "      self.grad += out.data * out.grad # TODO\n",
        "    out._backward = _backward\n",
        "\n",
        "    return out\n",
        "\n",
        "  def __pow__(self, other):\n",
        "    out = Value(self.data ** other, (self, ), 'pow')\n",
        "    def _backward():\n",
        "      print(\"n\", other)\n",
        "      print(\"x\", self.data)\n",
        "      print(\"out grad\", out.grad)\n",
        "      print(out, out.grad, out._prev)\n",
        "      self.grad += (other * (self.data ** (other - 1))) * out.grad\n",
        "    out._backward = _backward\n",
        "    return out\n",
        "\n",
        "  def __truediv__(self, other):\n",
        "    return self * (other ** -1)\n",
        "\n",
        "  def __mul__(self, other):\n",
        "    other = other if isinstance(other, Value) else Value(other)\n",
        "    out = Value(self.data * other.data, (self, other), '*')\n",
        "    def _backward():\n",
        "      self.grad += other.data * out.grad\n",
        "      other.grad += self.data * out.grad\n",
        "      print(self.grad, other.grad, out.grad, other.data, self.data)\n",
        "    out._backward = _backward\n",
        "    return out\n",
        "\n",
        "  def __neg__(self):\n",
        "    return self * -1\n",
        "\n",
        "  def __sub__(self, other):\n",
        "    return self + -other\n",
        "\n",
        "  def log(self):\n",
        "    out = Value(math.log(self.data), (self, ), 'log')\n",
        "    def _backward():\n",
        "      self.grad += (1 / self.data) * out.grad\n",
        "      print(\"log\", self.grad)\n",
        "    out._backward = _backward\n",
        "    return out\n",
        "  # ------\n",
        "  # re-implement all the other functions needed for the exercises below\n",
        "  # your code here\n",
        "  # TODO\n",
        "  # ------\n",
        "\n",
        "  def backward(self): # exactly as in video\n",
        "    topo = []\n",
        "    visited = set()\n",
        "    def build_topo(v):\n",
        "      if v not in visited:\n",
        "        visited.add(v)\n",
        "        for child in v._prev:\n",
        "          build_topo(child)\n",
        "        topo.append(v)\n",
        "    build_topo(self)\n",
        "\n",
        "    self.grad = 1.0\n",
        "    for node in reversed(topo):\n",
        "      node._backward()"
      ],
      "metadata": {
        "id": "nAPe_RVrCTeO"
      },
      "execution_count": null,
      "outputs": []
    },
    {
      "cell_type": "code",
      "source": [
        "from graphviz import Digraph\n",
        "\n",
        "def trace(root):\n",
        "    nodes, edges = set(), set()\n",
        "    def build(v):\n",
        "      if v not in nodes:\n",
        "        nodes.add(v)\n",
        "        for child in v._prev:\n",
        "          edges.add((child, v))\n",
        "          build(child)\n",
        "    build(root)\n",
        "    return nodes, edges\n",
        "\n",
        "def draw_dot(root):\n",
        "  dot = Digraph(format='svg', graph_attr={'rankdir': 'LR'})\n",
        "\n",
        "  nodes, edges = trace(root)\n",
        "  for n in nodes:\n",
        "    uid = str(id(n))\n",
        "    dot.node(name = uid, label = \"{ %s | data %.4f | grad %.4f }\" % (n.label, n.data, n.grad), shape='record')\n",
        "    if n._op:\n",
        "      dot.node(name = uid + n._op, label = n._op)\n",
        "      dot.edge(uid + n._op, uid)\n",
        "\n",
        "  for n1, n2 in edges:\n",
        "    dot.edge(str(id(n1)), str(id(n2)) + n2._op)\n",
        "\n",
        "  return dot"
      ],
      "metadata": {
        "id": "5g--LvCFELLL"
      },
      "execution_count": null,
      "outputs": []
    },
    {
      "cell_type": "code",
      "source": [
        "# without referencing our code/video __too__ much, make this cell work\n",
        "# you'll have to implement (in some cases re-implemented) a number of functions\n",
        "# of the Value object, similar to what we've seen in the video.\n",
        "# instead of the squared error loss this implements the negative log likelihood\n",
        "# loss, which is very often used in classification.\n",
        "\n",
        "# this is the softmax function\n",
        "# https://en.wikipedia.org/wiki/Softmax_function\n",
        "def softmax(logits):\n",
        "  counts = [logit.exp() for logit in logits]\n",
        "  denominator = sum(counts)\n",
        "  print(\"denominator\", denominator, \"counts\", counts)\n",
        "  out = [c / denominator for c in counts]\n",
        "  return out\n",
        "\n",
        "# this is the negative log likelihood loss function, pervasive in classification\n",
        "logits = [Value(0.0, label='a'), Value(3.0, label='b'), Value(-2.0, label='c'), Value(1.0, label='d')]\n",
        "probs = softmax(logits)\n",
        "print(\"probs1\", probs)\n",
        "loss = -probs[3].log() # dim 3 acts as the label for this input example\n",
        "print(\"probs\", probs, loss)\n",
        "loss.backward()\n",
        "print(loss.data)\n",
        "\n",
        "ans = [0.041772570515350445, 0.8390245074625319, 0.005653302662216329, -0.8864503806400986]\n",
        "for dim in range(4):\n",
        "  ok = 'OK' if abs(logits[dim].grad - ans[dim]) < 1e-5 else 'WRONG!'\n",
        "  print(f\"{ok} for dim {dim}: expected {ans[dim]}, yours returns {logits[dim].grad}\")\n"
      ],
      "metadata": {
        "id": "VgWvwVQNAvnI",
        "outputId": "b5d904cd-2d98-4cda-833b-c685924b06f9",
        "colab": {
          "base_uri": "https://localhost:8080/"
        }
      },
      "execution_count": null,
      "outputs": [
        {
          "output_type": "stream",
          "name": "stdout",
          "text": [
            "denominator Value(data=23.939154034883327) counts [Value(data=1.0), Value(data=20.085536923187668), Value(data=0.1353352832366127), Value(data=2.718281828459045)]\n",
            "probs1 [Value(data=0.04177257051535045), Value(data=0.839024507462532), Value(data=0.00565330266221633), Value(data=0.11354961935990122)]\n",
            "probs [Value(data=0.04177257051535045), Value(data=0.839024507462532), Value(data=0.00565330266221633), Value(data=0.11354961935990122)] Value(data=2.1755153626167147)\n",
            "-1.0 -2.1755153626167147 1.0 -1 -2.1755153626167147\n",
            "log -8.806722608469956\n",
            "-0.3678794411714423 -23.939154034883323 -8.806722608469956 0.04177257051535045 2.718281828459045\n",
            "n -1\n",
            "x 23.939154034883327\n",
            "out grad -23.939154034883323\n",
            "Value(data=0.04177257051535045) -23.939154034883323 {Value(data=23.939154034883327)}\n",
            "2.1755153626167147\n",
            "OK for dim 0: expected 0.041772570515350445, yours returns 0.041772570515350445\n",
            "OK for dim 1: expected 0.8390245074625319, yours returns 0.8390245074625319\n",
            "OK for dim 2: expected 0.005653302662216329, yours returns 0.005653302662216329\n",
            "OK for dim 3: expected -0.8864503806400986, yours returns -0.8864503806400986\n"
          ]
        }
      ]
    },
    {
      "cell_type": "code",
      "source": [
        "draw_dot(loss)"
      ],
      "metadata": {
        "id": "5l4pV7zMESa1",
        "outputId": "92105286-e2f5-4592-ed3a-04849dab1e0f",
        "colab": {
          "base_uri": "https://localhost:8080/",
          "height": 362
        }
      },
      "execution_count": null,
      "outputs": [
        {
          "output_type": "execute_result",
          "data": {
            "image/svg+xml": "<?xml version=\"1.0\" encoding=\"UTF-8\" standalone=\"no\"?>\n<!DOCTYPE svg PUBLIC \"-//W3C//DTD SVG 1.1//EN\"\n \"http://www.w3.org/Graphics/SVG/1.1/DTD/svg11.dtd\">\n<!-- Generated by graphviz version 2.43.0 (0)\n -->\n<!-- Title: %3 Pages: 1 -->\n<svg width=\"3021pt\" height=\"241pt\"\n viewBox=\"0.00 0.00 3021.00 241.00\" xmlns=\"http://www.w3.org/2000/svg\" xmlns:xlink=\"http://www.w3.org/1999/xlink\">\n<g id=\"graph0\" class=\"graph\" transform=\"scale(1 1) rotate(0) translate(4 237)\">\n<title>%3</title>\n<polygon fill=\"white\" stroke=\"transparent\" points=\"-4,4 -4,-237 3017,-237 3017,4 -4,4\"/>\n<!-- 137787920732544 -->\n<g id=\"node1\" class=\"node\">\n<title>137787920732544</title>\n<polygon fill=\"none\" stroke=\"black\" points=\"1253,-110.5 1253,-146.5 1442,-146.5 1442,-110.5 1253,-110.5\"/>\n<text text-anchor=\"middle\" x=\"1263\" y=\"-124.8\" font-family=\"Times,serif\" font-size=\"14.00\"> </text>\n<polyline fill=\"none\" stroke=\"black\" points=\"1273,-110.5 1273,-146.5 \"/>\n<text text-anchor=\"middle\" x=\"1316.5\" y=\"-124.8\" font-family=\"Times,serif\" font-size=\"14.00\">data 21.2209</text>\n<polyline fill=\"none\" stroke=\"black\" points=\"1360,-110.5 1360,-146.5 \"/>\n<text text-anchor=\"middle\" x=\"1401\" y=\"-124.8\" font-family=\"Times,serif\" font-size=\"14.00\">grad 0.0418</text>\n</g>\n<!-- 137787920732304+ -->\n<g id=\"node10\" class=\"node\">\n<title>137787920732304+</title>\n<ellipse fill=\"none\" stroke=\"black\" cx=\"1505\" cy=\"-136.5\" rx=\"27\" ry=\"18\"/>\n<text text-anchor=\"middle\" x=\"1505\" y=\"-132.8\" font-family=\"Times,serif\" font-size=\"14.00\">+</text>\n</g>\n<!-- 137787920732544&#45;&gt;137787920732304+ -->\n<g id=\"edge30\" class=\"edge\">\n<title>137787920732544&#45;&gt;137787920732304+</title>\n<path fill=\"none\" stroke=\"black\" d=\"M1442.1,-133.32C1451.12,-133.78 1459.84,-134.23 1467.75,-134.64\"/>\n<polygon fill=\"black\" stroke=\"black\" points=\"1467.83,-138.14 1477.99,-135.16 1468.19,-131.15 1467.83,-138.14\"/>\n</g>\n<!-- 137787920732544+ -->\n<g id=\"node2\" class=\"node\">\n<title>137787920732544+</title>\n<ellipse fill=\"none\" stroke=\"black\" cx=\"1190\" cy=\"-128.5\" rx=\"27\" ry=\"18\"/>\n<text text-anchor=\"middle\" x=\"1190\" y=\"-124.8\" font-family=\"Times,serif\" font-size=\"14.00\">+</text>\n</g>\n<!-- 137787920732544+&#45;&gt;137787920732544 -->\n<g id=\"edge1\" class=\"edge\">\n<title>137787920732544+&#45;&gt;137787920732544</title>\n<path fill=\"none\" stroke=\"black\" d=\"M1217.03,-128.5C1224.66,-128.5 1233.52,-128.5 1242.94,-128.5\"/>\n<polygon fill=\"black\" stroke=\"black\" points=\"1242.94,-132 1252.94,-128.5 1242.94,-125 1242.94,-132\"/>\n</g>\n<!-- 137787920734752 -->\n<g id=\"node3\" class=\"node\">\n<title>137787920734752</title>\n<polygon fill=\"none\" stroke=\"black\" points=\"938,-165.5 938,-201.5 1127,-201.5 1127,-165.5 938,-165.5\"/>\n<text text-anchor=\"middle\" x=\"949.5\" y=\"-179.8\" font-family=\"Times,serif\" font-size=\"14.00\">d</text>\n<polyline fill=\"none\" stroke=\"black\" points=\"961,-165.5 961,-201.5 \"/>\n<text text-anchor=\"middle\" x=\"1001\" y=\"-179.8\" font-family=\"Times,serif\" font-size=\"14.00\">data 1.0000</text>\n<polyline fill=\"none\" stroke=\"black\" points=\"1041,-165.5 1041,-201.5 \"/>\n<text text-anchor=\"middle\" x=\"1084\" y=\"-179.8\" font-family=\"Times,serif\" font-size=\"14.00\">grad &#45;0.8865</text>\n</g>\n<!-- 137787920739216exp -->\n<g id=\"node27\" class=\"node\">\n<title>137787920739216exp</title>\n<ellipse fill=\"none\" stroke=\"black\" cx=\"1190\" cy=\"-183.5\" rx=\"27\" ry=\"18\"/>\n<text text-anchor=\"middle\" x=\"1190\" y=\"-179.8\" font-family=\"Times,serif\" font-size=\"14.00\">exp</text>\n</g>\n<!-- 137787920734752&#45;&gt;137787920739216exp -->\n<g id=\"edge13\" class=\"edge\">\n<title>137787920734752&#45;&gt;137787920739216exp</title>\n<path fill=\"none\" stroke=\"black\" d=\"M1127.1,-183.5C1136.12,-183.5 1144.84,-183.5 1152.75,-183.5\"/>\n<polygon fill=\"black\" stroke=\"black\" points=\"1152.99,-187 1162.99,-183.5 1152.99,-180 1152.99,-187\"/>\n</g>\n<!-- 137787920735760 -->\n<g id=\"node4\" class=\"node\">\n<title>137787920735760</title>\n<polygon fill=\"none\" stroke=\"black\" points=\"626,-55.5 626,-91.5 808,-91.5 808,-55.5 626,-55.5\"/>\n<text text-anchor=\"middle\" x=\"636\" y=\"-69.8\" font-family=\"Times,serif\" font-size=\"14.00\"> </text>\n<polyline fill=\"none\" stroke=\"black\" points=\"646,-55.5 646,-91.5 \"/>\n<text text-anchor=\"middle\" x=\"686\" y=\"-69.8\" font-family=\"Times,serif\" font-size=\"14.00\">data 1.0000</text>\n<polyline fill=\"none\" stroke=\"black\" points=\"726,-55.5 726,-91.5 \"/>\n<text text-anchor=\"middle\" x=\"767\" y=\"-69.8\" font-family=\"Times,serif\" font-size=\"14.00\">grad 0.0418</text>\n</g>\n<!-- 137787920734896+ -->\n<g id=\"node13\" class=\"node\">\n<title>137787920734896+</title>\n<ellipse fill=\"none\" stroke=\"black\" cx=\"875\" cy=\"-73.5\" rx=\"27\" ry=\"18\"/>\n<text text-anchor=\"middle\" x=\"875\" y=\"-69.8\" font-family=\"Times,serif\" font-size=\"14.00\">+</text>\n</g>\n<!-- 137787920735760&#45;&gt;137787920734896+ -->\n<g id=\"edge27\" class=\"edge\">\n<title>137787920735760&#45;&gt;137787920734896+</title>\n<path fill=\"none\" stroke=\"black\" d=\"M808.29,-73.5C818.66,-73.5 828.72,-73.5 837.74,-73.5\"/>\n<polygon fill=\"black\" stroke=\"black\" points=\"837.79,-77 847.79,-73.5 837.79,-70 837.79,-77\"/>\n</g>\n<!-- 137787920735760+ -->\n<g id=\"node5\" class=\"node\">\n<title>137787920735760+</title>\n<ellipse fill=\"none\" stroke=\"black\" cx=\"559\" cy=\"-73.5\" rx=\"27\" ry=\"18\"/>\n<text text-anchor=\"middle\" x=\"559\" y=\"-69.8\" font-family=\"Times,serif\" font-size=\"14.00\">+</text>\n</g>\n<!-- 137787920735760+&#45;&gt;137787920735760 -->\n<g id=\"edge2\" class=\"edge\">\n<title>137787920735760+&#45;&gt;137787920735760</title>\n<path fill=\"none\" stroke=\"black\" d=\"M586.11,-73.5C594.74,-73.5 604.93,-73.5 615.74,-73.5\"/>\n<polygon fill=\"black\" stroke=\"black\" points=\"615.81,-77 625.81,-73.5 615.81,-70 615.81,-77\"/>\n</g>\n<!-- 137787920733744 -->\n<g id=\"node6\" class=\"node\">\n<title>137787920733744</title>\n<polygon fill=\"none\" stroke=\"black\" points=\"0,-110.5 0,-146.5 185,-146.5 185,-110.5 0,-110.5\"/>\n<text text-anchor=\"middle\" x=\"11.5\" y=\"-124.8\" font-family=\"Times,serif\" font-size=\"14.00\">a</text>\n<polyline fill=\"none\" stroke=\"black\" points=\"23,-110.5 23,-146.5 \"/>\n<text text-anchor=\"middle\" x=\"63\" y=\"-124.8\" font-family=\"Times,serif\" font-size=\"14.00\">data 0.0000</text>\n<polyline fill=\"none\" stroke=\"black\" points=\"103,-110.5 103,-146.5 \"/>\n<text text-anchor=\"middle\" x=\"144\" y=\"-124.8\" font-family=\"Times,serif\" font-size=\"14.00\">grad 0.0418</text>\n</g>\n<!-- 137787920740128exp -->\n<g id=\"node23\" class=\"node\">\n<title>137787920740128exp</title>\n<ellipse fill=\"none\" stroke=\"black\" cx=\"248\" cy=\"-128.5\" rx=\"27\" ry=\"18\"/>\n<text text-anchor=\"middle\" x=\"248\" y=\"-124.8\" font-family=\"Times,serif\" font-size=\"14.00\">exp</text>\n</g>\n<!-- 137787920733744&#45;&gt;137787920740128exp -->\n<g id=\"edge21\" class=\"edge\">\n<title>137787920733744&#45;&gt;137787920740128exp</title>\n<path fill=\"none\" stroke=\"black\" d=\"M185.01,-128.5C194.01,-128.5 202.74,-128.5 210.66,-128.5\"/>\n<polygon fill=\"black\" stroke=\"black\" points=\"210.91,-132 220.91,-128.5 210.91,-125 210.91,-132\"/>\n</g>\n<!-- 137787920739456 -->\n<g id=\"node7\" class=\"node\">\n<title>137787920739456</title>\n<polygon fill=\"none\" stroke=\"black\" points=\"941.5,-110.5 941.5,-146.5 1123.5,-146.5 1123.5,-110.5 941.5,-110.5\"/>\n<text text-anchor=\"middle\" x=\"951.5\" y=\"-124.8\" font-family=\"Times,serif\" font-size=\"14.00\"> </text>\n<polyline fill=\"none\" stroke=\"black\" points=\"961.5,-110.5 961.5,-146.5 \"/>\n<text text-anchor=\"middle\" x=\"1001.5\" y=\"-124.8\" font-family=\"Times,serif\" font-size=\"14.00\">data 0.1353</text>\n<polyline fill=\"none\" stroke=\"black\" points=\"1041.5,-110.5 1041.5,-146.5 \"/>\n<text text-anchor=\"middle\" x=\"1082.5\" y=\"-124.8\" font-family=\"Times,serif\" font-size=\"14.00\">grad 0.0418</text>\n</g>\n<!-- 137787920739456&#45;&gt;137787920732544+ -->\n<g id=\"edge14\" class=\"edge\">\n<title>137787920739456&#45;&gt;137787920732544+</title>\n<path fill=\"none\" stroke=\"black\" d=\"M1123.5,-128.5C1133.84,-128.5 1143.87,-128.5 1152.85,-128.5\"/>\n<polygon fill=\"black\" stroke=\"black\" points=\"1152.87,-132 1162.87,-128.5 1152.87,-125 1152.87,-132\"/>\n</g>\n<!-- 137787920739456exp -->\n<g id=\"node8\" class=\"node\">\n<title>137787920739456exp</title>\n<ellipse fill=\"none\" stroke=\"black\" cx=\"875\" cy=\"-128.5\" rx=\"27\" ry=\"18\"/>\n<text text-anchor=\"middle\" x=\"875\" y=\"-124.8\" font-family=\"Times,serif\" font-size=\"14.00\">exp</text>\n</g>\n<!-- 137787920739456exp&#45;&gt;137787920739456 -->\n<g id=\"edge3\" class=\"edge\">\n<title>137787920739456exp&#45;&gt;137787920739456</title>\n<path fill=\"none\" stroke=\"black\" d=\"M902.03,-128.5C910.48,-128.5 920.42,-128.5 930.98,-128.5\"/>\n<polygon fill=\"black\" stroke=\"black\" points=\"931.27,-132 941.27,-128.5 931.27,-125 931.27,-132\"/>\n</g>\n<!-- 137787920732304 -->\n<g id=\"node9\" class=\"node\">\n<title>137787920732304</title>\n<polygon fill=\"none\" stroke=\"black\" points=\"1568,-118.5 1568,-154.5 1757,-154.5 1757,-118.5 1568,-118.5\"/>\n<text text-anchor=\"middle\" x=\"1578\" y=\"-132.8\" font-family=\"Times,serif\" font-size=\"14.00\"> </text>\n<polyline fill=\"none\" stroke=\"black\" points=\"1588,-118.5 1588,-154.5 \"/>\n<text text-anchor=\"middle\" x=\"1631.5\" y=\"-132.8\" font-family=\"Times,serif\" font-size=\"14.00\">data 23.9392</text>\n<polyline fill=\"none\" stroke=\"black\" points=\"1675,-118.5 1675,-154.5 \"/>\n<text text-anchor=\"middle\" x=\"1716\" y=\"-132.8\" font-family=\"Times,serif\" font-size=\"14.00\">grad 0.0418</text>\n</g>\n<!-- 137787920738496pow -->\n<g id=\"node15\" class=\"node\">\n<title>137787920738496pow</title>\n<ellipse fill=\"none\" stroke=\"black\" cx=\"1820\" cy=\"-136.5\" rx=\"27\" ry=\"18\"/>\n<text text-anchor=\"middle\" x=\"1820\" y=\"-132.8\" font-family=\"Times,serif\" font-size=\"14.00\">pow</text>\n</g>\n<!-- 137787920732304&#45;&gt;137787920738496pow -->\n<g id=\"edge24\" class=\"edge\">\n<title>137787920732304&#45;&gt;137787920738496pow</title>\n<path fill=\"none\" stroke=\"black\" d=\"M1757.1,-136.5C1766.12,-136.5 1774.84,-136.5 1782.75,-136.5\"/>\n<polygon fill=\"black\" stroke=\"black\" points=\"1782.99,-140 1792.99,-136.5 1782.99,-133 1782.99,-140\"/>\n</g>\n<!-- 137787920732304+&#45;&gt;137787920732304 -->\n<g id=\"edge4\" class=\"edge\">\n<title>137787920732304+&#45;&gt;137787920732304</title>\n<path fill=\"none\" stroke=\"black\" d=\"M1532.03,-136.5C1539.66,-136.5 1548.52,-136.5 1557.94,-136.5\"/>\n<polygon fill=\"black\" stroke=\"black\" points=\"1557.94,-140 1567.94,-136.5 1557.94,-133 1557.94,-140\"/>\n</g>\n<!-- 137787920734368 -->\n<g id=\"node11\" class=\"node\">\n<title>137787920734368</title>\n<polygon fill=\"none\" stroke=\"black\" points=\"622,-110.5 622,-146.5 812,-146.5 812,-110.5 622,-110.5\"/>\n<text text-anchor=\"middle\" x=\"633.5\" y=\"-124.8\" font-family=\"Times,serif\" font-size=\"14.00\">c</text>\n<polyline fill=\"none\" stroke=\"black\" points=\"645,-110.5 645,-146.5 \"/>\n<text text-anchor=\"middle\" x=\"687.5\" y=\"-124.8\" font-family=\"Times,serif\" font-size=\"14.00\">data &#45;2.0000</text>\n<polyline fill=\"none\" stroke=\"black\" points=\"730,-110.5 730,-146.5 \"/>\n<text text-anchor=\"middle\" x=\"771\" y=\"-124.8\" font-family=\"Times,serif\" font-size=\"14.00\">grad 0.0057</text>\n</g>\n<!-- 137787920734368&#45;&gt;137787920739456exp -->\n<g id=\"edge25\" class=\"edge\">\n<title>137787920734368&#45;&gt;137787920739456exp</title>\n<path fill=\"none\" stroke=\"black\" d=\"M812.34,-128.5C821.26,-128.5 829.87,-128.5 837.69,-128.5\"/>\n<polygon fill=\"black\" stroke=\"black\" points=\"837.82,-132 847.82,-128.5 837.82,-125 837.82,-132\"/>\n</g>\n<!-- 137787920734896 -->\n<g id=\"node12\" class=\"node\">\n<title>137787920734896</title>\n<polygon fill=\"none\" stroke=\"black\" points=\"938,-55.5 938,-91.5 1127,-91.5 1127,-55.5 938,-55.5\"/>\n<text text-anchor=\"middle\" x=\"948\" y=\"-69.8\" font-family=\"Times,serif\" font-size=\"14.00\"> </text>\n<polyline fill=\"none\" stroke=\"black\" points=\"958,-55.5 958,-91.5 \"/>\n<text text-anchor=\"middle\" x=\"1001.5\" y=\"-69.8\" font-family=\"Times,serif\" font-size=\"14.00\">data 21.0855</text>\n<polyline fill=\"none\" stroke=\"black\" points=\"1045,-55.5 1045,-91.5 \"/>\n<text text-anchor=\"middle\" x=\"1086\" y=\"-69.8\" font-family=\"Times,serif\" font-size=\"14.00\">grad 0.0418</text>\n</g>\n<!-- 137787920734896&#45;&gt;137787920732544+ -->\n<g id=\"edge15\" class=\"edge\">\n<title>137787920734896&#45;&gt;137787920732544+</title>\n<path fill=\"none\" stroke=\"black\" d=\"M1097.46,-91.54C1107.41,-94.67 1117.53,-98.03 1127,-101.5 1137.25,-105.25 1148.24,-109.84 1158.07,-114.16\"/>\n<polygon fill=\"black\" stroke=\"black\" points=\"1156.89,-117.47 1167.45,-118.36 1159.75,-111.08 1156.89,-117.47\"/>\n</g>\n<!-- 137787920734896+&#45;&gt;137787920734896 -->\n<g id=\"edge5\" class=\"edge\">\n<title>137787920734896+&#45;&gt;137787920734896</title>\n<path fill=\"none\" stroke=\"black\" d=\"M902.03,-73.5C909.66,-73.5 918.52,-73.5 927.94,-73.5\"/>\n<polygon fill=\"black\" stroke=\"black\" points=\"927.94,-77 937.94,-73.5 927.94,-70 927.94,-77\"/>\n</g>\n<!-- 137787920738496 -->\n<g id=\"node14\" class=\"node\">\n<title>137787920738496</title>\n<polygon fill=\"none\" stroke=\"black\" points=\"1883,-118.5 1883,-154.5 2076,-154.5 2076,-118.5 1883,-118.5\"/>\n<text text-anchor=\"middle\" x=\"1893\" y=\"-132.8\" font-family=\"Times,serif\" font-size=\"14.00\"> </text>\n<polyline fill=\"none\" stroke=\"black\" points=\"1903,-118.5 1903,-154.5 \"/>\n<text text-anchor=\"middle\" x=\"1943\" y=\"-132.8\" font-family=\"Times,serif\" font-size=\"14.00\">data 0.0418</text>\n<polyline fill=\"none\" stroke=\"black\" points=\"1983,-118.5 1983,-154.5 \"/>\n<text text-anchor=\"middle\" x=\"2029.5\" y=\"-132.8\" font-family=\"Times,serif\" font-size=\"14.00\">grad &#45;23.9392</text>\n</g>\n<!-- 137787920738784* -->\n<g id=\"node30\" class=\"node\">\n<title>137787920738784*</title>\n<ellipse fill=\"none\" stroke=\"black\" cx=\"2139\" cy=\"-159.5\" rx=\"27\" ry=\"18\"/>\n<text text-anchor=\"middle\" x=\"2139\" y=\"-155.8\" font-family=\"Times,serif\" font-size=\"14.00\">*</text>\n</g>\n<!-- 137787920738496&#45;&gt;137787920738784* -->\n<g id=\"edge29\" class=\"edge\">\n<title>137787920738496&#45;&gt;137787920738784*</title>\n<path fill=\"none\" stroke=\"black\" d=\"M2076.2,-150.48C2085.43,-151.82 2094.33,-153.12 2102.37,-154.3\"/>\n<polygon fill=\"black\" stroke=\"black\" points=\"2101.98,-157.78 2112.38,-155.76 2102.99,-150.85 2101.98,-157.78\"/>\n</g>\n<!-- 137787920738496pow&#45;&gt;137787920738496 -->\n<g id=\"edge6\" class=\"edge\">\n<title>137787920738496pow&#45;&gt;137787920738496</title>\n<path fill=\"none\" stroke=\"black\" d=\"M1847.01,-136.5C1854.52,-136.5 1863.21,-136.5 1872.47,-136.5\"/>\n<polygon fill=\"black\" stroke=\"black\" points=\"1872.72,-140 1882.72,-136.5 1872.72,-133 1872.72,-140\"/>\n</g>\n<!-- 137787920739504 -->\n<g id=\"node16\" class=\"node\">\n<title>137787920739504</title>\n<polygon fill=\"none\" stroke=\"black\" points=\"622.5,-0.5 622.5,-36.5 811.5,-36.5 811.5,-0.5 622.5,-0.5\"/>\n<text text-anchor=\"middle\" x=\"632.5\" y=\"-14.8\" font-family=\"Times,serif\" font-size=\"14.00\"> </text>\n<polyline fill=\"none\" stroke=\"black\" points=\"642.5,-0.5 642.5,-36.5 \"/>\n<text text-anchor=\"middle\" x=\"686\" y=\"-14.8\" font-family=\"Times,serif\" font-size=\"14.00\">data 20.0855</text>\n<polyline fill=\"none\" stroke=\"black\" points=\"729.5,-0.5 729.5,-36.5 \"/>\n<text text-anchor=\"middle\" x=\"770.5\" y=\"-14.8\" font-family=\"Times,serif\" font-size=\"14.00\">grad 0.0418</text>\n</g>\n<!-- 137787920739504&#45;&gt;137787920734896+ -->\n<g id=\"edge22\" class=\"edge\">\n<title>137787920739504&#45;&gt;137787920734896+</title>\n<path fill=\"none\" stroke=\"black\" d=\"M785.39,-36.58C794.4,-39.37 803.47,-42.37 812,-45.5 822.5,-49.36 833.72,-54.19 843.69,-58.76\"/>\n<polygon fill=\"black\" stroke=\"black\" points=\"842.26,-61.95 852.8,-63.01 845.21,-55.61 842.26,-61.95\"/>\n</g>\n<!-- 137787920739504exp -->\n<g id=\"node17\" class=\"node\">\n<title>137787920739504exp</title>\n<ellipse fill=\"none\" stroke=\"black\" cx=\"559\" cy=\"-18.5\" rx=\"27\" ry=\"18\"/>\n<text text-anchor=\"middle\" x=\"559\" y=\"-14.8\" font-family=\"Times,serif\" font-size=\"14.00\">exp</text>\n</g>\n<!-- 137787920739504exp&#45;&gt;137787920739504 -->\n<g id=\"edge7\" class=\"edge\">\n<title>137787920739504exp&#45;&gt;137787920739504</title>\n<path fill=\"none\" stroke=\"black\" d=\"M586.11,-18.5C593.84,-18.5 602.8,-18.5 612.35,-18.5\"/>\n<polygon fill=\"black\" stroke=\"black\" points=\"612.48,-22 622.48,-18.5 612.48,-15 612.48,-22\"/>\n</g>\n<!-- 137787920729280 -->\n<g id=\"node18\" class=\"node\">\n<title>137787920729280</title>\n<polygon fill=\"none\" stroke=\"black\" points=\"311,-0.5 311,-36.5 496,-36.5 496,-0.5 311,-0.5\"/>\n<text text-anchor=\"middle\" x=\"322.5\" y=\"-14.8\" font-family=\"Times,serif\" font-size=\"14.00\">b</text>\n<polyline fill=\"none\" stroke=\"black\" points=\"334,-0.5 334,-36.5 \"/>\n<text text-anchor=\"middle\" x=\"374\" y=\"-14.8\" font-family=\"Times,serif\" font-size=\"14.00\">data 3.0000</text>\n<polyline fill=\"none\" stroke=\"black\" points=\"414,-0.5 414,-36.5 \"/>\n<text text-anchor=\"middle\" x=\"455\" y=\"-14.8\" font-family=\"Times,serif\" font-size=\"14.00\">grad 0.8390</text>\n</g>\n<!-- 137787920729280&#45;&gt;137787920739504exp -->\n<g id=\"edge16\" class=\"edge\">\n<title>137787920729280&#45;&gt;137787920739504exp</title>\n<path fill=\"none\" stroke=\"black\" d=\"M496.01,-18.5C505.01,-18.5 513.74,-18.5 521.66,-18.5\"/>\n<polygon fill=\"black\" stroke=\"black\" points=\"521.91,-22 531.91,-18.5 521.91,-15 521.91,-22\"/>\n</g>\n<!-- 137787920738976 -->\n<g id=\"node19\" class=\"node\">\n<title>137787920738976</title>\n<polygon fill=\"none\" stroke=\"black\" points=\"2514,-196.5 2514,-232.5 2705,-232.5 2705,-196.5 2514,-196.5\"/>\n<text text-anchor=\"middle\" x=\"2524\" y=\"-210.8\" font-family=\"Times,serif\" font-size=\"14.00\"> </text>\n<polyline fill=\"none\" stroke=\"black\" points=\"2534,-196.5 2534,-232.5 \"/>\n<text text-anchor=\"middle\" x=\"2576.5\" y=\"-210.8\" font-family=\"Times,serif\" font-size=\"14.00\">data &#45;1.0000</text>\n<polyline fill=\"none\" stroke=\"black\" points=\"2619,-196.5 2619,-232.5 \"/>\n<text text-anchor=\"middle\" x=\"2662\" y=\"-210.8\" font-family=\"Times,serif\" font-size=\"14.00\">grad &#45;2.1755</text>\n</g>\n<!-- 137787920739072* -->\n<g id=\"node21\" class=\"node\">\n<title>137787920739072*</title>\n<ellipse fill=\"none\" stroke=\"black\" cx=\"2768\" cy=\"-186.5\" rx=\"27\" ry=\"18\"/>\n<text text-anchor=\"middle\" x=\"2768\" y=\"-182.8\" font-family=\"Times,serif\" font-size=\"14.00\">*</text>\n</g>\n<!-- 137787920738976&#45;&gt;137787920739072* -->\n<g id=\"edge18\" class=\"edge\">\n<title>137787920738976&#45;&gt;137787920739072*</title>\n<path fill=\"none\" stroke=\"black\" d=\"M2705.15,-197.57C2714.46,-195.9 2723.44,-194.29 2731.54,-192.84\"/>\n<polygon fill=\"black\" stroke=\"black\" points=\"2732.41,-196.24 2741.64,-191.04 2731.18,-189.35 2732.41,-196.24\"/>\n</g>\n<!-- 137787920739072 -->\n<g id=\"node20\" class=\"node\">\n<title>137787920739072</title>\n<polygon fill=\"none\" stroke=\"black\" points=\"2831,-168.5 2831,-204.5 3013,-204.5 3013,-168.5 2831,-168.5\"/>\n<text text-anchor=\"middle\" x=\"2841\" y=\"-182.8\" font-family=\"Times,serif\" font-size=\"14.00\"> </text>\n<polyline fill=\"none\" stroke=\"black\" points=\"2851,-168.5 2851,-204.5 \"/>\n<text text-anchor=\"middle\" x=\"2891\" y=\"-182.8\" font-family=\"Times,serif\" font-size=\"14.00\">data 2.1755</text>\n<polyline fill=\"none\" stroke=\"black\" points=\"2931,-168.5 2931,-204.5 \"/>\n<text text-anchor=\"middle\" x=\"2972\" y=\"-182.8\" font-family=\"Times,serif\" font-size=\"14.00\">grad 1.0000</text>\n</g>\n<!-- 137787920739072*&#45;&gt;137787920739072 -->\n<g id=\"edge8\" class=\"edge\">\n<title>137787920739072*&#45;&gt;137787920739072</title>\n<path fill=\"none\" stroke=\"black\" d=\"M2795.13,-186.5C2802.67,-186.5 2811.39,-186.5 2820.64,-186.5\"/>\n<polygon fill=\"black\" stroke=\"black\" points=\"2820.87,-190 2830.87,-186.5 2820.87,-183 2820.87,-190\"/>\n</g>\n<!-- 137787920740128 -->\n<g id=\"node22\" class=\"node\">\n<title>137787920740128</title>\n<polygon fill=\"none\" stroke=\"black\" points=\"312.5,-110.5 312.5,-146.5 494.5,-146.5 494.5,-110.5 312.5,-110.5\"/>\n<text text-anchor=\"middle\" x=\"322.5\" y=\"-124.8\" font-family=\"Times,serif\" font-size=\"14.00\"> </text>\n<polyline fill=\"none\" stroke=\"black\" points=\"332.5,-110.5 332.5,-146.5 \"/>\n<text text-anchor=\"middle\" x=\"372.5\" y=\"-124.8\" font-family=\"Times,serif\" font-size=\"14.00\">data 1.0000</text>\n<polyline fill=\"none\" stroke=\"black\" points=\"412.5,-110.5 412.5,-146.5 \"/>\n<text text-anchor=\"middle\" x=\"453.5\" y=\"-124.8\" font-family=\"Times,serif\" font-size=\"14.00\">grad 0.0418</text>\n</g>\n<!-- 137787920740128&#45;&gt;137787920735760+ -->\n<g id=\"edge17\" class=\"edge\">\n<title>137787920740128&#45;&gt;137787920735760+</title>\n<path fill=\"none\" stroke=\"black\" d=\"M469.84,-110.41C478.7,-107.61 487.62,-104.61 496,-101.5 506.49,-97.61 517.7,-92.76 527.67,-88.2\"/>\n<polygon fill=\"black\" stroke=\"black\" points=\"529.2,-91.35 536.78,-83.95 526.24,-85 529.2,-91.35\"/>\n</g>\n<!-- 137787920740128exp&#45;&gt;137787920740128 -->\n<g id=\"edge9\" class=\"edge\">\n<title>137787920740128exp&#45;&gt;137787920740128</title>\n<path fill=\"none\" stroke=\"black\" d=\"M275.04,-128.5C283.06,-128.5 292.41,-128.5 302.35,-128.5\"/>\n<polygon fill=\"black\" stroke=\"black\" points=\"302.45,-132 312.45,-128.5 302.45,-125 302.45,-132\"/>\n</g>\n<!-- 137787920738688 -->\n<g id=\"node24\" class=\"node\">\n<title>137787920738688</title>\n<polygon fill=\"none\" stroke=\"black\" points=\"2514,-141.5 2514,-177.5 2705,-177.5 2705,-141.5 2514,-141.5\"/>\n<text text-anchor=\"middle\" x=\"2524\" y=\"-155.8\" font-family=\"Times,serif\" font-size=\"14.00\"> </text>\n<polyline fill=\"none\" stroke=\"black\" points=\"2534,-141.5 2534,-177.5 \"/>\n<text text-anchor=\"middle\" x=\"2576.5\" y=\"-155.8\" font-family=\"Times,serif\" font-size=\"14.00\">data &#45;2.1755</text>\n<polyline fill=\"none\" stroke=\"black\" points=\"2619,-141.5 2619,-177.5 \"/>\n<text text-anchor=\"middle\" x=\"2662\" y=\"-155.8\" font-family=\"Times,serif\" font-size=\"14.00\">grad &#45;1.0000</text>\n</g>\n<!-- 137787920738688&#45;&gt;137787920739072* -->\n<g id=\"edge28\" class=\"edge\">\n<title>137787920738688&#45;&gt;137787920739072*</title>\n<path fill=\"none\" stroke=\"black\" d=\"M2705.15,-175.83C2714.46,-177.44 2723.44,-178.99 2731.54,-180.38\"/>\n<polygon fill=\"black\" stroke=\"black\" points=\"2731.19,-183.87 2741.64,-182.12 2732.38,-176.98 2731.19,-183.87\"/>\n</g>\n<!-- 137787920738688log -->\n<g id=\"node25\" class=\"node\">\n<title>137787920738688log</title>\n<ellipse fill=\"none\" stroke=\"black\" cx=\"2451\" cy=\"-159.5\" rx=\"27\" ry=\"18\"/>\n<text text-anchor=\"middle\" x=\"2451\" y=\"-155.8\" font-family=\"Times,serif\" font-size=\"14.00\">log</text>\n</g>\n<!-- 137787920738688log&#45;&gt;137787920738688 -->\n<g id=\"edge10\" class=\"edge\">\n<title>137787920738688log&#45;&gt;137787920738688</title>\n<path fill=\"none\" stroke=\"black\" d=\"M2478.19,-159.5C2485.67,-159.5 2494.31,-159.5 2503.51,-159.5\"/>\n<polygon fill=\"black\" stroke=\"black\" points=\"2503.68,-163 2513.68,-159.5 2503.68,-156 2503.68,-163\"/>\n</g>\n<!-- 137787920739216 -->\n<g id=\"node26\" class=\"node\">\n<title>137787920739216</title>\n<polygon fill=\"none\" stroke=\"black\" points=\"1254.5,-165.5 1254.5,-201.5 1440.5,-201.5 1440.5,-165.5 1254.5,-165.5\"/>\n<text text-anchor=\"middle\" x=\"1264.5\" y=\"-179.8\" font-family=\"Times,serif\" font-size=\"14.00\"> </text>\n<polyline fill=\"none\" stroke=\"black\" points=\"1274.5,-165.5 1274.5,-201.5 \"/>\n<text text-anchor=\"middle\" x=\"1314.5\" y=\"-179.8\" font-family=\"Times,serif\" font-size=\"14.00\">data 2.7183</text>\n<polyline fill=\"none\" stroke=\"black\" points=\"1354.5,-165.5 1354.5,-201.5 \"/>\n<text text-anchor=\"middle\" x=\"1397.5\" y=\"-179.8\" font-family=\"Times,serif\" font-size=\"14.00\">grad &#45;0.3261</text>\n</g>\n<!-- 137787920739216&#45;&gt;137787920732304+ -->\n<g id=\"edge23\" class=\"edge\">\n<title>137787920739216&#45;&gt;137787920732304+</title>\n<path fill=\"none\" stroke=\"black\" d=\"M1411.95,-165.46C1422.02,-162.52 1432.31,-159.46 1442,-156.5 1451.37,-153.64 1461.5,-150.42 1470.81,-147.42\"/>\n<polygon fill=\"black\" stroke=\"black\" points=\"1472.07,-150.69 1480.5,-144.27 1469.91,-144.03 1472.07,-150.69\"/>\n</g>\n<!-- 137787920739216&#45;&gt;137787920738784* -->\n<g id=\"edge20\" class=\"edge\">\n<title>137787920739216&#45;&gt;137787920738784*</title>\n<path fill=\"none\" stroke=\"black\" d=\"M1440.6,-183.5C1502.96,-183.5 1587.19,-183.5 1661.5,-183.5 1661.5,-183.5 1661.5,-183.5 1821,-183.5 1923.1,-183.5 2043.17,-170.97 2101.92,-164.02\"/>\n<polygon fill=\"black\" stroke=\"black\" points=\"2102.65,-167.45 2112.16,-162.79 2101.82,-160.5 2102.65,-167.45\"/>\n</g>\n<!-- 137787920739216exp&#45;&gt;137787920739216 -->\n<g id=\"edge11\" class=\"edge\">\n<title>137787920739216exp&#45;&gt;137787920739216</title>\n<path fill=\"none\" stroke=\"black\" d=\"M1217.03,-183.5C1225,-183.5 1234.31,-183.5 1244.2,-183.5\"/>\n<polygon fill=\"black\" stroke=\"black\" points=\"1244.27,-187 1254.27,-183.5 1244.27,-180 1244.27,-187\"/>\n</g>\n<!-- 137787920735664 -->\n<g id=\"node28\" class=\"node\">\n<title>137787920735664</title>\n<polygon fill=\"none\" stroke=\"black\" points=\"312.5,-55.5 312.5,-91.5 494.5,-91.5 494.5,-55.5 312.5,-55.5\"/>\n<text text-anchor=\"middle\" x=\"322.5\" y=\"-69.8\" font-family=\"Times,serif\" font-size=\"14.00\"> </text>\n<polyline fill=\"none\" stroke=\"black\" points=\"332.5,-55.5 332.5,-91.5 \"/>\n<text text-anchor=\"middle\" x=\"372.5\" y=\"-69.8\" font-family=\"Times,serif\" font-size=\"14.00\">data 0.0000</text>\n<polyline fill=\"none\" stroke=\"black\" points=\"412.5,-55.5 412.5,-91.5 \"/>\n<text text-anchor=\"middle\" x=\"453.5\" y=\"-69.8\" font-family=\"Times,serif\" font-size=\"14.00\">grad 0.0418</text>\n</g>\n<!-- 137787920735664&#45;&gt;137787920735760+ -->\n<g id=\"edge19\" class=\"edge\">\n<title>137787920735664&#45;&gt;137787920735760+</title>\n<path fill=\"none\" stroke=\"black\" d=\"M494.68,-73.5C504.22,-73.5 513.48,-73.5 521.84,-73.5\"/>\n<polygon fill=\"black\" stroke=\"black\" points=\"521.9,-77 531.9,-73.5 521.9,-70 521.9,-77\"/>\n</g>\n<!-- 137787920738784 -->\n<g id=\"node29\" class=\"node\">\n<title>137787920738784</title>\n<polygon fill=\"none\" stroke=\"black\" points=\"2202,-141.5 2202,-177.5 2388,-177.5 2388,-141.5 2202,-141.5\"/>\n<text text-anchor=\"middle\" x=\"2212\" y=\"-155.8\" font-family=\"Times,serif\" font-size=\"14.00\"> </text>\n<polyline fill=\"none\" stroke=\"black\" points=\"2222,-141.5 2222,-177.5 \"/>\n<text text-anchor=\"middle\" x=\"2262\" y=\"-155.8\" font-family=\"Times,serif\" font-size=\"14.00\">data 0.1135</text>\n<polyline fill=\"none\" stroke=\"black\" points=\"2302,-141.5 2302,-177.5 \"/>\n<text text-anchor=\"middle\" x=\"2345\" y=\"-155.8\" font-family=\"Times,serif\" font-size=\"14.00\">grad &#45;8.8067</text>\n</g>\n<!-- 137787920738784&#45;&gt;137787920738688log -->\n<g id=\"edge26\" class=\"edge\">\n<title>137787920738784&#45;&gt;137787920738688log</title>\n<path fill=\"none\" stroke=\"black\" d=\"M2388.25,-159.5C2397.15,-159.5 2405.76,-159.5 2413.59,-159.5\"/>\n<polygon fill=\"black\" stroke=\"black\" points=\"2413.73,-163 2423.73,-159.5 2413.73,-156 2413.73,-163\"/>\n</g>\n<!-- 137787920738784*&#45;&gt;137787920738784 -->\n<g id=\"edge12\" class=\"edge\">\n<title>137787920738784*&#45;&gt;137787920738784</title>\n<path fill=\"none\" stroke=\"black\" d=\"M2166.12,-159.5C2173.62,-159.5 2182.29,-159.5 2191.5,-159.5\"/>\n<polygon fill=\"black\" stroke=\"black\" points=\"2191.69,-163 2201.69,-159.5 2191.69,-156 2191.69,-163\"/>\n</g>\n</g>\n</svg>\n",
            "text/plain": [
              "<graphviz.graphs.Digraph at 0x7d514011c580>"
            ]
          },
          "metadata": {},
          "execution_count": 9
        }
      ]
    },
    {
      "cell_type": "code",
      "source": [
        "# verify the gradient using the torch library\n",
        "# torch should give you the exact same gradient\n",
        "import torch\n",
        "\n",
        "# This is the stupidest way to do it but I don't care\n",
        "a = torch.tensor([0.0]); a.requires_grad = True\n",
        "ab = a.exp()\n",
        "ac = ab + torch.tensor([0.0])\n",
        "b = torch.tensor([3.0]); b.requires_grad = True\n",
        "bb = b.exp()\n",
        "bc = bb + ac\n",
        "c = torch.tensor([-2.0]); c.requires_grad = True\n",
        "cb = c.exp()\n",
        "cc = bc + cb\n",
        "d = torch.tensor([1.0]); d.requires_grad = True\n",
        "db = d.exp()\n",
        "dc = db + cc\n",
        "dd = dc ** -1\n",
        "de = dd * db\n",
        "df = de.log()\n",
        "dg = torch.tensor([-1.0])\n",
        "loss = df * dg\n",
        "\n",
        "loss.backward()\n",
        "print(loss.data)\n",
        "\n",
        "logits = [a, b, c, d]\n",
        "\n",
        "ans = [0.041772570515350445, 0.8390245074625319, 0.005653302662216329, -0.8864503806400986]\n",
        "for dim in range(4):\n",
        "  ok = 'OK' if abs(logits[dim].grad - ans[dim]) < 1e-5 else 'WRONG!'\n",
        "  print(f\"{ok} for dim {dim}: expected {ans[dim]}, yours returns {logits[dim].grad}\")"
      ],
      "metadata": {
        "id": "q7ca1SVAGG1S",
        "colab": {
          "base_uri": "https://localhost:8080/"
        },
        "outputId": "2da4c69c-e2c7-4736-e9c5-d1e8db450a3b"
      },
      "execution_count": 7,
      "outputs": [
        {
          "output_type": "stream",
          "name": "stdout",
          "text": [
            "tensor([2.1755])\n",
            "OK for dim 0: expected 0.041772570515350445, yours returns tensor([0.0418])\n",
            "OK for dim 1: expected 0.8390245074625319, yours returns tensor([0.8390])\n",
            "OK for dim 2: expected 0.005653302662216329, yours returns tensor([0.0057])\n",
            "OK for dim 3: expected -0.8864503806400986, yours returns tensor([-0.8865])\n"
          ]
        }
      ]
    }
  ]
}