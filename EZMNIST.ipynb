{
  "nbformat": 4,
  "nbformat_minor": 0,
  "metadata": {
    "colab": {
      "provenance": [],
      "authorship_tag": "ABX9TyNct0gjFhkZTMIynshet6eN",
      "include_colab_link": true
    },
    "kernelspec": {
      "name": "python3",
      "display_name": "Python 3"
    },
    "language_info": {
      "name": "python"
    }
  },
  "cells": [
    {
      "cell_type": "markdown",
      "metadata": {
        "id": "view-in-github",
        "colab_type": "text"
      },
      "source": [
        "<a href=\"https://colab.research.google.com/github/Trickshotblaster/nn-practices/blob/main/EZMNIST.ipynb\" target=\"_parent\"><img src=\"https://colab.research.google.com/assets/colab-badge.svg\" alt=\"Open In Colab\"/></a>"
      ]
    },
    {
      "cell_type": "code",
      "execution_count": 1,
      "metadata": {
        "colab": {
          "base_uri": "https://localhost:8080/"
        },
        "id": "La2cpgcZ9y31",
        "outputId": "2b2a9037-f1cd-474c-adeb-8b397b4631dc"
      },
      "outputs": [
        {
          "output_type": "stream",
          "name": "stdout",
          "text": [
            "Downloading http://yann.lecun.com/exdb/mnist/train-images-idx3-ubyte.gz\n",
            "Failed to download (trying next):\n",
            "HTTP Error 502: Bad Gateway\n",
            "\n",
            "Downloading https://ossci-datasets.s3.amazonaws.com/mnist/train-images-idx3-ubyte.gz\n",
            "Downloading https://ossci-datasets.s3.amazonaws.com/mnist/train-images-idx3-ubyte.gz to ./data/MNIST/raw/train-images-idx3-ubyte.gz\n"
          ]
        },
        {
          "output_type": "stream",
          "name": "stderr",
          "text": [
            "100%|██████████| 9912422/9912422 [00:00<00:00, 15991242.47it/s]\n"
          ]
        },
        {
          "output_type": "stream",
          "name": "stdout",
          "text": [
            "Extracting ./data/MNIST/raw/train-images-idx3-ubyte.gz to ./data/MNIST/raw\n",
            "\n",
            "Downloading http://yann.lecun.com/exdb/mnist/train-labels-idx1-ubyte.gz\n",
            "Downloading http://yann.lecun.com/exdb/mnist/train-labels-idx1-ubyte.gz to ./data/MNIST/raw/train-labels-idx1-ubyte.gz\n"
          ]
        },
        {
          "output_type": "stream",
          "name": "stderr",
          "text": [
            "100%|██████████| 28881/28881 [00:00<00:00, 55745832.41it/s]\n"
          ]
        },
        {
          "output_type": "stream",
          "name": "stdout",
          "text": [
            "Extracting ./data/MNIST/raw/train-labels-idx1-ubyte.gz to ./data/MNIST/raw\n",
            "\n",
            "Downloading http://yann.lecun.com/exdb/mnist/t10k-images-idx3-ubyte.gz\n",
            "Downloading http://yann.lecun.com/exdb/mnist/t10k-images-idx3-ubyte.gz to ./data/MNIST/raw/t10k-images-idx3-ubyte.gz\n"
          ]
        },
        {
          "output_type": "stream",
          "name": "stderr",
          "text": [
            "100%|██████████| 1648877/1648877 [00:00<00:00, 19683878.65it/s]\n"
          ]
        },
        {
          "output_type": "stream",
          "name": "stdout",
          "text": [
            "Extracting ./data/MNIST/raw/t10k-images-idx3-ubyte.gz to ./data/MNIST/raw\n",
            "\n",
            "Downloading http://yann.lecun.com/exdb/mnist/t10k-labels-idx1-ubyte.gz\n",
            "Downloading http://yann.lecun.com/exdb/mnist/t10k-labels-idx1-ubyte.gz to ./data/MNIST/raw/t10k-labels-idx1-ubyte.gz\n"
          ]
        },
        {
          "output_type": "stream",
          "name": "stderr",
          "text": [
            "100%|██████████| 4542/4542 [00:00<00:00, 12118656.98it/s]\n"
          ]
        },
        {
          "output_type": "stream",
          "name": "stdout",
          "text": [
            "Extracting ./data/MNIST/raw/t10k-labels-idx1-ubyte.gz to ./data/MNIST/raw\n",
            "\n"
          ]
        }
      ],
      "source": [
        "import torch\n",
        "import torchvision\n",
        "\n",
        "# Load the MNIST dataset\n",
        "mnist_train = torchvision.datasets.MNIST(\n",
        "    root='./data',\n",
        "    train=True,\n",
        "    download=True,\n",
        "    transform=torchvision.transforms.ToTensor()\n",
        ")\n",
        "\n",
        "# Load the MNIST test dataset\n",
        "mnist_test = torchvision.datasets.MNIST(\n",
        "    root='./data',\n",
        "    train=False,\n",
        "    download=True,\n",
        "    transform=torchvision.transforms.ToTensor()\n",
        ")\n"
      ]
    },
    {
      "cell_type": "code",
      "source": [
        "import matplotlib.pyplot as plt"
      ],
      "metadata": {
        "id": "3x5PHHou99VO"
      },
      "execution_count": 2,
      "outputs": []
    },
    {
      "cell_type": "code",
      "source": [
        "plt.imshow(mnist_train[0][0].view(28, 28), cmap='gray') # data science right here"
      ],
      "metadata": {
        "colab": {
          "base_uri": "https://localhost:8080/",
          "height": 447
        },
        "id": "D3vlfWUYAsFQ",
        "outputId": "14bbe700-51e8-412b-95db-5b429a385d3c"
      },
      "execution_count": 3,
      "outputs": [
        {
          "output_type": "execute_result",
          "data": {
            "text/plain": [
              "<matplotlib.image.AxesImage at 0x78c37033c070>"
            ]
          },
          "metadata": {},
          "execution_count": 3
        },
        {
          "output_type": "display_data",
          "data": {
            "text/plain": [
              "<Figure size 640x480 with 1 Axes>"
            ],
            "image/png": "[encoded data removed]"
          },
          "metadata": {}
        }
      ]
    },
    {
      "cell_type": "code",
      "source": [
        "mnist_train[0][1]"
      ],
      "metadata": {
        "colab": {
          "base_uri": "https://localhost:8080/"
        },
        "id": "Vrfia7ElBews",
        "outputId": "24af15e5-2649-4075-cd6f-f3f733856433"
      },
      "execution_count": 4,
      "outputs": [
        {
          "output_type": "execute_result",
          "data": {
            "text/plain": [
              "5"
            ]
          },
          "metadata": {},
          "execution_count": 4
        }
      ]
    },
    {
      "cell_type": "code",
      "source": [
        "import torch.nn.functional as F"
      ],
      "metadata": {
        "id": "xf76uMZOBjID"
      },
      "execution_count": 5,
      "outputs": []
    },
    {
      "cell_type": "code",
      "source": [
        "def cleanup(data):\n",
        "  xs = []\n",
        "  ys = []\n",
        "  for d in data:\n",
        "    # (in, num) to x and y\n",
        "    xs.append(d[0])\n",
        "    ys.append(F.one_hot(torch.tensor(d[1]), num_classes=10))\n",
        "  return torch.stack(xs), torch.stack(ys)\n",
        "\n",
        "Xtr, Ytr = cleanup(mnist_train)\n",
        "Xte, Yte = cleanup(mnist_test)"
      ],
      "metadata": {
        "id": "1gktSdAqCF_y"
      },
      "execution_count": 6,
      "outputs": []
    },
    {
      "cell_type": "code",
      "source": [
        "train_len = len(Xtr)\n",
        "train_len"
      ],
      "metadata": {
        "colab": {
          "base_uri": "https://localhost:8080/"
        },
        "id": "pM-HWPaYDAHh",
        "outputId": "edbacf34-e050-4dc1-8ce9-71fe2e516a3a"
      },
      "execution_count": 7,
      "outputs": [
        {
          "output_type": "execute_result",
          "data": {
            "text/plain": [
              "60000"
            ]
          },
          "metadata": {},
          "execution_count": 7
        }
      ]
    },
    {
      "cell_type": "code",
      "source": [
        "num_epochs = 10000\n",
        "lr = 0.01\n",
        "batch_size = 16"
      ],
      "metadata": {
        "id": "TDDRZqo7Bm2Y"
      },
      "execution_count": 8,
      "outputs": []
    },
    {
      "cell_type": "code",
      "source": [
        "w1 = torch.randn((784, 100)) * 0.1\n",
        "b1 = torch.randn(100) * 0.01\n",
        "w2 = torch.randn((100, 70)) * 0.1\n",
        "b2 = torch.randn(70) * 0.01\n",
        "w3 = torch.randn((70, 10)) * 0.1\n",
        "b3 = torch.randn(10) * 0.01\n",
        "params = [w1, b1, w2, b2, w3, b3]\n",
        "for p in params:\n",
        "  p.requires_grad = True"
      ],
      "metadata": {
        "id": "LA8ZPWm4D-up"
      },
      "execution_count": 9,
      "outputs": []
    },
    {
      "cell_type": "code",
      "source": [
        "for epoch in range(num_epochs):\n",
        "  xin = torch.randint(train_len -1, (batch_size, ))\n",
        "  inputs = Xtr[xin].view(batch_size, 784)\n",
        "  wi1 = inputs @ w1\n",
        "  wi1b = (wi1 + b1).tanh()\n",
        "  wi2 = wi1b @ w2\n",
        "  wi2b = (wi2 + b2).tanh()\n",
        "  wi3 = wi2b @ w3\n",
        "  out = (wi3 + b3).tanh()\n",
        "  loss = ((Ytr[xin] - out)**2).mean()\n",
        "\n",
        "  for p in params:\n",
        "    p.grad = None\n",
        "\n",
        "  loss.backward()\n",
        "\n",
        "  for p in params:\n",
        "    p.data -= p.grad * lr\n",
        "\n",
        "  if epoch % 1000 == 0:\n",
        "    print(\"loss:\", loss.item())\n",
        "\n",
        "inputs = Xtr.view(-1, 784)\n",
        "wi1 = inputs @ w1\n",
        "wi1b = (wi1 + b1).tanh()\n",
        "wi2 = wi1b @ w2\n",
        "wi2b = (wi2 + b2).tanh()\n",
        "wi3 = wi2b @ w3\n",
        "out = (wi3 + b3).tanh()\n",
        "loss = ((Ytr - out)**2).mean()\n",
        "print(\"train loss\", loss.item())\n",
        "\n",
        "inputs = Xte.view(-1, 784)\n",
        "wi1 = inputs @ w1\n",
        "wi1b = (wi1 + b1).tanh()\n",
        "wi2 = wi1b @ w2\n",
        "wi2b = (wi2 + b2).tanh()\n",
        "wi3 = wi2b @ w3\n",
        "out = (wi3 + b3).tanh()\n",
        "loss = ((Yte - out)**2).mean()\n",
        "print(\"test loss\", loss.item())"
      ],
      "metadata": {
        "colab": {
          "base_uri": "https://localhost:8080/"
        },
        "id": "9zt3anwgBwWt",
        "outputId": "058cc0f8-e890-40cb-db72-67d7008df2dd"
      },
      "execution_count": 10,
      "outputs": [
        {
          "output_type": "stream",
          "name": "stdout",
          "text": [
            "loss: 0.18746814131736755\n",
            "loss: 0.07920701056718826\n",
            "loss: 0.06284866482019424\n",
            "loss: 0.045428283512592316\n",
            "loss: 0.05610272288322449\n",
            "loss: 0.061810314655303955\n",
            "loss: 0.04524793103337288\n",
            "loss: 0.04849855601787567\n",
            "loss: 0.03721059113740921\n",
            "loss: 0.03544498607516289\n",
            "train loss 0.04438776522874832\n",
            "test loss 0.043615225702524185\n"
          ]
        }
      ]
    },
    {
      "cell_type": "code",
      "source": [
        "test_len = len(Xte)"
      ],
      "metadata": {
        "id": "aWrecm5EPz6V"
      },
      "execution_count": 16,
      "outputs": []
    },
    {
      "cell_type": "code",
      "source": [
        "def forward(ins):\n",
        "  inputs = ins.view(784)\n",
        "  wi1 = inputs @ w1\n",
        "  wi1b = (wi1 + b1).tanh()\n",
        "  wi2 = wi1b @ w2\n",
        "  wi2b = (wi2 + b2).tanh()\n",
        "  wi3 = wi2b @ w3\n",
        "  out = (wi3 + b3).tanh()\n",
        "  return torch.argmax(out)\n",
        "\n",
        "with torch.no_grad():\n",
        "  index = torch.randint(test_len - 1, (1,))\n",
        "  print(\"net prediction\", forward(Xte[index]).item(), \"actual\", torch.argmax(Yte[index]))\n",
        "  plt.imshow(Xte[index].view(28, 28), cmap='gray')\n"
      ],
      "metadata": {
        "colab": {
          "base_uri": "https://localhost:8080/",
          "height": 447
        },
        "id": "quolAcfrFvpy",
        "outputId": "b29c39ca-5edb-43f1-f9d2-b85289d0e159"
      },
      "execution_count": 19,
      "outputs": [
        {
          "output_type": "stream",
          "name": "stdout",
          "text": [
            "net prediction 8 actual tensor(8)\n"
          ]
        },
        {
          "output_type": "display_data",
          "data": {
            "text/plain": [
              "<Figure size 640x480 with 1 Axes>"
            ],
            "image/png": "[encoded data removed]"
          },
          "metadata": {}
        }
      ]
    },
    {
      "cell_type": "code",
      "source": [
        "# wrong example\n",
        "with torch.no_grad():\n",
        "  correct = True\n",
        "  while correct:\n",
        "    index = torch.randint(test_len - 1, (1,))\n",
        "    correct = (forward(Xte[index]).item() == torch.argmax(Yte[index]))\n",
        "  print(\"net prediction\", forward(Xte[index]).item(), \"actual\", torch.argmax(Yte[index]))\n",
        "  plt.imshow(Xte[index].view(28, 28), cmap='gray')"
      ],
      "metadata": {
        "colab": {
          "base_uri": "https://localhost:8080/",
          "height": 447
        },
        "id": "OxrtPaDrRfTB",
        "outputId": "13a5a194-d07d-4d49-ea86-30cc13c6a9b0"
      },
      "execution_count": 20,
      "outputs": [
        {
          "output_type": "stream",
          "name": "stdout",
          "text": [
            "net prediction 3 actual tensor(8)\n"
          ]
        },
        {
          "output_type": "display_data",
          "data": {
            "text/plain": [
              "<Figure size 640x480 with 1 Axes>"
            ],
            "image/png": "[encoded data removed]"
          },
          "metadata": {}
        }
      ]
    }
  ]
}