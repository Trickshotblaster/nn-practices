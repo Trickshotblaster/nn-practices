{
  "nbformat": 4,
  "nbformat_minor": 0,
  "metadata": {
    "colab": {
      "provenance": [],
      "authorship_tag": "ABX9TyPpWX9CFVKeYF/nBhPba2/Z",
      "include_colab_link": true
    },
    "kernelspec": {
      "name": "python3",
      "display_name": "Python 3"
    },
    "language_info": {
      "name": "python"
    }
  },
  "cells": [
    {
      "cell_type": "markdown",
      "metadata": {
        "id": "view-in-github",
        "colab_type": "text"
      },
      "source": [
        "<a href=\"https://colab.research.google.com/github/Trickshotblaster/nn-practices/blob/main/EZMNIST.ipynb\" target=\"_parent\"><img src=\"https://colab.research.google.com/assets/colab-badge.svg\" alt=\"Open In Colab\"/></a>"
      ]
    },
    {
      "cell_type": "code",
      "execution_count": 1,
      "metadata": {
        "colab": {
          "base_uri": "https://localhost:8080/"
        },
        "id": "La2cpgcZ9y31",
        "outputId": "51a633ef-3937-4c59-adcf-6568e4f387c8"
      },
      "outputs": [
        {
          "output_type": "stream",
          "name": "stdout",
          "text": [
            "Downloading http://yann.lecun.com/exdb/mnist/train-images-idx3-ubyte.gz\n",
            "Downloading http://yann.lecun.com/exdb/mnist/train-images-idx3-ubyte.gz to ./data/MNIST/raw/train-images-idx3-ubyte.gz\n"
          ]
        },
        {
          "output_type": "stream",
          "name": "stderr",
          "text": [
            "100%|██████████| 9912422/9912422 [00:00<00:00, 70213586.23it/s]\n"
          ]
        },
        {
          "output_type": "stream",
          "name": "stdout",
          "text": [
            "Extracting ./data/MNIST/raw/train-images-idx3-ubyte.gz to ./data/MNIST/raw\n",
            "\n",
            "Downloading http://yann.lecun.com/exdb/mnist/train-labels-idx1-ubyte.gz\n",
            "Downloading http://yann.lecun.com/exdb/mnist/train-labels-idx1-ubyte.gz to ./data/MNIST/raw/train-labels-idx1-ubyte.gz\n"
          ]
        },
        {
          "output_type": "stream",
          "name": "stderr",
          "text": [
            "100%|██████████| 28881/28881 [00:00<00:00, 12979287.88it/s]\n"
          ]
        },
        {
          "output_type": "stream",
          "name": "stdout",
          "text": [
            "Extracting ./data/MNIST/raw/train-labels-idx1-ubyte.gz to ./data/MNIST/raw\n",
            "\n",
            "Downloading http://yann.lecun.com/exdb/mnist/t10k-images-idx3-ubyte.gz\n",
            "Downloading http://yann.lecun.com/exdb/mnist/t10k-images-idx3-ubyte.gz to ./data/MNIST/raw/t10k-images-idx3-ubyte.gz\n"
          ]
        },
        {
          "output_type": "stream",
          "name": "stderr",
          "text": [
            "100%|██████████| 1648877/1648877 [00:00<00:00, 22386886.82it/s]\n"
          ]
        },
        {
          "output_type": "stream",
          "name": "stdout",
          "text": [
            "Extracting ./data/MNIST/raw/t10k-images-idx3-ubyte.gz to ./data/MNIST/raw\n",
            "\n",
            "Downloading http://yann.lecun.com/exdb/mnist/t10k-labels-idx1-ubyte.gz\n",
            "Downloading http://yann.lecun.com/exdb/mnist/t10k-labels-idx1-ubyte.gz to ./data/MNIST/raw/t10k-labels-idx1-ubyte.gz\n"
          ]
        },
        {
          "output_type": "stream",
          "name": "stderr",
          "text": [
            "100%|██████████| 4542/4542 [00:00<00:00, 14744991.31it/s]\n"
          ]
        },
        {
          "output_type": "stream",
          "name": "stdout",
          "text": [
            "Extracting ./data/MNIST/raw/t10k-labels-idx1-ubyte.gz to ./data/MNIST/raw\n",
            "\n"
          ]
        }
      ],
      "source": [
        "import torch\n",
        "import torchvision\n",
        "\n",
        "# Load the MNIST dataset\n",
        "mnist_train = torchvision.datasets.MNIST(\n",
        "    root='./data',\n",
        "    train=True,\n",
        "    download=True,\n",
        "    transform=torchvision.transforms.ToTensor()\n",
        ")\n",
        "\n",
        "# Load the MNIST test dataset\n",
        "mnist_test = torchvision.datasets.MNIST(\n",
        "    root='./data',\n",
        "    train=False,\n",
        "    download=True,\n",
        "    transform=torchvision.transforms.ToTensor()\n",
        ")\n"
      ]
    },
    {
      "cell_type": "code",
      "source": [
        "import matplotlib.pyplot as plt"
      ],
      "metadata": {
        "id": "3x5PHHou99VO"
      },
      "execution_count": 2,
      "outputs": []
    },
    {
      "cell_type": "code",
      "source": [
        "plt.imshow(mnist_train[0][0].view(28, 28), cmap='gray') # data science right here"
      ],
      "metadata": {
        "colab": {
          "base_uri": "https://localhost:8080/",
          "height": 447
        },
        "id": "D3vlfWUYAsFQ",
        "outputId": "076e9ef9-08bb-4227-9b9c-bbcc61ecfe1d"
      },
      "execution_count": 11,
      "outputs": [
        {
          "output_type": "execute_result",
          "data": {
            "text/plain": [
              "<matplotlib.image.AxesImage at 0x7ad64fd682b0>"
            ]
          },
          "metadata": {},
          "execution_count": 11
        },
        {
          "output_type": "display_data",
          "data": {
            "text/plain": [
              "<Figure size 640x480 with 1 Axes>"
            ],
            "image/png": "[encoded data removed]"
          },
          "metadata": {}
        }
      ]
    },
    {
      "cell_type": "code",
      "source": [
        "mnist_train[0][1]"
      ],
      "metadata": {
        "colab": {
          "base_uri": "https://localhost:8080/"
        },
        "id": "Vrfia7ElBews",
        "outputId": "96eff495-b123-46ea-8e85-c3c7a231cd92"
      },
      "execution_count": 12,
      "outputs": [
        {
          "output_type": "execute_result",
          "data": {
            "text/plain": [
              "5"
            ]
          },
          "metadata": {},
          "execution_count": 12
        }
      ]
    },
    {
      "cell_type": "code",
      "source": [
        "import torch.nn.functional as F"
      ],
      "metadata": {
        "id": "xf76uMZOBjID"
      },
      "execution_count": 13,
      "outputs": []
    },
    {
      "cell_type": "code",
      "source": [
        "def cleanup(data):\n",
        "  xs = []\n",
        "  ys = []\n",
        "  for d in data:\n",
        "    # (in, num) to x and y\n",
        "    xs.append(d[0])\n",
        "    ys.append(F.one_hot(torch.tensor(d[1]), num_classes=10))\n",
        "  return torch.stack(xs), torch.stack(ys)\n",
        "\n",
        "Xtr, Ytr = cleanup(mnist_train)\n",
        "Xte, Yte = cleanup(mnist_test)"
      ],
      "metadata": {
        "id": "1gktSdAqCF_y"
      },
      "execution_count": 23,
      "outputs": []
    },
    {
      "cell_type": "code",
      "source": [
        "train_len = len(Xtr)\n",
        "train_len"
      ],
      "metadata": {
        "colab": {
          "base_uri": "https://localhost:8080/"
        },
        "id": "pM-HWPaYDAHh",
        "outputId": "c360316d-fafc-4f88-8e62-f4cbb298a574"
      },
      "execution_count": 24,
      "outputs": [
        {
          "output_type": "execute_result",
          "data": {
            "text/plain": [
              "60000"
            ]
          },
          "metadata": {},
          "execution_count": 24
        }
      ]
    },
    {
      "cell_type": "code",
      "source": [
        "num_epochs = 10000\n",
        "lr = 0.01\n",
        "batch_size = 16"
      ],
      "metadata": {
        "id": "TDDRZqo7Bm2Y"
      },
      "execution_count": 25,
      "outputs": []
    },
    {
      "cell_type": "code",
      "source": [
        "w1 = torch.randn((784, 100)) * 0.1\n",
        "b1 = torch.randn(100) * 0.01\n",
        "w2 = torch.randn((100, 70)) * 0.1\n",
        "b2 = torch.randn(70) * 0.01\n",
        "w3 = torch.randn((70, 10)) * 0.1\n",
        "b3 = torch.randn(10) * 0.01\n",
        "params = [w1, b1, w2, b2, w3, b3]\n",
        "for p in params:\n",
        "  p.requires_grad = True"
      ],
      "metadata": {
        "id": "LA8ZPWm4D-up"
      },
      "execution_count": 33,
      "outputs": []
    },
    {
      "cell_type": "code",
      "source": [
        "for epoch in range(num_epochs):\n",
        "  xin = torch.randint(train_len -1, (batch_size, ))\n",
        "  inputs = Xtr[xin].view(batch_size, 784)\n",
        "  wi1 = inputs @ w1\n",
        "  wi1b = (wi1 + b1).tanh()\n",
        "  wi2 = wi1b @ w2\n",
        "  wi2b = (wi2 + b2).tanh()\n",
        "  wi3 = wi2b @ w3\n",
        "  out = (wi3 + b3).tanh()\n",
        "  loss = ((Ytr[xin] - out)**2).mean()\n",
        "\n",
        "  for p in params:\n",
        "    p.grad = None\n",
        "\n",
        "  loss.backward()\n",
        "\n",
        "  for p in params:\n",
        "    p.data -= p.grad * lr\n",
        "\n",
        "  if epoch % 1000 == 0:\n",
        "    print(\"loss:\", loss.item())\n",
        "\n",
        "inputs = Xtr.view(-1, 784)\n",
        "wi1 = inputs @ w1\n",
        "wi1b = (wi1 + b1).tanh()\n",
        "wi2 = wi1b @ w2\n",
        "wi2b = (wi2 + b2).tanh()\n",
        "wi3 = wi2b @ w3\n",
        "out = (wi3 + b3).tanh()\n",
        "loss = ((Ytr - out)**2).mean()\n",
        "print(\"train loss\", loss.item())\n",
        "\n",
        "inputs = Xte.view(-1, 784)\n",
        "wi1 = inputs @ w1\n",
        "wi1b = (wi1 + b1).tanh()\n",
        "wi2 = wi1b @ w2\n",
        "wi2b = (wi2 + b2).tanh()\n",
        "wi3 = wi2b @ w3\n",
        "out = (wi3 + b3).tanh()\n",
        "loss = ((Yte - out)**2).mean()\n",
        "print(\"test loss\", loss.item())"
      ],
      "metadata": {
        "colab": {
          "base_uri": "https://localhost:8080/"
        },
        "id": "9zt3anwgBwWt",
        "outputId": "9d47db57-611d-4729-c0d9-ccf21a591258"
      },
      "execution_count": 49,
      "outputs": [
        {
          "output_type": "stream",
          "name": "stdout",
          "text": [
            "loss: 0.04009079188108444\n",
            "loss: 0.03721605986356735\n",
            "loss: 0.03796101734042168\n",
            "loss: 0.03324798867106438\n",
            "loss: 0.036541879177093506\n",
            "loss: 0.026300782337784767\n",
            "loss: 0.02589086815714836\n",
            "loss: 0.024392982944846153\n",
            "loss: 0.02709316834807396\n",
            "loss: 0.02791806496679783\n",
            "train loss 0.03276928514242172\n",
            "test loss 0.03207601606845856\n"
          ]
        }
      ]
    },
    {
      "cell_type": "code",
      "source": [
        "def forward(ins):\n",
        "  inputs = ins.view(784)\n",
        "  wi1 = inputs @ w1\n",
        "  wi1b = (wi1 + b1).tanh()\n",
        "  wi2 = wi1b @ w2\n",
        "  wi2b = (wi2 + b2).tanh()\n",
        "  wi3 = wi2b @ w3\n",
        "  out = (wi3 + b3).tanh()\n",
        "  return torch.argmax(out)\n",
        "\n",
        "index = torch.randint(train_len - 1, (1,))\n",
        "print(\"net prediction\", forward(Xtr[index]).item(), \"actual\", torch.argmax(Ytr[index]))\n",
        "plt.imshow(Xtr[index].view(28, 28), cmap='gray')"
      ],
      "metadata": {
        "colab": {
          "base_uri": "https://localhost:8080/",
          "height": 465
        },
        "id": "quolAcfrFvpy",
        "outputId": "f02c8b4a-7905-4656-9ce5-276ab32b9bdc"
      },
      "execution_count": 56,
      "outputs": [
        {
          "output_type": "stream",
          "name": "stdout",
          "text": [
            "net prediction 8 actual tensor(8)\n"
          ]
        },
        {
          "output_type": "execute_result",
          "data": {
            "text/plain": [
              "<matplotlib.image.AxesImage at 0x7ad64ecf98d0>"
            ]
          },
          "metadata": {},
          "execution_count": 56
        },
        {
          "output_type": "display_data",
          "data": {
            "text/plain": [
              "<Figure size 640x480 with 1 Axes>"
            ],
            "image/png": "[encoded data removed]"
          },
          "metadata": {}
        }
      ]
    }
  ]
}