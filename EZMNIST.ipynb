{
  "nbformat": 4,
  "nbformat_minor": 0,
  "metadata": {
    "colab": {
      "provenance": [],
      "gpuType": "T4",
      "authorship_tag": "ABX9TyPLnAVvxiKTG5BURn7LQJtB",
      "include_colab_link": true
    },
    "kernelspec": {
      "name": "python3",
      "display_name": "Python 3"
    },
    "language_info": {
      "name": "python"
    },
    "accelerator": "GPU"
  },
  "cells": [
    {
      "cell_type": "markdown",
      "metadata": {
        "id": "view-in-github",
        "colab_type": "text"
      },
      "source": [
        "<a href=\"https://colab.research.google.com/github/Trickshotblaster/nn-practices/blob/main/EZMNIST.ipynb\" target=\"_parent\"><img src=\"https://colab.research.google.com/assets/colab-badge.svg\" alt=\"Open In Colab\"/></a>"
      ]
    },
    {
      "cell_type": "code",
      "execution_count": 1,
      "metadata": {
        "colab": {
          "base_uri": "https://localhost:8080/"
        },
        "id": "La2cpgcZ9y31",
        "outputId": "6352f8ae-1380-4239-82b8-8e19a6970a22"
      },
      "outputs": [
        {
          "output_type": "stream",
          "name": "stdout",
          "text": [
            "Downloading http://yann.lecun.com/exdb/mnist/train-images-idx3-ubyte.gz\n",
            "Downloading http://yann.lecun.com/exdb/mnist/train-images-idx3-ubyte.gz to ./data/MNIST/raw/train-images-idx3-ubyte.gz\n"
          ]
        },
        {
          "output_type": "stream",
          "name": "stderr",
          "text": [
            "100%|██████████| 9912422/9912422 [00:00<00:00, 26314440.79it/s]\n"
          ]
        },
        {
          "output_type": "stream",
          "name": "stdout",
          "text": [
            "Extracting ./data/MNIST/raw/train-images-idx3-ubyte.gz to ./data/MNIST/raw\n",
            "\n",
            "Downloading http://yann.lecun.com/exdb/mnist/train-labels-idx1-ubyte.gz\n",
            "Downloading http://yann.lecun.com/exdb/mnist/train-labels-idx1-ubyte.gz to ./data/MNIST/raw/train-labels-idx1-ubyte.gz\n"
          ]
        },
        {
          "output_type": "stream",
          "name": "stderr",
          "text": [
            "100%|██████████| 28881/28881 [00:00<00:00, 9639956.54it/s]\n"
          ]
        },
        {
          "output_type": "stream",
          "name": "stdout",
          "text": [
            "Extracting ./data/MNIST/raw/train-labels-idx1-ubyte.gz to ./data/MNIST/raw\n",
            "\n",
            "Downloading http://yann.lecun.com/exdb/mnist/t10k-images-idx3-ubyte.gz\n",
            "Downloading http://yann.lecun.com/exdb/mnist/t10k-images-idx3-ubyte.gz to ./data/MNIST/raw/t10k-images-idx3-ubyte.gz\n"
          ]
        },
        {
          "output_type": "stream",
          "name": "stderr",
          "text": [
            "100%|██████████| 1648877/1648877 [00:00<00:00, 30946631.87it/s]\n"
          ]
        },
        {
          "output_type": "stream",
          "name": "stdout",
          "text": [
            "Extracting ./data/MNIST/raw/t10k-images-idx3-ubyte.gz to ./data/MNIST/raw\n",
            "\n",
            "Downloading http://yann.lecun.com/exdb/mnist/t10k-labels-idx1-ubyte.gz\n",
            "Downloading http://yann.lecun.com/exdb/mnist/t10k-labels-idx1-ubyte.gz to ./data/MNIST/raw/t10k-labels-idx1-ubyte.gz\n"
          ]
        },
        {
          "output_type": "stream",
          "name": "stderr",
          "text": [
            "100%|██████████| 4542/4542 [00:00<00:00, 22787713.84it/s]"
          ]
        },
        {
          "output_type": "stream",
          "name": "stdout",
          "text": [
            "Extracting ./data/MNIST/raw/t10k-labels-idx1-ubyte.gz to ./data/MNIST/raw\n",
            "\n"
          ]
        },
        {
          "output_type": "stream",
          "name": "stderr",
          "text": [
            "\n"
          ]
        }
      ],
      "source": [
        "import torch\n",
        "import torchvision\n",
        "\n",
        "# Load the MNIST dataset\n",
        "mnist_train = torchvision.datasets.MNIST(\n",
        "    root='./data',\n",
        "    train=True,\n",
        "    download=True,\n",
        "    transform=torchvision.transforms.ToTensor()\n",
        ")\n",
        "\n",
        "# Load the MNIST test dataset\n",
        "mnist_test = torchvision.datasets.MNIST(\n",
        "    root='./data',\n",
        "    train=False,\n",
        "    download=True,\n",
        "    transform=torchvision.transforms.ToTensor()\n",
        ")\n"
      ]
    },
    {
      "cell_type": "code",
      "source": [
        "import matplotlib.pyplot as plt"
      ],
      "metadata": {
        "id": "3x5PHHou99VO"
      },
      "execution_count": 2,
      "outputs": []
    },
    {
      "cell_type": "code",
      "source": [
        "plt.imshow(mnist_train[0][0].view(28, 28), cmap='gray') # data science right here"
      ],
      "metadata": {
        "colab": {
          "base_uri": "https://localhost:8080/",
          "height": 447
        },
        "id": "D3vlfWUYAsFQ",
        "outputId": "7e1d65e7-638e-450a-e09b-f4d14a1bc395"
      },
      "execution_count": 3,
      "outputs": [
        {
          "output_type": "execute_result",
          "data": {
            "text/plain": [
              "<matplotlib.image.AxesImage at 0x7c7c69be3160>"
            ]
          },
          "metadata": {},
          "execution_count": 3
        },
        {
          "output_type": "display_data",
          "data": {
            "text/plain": [
              "<Figure size 640x480 with 1 Axes>"
            ],
            "image/png": "[encoded data removed]"
          },
          "metadata": {}
        }
      ]
    },
    {
      "cell_type": "code",
      "source": [
        "mnist_train[0][1]"
      ],
      "metadata": {
        "colab": {
          "base_uri": "https://localhost:8080/"
        },
        "id": "Vrfia7ElBews",
        "outputId": "54a642d6-d839-4532-98e0-9449ece2c9ad"
      },
      "execution_count": 4,
      "outputs": [
        {
          "output_type": "execute_result",
          "data": {
            "text/plain": [
              "5"
            ]
          },
          "metadata": {},
          "execution_count": 4
        }
      ]
    },
    {
      "cell_type": "code",
      "source": [
        "import torch.nn.functional as F"
      ],
      "metadata": {
        "id": "xf76uMZOBjID"
      },
      "execution_count": 5,
      "outputs": []
    },
    {
      "cell_type": "code",
      "source": [
        "device = torch.device(\"cuda:0\" if torch.cuda.is_available() else \"cpu\")"
      ],
      "metadata": {
        "id": "NhL_EVzszP3N"
      },
      "execution_count": 6,
      "outputs": []
    },
    {
      "cell_type": "code",
      "source": [
        "def cleanup(data):\n",
        "  xs = []\n",
        "  ys = []\n",
        "  for d in data:\n",
        "    # (in, num) to x and y\n",
        "    xs.append(d[0])\n",
        "    ys.append(F.one_hot(torch.tensor(d[1]), num_classes=10))\n",
        "  return torch.stack(xs).to(device), torch.stack(ys).to(device)\n",
        "\n",
        "Xtr, Ytr = cleanup(mnist_train)\n",
        "Xte, Yte = cleanup(mnist_test)"
      ],
      "metadata": {
        "id": "1gktSdAqCF_y"
      },
      "execution_count": 7,
      "outputs": []
    },
    {
      "cell_type": "code",
      "source": [
        "train_len = len(Xtr)\n",
        "train_len"
      ],
      "metadata": {
        "colab": {
          "base_uri": "https://localhost:8080/"
        },
        "id": "pM-HWPaYDAHh",
        "outputId": "b2932861-6428-46ea-ecc2-331b99a9bba2"
      },
      "execution_count": 8,
      "outputs": [
        {
          "output_type": "execute_result",
          "data": {
            "text/plain": [
              "60000"
            ]
          },
          "metadata": {},
          "execution_count": 8
        }
      ]
    },
    {
      "cell_type": "code",
      "source": [
        "w1 = torch.randn((784, 100)).to(device) * 0.1\n",
        "b1 = torch.randn(100).to(device) * 0.01\n",
        "w2 = torch.randn((100, 70)).to(device) * 0.1\n",
        "b2 = torch.randn(70).to(device) * 0.01\n",
        "w3 = torch.randn((70, 10)).to(device) * 0.1\n",
        "b3 = torch.randn(10).to(device) * 0.01\n",
        "params = [w1, b1, w2, b2, w3, b3]\n",
        "for p in params:\n",
        "  p.requires_grad = True"
      ],
      "metadata": {
        "id": "LA8ZPWm4D-up"
      },
      "execution_count": 27,
      "outputs": []
    },
    {
      "cell_type": "code",
      "source": [
        "num_epochs = 100000\n",
        "lr = 0.01\n",
        "batch_size = 512"
      ],
      "metadata": {
        "id": "TDDRZqo7Bm2Y"
      },
      "execution_count": 28,
      "outputs": []
    },
    {
      "cell_type": "code",
      "source": [
        "%%time\n",
        "torch.backends.cudnn.benchmark = True\n",
        "for epoch in range(num_epochs):\n",
        "  xin = torch.randint(train_len -1, (batch_size, ))\n",
        "  inputs = Xtr[xin].view(batch_size, 784).to(device)\n",
        "  wi1 = inputs @ w1\n",
        "  wi1b = (wi1 + b1).tanh()\n",
        "  wi2 = wi1b @ w2\n",
        "  wi2b = (wi2 + b2).tanh()\n",
        "  wi3 = wi2b @ w3\n",
        "  out = (wi3 + b3).tanh()\n",
        "  loss = ((Ytr[xin] - out)**2).mean()\n",
        "\n",
        "  for p in params:\n",
        "    p.grad = None\n",
        "\n",
        "  loss.backward()\n",
        "\n",
        "  for p in params:\n",
        "    p.data -= p.grad * lr\n",
        "\n",
        "  if epoch % 10000 == 0:\n",
        "    print(\"loss:\", loss.item())\n",
        "\n"
      ],
      "metadata": {
        "colab": {
          "base_uri": "https://localhost:8080/"
        },
        "id": "9zt3anwgBwWt",
        "outputId": "bb800aa6-a24f-4eac-a57b-23336a18f27f"
      },
      "execution_count": 30,
      "outputs": [
        {
          "output_type": "stream",
          "name": "stdout",
          "text": [
            "loss: 0.020808452740311623\n",
            "loss: 0.018574008718132973\n",
            "loss: 0.017561251297593117\n",
            "loss: 0.015652988106012344\n",
            "loss: 0.016563085839152336\n",
            "loss: 0.016520321369171143\n",
            "loss: 0.015158459544181824\n",
            "loss: 0.013388420455157757\n",
            "loss: 0.015290397219359875\n",
            "loss: 0.014192108996212482\n",
            "CPU times: user 1min 42s, sys: 3.56 s, total: 1min 46s\n",
            "Wall time: 1min 50s\n"
          ]
        }
      ]
    },
    {
      "cell_type": "code",
      "source": [
        "inputs = Xtr.view(-1, 784)\n",
        "wi1 = inputs @ w1\n",
        "wi1b = (wi1 + b1).tanh()\n",
        "wi2 = wi1b @ w2\n",
        "wi2b = (wi2 + b2).tanh()\n",
        "wi3 = wi2b @ w3\n",
        "out = (wi3 + b3).tanh()\n",
        "loss = ((Ytr - out)**2).mean()\n",
        "print(\"train loss\", loss.item())\n",
        "\n",
        "inputs = Xte.view(-1, 784)\n",
        "wi1 = inputs @ w1\n",
        "wi1b = (wi1 + b1).tanh()\n",
        "wi2 = wi1b @ w2\n",
        "wi2b = (wi2 + b2).tanh()\n",
        "wi3 = wi2b @ w3\n",
        "out = (wi3 + b3).tanh()\n",
        "loss = ((Yte - out)**2).mean()\n",
        "print(\"test loss\", loss.item())"
      ],
      "metadata": {
        "id": "-P3BPTkSzw-e",
        "outputId": "85faff2b-65f0-4d62-fef7-3a9d72aa1073",
        "colab": {
          "base_uri": "https://localhost:8080/"
        }
      },
      "execution_count": null,
      "outputs": [
        {
          "output_type": "stream",
          "name": "stdout",
          "text": [
            "train loss 0.01833365298807621\n",
            "test loss 0.017770763486623764\n"
          ]
        }
      ]
    },
    {
      "cell_type": "code",
      "source": [
        "test_len = len(Xte)"
      ],
      "metadata": {
        "id": "aWrecm5EPz6V"
      },
      "execution_count": null,
      "outputs": []
    },
    {
      "cell_type": "code",
      "source": [
        "def forward(ins):\n",
        "  inputs = ins.view(784)\n",
        "  wi1 = inputs @ w1\n",
        "  wi1b = (wi1 + b1).tanh()\n",
        "  wi2 = wi1b @ w2\n",
        "  wi2b = (wi2 + b2).tanh()\n",
        "  wi3 = wi2b @ w3\n",
        "  out = (wi3 + b3).tanh()\n",
        "  return torch.argmax(out)\n",
        "\n",
        "with torch.no_grad():\n",
        "  index = torch.randint(test_len - 1, (1,))\n",
        "  print(\"net prediction\", forward(Xte[index]).item(), \"actual\", torch.argmax(Yte[index]))\n",
        "  plt.imshow(Xte[index].view(28, 28).cpu(), cmap='gray')\n"
      ],
      "metadata": {
        "colab": {
          "base_uri": "https://localhost:8080/",
          "height": 447
        },
        "id": "quolAcfrFvpy",
        "outputId": "84c7bf26-298b-4da4-c516-bdf009f84a7b"
      },
      "execution_count": null,
      "outputs": [
        {
          "output_type": "stream",
          "name": "stdout",
          "text": [
            "net prediction 0 actual tensor(0, device='cuda:0')\n"
          ]
        },
        {
          "output_type": "display_data",
          "data": {
            "text/plain": [
              "<Figure size 640x480 with 1 Axes>"
            ],
            "image/png": "[encoded data removed]"
          },
          "metadata": {}
        }
      ]
    },
    {
      "cell_type": "code",
      "source": [
        "# wrong example\n",
        "with torch.no_grad():\n",
        "  correct = True\n",
        "  while correct:\n",
        "    index = torch.randint(test_len - 1, (1,))\n",
        "    correct = (forward(Xte[index]).item() == torch.argmax(Yte[index]))\n",
        "  print(\"net prediction\", forward(Xte[index]).item(), \"actual\", torch.argmax(Yte[index]))\n",
        "  plt.imshow(Xte[index].view(28, 28).cpu(), cmap='gray')"
      ],
      "metadata": {
        "colab": {
          "base_uri": "https://localhost:8080/",
          "height": 447
        },
        "id": "OxrtPaDrRfTB",
        "outputId": "9aeaa9ea-3fc7-4d25-a22d-e3b0c80b1721"
      },
      "execution_count": null,
      "outputs": [
        {
          "output_type": "stream",
          "name": "stdout",
          "text": [
            "net prediction 3 actual tensor(2, device='cuda:0')\n"
          ]
        },
        {
          "output_type": "display_data",
          "data": {
            "text/plain": [
              "<Figure size 640x480 with 1 Axes>"
            ],
            "image/png": "[encoded data removed]"
          },
          "metadata": {}
        }
      ]
    }
  ]
}