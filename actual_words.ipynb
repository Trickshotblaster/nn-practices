{
  "nbformat": 4,
  "nbformat_minor": 0,
  "metadata": {
    "colab": {
      "provenance": [],
      "gpuType": "T4",
      "authorship_tag": "ABX9TyNyBzMiKz+4c7s4qD+tfO5R",
      "include_colab_link": true
    },
    "kernelspec": {
      "name": "python3",
      "display_name": "Python 3"
    },
    "language_info": {
      "name": "python"
    },
    "accelerator": "GPU"
  },
  "cells": [
    {
      "cell_type": "markdown",
      "metadata": {
        "id": "view-in-github",
        "colab_type": "text"
      },
      "source": [
        "<a href=\"https://colab.research.google.com/github/Trickshotblaster/nn-practices/blob/main/actual_words.ipynb\" target=\"_parent\"><img src=\"https://colab.research.google.com/assets/colab-badge.svg\" alt=\"Open In Colab\"/></a>"
      ]
    },
    {
      "cell_type": "code",
      "execution_count": 1,
      "metadata": {
        "id": "vlOyA0vd1yYH"
      },
      "outputs": [],
      "source": [
        "import torch"
      ]
    },
    {
      "cell_type": "code",
      "source": [
        "!pip install tokenizers"
      ],
      "metadata": {
        "colab": {
          "base_uri": "https://localhost:8080/"
        },
        "id": "6BcD5gPE2Kep",
        "outputId": "e4679374-a7e9-428e-9f4a-83adf9198892"
      },
      "execution_count": 2,
      "outputs": [
        {
          "output_type": "stream",
          "name": "stdout",
          "text": [
            "Collecting tokenizers\n",
            "  Downloading tokenizers-0.14.0-cp310-cp310-manylinux_2_17_x86_64.manylinux2014_x86_64.whl (3.8 MB)\n",
            "\u001b[2K     \u001b[90m━━━━━━━━━━━━━━━━━━━━━━━━━━━━━━━━━━━━━━━━\u001b[0m \u001b[32m3.8/3.8 MB\u001b[0m \u001b[31m8.1 MB/s\u001b[0m eta \u001b[36m0:00:00\u001b[0m\n",
            "\u001b[?25hCollecting huggingface_hub<0.17,>=0.16.4 (from tokenizers)\n",
            "  Downloading huggingface_hub-0.16.4-py3-none-any.whl (268 kB)\n",
            "\u001b[2K     \u001b[90m━━━━━━━━━━━━━━━━━━━━━━━━━━━━━━━━━━━━━━\u001b[0m \u001b[32m268.8/268.8 kB\u001b[0m \u001b[31m10.5 MB/s\u001b[0m eta \u001b[36m0:00:00\u001b[0m\n",
            "\u001b[?25hRequirement already satisfied: filelock in /usr/local/lib/python3.10/dist-packages (from huggingface_hub<0.17,>=0.16.4->tokenizers) (3.12.4)\n",
            "Requirement already satisfied: fsspec in /usr/local/lib/python3.10/dist-packages (from huggingface_hub<0.17,>=0.16.4->tokenizers) (2023.6.0)\n",
            "Requirement already satisfied: requests in /usr/local/lib/python3.10/dist-packages (from huggingface_hub<0.17,>=0.16.4->tokenizers) (2.31.0)\n",
            "Requirement already satisfied: tqdm>=4.42.1 in /usr/local/lib/python3.10/dist-packages (from huggingface_hub<0.17,>=0.16.4->tokenizers) (4.66.1)\n",
            "Requirement already satisfied: pyyaml>=5.1 in /usr/local/lib/python3.10/dist-packages (from huggingface_hub<0.17,>=0.16.4->tokenizers) (6.0.1)\n",
            "Requirement already satisfied: typing-extensions>=3.7.4.3 in /usr/local/lib/python3.10/dist-packages (from huggingface_hub<0.17,>=0.16.4->tokenizers) (4.5.0)\n",
            "Requirement already satisfied: packaging>=20.9 in /usr/local/lib/python3.10/dist-packages (from huggingface_hub<0.17,>=0.16.4->tokenizers) (23.1)\n",
            "Requirement already satisfied: charset-normalizer<4,>=2 in /usr/local/lib/python3.10/dist-packages (from requests->huggingface_hub<0.17,>=0.16.4->tokenizers) (3.2.0)\n",
            "Requirement already satisfied: idna<4,>=2.5 in /usr/local/lib/python3.10/dist-packages (from requests->huggingface_hub<0.17,>=0.16.4->tokenizers) (3.4)\n",
            "Requirement already satisfied: urllib3<3,>=1.21.1 in /usr/local/lib/python3.10/dist-packages (from requests->huggingface_hub<0.17,>=0.16.4->tokenizers) (2.0.5)\n",
            "Requirement already satisfied: certifi>=2017.4.17 in /usr/local/lib/python3.10/dist-packages (from requests->huggingface_hub<0.17,>=0.16.4->tokenizers) (2023.7.22)\n",
            "Installing collected packages: huggingface_hub, tokenizers\n",
            "Successfully installed huggingface_hub-0.16.4 tokenizers-0.14.0\n"
          ]
        }
      ]
    },
    {
      "cell_type": "code",
      "source": [
        "from tokenizers import Tokenizer\n",
        "from tokenizers.models import BPE\n",
        "tokenizer = Tokenizer(BPE(unk_token=\"[UNK]\"))"
      ],
      "metadata": {
        "id": "NzClVptB12Jp"
      },
      "execution_count": 3,
      "outputs": []
    },
    {
      "cell_type": "code",
      "source": [
        "from tokenizers.trainers import BpeTrainer\n",
        "trainer = BpeTrainer(vocab_size=30, special_tokens=[\"[UNK]\", \"[CLS]\", \"[SEP]\", \"[PAD]\", \"[MASK]\"])"
      ],
      "metadata": {
        "id": "A3Rxokcr2IjQ"
      },
      "execution_count": 38,
      "outputs": []
    },
    {
      "cell_type": "code",
      "source": [
        "from tokenizers.pre_tokenizers import Whitespace\n",
        "tokenizer.pre_tokenizer = Whitespace()"
      ],
      "metadata": {
        "id": "cvh_tXAz2Uzh"
      },
      "execution_count": 41,
      "outputs": []
    },
    {
      "cell_type": "code",
      "source": [
        "!wget https://s3.amazonaws.com/research.metamind.io/wikitext/wikitext-103-raw-v1.zip\n",
        "!unzip wikitext-103-raw-v1.zip"
      ],
      "metadata": {
        "colab": {
          "base_uri": "https://localhost:8080/"
        },
        "id": "ij7TOdzN2biA",
        "outputId": "d2f77612-9c58-483e-a5f5-72b7ed052af0"
      },
      "execution_count": 40,
      "outputs": [
        {
          "output_type": "stream",
          "name": "stdout",
          "text": [
            "--2023-10-03 21:36:36--  https://s3.amazonaws.com/research.metamind.io/wikitext/wikitext-103-raw-v1.zip\n",
            "Resolving s3.amazonaws.com (s3.amazonaws.com)... 52.217.115.16, 52.216.107.166, 52.217.201.240, ...\n",
            "Connecting to s3.amazonaws.com (s3.amazonaws.com)|52.217.115.16|:443... connected.\n",
            "HTTP request sent, awaiting response... 200 OK\n",
            "Length: 191984949 (183M) [application/zip]\n",
            "Saving to: ‘wikitext-103-raw-v1.zip.1’\n",
            "\n",
            "text-103-raw-v1.zip  72%[=============>      ] 132.91M  42.5MB/s    eta 1s     ^C\n",
            "Archive:  wikitext-103-raw-v1.zip\n",
            "replace wikitext-103-raw/wiki.test.raw? [y]es, [n]o, [A]ll, [N]one, [r]ename: "
          ]
        }
      ]
    },
    {
      "cell_type": "code",
      "source": [
        "files = [f\"wikitext-103-raw/wiki.{split}.raw\" for split in [\"test\", \"train\", \"valid\"]]\n",
        "tokenizer.train(files, trainer)"
      ],
      "metadata": {
        "id": "ZBn84zFL2hwB"
      },
      "execution_count": 42,
      "outputs": []
    },
    {
      "cell_type": "code",
      "source": [
        "tokenizer.save(\"tokenizer-wiki.json\")"
      ],
      "metadata": {
        "id": "8QI79bKN2mO5"
      },
      "execution_count": 43,
      "outputs": []
    },
    {
      "cell_type": "code",
      "source": [
        "tokenizer = Tokenizer.from_file(\"tokenizer-wiki.json\")"
      ],
      "metadata": {
        "id": "DwGQU7F92vtI"
      },
      "execution_count": 44,
      "outputs": []
    },
    {
      "cell_type": "code",
      "source": [
        "output = tokenizer.encode(\"Hello, y'all! How are you 😁 ?\")\n",
        "out_tensor = torch.tensor(output.ids)"
      ],
      "metadata": {
        "id": "Evntl6tB2yD4"
      },
      "execution_count": 45,
      "outputs": []
    },
    {
      "cell_type": "code",
      "source": [
        "out_tensor"
      ],
      "metadata": {
        "colab": {
          "base_uri": "https://localhost:8080/"
        },
        "id": "quqrI7p2wFZA",
        "outputId": "0e699bf5-321f-491d-86e5-8aa35c48b5ba"
      },
      "execution_count": 46,
      "outputs": [
        {
          "output_type": "execute_result",
          "data": {
            "text/plain": [
              "tensor([44, 73, 80, 80, 83, 16, 93, 11, 69, 80, 80,  5, 44, 83, 91, 69, 86, 73,\n",
              "        93, 83])"
            ]
          },
          "metadata": {},
          "execution_count": 46
        }
      ]
    },
    {
      "cell_type": "code",
      "source": [
        "tokenizer.decode(out_tensor.numpy())"
      ],
      "metadata": {
        "colab": {
          "base_uri": "https://localhost:8080/",
          "height": 35
        },
        "id": "4q1Ct9_X3kGY",
        "outputId": "54219d61-28eb-4493-9ea3-162226933320"
      },
      "execution_count": 47,
      "outputs": [
        {
          "output_type": "execute_result",
          "data": {
            "text/plain": [
              "\"H e l l o , y ' a l l ! H o w a r e y o\""
            ],
            "application/vnd.google.colaboratory.intrinsic+json": {
              "type": "string"
            }
          },
          "metadata": {},
          "execution_count": 47
        }
      ]
    },
    {
      "cell_type": "code",
      "source": [
        "import requests\n",
        "\n",
        "a = requests.get(\"https://raw.githubusercontent.com/karpathy/char-rnn/master/data/tinyshakespeare/input.txt\").text\n",
        "\n",
        "with open(\"traintext.txt\", 'wb') as d:\n",
        "  d.writelines(a)"
      ],
      "metadata": {
        "id": "dyyn_2VLnBmz",
        "outputId": "0676c46e-1b65-4984-f5fc-601fe7ace0a9",
        "colab": {
          "base_uri": "https://localhost:8080/",
          "height": 210
        }
      },
      "execution_count": 72,
      "outputs": [
        {
          "output_type": "error",
          "ename": "TypeError",
          "evalue": "ignored",
          "traceback": [
            "\u001b[0;31m---------------------------------------------------------------------------\u001b[0m",
            "\u001b[0;31mTypeError\u001b[0m                                 Traceback (most recent call last)",
            "\u001b[0;32m<ipython-input-72-3d8e63fe9fbf>\u001b[0m in \u001b[0;36m<cell line: 5>\u001b[0;34m()\u001b[0m\n\u001b[1;32m      4\u001b[0m \u001b[0;34m\u001b[0m\u001b[0m\n\u001b[1;32m      5\u001b[0m \u001b[0;32mwith\u001b[0m \u001b[0mopen\u001b[0m\u001b[0;34m(\u001b[0m\u001b[0;34m\"traintext.txt\"\u001b[0m\u001b[0;34m,\u001b[0m \u001b[0;34m'wb'\u001b[0m\u001b[0;34m)\u001b[0m \u001b[0;32mas\u001b[0m \u001b[0md\u001b[0m\u001b[0;34m:\u001b[0m\u001b[0;34m\u001b[0m\u001b[0;34m\u001b[0m\u001b[0m\n\u001b[0;32m----> 6\u001b[0;31m   \u001b[0md\u001b[0m\u001b[0;34m.\u001b[0m\u001b[0mwritelines\u001b[0m\u001b[0;34m(\u001b[0m\u001b[0ma\u001b[0m\u001b[0;34m)\u001b[0m\u001b[0;34m\u001b[0m\u001b[0;34m\u001b[0m\u001b[0m\n\u001b[0m",
            "\u001b[0;31mTypeError\u001b[0m: a bytes-like object is required, not 'str'"
          ]
        }
      ]
    },
    {
      "cell_type": "code",
      "source": [
        "with open(\"traintext.txt\", 'r') as f:\n",
        "  text = f.readlines()"
      ],
      "metadata": {
        "id": "NrDLlrAnwHdK"
      },
      "execution_count": 48,
      "outputs": []
    },
    {
      "cell_type": "code",
      "source": [
        "text[:10]"
      ],
      "metadata": {
        "colab": {
          "base_uri": "https://localhost:8080/"
        },
        "id": "O-9nK3Dow41v",
        "outputId": "4441bc58-2dfc-4468-b096-4195c4cb0a36"
      },
      "execution_count": 49,
      "outputs": [
        {
          "output_type": "execute_result",
          "data": {
            "text/plain": [
              "[' \\n',\n",
              " ' = Valkyria Chronicles III = \\n',\n",
              " ' \\n',\n",
              " ' Senjō no Valkyria 3 : Unrecorded Chronicles ( Japanese : 戦場のヴァルキュリア3 , lit . Valkyria of the Battlefield 3 ) , commonly referred to as Valkyria Chronicles III outside Japan , is a tactical role @-@ playing video game developed by Sega and Media.Vision for the PlayStation Portable . Released in January 2011 in Japan , it is the third game in the Valkyria series . Employing the same fusion of tactical and real @-@ time gameplay as its predecessors , the story runs parallel to the first game and follows the \" Nameless \" , a penal military unit serving the nation of Gallia during the Second Europan War who perform secret black operations and are pitted against the Imperial unit \" Calamaty Raven \" . \\n',\n",
              " \" The game began development in 2010 , carrying over a large portion of the work done on Valkyria Chronicles II . While it retained the standard features of the series , it also underwent multiple adjustments , such as making the game more forgiving for series newcomers . Character designer Raita Honjou and composer Hitoshi Sakimoto both returned from previous entries , along with Valkyria Chronicles II director Takeshi Ozawa . A large team of writers handled the script . The game 's opening theme was sung by May 'n . \\n\",\n",
              " \" It met with positive sales in Japan , and was praised by both Japanese and western critics . After release , it received downloadable content , along with an expanded edition in November of that year . It was also adapted into manga and an original video animation series . Due to low sales of Valkyria Chronicles II , Valkyria Chronicles III was not localized , but a fan translation compatible with the game 's expanded edition was released in 2014 . Media.Vision would return to the franchise with the development of Valkyria : Azure Revolution for the PlayStation 4 . \\n\",\n",
              " ' \\n',\n",
              " ' = = Gameplay = = \\n',\n",
              " ' \\n',\n",
              " \" As with previous Valkyira Chronicles games , Valkyria Chronicles III is a tactical role @-@ playing game where players take control of a military unit and take part in missions against enemy forces . Stories are told through comic book @-@ like panels with animated character portraits , with characters speaking partially through voiced speech bubbles and partially through unvoiced text . The player progresses through a series of linear missions , gradually unlocked as maps that can be freely scanned through and replayed as they are unlocked . The route to each story location on the map varies depending on an individual player 's approach : when one option is selected , the other is sealed off to the player . Outside missions , the player characters rest in a camp , where units can be customized and character growth occurs . Alongside the main story missions are character @-@ specific sub missions relating to different squad members . After the game 's completion , additional episodes are unlocked , some of them having a higher difficulty than those found in the rest of the game . There are also love simulation elements related to the game 's two main heroines , although they take a very minor role . \\n\"]"
            ]
          },
          "metadata": {},
          "execution_count": 49
        }
      ]
    },
    {
      "cell_type": "code",
      "source": [
        "import random"
      ],
      "metadata": {
        "id": "V3gjFH9bz3gY"
      },
      "execution_count": 50,
      "outputs": []
    },
    {
      "cell_type": "code",
      "source": [
        "text_len = len(text) - 1"
      ],
      "metadata": {
        "id": "5tSzJD-Az601"
      },
      "execution_count": 51,
      "outputs": []
    },
    {
      "cell_type": "code",
      "source": [
        "context_len = 20\n",
        "emb_dim = 10\n",
        "tokenizer.enable_truncation(context_len)\n",
        "tokenizer.enable_padding(direction='left', length=context_len)"
      ],
      "metadata": {
        "id": "6uMyELPI4yPP"
      },
      "execution_count": 52,
      "outputs": []
    },
    {
      "cell_type": "code",
      "source": [
        "vocab_size = tokenizer.get_vocab_size()"
      ],
      "metadata": {
        "id": "bP0ZDGN4lj6k"
      },
      "execution_count": 53,
      "outputs": []
    },
    {
      "cell_type": "markdown",
      "source": [
        "pretokenize? aaaa but it takes so long"
      ],
      "metadata": {
        "id": "CFe2_6J9qQFM"
      }
    },
    {
      "cell_type": "code",
      "source": [
        "#text = torch.tensor([tokenizer.encode(t).ids for t in text])"
      ],
      "metadata": {
        "id": "YDn5YiXTp6Pb"
      },
      "execution_count": 19,
      "outputs": []
    },
    {
      "cell_type": "code",
      "source": [
        "device = torch.device('cuda:0' if torch.cuda.is_available() else 'cpu')"
      ],
      "metadata": {
        "id": "ZN0LL9AUSXPu"
      },
      "execution_count": 54,
      "outputs": []
    },
    {
      "cell_type": "code",
      "source": [
        "def make_batch(batch):\n",
        "  xs = []\n",
        "  ys = []\n",
        "  for sentence in batch:\n",
        "    context = \"\"\n",
        "    for word, next in zip(sentence, sentence[1:]):\n",
        "      context += word\n",
        "      xs.append(tokenizer.encode(context).ids)\n",
        "      ys.append(torch.argmax(torch.tensor(tokenizer.encode(word).ids)))\n",
        "  return torch.tensor(xs).to(device), torch.tensor(ys).to(device)"
      ],
      "metadata": {
        "id": "A5SIp0QZ4h3k"
      },
      "execution_count": 55,
      "outputs": []
    },
    {
      "cell_type": "code",
      "source": [
        "C = torch.randn((vocab_size, emb_dim)).to(device)\n",
        "w1 = torch.randn((emb_dim * context_len, 100)).to(device) * 0.1\n",
        "b1 = torch.randn(100).to(device) * 0.01\n",
        "w2 = torch.randn((100, vocab_size)).to(device) * 0.1\n",
        "b2 = torch.randn(vocab_size).to(device) * 0.01\n",
        "\n",
        "params = [C, w1, b1, w2, b2]\n",
        "for p in params:\n",
        "  p.requires_grad = True"
      ],
      "metadata": {
        "id": "vbg43uXNlUts"
      },
      "execution_count": 56,
      "outputs": []
    },
    {
      "cell_type": "code",
      "source": [
        "import torch.nn.functional as F"
      ],
      "metadata": {
        "id": "R1tMKevYowwE"
      },
      "execution_count": 57,
      "outputs": []
    },
    {
      "cell_type": "code",
      "source": [
        "num_epochs = 200\n",
        "batch_size = 32\n",
        "lr = 0.1"
      ],
      "metadata": {
        "id": "chfpHaFVSCRK"
      },
      "execution_count": 58,
      "outputs": []
    },
    {
      "cell_type": "code",
      "source": [
        "for epoch in range(num_epochs):\n",
        "  batch = [text[random.randint(0, text_len)] for i in range(batch_size)]\n",
        "  #words = torch.tensor([tokenizer.encode_batch(batch)[i].ids for i in range(batch_size)])\n",
        "  x, y = make_batch(batch)\n",
        "\n",
        "  emb = C[x].view(-1, emb_dim * context_len)\n",
        "  l1 = (emb @ w1 + b1).tanh()\n",
        "  out = (l1 @ w2 + b2).tanh()\n",
        "  loss = F.cross_entropy(out, y)\n",
        "\n",
        "  for p in params:\n",
        "    p.grad = None\n",
        "\n",
        "  loss.backward()\n",
        "  for p in params:\n",
        "    p.data -= p.grad * lr\n",
        "  if epoch % 10 == 0:\n",
        "    print(loss.item())"
      ],
      "metadata": {
        "colab": {
          "base_uri": "https://localhost:8080/"
        },
        "id": "OtqSn50ww9KF",
        "outputId": "109d9156-7cb5-44f8-d17e-dc549442dd3a"
      },
      "execution_count": 59,
      "outputs": [
        {
          "output_type": "stream",
          "name": "stdout",
          "text": [
            "8.888589859008789\n",
            "7.832459449768066\n",
            "7.928826808929443\n",
            "7.708570957183838\n",
            "7.672215938568115\n",
            "7.689198970794678\n",
            "7.664445400238037\n",
            "7.678053855895996\n",
            "7.662820339202881\n",
            "7.642581939697266\n",
            "7.645384311676025\n",
            "7.647658824920654\n",
            "7.644937515258789\n",
            "7.643275737762451\n",
            "7.651203155517578\n",
            "7.636529445648193\n",
            "7.6416425704956055\n",
            "7.644646644592285\n",
            "7.633767127990723\n",
            "7.636414527893066\n"
          ]
        }
      ]
    },
    {
      "cell_type": "code",
      "source": [
        "@torch.no_grad()\n",
        "def forward(text):\n",
        "  ins = text\n",
        "  x = torch.tensor(tokenizer.encode(text).ids)\n",
        "  emb = C[x].view(-1, emb_dim * context_len)\n",
        "  l1 = (emb @ w1 + b1).tanh()\n",
        "  out = (l1 @ w2 + b2).tanh()\n",
        "  out = out.exp()\n",
        "  out /= out.sum(1, keepdim=True)\n",
        "  sampled = torch.multinomial(out, num_samples=1)\n",
        "  return sampled"
      ],
      "metadata": {
        "id": "1VnyXCycTjSR"
      },
      "execution_count": 60,
      "outputs": []
    },
    {
      "cell_type": "code",
      "source": [
        "import matplotlib.pyplot as plt"
      ],
      "metadata": {
        "id": "SNjf5LHmUciy"
      },
      "execution_count": 61,
      "outputs": []
    },
    {
      "cell_type": "code",
      "source": [
        "lol = forward('hi')\n",
        "print(lol)\n",
        "tokenizer.decode_batch(lol.cpu().numpy())"
      ],
      "metadata": {
        "id": "m_yv4Ps5URMQ",
        "outputId": "3308adbb-511d-4866-e109-474b5d83ad08",
        "colab": {
          "base_uri": "https://localhost:8080/"
        }
      },
      "execution_count": 62,
      "outputs": [
        {
          "output_type": "stream",
          "name": "stdout",
          "text": [
            "tensor([[667]], device='cuda:0')\n"
          ]
        },
        {
          "output_type": "execute_result",
          "data": {
            "text/plain": [
              "['Դ']"
            ]
          },
          "metadata": {},
          "execution_count": 62
        }
      ]
    },
    {
      "cell_type": "code",
      "source": [
        "def cont(text, max_len=20):\n",
        "  context = text\n",
        "  for x in range(max_len):\n",
        "    context += tokenizer.decode_batch(forward(context).cpu().numpy())[0]\n",
        "  return context\n",
        "\n",
        "cont(\"my name is \")"
      ],
      "metadata": {
        "id": "wNyD0IV1b6rs",
        "outputId": "239597cb-5955-4540-a69c-ee8f9bd67567",
        "colab": {
          "base_uri": "https://localhost:8080/",
          "height": 35
        }
      },
      "execution_count": 63,
      "outputs": [
        {
          "output_type": "execute_result",
          "data": {
            "text/plain": [
              "'my name is ﻉユĔ惑栾М森牧授Ꭶ齐世卒ズ⚳寻∤ከȝང'"
            ],
            "application/vnd.google.colaboratory.intrinsic+json": {
              "type": "string"
            }
          },
          "metadata": {},
          "execution_count": 63
        }
      ]
    },
    {
      "cell_type": "code",
      "source": [
        "tokenizer.encode(\"[UNK]\").ids"
      ],
      "metadata": {
        "id": "3IU_B_bWdHwK",
        "outputId": "1c13fe5e-0fde-4d66-8c0b-ba3b5b635fb9",
        "colab": {
          "base_uri": "https://localhost:8080/"
        }
      },
      "execution_count": 67,
      "outputs": [
        {
          "output_type": "execute_result",
          "data": {
            "text/plain": [
              "[0, 0, 0, 0, 0, 0, 0, 0, 0, 0, 0, 0, 0, 0, 0, 0, 0, 0, 0, 0]"
            ]
          },
          "metadata": {},
          "execution_count": 67
        }
      ]
    },
    {
      "cell_type": "code",
      "source": [
        "tokenizer.get_vocab_size()"
      ],
      "metadata": {
        "id": "5C16RN-slOWq",
        "outputId": "1d5d54fd-eac7-494c-bd06-7a86e8795b26",
        "colab": {
          "base_uri": "https://localhost:8080/"
        }
      },
      "execution_count": 68,
      "outputs": [
        {
          "output_type": "execute_result",
          "data": {
            "text/plain": [
              "5011"
            ]
          },
          "metadata": {},
          "execution_count": 68
        }
      ]
    },
    {
      "cell_type": "markdown",
      "source": [
        "5011? y doe"
      ],
      "metadata": {
        "id": "fTdkJ1J4maEC"
      }
    },
    {
      "cell_type": "markdown",
      "source": [
        "why did it learn chinese? It's really consistently chinese too. Maybe I need a smaller vocab size?"
      ],
      "metadata": {
        "id": "_a6nmYTCc5P2"
      }
    },
    {
      "cell_type": "code",
      "source": [
        "plt.hist(out.cpu().detach().numpy())"
      ],
      "metadata": {
        "id": "YLeccjP3WDFy",
        "outputId": "b31737f7-2d7f-4d18-9c43-4890f6b65554",
        "colab": {
          "base_uri": "https://localhost:8080/",
          "height": 725
        }
      },
      "execution_count": 65,
      "outputs": [
        {
          "output_type": "execute_result",
          "data": {
            "text/plain": [
              "(array([[0.0000e+00, 0.0000e+00, 0.0000e+00, ..., 0.0000e+00, 0.0000e+00,\n",
              "         1.0596e+04],\n",
              "        [1.2000e+01, 8.2000e+01, 1.6990e+03, ..., 1.7000e+03, 1.7120e+03,\n",
              "         9.1900e+02],\n",
              "        [2.0000e+00, 1.0130e+03, 1.8000e+01, ..., 1.1300e+03, 1.7800e+02,\n",
              "         1.0000e+01],\n",
              "        ...,\n",
              "        [2.0000e+00, 6.0000e+00, 1.5000e+02, ..., 1.4840e+03, 2.1890e+03,\n",
              "         3.2160e+03],\n",
              "        [2.0000e+01, 1.6900e+02, 1.0500e+02, ..., 1.3420e+03, 2.4400e+03,\n",
              "         2.0000e+00],\n",
              "        [6.7900e+02, 1.3450e+03, 1.2800e+03, ..., 1.1560e+03, 9.0100e+02,\n",
              "         1.4000e+01]]),\n",
              " array([-0.99719739, -0.79747784, -0.59775835, -0.3980388 , -0.19831927,\n",
              "         0.00140026,  0.2011198 ,  0.40083933,  0.60055888,  0.80027837,\n",
              "         0.99999791]),\n",
              " <a list of 5011 BarContainer objects>)"
            ]
          },
          "metadata": {},
          "execution_count": 65
        },
        {
          "output_type": "display_data",
          "data": {
            "text/plain": [
              "<Figure size 640x480 with 1 Axes>"
            ],
            "image/png": "[encoded data removed]"
          },
          "metadata": {}
        }
      ]
    }
  ]
}