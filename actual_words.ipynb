{
  "nbformat": 4,
  "nbformat_minor": 0,
  "metadata": {
    "colab": {
      "provenance": [],
      "gpuType": "T4",
      "authorship_tag": "ABX9TyOdtwkYacLvTo8QhyZBmVlZ",
      "include_colab_link": true
    },
    "kernelspec": {
      "name": "python3",
      "display_name": "Python 3"
    },
    "language_info": {
      "name": "python"
    },
    "accelerator": "GPU"
  },
  "cells": [
    {
      "cell_type": "markdown",
      "metadata": {
        "id": "view-in-github",
        "colab_type": "text"
      },
      "source": [
        "<a href=\"https://colab.research.google.com/github/Trickshotblaster/nn-practices/blob/main/actual_words.ipynb\" target=\"_parent\"><img src=\"https://colab.research.google.com/assets/colab-badge.svg\" alt=\"Open In Colab\"/></a>"
      ]
    },
    {
      "cell_type": "code",
      "execution_count": 1,
      "metadata": {
        "id": "vlOyA0vd1yYH"
      },
      "outputs": [],
      "source": [
        "import torch"
      ]
    },
    {
      "cell_type": "code",
      "source": [
        "!pip install transformers"
      ],
      "metadata": {
        "id": "4_uwcIrPsezY"
      },
      "execution_count": null,
      "outputs": []
    },
    {
      "cell_type": "code",
      "source": [
        "\n",
        "from transformers import AutoTokenizer\n",
        "\n",
        "tokenizer = AutoTokenizer.from_pretrained(\"bert-base-uncased\")"
      ],
      "metadata": {
        "id": "c3J_kcumfvOP"
      },
      "execution_count": 204,
      "outputs": []
    },
    {
      "cell_type": "code",
      "source": [
        "tokenizer.vocab_size"
      ],
      "metadata": {
        "id": "7IKCkGrAPF_w",
        "outputId": "031c06f2-0375-47c2-ad3a-b8f15d93095b",
        "colab": {
          "base_uri": "https://localhost:8080/"
        }
      },
      "execution_count": 205,
      "outputs": [
        {
          "output_type": "execute_result",
          "data": {
            "text/plain": [
              "30522"
            ]
          },
          "metadata": {},
          "execution_count": 205
        }
      ]
    },
    {
      "cell_type": "code",
      "source": [
        "output = tokenizer.encode(\"Hello, y'all! How are you 😁 ?\")\n",
        "out_tensor = torch.tensor(output)"
      ],
      "metadata": {
        "id": "Evntl6tB2yD4"
      },
      "execution_count": 206,
      "outputs": []
    },
    {
      "cell_type": "code",
      "source": [
        "out_tensor"
      ],
      "metadata": {
        "colab": {
          "base_uri": "https://localhost:8080/"
        },
        "id": "quqrI7p2wFZA",
        "outputId": "9a844c2b-3899-4e56-a6a3-bcc90562ca0c"
      },
      "execution_count": 207,
      "outputs": [
        {
          "output_type": "execute_result",
          "data": {
            "text/plain": [
              "tensor([ 101, 7592, 1010, 1061, 1005, 2035,  999, 2129, 2024, 2017,  100, 1029,\n",
              "         102])"
            ]
          },
          "metadata": {},
          "execution_count": 207
        }
      ]
    },
    {
      "cell_type": "code",
      "source": [
        "tokenizer.decode(out_tensor)"
      ],
      "metadata": {
        "colab": {
          "base_uri": "https://localhost:8080/",
          "height": 35
        },
        "id": "4q1Ct9_X3kGY",
        "outputId": "5edb466e-053e-4bd4-b5d0-d0d78e829027"
      },
      "execution_count": 208,
      "outputs": [
        {
          "output_type": "execute_result",
          "data": {
            "text/plain": [
              "\"[CLS] hello, y'all! how are you [UNK]? [SEP]\""
            ],
            "application/vnd.google.colaboratory.intrinsic+json": {
              "type": "string"
            }
          },
          "metadata": {},
          "execution_count": 208
        }
      ]
    },
    {
      "cell_type": "code",
      "source": [
        "import requests\n",
        "import io\n",
        "\n",
        "# Get the content of the page\n",
        "response = requests.get(\"https://raw.githubusercontent.com/karpathy/char-rnn/master/data/tinyshakespeare/input.txt\")\n",
        "\n",
        "# Write the content to a file\n",
        "with io.open('traintext.txt', 'w', encoding='utf-8') as f:\n",
        "    f.write(response.text)"
      ],
      "metadata": {
        "id": "dyyn_2VLnBmz"
      },
      "execution_count": 7,
      "outputs": []
    },
    {
      "cell_type": "code",
      "source": [
        "with open(\"traintext.txt\", 'r') as f:\n",
        "  text = f.readlines()"
      ],
      "metadata": {
        "id": "NrDLlrAnwHdK"
      },
      "execution_count": 8,
      "outputs": []
    },
    {
      "cell_type": "code",
      "source": [
        "text[:10]"
      ],
      "metadata": {
        "colab": {
          "base_uri": "https://localhost:8080/"
        },
        "id": "O-9nK3Dow41v",
        "outputId": "cc692001-a05d-4dc9-ec29-1eed7233689b"
      },
      "execution_count": 9,
      "outputs": [
        {
          "output_type": "execute_result",
          "data": {
            "text/plain": [
              "['First Citizen:\\n',\n",
              " 'Before we proceed any further, hear me speak.\\n',\n",
              " '\\n',\n",
              " 'All:\\n',\n",
              " 'Speak, speak.\\n',\n",
              " '\\n',\n",
              " 'First Citizen:\\n',\n",
              " 'You are all resolved rather to die than to famish?\\n',\n",
              " '\\n',\n",
              " 'All:\\n']"
            ]
          },
          "metadata": {},
          "execution_count": 9
        }
      ]
    },
    {
      "cell_type": "code",
      "source": [
        "import random"
      ],
      "metadata": {
        "id": "V3gjFH9bz3gY"
      },
      "execution_count": 10,
      "outputs": []
    },
    {
      "cell_type": "code",
      "source": [
        "text_len = len(text) - 1"
      ],
      "metadata": {
        "id": "5tSzJD-Az601"
      },
      "execution_count": 11,
      "outputs": []
    },
    {
      "cell_type": "code",
      "source": [
        "context_len = 1\n",
        "emb_dim = 20\n",
        "#tokenizer.enable_truncation(context_len)\n",
        "#tokenizer.enable_padding(direction='left', length=context_len)"
      ],
      "metadata": {
        "id": "6uMyELPI4yPP"
      },
      "execution_count": 227,
      "outputs": []
    },
    {
      "cell_type": "markdown",
      "source": [
        "pretokenize? aaaa but it takes so long"
      ],
      "metadata": {
        "id": "CFe2_6J9qQFM"
      }
    },
    {
      "cell_type": "code",
      "source": [
        "pretokenized_text = [tokenizer.encode(t) for t in text]"
      ],
      "metadata": {
        "id": "qJiU0Dm8YZDH"
      },
      "execution_count": 137,
      "outputs": []
    },
    {
      "cell_type": "code",
      "source": [
        "tokenizer.decode([101])"
      ],
      "metadata": {
        "colab": {
          "base_uri": "https://localhost:8080/",
          "height": 35
        },
        "id": "pOthX4N-t5jn",
        "outputId": "a732ffea-b215-4703-9ba9-0bd512a9a990"
      },
      "execution_count": 211,
      "outputs": [
        {
          "output_type": "execute_result",
          "data": {
            "text/plain": [
              "'[CLS]'"
            ],
            "application/vnd.google.colaboratory.intrinsic+json": {
              "type": "string"
            }
          },
          "metadata": {},
          "execution_count": 211
        }
      ]
    },
    {
      "cell_type": "code",
      "source": [
        "pretokenized_text[:10]"
      ],
      "metadata": {
        "colab": {
          "base_uri": "https://localhost:8080/"
        },
        "id": "Au2ILIB9tys6",
        "outputId": "a4f1f644-4609-4173-af07-db5ae2345eb8"
      },
      "execution_count": 209,
      "outputs": [
        {
          "output_type": "execute_result",
          "data": {
            "text/plain": [
              "[[101, 2034, 6926, 1024, 102],\n",
              " [101, 2077, 2057, 10838, 2151, 2582, 1010, 2963, 2033, 3713, 1012, 102],\n",
              " [101, 102],\n",
              " [101, 2035, 1024, 102],\n",
              " [101, 3713, 1010, 3713, 1012, 102],\n",
              " [101, 102],\n",
              " [101, 2034, 6926, 1024, 102],\n",
              " [101,\n",
              "  2017,\n",
              "  2024,\n",
              "  2035,\n",
              "  10395,\n",
              "  2738,\n",
              "  2000,\n",
              "  3280,\n",
              "  2084,\n",
              "  2000,\n",
              "  6904,\n",
              "  15630,\n",
              "  2232,\n",
              "  1029,\n",
              "  102],\n",
              " [101, 102],\n",
              " [101, 2035, 1024, 102]]"
            ]
          },
          "metadata": {},
          "execution_count": 209
        }
      ]
    },
    {
      "cell_type": "code",
      "source": [
        "vocab_size = tokenizer.vocab_size"
      ],
      "metadata": {
        "id": "jHVR9G3F_p9y"
      },
      "execution_count": 14,
      "outputs": []
    },
    {
      "cell_type": "code",
      "source": [
        "device = torch.device('cuda:0' if torch.cuda.is_available() else 'cpu')"
      ],
      "metadata": {
        "id": "ZN0LL9AUSXPu"
      },
      "execution_count": 15,
      "outputs": []
    },
    {
      "cell_type": "code",
      "source": [
        "tokenizer.pad_token_id"
      ],
      "metadata": {
        "id": "ZFn_joVXCz7J",
        "outputId": "06dde544-272c-40f7-b21a-f15ce233395a",
        "colab": {
          "base_uri": "https://localhost:8080/"
        }
      },
      "execution_count": 16,
      "outputs": [
        {
          "output_type": "execute_result",
          "data": {
            "text/plain": [
              "0"
            ]
          },
          "metadata": {},
          "execution_count": 16
        }
      ]
    },
    {
      "cell_type": "code",
      "source": [
        "def make_batch(batch):\n",
        "  xs = []\n",
        "  ys = []\n",
        "  for sentence in batch:\n",
        "    context = [0] * context_len\n",
        "    for word, next in zip(sentence, sentence[1:]):\n",
        "      context = context[1:] + [word]\n",
        "      xs.append(context)\n",
        "      ys.append(next)\n",
        "  xs = torch.tensor(xs).to(device)\n",
        "  ys = torch.tensor(ys).to(device)\n",
        "  return xs, ys"
      ],
      "metadata": {
        "id": "A5SIp0QZ4h3k"
      },
      "execution_count": 228,
      "outputs": []
    },
    {
      "cell_type": "code",
      "source": [
        "n_hidden = 500"
      ],
      "metadata": {
        "id": "ziBZoyu8frf-"
      },
      "execution_count": 152,
      "outputs": []
    },
    {
      "cell_type": "code",
      "source": [
        "C = torch.randn((vocab_size, emb_dim)).to(device)\n",
        "w1 = torch.randn((emb_dim * context_len, n_hidden)).to(device) * 0.01\n",
        "b1 = torch.randn(n_hidden).to(device) * 0.01\n",
        "w2 = torch.randn((n_hidden, vocab_size)).to(device) * 0.01\n",
        "b2 = torch.randn(vocab_size).to(device) * 0.01\n",
        "\n",
        "bngain = torch.ones((1, n_hidden)).to(device)\n",
        "bnbias = torch.zeros((1, n_hidden)).to(device)\n",
        "\n",
        "params = [C, w1, b1, w2, b2, bngain, bnbias]\n",
        "weights = [w1, w2]\n",
        "for p in params:\n",
        "  p.requires_grad = True\n",
        "\n",
        "print(\"Parameters:\", sum(len(p) for p in params))"
      ],
      "metadata": {
        "id": "vbg43uXNlUts",
        "colab": {
          "base_uri": "https://localhost:8080/"
        },
        "outputId": "a5ddaf98-1018-4868-b6d6-6ac03cb0290d"
      },
      "execution_count": 232,
      "outputs": [
        {
          "output_type": "stream",
          "name": "stdout",
          "text": [
            "Parameters: 62066\n"
          ]
        }
      ]
    },
    {
      "cell_type": "code",
      "source": [
        "import torch.nn.functional as F"
      ],
      "metadata": {
        "id": "R1tMKevYowwE"
      },
      "execution_count": 141,
      "outputs": []
    },
    {
      "cell_type": "code",
      "source": [
        "num_epochs = 20000\n",
        "batch_size = 32\n",
        "lr = 0.1"
      ],
      "metadata": {
        "id": "chfpHaFVSCRK"
      },
      "execution_count": 230,
      "outputs": []
    },
    {
      "cell_type": "code",
      "source": [
        "for epoch in range(num_epochs):\n",
        "  batch = [pretokenized_text[random.randint(0, text_len)] for i in range(batch_size)]\n",
        "  #words = torch.tensor([tokenizer.encode_batch(batch)[i].ids for i in range(batch_size)])\n",
        "  x, y = make_batch(batch)\n",
        "  emb = C[x].view(-1, emb_dim * context_len)\n",
        "  l1preact = emb @ w1 + b1\n",
        "\n",
        "  l1preact = bngain * (l1preact - l1preact.mean(0, keepdim=True)) / l1preact.std(0, keepdim=True) + bnbias\n",
        "  l1 = l1preact.tanh()\n",
        "\n",
        "  logits = l1 @ w2 + b2\n",
        "\n",
        "  loss = F.cross_entropy(logits, y) + (torch.tensor([w.mean() for w in weights]).mean()) * 2\n",
        "\n",
        "  for p in params:\n",
        "    p.grad = None\n",
        "\n",
        "  loss.backward()\n",
        "  for p in params:\n",
        "    p.data -= p.grad * (lr / min(1, (1000/(epoch+1))))\n",
        "  if epoch % 1000 == 0:\n",
        "    print(loss.item())\n"
      ],
      "metadata": {
        "colab": {
          "base_uri": "https://localhost:8080/"
        },
        "id": "OtqSn50ww9KF",
        "outputId": "da1099e4-f434-4d8e-c7b5-f27fd0faa8a6"
      },
      "execution_count": 233,
      "outputs": [
        {
          "output_type": "stream",
          "name": "stdout",
          "text": [
            "10.34179401397705\n",
            "6.052699565887451\n",
            "5.201022624969482\n",
            "4.629299163818359\n",
            "5.307791233062744\n",
            "4.9745306968688965\n",
            "5.158914089202881\n",
            "4.692965030670166\n",
            "5.027287483215332\n",
            "4.621493816375732\n",
            "4.496150493621826\n",
            "4.965137004852295\n",
            "4.976150989532471\n",
            "4.684900283813477\n",
            "4.669144153594971\n",
            "4.518394947052002\n",
            "4.41860818862915\n",
            "4.953644275665283\n",
            "4.6691975593566895\n",
            "4.625716209411621\n"
          ]
        }
      ]
    },
    {
      "cell_type": "code",
      "source": [
        "loss.log10().item()"
      ],
      "metadata": {
        "id": "CqlLrg3tOKzk",
        "outputId": "ac3639c6-6d67-497b-f1c9-b650028d8d23",
        "colab": {
          "base_uri": "https://localhost:8080/"
        }
      },
      "execution_count": 186,
      "outputs": [
        {
          "output_type": "execute_result",
          "data": {
            "text/plain": [
              "0.6270263195037842"
            ]
          },
          "metadata": {},
          "execution_count": 186
        }
      ]
    },
    {
      "cell_type": "code",
      "source": [
        "import matplotlib.pyplot as plt"
      ],
      "metadata": {
        "id": "aQ2ln8l2dYA6"
      },
      "execution_count": 103,
      "outputs": []
    },
    {
      "cell_type": "code",
      "source": [
        "plt.figure(figsize=(20,10))\n",
        "plt.imshow(l1.cpu().abs() > 0.99, cmap='gray', interpolation='nearest')"
      ],
      "metadata": {
        "colab": {
          "base_uri": "https://localhost:8080/",
          "height": 718
        },
        "id": "PlD9VLikdWTA",
        "outputId": "a81f417d-8905-4b13-8a04-dfb017adcbf9"
      },
      "execution_count": 193,
      "outputs": [
        {
          "output_type": "execute_result",
          "data": {
            "text/plain": [
              "<matplotlib.image.AxesImage at 0x78dbe0672aa0>"
            ]
          },
          "metadata": {},
          "execution_count": 193
        },
        {
          "output_type": "display_data",
          "data": {
            "text/plain": [
              "<Figure size 2000x1000 with 1 Axes>"
            ],
            "image/png": "[encoded data removed]"
          },
          "metadata": {}
        }
      ]
    },
    {
      "cell_type": "code",
      "source": [
        "plt.hist(l1.view(-1).tolist())"
      ],
      "metadata": {
        "colab": {
          "base_uri": "https://localhost:8080/",
          "height": 499
        },
        "id": "aM9yND2jd2bv",
        "outputId": "454fdcdf-d4e1-41c9-e6cf-21e2f8ff2f65"
      },
      "execution_count": 188,
      "outputs": [
        {
          "output_type": "execute_result",
          "data": {
            "text/plain": [
              "(array([33161.,  7616.,  6584.,  7167.,  8131.,  8691.,  6989.,  6704.,\n",
              "         7749., 32708.]),\n",
              " array([-1. , -0.8, -0.6, -0.4, -0.2,  0. ,  0.2,  0.4,  0.6,  0.8,  1. ]),\n",
              " <BarContainer object of 10 artists>)"
            ]
          },
          "metadata": {},
          "execution_count": 188
        },
        {
          "output_type": "display_data",
          "data": {
            "text/plain": [
              "<Figure size 640x480 with 1 Axes>"
            ],
            "image/png": "[encoded data removed]"
          },
          "metadata": {}
        }
      ]
    },
    {
      "cell_type": "code",
      "source": [
        "@torch.no_grad()\n",
        "def forward(text):\n",
        "  ins = text\n",
        "  x = tokenizer.encode(text)\n",
        "  context = [0] * (context_len - len(x)) + x if (context_len - len(x)) > 0 else x[:-context_len]\n",
        "  context = torch.tensor(context)\n",
        "  emb = C[context].view(-1, emb_dim * context_len)\n",
        "  l1 = (emb @ w1 + b1).tanh()\n",
        "  out = l1 @ w2 + b2\n",
        "  out = F.softmax(out, dim=1)\n",
        "  sampled = torch.multinomial(out, num_samples=1)\n",
        "  return sampled"
      ],
      "metadata": {
        "id": "1VnyXCycTjSR"
      },
      "execution_count": 180,
      "outputs": []
    },
    {
      "cell_type": "code",
      "source": [
        "def numerical_forward(cont):\n",
        "  cont = torch.tensor(cont).to(device)\n",
        "  emb = C[cont].view(-1, emb_dim * context_len)\n",
        "  l1 = (emb @ w1 + b1).tanh()\n",
        "  out = l1 @ w2 + b2\n",
        "  out = F.softmax(out, dim=1)\n",
        "  sampled = torch.multinomial(out, num_samples=1)\n",
        "  return sampled"
      ],
      "metadata": {
        "id": "lG3lqA66GeQO"
      },
      "execution_count": 179,
      "outputs": []
    },
    {
      "cell_type": "code",
      "source": [
        "lol = forward('Romeo')\n",
        "print(lol)\n",
        "tokenizer.decode(lol[0][0])"
      ],
      "metadata": {
        "id": "m_yv4Ps5URMQ",
        "outputId": "c2c96da6-0e93-4809-aa93-568fe3c2b309",
        "colab": {
          "base_uri": "https://localhost:8080/",
          "height": 53
        }
      },
      "execution_count": 181,
      "outputs": [
        {
          "output_type": "stream",
          "name": "stdout",
          "text": [
            "tensor([[28228]], device='cuda:0')\n"
          ]
        },
        {
          "output_type": "execute_result",
          "data": {
            "text/plain": [
              "'##rti'"
            ],
            "application/vnd.google.colaboratory.intrinsic+json": {
              "type": "string"
            }
          },
          "metadata": {},
          "execution_count": 181
        }
      ]
    },
    {
      "cell_type": "markdown",
      "source": [
        "ok this is actually crazy it said thou"
      ],
      "metadata": {
        "id": "D3oSlCNZN4Nh"
      }
    },
    {
      "cell_type": "code",
      "source": [
        "tokenizer.vocab_size"
      ],
      "metadata": {
        "id": "sWKKW3gxKZmK",
        "outputId": "91bd2c67-9fb6-4e93-d326-a86ef8de9fb2",
        "colab": {
          "base_uri": "https://localhost:8080/"
        }
      },
      "execution_count": 109,
      "outputs": [
        {
          "output_type": "execute_result",
          "data": {
            "text/plain": [
              "30522"
            ]
          },
          "metadata": {},
          "execution_count": 109
        }
      ]
    },
    {
      "cell_type": "code",
      "source": [
        "def cont(text, max_len=20):\n",
        "  x = tokenizer.encode(text)\n",
        "  context = [0] * (context_len - len(x)) + x if (context_len - len(x)) > 0 else x[:-context_len]\n",
        "  out = []\n",
        "  for x in range(max_len):\n",
        "    out.append(numerical_forward(context).cpu().numpy()[0][0])\n",
        "    context.append(numerical_forward(context).cpu().numpy()[0][0])\n",
        "    context = context[1:]\n",
        "\n",
        "  return tokenizer.decode(out)\n",
        "\n",
        "cont(\"Romeo\")"
      ],
      "metadata": {
        "id": "wNyD0IV1b6rs",
        "outputId": "f898e914-0104-4c6c-e4a0-5a242bd786e2",
        "colab": {
          "base_uri": "https://localhost:8080/",
          "height": 35
        }
      },
      "execution_count": 182,
      "outputs": [
        {
          "output_type": "execute_result",
          "data": {
            "text/plain": [
              "'##eries officelt [unused521]sam executivesgroomviousdscalave threaded tumble diplomacyntsppnetina falling'"
            ],
            "application/vnd.google.colaboratory.intrinsic+json": {
              "type": "string"
            }
          },
          "metadata": {},
          "execution_count": 182
        }
      ]
    },
    {
      "cell_type": "code",
      "source": [
        "def cont_random(text, max_len=20):\n",
        "  return tokenizer.decode(torch.randint(0, tokenizer.vocab_size -1, (max_len, )))\n",
        "\n",
        "cont_random(\"Romeo\")"
      ],
      "metadata": {
        "colab": {
          "base_uri": "https://localhost:8080/",
          "height": 35
        },
        "id": "gsqBN9Srmevo",
        "outputId": "68066579-04f9-4bbb-8f41-4ee52b9a07d3"
      },
      "execution_count": 173,
      "outputs": [
        {
          "output_type": "execute_result",
          "data": {
            "text/plain": [
              "'##gawa barr conspiracy aires homage julius restricting financialtzer [unused775] fabian rica sammy bradford hiredinium hid caution earlier 212'"
            ],
            "application/vnd.google.colaboratory.intrinsic+json": {
              "type": "string"
            }
          },
          "metadata": {},
          "execution_count": 173
        }
      ]
    },
    {
      "cell_type": "code",
      "source": [
        "tokenizer.encode(\"[UNK]\")"
      ],
      "metadata": {
        "id": "3IU_B_bWdHwK",
        "outputId": "da7d0794-18f9-44a4-ef69-3889f71355ba",
        "colab": {
          "base_uri": "https://localhost:8080/"
        }
      },
      "execution_count": null,
      "outputs": [
        {
          "output_type": "execute_result",
          "data": {
            "text/plain": [
              "[101, 100, 102]"
            ]
          },
          "metadata": {},
          "execution_count": 93
        }
      ]
    },
    {
      "cell_type": "code",
      "source": [
        "tokenizer.vocab_size"
      ],
      "metadata": {
        "id": "5C16RN-slOWq",
        "outputId": "5e4231cd-7337-4a27-ea13-920e77f0d3ec",
        "colab": {
          "base_uri": "https://localhost:8080/"
        }
      },
      "execution_count": null,
      "outputs": [
        {
          "output_type": "execute_result",
          "data": {
            "text/plain": [
              "30522"
            ]
          },
          "metadata": {},
          "execution_count": 94
        }
      ]
    }
  ]
}