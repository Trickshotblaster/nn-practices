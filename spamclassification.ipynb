{
 "cells": [
  {
   "cell_type": "code",
   "execution_count": 1,
   "id": "520d9829",
   "metadata": {
    "_cell_guid": "b1076dfc-b9ad-4769-8c92-a6c4dae69d19",
    "_uuid": "8f2839f25d086af736a60e9eeb907d3b93b6e0e5",
    "execution": {
     "iopub.execute_input": "2023-11-14T17:56:43.618935Z",
     "iopub.status.busy": "2023-11-14T17:56:43.618528Z",
     "iopub.status.idle": "2023-11-14T17:56:44.523375Z",
     "shell.execute_reply": "2023-11-14T17:56:44.520127Z"
    },
    "papermill": {
     "duration": 0.919496,
     "end_time": "2023-11-14T17:56:44.527289",
     "exception": false,
     "start_time": "2023-11-14T17:56:43.607793",
     "status": "completed"
    },
    "tags": []
   },
   "outputs": [
    {
     "name": "stdout",
     "output_type": "stream",
     "text": [
      "/kaggle/input/email-spam-classification-dataset/combined_data.csv\n"
     ]
    }
   ],
   "source": [
    "# This Python 3 environment comes with many helpful analytics libraries installed\n",
    "# It is defined by the kaggle/python Docker image: https://github.com/kaggle/docker-python\n",
    "# For example, here's several helpful packages to load\n",
    "\n",
    "import numpy as np # linear algebra\n",
    "import pandas as pd # data processing, CSV file I/O (e.g. pd.read_csv)\n",
    "\n",
    "# Input data files are available in the read-only \"../input/\" directory\n",
    "# For example, running this (by clicking run or pressing Shift+Enter) will list all files under the input directory\n",
    "\n",
    "import os\n",
    "for dirname, _, filenames in os.walk('/kaggle/input'):\n",
    "    for filename in filenames:\n",
    "        print(os.path.join(dirname, filename))\n",
    "\n",
    "# You can write up to 20GB to the current directory (/kaggle/working/) that gets preserved as output when you create a version using \"Save & Run All\" \n",
    "# You can also write temporary files to /kaggle/temp/, but they won't be saved outside of the current session"
   ]
  },
  {
   "cell_type": "code",
   "execution_count": 2,
   "id": "122f8db4",
   "metadata": {
    "execution": {
     "iopub.execute_input": "2023-11-14T17:56:44.554324Z",
     "iopub.status.busy": "2023-11-14T17:56:44.552922Z",
     "iopub.status.idle": "2023-11-14T17:56:48.324666Z",
     "shell.execute_reply": "2023-11-14T17:56:48.323485Z"
    },
    "papermill": {
     "duration": 3.78932,
     "end_time": "2023-11-14T17:56:48.327554",
     "exception": false,
     "start_time": "2023-11-14T17:56:44.538234",
     "status": "completed"
    },
    "tags": []
   },
   "outputs": [],
   "source": [
    "dataset = pd.read_csv(\"/kaggle/input/email-spam-classification-dataset/combined_data.csv\")"
   ]
  },
  {
   "cell_type": "code",
   "execution_count": 3,
   "id": "fffac2a2",
   "metadata": {
    "execution": {
     "iopub.execute_input": "2023-11-14T17:56:48.347126Z",
     "iopub.status.busy": "2023-11-14T17:56:48.346704Z",
     "iopub.status.idle": "2023-11-14T17:56:59.385627Z",
     "shell.execute_reply": "2023-11-14T17:56:59.384535Z"
    },
    "papermill": {
     "duration": 11.052082,
     "end_time": "2023-11-14T17:56:59.388540",
     "exception": false,
     "start_time": "2023-11-14T17:56:48.336458",
     "status": "completed"
    },
    "tags": []
   },
   "outputs": [],
   "source": [
    "total_text = set()\n",
    "for index, row in dataset.iterrows():\n",
    "    total_text.update(row[1].split())\n",
    "stoi = {char:i for i, char in enumerate(sorted(total_text))}"
   ]
  },
  {
   "cell_type": "code",
   "execution_count": 4,
   "id": "abe53cc0",
   "metadata": {
    "execution": {
     "iopub.execute_input": "2023-11-14T17:56:59.408412Z",
     "iopub.status.busy": "2023-11-14T17:56:59.407973Z",
     "iopub.status.idle": "2023-11-14T17:57:11.464289Z",
     "shell.execute_reply": "2023-11-14T17:57:11.462965Z"
    },
    "papermill": {
     "duration": 12.069767,
     "end_time": "2023-11-14T17:57:11.467382",
     "exception": false,
     "start_time": "2023-11-14T17:56:59.397615",
     "status": "completed"
    },
    "tags": []
   },
   "outputs": [
    {
     "name": "stdout",
     "output_type": "stream",
     "text": [
      "--2023-11-14 17:57:00--  https://s3.amazonaws.com/research.metamind.io/wikitext/wikitext-103-raw-v1.zip\r\n",
      "Resolving s3.amazonaws.com (s3.amazonaws.com)... 52.216.218.128, 52.216.177.189, 52.217.207.40, ...\r\n",
      "Connecting to s3.amazonaws.com (s3.amazonaws.com)|52.216.218.128|:443... connected.\r\n",
      "HTTP request sent, awaiting response... 200 OK\r\n",
      "Length: 191984949 (183M) [application/zip]\r\n",
      "Saving to: ‘wikitext-103-raw-v1.zip’\r\n",
      "\r\n",
      "wikitext-103-raw-v1 100%[===================>] 183.09M  46.3MB/s    in 4.0s    \r\n",
      "\r\n",
      "2023-11-14 17:57:04 (46.3 MB/s) - ‘wikitext-103-raw-v1.zip’ saved [191984949/191984949]\r\n",
      "\r\n",
      "Archive:  wikitext-103-raw-v1.zip\r\n",
      "   creating: wikitext-103-raw/\r\n",
      "  inflating: wikitext-103-raw/wiki.test.raw  \r\n",
      "  inflating: wikitext-103-raw/wiki.valid.raw  \r\n",
      "  inflating: wikitext-103-raw/wiki.train.raw  \r\n"
     ]
    }
   ],
   "source": [
    "!wget https://s3.amazonaws.com/research.metamind.io/wikitext/wikitext-103-raw-v1.zip\n",
    "!unzip wikitext-103-raw-v1.zip"
   ]
  },
  {
   "cell_type": "code",
   "execution_count": 5,
   "id": "e3501782",
   "metadata": {
    "execution": {
     "iopub.execute_input": "2023-11-14T17:57:11.491465Z",
     "iopub.status.busy": "2023-11-14T17:57:11.490997Z",
     "iopub.status.idle": "2023-11-14T17:58:09.972236Z",
     "shell.execute_reply": "2023-11-14T17:58:09.970881Z"
    },
    "papermill": {
     "duration": 58.496824,
     "end_time": "2023-11-14T17:58:09.975271",
     "exception": false,
     "start_time": "2023-11-14T17:57:11.478447",
     "status": "completed"
    },
    "tags": []
   },
   "outputs": [
    {
     "name": "stdout",
     "output_type": "stream",
     "text": [
      "\n",
      "\n",
      "\n"
     ]
    }
   ],
   "source": [
    "from tokenizers import Tokenizer\n",
    "from tokenizers.models import BPE\n",
    "tokenizer = Tokenizer(BPE(unk_token=\"[UNK]\"))\n",
    "from tokenizers.trainers import BpeTrainer\n",
    "trainer = BpeTrainer(special_tokens=[\"[UNK]\", \"[CLS]\", \"[SEP]\", \"[PAD]\", \"[MASK]\"])\n",
    "\n",
    "from tokenizers.pre_tokenizers import Whitespace\n",
    "tokenizer.pre_tokenizer = Whitespace()\n",
    "\n",
    "files = [f\"/kaggle/working/wikitext-103-raw/wiki.{split}.raw\" for split in [\"test\", \"train\", \"valid\"]]\n",
    "tokenizer.train(files, trainer)"
   ]
  },
  {
   "cell_type": "code",
   "execution_count": 6,
   "id": "65222155",
   "metadata": {
    "execution": {
     "iopub.execute_input": "2023-11-14T17:58:10.000663Z",
     "iopub.status.busy": "2023-11-14T17:58:10.000152Z",
     "iopub.status.idle": "2023-11-14T17:58:10.061503Z",
     "shell.execute_reply": "2023-11-14T17:58:10.060150Z"
    },
    "papermill": {
     "duration": 0.076983,
     "end_time": "2023-11-14T17:58:10.064120",
     "exception": false,
     "start_time": "2023-11-14T17:58:09.987137",
     "status": "completed"
    },
    "tags": []
   },
   "outputs": [
    {
     "name": "stdout",
     "output_type": "stream",
     "text": [
      "[19969, 22090, 15383, 6199, 6876, 7336, 6943, 71, 9412, 5022, 5099, 6508, 5726, 8567, 10058, 7743, 5042, 17392, 5355, 5152, 19731, 77, 6861, 5034, 5149, 5438, 5037, 5561, 5136, 5280, 10437, 5137, 8372, 19005, 5812, 5111, 5120, 7384, 5278, 8740]\n",
      "40\n"
     ]
    }
   ],
   "source": [
    "for index, row in dataset.iterrows():\n",
    "    print(tokenizer.encode(row[1]).ids)\n",
    "    print(len(tokenizer.encode(row[1]).ids))\n",
    "    break"
   ]
  },
  {
   "cell_type": "code",
   "execution_count": 7,
   "id": "d4ec9fff",
   "metadata": {
    "execution": {
     "iopub.execute_input": "2023-11-14T17:58:10.088844Z",
     "iopub.status.busy": "2023-11-14T17:58:10.088445Z",
     "iopub.status.idle": "2023-11-14T17:58:10.109546Z",
     "shell.execute_reply": "2023-11-14T17:58:10.108486Z"
    },
    "papermill": {
     "duration": 0.03638,
     "end_time": "2023-11-14T17:58:10.111948",
     "exception": false,
     "start_time": "2023-11-14T17:58:10.075568",
     "status": "completed"
    },
    "tags": []
   },
   "outputs": [
    {
     "data": {
      "text/plain": [
       "30000"
      ]
     },
     "execution_count": 7,
     "metadata": {},
     "output_type": "execute_result"
    }
   ],
   "source": [
    "tokenizer.get_vocab_size()"
   ]
  },
  {
   "cell_type": "code",
   "execution_count": 8,
   "id": "18b57682",
   "metadata": {
    "execution": {
     "iopub.execute_input": "2023-11-14T17:58:10.137855Z",
     "iopub.status.busy": "2023-11-14T17:58:10.137014Z",
     "iopub.status.idle": "2023-11-14T17:58:10.153845Z",
     "shell.execute_reply": "2023-11-14T17:58:10.152507Z"
    },
    "papermill": {
     "duration": 0.033294,
     "end_time": "2023-11-14T17:58:10.156875",
     "exception": false,
     "start_time": "2023-11-14T17:58:10.123581",
     "status": "completed"
    },
    "tags": []
   },
   "outputs": [],
   "source": [
    "vocab_size = tokenizer.get_vocab_size()"
   ]
  },
  {
   "cell_type": "code",
   "execution_count": 9,
   "id": "c2835434",
   "metadata": {
    "execution": {
     "iopub.execute_input": "2023-11-14T17:58:10.182473Z",
     "iopub.status.busy": "2023-11-14T17:58:10.181989Z",
     "iopub.status.idle": "2023-11-14T17:58:10.187050Z",
     "shell.execute_reply": "2023-11-14T17:58:10.185841Z"
    },
    "papermill": {
     "duration": 0.021191,
     "end_time": "2023-11-14T17:58:10.189723",
     "exception": false,
     "start_time": "2023-11-14T17:58:10.168532",
     "status": "completed"
    },
    "tags": []
   },
   "outputs": [],
   "source": [
    "block_size = 50"
   ]
  },
  {
   "cell_type": "code",
   "execution_count": 10,
   "id": "7cb960d7",
   "metadata": {
    "execution": {
     "iopub.execute_input": "2023-11-14T17:58:10.215006Z",
     "iopub.status.busy": "2023-11-14T17:58:10.214058Z",
     "iopub.status.idle": "2023-11-14T17:58:10.219220Z",
     "shell.execute_reply": "2023-11-14T17:58:10.218428Z"
    },
    "papermill": {
     "duration": 0.020162,
     "end_time": "2023-11-14T17:58:10.221552",
     "exception": false,
     "start_time": "2023-11-14T17:58:10.201390",
     "status": "completed"
    },
    "tags": []
   },
   "outputs": [],
   "source": [
    "tokenizer.enable_truncation(block_size)"
   ]
  },
  {
   "cell_type": "code",
   "execution_count": 11,
   "id": "e379b71b",
   "metadata": {
    "execution": {
     "iopub.execute_input": "2023-11-14T17:58:10.246446Z",
     "iopub.status.busy": "2023-11-14T17:58:10.245681Z",
     "iopub.status.idle": "2023-11-14T17:58:10.250291Z",
     "shell.execute_reply": "2023-11-14T17:58:10.249440Z"
    },
    "papermill": {
     "duration": 0.019689,
     "end_time": "2023-11-14T17:58:10.252602",
     "exception": false,
     "start_time": "2023-11-14T17:58:10.232913",
     "status": "completed"
    },
    "tags": []
   },
   "outputs": [],
   "source": [
    "tokenizer.enable_padding(direction='left', length=block_size)"
   ]
  },
  {
   "cell_type": "code",
   "execution_count": 12,
   "id": "0267f9c9",
   "metadata": {
    "execution": {
     "iopub.execute_input": "2023-11-14T17:58:10.278855Z",
     "iopub.status.busy": "2023-11-14T17:58:10.278037Z",
     "iopub.status.idle": "2023-11-14T17:58:10.295509Z",
     "shell.execute_reply": "2023-11-14T17:58:10.294463Z"
    },
    "papermill": {
     "duration": 0.034376,
     "end_time": "2023-11-14T17:58:10.298586",
     "exception": false,
     "start_time": "2023-11-14T17:58:10.264210",
     "status": "completed"
    },
    "tags": []
   },
   "outputs": [
    {
     "name": "stdout",
     "output_type": "stream",
     "text": [
      "[0, 0, 0, 0, 0, 0, 0, 0, 0, 0, 19969, 22090, 15383, 6199, 6876, 7336, 6943, 71, 9412, 5022, 5099, 6508, 5726, 8567, 10058, 7743, 5042, 17392, 5355, 5152, 19731, 77, 6861, 5034, 5149, 5438, 5037, 5561, 5136, 5280, 10437, 5137, 8372, 19005, 5812, 5111, 5120, 7384, 5278, 8740]\n",
      "50\n"
     ]
    }
   ],
   "source": [
    "for index, row in dataset.iterrows():\n",
    "    print(tokenizer.encode(row[1]).ids)\n",
    "    print(len(tokenizer.encode(row[1]).ids))\n",
    "    break"
   ]
  },
  {
   "cell_type": "code",
   "execution_count": 13,
   "id": "45d25d17",
   "metadata": {
    "execution": {
     "iopub.execute_input": "2023-11-14T17:58:10.324031Z",
     "iopub.status.busy": "2023-11-14T17:58:10.323605Z",
     "iopub.status.idle": "2023-11-14T17:58:14.300680Z",
     "shell.execute_reply": "2023-11-14T17:58:14.299284Z"
    },
    "papermill": {
     "duration": 3.993509,
     "end_time": "2023-11-14T17:58:14.303610",
     "exception": false,
     "start_time": "2023-11-14T17:58:10.310101",
     "status": "completed"
    },
    "tags": []
   },
   "outputs": [],
   "source": [
    "import torch"
   ]
  },
  {
   "cell_type": "code",
   "execution_count": 14,
   "id": "7cfaff33",
   "metadata": {
    "execution": {
     "iopub.execute_input": "2023-11-14T17:58:14.329589Z",
     "iopub.status.busy": "2023-11-14T17:58:14.328969Z",
     "iopub.status.idle": "2023-11-14T18:00:11.857055Z",
     "shell.execute_reply": "2023-11-14T18:00:11.855739Z"
    },
    "papermill": {
     "duration": 117.544689,
     "end_time": "2023-11-14T18:00:11.860070",
     "exception": false,
     "start_time": "2023-11-14T17:58:14.315381",
     "status": "completed"
    },
    "tags": []
   },
   "outputs": [],
   "source": [
    "def build_dataset():\n",
    "    xs, ys = [], []\n",
    "    for index, row in dataset.iterrows():\n",
    "        xs.append(tokenizer.encode(row[1]).ids)\n",
    "        ys.append(row[0])\n",
    "    xs = torch.tensor(xs)\n",
    "    ys = torch.tensor(ys)\n",
    "    return xs, ys\n",
    "xs, ys = build_dataset()"
   ]
  },
  {
   "cell_type": "code",
   "execution_count": 15,
   "id": "beefad23",
   "metadata": {
    "execution": {
     "iopub.execute_input": "2023-11-14T18:00:11.885000Z",
     "iopub.status.busy": "2023-11-14T18:00:11.884577Z",
     "iopub.status.idle": "2023-11-14T18:00:11.922562Z",
     "shell.execute_reply": "2023-11-14T18:00:11.921395Z"
    },
    "papermill": {
     "duration": 0.053364,
     "end_time": "2023-11-14T18:00:11.924956",
     "exception": false,
     "start_time": "2023-11-14T18:00:11.871592",
     "status": "completed"
    },
    "tags": []
   },
   "outputs": [
    {
     "data": {
      "text/plain": [
       "tensor([    0,     0,     0,     0,     0,     0,     0,     0,     0,     0,\n",
       "        19969, 22090, 15383,  6199,  6876,  7336,  6943,    71,  9412,  5022,\n",
       "         5099,  6508,  5726,  8567, 10058,  7743,  5042, 17392,  5355,  5152,\n",
       "        19731,    77,  6861,  5034,  5149,  5438,  5037,  5561,  5136,  5280,\n",
       "        10437,  5137,  8372, 19005,  5812,  5111,  5120,  7384,  5278,  8740])"
      ]
     },
     "execution_count": 15,
     "metadata": {},
     "output_type": "execute_result"
    }
   ],
   "source": [
    "xs[0]"
   ]
  },
  {
   "cell_type": "code",
   "execution_count": 16,
   "id": "028df77c",
   "metadata": {
    "execution": {
     "iopub.execute_input": "2023-11-14T18:00:11.950208Z",
     "iopub.status.busy": "2023-11-14T18:00:11.949382Z",
     "iopub.status.idle": "2023-11-14T18:00:11.956997Z",
     "shell.execute_reply": "2023-11-14T18:00:11.955882Z"
    },
    "papermill": {
     "duration": 0.022876,
     "end_time": "2023-11-14T18:00:11.959251",
     "exception": false,
     "start_time": "2023-11-14T18:00:11.936375",
     "status": "completed"
    },
    "tags": []
   },
   "outputs": [
    {
     "data": {
      "text/plain": [
       "tensor(1)"
      ]
     },
     "execution_count": 16,
     "metadata": {},
     "output_type": "execute_result"
    }
   ],
   "source": [
    "ys[0] # i think 1=scam, 0=no scam"
   ]
  },
  {
   "cell_type": "code",
   "execution_count": 17,
   "id": "f9da63c7",
   "metadata": {
    "execution": {
     "iopub.execute_input": "2023-11-14T18:00:11.985123Z",
     "iopub.status.busy": "2023-11-14T18:00:11.984147Z",
     "iopub.status.idle": "2023-11-14T18:00:11.989159Z",
     "shell.execute_reply": "2023-11-14T18:00:11.987977Z"
    },
    "papermill": {
     "duration": 0.020597,
     "end_time": "2023-11-14T18:00:11.991683",
     "exception": false,
     "start_time": "2023-11-14T18:00:11.971086",
     "status": "completed"
    },
    "tags": []
   },
   "outputs": [],
   "source": [
    "emb_dim = 10"
   ]
  },
  {
   "cell_type": "code",
   "execution_count": 18,
   "id": "d1b18b76",
   "metadata": {
    "execution": {
     "iopub.execute_input": "2023-11-14T18:00:12.016799Z",
     "iopub.status.busy": "2023-11-14T18:00:12.016397Z",
     "iopub.status.idle": "2023-11-14T18:00:12.041764Z",
     "shell.execute_reply": "2023-11-14T18:00:12.040537Z"
    },
    "papermill": {
     "duration": 0.041233,
     "end_time": "2023-11-14T18:00:12.044677",
     "exception": false,
     "start_time": "2023-11-14T18:00:12.003444",
     "status": "completed"
    },
    "tags": []
   },
   "outputs": [],
   "source": [
    "# initialize parameters\n",
    "C = torch.randn(vocab_size, emb_dim)\n",
    "w1 = torch.randn(block_size * emb_dim, 100)\n",
    "b1 = torch.randn(100)\n",
    "w2 = torch.randn(100, 2)\n",
    "b2 = torch.randn(2)\n",
    "\n",
    "params = [C, w1, b1, w2, b2]\n",
    "for p in params:\n",
    "    p.requires_grad = True\n",
    "    "
   ]
  },
  {
   "cell_type": "code",
   "execution_count": 19,
   "id": "294bc4c7",
   "metadata": {
    "execution": {
     "iopub.execute_input": "2023-11-14T18:00:12.072406Z",
     "iopub.status.busy": "2023-11-14T18:00:12.071529Z",
     "iopub.status.idle": "2023-11-14T18:00:12.076948Z",
     "shell.execute_reply": "2023-11-14T18:00:12.075899Z"
    },
    "papermill": {
     "duration": 0.022939,
     "end_time": "2023-11-14T18:00:12.079708",
     "exception": false,
     "start_time": "2023-11-14T18:00:12.056769",
     "status": "completed"
    },
    "tags": []
   },
   "outputs": [],
   "source": [
    "num_examples = len(xs)"
   ]
  },
  {
   "cell_type": "code",
   "execution_count": 20,
   "id": "158fa8df",
   "metadata": {
    "execution": {
     "iopub.execute_input": "2023-11-14T18:00:12.106513Z",
     "iopub.status.busy": "2023-11-14T18:00:12.105749Z",
     "iopub.status.idle": "2023-11-14T18:00:12.111183Z",
     "shell.execute_reply": "2023-11-14T18:00:12.110156Z"
    },
    "papermill": {
     "duration": 0.021183,
     "end_time": "2023-11-14T18:00:12.113515",
     "exception": false,
     "start_time": "2023-11-14T18:00:12.092332",
     "status": "completed"
    },
    "tags": []
   },
   "outputs": [],
   "source": [
    "# training params\n",
    "num_epochs = 100000\n",
    "lr = 0.001\n",
    "batch_size = 16"
   ]
  },
  {
   "cell_type": "code",
   "execution_count": 21,
   "id": "49ecff2e",
   "metadata": {
    "execution": {
     "iopub.execute_input": "2023-11-14T18:00:12.140136Z",
     "iopub.status.busy": "2023-11-14T18:00:12.139469Z",
     "iopub.status.idle": "2023-11-14T18:00:12.144400Z",
     "shell.execute_reply": "2023-11-14T18:00:12.143577Z"
    },
    "papermill": {
     "duration": 0.021023,
     "end_time": "2023-11-14T18:00:12.146743",
     "exception": false,
     "start_time": "2023-11-14T18:00:12.125720",
     "status": "completed"
    },
    "tags": []
   },
   "outputs": [],
   "source": [
    "import torch.nn.functional as F"
   ]
  },
  {
   "cell_type": "code",
   "execution_count": 22,
   "id": "b419a211",
   "metadata": {
    "execution": {
     "iopub.execute_input": "2023-11-14T18:00:12.172538Z",
     "iopub.status.busy": "2023-11-14T18:00:12.171852Z",
     "iopub.status.idle": "2023-11-14T18:01:46.232804Z",
     "shell.execute_reply": "2023-11-14T18:01:46.231668Z"
    },
    "papermill": {
     "duration": 94.077126,
     "end_time": "2023-11-14T18:01:46.235693",
     "exception": false,
     "start_time": "2023-11-14T18:00:12.158567",
     "status": "completed"
    },
    "tags": []
   },
   "outputs": [
    {
     "name": "stdout",
     "output_type": "stream",
     "text": [
      "Epoch: 0 , loss: 0.7608835697174072\n",
      "Epoch: 1000 , loss: 0.7754023671150208\n",
      "Epoch: 2000 , loss: 0.7598123550415039\n",
      "Epoch: 3000 , loss: 0.7555802464485168\n",
      "Epoch: 4000 , loss: 0.7374330759048462\n",
      "Epoch: 5000 , loss: 0.7787920236587524\n",
      "Epoch: 6000 , loss: 0.7095420360565186\n",
      "Epoch: 7000 , loss: 0.7818339467048645\n",
      "Epoch: 8000 , loss: 0.765285074710846\n",
      "Epoch: 9000 , loss: 0.8838711380958557\n",
      "Epoch: 10000 , loss: 0.7236379981040955\n",
      "Epoch: 11000 , loss: 0.680838406085968\n",
      "Epoch: 12000 , loss: 0.6897302865982056\n",
      "Epoch: 13000 , loss: 0.8212460875511169\n",
      "Epoch: 14000 , loss: 0.7416567206382751\n",
      "Epoch: 15000 , loss: 0.8155355453491211\n",
      "Epoch: 16000 , loss: 0.7229146957397461\n",
      "Epoch: 17000 , loss: 0.7862445116043091\n",
      "Epoch: 18000 , loss: 0.6995608806610107\n",
      "Epoch: 19000 , loss: 0.7637975215911865\n",
      "Epoch: 20000 , loss: 0.6000310182571411\n",
      "Epoch: 21000 , loss: 0.7045799493789673\n",
      "Epoch: 22000 , loss: 0.7777068018913269\n",
      "Epoch: 23000 , loss: 0.7292614579200745\n",
      "Epoch: 24000 , loss: 0.7775517702102661\n",
      "Epoch: 25000 , loss: 0.7683045864105225\n",
      "Epoch: 26000 , loss: 0.5688679218292236\n",
      "Epoch: 27000 , loss: 0.836708128452301\n",
      "Epoch: 28000 , loss: 0.7666012048721313\n",
      "Epoch: 29000 , loss: 0.6870169639587402\n",
      "Epoch: 30000 , loss: 0.8555558919906616\n",
      "Epoch: 31000 , loss: 0.7155051231384277\n",
      "Epoch: 32000 , loss: 0.7517026662826538\n",
      "Epoch: 33000 , loss: 0.7224685549736023\n",
      "Epoch: 34000 , loss: 0.7681581377983093\n",
      "Epoch: 35000 , loss: 0.9580453634262085\n",
      "Epoch: 36000 , loss: 0.7723760604858398\n",
      "Epoch: 37000 , loss: 0.6993248462677002\n",
      "Epoch: 38000 , loss: 0.9278758764266968\n",
      "Epoch: 39000 , loss: 0.6346892714500427\n",
      "Epoch: 40000 , loss: 0.7496328949928284\n",
      "Epoch: 41000 , loss: 0.7383989691734314\n",
      "Epoch: 42000 , loss: 0.7308943271636963\n",
      "Epoch: 43000 , loss: 0.6307353377342224\n",
      "Epoch: 44000 , loss: 0.6344475150108337\n",
      "Epoch: 45000 , loss: 0.8284808397293091\n",
      "Epoch: 46000 , loss: 0.7358742952346802\n",
      "Epoch: 47000 , loss: 0.8638683557510376\n",
      "Epoch: 48000 , loss: 0.6474940776824951\n",
      "Epoch: 49000 , loss: 0.8323065638542175\n",
      "Epoch: 50000 , loss: 0.7043392062187195\n",
      "Epoch: 51000 , loss: 0.6707240343093872\n",
      "Epoch: 52000 , loss: 0.7483030557632446\n",
      "Epoch: 53000 , loss: 0.7287688255310059\n",
      "Epoch: 54000 , loss: 0.6774471998214722\n",
      "Epoch: 55000 , loss: 0.7655035257339478\n",
      "Epoch: 56000 , loss: 0.8019452095031738\n",
      "Epoch: 57000 , loss: 0.693996012210846\n",
      "Epoch: 58000 , loss: 0.6132384538650513\n",
      "Epoch: 59000 , loss: 0.9197932481765747\n",
      "Epoch: 60000 , loss: 0.7116846442222595\n",
      "Epoch: 61000 , loss: 0.7635148763656616\n",
      "Epoch: 62000 , loss: 0.7692046761512756\n",
      "Epoch: 63000 , loss: 0.5000696778297424\n",
      "Epoch: 64000 , loss: 0.8980039358139038\n",
      "Epoch: 65000 , loss: 0.760722815990448\n",
      "Epoch: 66000 , loss: 0.7935481667518616\n",
      "Epoch: 67000 , loss: 0.7368755340576172\n",
      "Epoch: 68000 , loss: 0.8218643665313721\n",
      "Epoch: 69000 , loss: 0.7444761991500854\n",
      "Epoch: 70000 , loss: 0.7210668921470642\n",
      "Epoch: 71000 , loss: 0.8209468722343445\n",
      "Epoch: 72000 , loss: 0.714889407157898\n",
      "Epoch: 73000 , loss: 0.5596235394477844\n",
      "Epoch: 74000 , loss: 0.6045454144477844\n",
      "Epoch: 75000 , loss: 0.6939057111740112\n",
      "Epoch: 76000 , loss: 0.7436861991882324\n",
      "Epoch: 77000 , loss: 0.7042339444160461\n",
      "Epoch: 78000 , loss: 0.7052491903305054\n",
      "Epoch: 79000 , loss: 0.6557566523551941\n",
      "Epoch: 80000 , loss: 0.6738674640655518\n",
      "Epoch: 81000 , loss: 0.7926262617111206\n",
      "Epoch: 82000 , loss: 0.73768150806427\n",
      "Epoch: 83000 , loss: 0.6859807968139648\n",
      "Epoch: 84000 , loss: 0.7707716822624207\n",
      "Epoch: 85000 , loss: 0.8570659756660461\n",
      "Epoch: 86000 , loss: 0.701098620891571\n",
      "Epoch: 87000 , loss: 0.7666431665420532\n",
      "Epoch: 88000 , loss: 0.6977606415748596\n",
      "Epoch: 89000 , loss: 0.7670387029647827\n",
      "Epoch: 90000 , loss: 0.7810100317001343\n",
      "Epoch: 91000 , loss: 0.6411102414131165\n",
      "Epoch: 92000 , loss: 0.66362464427948\n",
      "Epoch: 93000 , loss: 0.6137716770172119\n",
      "Epoch: 94000 , loss: 0.6747192740440369\n",
      "Epoch: 95000 , loss: 0.684981107711792\n",
      "Epoch: 96000 , loss: 0.7870191335678101\n",
      "Epoch: 97000 , loss: 0.5965256690979004\n",
      "Epoch: 98000 , loss: 0.7711236476898193\n",
      "Epoch: 99000 , loss: 0.7365104556083679\n"
     ]
    }
   ],
   "source": [
    "for epoch in range(num_epochs):\n",
    "    selection = torch.randint(0, num_examples-1, (batch_size, ))\n",
    "    ins = xs[selection]\n",
    "    outs = ys[selection]\n",
    "    emb = C[ins].view(-1, emb_dim * block_size)\n",
    "    l1 = ((emb @ w1) + b1).tanh()\n",
    "    logits = ((l1 @ w2) + b2).sigmoid()\n",
    "    for p in params:\n",
    "        p.grad = None\n",
    "        \n",
    "    loss = F.cross_entropy(logits, outs)\n",
    "    if epoch % 1000 == 0:\n",
    "        print(\"Epoch:\", epoch, \", loss:\", loss.item())\n",
    "    loss.backward()\n",
    "    \n",
    "    for p in params:\n",
    "        p.data -= p.grad * lr\n",
    "    "
   ]
  },
  {
   "cell_type": "code",
   "execution_count": 23,
   "id": "fc710e74",
   "metadata": {
    "execution": {
     "iopub.execute_input": "2023-11-14T18:01:46.281979Z",
     "iopub.status.busy": "2023-11-14T18:01:46.280698Z",
     "iopub.status.idle": "2023-11-14T18:01:46.295648Z",
     "shell.execute_reply": "2023-11-14T18:01:46.294660Z"
    },
    "papermill": {
     "duration": 0.040152,
     "end_time": "2023-11-14T18:01:46.298025",
     "exception": false,
     "start_time": "2023-11-14T18:01:46.257873",
     "status": "completed"
    },
    "tags": []
   },
   "outputs": [
    {
     "name": "stdout",
     "output_type": "stream",
     "text": [
      "author pm ich aud date fri jun escap en umber escap en umber escap en umber escap en umber escap en umber new revision escap en umber modified trunk doc s p d ds p d des cap en umber exceptions pod log doc s the phrase ' may not\n",
      "prediction: 0\n",
      "truth: 0\n"
     ]
    }
   ],
   "source": [
    "with torch.no_grad():\n",
    "    selection = torch.randint(0, num_examples-1, (1,))\n",
    "    ins = xs[selection]\n",
    "    outs = ys[selection]\n",
    "    emb = C[ins].view(-1, emb_dim * block_size)\n",
    "    l1 = ((emb @ w1) + b1).tanh()\n",
    "    logits = ((l1 @ w2) + b2).sigmoid()\n",
    "    print(tokenizer.decode(ins[0].numpy()))\n",
    "    print(\"prediction:\", torch.argmax(logits).item())\n",
    "    print(\"truth:\", outs[0].item())"
   ]
  },
  {
   "cell_type": "code",
   "execution_count": 24,
   "id": "fea4e5df",
   "metadata": {
    "execution": {
     "iopub.execute_input": "2023-11-14T18:01:46.342416Z",
     "iopub.status.busy": "2023-11-14T18:01:46.341754Z",
     "iopub.status.idle": "2023-11-14T18:01:46.348149Z",
     "shell.execute_reply": "2023-11-14T18:01:46.346819Z"
    },
    "papermill": {
     "duration": 0.031941,
     "end_time": "2023-11-14T18:01:46.350928",
     "exception": false,
     "start_time": "2023-11-14T18:01:46.318987",
     "status": "completed"
    },
    "tags": []
   },
   "outputs": [],
   "source": [
    "def prompt(email):\n",
    "    with torch.no_grad():\n",
    "        ins = torch.tensor(tokenizer.encode(email).ids)\n",
    "        emb = C[ins].view(-1, emb_dim * block_size)\n",
    "        l1 = ((emb @ w1) + b1).tanh()\n",
    "        logits = ((l1 @ w2) + b2).sigmoid()\n",
    "        return torch.argmax(logits)"
   ]
  },
  {
   "cell_type": "code",
   "execution_count": 25,
   "id": "26720cd5",
   "metadata": {
    "execution": {
     "iopub.execute_input": "2023-11-14T18:01:46.465185Z",
     "iopub.status.busy": "2023-11-14T18:01:46.464478Z",
     "iopub.status.idle": "2023-11-14T18:01:46.473585Z",
     "shell.execute_reply": "2023-11-14T18:01:46.472077Z"
    },
    "papermill": {
     "duration": 0.105091,
     "end_time": "2023-11-14T18:01:46.477023",
     "exception": false,
     "start_time": "2023-11-14T18:01:46.371932",
     "status": "completed"
    },
    "tags": []
   },
   "outputs": [
    {
     "data": {
      "text/plain": [
       "tensor(0)"
      ]
     },
     "execution_count": 25,
     "metadata": {},
     "output_type": "execute_result"
    }
   ],
   "source": [
    "prompt(\"the world has gone wireless and mobile air waves mb w c is in the right place in the right time with a red hot product we are looking forward financial results to be announced by the company any moment with all the new contracts they have acquired we are\")"
   ]
  }
 ],
 "metadata": {
  "kaggle": {
   "accelerator": "none",
   "dataSources": [
    {
     "datasetId": 3962399,
     "sourceId": 6897944,
     "sourceType": "datasetVersion"
    }
   ],
   "dockerImageVersionId": 30579,
   "isGpuEnabled": false,
   "isInternetEnabled": true,
   "language": "python",
   "sourceType": "notebook"
  },
  "kernelspec": {
   "display_name": "Python 3",
   "language": "python",
   "name": "python3"
  },
  "language_info": {
   "codemirror_mode": {
    "name": "ipython",
    "version": 3
   },
   "file_extension": ".py",
   "mimetype": "text/x-python",
   "name": "python",
   "nbconvert_exporter": "python",
   "pygments_lexer": "ipython3",
   "version": "3.10.12"
  },
  "papermill": {
   "default_parameters": {},
   "duration": 309.070758,
   "end_time": "2023-11-14T18:01:47.926275",
   "environment_variables": {},
   "exception": null,
   "input_path": "__notebook__.ipynb",
   "output_path": "__notebook__.ipynb",
   "parameters": {},
   "start_time": "2023-11-14T17:56:38.855517",
   "version": "2.4.0"
  }
 },
 "nbformat": 4,
 "nbformat_minor": 5
}
