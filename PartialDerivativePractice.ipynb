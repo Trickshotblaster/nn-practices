{
  "nbformat": 4,
  "nbformat_minor": 0,
  "metadata": {
    "colab": {
      "provenance": [],
      "authorship_tag": "ABX9TyMC/mWTT761W7t4EgoeYO3M",
      "include_colab_link": true
    },
    "kernelspec": {
      "name": "python3",
      "display_name": "Python 3"
    },
    "language_info": {
      "name": "python"
    }
  },
  "cells": [
    {
      "cell_type": "markdown",
      "metadata": {
        "id": "view-in-github",
        "colab_type": "text"
      },
      "source": [
        "<a href=\"https://colab.research.google.com/github/Trickshotblaster/nn-practices/blob/main/PartialDerivativePractice.ipynb\" target=\"_parent\"><img src=\"https://colab.research.google.com/assets/colab-badge.svg\" alt=\"Open In Colab\"/></a>"
      ]
    },
    {
      "cell_type": "code",
      "execution_count": 19,
      "metadata": {
        "id": "mO_gUvd5RAo1"
      },
      "outputs": [],
      "source": [
        "def f(a, b, c):\n",
        "  return a*b*(c**2)#2*a**3 - 3*b**2 + c"
      ]
    },
    {
      "cell_type": "code",
      "source": [
        "xa = 0.367\n",
        "xb = 1.245\n",
        "xc = -2.78\n",
        "normal = f(xa, xb, xc)\n",
        "h = 0.000001\n",
        "grada = (f(xa + h, xb, xc) - normal) / h\n",
        "gradb = (f(xa, xb + h, xc) - normal) / h\n",
        "gradc = (f(xa, xb, xc + h) - normal) / h\n",
        "print(\"Grad a:\", grada)\n",
        "print(\"Grad b:\", gradb)\n",
        "print(\"Grad c:\", gradc)"
      ],
      "metadata": {
        "colab": {
          "base_uri": "https://localhost:8080/"
        },
        "id": "h2jMEOdgRN4O",
        "outputId": "6e8418f4-59e6-4ad5-a4a3-a893ee2ead5f"
      },
      "execution_count": 20,
      "outputs": [
        {
          "output_type": "stream",
          "name": "stdout",
          "text": [
            "Grad a: 9.6218580001306\n",
            "Grad b: 2.8363228001815344\n",
            "Grad c: -2.540446943477548\n"
          ]
        }
      ]
    },
    {
      "cell_type": "code",
      "source": [
        "dfda = xb * (xc**2)\n",
        "dfdb = xa * (xc**2)\n",
        "dfdc = xa * xb * xc * 2\n",
        "print(\"Grad a:\", dfda)\n",
        "print(\"Grad b:\", dfdb)\n",
        "print(\"Grad c:\", dfdc)"
      ],
      "metadata": {
        "colab": {
          "base_uri": "https://localhost:8080/"
        },
        "id": "yRwFm9ZMYoSr",
        "outputId": "e3c019f9-4b81-4374-91a7-5b12ea402361"
      },
      "execution_count": 22,
      "outputs": [
        {
          "output_type": "stream",
          "name": "stdout",
          "text": [
            "Grad a: 9.621858\n",
            "Grad b: 2.8363227999999996\n",
            "Grad c: -2.5404473999999997\n"
          ]
        }
      ]
    }
  ]
}