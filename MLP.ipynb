{
  "nbformat": 4,
  "nbformat_minor": 0,
  "metadata": {
    "colab": {
      "provenance": [],
      "authorship_tag": "ABX9TyN2pWsoRRv1GfrQl0c+F/1v",
      "include_colab_link": true
    },
    "kernelspec": {
      "name": "python3",
      "display_name": "Python 3"
    },
    "language_info": {
      "name": "python"
    }
  },
  "cells": [
    {
      "cell_type": "markdown",
      "metadata": {
        "id": "view-in-github",
        "colab_type": "text"
      },
      "source": [
        "<a href=\"https://colab.research.google.com/github/Trickshotblaster/nn-practices/blob/main/MLP.ipynb\" target=\"_parent\"><img src=\"https://colab.research.google.com/assets/colab-badge.svg\" alt=\"Open In Colab\"/></a>"
      ]
    },
    {
      "cell_type": "code",
      "execution_count": 8,
      "metadata": {
        "id": "-fiyn4RDHgUG"
      },
      "outputs": [],
      "source": [
        "import requests\n",
        "\n",
        "url = 'https://raw.githubusercontent.com/karpathy/makemore/master/names.txt'\n",
        "\n",
        "response = requests.get(url)\n",
        "\n",
        "with open('names.txt', 'wb') as f:\n",
        "  f.write(response.content)"
      ]
    },
    {
      "cell_type": "code",
      "source": [
        "import torch\n",
        "import torch.nn.functional as F\n",
        "import matplotlib.pyplot as plt\n",
        "%matplotlib inline"
      ],
      "metadata": {
        "id": "kLD2Wy_sHoVP"
      },
      "execution_count": 9,
      "outputs": []
    },
    {
      "cell_type": "code",
      "source": [
        "words = open('names.txt', 'r').read().splitlines()\n",
        "words[:8]"
      ],
      "metadata": {
        "colab": {
          "base_uri": "https://localhost:8080/"
        },
        "id": "88ggro_GHxUL",
        "outputId": "9e2b5458-e43d-4b23-aa68-06870477246e"
      },
      "execution_count": 10,
      "outputs": [
        {
          "output_type": "execute_result",
          "data": {
            "text/plain": [
              "['emma', 'olivia', 'ava', 'isabella', 'sophia', 'charlotte', 'mia', 'amelia']"
            ]
          },
          "metadata": {},
          "execution_count": 10
        }
      ]
    },
    {
      "cell_type": "code",
      "source": [
        "len(words)"
      ],
      "metadata": {
        "colab": {
          "base_uri": "https://localhost:8080/"
        },
        "id": "Sp-ZkQeHH8dM",
        "outputId": "b02fa815-e191-43b3-d259-00f6ae09a758"
      },
      "execution_count": 11,
      "outputs": [
        {
          "output_type": "execute_result",
          "data": {
            "text/plain": [
              "32033"
            ]
          },
          "metadata": {},
          "execution_count": 11
        }
      ]
    },
    {
      "cell_type": "code",
      "source": [
        "# stoi and itos\n",
        "chars = sorted(list(set(''.join(words))))\n",
        "stoi = {char:i+1 for i, char in enumerate(chars)}\n",
        "stoi['.'] = 0\n",
        "itos = {i:char for char, i in stoi.items()}\n",
        "print(itos)"
      ],
      "metadata": {
        "colab": {
          "base_uri": "https://localhost:8080/"
        },
        "id": "CrRzXj6_H9_p",
        "outputId": "9248419f-acdb-4450-d956-6ef1d816ab7a"
      },
      "execution_count": 12,
      "outputs": [
        {
          "output_type": "stream",
          "name": "stdout",
          "text": [
            "{1: 'a', 2: 'b', 3: 'c', 4: 'd', 5: 'e', 6: 'f', 7: 'g', 8: 'h', 9: 'i', 10: 'j', 11: 'k', 12: 'l', 13: 'm', 14: 'n', 15: 'o', 16: 'p', 17: 'q', 18: 'r', 19: 's', 20: 't', 21: 'u', 22: 'v', 23: 'w', 24: 'x', 25: 'y', 26: 'z', 0: '.'}\n"
          ]
        }
      ]
    },
    {
      "cell_type": "code",
      "source": [
        "# make dataset\n",
        "def build_dataset(words):\n",
        "  block_size = 3 # context length\n",
        "  X, Y = [], []\n",
        "  for w in words:\n",
        "    #print(w)\n",
        "    context = [0] * block_size # list of zeros of length block size\n",
        "    for ch in w + '.':\n",
        "      ix = stoi[ch]\n",
        "      X.append(context)\n",
        "      Y.append(ix)\n",
        "      #print(''.join(itos[i] for i in context), '---->', itos[ix])\n",
        "      context = context[1:] + [ix] # crop to remove previous, append new to end\n",
        "\n",
        "  X = torch.tensor(X)\n",
        "  Y = torch.tensor(Y)\n",
        "  print(X.shape, Y.shape)\n",
        "  return X, Y\n",
        "\n",
        "import random\n",
        "random.seed(42)\n",
        "random.shuffle(words)\n",
        "n1 = int(0.8*len(words))\n",
        "n2 = int(0.9*len(words))\n",
        "Xtr, Ytr = build_dataset(words[:n1])\n",
        "Xdev, Ydev = build_dataset(words[n1:n2])\n",
        "Xte, Yte = build_dataset(words[n2:])\n",
        "\n",
        "X, Y = build_dataset(words)"
      ],
      "metadata": {
        "id": "uNUt-PmgI50U",
        "colab": {
          "base_uri": "https://localhost:8080/"
        },
        "outputId": "29472ac6-54ac-4dd4-e33a-c094670973d3"
      },
      "execution_count": 13,
      "outputs": [
        {
          "output_type": "stream",
          "name": "stdout",
          "text": [
            "torch.Size([182625, 3]) torch.Size([182625])\n",
            "torch.Size([22655, 3]) torch.Size([22655])\n",
            "torch.Size([22866, 3]) torch.Size([22866])\n",
            "torch.Size([228146, 3]) torch.Size([228146])\n"
          ]
        }
      ]
    },
    {
      "cell_type": "code",
      "source": [
        "X.shape, X.dtype, Y.shape, Y.dtype"
      ],
      "metadata": {
        "colab": {
          "base_uri": "https://localhost:8080/"
        },
        "id": "ZZvm2Lj-Kpq9",
        "outputId": "bc592b82-eac2-4479-d54f-6bf921c9e079"
      },
      "execution_count": 14,
      "outputs": [
        {
          "output_type": "execute_result",
          "data": {
            "text/plain": [
              "(torch.Size([228146, 3]), torch.int64, torch.Size([228146]), torch.int64)"
            ]
          },
          "metadata": {},
          "execution_count": 14
        }
      ]
    },
    {
      "cell_type": "code",
      "source": [
        "# C should be a 27 x embedding dimension matrix\n",
        "C = torch.randn((27, 2))"
      ],
      "metadata": {
        "id": "j1pTZxiJK-OT"
      },
      "execution_count": 15,
      "outputs": []
    },
    {
      "cell_type": "code",
      "source": [
        "C[stoi['a']]"
      ],
      "metadata": {
        "colab": {
          "base_uri": "https://localhost:8080/"
        },
        "id": "hJm6cJxQLXNK",
        "outputId": "d1540910-055e-4cc0-d4c8-c86c22a6cda7"
      },
      "execution_count": 16,
      "outputs": [
        {
          "output_type": "execute_result",
          "data": {
            "text/plain": [
              "tensor([ 1.4866, -0.0693])"
            ]
          },
          "metadata": {},
          "execution_count": 16
        }
      ]
    },
    {
      "cell_type": "code",
      "source": [
        "aonehot = F.one_hot(torch.tensor(stoi['a']), num_classes=27).float()\n",
        "aonehot @ C"
      ],
      "metadata": {
        "colab": {
          "base_uri": "https://localhost:8080/"
        },
        "id": "Z_JtzD1RLji4",
        "outputId": "dba945e1-9090-4ebc-b1a3-5fa18700e55f"
      },
      "execution_count": 17,
      "outputs": [
        {
          "output_type": "execute_result",
          "data": {
            "text/plain": [
              "tensor([ 1.4866, -0.0693])"
            ]
          },
          "metadata": {},
          "execution_count": 17
        }
      ]
    },
    {
      "cell_type": "code",
      "source": [
        "C[[5, 6, 7]]"
      ],
      "metadata": {
        "colab": {
          "base_uri": "https://localhost:8080/"
        },
        "id": "avdx0fogMg-h",
        "outputId": "b8f21635-f5cd-401b-dd47-ad1d0a51c3e7"
      },
      "execution_count": 18,
      "outputs": [
        {
          "output_type": "execute_result",
          "data": {
            "text/plain": [
              "tensor([[ 0.2459,  1.4069],\n",
              "        [-0.6024, -0.7465],\n",
              "        [-0.3981,  0.2014]])"
            ]
          },
          "metadata": {},
          "execution_count": 18
        }
      ]
    },
    {
      "cell_type": "code",
      "source": [
        "C[torch.tensor([0,0,0])]"
      ],
      "metadata": {
        "colab": {
          "base_uri": "https://localhost:8080/"
        },
        "id": "JwSdfY_oM486",
        "outputId": "f314dcba-6d1e-44b6-8139-117d494d61b1"
      },
      "execution_count": 19,
      "outputs": [
        {
          "output_type": "execute_result",
          "data": {
            "text/plain": [
              "tensor([[-0.1456, -1.0500],\n",
              "        [-0.1456, -1.0500],\n",
              "        [-0.1456, -1.0500]])"
            ]
          },
          "metadata": {},
          "execution_count": 19
        }
      ]
    },
    {
      "cell_type": "code",
      "source": [
        "for data in X[:5]:\n",
        "  enc = C[data]\n",
        "  print(enc)"
      ],
      "metadata": {
        "colab": {
          "base_uri": "https://localhost:8080/"
        },
        "id": "SfYBbOH0MqeP",
        "outputId": "889e531b-8c03-4ca2-e4f2-a5bc1c61656d"
      },
      "execution_count": 20,
      "outputs": [
        {
          "output_type": "stream",
          "name": "stdout",
          "text": [
            "tensor([[-0.1456, -1.0500],\n",
            "        [-0.1456, -1.0500],\n",
            "        [-0.1456, -1.0500]])\n",
            "tensor([[-0.1456, -1.0500],\n",
            "        [-0.1456, -1.0500],\n",
            "        [ 2.0222,  0.1123]])\n",
            "tensor([[-0.1456, -1.0500],\n",
            "        [ 2.0222,  0.1123],\n",
            "        [ 0.1285, -0.1582]])\n",
            "tensor([[ 2.0222,  0.1123],\n",
            "        [ 0.1285, -0.1582],\n",
            "        [-1.8410, -0.7647]])\n",
            "tensor([[ 0.1285, -0.1582],\n",
            "        [-1.8410, -0.7647],\n",
            "        [ 0.2459,  1.4069]])\n"
          ]
        }
      ]
    },
    {
      "cell_type": "code",
      "source": [
        "emb = C[X]\n",
        "emb.shape"
      ],
      "metadata": {
        "colab": {
          "base_uri": "https://localhost:8080/"
        },
        "id": "wfGYToMPNK1q",
        "outputId": "95131c64-e1c5-432c-9271-427563089b69"
      },
      "execution_count": 21,
      "outputs": [
        {
          "output_type": "execute_result",
          "data": {
            "text/plain": [
              "torch.Size([228146, 3, 2])"
            ]
          },
          "metadata": {},
          "execution_count": 21
        }
      ]
    },
    {
      "cell_type": "code",
      "source": [
        "%time\n",
        "torch.cat([emb[:, 0, :], emb[:, 1, :], emb[:, 2, :]], 1).shape"
      ],
      "metadata": {
        "colab": {
          "base_uri": "https://localhost:8080/"
        },
        "id": "_axHK2K7PZmI",
        "outputId": "eb1c3576-3800-4ee2-e3bc-9d5d1b6c99ba"
      },
      "execution_count": 22,
      "outputs": [
        {
          "output_type": "stream",
          "name": "stdout",
          "text": [
            "CPU times: user 3 µs, sys: 0 ns, total: 3 µs\n",
            "Wall time: 9.3 µs\n"
          ]
        },
        {
          "output_type": "execute_result",
          "data": {
            "text/plain": [
              "torch.Size([228146, 6])"
            ]
          },
          "metadata": {},
          "execution_count": 22
        }
      ]
    },
    {
      "cell_type": "code",
      "source": [
        "%time\n",
        "torch.flatten(emb, start_dim=1).shape"
      ],
      "metadata": {
        "colab": {
          "base_uri": "https://localhost:8080/"
        },
        "id": "NKO-OeWbPzJm",
        "outputId": "f778a6e9-93da-4d41-e285-9476f2eb4032"
      },
      "execution_count": 23,
      "outputs": [
        {
          "output_type": "stream",
          "name": "stdout",
          "text": [
            "CPU times: user 3 µs, sys: 0 ns, total: 3 µs\n",
            "Wall time: 7.15 µs\n"
          ]
        },
        {
          "output_type": "execute_result",
          "data": {
            "text/plain": [
              "torch.Size([228146, 6])"
            ]
          },
          "metadata": {},
          "execution_count": 23
        }
      ]
    },
    {
      "cell_type": "code",
      "source": [
        "%time\n",
        "torch.cat(torch.unbind(emb, 1), 1).shape"
      ],
      "metadata": {
        "colab": {
          "base_uri": "https://localhost:8080/"
        },
        "id": "VSv2BLpcQh_V",
        "outputId": "123b6166-a541-4598-e485-074b8a934cbf"
      },
      "execution_count": 24,
      "outputs": [
        {
          "output_type": "stream",
          "name": "stdout",
          "text": [
            "CPU times: user 4 µs, sys: 0 ns, total: 4 µs\n",
            "Wall time: 8.34 µs\n"
          ]
        },
        {
          "output_type": "execute_result",
          "data": {
            "text/plain": [
              "torch.Size([228146, 6])"
            ]
          },
          "metadata": {},
          "execution_count": 24
        }
      ]
    },
    {
      "cell_type": "markdown",
      "source": [
        "Idk bruh I think mine is still better"
      ],
      "metadata": {
        "id": "0irXVt_TQ87o"
      }
    },
    {
      "cell_type": "code",
      "source": [
        "a = torch.arange(18)\n",
        "a, a.shape"
      ],
      "metadata": {
        "colab": {
          "base_uri": "https://localhost:8080/"
        },
        "id": "wJCZLwk2RIKV",
        "outputId": "db903277-4f1a-49b8-cf10-1b8d7f2f9a60"
      },
      "execution_count": 25,
      "outputs": [
        {
          "output_type": "execute_result",
          "data": {
            "text/plain": [
              "(tensor([ 0,  1,  2,  3,  4,  5,  6,  7,  8,  9, 10, 11, 12, 13, 14, 15, 16, 17]),\n",
              " torch.Size([18]))"
            ]
          },
          "metadata": {},
          "execution_count": 25
        }
      ]
    },
    {
      "cell_type": "code",
      "source": [
        "a.view(3, 6) # holy moly where has this been all my life"
      ],
      "metadata": {
        "colab": {
          "base_uri": "https://localhost:8080/"
        },
        "id": "LXRTu3BERTJp",
        "outputId": "ab68f82d-0ead-4022-d317-d527dd806aba"
      },
      "execution_count": 26,
      "outputs": [
        {
          "output_type": "execute_result",
          "data": {
            "text/plain": [
              "tensor([[ 0,  1,  2,  3,  4,  5],\n",
              "        [ 6,  7,  8,  9, 10, 11],\n",
              "        [12, 13, 14, 15, 16, 17]])"
            ]
          },
          "metadata": {},
          "execution_count": 26
        }
      ]
    },
    {
      "cell_type": "markdown",
      "source": [
        "2 microseconds bruv"
      ],
      "metadata": {
        "id": "br3PNmn-RxIb"
      }
    },
    {
      "cell_type": "code",
      "source": [
        "Xtr.shape, Ytr.shape"
      ],
      "metadata": {
        "colab": {
          "base_uri": "https://localhost:8080/"
        },
        "id": "b1ExOiJdryQa",
        "outputId": "570d1af2-f104-401c-8ac7-dc68101fc0cf"
      },
      "execution_count": 27,
      "outputs": [
        {
          "output_type": "execute_result",
          "data": {
            "text/plain": [
              "(torch.Size([182625, 3]), torch.Size([182625]))"
            ]
          },
          "metadata": {},
          "execution_count": 27
        }
      ]
    },
    {
      "cell_type": "code",
      "source": [
        "C = torch.randn((27, 10))\n",
        "w1 = torch.randn(30, 200)\n",
        "b1 = torch.randn(200)\n",
        "w2 = torch.randn(200, 27)\n",
        "b2 = torch.randn(27)\n",
        "\n",
        "parameters = [C, w1, b1, w2, b2]\n",
        "for p in parameters:\n",
        "  p.requires_grad = True\n"
      ],
      "metadata": {
        "id": "Y3bPMri3NnAo"
      },
      "execution_count": 65,
      "outputs": []
    },
    {
      "cell_type": "code",
      "source": [
        "sum(p.nelement() for p in parameters)"
      ],
      "metadata": {
        "id": "8bMV3PLm2VEX",
        "outputId": "0561761b-95ff-48bc-e8bd-cc0d10ef49c8",
        "colab": {
          "base_uri": "https://localhost:8080/"
        }
      },
      "execution_count": 66,
      "outputs": [
        {
          "output_type": "execute_result",
          "data": {
            "text/plain": [
              "11897"
            ]
          },
          "metadata": {},
          "execution_count": 66
        }
      ]
    },
    {
      "cell_type": "code",
      "source": [
        "lre = torch.linspace(-3, 0, 100000)\n",
        "lrs = 10**lre\n"
      ],
      "metadata": {
        "id": "Fbm1qKHhcCwp"
      },
      "execution_count": 67,
      "outputs": []
    },
    {
      "cell_type": "code",
      "source": [
        "lri = []\n",
        "lossi = []\n",
        "stepi = []"
      ],
      "metadata": {
        "id": "P1ZIEQo62pjT"
      },
      "execution_count": 68,
      "outputs": []
    },
    {
      "cell_type": "code",
      "source": [
        "\n",
        "\n",
        "for x in range(200000):\n",
        "\n",
        "  # minibatch\n",
        "  ix = torch.randint(0, Xtr.shape[0], (32, ))\n",
        "\n",
        "\n",
        "  emb = C[Xtr[ix]]\n",
        "  wi1 = emb.view(-1, 30) @ w1\n",
        "  wi1b = wi1 + b1\n",
        "  wi1ba = wi1b.tanh()\n",
        "  wi2 = wi1ba @ w2\n",
        "  logits = wi2 + b2\n",
        "\n",
        "\n",
        "\n",
        "  for p in parameters:\n",
        "    p.grad = None\n",
        "\n",
        "  loss = F.cross_entropy(logits, Ytr[ix])\n",
        "  loss.backward()\n",
        "  lr = 0.1 if x < 100000 else 0.01\n",
        "  for p in parameters:\n",
        "    p.data += -lr * p.grad\n",
        "\n",
        "  stepi.append(x)\n",
        "  lossi.append(loss.log10().item())\n",
        "\n",
        "\n",
        "print(loss.log10().item())"
      ],
      "metadata": {
        "colab": {
          "base_uri": "https://localhost:8080/"
        },
        "id": "hASN8gqCLzlU",
        "outputId": "41886e89-c435-47cc-9d25-a1c206952ddb"
      },
      "execution_count": 86,
      "outputs": [
        {
          "output_type": "stream",
          "name": "stdout",
          "text": [
            "0.3502536714076996\n"
          ]
        }
      ]
    },
    {
      "cell_type": "code",
      "source": [
        "plt.plot(stepi, lossi)"
      ],
      "metadata": {
        "colab": {
          "base_uri": "https://localhost:8080/",
          "height": 448
        },
        "id": "WJDq-8tZvb9T",
        "outputId": "88cc36a4-5f10-4496-a41f-a17809027f1c"
      },
      "execution_count": 87,
      "outputs": [
        {
          "output_type": "execute_result",
          "data": {
            "text/plain": [
              "[<matplotlib.lines.Line2D at 0x79875505c2b0>]"
            ]
          },
          "metadata": {},
          "execution_count": 87
        },
        {
          "output_type": "display_data",
          "data": {
            "text/plain": [
              "<Figure size 640x480 with 1 Axes>"
            ],
            "image/png": "[encoded data removed]"
          },
          "metadata": {}
        }
      ]
    },
    {
      "cell_type": "code",
      "source": [
        "emb = C[Xdev]\n",
        "wi1 = emb.view(-1, 30) @ w1\n",
        "wi1b = wi1 + b1\n",
        "wi1ba = wi1b.tanh()\n",
        "wi2 = wi1ba @ w2\n",
        "logits = wi2 + b2\n",
        "loss = F.cross_entropy(logits, Ydev)\n",
        "loss.item()"
      ],
      "metadata": {
        "colab": {
          "base_uri": "https://localhost:8080/"
        },
        "id": "WCKcpRUkbKBI",
        "outputId": "1f5c0c95-19bb-4b24-9f59-648aa730a3c4"
      },
      "execution_count": 88,
      "outputs": [
        {
          "output_type": "execute_result",
          "data": {
            "text/plain": [
              "2.231703042984009"
            ]
          },
          "metadata": {},
          "execution_count": 88
        }
      ]
    },
    {
      "cell_type": "code",
      "source": [
        "emb = C[Xte]\n",
        "wi1 = emb.view(-1, 30) @ w1\n",
        "wi1b = wi1 + b1\n",
        "wi1ba = wi1b.tanh()\n",
        "wi2 = wi1ba @ w2\n",
        "logits = wi2 + b2\n",
        "loss = F.cross_entropy(logits, Yte)\n",
        "loss.item()"
      ],
      "metadata": {
        "colab": {
          "base_uri": "https://localhost:8080/"
        },
        "id": "PCJglfzzxI5g",
        "outputId": "b3cd1ec1-e198-43ae-a9ed-541743f200fc"
      },
      "execution_count": 89,
      "outputs": [
        {
          "output_type": "execute_result",
          "data": {
            "text/plain": [
              "2.232703685760498"
            ]
          },
          "metadata": {},
          "execution_count": 89
        }
      ]
    },
    {
      "cell_type": "code",
      "source": [
        "emb = C[Xtr]\n",
        "wi1 = emb.view(-1, 30) @ w1\n",
        "wi1b = wi1 + b1\n",
        "wi1ba = wi1b.tanh()\n",
        "wi2 = wi1ba @ w2\n",
        "logits = wi2 + b2\n",
        "loss = F.cross_entropy(logits, Ytr)\n",
        "loss.item()"
      ],
      "metadata": {
        "colab": {
          "base_uri": "https://localhost:8080/"
        },
        "id": "ydJpRQURxQVG",
        "outputId": "25fd8162-515c-4dfb-ba62-0cd3e46b7603"
      },
      "execution_count": 90,
      "outputs": [
        {
          "output_type": "execute_result",
          "data": {
            "text/plain": [
              "2.2139103412628174"
            ]
          },
          "metadata": {},
          "execution_count": 90
        }
      ]
    },
    {
      "cell_type": "code",
      "source": [
        "block_size = 3"
      ],
      "metadata": {
        "id": "b5Ls2BrPtEGK"
      },
      "execution_count": 74,
      "outputs": []
    },
    {
      "cell_type": "code",
      "source": [
        "def prompt(cx, max_length=15, samples=1):\n",
        "  for x in range(samples):\n",
        "    out = [stoi[c] for c in cx]\n",
        "\n",
        "    if len(cx) > block_size:\n",
        "      cx = cx[-block_size:]\n",
        "    context = [0]*(block_size - len(cx)) + out\n",
        "    while True:\n",
        "\n",
        "      emb = C[torch.tensor([context])]\n",
        "      h = torch.tanh(emb.view(1, -1) @ w1 + b1)\n",
        "      logits = h @ w2 + b2\n",
        "      probs = F.softmax(logits, dim=1)\n",
        "      ix = torch.multinomial(probs, num_samples=1).item()\n",
        "      context = context[1:] + [ix]\n",
        "      out.append(ix)\n",
        "      if ix == 0:\n",
        "        break\n",
        "    print(''.join(itos[i] for i in out))\n",
        "\n",
        "prompt(\"bro\", samples=10)"
      ],
      "metadata": {
        "id": "KCmF27QgVEoY",
        "colab": {
          "base_uri": "https://localhost:8080/"
        },
        "outputId": "862a3342-4644-4b45-e5f8-e157c6bc04c7"
      },
      "execution_count": 107,
      "outputs": [
        {
          "output_type": "stream",
          "name": "stdout",
          "text": [
            "broyyal.\n",
            "brokmana.\n",
            "broida.\n",
            "brokemmabdysen.\n",
            "brot.\n",
            "broarmimaneesxen.\n",
            "bro.\n",
            "bro.\n",
            "brosha.\n",
            "bron.\n"
          ]
        }
      ]
    },
    {
      "cell_type": "code",
      "source": [
        "prompt(\"z\", samples=10)"
      ],
      "metadata": {
        "id": "3Yx6gbVk8QkZ",
        "outputId": "b1180d51-94cd-4d5e-cddb-8fe6c3b8b7de",
        "colab": {
          "base_uri": "https://localhost:8080/"
        }
      },
      "execution_count": 109,
      "outputs": [
        {
          "output_type": "stream",
          "name": "stdout",
          "text": [
            "zacylu.\n",
            "zayvyas.\n",
            "zorin.\n",
            "zammazaela.\n",
            "zarkith.\n",
            "zavan.\n",
            "zoyan.\n",
            "zayaaley.\n",
            "zaraemania.\n",
            "zaman.\n"
          ]
        }
      ]
    },
    {
      "cell_type": "code",
      "source": [
        "for _ in range(20):\n",
        "  out = []\n",
        "  context = [0] * block_size\n",
        "  while True:\n",
        "    emb = C[torch.tensor([context])]\n",
        "    h = torch.tanh(emb.view(1, -1) @ w1 + b1)\n",
        "    logits = h @ w2 + b2\n",
        "    probs = F.softmax(logits, dim=1)\n",
        "    ix = torch.multinomial(probs, num_samples=1).item()\n",
        "    context = context[1:] + [ix]\n",
        "    out.append(ix)\n",
        "    if ix == 0:\n",
        "      break\n",
        "  print(''.join(itos[i] for i in out))"
      ],
      "metadata": {
        "id": "CG_a6Jhz5rAl",
        "outputId": "ba20c2af-38b8-4409-90a1-79a804ec82b1",
        "colab": {
          "base_uri": "https://localhost:8080/"
        }
      },
      "execution_count": 92,
      "outputs": [
        {
          "output_type": "stream",
          "name": "stdout",
          "text": [
            "yvefki.\n",
            "hax.\n",
            "abdyaen.\n",
            "vihaha.\n",
            "kuda.\n",
            "gdan.\n",
            "kei.\n",
            "nanellen.\n",
            "quiladi.\n",
            "yar.\n",
            "karieaefiaca.\n",
            "tudai.\n",
            "rin.\n",
            "klannie.\n",
            "zah.\n",
            "kamzayi.\n",
            "akhy.\n",
            "racie.\n",
            "par.\n",
            "oda.\n"
          ]
        }
      ]
    },
    {
      "cell_type": "code",
      "source": [
        "prompt('z', samples=10)\n",
        "print('\\n')\n",
        "prompt('w', samples=10)"
      ],
      "metadata": {
        "colab": {
          "base_uri": "https://localhost:8080/"
        },
        "id": "CJG8VVHWyhlx",
        "outputId": "6a8d6937-194b-4db1-a612-28fd3e15f2f7"
      },
      "execution_count": 84,
      "outputs": [
        {
          "output_type": "stream",
          "name": "stdout",
          "text": [
            "zakhljrdgmglnak\n",
            "zkzsrkeksjqkkpr\n",
            "zawjlkmrbohabtd\n",
            "zstjkdbmejkkmak\n",
            "zealmetkzfjgals\n",
            "zgsejmjdfmapjrl\n",
            "zkrammraaaxlkmd\n",
            "zjilludamszmman\n",
            "zksamcjreamlmkg\n",
            "zmsaaabwhmnbaso\n",
            "\n",
            "\n",
            "wsazmehcgkhdrca\n",
            "wwdmlgrpaaajfdk\n",
            "wpajejjcadmckat\n",
            "wijjjgakndjydnk\n",
            "waajdkprstrjttj\n",
            "wddedmskgkadaja\n",
            "wjjbbakkzsbncla\n",
            "wkosdjvjspabdsm\n",
            "wjtaejdljklwtds\n",
            "wkckjdrdchfdrsl\n"
          ]
        }
      ]
    },
    {
      "cell_type": "code",
      "source": [
        "plt.figure(figsize=(8,8))\n",
        "plt.scatter(C[:, 0].data, C[:, 1].data, s=200)\n",
        "for i in range(C.shape[0]):\n",
        "  plt.text(C[i,0].item(), C[i, 1].item(), itos[i], ha='center', va='center', color='white')\n",
        "plt.grid('minor')"
      ],
      "metadata": {
        "colab": {
          "base_uri": "https://localhost:8080/",
          "height": 676
        },
        "id": "C8XUTz6nxgLT",
        "outputId": "06b0b794-a2ef-4bfd-e01c-078fb4646441"
      },
      "execution_count": 85,
      "outputs": [
        {
          "output_type": "display_data",
          "data": {
            "text/plain": [
              "<Figure size 800x800 with 1 Axes>"
            ],
            "image/png": "[encoded data removed]"
          },
          "metadata": {}
        }
      ]
    },
    {
      "cell_type": "markdown",
      "source": [
        "thought it was overfitting for a second there"
      ],
      "metadata": {
        "id": "IYz7-r17xT-T"
      }
    },
    {
      "cell_type": "code",
      "source": [
        "torch.randint(0, X.shape[0], (32,))"
      ],
      "metadata": {
        "id": "V31_y7JFaMMb",
        "colab": {
          "base_uri": "https://localhost:8080/"
        },
        "outputId": "a0b3146d-c71e-456a-da93-b7a6a973ec7b"
      },
      "execution_count": 39,
      "outputs": [
        {
          "output_type": "execute_result",
          "data": {
            "text/plain": [
              "tensor([179611, 119358, 186702,  21302, 129897,  96168,  87990, 154105, 174378,\n",
              "        129397, 188138, 186027, 210454,  73601, 191668, 157278,  51361, 228138,\n",
              "        129548, 215429,  12357, 185098, 200768, 195677,  39548,  31307, 129128,\n",
              "        216988, 163714, 152336, 164222, 197012])"
            ]
          },
          "metadata": {},
          "execution_count": 39
        }
      ]
    },
    {
      "cell_type": "code",
      "source": [
        "# train, val, test split\n",
        "# 80%, 10%, 10%\n"
      ],
      "metadata": {
        "id": "ZS5oW7wmfvAh"
      },
      "execution_count": 40,
      "outputs": []
    }
  ]
}