{
  "nbformat": 4,
  "nbformat_minor": 0,
  "metadata": {
    "colab": {
      "provenance": [],
      "authorship_tag": "ABX9TyMKkj+r4YfhtCPTTq7mN2pV",
      "include_colab_link": true
    },
    "kernelspec": {
      "name": "python3",
      "display_name": "Python 3"
    },
    "language_info": {
      "name": "python"
    }
  },
  "cells": [
    {
      "cell_type": "markdown",
      "metadata": {
        "id": "view-in-github",
        "colab_type": "text"
      },
      "source": [
        "<a href=\"https://colab.research.google.com/github/Trickshotblaster/nn-practices/blob/main/MLP.ipynb\" target=\"_parent\"><img src=\"https://colab.research.google.com/assets/colab-badge.svg\" alt=\"Open In Colab\"/></a>"
      ]
    },
    {
      "cell_type": "code",
      "execution_count": 55,
      "metadata": {
        "id": "-fiyn4RDHgUG"
      },
      "outputs": [],
      "source": [
        "import requests\n",
        "\n",
        "url = 'https://raw.githubusercontent.com/karpathy/makemore/master/names.txt'\n",
        "\n",
        "response = requests.get(url)\n",
        "\n",
        "with open('names.txt', 'wb') as f:\n",
        "  f.write(response.content)"
      ]
    },
    {
      "cell_type": "code",
      "source": [
        "import torch\n",
        "import torch.nn.functional as F\n",
        "import matplotlib.pyplot as plt\n",
        "%matplotlib inline"
      ],
      "metadata": {
        "id": "kLD2Wy_sHoVP"
      },
      "execution_count": 56,
      "outputs": []
    },
    {
      "cell_type": "code",
      "source": [
        "words = open('names.txt', 'r').read().splitlines()\n",
        "words[:8]"
      ],
      "metadata": {
        "colab": {
          "base_uri": "https://localhost:8080/"
        },
        "id": "88ggro_GHxUL",
        "outputId": "76bfd8a4-bf1d-41b2-e4a9-45466cd6e901"
      },
      "execution_count": 57,
      "outputs": [
        {
          "output_type": "execute_result",
          "data": {
            "text/plain": [
              "['emma', 'olivia', 'ava', 'isabella', 'sophia', 'charlotte', 'mia', 'amelia']"
            ]
          },
          "metadata": {},
          "execution_count": 57
        }
      ]
    },
    {
      "cell_type": "code",
      "source": [
        "len(words)"
      ],
      "metadata": {
        "colab": {
          "base_uri": "https://localhost:8080/"
        },
        "id": "Sp-ZkQeHH8dM",
        "outputId": "1f741f1b-da31-4587-c717-2fef8b39a985"
      },
      "execution_count": 58,
      "outputs": [
        {
          "output_type": "execute_result",
          "data": {
            "text/plain": [
              "32033"
            ]
          },
          "metadata": {},
          "execution_count": 58
        }
      ]
    },
    {
      "cell_type": "code",
      "source": [
        "# stoi and itos\n",
        "chars = sorted(list(set(''.join(words))))\n",
        "stoi = {char:i+1 for i, char in enumerate(chars)}\n",
        "stoi['.'] = 0\n",
        "itos = {i:char for char, i in stoi.items()}\n",
        "print(itos)"
      ],
      "metadata": {
        "colab": {
          "base_uri": "https://localhost:8080/"
        },
        "id": "CrRzXj6_H9_p",
        "outputId": "4693ec07-f700-4e35-8cb5-818becc3d1a7"
      },
      "execution_count": 59,
      "outputs": [
        {
          "output_type": "stream",
          "name": "stdout",
          "text": [
            "{1: 'a', 2: 'b', 3: 'c', 4: 'd', 5: 'e', 6: 'f', 7: 'g', 8: 'h', 9: 'i', 10: 'j', 11: 'k', 12: 'l', 13: 'm', 14: 'n', 15: 'o', 16: 'p', 17: 'q', 18: 'r', 19: 's', 20: 't', 21: 'u', 22: 'v', 23: 'w', 24: 'x', 25: 'y', 26: 'z', 0: '.'}\n"
          ]
        }
      ]
    },
    {
      "cell_type": "code",
      "source": [
        "block_size = 5"
      ],
      "metadata": {
        "id": "lCnusZyM9Vkd"
      },
      "execution_count": 60,
      "outputs": []
    },
    {
      "cell_type": "code",
      "source": [
        "# make dataset\n",
        "def build_dataset(words):\n",
        "  X, Y = [], []\n",
        "  for w in words:\n",
        "    #print(w)\n",
        "    context = [0] * block_size # list of zeros of length block size\n",
        "    for ch in w + '.':\n",
        "      ix = stoi[ch]\n",
        "      X.append(context)\n",
        "      Y.append(ix)\n",
        "      #print(''.join(itos[i] for i in context), '---->', itos[ix])\n",
        "      context = context[1:] + [ix] # crop to remove previous, append new to end\n",
        "\n",
        "  X = torch.tensor(X)\n",
        "  Y = torch.tensor(Y)\n",
        "  print(X.shape, Y.shape)\n",
        "  return X, Y\n",
        "\n",
        "import random\n",
        "random.seed(42)\n",
        "random.shuffle(words)\n",
        "n1 = int(0.8*len(words))\n",
        "n2 = int(0.9*len(words))\n",
        "Xtr, Ytr = build_dataset(words[:n1])\n",
        "Xdev, Ydev = build_dataset(words[n1:n2])\n",
        "Xte, Yte = build_dataset(words[n2:])\n",
        "\n",
        "X, Y = build_dataset(words)"
      ],
      "metadata": {
        "id": "uNUt-PmgI50U",
        "colab": {
          "base_uri": "https://localhost:8080/"
        },
        "outputId": "dc56d125-1e0f-463e-c727-482bdbdbffae"
      },
      "execution_count": 61,
      "outputs": [
        {
          "output_type": "stream",
          "name": "stdout",
          "text": [
            "torch.Size([182625, 5]) torch.Size([182625])\n",
            "torch.Size([22655, 5]) torch.Size([22655])\n",
            "torch.Size([22866, 5]) torch.Size([22866])\n",
            "torch.Size([228146, 5]) torch.Size([228146])\n"
          ]
        }
      ]
    },
    {
      "cell_type": "code",
      "source": [
        "X.shape, X.dtype, Y.shape, Y.dtype"
      ],
      "metadata": {
        "colab": {
          "base_uri": "https://localhost:8080/"
        },
        "id": "ZZvm2Lj-Kpq9",
        "outputId": "e3fef580-84ec-401c-9a76-37807cc0cde2"
      },
      "execution_count": 62,
      "outputs": [
        {
          "output_type": "execute_result",
          "data": {
            "text/plain": [
              "(torch.Size([228146, 5]), torch.int64, torch.Size([228146]), torch.int64)"
            ]
          },
          "metadata": {},
          "execution_count": 62
        }
      ]
    },
    {
      "cell_type": "code",
      "source": [
        "# C should be a 27 x embedding dimension matrix\n",
        "C = torch.randn((27, 2))"
      ],
      "metadata": {
        "id": "j1pTZxiJK-OT"
      },
      "execution_count": 63,
      "outputs": []
    },
    {
      "cell_type": "code",
      "source": [
        "C[stoi['a']]"
      ],
      "metadata": {
        "colab": {
          "base_uri": "https://localhost:8080/"
        },
        "id": "hJm6cJxQLXNK",
        "outputId": "833e2f92-ba0f-41cc-aa8f-c2e3357a5023"
      },
      "execution_count": 64,
      "outputs": [
        {
          "output_type": "execute_result",
          "data": {
            "text/plain": [
              "tensor([-0.2407,  0.5810])"
            ]
          },
          "metadata": {},
          "execution_count": 64
        }
      ]
    },
    {
      "cell_type": "code",
      "source": [
        "aonehot = F.one_hot(torch.tensor(stoi['a']), num_classes=27).float()\n",
        "aonehot @ C"
      ],
      "metadata": {
        "colab": {
          "base_uri": "https://localhost:8080/"
        },
        "id": "Z_JtzD1RLji4",
        "outputId": "767b9ad4-9f2e-4f47-be1b-6efece2b9e54"
      },
      "execution_count": 65,
      "outputs": [
        {
          "output_type": "execute_result",
          "data": {
            "text/plain": [
              "tensor([-0.2407,  0.5810])"
            ]
          },
          "metadata": {},
          "execution_count": 65
        }
      ]
    },
    {
      "cell_type": "code",
      "source": [
        "C[[5, 6, 7]]"
      ],
      "metadata": {
        "colab": {
          "base_uri": "https://localhost:8080/"
        },
        "id": "avdx0fogMg-h",
        "outputId": "3b19bf00-3043-4847-9694-091d481f2d83"
      },
      "execution_count": 66,
      "outputs": [
        {
          "output_type": "execute_result",
          "data": {
            "text/plain": [
              "tensor([[ 0.3848, -0.7440],\n",
              "        [ 1.5784, -0.7318],\n",
              "        [ 0.0636,  0.0698]])"
            ]
          },
          "metadata": {},
          "execution_count": 66
        }
      ]
    },
    {
      "cell_type": "code",
      "source": [
        "C[torch.tensor([0,0,0])]"
      ],
      "metadata": {
        "colab": {
          "base_uri": "https://localhost:8080/"
        },
        "id": "JwSdfY_oM486",
        "outputId": "324545bf-c1e7-472d-ba31-c7e4456577c3"
      },
      "execution_count": 67,
      "outputs": [
        {
          "output_type": "execute_result",
          "data": {
            "text/plain": [
              "tensor([[-0.3159,  0.2682],\n",
              "        [-0.3159,  0.2682],\n",
              "        [-0.3159,  0.2682]])"
            ]
          },
          "metadata": {},
          "execution_count": 67
        }
      ]
    },
    {
      "cell_type": "code",
      "source": [
        "for data in X[:5]:\n",
        "  enc = C[data]\n",
        "  print(enc)"
      ],
      "metadata": {
        "colab": {
          "base_uri": "https://localhost:8080/"
        },
        "id": "SfYBbOH0MqeP",
        "outputId": "9e2eaac7-c066-474c-a5e5-3fcbae832218"
      },
      "execution_count": 68,
      "outputs": [
        {
          "output_type": "stream",
          "name": "stdout",
          "text": [
            "tensor([[-0.3159,  0.2682],\n",
            "        [-0.3159,  0.2682],\n",
            "        [-0.3159,  0.2682],\n",
            "        [-0.3159,  0.2682],\n",
            "        [-0.3159,  0.2682]])\n",
            "tensor([[-0.3159,  0.2682],\n",
            "        [-0.3159,  0.2682],\n",
            "        [-0.3159,  0.2682],\n",
            "        [-0.3159,  0.2682],\n",
            "        [-0.0415,  1.8169]])\n",
            "tensor([[-0.3159,  0.2682],\n",
            "        [-0.3159,  0.2682],\n",
            "        [-0.3159,  0.2682],\n",
            "        [-0.0415,  1.8169],\n",
            "        [-0.9139,  0.3164]])\n",
            "tensor([[-0.3159,  0.2682],\n",
            "        [-0.3159,  0.2682],\n",
            "        [-0.0415,  1.8169],\n",
            "        [-0.9139,  0.3164],\n",
            "        [-1.5575,  0.7107]])\n",
            "tensor([[-0.3159,  0.2682],\n",
            "        [-0.0415,  1.8169],\n",
            "        [-0.9139,  0.3164],\n",
            "        [-1.5575,  0.7107],\n",
            "        [ 0.3848, -0.7440]])\n"
          ]
        }
      ]
    },
    {
      "cell_type": "code",
      "source": [
        "emb = C[X]\n",
        "emb.shape"
      ],
      "metadata": {
        "colab": {
          "base_uri": "https://localhost:8080/"
        },
        "id": "wfGYToMPNK1q",
        "outputId": "5eb83753-4366-4c80-e86e-12133f8502c6"
      },
      "execution_count": 69,
      "outputs": [
        {
          "output_type": "execute_result",
          "data": {
            "text/plain": [
              "torch.Size([228146, 5, 2])"
            ]
          },
          "metadata": {},
          "execution_count": 69
        }
      ]
    },
    {
      "cell_type": "code",
      "source": [
        "%time\n",
        "torch.cat([emb[:, 0, :], emb[:, 1, :], emb[:, 2, :]], 1).shape"
      ],
      "metadata": {
        "colab": {
          "base_uri": "https://localhost:8080/"
        },
        "id": "_axHK2K7PZmI",
        "outputId": "9f6c307b-7a01-4642-8e45-585f4cd080f8"
      },
      "execution_count": 70,
      "outputs": [
        {
          "output_type": "stream",
          "name": "stdout",
          "text": [
            "CPU times: user 1 µs, sys: 0 ns, total: 1 µs\n",
            "Wall time: 4.05 µs\n"
          ]
        },
        {
          "output_type": "execute_result",
          "data": {
            "text/plain": [
              "torch.Size([228146, 6])"
            ]
          },
          "metadata": {},
          "execution_count": 70
        }
      ]
    },
    {
      "cell_type": "code",
      "source": [
        "%time\n",
        "torch.flatten(emb, start_dim=1).shape"
      ],
      "metadata": {
        "colab": {
          "base_uri": "https://localhost:8080/"
        },
        "id": "NKO-OeWbPzJm",
        "outputId": "6cb275cd-8679-40f4-f14b-347264dc2414"
      },
      "execution_count": 71,
      "outputs": [
        {
          "output_type": "stream",
          "name": "stdout",
          "text": [
            "CPU times: user 2 µs, sys: 0 ns, total: 2 µs\n",
            "Wall time: 4.53 µs\n"
          ]
        },
        {
          "output_type": "execute_result",
          "data": {
            "text/plain": [
              "torch.Size([228146, 10])"
            ]
          },
          "metadata": {},
          "execution_count": 71
        }
      ]
    },
    {
      "cell_type": "code",
      "source": [
        "%time\n",
        "torch.cat(torch.unbind(emb, 1), 1).shape"
      ],
      "metadata": {
        "colab": {
          "base_uri": "https://localhost:8080/"
        },
        "id": "VSv2BLpcQh_V",
        "outputId": "a24ab438-a1d1-45f1-becc-bc0818f9a14c"
      },
      "execution_count": 72,
      "outputs": [
        {
          "output_type": "stream",
          "name": "stdout",
          "text": [
            "CPU times: user 3 µs, sys: 0 ns, total: 3 µs\n",
            "Wall time: 5.25 µs\n"
          ]
        },
        {
          "output_type": "execute_result",
          "data": {
            "text/plain": [
              "torch.Size([228146, 10])"
            ]
          },
          "metadata": {},
          "execution_count": 72
        }
      ]
    },
    {
      "cell_type": "markdown",
      "source": [
        "Idk bruh I think mine is still better"
      ],
      "metadata": {
        "id": "0irXVt_TQ87o"
      }
    },
    {
      "cell_type": "code",
      "source": [
        "a = torch.arange(18)\n",
        "a, a.shape"
      ],
      "metadata": {
        "colab": {
          "base_uri": "https://localhost:8080/"
        },
        "id": "wJCZLwk2RIKV",
        "outputId": "5cc8d4e7-6b54-4556-800a-e7c8cb4778d6"
      },
      "execution_count": 73,
      "outputs": [
        {
          "output_type": "execute_result",
          "data": {
            "text/plain": [
              "(tensor([ 0,  1,  2,  3,  4,  5,  6,  7,  8,  9, 10, 11, 12, 13, 14, 15, 16, 17]),\n",
              " torch.Size([18]))"
            ]
          },
          "metadata": {},
          "execution_count": 73
        }
      ]
    },
    {
      "cell_type": "code",
      "source": [
        "a.view(3, 6) # holy moly where has this been all my life"
      ],
      "metadata": {
        "colab": {
          "base_uri": "https://localhost:8080/"
        },
        "id": "LXRTu3BERTJp",
        "outputId": "fb62da07-9677-49fd-e891-a84684d8fe32"
      },
      "execution_count": 74,
      "outputs": [
        {
          "output_type": "execute_result",
          "data": {
            "text/plain": [
              "tensor([[ 0,  1,  2,  3,  4,  5],\n",
              "        [ 6,  7,  8,  9, 10, 11],\n",
              "        [12, 13, 14, 15, 16, 17]])"
            ]
          },
          "metadata": {},
          "execution_count": 74
        }
      ]
    },
    {
      "cell_type": "markdown",
      "source": [
        "2 microseconds bruv"
      ],
      "metadata": {
        "id": "br3PNmn-RxIb"
      }
    },
    {
      "cell_type": "code",
      "source": [
        "Xtr.shape, Ytr.shape"
      ],
      "metadata": {
        "colab": {
          "base_uri": "https://localhost:8080/"
        },
        "id": "b1ExOiJdryQa",
        "outputId": "aae08633-7e93-448b-aa86-080882dfa9cb"
      },
      "execution_count": 75,
      "outputs": [
        {
          "output_type": "execute_result",
          "data": {
            "text/plain": [
              "(torch.Size([182625, 5]), torch.Size([182625]))"
            ]
          },
          "metadata": {},
          "execution_count": 75
        }
      ]
    },
    {
      "cell_type": "code",
      "source": [
        "emb_dim = 8"
      ],
      "metadata": {
        "id": "OXzqNpTc9PVd"
      },
      "execution_count": 76,
      "outputs": []
    },
    {
      "cell_type": "code",
      "source": [
        "C = torch.randn((27, emb_dim))\n",
        "w1 = torch.randn(block_size*emb_dim, 350)\n",
        "b1 = torch.randn(350)\n",
        "w2 = torch.randn(350, 27)\n",
        "b2 = torch.randn(27)\n",
        "\n",
        "parameters = [C, w1, b1, w2, b2]\n",
        "weights = [C, w1, w2]\n",
        "for p in parameters:\n",
        "  p.requires_grad = True\n"
      ],
      "metadata": {
        "id": "Y3bPMri3NnAo"
      },
      "execution_count": 84,
      "outputs": []
    },
    {
      "cell_type": "code",
      "source": [
        "sum(p.nelement() for p in parameters)"
      ],
      "metadata": {
        "id": "8bMV3PLm2VEX",
        "outputId": "ca990cfc-1c74-44b3-e9d7-3cea4e710f18",
        "colab": {
          "base_uri": "https://localhost:8080/"
        }
      },
      "execution_count": 85,
      "outputs": [
        {
          "output_type": "execute_result",
          "data": {
            "text/plain": [
              "24043"
            ]
          },
          "metadata": {},
          "execution_count": 85
        }
      ]
    },
    {
      "cell_type": "code",
      "source": [
        "lre = torch.linspace(-3, 0, 100000)\n",
        "lrs = 10**lre\n"
      ],
      "metadata": {
        "id": "Fbm1qKHhcCwp"
      },
      "execution_count": 86,
      "outputs": []
    },
    {
      "cell_type": "code",
      "source": [
        "lri = []\n",
        "lossi = []\n",
        "stepi = []"
      ],
      "metadata": {
        "id": "P1ZIEQo62pjT"
      },
      "execution_count": 87,
      "outputs": []
    },
    {
      "cell_type": "code",
      "source": [
        "\n",
        "\n",
        "for x in range(200000):\n",
        "\n",
        "  # minibatch\n",
        "  ix = torch.randint(0, Xtr.shape[0], (32, ))\n",
        "\n",
        "\n",
        "  emb = C[Xtr[ix]]\n",
        "  wi1 = emb.view(-1, block_size * emb_dim) @ w1\n",
        "  wi1b = wi1 + b1\n",
        "  wi1ba = wi1b.tanh()\n",
        "  wi2 = wi1ba @ w2\n",
        "  logits = wi2 + b2\n",
        "\n",
        "\n",
        "\n",
        "  for p in parameters:\n",
        "    p.grad = None\n",
        "\n",
        "  # regularization\n",
        "  loss = F.cross_entropy(logits, Ytr[ix]) + (torch.tensor([w.mean() for w in weights]).mean() * 0.01)\n",
        "\n",
        "  if x % 5000 == 0:\n",
        "    print(loss.log10().item())\n",
        "  loss.backward()\n",
        "  lr = 0.2 / (1+((1e-5) * x))\n",
        "  for p in parameters:\n",
        "    p.data += -lr * p.grad\n",
        "\n",
        "  stepi.append(x)\n",
        "  lossi.append(loss.log10().item())\n",
        "\n",
        "\n",
        "print(loss.log10().item())"
      ],
      "metadata": {
        "colab": {
          "base_uri": "https://localhost:8080/"
        },
        "id": "hASN8gqCLzlU",
        "outputId": "4479a629-b341-4170-8270-f66738a93fbf"
      },
      "execution_count": 88,
      "outputs": [
        {
          "output_type": "stream",
          "name": "stdout",
          "text": [
            "1.636512279510498\n",
            "0.869467556476593\n",
            "0.7254873514175415\n",
            "0.6649237275123596\n",
            "0.48223069310188293\n",
            "0.7290925979614258\n",
            "0.7043607831001282\n",
            "0.6774128675460815\n",
            "0.4785414934158325\n",
            "0.5321997404098511\n",
            "0.5284525752067566\n",
            "0.5882759094238281\n",
            "0.6795849800109863\n",
            "0.5145098567008972\n",
            "0.50682133436203\n",
            "0.43594637513160706\n",
            "0.6984723806381226\n",
            "0.5200480222702026\n",
            "0.48085445165634155\n",
            "0.3984134793281555\n",
            "0.4211072027683258\n",
            "0.3476777970790863\n",
            "0.4662647843360901\n",
            "0.45924004912376404\n",
            "0.48972564935684204\n",
            "0.3559308350086212\n",
            "0.4631587564945221\n",
            "0.4735586941242218\n",
            "0.44156724214553833\n",
            "0.4435449242591858\n",
            "0.3016057312488556\n",
            "0.3500201106071472\n",
            "0.41994333267211914\n",
            "0.38668328523635864\n",
            "0.4657032787799835\n",
            "0.3609292209148407\n",
            "0.3064500093460083\n",
            "0.286536306142807\n",
            "0.39163103699684143\n",
            "0.3625674247741699\n",
            "0.4032895863056183\n"
          ]
        }
      ]
    },
    {
      "cell_type": "code",
      "source": [
        "plt.plot(stepi, lossi)"
      ],
      "metadata": {
        "colab": {
          "base_uri": "https://localhost:8080/",
          "height": 447
        },
        "id": "WJDq-8tZvb9T",
        "outputId": "a12bb573-9940-4894-f9f9-1f7fc2259aba"
      },
      "execution_count": 89,
      "outputs": [
        {
          "output_type": "execute_result",
          "data": {
            "text/plain": [
              "[<matplotlib.lines.Line2D at 0x7e5157039c30>]"
            ]
          },
          "metadata": {},
          "execution_count": 89
        },
        {
          "output_type": "display_data",
          "data": {
            "text/plain": [
              "<Figure size 640x480 with 1 Axes>"
            ],
            "image/png": "[encoded data removed]"
          },
          "metadata": {}
        }
      ]
    },
    {
      "cell_type": "code",
      "source": [
        "emb = C[Xdev]\n",
        "wi1 = emb.view(-1, block_size*emb_dim) @ w1\n",
        "wi1b = wi1 + b1\n",
        "wi1ba = wi1b.tanh()\n",
        "wi2 = wi1ba @ w2\n",
        "logits = wi2 + b2\n",
        "loss = F.cross_entropy(logits, Ydev)\n",
        "loss.item()"
      ],
      "metadata": {
        "colab": {
          "base_uri": "https://localhost:8080/"
        },
        "id": "WCKcpRUkbKBI",
        "outputId": "66b68de6-64dc-4997-87c9-b47686d8b1f1"
      },
      "execution_count": 90,
      "outputs": [
        {
          "output_type": "execute_result",
          "data": {
            "text/plain": [
              "2.376781940460205"
            ]
          },
          "metadata": {},
          "execution_count": 90
        }
      ]
    },
    {
      "cell_type": "code",
      "source": [
        "emb = C[Xte]\n",
        "wi1 = emb.view(-1, block_size*emb_dim) @ w1\n",
        "wi1b = wi1 + b1\n",
        "wi1ba = wi1b.tanh()\n",
        "wi2 = wi1ba @ w2\n",
        "logits = wi2 + b2\n",
        "loss = F.cross_entropy(logits, Yte)\n",
        "loss.item()"
      ],
      "metadata": {
        "colab": {
          "base_uri": "https://localhost:8080/"
        },
        "id": "PCJglfzzxI5g",
        "outputId": "e44ff8e1-ce18-43b6-b6db-04eabb726f1c"
      },
      "execution_count": 91,
      "outputs": [
        {
          "output_type": "execute_result",
          "data": {
            "text/plain": [
              "2.3566322326660156"
            ]
          },
          "metadata": {},
          "execution_count": 91
        }
      ]
    },
    {
      "cell_type": "code",
      "source": [
        "emb = C[Xtr]\n",
        "wi1 = emb.view(-1, block_size*emb_dim) @ w1\n",
        "wi1b = wi1 + b1\n",
        "wi1ba = wi1b.tanh()\n",
        "wi2 = wi1ba @ w2\n",
        "logits = wi2 + b2\n",
        "loss = F.cross_entropy(logits, Ytr)\n",
        "loss.item()"
      ],
      "metadata": {
        "colab": {
          "base_uri": "https://localhost:8080/"
        },
        "id": "ydJpRQURxQVG",
        "outputId": "06dc6ffa-7927-4335-97d7-e930e3c6468c"
      },
      "execution_count": 92,
      "outputs": [
        {
          "output_type": "execute_result",
          "data": {
            "text/plain": [
              "2.294931173324585"
            ]
          },
          "metadata": {},
          "execution_count": 92
        }
      ]
    },
    {
      "cell_type": "code",
      "source": [
        "# uniform probabilities loss\n",
        "\n",
        "#emb = C[Xtr]\n",
        "#wi1 = emb.view(-1, block_size*emb_dim) @ w1\n",
        "#wi1b = wi1 + b1\n",
        "#wi1ba = wi1b.tanh()\n",
        "#wi2 = wi1ba @ w2\n",
        "#logits = torch.ones(wi2.shape)\n",
        "#loss = F.cross_entropy(logits, Ytr)\n",
        "#loss.item()"
      ],
      "metadata": {
        "id": "D0MQkpiGChsh",
        "outputId": "80e586c6-8100-4552-f772-2973c4b22751",
        "colab": {
          "base_uri": "https://localhost:8080/"
        }
      },
      "execution_count": null,
      "outputs": [
        {
          "output_type": "execute_result",
          "data": {
            "text/plain": [
              "3.29583740234375"
            ]
          },
          "metadata": {},
          "execution_count": 72
        }
      ]
    },
    {
      "cell_type": "code",
      "source": [
        "#C = torch.zeros((27, emb_dim))\n",
        "#w1 = torch.zeros(block_size*emb_dim, 350)\n",
        "#b1 = torch.zeros(350)\n",
        "#w2 = torch.zeros(350, 27)\n",
        "#b2 = torch.zeros(27)\n",
        "\n",
        "#parameters = [C, w1, b1, w2, b2]\n",
        "#for p in parameters:\n",
        "#  p.requires_grad = True"
      ],
      "metadata": {
        "id": "fs4t2SdnC-cx"
      },
      "execution_count": null,
      "outputs": []
    },
    {
      "cell_type": "code",
      "source": [
        "# ez ws, just set all params to zero for even logits\n",
        "\n",
        "#emb = C[Xtr]\n",
        "#wi1 = emb.view(-1, block_size*emb_dim) @ w1\n",
        "#wi1b = wi1 + b1\n",
        "#wi1ba = wi1b.tanh()\n",
        "#wi2 = wi1ba @ w2\n",
        "#logits = wi2 + b2\n",
        "#loss = F.cross_entropy(logits, Ytr)\n",
        "#loss.item()"
      ],
      "metadata": {
        "id": "sBpAMjpgDPt-",
        "outputId": "8c854b9f-5850-4c74-b796-47b9455334f6",
        "colab": {
          "base_uri": "https://localhost:8080/"
        }
      },
      "execution_count": null,
      "outputs": [
        {
          "output_type": "execute_result",
          "data": {
            "text/plain": [
              "3.29583740234375"
            ]
          },
          "metadata": {},
          "execution_count": 34
        }
      ]
    },
    {
      "cell_type": "code",
      "source": [
        "def prompt(cx, max_length=15, samples=1):\n",
        "  for x in range(samples):\n",
        "    out = [stoi[c] for c in cx]\n",
        "\n",
        "    if len(cx) > block_size:\n",
        "      cx = cx[-block_size:]\n",
        "    context = [0]*(block_size - len(cx)) + out\n",
        "    while True:\n",
        "\n",
        "      emb = C[torch.tensor([context])]\n",
        "      h = torch.tanh(emb.view(1, -1) @ w1 + b1)\n",
        "      logits = h @ w2 + b2\n",
        "      probs = F.softmax(logits, dim=1)\n",
        "      ix = torch.multinomial(probs, num_samples=1).item()\n",
        "      context = context[1:] + [ix]\n",
        "      out.append(ix)\n",
        "      if ix == 0:\n",
        "        break\n",
        "    print(''.join(itos[i] for i in out))\n",
        "\n",
        "prompt(\"bro\", samples=10)"
      ],
      "metadata": {
        "id": "KCmF27QgVEoY",
        "colab": {
          "base_uri": "https://localhost:8080/"
        },
        "outputId": "022aed52-2981-4947-9633-29a90891b3f5"
      },
      "execution_count": 93,
      "outputs": [
        {
          "output_type": "stream",
          "name": "stdout",
          "text": [
            "broxley.\n",
            "brony.\n",
            "broxtlee.\n",
            "brooklan.\n",
            "broxton.\n",
            "brou.\n",
            "broshai.\n",
            "broxtyn.\n",
            "broetha.\n",
            "browae.\n"
          ]
        }
      ]
    },
    {
      "cell_type": "code",
      "source": [
        "prompt(\"z\", samples=10)"
      ],
      "metadata": {
        "id": "3Yx6gbVk8QkZ",
        "outputId": "0572f1a1-469b-4dbc-bad2-1b47a877e714",
        "colab": {
          "base_uri": "https://localhost:8080/"
        }
      },
      "execution_count": 94,
      "outputs": [
        {
          "output_type": "stream",
          "name": "stdout",
          "text": [
            "zowzar.\n",
            "zmeoven.\n",
            "zochth.\n",
            "zaymon.\n",
            "zahayah.\n",
            "zoshma.\n",
            "zyluya.\n",
            "zuysor.\n",
            "zoley.\n",
            "zyzatumiah.\n"
          ]
        }
      ]
    },
    {
      "cell_type": "code",
      "source": [
        "for _ in range(20):\n",
        "  out = []\n",
        "  context = [0] * block_size\n",
        "  while True:\n",
        "    emb = C[torch.tensor([context])]\n",
        "    h = torch.tanh(emb.view(1, -1) @ w1 + b1)\n",
        "    logits = h @ w2 + b2\n",
        "    probs = F.softmax(logits, dim=1)\n",
        "    ix = torch.multinomial(probs, num_samples=1).item()\n",
        "    context = context[1:] + [ix]\n",
        "    out.append(ix)\n",
        "    if ix == 0:\n",
        "      break\n",
        "  print(''.join(itos[i] for i in out))"
      ],
      "metadata": {
        "id": "CG_a6Jhz5rAl",
        "outputId": "4781d983-8cd9-44f4-92bb-3f7d31e7df5f",
        "colab": {
          "base_uri": "https://localhost:8080/"
        }
      },
      "execution_count": 95,
      "outputs": [
        {
          "output_type": "stream",
          "name": "stdout",
          "text": [
            "zamgiral.\n",
            "itzer.\n",
            "jay.\n",
            "mziste.\n",
            "bmone.\n",
            "moont.\n",
            "monson.\n",
            "jozryx.\n",
            "shxton.\n",
            "rogalyn.\n",
            "onazy.\n",
            "zaxi.\n",
            "miroh.\n",
            "zolio.\n",
            "imestie.\n",
            "haoka.\n",
            "souma.\n",
            "jailyn.\n",
            "soshla.\n",
            "makk.\n"
          ]
        }
      ]
    },
    {
      "cell_type": "code",
      "source": [
        "prompt('z', samples=10)\n",
        "print('\\n')\n",
        "prompt('w', samples=10)"
      ],
      "metadata": {
        "colab": {
          "base_uri": "https://localhost:8080/"
        },
        "id": "CJG8VVHWyhlx",
        "outputId": "19a3c69e-4be0-480d-cd6a-ba13f001f2c2"
      },
      "execution_count": 96,
      "outputs": [
        {
          "output_type": "stream",
          "name": "stdout",
          "text": [
            "zenifious.\n",
            "zoustan.\n",
            "zimbi.\n",
            "zashol.\n",
            "zenxthel.\n",
            "zaytur.\n",
            "zhanna.\n",
            "zoola.\n",
            "zeyanaja.\n",
            "zenja.\n",
            "\n",
            "\n",
            "wargston.\n",
            "wond.\n",
            "wissybee.\n",
            "wollyos.\n",
            "wonlie.\n",
            "wisty.\n",
            "westina.\n",
            "wirky.\n",
            "wmoshuah.\n",
            "wysheda.\n"
          ]
        }
      ]
    },
    {
      "cell_type": "code",
      "source": [
        "plt.figure(figsize=(8,8))\n",
        "plt.scatter(C[:, 0].data, C[:, 1].data, s=200)\n",
        "for i in range(C.shape[0]):\n",
        "  plt.text(C[i,0].item(), C[i, 1].item(), itos[i], ha='center', va='center', color='white')\n",
        "plt.grid('minor')"
      ],
      "metadata": {
        "colab": {
          "base_uri": "https://localhost:8080/",
          "height": 676
        },
        "id": "C8XUTz6nxgLT",
        "outputId": "5ca0d56f-d91b-483b-ae8e-7a07282737d2"
      },
      "execution_count": 97,
      "outputs": [
        {
          "output_type": "display_data",
          "data": {
            "text/plain": [
              "<Figure size 800x800 with 1 Axes>"
            ],
            "image/png": "[encoded data removed]"
          },
          "metadata": {}
        }
      ]
    },
    {
      "cell_type": "markdown",
      "source": [
        "thought it was overfitting for a second there"
      ],
      "metadata": {
        "id": "IYz7-r17xT-T"
      }
    },
    {
      "cell_type": "code",
      "source": [
        "torch.randint(0, X.shape[0], (32,))"
      ],
      "metadata": {
        "id": "V31_y7JFaMMb",
        "colab": {
          "base_uri": "https://localhost:8080/"
        },
        "outputId": "d8e12375-7d44-45f2-fb16-3cca9593ba1e"
      },
      "execution_count": null,
      "outputs": [
        {
          "output_type": "execute_result",
          "data": {
            "text/plain": [
              "tensor([213172,  33749, 118165, 118634, 212100,  75679,  20942,   7685, 159424,\n",
              "        104630, 193800, 190421,  69472,  14163,  65536,   7638,  74692,  55967,\n",
              "         18268, 151616,  68461,  73037, 130511, 196220,  25284, 118811,  17529,\n",
              "         98684, 158170,  21724,  96713,  95438])"
            ]
          },
          "metadata": {},
          "execution_count": 40
        }
      ]
    },
    {
      "cell_type": "code",
      "source": [
        "# train, val, test split\n",
        "# 80%, 10%, 10%\n"
      ],
      "metadata": {
        "id": "ZS5oW7wmfvAh"
      },
      "execution_count": null,
      "outputs": []
    }
  ]
}