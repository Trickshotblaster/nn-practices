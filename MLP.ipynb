{
  "nbformat": 4,
  "nbformat_minor": 0,
  "metadata": {
    "colab": {
      "provenance": [],
      "authorship_tag": "ABX9TyNIcnQgQGn/VDdrvf/QrFjn",
      "include_colab_link": true
    },
    "kernelspec": {
      "name": "python3",
      "display_name": "Python 3"
    },
    "language_info": {
      "name": "python"
    }
  },
  "cells": [
    {
      "cell_type": "markdown",
      "metadata": {
        "id": "view-in-github",
        "colab_type": "text"
      },
      "source": [
        "<a href=\"https://colab.research.google.com/github/Trickshotblaster/nn-practices/blob/main/MLP.ipynb\" target=\"_parent\"><img src=\"https://colab.research.google.com/assets/colab-badge.svg\" alt=\"Open In Colab\"/></a>"
      ]
    },
    {
      "cell_type": "code",
      "execution_count": 1,
      "metadata": {
        "id": "-fiyn4RDHgUG"
      },
      "outputs": [],
      "source": [
        "import requests\n",
        "\n",
        "url = 'https://raw.githubusercontent.com/karpathy/makemore/master/names.txt'\n",
        "\n",
        "response = requests.get(url)\n",
        "\n",
        "with open('names.txt', 'wb') as f:\n",
        "  f.write(response.content)"
      ]
    },
    {
      "cell_type": "code",
      "source": [
        "import torch\n",
        "import torch.nn.functional as F\n",
        "import matplotlib.pyplot as plt\n",
        "%matplotlib inline"
      ],
      "metadata": {
        "id": "kLD2Wy_sHoVP"
      },
      "execution_count": 2,
      "outputs": []
    },
    {
      "cell_type": "code",
      "source": [
        "words = open('names.txt', 'r').read().splitlines()\n",
        "words[:8]"
      ],
      "metadata": {
        "colab": {
          "base_uri": "https://localhost:8080/"
        },
        "id": "88ggro_GHxUL",
        "outputId": "fce26e25-5b5f-4e97-d689-4531220df397"
      },
      "execution_count": 3,
      "outputs": [
        {
          "output_type": "execute_result",
          "data": {
            "text/plain": [
              "['emma', 'olivia', 'ava', 'isabella', 'sophia', 'charlotte', 'mia', 'amelia']"
            ]
          },
          "metadata": {},
          "execution_count": 3
        }
      ]
    },
    {
      "cell_type": "code",
      "source": [
        "len(words)"
      ],
      "metadata": {
        "colab": {
          "base_uri": "https://localhost:8080/"
        },
        "id": "Sp-ZkQeHH8dM",
        "outputId": "4bd96d56-bb92-465d-ef5d-17fd424c180f"
      },
      "execution_count": 4,
      "outputs": [
        {
          "output_type": "execute_result",
          "data": {
            "text/plain": [
              "32033"
            ]
          },
          "metadata": {},
          "execution_count": 4
        }
      ]
    },
    {
      "cell_type": "code",
      "source": [
        "# stoi and itos\n",
        "chars = sorted(list(set(''.join(words))))\n",
        "stoi = {char:i+1 for i, char in enumerate(chars)}\n",
        "stoi['.'] = 0\n",
        "itos = {i:char for char, i in stoi.items()}\n",
        "print(itos)"
      ],
      "metadata": {
        "colab": {
          "base_uri": "https://localhost:8080/"
        },
        "id": "CrRzXj6_H9_p",
        "outputId": "b6afb8b7-5794-418f-da36-0ff2b00987f0"
      },
      "execution_count": 5,
      "outputs": [
        {
          "output_type": "stream",
          "name": "stdout",
          "text": [
            "{1: 'a', 2: 'b', 3: 'c', 4: 'd', 5: 'e', 6: 'f', 7: 'g', 8: 'h', 9: 'i', 10: 'j', 11: 'k', 12: 'l', 13: 'm', 14: 'n', 15: 'o', 16: 'p', 17: 'q', 18: 'r', 19: 's', 20: 't', 21: 'u', 22: 'v', 23: 'w', 24: 'x', 25: 'y', 26: 'z', 0: '.'}\n"
          ]
        }
      ]
    },
    {
      "cell_type": "code",
      "source": [
        "# make dataset\n",
        "def build_dataset(words):\n",
        "  block_size = 3 # context length\n",
        "  X, Y = [], []\n",
        "  for w in words:\n",
        "    #print(w)\n",
        "    context = [0] * block_size # list of zeros of length block size\n",
        "    for ch in w + '.':\n",
        "      ix = stoi[ch]\n",
        "      X.append(context)\n",
        "      Y.append(ix)\n",
        "      #print(''.join(itos[i] for i in context), '---->', itos[ix])\n",
        "      context = context[1:] + [ix] # crop to remove previous, append new to end\n",
        "\n",
        "  X = torch.tensor(X)\n",
        "  Y = torch.tensor(Y)\n",
        "  print(X.shape, Y.shape)\n",
        "  return X, Y\n",
        "\n",
        "import random\n",
        "random.seed(42)\n",
        "random.shuffle(words)\n",
        "n1 = int(0.8*len(words))\n",
        "n2 = int(0.9*len(words))\n",
        "Xtr, Ytr = build_dataset(words[:n1])\n",
        "Xdev, Ydev = build_dataset(words[n1:n2])\n",
        "Xte, Yte = build_dataset(words[n2:])"
      ],
      "metadata": {
        "id": "uNUt-PmgI50U",
        "colab": {
          "base_uri": "https://localhost:8080/"
        },
        "outputId": "a1548c22-53c6-4b7d-cee2-cf8600421d1b"
      },
      "execution_count": 28,
      "outputs": [
        {
          "output_type": "stream",
          "name": "stdout",
          "text": [
            "torch.Size([182625, 3]) torch.Size([182625])\n",
            "torch.Size([22655, 3]) torch.Size([22655])\n",
            "torch.Size([22866, 3]) torch.Size([22866])\n"
          ]
        }
      ]
    },
    {
      "cell_type": "code",
      "source": [
        "X.shape, X.dtype, Y.shape, Y.dtype"
      ],
      "metadata": {
        "colab": {
          "base_uri": "https://localhost:8080/"
        },
        "id": "ZZvm2Lj-Kpq9",
        "outputId": "b3b15d77-3a08-4e99-82b5-cf590dee9e27"
      },
      "execution_count": 7,
      "outputs": [
        {
          "output_type": "execute_result",
          "data": {
            "text/plain": [
              "(torch.Size([228146, 3]), torch.int64, torch.Size([228146]), torch.int64)"
            ]
          },
          "metadata": {},
          "execution_count": 7
        }
      ]
    },
    {
      "cell_type": "code",
      "source": [
        "# C should be a 27 x embedding dimension matrix\n",
        "C = torch.randn((27, 2))"
      ],
      "metadata": {
        "id": "j1pTZxiJK-OT"
      },
      "execution_count": 8,
      "outputs": []
    },
    {
      "cell_type": "code",
      "source": [
        "C[stoi['a']]"
      ],
      "metadata": {
        "colab": {
          "base_uri": "https://localhost:8080/"
        },
        "id": "hJm6cJxQLXNK",
        "outputId": "246d92fa-079f-4543-b7d9-78dabff4f243"
      },
      "execution_count": 9,
      "outputs": [
        {
          "output_type": "execute_result",
          "data": {
            "text/plain": [
              "tensor([0.8801, 1.2004])"
            ]
          },
          "metadata": {},
          "execution_count": 9
        }
      ]
    },
    {
      "cell_type": "code",
      "source": [
        "aonehot = F.one_hot(torch.tensor(stoi['a']), num_classes=27).float()\n",
        "aonehot @ C"
      ],
      "metadata": {
        "colab": {
          "base_uri": "https://localhost:8080/"
        },
        "id": "Z_JtzD1RLji4",
        "outputId": "f6ad97f9-00df-4f79-f778-616fca0c0cfd"
      },
      "execution_count": 10,
      "outputs": [
        {
          "output_type": "execute_result",
          "data": {
            "text/plain": [
              "tensor([0.8801, 1.2004])"
            ]
          },
          "metadata": {},
          "execution_count": 10
        }
      ]
    },
    {
      "cell_type": "code",
      "source": [
        "C[[5, 6, 7]]"
      ],
      "metadata": {
        "colab": {
          "base_uri": "https://localhost:8080/"
        },
        "id": "avdx0fogMg-h",
        "outputId": "ee764cdf-2f8c-4c15-e41b-341c97c0a3da"
      },
      "execution_count": 11,
      "outputs": [
        {
          "output_type": "execute_result",
          "data": {
            "text/plain": [
              "tensor([[ 0.0485, -0.5235],\n",
              "        [-0.9716,  0.2149],\n",
              "        [ 0.0502, -0.8895]])"
            ]
          },
          "metadata": {},
          "execution_count": 11
        }
      ]
    },
    {
      "cell_type": "code",
      "source": [
        "C[torch.tensor([0,0,0])]"
      ],
      "metadata": {
        "colab": {
          "base_uri": "https://localhost:8080/"
        },
        "id": "JwSdfY_oM486",
        "outputId": "855b08f0-36b2-405e-f8b6-00a978bbe41c"
      },
      "execution_count": 12,
      "outputs": [
        {
          "output_type": "execute_result",
          "data": {
            "text/plain": [
              "tensor([[-2.4853,  0.0175],\n",
              "        [-2.4853,  0.0175],\n",
              "        [-2.4853,  0.0175]])"
            ]
          },
          "metadata": {},
          "execution_count": 12
        }
      ]
    },
    {
      "cell_type": "code",
      "source": [
        "for data in X[:5]:\n",
        "  enc = C[data]\n",
        "  print(enc)"
      ],
      "metadata": {
        "colab": {
          "base_uri": "https://localhost:8080/"
        },
        "id": "SfYBbOH0MqeP",
        "outputId": "849e06d1-1f2e-42b8-9e99-65edcd725087"
      },
      "execution_count": 13,
      "outputs": [
        {
          "output_type": "stream",
          "name": "stdout",
          "text": [
            "tensor([[-2.4853,  0.0175],\n",
            "        [-2.4853,  0.0175],\n",
            "        [-2.4853,  0.0175]])\n",
            "tensor([[-2.4853,  0.0175],\n",
            "        [-2.4853,  0.0175],\n",
            "        [ 0.0485, -0.5235]])\n",
            "tensor([[-2.4853,  0.0175],\n",
            "        [ 0.0485, -0.5235],\n",
            "        [ 1.3163, -0.3196]])\n",
            "tensor([[ 0.0485, -0.5235],\n",
            "        [ 1.3163, -0.3196],\n",
            "        [ 1.3163, -0.3196]])\n",
            "tensor([[ 1.3163, -0.3196],\n",
            "        [ 1.3163, -0.3196],\n",
            "        [ 0.8801,  1.2004]])\n"
          ]
        }
      ]
    },
    {
      "cell_type": "code",
      "source": [
        "emb = C[X]\n",
        "emb.shape"
      ],
      "metadata": {
        "colab": {
          "base_uri": "https://localhost:8080/"
        },
        "id": "wfGYToMPNK1q",
        "outputId": "b8471c38-8f66-4189-b251-90de77f18c93"
      },
      "execution_count": 14,
      "outputs": [
        {
          "output_type": "execute_result",
          "data": {
            "text/plain": [
              "torch.Size([228146, 3, 2])"
            ]
          },
          "metadata": {},
          "execution_count": 14
        }
      ]
    },
    {
      "cell_type": "code",
      "source": [
        "%time\n",
        "torch.cat([emb[:, 0, :], emb[:, 1, :], emb[:, 2, :]], 1).shape"
      ],
      "metadata": {
        "colab": {
          "base_uri": "https://localhost:8080/"
        },
        "id": "_axHK2K7PZmI",
        "outputId": "f296fc7c-766f-4800-dfa0-115306ecf91f"
      },
      "execution_count": 15,
      "outputs": [
        {
          "output_type": "stream",
          "name": "stdout",
          "text": [
            "CPU times: user 2 µs, sys: 0 ns, total: 2 µs\n",
            "Wall time: 7.63 µs\n"
          ]
        },
        {
          "output_type": "execute_result",
          "data": {
            "text/plain": [
              "torch.Size([228146, 6])"
            ]
          },
          "metadata": {},
          "execution_count": 15
        }
      ]
    },
    {
      "cell_type": "code",
      "source": [
        "%time\n",
        "torch.flatten(emb, start_dim=1).shape"
      ],
      "metadata": {
        "colab": {
          "base_uri": "https://localhost:8080/"
        },
        "id": "NKO-OeWbPzJm",
        "outputId": "711e54f7-94ec-4759-c524-7216adc94a5f"
      },
      "execution_count": 16,
      "outputs": [
        {
          "output_type": "stream",
          "name": "stdout",
          "text": [
            "CPU times: user 3 µs, sys: 1 µs, total: 4 µs\n",
            "Wall time: 7.15 µs\n"
          ]
        },
        {
          "output_type": "execute_result",
          "data": {
            "text/plain": [
              "torch.Size([228146, 6])"
            ]
          },
          "metadata": {},
          "execution_count": 16
        }
      ]
    },
    {
      "cell_type": "code",
      "source": [
        "%time\n",
        "torch.cat(torch.unbind(emb, 1), 1).shape"
      ],
      "metadata": {
        "colab": {
          "base_uri": "https://localhost:8080/"
        },
        "id": "VSv2BLpcQh_V",
        "outputId": "ea8abad1-6b81-47c5-d131-18d4e5931363"
      },
      "execution_count": 17,
      "outputs": [
        {
          "output_type": "stream",
          "name": "stdout",
          "text": [
            "CPU times: user 3 µs, sys: 1e+03 ns, total: 4 µs\n",
            "Wall time: 6.91 µs\n"
          ]
        },
        {
          "output_type": "execute_result",
          "data": {
            "text/plain": [
              "torch.Size([228146, 6])"
            ]
          },
          "metadata": {},
          "execution_count": 17
        }
      ]
    },
    {
      "cell_type": "markdown",
      "source": [
        "Idk bruh I think mine is still better"
      ],
      "metadata": {
        "id": "0irXVt_TQ87o"
      }
    },
    {
      "cell_type": "code",
      "source": [
        "a = torch.arange(18)\n",
        "a, a.shape"
      ],
      "metadata": {
        "colab": {
          "base_uri": "https://localhost:8080/"
        },
        "id": "wJCZLwk2RIKV",
        "outputId": "676eca1f-5b18-49cd-d2e9-cfa9aaab74c6"
      },
      "execution_count": 18,
      "outputs": [
        {
          "output_type": "execute_result",
          "data": {
            "text/plain": [
              "(tensor([ 0,  1,  2,  3,  4,  5,  6,  7,  8,  9, 10, 11, 12, 13, 14, 15, 16, 17]),\n",
              " torch.Size([18]))"
            ]
          },
          "metadata": {},
          "execution_count": 18
        }
      ]
    },
    {
      "cell_type": "code",
      "source": [
        "a.view(3, 6) # holy moly where has this been all my life"
      ],
      "metadata": {
        "colab": {
          "base_uri": "https://localhost:8080/"
        },
        "id": "LXRTu3BERTJp",
        "outputId": "5acf6bba-ae3c-475e-8447-42fe842765b7"
      },
      "execution_count": 19,
      "outputs": [
        {
          "output_type": "execute_result",
          "data": {
            "text/plain": [
              "tensor([[ 0,  1,  2,  3,  4,  5],\n",
              "        [ 6,  7,  8,  9, 10, 11],\n",
              "        [12, 13, 14, 15, 16, 17]])"
            ]
          },
          "metadata": {},
          "execution_count": 19
        }
      ]
    },
    {
      "cell_type": "markdown",
      "source": [
        "2 microseconds bruv"
      ],
      "metadata": {
        "id": "br3PNmn-RxIb"
      }
    },
    {
      "cell_type": "code",
      "source": [
        "Xtr.shape, Ytr.shape"
      ],
      "metadata": {
        "colab": {
          "base_uri": "https://localhost:8080/"
        },
        "id": "b1ExOiJdryQa",
        "outputId": "12d47a20-57b8-4b82-d356-3b2691f8798a"
      },
      "execution_count": 29,
      "outputs": [
        {
          "output_type": "execute_result",
          "data": {
            "text/plain": [
              "(torch.Size([182625, 3]), torch.Size([182625]))"
            ]
          },
          "metadata": {},
          "execution_count": 29
        }
      ]
    },
    {
      "cell_type": "code",
      "source": [
        "C = torch.randn((27, 2))\n",
        "w1 = torch.randn(6, 300)\n",
        "b1 = torch.randn(300)\n",
        "w2 = torch.randn(300, 27)\n",
        "b2 = torch.randn(27)\n",
        "\n",
        "wi1 = emb.view(-1, 6) @ w1\n",
        "wi1b = wi1 + b1\n",
        "wi1ba = wi1b.tanh()\n",
        "wi2 = wi1ba @ w2\n",
        "logits = wi2 + b2\n",
        "counts = logits.exp()\n",
        "probs = counts / counts.sum(1, keepdim=True)\n",
        "\n",
        "parameters = [C, w1, b1, w2, b2]\n",
        "for p in parameters:\n",
        "  p.requires_grad = True\n",
        "probs.shape"
      ],
      "metadata": {
        "colab": {
          "base_uri": "https://localhost:8080/"
        },
        "id": "Y3bPMri3NnAo",
        "outputId": "b954be46-2bff-48a0-f072-4da2e25183de"
      },
      "execution_count": 50,
      "outputs": [
        {
          "output_type": "execute_result",
          "data": {
            "text/plain": [
              "torch.Size([32, 27])"
            ]
          },
          "metadata": {},
          "execution_count": 50
        }
      ]
    },
    {
      "cell_type": "code",
      "source": [
        "lre = torch.linspace(-3, 0, 100000)\n",
        "lrs = 10**lre\n"
      ],
      "metadata": {
        "id": "Fbm1qKHhcCwp"
      },
      "execution_count": 47,
      "outputs": []
    },
    {
      "cell_type": "code",
      "source": [
        "lri = []\n",
        "lossi = []\n",
        "stepi = []\n",
        "\n",
        "for x in range(30000):\n",
        "\n",
        "  # minibatch\n",
        "  ix = torch.randint(0, Xtr.shape[0], (32, ))\n",
        "\n",
        "\n",
        "  emb = C[Xtr[ix]]\n",
        "  wi1 = emb.view(-1, 6) @ w1\n",
        "  wi1b = wi1 + b1\n",
        "  wi1ba = wi1b.tanh()\n",
        "  wi2 = wi1ba @ w2\n",
        "  logits = wi2 + b2\n",
        "\n",
        "\n",
        "\n",
        "  for p in parameters:\n",
        "    p.grad = None\n",
        "\n",
        "  loss = F.cross_entropy(logits, Ytr[ix])\n",
        "  loss.backward()\n",
        "  lr = 0.05\n",
        "  for p in parameters:\n",
        "    p.data += -lr * p.grad\n",
        "\n",
        "  stepi.append(x)\n",
        "  lossi.append(loss.item())\n",
        "\n",
        "\n",
        "print(loss.item())"
      ],
      "metadata": {
        "colab": {
          "base_uri": "https://localhost:8080/"
        },
        "id": "hASN8gqCLzlU",
        "outputId": "d21007b9-c5f6-4d39-dceb-16b7cd72b2a9"
      },
      "execution_count": 55,
      "outputs": [
        {
          "output_type": "stream",
          "name": "stdout",
          "text": [
            "2.053309202194214\n"
          ]
        }
      ]
    },
    {
      "cell_type": "code",
      "source": [
        "plt.plot(stepi, lossi)"
      ],
      "metadata": {
        "colab": {
          "base_uri": "https://localhost:8080/",
          "height": 448
        },
        "id": "WJDq-8tZvb9T",
        "outputId": "a4955c77-47e9-4376-ce84-4fba60af61fa"
      },
      "execution_count": 56,
      "outputs": [
        {
          "output_type": "execute_result",
          "data": {
            "text/plain": [
              "[<matplotlib.lines.Line2D at 0x79c6e245a080>]"
            ]
          },
          "metadata": {},
          "execution_count": 56
        },
        {
          "output_type": "display_data",
          "data": {
            "text/plain": [
              "<Figure size 640x480 with 1 Axes>"
            ],
            "image/png": "[encoded data removed]"
          },
          "metadata": {}
        }
      ]
    },
    {
      "cell_type": "code",
      "source": [
        "emb = C[Xdev]\n",
        "wi1 = emb.view(-1, 6) @ w1\n",
        "wi1b = wi1 + b1\n",
        "wi1ba = wi1b.tanh()\n",
        "wi2 = wi1ba @ w2\n",
        "logits = wi2 + b2\n",
        "loss = F.cross_entropy(logits, Ydev)\n",
        "loss.item()"
      ],
      "metadata": {
        "colab": {
          "base_uri": "https://localhost:8080/"
        },
        "id": "WCKcpRUkbKBI",
        "outputId": "07835e41-5669-4240-87e3-f8e32c80d3ee"
      },
      "execution_count": 57,
      "outputs": [
        {
          "output_type": "execute_result",
          "data": {
            "text/plain": [
              "2.3201210498809814"
            ]
          },
          "metadata": {},
          "execution_count": 57
        }
      ]
    },
    {
      "cell_type": "code",
      "source": [
        "emb = C[Xte]\n",
        "wi1 = emb.view(-1, 6) @ w1\n",
        "wi1b = wi1 + b1\n",
        "wi1ba = wi1b.tanh()\n",
        "wi2 = wi1ba @ w2\n",
        "logits = wi2 + b2\n",
        "loss = F.cross_entropy(logits, Yte)\n",
        "loss.item()"
      ],
      "metadata": {
        "colab": {
          "base_uri": "https://localhost:8080/"
        },
        "id": "PCJglfzzxI5g",
        "outputId": "12e1e7e7-5d86-4e3a-a361-662b2ed856bf"
      },
      "execution_count": 61,
      "outputs": [
        {
          "output_type": "execute_result",
          "data": {
            "text/plain": [
              "2.322606325149536"
            ]
          },
          "metadata": {},
          "execution_count": 61
        }
      ]
    },
    {
      "cell_type": "code",
      "source": [
        "emb = C[Xtr]\n",
        "wi1 = emb.view(-1, 6) @ w1\n",
        "wi1b = wi1 + b1\n",
        "wi1ba = wi1b.tanh()\n",
        "wi2 = wi1ba @ w2\n",
        "logits = wi2 + b2\n",
        "loss = F.cross_entropy(logits, Ytr)\n",
        "loss.item()"
      ],
      "metadata": {
        "colab": {
          "base_uri": "https://localhost:8080/"
        },
        "id": "ydJpRQURxQVG",
        "outputId": "e8b012ba-819d-494e-c948-0d48c0f98917"
      },
      "execution_count": 63,
      "outputs": [
        {
          "output_type": "execute_result",
          "data": {
            "text/plain": [
              "2.3188865184783936"
            ]
          },
          "metadata": {},
          "execution_count": 63
        }
      ]
    },
    {
      "cell_type": "code",
      "source": [
        "block_size = 3"
      ],
      "metadata": {
        "id": "b5Ls2BrPtEGK"
      },
      "execution_count": 40,
      "outputs": []
    },
    {
      "cell_type": "code",
      "source": [
        "def prompt(context, max_length=15, samples=1):\n",
        "  for x in range(samples):\n",
        "    out = context\n",
        "    context2 = context[abs(len(context) - block_size):]\n",
        "    length = 0\n",
        "    cx = [0] * block_size\n",
        "    cx = cx[len(context2):] + [stoi[c] for c in context2]\n",
        "    while True:\n",
        "      length += 1\n",
        "      emb = C[cx]\n",
        "      wi1 = emb.view(-1, 6) @ w1\n",
        "      wi1b = wi1 + b1\n",
        "      wi1ba = wi1b.tanh()\n",
        "      wi2 = wi1ba @ w2\n",
        "      logits = wi2 + b2\n",
        "      counts = logits.exp()\n",
        "      probs = counts / counts.sum(1, keepdim=True)\n",
        "      char = itos[torch.multinomial(probs, num_samples=1).item()]\n",
        "      if char == '.' or length==max_length:\n",
        "        break\n",
        "      out += char\n",
        "    print(out)\n",
        "\n",
        "prompt(\"emm\", samples=10)"
      ],
      "metadata": {
        "id": "KCmF27QgVEoY",
        "colab": {
          "base_uri": "https://localhost:8080/"
        },
        "outputId": "4d32ba45-b581-49fe-e718-568ab41c1b2e"
      },
      "execution_count": 59,
      "outputs": [
        {
          "output_type": "stream",
          "name": "stdout",
          "text": [
            "emmuoa\n",
            "emmie\n",
            "emml\n",
            "emmaayiaa\n",
            "emmlei\n",
            "emmanaa\n",
            "emmaiei\n",
            "emme\n",
            "emmeiaee\n",
            "emmeeiyt\n"
          ]
        }
      ]
    },
    {
      "cell_type": "code",
      "source": [
        "prompt('z', samples=10)\n",
        "print('\\n')\n",
        "prompt('w', samples=10)"
      ],
      "metadata": {
        "colab": {
          "base_uri": "https://localhost:8080/"
        },
        "id": "CJG8VVHWyhlx",
        "outputId": "0989f543-59f1-448a-e604-a8e20f3f5fe8"
      },
      "execution_count": 70,
      "outputs": [
        {
          "output_type": "stream",
          "name": "stdout",
          "text": [
            "zacsjjtacbjakar\n",
            "zksaamfzamsassm\n",
            "zsflssjamezhmem\n",
            "zazeajbakmsjdak\n",
            "zdlnajajkkmavas\n",
            "zjljeameajeaezj\n",
            "zsrfedjtaysskzn\n",
            "zttkcjealsjcvat\n",
            "zkjjjwlaajahkak\n",
            "zacashggsmttmmy\n",
            "\n",
            "\n",
            "wseeeekaelrcfae\n",
            "wjcmeljrkdsadoc\n",
            "wzaapaczkacesea\n",
            "wejjkassdparcsj\n",
            "wklaajceacdanaf\n",
            "waebcajamtbakmq\n",
            "wkjvtwzeqkalrga\n",
            "wagdsjyekmkklmj\n",
            "wmcajztvalycaea\n",
            "waedxzbadrxaaer\n"
          ]
        }
      ]
    },
    {
      "cell_type": "code",
      "source": [
        "plt.figure(figsize=(8,8))\n",
        "plt.scatter(C[:, 0].data, C[:, 1].data, s=200)\n",
        "for i in range(C.shape[0]):\n",
        "  plt.text(C[i,0].item(), C[i, 1].item(), itos[i], ha='center', va='center', color='white')\n",
        "plt.grid('minor')"
      ],
      "metadata": {
        "colab": {
          "base_uri": "https://localhost:8080/",
          "height": 676
        },
        "id": "C8XUTz6nxgLT",
        "outputId": "a5cf71cb-c18a-4440-dcad-99895a5a862b"
      },
      "execution_count": 66,
      "outputs": [
        {
          "output_type": "display_data",
          "data": {
            "text/plain": [
              "<Figure size 800x800 with 1 Axes>"
            ],
            "image/png": "[encoded data removed]"
          },
          "metadata": {}
        }
      ]
    },
    {
      "cell_type": "markdown",
      "source": [
        "thought it was overfitting for a second there"
      ],
      "metadata": {
        "id": "IYz7-r17xT-T"
      }
    },
    {
      "cell_type": "code",
      "source": [
        "torch.randint(0, X.shape[0], (32,))"
      ],
      "metadata": {
        "id": "V31_y7JFaMMb",
        "colab": {
          "base_uri": "https://localhost:8080/"
        },
        "outputId": "82ea82fa-628f-462a-8adf-3de27d6c3da2"
      },
      "execution_count": 27,
      "outputs": [
        {
          "output_type": "execute_result",
          "data": {
            "text/plain": [
              "tensor([166341, 175833, 178332, 111890, 202363,  96560,  63197, 223299, 127832,\n",
              "         44378,   4475,   8426, 212517, 133896, 191393, 195924, 188293, 222570,\n",
              "        215025, 105102, 101182,  32761, 139984, 196999, 146114, 100328, 204613,\n",
              "        211893,  38554, 113130, 196943, 153242])"
            ]
          },
          "metadata": {},
          "execution_count": 27
        }
      ]
    },
    {
      "cell_type": "code",
      "source": [
        "# train, val, test split\n",
        "# 80%, 10%, 10%\n"
      ],
      "metadata": {
        "id": "ZS5oW7wmfvAh"
      },
      "execution_count": null,
      "outputs": []
    }
  ]
}