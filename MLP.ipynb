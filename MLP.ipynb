{
  "nbformat": 4,
  "nbformat_minor": 0,
  "metadata": {
    "colab": {
      "provenance": [],
      "authorship_tag": "ABX9TyNrfkqMxm8uyEe3WbCu2LnC",
      "include_colab_link": true
    },
    "kernelspec": {
      "name": "python3",
      "display_name": "Python 3"
    },
    "language_info": {
      "name": "python"
    }
  },
  "cells": [
    {
      "cell_type": "markdown",
      "metadata": {
        "id": "view-in-github",
        "colab_type": "text"
      },
      "source": [
        "<a href=\"https://colab.research.google.com/github/Trickshotblaster/nn-practices/blob/main/MLP.ipynb\" target=\"_parent\"><img src=\"https://colab.research.google.com/assets/colab-badge.svg\" alt=\"Open In Colab\"/></a>"
      ]
    },
    {
      "cell_type": "code",
      "execution_count": 2,
      "metadata": {
        "id": "-fiyn4RDHgUG"
      },
      "outputs": [],
      "source": [
        "import requests\n",
        "\n",
        "url = 'https://raw.githubusercontent.com/karpathy/makemore/master/names.txt'\n",
        "\n",
        "response = requests.get(url)\n",
        "\n",
        "with open('names.txt', 'wb') as f:\n",
        "  f.write(response.content)"
      ]
    },
    {
      "cell_type": "code",
      "source": [
        "import torch\n",
        "import torch.nn.functional as F\n",
        "import matplotlib.pyplot as plt\n",
        "%matplotlib inline"
      ],
      "metadata": {
        "id": "kLD2Wy_sHoVP"
      },
      "execution_count": 3,
      "outputs": []
    },
    {
      "cell_type": "code",
      "source": [
        "words = open('names.txt', 'r').read().splitlines()\n",
        "words[:8]"
      ],
      "metadata": {
        "colab": {
          "base_uri": "https://localhost:8080/"
        },
        "id": "88ggro_GHxUL",
        "outputId": "9092beda-9f58-4b00-a6fa-9b4b64fbf002"
      },
      "execution_count": 4,
      "outputs": [
        {
          "output_type": "execute_result",
          "data": {
            "text/plain": [
              "['emma', 'olivia', 'ava', 'isabella', 'sophia', 'charlotte', 'mia', 'amelia']"
            ]
          },
          "metadata": {},
          "execution_count": 4
        }
      ]
    },
    {
      "cell_type": "code",
      "source": [
        "len(words)"
      ],
      "metadata": {
        "colab": {
          "base_uri": "https://localhost:8080/"
        },
        "id": "Sp-ZkQeHH8dM",
        "outputId": "1df584ec-5392-4b30-8b8d-5f05a21727a0"
      },
      "execution_count": 5,
      "outputs": [
        {
          "output_type": "execute_result",
          "data": {
            "text/plain": [
              "32033"
            ]
          },
          "metadata": {},
          "execution_count": 5
        }
      ]
    },
    {
      "cell_type": "code",
      "source": [
        "# stoi and itos\n",
        "chars = sorted(list(set(''.join(words))))\n",
        "stoi = {char:i+1 for i, char in enumerate(chars)}\n",
        "stoi['.'] = 0\n",
        "itos = {i:char for char, i in stoi.items()}\n",
        "print(itos)"
      ],
      "metadata": {
        "colab": {
          "base_uri": "https://localhost:8080/"
        },
        "id": "CrRzXj6_H9_p",
        "outputId": "29bbc4cd-8eb5-43d2-be4a-fecab3f87e2f"
      },
      "execution_count": 6,
      "outputs": [
        {
          "output_type": "stream",
          "name": "stdout",
          "text": [
            "{1: 'a', 2: 'b', 3: 'c', 4: 'd', 5: 'e', 6: 'f', 7: 'g', 8: 'h', 9: 'i', 10: 'j', 11: 'k', 12: 'l', 13: 'm', 14: 'n', 15: 'o', 16: 'p', 17: 'q', 18: 'r', 19: 's', 20: 't', 21: 'u', 22: 'v', 23: 'w', 24: 'x', 25: 'y', 26: 'z', 0: '.'}\n"
          ]
        }
      ]
    },
    {
      "cell_type": "code",
      "source": [
        "vocab_size = len(chars) + 1"
      ],
      "metadata": {
        "id": "Mt2vnIpwhvQb"
      },
      "execution_count": 30,
      "outputs": []
    },
    {
      "cell_type": "code",
      "source": [
        "block_size = 5"
      ],
      "metadata": {
        "id": "lCnusZyM9Vkd"
      },
      "execution_count": 7,
      "outputs": []
    },
    {
      "cell_type": "code",
      "source": [
        "# make dataset\n",
        "def build_dataset(words):\n",
        "  X, Y = [], []\n",
        "  for w in words:\n",
        "    #print(w)\n",
        "    context = [0] * block_size # list of zeros of length block size\n",
        "    for ch in w + '.':\n",
        "      ix = stoi[ch]\n",
        "      X.append(context)\n",
        "      Y.append(ix)\n",
        "      #print(''.join(itos[i] for i in context), '---->', itos[ix])\n",
        "      context = context[1:] + [ix] # crop to remove previous, append new to end\n",
        "\n",
        "  X = torch.tensor(X)\n",
        "  Y = torch.tensor(Y)\n",
        "  print(X.shape, Y.shape)\n",
        "  return X, Y\n",
        "\n",
        "import random\n",
        "random.seed(42)\n",
        "random.shuffle(words)\n",
        "n1 = int(0.8*len(words))\n",
        "n2 = int(0.9*len(words))\n",
        "Xtr, Ytr = build_dataset(words[:n1])\n",
        "Xdev, Ydev = build_dataset(words[n1:n2])\n",
        "Xte, Yte = build_dataset(words[n2:])\n",
        "\n",
        "X, Y = build_dataset(words)"
      ],
      "metadata": {
        "id": "uNUt-PmgI50U",
        "colab": {
          "base_uri": "https://localhost:8080/"
        },
        "outputId": "8fbf1611-7053-4444-8cc2-3ed6552ab8f5"
      },
      "execution_count": 8,
      "outputs": [
        {
          "output_type": "stream",
          "name": "stdout",
          "text": [
            "torch.Size([182625, 5]) torch.Size([182625])\n",
            "torch.Size([22655, 5]) torch.Size([22655])\n",
            "torch.Size([22866, 5]) torch.Size([22866])\n",
            "torch.Size([228146, 5]) torch.Size([228146])\n"
          ]
        }
      ]
    },
    {
      "cell_type": "code",
      "source": [
        "X.shape, X.dtype, Y.shape, Y.dtype"
      ],
      "metadata": {
        "colab": {
          "base_uri": "https://localhost:8080/"
        },
        "id": "ZZvm2Lj-Kpq9",
        "outputId": "bed19305-e80e-4aaf-c61f-7b9c7f1021ef"
      },
      "execution_count": 9,
      "outputs": [
        {
          "output_type": "execute_result",
          "data": {
            "text/plain": [
              "(torch.Size([228146, 5]), torch.int64, torch.Size([228146]), torch.int64)"
            ]
          },
          "metadata": {},
          "execution_count": 9
        }
      ]
    },
    {
      "cell_type": "code",
      "source": [
        "# C should be a 27 x embedding dimension matrix\n",
        "C = torch.randn((27, 2))"
      ],
      "metadata": {
        "id": "j1pTZxiJK-OT"
      },
      "execution_count": 10,
      "outputs": []
    },
    {
      "cell_type": "code",
      "source": [
        "C[stoi['a']]"
      ],
      "metadata": {
        "colab": {
          "base_uri": "https://localhost:8080/"
        },
        "id": "hJm6cJxQLXNK",
        "outputId": "7379a901-039d-4f94-c29a-2ca8c2ed9866"
      },
      "execution_count": 11,
      "outputs": [
        {
          "output_type": "execute_result",
          "data": {
            "text/plain": [
              "tensor([2.2632, 0.2664])"
            ]
          },
          "metadata": {},
          "execution_count": 11
        }
      ]
    },
    {
      "cell_type": "code",
      "source": [
        "aonehot = F.one_hot(torch.tensor(stoi['a']), num_classes=27).float()\n",
        "aonehot @ C"
      ],
      "metadata": {
        "colab": {
          "base_uri": "https://localhost:8080/"
        },
        "id": "Z_JtzD1RLji4",
        "outputId": "568c76a2-e690-47ef-de08-151bcaa259db"
      },
      "execution_count": 12,
      "outputs": [
        {
          "output_type": "execute_result",
          "data": {
            "text/plain": [
              "tensor([2.2632, 0.2664])"
            ]
          },
          "metadata": {},
          "execution_count": 12
        }
      ]
    },
    {
      "cell_type": "code",
      "source": [
        "C[[5, 6, 7]]"
      ],
      "metadata": {
        "colab": {
          "base_uri": "https://localhost:8080/"
        },
        "id": "avdx0fogMg-h",
        "outputId": "d59de723-7c3e-4be4-9084-aaa753c31b45"
      },
      "execution_count": 13,
      "outputs": [
        {
          "output_type": "execute_result",
          "data": {
            "text/plain": [
              "tensor([[-0.9979,  2.1931],\n",
              "        [ 0.9985, -1.6798],\n",
              "        [ 0.1374, -0.0782]])"
            ]
          },
          "metadata": {},
          "execution_count": 13
        }
      ]
    },
    {
      "cell_type": "code",
      "source": [
        "C[torch.tensor([0,0,0])]"
      ],
      "metadata": {
        "colab": {
          "base_uri": "https://localhost:8080/"
        },
        "id": "JwSdfY_oM486",
        "outputId": "423e1dbd-22ac-4843-f953-4cb41a147fed"
      },
      "execution_count": 14,
      "outputs": [
        {
          "output_type": "execute_result",
          "data": {
            "text/plain": [
              "tensor([[0.2845, 1.4344],\n",
              "        [0.2845, 1.4344],\n",
              "        [0.2845, 1.4344]])"
            ]
          },
          "metadata": {},
          "execution_count": 14
        }
      ]
    },
    {
      "cell_type": "code",
      "source": [
        "for data in X[:5]:\n",
        "  enc = C[data]\n",
        "  print(enc)"
      ],
      "metadata": {
        "colab": {
          "base_uri": "https://localhost:8080/"
        },
        "id": "SfYBbOH0MqeP",
        "outputId": "029eccef-2a94-464e-fb9c-173862d920a9"
      },
      "execution_count": 15,
      "outputs": [
        {
          "output_type": "stream",
          "name": "stdout",
          "text": [
            "tensor([[0.2845, 1.4344],\n",
            "        [0.2845, 1.4344],\n",
            "        [0.2845, 1.4344],\n",
            "        [0.2845, 1.4344],\n",
            "        [0.2845, 1.4344]])\n",
            "tensor([[ 0.2845,  1.4344],\n",
            "        [ 0.2845,  1.4344],\n",
            "        [ 0.2845,  1.4344],\n",
            "        [ 0.2845,  1.4344],\n",
            "        [-2.7842,  1.2216]])\n",
            "tensor([[ 0.2845,  1.4344],\n",
            "        [ 0.2845,  1.4344],\n",
            "        [ 0.2845,  1.4344],\n",
            "        [-2.7842,  1.2216],\n",
            "        [ 0.5705, -0.3304]])\n",
            "tensor([[ 0.2845,  1.4344],\n",
            "        [ 0.2845,  1.4344],\n",
            "        [-2.7842,  1.2216],\n",
            "        [ 0.5705, -0.3304],\n",
            "        [ 0.2533,  0.4235]])\n",
            "tensor([[ 0.2845,  1.4344],\n",
            "        [-2.7842,  1.2216],\n",
            "        [ 0.5705, -0.3304],\n",
            "        [ 0.2533,  0.4235],\n",
            "        [-0.9979,  2.1931]])\n"
          ]
        }
      ]
    },
    {
      "cell_type": "code",
      "source": [
        "emb = C[X]\n",
        "emb.shape"
      ],
      "metadata": {
        "colab": {
          "base_uri": "https://localhost:8080/"
        },
        "id": "wfGYToMPNK1q",
        "outputId": "99946b17-114e-48ca-db8e-b9c3e4b6cd74"
      },
      "execution_count": 16,
      "outputs": [
        {
          "output_type": "execute_result",
          "data": {
            "text/plain": [
              "torch.Size([228146, 5, 2])"
            ]
          },
          "metadata": {},
          "execution_count": 16
        }
      ]
    },
    {
      "cell_type": "code",
      "source": [
        "%time\n",
        "torch.cat([emb[:, 0, :], emb[:, 1, :], emb[:, 2, :]], 1).shape"
      ],
      "metadata": {
        "colab": {
          "base_uri": "https://localhost:8080/"
        },
        "id": "_axHK2K7PZmI",
        "outputId": "84097487-3424-472a-c9fa-82d63262b940"
      },
      "execution_count": 17,
      "outputs": [
        {
          "output_type": "stream",
          "name": "stdout",
          "text": [
            "CPU times: user 3 µs, sys: 0 ns, total: 3 µs\n",
            "Wall time: 7.39 µs\n"
          ]
        },
        {
          "output_type": "execute_result",
          "data": {
            "text/plain": [
              "torch.Size([228146, 6])"
            ]
          },
          "metadata": {},
          "execution_count": 17
        }
      ]
    },
    {
      "cell_type": "code",
      "source": [
        "%time\n",
        "torch.flatten(emb, start_dim=1).shape"
      ],
      "metadata": {
        "colab": {
          "base_uri": "https://localhost:8080/"
        },
        "id": "NKO-OeWbPzJm",
        "outputId": "30c0b455-23f7-4b63-9b36-efc258ef532a"
      },
      "execution_count": 18,
      "outputs": [
        {
          "output_type": "stream",
          "name": "stdout",
          "text": [
            "CPU times: user 4 µs, sys: 0 ns, total: 4 µs\n",
            "Wall time: 7.39 µs\n"
          ]
        },
        {
          "output_type": "execute_result",
          "data": {
            "text/plain": [
              "torch.Size([228146, 10])"
            ]
          },
          "metadata": {},
          "execution_count": 18
        }
      ]
    },
    {
      "cell_type": "code",
      "source": [
        "%time\n",
        "torch.cat(torch.unbind(emb, 1), 1).shape"
      ],
      "metadata": {
        "colab": {
          "base_uri": "https://localhost:8080/"
        },
        "id": "VSv2BLpcQh_V",
        "outputId": "e479264e-da0e-4f00-a84a-c90414b0afb3"
      },
      "execution_count": 19,
      "outputs": [
        {
          "output_type": "stream",
          "name": "stdout",
          "text": [
            "CPU times: user 4 µs, sys: 1 µs, total: 5 µs\n",
            "Wall time: 6.68 µs\n"
          ]
        },
        {
          "output_type": "execute_result",
          "data": {
            "text/plain": [
              "torch.Size([228146, 10])"
            ]
          },
          "metadata": {},
          "execution_count": 19
        }
      ]
    },
    {
      "cell_type": "markdown",
      "source": [
        "Idk bruh I think mine is still better"
      ],
      "metadata": {
        "id": "0irXVt_TQ87o"
      }
    },
    {
      "cell_type": "code",
      "source": [
        "a = torch.arange(18)\n",
        "a, a.shape"
      ],
      "metadata": {
        "colab": {
          "base_uri": "https://localhost:8080/"
        },
        "id": "wJCZLwk2RIKV",
        "outputId": "c3e3e039-9c0b-4e02-ed7e-64fa73c4f522"
      },
      "execution_count": 20,
      "outputs": [
        {
          "output_type": "execute_result",
          "data": {
            "text/plain": [
              "(tensor([ 0,  1,  2,  3,  4,  5,  6,  7,  8,  9, 10, 11, 12, 13, 14, 15, 16, 17]),\n",
              " torch.Size([18]))"
            ]
          },
          "metadata": {},
          "execution_count": 20
        }
      ]
    },
    {
      "cell_type": "code",
      "source": [
        "a.view(3, 6) # holy moly where has this been all my life"
      ],
      "metadata": {
        "colab": {
          "base_uri": "https://localhost:8080/"
        },
        "id": "LXRTu3BERTJp",
        "outputId": "ddd54a52-d07c-4fd8-c450-04f3d5d49dad"
      },
      "execution_count": 21,
      "outputs": [
        {
          "output_type": "execute_result",
          "data": {
            "text/plain": [
              "tensor([[ 0,  1,  2,  3,  4,  5],\n",
              "        [ 6,  7,  8,  9, 10, 11],\n",
              "        [12, 13, 14, 15, 16, 17]])"
            ]
          },
          "metadata": {},
          "execution_count": 21
        }
      ]
    },
    {
      "cell_type": "markdown",
      "source": [
        "2 microseconds bruv"
      ],
      "metadata": {
        "id": "br3PNmn-RxIb"
      }
    },
    {
      "cell_type": "code",
      "source": [
        "Xtr.shape, Ytr.shape"
      ],
      "metadata": {
        "colab": {
          "base_uri": "https://localhost:8080/"
        },
        "id": "b1ExOiJdryQa",
        "outputId": "5540670d-5c8e-4ac9-dc4b-5b46b580f873"
      },
      "execution_count": 22,
      "outputs": [
        {
          "output_type": "execute_result",
          "data": {
            "text/plain": [
              "(torch.Size([182625, 5]), torch.Size([182625]))"
            ]
          },
          "metadata": {},
          "execution_count": 22
        }
      ]
    },
    {
      "cell_type": "code",
      "source": [
        "emb_dim = 8"
      ],
      "metadata": {
        "id": "OXzqNpTc9PVd"
      },
      "execution_count": 23,
      "outputs": []
    },
    {
      "cell_type": "code",
      "source": [
        "C = torch.randn((vocab_size, emb_dim))\n",
        "w1 = torch.randn(block_size*emb_dim, 350)\n",
        "b1 = torch.randn(350)\n",
        "w2 = torch.randn(350, 100)\n",
        "b2 = torch.randn(100)\n",
        "w3 = torch.randn(100, vocab_size)\n",
        "b3 = torch.randn(vocab_size)\n",
        "\n",
        "parameters = [C, w1, b1, w2, b2, w3, b3]\n",
        "weights = [C, w1, w2, w3]\n",
        "for p in parameters:\n",
        "  p.requires_grad = True\n"
      ],
      "metadata": {
        "id": "Y3bPMri3NnAo"
      },
      "execution_count": 31,
      "outputs": []
    },
    {
      "cell_type": "code",
      "source": [
        "sum(p.nelement() for p in parameters)"
      ],
      "metadata": {
        "id": "8bMV3PLm2VEX",
        "outputId": "b551ca68-782b-4be8-b92a-fea45248390a",
        "colab": {
          "base_uri": "https://localhost:8080/"
        }
      },
      "execution_count": 32,
      "outputs": [
        {
          "output_type": "execute_result",
          "data": {
            "text/plain": [
              "52393"
            ]
          },
          "metadata": {},
          "execution_count": 32
        }
      ]
    },
    {
      "cell_type": "code",
      "source": [
        "lre = torch.linspace(-3, 0, 100000)\n",
        "lrs = 10**lre\n"
      ],
      "metadata": {
        "id": "Fbm1qKHhcCwp"
      },
      "execution_count": null,
      "outputs": []
    },
    {
      "cell_type": "code",
      "source": [
        "lri = []\n",
        "lossi = []\n",
        "stepi = []"
      ],
      "metadata": {
        "id": "P1ZIEQo62pjT"
      },
      "execution_count": 27,
      "outputs": []
    },
    {
      "cell_type": "code",
      "source": [
        "\n",
        "\n",
        "for x in range(200000):\n",
        "\n",
        "  # minibatch\n",
        "  ix = torch.randint(0, Xtr.shape[0], (32, ))\n",
        "\n",
        "\n",
        "  emb = C[Xtr[ix]]\n",
        "  wi1 = emb.view(-1, block_size * emb_dim) @ w1\n",
        "  wi1b = wi1 + b1\n",
        "  wi1ba = wi1b.tanh()\n",
        "  wi2 = wi1ba @ w2\n",
        "  wi2b = wi2 + b2\n",
        "  wi2ba = wi2b.tanh()\n",
        "  wi3 = wi2ba @ w3\n",
        "  logits = wi3 + b3\n",
        "\n",
        "\n",
        "  for p in parameters:\n",
        "    p.grad = None\n",
        "\n",
        "  # regularization\n",
        "  loss = F.cross_entropy(logits, Ytr[ix]) + (torch.tensor([w.mean() for w in weights]).mean() * 0.01)\n",
        "\n",
        "  if x % 5000 == 0:\n",
        "    print(loss.log10().item())\n",
        "  loss.backward()\n",
        "  lr = 0.2 / (1+((1e-5) * x))\n",
        "  for p in parameters:\n",
        "    p.data += -lr * p.grad\n",
        "\n",
        "  stepi.append(x)\n",
        "  lossi.append(loss.log10().item())\n",
        "\n",
        "\n",
        "print(loss.log10().item())"
      ],
      "metadata": {
        "colab": {
          "base_uri": "https://localhost:8080/"
        },
        "id": "hASN8gqCLzlU",
        "outputId": "bed4cd48-9aa8-468a-92a6-88c2ed9f0783"
      },
      "execution_count": 33,
      "outputs": [
        {
          "output_type": "stream",
          "name": "stdout",
          "text": [
            "1.2982983589172363\n",
            "0.4173760712146759\n",
            "0.39844003319740295\n",
            "0.3724387586116791\n",
            "0.4284171164035797\n",
            "0.41438576579093933\n",
            "0.4713268280029297\n",
            "0.45438718795776367\n",
            "0.4091481566429138\n",
            "0.4147730767726898\n",
            "0.3098059594631195\n",
            "0.43068644404411316\n",
            "0.4033098518848419\n",
            "0.33585208654403687\n",
            "0.3849557638168335\n",
            "0.3363690674304962\n",
            "0.2858721911907196\n",
            "0.3880797326564789\n",
            "0.24321699142456055\n",
            "0.2808210253715515\n",
            "0.38106393814086914\n",
            "0.38139814138412476\n",
            "0.41003236174583435\n",
            "0.33362361788749695\n",
            "0.3992506265640259\n",
            "0.3308359980583191\n",
            "0.3874683678150177\n",
            "0.34519627690315247\n",
            "0.24601389467716217\n",
            "0.3537592589855194\n",
            "0.34330230951309204\n",
            "0.2805486023426056\n",
            "0.45167335867881775\n",
            "0.2629145383834839\n",
            "0.3578799366950989\n",
            "0.3771505355834961\n",
            "0.3712587058544159\n",
            "0.3085465729236603\n",
            "0.29511603713035583\n",
            "0.3190270960330963\n",
            "0.4236604869365692\n"
          ]
        }
      ]
    },
    {
      "cell_type": "code",
      "source": [
        "plt.plot(stepi, lossi)"
      ],
      "metadata": {
        "colab": {
          "base_uri": "https://localhost:8080/",
          "height": 447
        },
        "id": "WJDq-8tZvb9T",
        "outputId": "b9a69076-3c01-4279-a38a-15eefd9c99ed"
      },
      "execution_count": 34,
      "outputs": [
        {
          "output_type": "execute_result",
          "data": {
            "text/plain": [
              "[<matplotlib.lines.Line2D at 0x7d45fbf4c430>]"
            ]
          },
          "metadata": {},
          "execution_count": 34
        },
        {
          "output_type": "display_data",
          "data": {
            "text/plain": [
              "<Figure size 640x480 with 1 Axes>"
            ],
            "image/png": "[encoded data removed]"
          },
          "metadata": {}
        }
      ]
    },
    {
      "cell_type": "code",
      "source": [
        "emb = C[Xdev]\n",
        "wi1 = emb.view(-1, block_size * emb_dim) @ w1\n",
        "wi1b = wi1 + b1\n",
        "wi1ba = wi1b.tanh()\n",
        "wi2 = wi1ba @ w2\n",
        "wi2b = wi2 + b2\n",
        "wi2ba = wi2b.tanh()\n",
        "wi3 = wi2ba @ w3\n",
        "logits = wi3 + b3\n",
        "loss = F.cross_entropy(logits, Ydev)\n",
        "loss.item()"
      ],
      "metadata": {
        "colab": {
          "base_uri": "https://localhost:8080/"
        },
        "id": "WCKcpRUkbKBI",
        "outputId": "55afdca5-ab47-4cfd-ad15-700355b4de39"
      },
      "execution_count": 35,
      "outputs": [
        {
          "output_type": "execute_result",
          "data": {
            "text/plain": [
              "2.297590732574463"
            ]
          },
          "metadata": {},
          "execution_count": 35
        }
      ]
    },
    {
      "cell_type": "code",
      "source": [
        "emb = C[Xte]\n",
        "wi1 = emb.view(-1, block_size * emb_dim) @ w1\n",
        "wi1b = wi1 + b1\n",
        "wi1ba = wi1b.tanh()\n",
        "wi2 = wi1ba @ w2\n",
        "wi2b = wi2 + b2\n",
        "wi2ba = wi2b.tanh()\n",
        "wi3 = wi2ba @ w3\n",
        "logits = wi3 + b3\n",
        "loss = F.cross_entropy(logits, Yte)\n",
        "loss.item()"
      ],
      "metadata": {
        "colab": {
          "base_uri": "https://localhost:8080/"
        },
        "id": "PCJglfzzxI5g",
        "outputId": "edf866fe-80d4-4cbf-e0f1-f5402c0fecca"
      },
      "execution_count": 36,
      "outputs": [
        {
          "output_type": "execute_result",
          "data": {
            "text/plain": [
              "2.2950284481048584"
            ]
          },
          "metadata": {},
          "execution_count": 36
        }
      ]
    },
    {
      "cell_type": "code",
      "source": [
        "emb = C[Xtr]\n",
        "wi1 = emb.view(-1, block_size * emb_dim) @ w1\n",
        "wi1b = wi1 + b1\n",
        "wi1ba = wi1b.tanh()\n",
        "wi2 = wi1ba @ w2\n",
        "wi2b = wi2 + b2\n",
        "wi2ba = wi2b.tanh()\n",
        "wi3 = wi2ba @ w3\n",
        "logits = wi3 + b3\n",
        "loss = F.cross_entropy(logits, Ytr)\n",
        "loss.item()"
      ],
      "metadata": {
        "colab": {
          "base_uri": "https://localhost:8080/"
        },
        "id": "ydJpRQURxQVG",
        "outputId": "28312b54-f1d3-4d9a-cd2b-089860e8ea16"
      },
      "execution_count": 40,
      "outputs": [
        {
          "output_type": "execute_result",
          "data": {
            "text/plain": [
              "2.2177774906158447"
            ]
          },
          "metadata": {},
          "execution_count": 40
        }
      ]
    },
    {
      "cell_type": "code",
      "source": [
        "# uniform probabilities loss\n",
        "\n",
        "#emb = C[Xtr]\n",
        "#wi1 = emb.view(-1, block_size*emb_dim) @ w1\n",
        "#wi1b = wi1 + b1\n",
        "#wi1ba = wi1b.tanh()\n",
        "#wi2 = wi1ba @ w2\n",
        "#logits = torch.ones(wi2.shape)\n",
        "#loss = F.cross_entropy(logits, Ytr)\n",
        "#loss.item()"
      ],
      "metadata": {
        "id": "D0MQkpiGChsh",
        "outputId": "80e586c6-8100-4552-f772-2973c4b22751",
        "colab": {
          "base_uri": "https://localhost:8080/"
        }
      },
      "execution_count": null,
      "outputs": [
        {
          "output_type": "execute_result",
          "data": {
            "text/plain": [
              "3.29583740234375"
            ]
          },
          "metadata": {},
          "execution_count": 72
        }
      ]
    },
    {
      "cell_type": "code",
      "source": [
        "#C = torch.zeros((27, emb_dim))\n",
        "#w1 = torch.zeros(block_size*emb_dim, 350)\n",
        "#b1 = torch.zeros(350)\n",
        "#w2 = torch.zeros(350, 27)\n",
        "#b2 = torch.zeros(27)\n",
        "\n",
        "#parameters = [C, w1, b1, w2, b2]\n",
        "#for p in parameters:\n",
        "#  p.requires_grad = True"
      ],
      "metadata": {
        "id": "fs4t2SdnC-cx"
      },
      "execution_count": null,
      "outputs": []
    },
    {
      "cell_type": "code",
      "source": [
        "# ez ws, just set all params to zero for even logits\n",
        "\n",
        "#emb = C[Xtr]\n",
        "#wi1 = emb.view(-1, block_size*emb_dim) @ w1\n",
        "#wi1b = wi1 + b1\n",
        "#wi1ba = wi1b.tanh()\n",
        "#wi2 = wi1ba @ w2\n",
        "#logits = wi2 + b2\n",
        "#loss = F.cross_entropy(logits, Ytr)\n",
        "#loss.item()"
      ],
      "metadata": {
        "id": "sBpAMjpgDPt-",
        "outputId": "8c854b9f-5850-4c74-b796-47b9455334f6",
        "colab": {
          "base_uri": "https://localhost:8080/"
        }
      },
      "execution_count": null,
      "outputs": [
        {
          "output_type": "execute_result",
          "data": {
            "text/plain": [
              "3.29583740234375"
            ]
          },
          "metadata": {},
          "execution_count": 34
        }
      ]
    },
    {
      "cell_type": "code",
      "source": [
        "def prompt(cx, max_length=15, samples=1):\n",
        "  for x in range(samples):\n",
        "    out = [stoi[c] for c in cx]\n",
        "\n",
        "    if len(cx) > block_size:\n",
        "      cx = cx[-block_size:]\n",
        "    context = [0]*(block_size - len(cx)) + out\n",
        "    while True:\n",
        "\n",
        "      emb = C[torch.tensor([context])]\n",
        "      wi1 = emb.view(-1, block_size * emb_dim) @ w1\n",
        "      wi1b = wi1 + b1\n",
        "      wi1ba = wi1b.tanh()\n",
        "      wi2 = wi1ba @ w2\n",
        "      wi2b = wi2 + b2\n",
        "      wi2ba = wi2b.tanh()\n",
        "      wi3 = wi2ba @ w3\n",
        "      logits = wi3 + b3\n",
        "      probs = F.softmax(logits, dim=1)\n",
        "      ix = torch.multinomial(probs, num_samples=1).item()\n",
        "      context = context[1:] + [ix]\n",
        "      out.append(ix)\n",
        "      if ix == 0:\n",
        "        break\n",
        "    print(''.join(itos[i] for i in out))\n",
        "\n",
        "prompt(\"bro\", samples=10)"
      ],
      "metadata": {
        "id": "KCmF27QgVEoY",
        "colab": {
          "base_uri": "https://localhost:8080/"
        },
        "outputId": "8d80c3b8-e4ac-467e-8f13-932ac5ead0b0"
      },
      "execution_count": 39,
      "outputs": [
        {
          "output_type": "stream",
          "name": "stdout",
          "text": [
            "brossynn.\n",
            "brosana.\n",
            "brondeelorey.\n",
            "brodzisk.\n",
            "broyvin.\n",
            "brodenton.\n",
            "broibe.\n",
            "bromxojeleanaheel.\n",
            "broulie.\n",
            "brooce.\n"
          ]
        }
      ]
    },
    {
      "cell_type": "code",
      "source": [
        "prompt(\"z\", samples=10)"
      ],
      "metadata": {
        "id": "3Yx6gbVk8QkZ",
        "outputId": "2ecfe01d-5090-4f5c-d1b3-dc02f1cfe3b5",
        "colab": {
          "base_uri": "https://localhost:8080/"
        }
      },
      "execution_count": 42,
      "outputs": [
        {
          "output_type": "stream",
          "name": "stdout",
          "text": [
            "zariyah.\n",
            "zoili.\n",
            "zoyder.\n",
            "zileo.\n",
            "zaetot.\n",
            "zarayah.\n",
            "zynloynab.\n",
            "zennoel.\n",
            "zysetyn.\n",
            "zaegon.\n"
          ]
        }
      ]
    },
    {
      "cell_type": "code",
      "source": [
        "for _ in range(20):\n",
        "  out = []\n",
        "  context = [0] * block_size\n",
        "  while True:\n",
        "    emb = C[torch.tensor([context])]\n",
        "    wi1 = emb.view(-1, block_size * emb_dim) @ w1\n",
        "    wi1b = wi1 + b1\n",
        "    wi1ba = wi1b.tanh()\n",
        "    wi2 = wi1ba @ w2\n",
        "    wi2b = wi2 + b2\n",
        "    wi2ba = wi2b.tanh()\n",
        "    wi3 = wi2ba @ w3\n",
        "    logits = wi3 + b3\n",
        "    probs = F.softmax(logits, dim=1)\n",
        "    ix = torch.multinomial(probs, num_samples=1).item()\n",
        "    context = context[1:] + [ix]\n",
        "    out.append(ix)\n",
        "    if ix == 0:\n",
        "      break\n",
        "  print(''.join(itos[i] for i in out))"
      ],
      "metadata": {
        "id": "CG_a6Jhz5rAl",
        "outputId": "c3bbbf44-13db-47f2-c9ef-93f24fd3cb3c",
        "colab": {
          "base_uri": "https://localhost:8080/"
        }
      },
      "execution_count": 43,
      "outputs": [
        {
          "output_type": "stream",
          "name": "stdout",
          "text": [
            "jewuiteas.\n",
            "edyson.\n",
            "eiyau.\n",
            "rarya.\n",
            "lakely.\n",
            "cakolyne.\n",
            "yuoiran.\n",
            "troysana.\n",
            "cayrneplynet.\n",
            "kaayona.\n",
            "ramanellasyn.\n",
            "aagkordoh.\n",
            "yaydian.\n",
            "amela.\n",
            "esisolae.\n",
            "maenth.\n",
            "elioa.\n",
            "raelynn.\n",
            "haslald.\n",
            "zorlyn.\n"
          ]
        }
      ]
    },
    {
      "cell_type": "code",
      "source": [
        "prompt('z', samples=10)\n",
        "print('\\n')\n",
        "prompt('w', samples=10)"
      ],
      "metadata": {
        "colab": {
          "base_uri": "https://localhost:8080/"
        },
        "id": "CJG8VVHWyhlx",
        "outputId": "ad30f673-a878-45ce-f902-41d557f5b060"
      },
      "execution_count": 44,
      "outputs": [
        {
          "output_type": "stream",
          "name": "stdout",
          "text": [
            "zeraara.\n",
            "zaydac.\n",
            "zahaisn.\n",
            "zaylyn.\n",
            "zoyay.\n",
            "ziczyan.\n",
            "zaylena.\n",
            "zoyulla.\n",
            "zetiya.\n",
            "zaydale.\n",
            "\n",
            "\n",
            "waylani.\n",
            "woeal.\n",
            "wanyia.\n",
            "waly.\n",
            "wraqidon.\n",
            "wioha.\n",
            "warboniet.\n",
            "wahada.\n",
            "waldie.\n",
            "wiara.\n"
          ]
        }
      ]
    },
    {
      "cell_type": "code",
      "source": [
        "plt.figure(figsize=(8,8))\n",
        "plt.scatter(C[:, 0].data, C[:, 1].data, s=200)\n",
        "for i in range(C.shape[0]):\n",
        "  plt.text(C[i,0].item(), C[i, 1].item(), itos[i], ha='center', va='center', color='white')\n",
        "plt.grid('minor')"
      ],
      "metadata": {
        "colab": {
          "base_uri": "https://localhost:8080/",
          "height": 676
        },
        "id": "C8XUTz6nxgLT",
        "outputId": "ca8c31de-267c-4059-fb19-9af3665fb6dd"
      },
      "execution_count": 45,
      "outputs": [
        {
          "output_type": "display_data",
          "data": {
            "text/plain": [
              "<Figure size 800x800 with 1 Axes>"
            ],
            "image/png": "[encoded data removed]"
          },
          "metadata": {}
        }
      ]
    },
    {
      "cell_type": "markdown",
      "source": [
        "thought it was overfitting for a second there"
      ],
      "metadata": {
        "id": "IYz7-r17xT-T"
      }
    },
    {
      "cell_type": "code",
      "source": [
        "torch.randint(0, X.shape[0], (32,))"
      ],
      "metadata": {
        "id": "V31_y7JFaMMb",
        "colab": {
          "base_uri": "https://localhost:8080/"
        },
        "outputId": "d8e12375-7d44-45f2-fb16-3cca9593ba1e"
      },
      "execution_count": null,
      "outputs": [
        {
          "output_type": "execute_result",
          "data": {
            "text/plain": [
              "tensor([213172,  33749, 118165, 118634, 212100,  75679,  20942,   7685, 159424,\n",
              "        104630, 193800, 190421,  69472,  14163,  65536,   7638,  74692,  55967,\n",
              "         18268, 151616,  68461,  73037, 130511, 196220,  25284, 118811,  17529,\n",
              "         98684, 158170,  21724,  96713,  95438])"
            ]
          },
          "metadata": {},
          "execution_count": 40
        }
      ]
    },
    {
      "cell_type": "code",
      "source": [
        "# train, val, test split\n",
        "# 80%, 10%, 10%\n"
      ],
      "metadata": {
        "id": "ZS5oW7wmfvAh"
      },
      "execution_count": null,
      "outputs": []
    }
  ]
}