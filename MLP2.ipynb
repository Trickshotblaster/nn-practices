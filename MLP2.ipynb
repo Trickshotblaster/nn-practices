{
  "nbformat": 4,
  "nbformat_minor": 0,
  "metadata": {
    "colab": {
      "provenance": [],
      "authorship_tag": "ABX9TyMFvNxe3wVKF20vyYY/BEWw",
      "include_colab_link": true
    },
    "kernelspec": {
      "name": "python3",
      "display_name": "Python 3"
    },
    "language_info": {
      "name": "python"
    }
  },
  "cells": [
    {
      "cell_type": "markdown",
      "metadata": {
        "id": "view-in-github",
        "colab_type": "text"
      },
      "source": [
        "<a href=\"https://colab.research.google.com/github/Trickshotblaster/nn-practices/blob/main/MLP2.ipynb\" target=\"_parent\"><img src=\"https://colab.research.google.com/assets/colab-badge.svg\" alt=\"Open In Colab\"/></a>"
      ]
    },
    {
      "cell_type": "code",
      "execution_count": 1,
      "metadata": {
        "id": "-fiyn4RDHgUG"
      },
      "outputs": [],
      "source": [
        "import requests\n",
        "\n",
        "url = 'https://raw.githubusercontent.com/karpathy/makemore/master/names.txt'\n",
        "\n",
        "response = requests.get(url)\n",
        "\n",
        "with open('names.txt', 'wb') as f:\n",
        "  f.write(response.content)"
      ]
    },
    {
      "cell_type": "code",
      "source": [
        "import torch\n",
        "import torch.nn.functional as F\n",
        "import matplotlib.pyplot as plt\n",
        "%matplotlib inline"
      ],
      "metadata": {
        "id": "kLD2Wy_sHoVP"
      },
      "execution_count": 2,
      "outputs": []
    },
    {
      "cell_type": "code",
      "source": [
        "words = open('names.txt', 'r').read().splitlines()\n",
        "words[:8]"
      ],
      "metadata": {
        "colab": {
          "base_uri": "https://localhost:8080/"
        },
        "id": "88ggro_GHxUL",
        "outputId": "c82a13e0-ae4d-42cb-c6f9-2d3e4565010e"
      },
      "execution_count": 3,
      "outputs": [
        {
          "output_type": "execute_result",
          "data": {
            "text/plain": [
              "['emma', 'olivia', 'ava', 'isabella', 'sophia', 'charlotte', 'mia', 'amelia']"
            ]
          },
          "metadata": {},
          "execution_count": 3
        }
      ]
    },
    {
      "cell_type": "code",
      "source": [
        "len(words)"
      ],
      "metadata": {
        "colab": {
          "base_uri": "https://localhost:8080/"
        },
        "id": "Sp-ZkQeHH8dM",
        "outputId": "86cdb940-6cf4-45e7-e7a6-20a244426728"
      },
      "execution_count": 4,
      "outputs": [
        {
          "output_type": "execute_result",
          "data": {
            "text/plain": [
              "32033"
            ]
          },
          "metadata": {},
          "execution_count": 4
        }
      ]
    },
    {
      "cell_type": "code",
      "source": [
        "# stoi and itos\n",
        "chars = sorted(list(set(''.join(words))))\n",
        "stoi = {char:i+1 for i, char in enumerate(chars)}\n",
        "stoi['.'] = 0\n",
        "itos = {i:char for char, i in stoi.items()}\n",
        "print(itos)"
      ],
      "metadata": {
        "colab": {
          "base_uri": "https://localhost:8080/"
        },
        "id": "CrRzXj6_H9_p",
        "outputId": "51196895-f953-401c-8efb-15600c7e8bd3"
      },
      "execution_count": 5,
      "outputs": [
        {
          "output_type": "stream",
          "name": "stdout",
          "text": [
            "{1: 'a', 2: 'b', 3: 'c', 4: 'd', 5: 'e', 6: 'f', 7: 'g', 8: 'h', 9: 'i', 10: 'j', 11: 'k', 12: 'l', 13: 'm', 14: 'n', 15: 'o', 16: 'p', 17: 'q', 18: 'r', 19: 's', 20: 't', 21: 'u', 22: 'v', 23: 'w', 24: 'x', 25: 'y', 26: 'z', 0: '.'}\n"
          ]
        }
      ]
    },
    {
      "cell_type": "code",
      "source": [
        "vocab_size = len(chars) + 1"
      ],
      "metadata": {
        "id": "Mt2vnIpwhvQb"
      },
      "execution_count": 6,
      "outputs": []
    },
    {
      "cell_type": "code",
      "source": [
        "block_size = 3"
      ],
      "metadata": {
        "id": "lCnusZyM9Vkd"
      },
      "execution_count": 7,
      "outputs": []
    },
    {
      "cell_type": "code",
      "source": [
        "# make dataset\n",
        "def build_dataset(words):\n",
        "  X, Y = [], []\n",
        "  for w in words:\n",
        "    #print(w)\n",
        "    context = [0] * block_size # list of zeros of length block size\n",
        "    for ch in w + '.':\n",
        "      ix = stoi[ch]\n",
        "      X.append(context)\n",
        "      Y.append(ix)\n",
        "      #print(''.join(itos[i] for i in context), '---->', itos[ix])\n",
        "      context = context[1:] + [ix] # crop to remove previous, append new to end\n",
        "\n",
        "  X = torch.tensor(X)\n",
        "  Y = torch.tensor(Y)\n",
        "  print(X.shape, Y.shape)\n",
        "  return X, Y\n",
        "\n",
        "import random\n",
        "random.seed(42)\n",
        "random.shuffle(words)\n",
        "n1 = int(0.8*len(words))\n",
        "n2 = int(0.9*len(words))\n",
        "Xtr, Ytr = build_dataset(words[:n1])\n",
        "Xdev, Ydev = build_dataset(words[n1:n2])\n",
        "Xte, Yte = build_dataset(words[n2:])\n",
        "\n",
        "X, Y = build_dataset(words)"
      ],
      "metadata": {
        "id": "uNUt-PmgI50U",
        "colab": {
          "base_uri": "https://localhost:8080/"
        },
        "outputId": "e49bc60e-ea79-4e51-9812-b0bf674d72a6"
      },
      "execution_count": 8,
      "outputs": [
        {
          "output_type": "stream",
          "name": "stdout",
          "text": [
            "torch.Size([182625, 3]) torch.Size([182625])\n",
            "torch.Size([22655, 3]) torch.Size([22655])\n",
            "torch.Size([22866, 3]) torch.Size([22866])\n",
            "torch.Size([228146, 3]) torch.Size([228146])\n"
          ]
        }
      ]
    },
    {
      "cell_type": "code",
      "source": [
        "X.shape, X.dtype, Y.shape, Y.dtype"
      ],
      "metadata": {
        "colab": {
          "base_uri": "https://localhost:8080/"
        },
        "id": "ZZvm2Lj-Kpq9",
        "outputId": "34acc1e1-acdd-4d2a-9366-3af31effde1d"
      },
      "execution_count": 9,
      "outputs": [
        {
          "output_type": "execute_result",
          "data": {
            "text/plain": [
              "(torch.Size([228146, 3]), torch.int64, torch.Size([228146]), torch.int64)"
            ]
          },
          "metadata": {},
          "execution_count": 9
        }
      ]
    },
    {
      "cell_type": "code",
      "source": [
        "Xtr.shape, Ytr.shape"
      ],
      "metadata": {
        "colab": {
          "base_uri": "https://localhost:8080/"
        },
        "id": "b1ExOiJdryQa",
        "outputId": "68197a20-69ea-4675-b929-5be42f5c129a"
      },
      "execution_count": 10,
      "outputs": [
        {
          "output_type": "execute_result",
          "data": {
            "text/plain": [
              "(torch.Size([182625, 3]), torch.Size([182625]))"
            ]
          },
          "metadata": {},
          "execution_count": 10
        }
      ]
    },
    {
      "cell_type": "code",
      "source": [
        "n_embd = 10\n",
        "n_hidden = 200"
      ],
      "metadata": {
        "id": "OXzqNpTc9PVd"
      },
      "execution_count": 11,
      "outputs": []
    },
    {
      "cell_type": "code",
      "source": [
        "C = torch.randn((vocab_size, n_embd))\n",
        "w1 = torch.randn(block_size*n_embd, n_hidden) * (5/3)/((n_embd * block_size)**0.5)\n",
        "#b1 = torch.randn(n_hidden) * 0.01\n",
        "w2 = torch.randn(n_hidden, vocab_size) * 0.01\n",
        "b2 = torch.randn(vocab_size) * 0\n",
        "\n",
        "bngain = torch.ones((1, n_hidden))\n",
        "bnbias = torch.zeros((1, n_hidden))\n",
        "bnmean_running = torch.zeros((1, n_hidden))\n",
        "bnstd_running = torch.ones((1, n_hidden))\n",
        "parameters = [C, w1, b1, w2, b2, bngain, bnbias]\n",
        "weights = [C, w1, w2]\n",
        "for p in parameters:\n",
        "  p.requires_grad = True\n"
      ],
      "metadata": {
        "id": "Y3bPMri3NnAo"
      },
      "execution_count": 12,
      "outputs": []
    },
    {
      "cell_type": "code",
      "source": [
        "sum(p.nelement() for p in parameters)"
      ],
      "metadata": {
        "id": "8bMV3PLm2VEX",
        "outputId": "6a6ad45e-5ac5-4f58-c322-e69ba62b4227",
        "colab": {
          "base_uri": "https://localhost:8080/"
        }
      },
      "execution_count": 13,
      "outputs": [
        {
          "output_type": "execute_result",
          "data": {
            "text/plain": [
              "12297"
            ]
          },
          "metadata": {},
          "execution_count": 13
        }
      ]
    },
    {
      "cell_type": "code",
      "source": [
        "lre = torch.linspace(-3, 0, 100000)\n",
        "lrs = 10**lre\n"
      ],
      "metadata": {
        "id": "Fbm1qKHhcCwp"
      },
      "execution_count": 14,
      "outputs": []
    },
    {
      "cell_type": "code",
      "source": [
        "lri = []\n",
        "lossi = []\n",
        "stepi = []"
      ],
      "metadata": {
        "id": "P1ZIEQo62pjT"
      },
      "execution_count": 15,
      "outputs": []
    },
    {
      "cell_type": "code",
      "source": [
        "max_steps = 200000\n",
        "batch_size = 32\n",
        "\n",
        "for x in range(max_steps):\n",
        "\n",
        "  # minibatch\n",
        "  ix = torch.randint(0, Xtr.shape[0], (batch_size, ))\n",
        "\n",
        "  # forward\n",
        "  # get input features\n",
        "  emb = C[Xtr[ix]]\n",
        "  # view the embeddings as [batch_size, (context_length * emb_dimension)]\n",
        "  embcat = emb.view(-1, block_size * n_embd)\n",
        "  # no bias anymore, but feed forward\n",
        "  wi1b = embcat @ w1 # +b1\n",
        "  # get the mean of the layer output, 0 and keepdim -> whole batch\n",
        "  bnmeani = wi1b.mean(0, keepdim=True)\n",
        "  bnstdi = wi1b.std(0, keepdim=True)\n",
        "  # normalize the layer output with the mean and std, modify with gain, bias\n",
        "  wi1b = bngain * (wi1b - bnmeani) / bnstdi + bnbias\n",
        "  # feed into activation, gradients are now usable\n",
        "  wi1ba = wi1b.tanh()\n",
        "  # finish forward\n",
        "  wi2 = wi1ba @ w2\n",
        "  logits = wi2 + b2\n",
        "  # keep track of running mean so it doesn't need to be recalculated\n",
        "  # used for inference\n",
        "  with torch.no_grad():\n",
        "    bnmean_running = 0.999 * bnmean_running + 0.001 * bnmeani\n",
        "    bnstd_running = 0.999 * bnstd_running + 0.001 * bnstdi\n",
        "\n",
        "  # zero grad\n",
        "  for p in parameters:\n",
        "    p.grad = None\n",
        "\n",
        "  # calculate loss with cross entropy, sprinkle on regularization\n",
        "  # punish big weights and biases\n",
        "  loss = F.cross_entropy(logits, Ytr[ix]) + (torch.tensor([w.mean() for w in weights]).mean() * 0.1)\n",
        "\n",
        "  #log the loss\n",
        "  if x % 5000 == 0:\n",
        "    print(loss.item())\n",
        "  # backward, calculate gradients\n",
        "  loss.backward()\n",
        "  # crappy learning rate scheduler\n",
        "  lr = 0.001 if x < 100 else 0.2 / (1+((1e-5) * x))\n",
        "  # update parameters\n",
        "  for p in parameters:\n",
        "    p.data += -lr * p.grad\n",
        "  # log epochs and losses\n",
        "  stepi.append(x)\n",
        "  lossi.append(loss.log10().item())\n",
        "\n",
        "\n",
        "print(loss.log10().item())"
      ],
      "metadata": {
        "colab": {
          "base_uri": "https://localhost:8080/"
        },
        "id": "hASN8gqCLzlU",
        "outputId": "22d65280-d5b7-405b-d2b4-239ae6d10149"
      },
      "execution_count": 16,
      "outputs": [
        {
          "output_type": "stream",
          "name": "stdout",
          "text": [
            "3.301650047302246\n",
            "2.382357597351074\n",
            "2.5903713703155518\n",
            "2.281752586364746\n",
            "2.2883567810058594\n",
            "2.2859387397766113\n",
            "1.894065499305725\n",
            "2.454977512359619\n",
            "2.1396336555480957\n",
            "2.171459913253784\n",
            "2.0207269191741943\n",
            "2.296722173690796\n",
            "2.132307529449463\n",
            "2.094698667526245\n",
            "1.811854362487793\n",
            "2.190147638320923\n",
            "1.915322184562683\n",
            "2.2941622734069824\n",
            "1.8385887145996094\n",
            "2.3430237770080566\n",
            "2.3262557983398438\n",
            "2.4699902534484863\n",
            "2.0929269790649414\n",
            "1.8531785011291504\n",
            "2.161961793899536\n",
            "2.3078372478485107\n",
            "2.349334955215454\n",
            "2.1766483783721924\n",
            "1.9963743686676025\n",
            "1.8630586862564087\n",
            "2.1750612258911133\n",
            "2.015623092651367\n",
            "2.182678461074829\n",
            "2.269528865814209\n",
            "1.9275833368301392\n",
            "2.088768720626831\n",
            "1.7599965333938599\n",
            "1.9277771711349487\n",
            "1.6490683555603027\n",
            "2.1569786071777344\n",
            "0.3717025816440582\n"
          ]
        }
      ]
    },
    {
      "cell_type": "code",
      "source": [
        "plt.figure(figsize=(20,10))\n",
        "plt.imshow(wi1ba.abs() > 0.99, cmap='gray', interpolation='nearest')"
      ],
      "metadata": {
        "id": "HPGFp3G59uyb",
        "outputId": "581b2cc2-454b-443f-b328-3f263e2fcbae",
        "colab": {
          "base_uri": "https://localhost:8080/",
          "height": 187
        }
      },
      "execution_count": 17,
      "outputs": [
        {
          "output_type": "execute_result",
          "data": {
            "text/plain": [
              "<matplotlib.image.AxesImage at 0x7cb4ac909b70>"
            ]
          },
          "metadata": {},
          "execution_count": 17
        },
        {
          "output_type": "display_data",
          "data": {
            "text/plain": [
              "<Figure size 2000x1000 with 1 Axes>"
            ],
            "image/png": "[encoded data removed]"
          },
          "metadata": {}
        }
      ]
    },
    {
      "cell_type": "code",
      "source": [
        "plt.hist(wi1ba.view(-1).tolist())"
      ],
      "metadata": {
        "id": "EIL7aqLe7Pt_",
        "outputId": "b0a564fe-04c9-453d-c16a-b5b4fc93da08",
        "colab": {
          "base_uri": "https://localhost:8080/",
          "height": 537
        }
      },
      "execution_count": 18,
      "outputs": [
        {
          "output_type": "execute_result",
          "data": {
            "text/plain": [
              "(array([ 923.,  432.,  343.,  377., 1027., 1151.,  398.,  341.,  467.,\n",
              "         941.]),\n",
              " array([-9.99999523e-01, -8.00003392e-01, -6.00007260e-01, -4.00011128e-01,\n",
              "        -2.00014997e-01, -1.88648701e-05,  1.99977267e-01,  3.99973398e-01,\n",
              "         5.99969530e-01,  7.99965662e-01,  9.99961793e-01]),\n",
              " <BarContainer object of 10 artists>)"
            ]
          },
          "metadata": {},
          "execution_count": 18
        },
        {
          "output_type": "display_data",
          "data": {
            "text/plain": [
              "<Figure size 640x480 with 1 Axes>"
            ],
            "image/png": "[encoded data removed]"
          },
          "metadata": {}
        }
      ]
    },
    {
      "cell_type": "code",
      "source": [
        "with torch.no_grad():\n",
        "  emb = C[Xtr]\n",
        "  embcat = emb.view(emb.shape[0], -1)\n",
        "  hpreact = embcat @ w1 + b1\n",
        "  bnmean = hpreact.mean(0, keepdim=True)\n",
        "  bnstd = hpreact.std(0, keepdim=True)\n"
      ],
      "metadata": {
        "id": "uo_PYRzjIJvH"
      },
      "execution_count": 27,
      "outputs": []
    },
    {
      "cell_type": "code",
      "source": [
        "bnmean"
      ],
      "metadata": {
        "id": "Qdg76AK6mtbj",
        "outputId": "79b8ae64-3932-4e12-9390-b42350171f8e",
        "colab": {
          "base_uri": "https://localhost:8080/"
        }
      },
      "execution_count": 28,
      "outputs": [
        {
          "output_type": "execute_result",
          "data": {
            "text/plain": [
              "tensor([[ 2.6511e-01,  1.5622e-01,  5.6435e-01,  5.1210e-01, -2.6010e-01,\n",
              "         -9.5502e-01,  4.0514e-01, -9.2511e-01, -5.4534e-01,  1.7461e-01,\n",
              "          7.8433e-01,  3.2004e-01,  1.8204e+00,  1.4014e+00,  1.8369e-01,\n",
              "         -1.0571e-06, -5.5716e-01,  1.0136e-02,  1.4832e-01,  1.0869e+00,\n",
              "         -4.5747e-01, -1.9200e-01,  9.6577e-01, -1.8797e+00,  1.8856e-02,\n",
              "          9.1393e-01,  8.0252e-02,  2.8957e-02, -5.7934e-01, -8.6094e-01,\n",
              "          1.7709e-01,  4.8370e-01,  6.3448e-01, -2.2465e-01,  1.0764e+00,\n",
              "         -1.5862e-01, -8.2184e-01, -9.5544e-01,  2.9081e+00, -7.2929e-01,\n",
              "         -5.9224e-01, -1.0206e+00, -6.9165e-01, -4.8001e-01, -7.2435e-01,\n",
              "         -3.0413e-01, -6.7900e-01,  1.3231e+00,  5.8043e-01, -2.7087e-01,\n",
              "         -1.0211e-02, -6.6698e-01, -1.1886e-01,  5.7266e-02, -2.0354e+00,\n",
              "          7.1406e-01,  4.0104e-01, -1.0500e+00, -5.0345e-01, -5.2197e-01,\n",
              "         -1.6251e-01, -4.7062e-01,  1.5510e+00,  8.9758e-01, -4.3914e-01,\n",
              "          1.0200e+00, -5.4656e-01,  4.5287e-01,  6.2047e-01,  5.0075e-01,\n",
              "          1.2740e+00, -1.0930e+00, -7.2443e-01,  1.0106e-01, -7.1885e-01,\n",
              "          1.2961e+00,  3.5945e-01, -8.4915e-01, -2.6847e-01, -2.2779e-01,\n",
              "          2.2230e-01,  1.0092e+00, -1.8536e-02,  1.7301e-01, -2.8869e-01,\n",
              "         -2.0165e-01,  1.5916e+00, -1.9413e-01, -2.7247e-01,  1.1385e+00,\n",
              "         -1.1231e+00, -1.0128e+00, -3.7084e-01,  3.6451e-01,  5.1914e-01,\n",
              "         -1.9740e-01,  1.3929e-01,  1.9796e+00, -6.7776e-01, -5.5337e-01,\n",
              "          8.1885e-01, -7.1203e-01, -4.1131e-01,  3.3586e-01,  9.1158e-01,\n",
              "         -5.2633e-01, -1.3451e-01, -1.0049e+00,  1.1145e+00,  9.9364e-01,\n",
              "         -8.8750e-01, -1.3296e+00, -7.5122e-02,  1.1754e+00,  1.6615e-01,\n",
              "          1.9643e+00, -1.2508e+00,  1.9581e+00,  2.4042e+00, -7.3200e-01,\n",
              "          8.6354e-01, -3.6957e-01, -3.0562e-01,  1.2237e-01, -1.1120e-01,\n",
              "         -2.7055e-01,  1.3303e+00,  6.9198e-01,  1.8516e-01,  6.4916e-01,\n",
              "          3.2103e-01,  6.3201e-01,  1.2632e-01, -2.3135e-01,  8.2995e-01,\n",
              "          1.4282e+00, -8.6638e-01, -2.0887e-01, -8.8821e-01,  1.2613e+00,\n",
              "          8.0149e-01, -1.0638e+00,  1.7956e-01,  3.6744e-01,  2.6049e-01,\n",
              "         -3.7320e-01, -1.1914e+00,  1.2557e+00,  9.2860e-01, -1.6059e-01,\n",
              "         -1.7311e-01, -1.4253e+00, -9.1547e-01, -1.0851e+00, -8.1799e-01,\n",
              "         -5.9779e-01, -2.7783e+00, -1.2334e-02, -3.4809e-01, -9.9707e-01,\n",
              "          5.7082e-01,  4.4724e-01,  1.2283e+00, -4.1165e-01, -6.0116e-01,\n",
              "         -5.9196e-01, -6.9317e-02,  2.5255e-01, -7.1320e-01,  1.0427e+00,\n",
              "         -4.8994e-01, -7.2902e-01, -2.5939e-01, -3.0153e-01, -4.0286e-01,\n",
              "          3.3920e-02, -1.2096e+00,  3.8956e-01, -2.1880e-01, -7.2786e-01,\n",
              "          2.1127e-01, -1.4492e+00, -2.2553e-01, -1.8226e-01,  1.9926e-01,\n",
              "          5.5108e-01, -1.0482e+00, -2.3507e-01, -2.5535e-01,  6.6550e-01,\n",
              "         -1.0600e+00, -1.6265e+00,  6.0623e-01,  1.7279e+00, -1.5032e-01,\n",
              "          6.5211e-02,  1.5141e+00,  2.8116e-02, -1.7856e-01,  4.3348e-01]])"
            ]
          },
          "metadata": {},
          "execution_count": 28
        }
      ]
    },
    {
      "cell_type": "code",
      "source": [
        "plt.hist(bnmean)"
      ],
      "metadata": {
        "id": "ovNaH0VrIvQl",
        "outputId": "1e885de9-b7f6-4513-baa3-47d16eb4b85c",
        "colab": {
          "base_uri": "https://localhost:8080/",
          "height": 517
        }
      },
      "execution_count": 20,
      "outputs": [
        {
          "output_type": "execute_result",
          "data": {
            "text/plain": [
              "(array([ 1.,  2., 10., 43., 57., 44., 24., 13.,  4.,  2.]),\n",
              " array([-2.77833343, -2.20968986, -1.64104629, -1.07240283, -0.50375926,\n",
              "         0.06488431,  0.63352787,  1.20217144,  1.7708149 ,  2.33945847,\n",
              "         2.90810204]),\n",
              " <BarContainer object of 10 artists>)"
            ]
          },
          "metadata": {},
          "execution_count": 20
        },
        {
          "output_type": "display_data",
          "data": {
            "text/plain": [
              "<Figure size 640x480 with 1 Axes>"
            ],
            "image/png": "[encoded data removed]"
          },
          "metadata": {}
        }
      ]
    },
    {
      "cell_type": "code",
      "source": [
        "plt.hist(bnstd)"
      ],
      "metadata": {
        "id": "eRkm3HDKI4vN",
        "outputId": "4974f396-0ef4-4224-b4aa-df4050126f91",
        "colab": {
          "base_uri": "https://localhost:8080/",
          "height": 517
        }
      },
      "execution_count": 21,
      "outputs": [
        {
          "output_type": "execute_result",
          "data": {
            "text/plain": [
              "(array([ 5., 30., 19.,  4., 13., 49., 51., 20.,  6.,  3.]),\n",
              " array([1.2052716 , 1.50816751, 1.81106341, 2.11395931, 2.4168551 ,\n",
              "        2.71975112, 3.0226469 , 3.32554293, 3.62843871, 3.93133473,\n",
              "        4.23423052]),\n",
              " <BarContainer object of 10 artists>)"
            ]
          },
          "metadata": {},
          "execution_count": 21
        },
        {
          "output_type": "display_data",
          "data": {
            "text/plain": [
              "<Figure size 640x480 with 1 Axes>"
            ],
            "image/png": "[encoded data removed]"
          },
          "metadata": {}
        }
      ]
    },
    {
      "cell_type": "code",
      "source": [
        "@torch.no_grad()\n",
        "def split_loss(split):\n",
        "  x, y = {\n",
        "      'train': (Xtr, Ytr),\n",
        "      'val': (Xdev, Ydev),\n",
        "      'test': (Xte, Yte)\n",
        "  }[split]\n",
        "  emb = C[x]\n",
        "  embcat = emb.view(emb.shape[0], -1)\n",
        "  wi1 = embcat @ w1\n",
        "  wi1b = wi1 + b1\n",
        "  wi1b = bngain * (wi1b - bnmean_running) / bnstd_running + bnbias\n",
        "  wi1ba = wi1b.tanh()\n",
        "  wi2 = wi1ba @ w2\n",
        "  logits = wi2 + b2\n",
        "  loss = F.cross_entropy(logits, y)\n",
        "  return loss.item()\n",
        "\n",
        "print('train', split_loss('train'))\n",
        "print('val', split_loss('val'))"
      ],
      "metadata": {
        "id": "tbKZ5MefGZ5n",
        "outputId": "c88c9950-9551-4bd4-8c57-5ed33b62f415",
        "colab": {
          "base_uri": "https://localhost:8080/"
        }
      },
      "execution_count": 29,
      "outputs": [
        {
          "output_type": "stream",
          "name": "stdout",
          "text": [
            "train 2.1058356761932373\n",
            "val 2.142245054244995\n"
          ]
        }
      ]
    },
    {
      "cell_type": "code",
      "source": [
        "plt.plot(stepi, lossi)"
      ],
      "metadata": {
        "colab": {
          "base_uri": "https://localhost:8080/",
          "height": 447
        },
        "id": "WJDq-8tZvb9T",
        "outputId": "5f2cc8df-b0f6-4362-9cb4-2d0cdc970fc3"
      },
      "execution_count": 23,
      "outputs": [
        {
          "output_type": "execute_result",
          "data": {
            "text/plain": [
              "[<matplotlib.lines.Line2D at 0x7cb4abf78040>]"
            ]
          },
          "metadata": {},
          "execution_count": 23
        },
        {
          "output_type": "display_data",
          "data": {
            "text/plain": [
              "<Figure size 640x480 with 1 Axes>"
            ],
            "image/png": "[encoded data removed]"
          },
          "metadata": {}
        }
      ]
    },
    {
      "cell_type": "code",
      "source": [
        "def prompt(cx, max_length=15, samples=1):\n",
        "  for x in range(samples):\n",
        "    out = [stoi[c] for c in cx]\n",
        "    if len(cx) > block_size:\n",
        "      cx = cx[-block_size:]\n",
        "    context = [0]*(block_size - len(cx)) + out\n",
        "    while True:\n",
        "      emb = C[context]\n",
        "      wi1 = emb.view(-1, block_size * n_embd) @ w1\n",
        "      wi1b = wi1 + b1\n",
        "      wi1ba = wi1b.tanh()\n",
        "      wi2 = wi1ba @ w2\n",
        "      logits = wi2 + b2\n",
        "      probs = F.softmax(logits, dim=1)\n",
        "      ix = torch.multinomial(probs, num_samples=1).item()\n",
        "      context = context[1:] + [ix]\n",
        "      out.append(ix)\n",
        "      if ix == 0:\n",
        "        break\n",
        "    print(''.join(itos[i] for i in out))\n",
        "\n",
        "prompt(\"bro\", samples=10)"
      ],
      "metadata": {
        "id": "KCmF27QgVEoY",
        "colab": {
          "base_uri": "https://localhost:8080/"
        },
        "outputId": "026a9ac8-2019-4e64-81c2-b15fc2b13110"
      },
      "execution_count": 24,
      "outputs": [
        {
          "output_type": "stream",
          "name": "stdout",
          "text": [
            "broxton.\n",
            "browsishahly.\n",
            "brock.\n",
            "brotel.\n",
            "brockespurhestephtis.\n",
            "broghnoxxweoluwavajahabbky.\n",
            "brockelizabeksencesseythan.\n",
            "broxber.\n",
            "brogesethm.\n",
            "broxconfiellyxton.\n"
          ]
        }
      ]
    },
    {
      "cell_type": "code",
      "source": [
        "prompt(\"z\", samples=10)"
      ],
      "metadata": {
        "id": "3Yx6gbVk8QkZ",
        "outputId": "d205a8b1-cec8-4705-805d-86f054eaac88",
        "colab": {
          "base_uri": "https://localhost:8080/"
        }
      },
      "execution_count": 25,
      "outputs": [
        {
          "output_type": "stream",
          "name": "stdout",
          "text": [
            "zohristielliah.\n",
            "zulavon.\n",
            "zephtel.\n",
            "zedrickleesahith.\n",
            "zhasphnathaszoxiahirlishyleystafghn.\n",
            "zaqipalbphtg.\n",
            "zyshangelizzumarchastafbrockynsleygpighten.\n",
            "zakingstly.\n",
            "zhannahellanashyfabreslynestephtalicicelexxwphrashirajdazelilvinestwestephoramylesheppetel.\n",
            "zacebastia.\n"
          ]
        }
      ]
    },
    {
      "cell_type": "code",
      "source": [
        "for _ in range(20):\n",
        "  out = []\n",
        "  context = [0] * block_size\n",
        "  while True:\n",
        "    emb = C[context]\n",
        "    wi1 = emb.view(-1, block_size * n_embd) @ w1\n",
        "    wi1b = wi1 + b1\n",
        "    wi1ba = wi1b.tanh()\n",
        "    wi2 = wi1ba @ w2\n",
        "    logits = wi2 + b2\n",
        "    probs = F.softmax(logits, dim=1)\n",
        "    ix = torch.multinomial(probs, num_samples=1).item()\n",
        "    context = context[1:] + [ix]\n",
        "    out.append(ix)\n",
        "    if ix == 0:\n",
        "      break\n",
        "  print(''.join(itos[i] for i in out))"
      ],
      "metadata": {
        "id": "CG_a6Jhz5rAl",
        "outputId": "ce843fd9-c7ba-4862-82da-85b560e9e46d",
        "colab": {
          "base_uri": "https://localhost:8080/"
        }
      },
      "execution_count": 26,
      "outputs": [
        {
          "output_type": "stream",
          "name": "stdout",
          "text": [
            "qubfinezieldongtrett.\n",
            "oraharajahristirmahicesavajaedamolowringslyn.\n",
            "trishylossipham.\n",
            "dakecharlystiahan.\n",
            "codyicassiraidhag.\n",
            "qub.\n",
            "gie.\n",
            "quisharshensenacileazfalestephten.\n",
            "qubushyahielstoppiematthentas.\n",
            "kaxsaidenesswaysenashwardaniahbbunty.\n",
            "gzy.\n",
            "javah.\n",
            "khasrinesinglyn.\n",
            "quelishanfercisponahyrtieelizahitrixfaxonow.\n",
            "zhyn.\n",
            "khaliahjaylahalucklor.\n",
            "cacundyrosephan.\n",
            "kishylique.\n",
            "gladahels.\n",
            "adrepstisochikishawquelyx.\n"
          ]
        }
      ]
    },
    {
      "cell_type": "code",
      "source": [
        "prompt('z', samples=10)\n",
        "print('\\n')\n",
        "prompt('w', samples=10)"
      ],
      "metadata": {
        "colab": {
          "base_uri": "https://localhost:8080/"
        },
        "id": "CJG8VVHWyhlx",
        "outputId": "5d43c18e-6498-4903-a965-9fe898233a20"
      },
      "execution_count": null,
      "outputs": [
        {
          "output_type": "stream",
          "name": "stdout",
          "text": [
            "zayrittaida.\n",
            "zakaremontriah.\n",
            "zuly.\n",
            "zamiki.\n",
            "zavianna.\n",
            "zamars.\n",
            "zanniella.\n",
            "zarvon.\n",
            "zanna.\n",
            "zad.\n",
            "\n",
            "\n",
            "wend.\n",
            "whanna.\n",
            "wardoni.\n",
            "wabell.\n",
            "weson.\n",
            "whanylon.\n",
            "wer.\n",
            "wen.\n",
            "wretton.\n",
            "wose.\n"
          ]
        }
      ]
    },
    {
      "cell_type": "code",
      "source": [
        "plt.figure(figsize=(8,8))\n",
        "plt.scatter(C[:, 0].data, C[:, 1].data, s=200)\n",
        "for i in range(C.shape[0]):\n",
        "  plt.text(C[i,0].item(), C[i, 1].item(), itos[i], ha='center', va='center', color='white')\n",
        "plt.grid('minor')"
      ],
      "metadata": {
        "colab": {
          "base_uri": "https://localhost:8080/",
          "height": 676
        },
        "id": "C8XUTz6nxgLT",
        "outputId": "83d8252a-0d78-4fa1-abb8-e83b60df5920"
      },
      "execution_count": null,
      "outputs": [
        {
          "output_type": "display_data",
          "data": {
            "text/plain": [
              "<Figure size 800x800 with 1 Axes>"
            ],
            "image/png": "[encoded data removed]"
          },
          "metadata": {}
        }
      ]
    },
    {
      "cell_type": "markdown",
      "source": [
        "thought it was overfitting for a second there"
      ],
      "metadata": {
        "id": "IYz7-r17xT-T"
      }
    },
    {
      "cell_type": "code",
      "source": [
        "torch.randint(0, X.shape[0], (32,))"
      ],
      "metadata": {
        "id": "V31_y7JFaMMb",
        "colab": {
          "base_uri": "https://localhost:8080/"
        },
        "outputId": "d8e12375-7d44-45f2-fb16-3cca9593ba1e"
      },
      "execution_count": null,
      "outputs": [
        {
          "output_type": "execute_result",
          "data": {
            "text/plain": [
              "tensor([213172,  33749, 118165, 118634, 212100,  75679,  20942,   7685, 159424,\n",
              "        104630, 193800, 190421,  69472,  14163,  65536,   7638,  74692,  55967,\n",
              "         18268, 151616,  68461,  73037, 130511, 196220,  25284, 118811,  17529,\n",
              "         98684, 158170,  21724,  96713,  95438])"
            ]
          },
          "metadata": {},
          "execution_count": 40
        }
      ]
    },
    {
      "cell_type": "code",
      "source": [
        "# train, val, test split\n",
        "# 80%, 10%, 10%\n"
      ],
      "metadata": {
        "id": "ZS5oW7wmfvAh"
      },
      "execution_count": null,
      "outputs": []
    }
  ]
}