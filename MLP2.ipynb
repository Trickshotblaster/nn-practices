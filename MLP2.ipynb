{
  "nbformat": 4,
  "nbformat_minor": 0,
  "metadata": {
    "colab": {
      "provenance": [],
      "authorship_tag": "ABX9TyO1TVKGrhAsNc7f7LX/Pb9C",
      "include_colab_link": true
    },
    "kernelspec": {
      "name": "python3",
      "display_name": "Python 3"
    },
    "language_info": {
      "name": "python"
    }
  },
  "cells": [
    {
      "cell_type": "markdown",
      "metadata": {
        "id": "view-in-github",
        "colab_type": "text"
      },
      "source": [
        "<a href=\"https://colab.research.google.com/github/Trickshotblaster/nn-practices/blob/main/MLP2.ipynb\" target=\"_parent\"><img src=\"https://colab.research.google.com/assets/colab-badge.svg\" alt=\"Open In Colab\"/></a>"
      ]
    },
    {
      "cell_type": "code",
      "execution_count": 1,
      "metadata": {
        "id": "-fiyn4RDHgUG"
      },
      "outputs": [],
      "source": [
        "import requests\n",
        "\n",
        "url = 'https://raw.githubusercontent.com/karpathy/makemore/master/names.txt'\n",
        "\n",
        "response = requests.get(url)\n",
        "\n",
        "with open('names.txt', 'wb') as f:\n",
        "  f.write(response.content)"
      ]
    },
    {
      "cell_type": "code",
      "source": [
        "import torch\n",
        "import torch.nn.functional as F\n",
        "import matplotlib.pyplot as plt\n",
        "%matplotlib inline"
      ],
      "metadata": {
        "id": "kLD2Wy_sHoVP"
      },
      "execution_count": 2,
      "outputs": []
    },
    {
      "cell_type": "code",
      "source": [
        "words = open('names.txt', 'r').read().splitlines()\n",
        "words[:8]"
      ],
      "metadata": {
        "colab": {
          "base_uri": "https://localhost:8080/"
        },
        "id": "88ggro_GHxUL",
        "outputId": "fa922656-936b-45ee-86b9-cff0041eddef"
      },
      "execution_count": 3,
      "outputs": [
        {
          "output_type": "execute_result",
          "data": {
            "text/plain": [
              "['emma', 'olivia', 'ava', 'isabella', 'sophia', 'charlotte', 'mia', 'amelia']"
            ]
          },
          "metadata": {},
          "execution_count": 3
        }
      ]
    },
    {
      "cell_type": "code",
      "source": [
        "len(words)"
      ],
      "metadata": {
        "colab": {
          "base_uri": "https://localhost:8080/"
        },
        "id": "Sp-ZkQeHH8dM",
        "outputId": "52cb3efd-ea31-434b-c047-b2fa39afa7f7"
      },
      "execution_count": 4,
      "outputs": [
        {
          "output_type": "execute_result",
          "data": {
            "text/plain": [
              "32033"
            ]
          },
          "metadata": {},
          "execution_count": 4
        }
      ]
    },
    {
      "cell_type": "code",
      "source": [
        "# stoi and itos\n",
        "chars = sorted(list(set(''.join(words))))\n",
        "stoi = {char:i+1 for i, char in enumerate(chars)}\n",
        "stoi['.'] = 0\n",
        "itos = {i:char for char, i in stoi.items()}\n",
        "print(itos)"
      ],
      "metadata": {
        "colab": {
          "base_uri": "https://localhost:8080/"
        },
        "id": "CrRzXj6_H9_p",
        "outputId": "4e29972e-2dfd-44fa-e549-a548014e6ccc"
      },
      "execution_count": 5,
      "outputs": [
        {
          "output_type": "stream",
          "name": "stdout",
          "text": [
            "{1: 'a', 2: 'b', 3: 'c', 4: 'd', 5: 'e', 6: 'f', 7: 'g', 8: 'h', 9: 'i', 10: 'j', 11: 'k', 12: 'l', 13: 'm', 14: 'n', 15: 'o', 16: 'p', 17: 'q', 18: 'r', 19: 's', 20: 't', 21: 'u', 22: 'v', 23: 'w', 24: 'x', 25: 'y', 26: 'z', 0: '.'}\n"
          ]
        }
      ]
    },
    {
      "cell_type": "code",
      "source": [
        "vocab_size = len(chars) + 1"
      ],
      "metadata": {
        "id": "Mt2vnIpwhvQb"
      },
      "execution_count": 6,
      "outputs": []
    },
    {
      "cell_type": "code",
      "source": [
        "block_size = 3"
      ],
      "metadata": {
        "id": "lCnusZyM9Vkd"
      },
      "execution_count": 7,
      "outputs": []
    },
    {
      "cell_type": "code",
      "source": [
        "# make dataset\n",
        "def build_dataset(words):\n",
        "  X, Y = [], []\n",
        "  for w in words:\n",
        "    #print(w)\n",
        "    context = [0] * block_size # list of zeros of length block size\n",
        "    for ch in w + '.':\n",
        "      ix = stoi[ch]\n",
        "      X.append(context)\n",
        "      Y.append(ix)\n",
        "      #print(''.join(itos[i] for i in context), '---->', itos[ix])\n",
        "      context = context[1:] + [ix] # crop to remove previous, append new to end\n",
        "\n",
        "  X = torch.tensor(X)\n",
        "  Y = torch.tensor(Y)\n",
        "  print(X.shape, Y.shape)\n",
        "  return X, Y\n",
        "\n",
        "import random\n",
        "random.seed(42)\n",
        "random.shuffle(words)\n",
        "n1 = int(0.8*len(words))\n",
        "n2 = int(0.9*len(words))\n",
        "Xtr, Ytr = build_dataset(words[:n1])\n",
        "Xdev, Ydev = build_dataset(words[n1:n2])\n",
        "Xte, Yte = build_dataset(words[n2:])\n",
        "\n",
        "X, Y = build_dataset(words)"
      ],
      "metadata": {
        "id": "uNUt-PmgI50U",
        "colab": {
          "base_uri": "https://localhost:8080/"
        },
        "outputId": "a136e6f2-44d7-4e1d-c114-92a9cd7e1448"
      },
      "execution_count": 8,
      "outputs": [
        {
          "output_type": "stream",
          "name": "stdout",
          "text": [
            "torch.Size([182625, 3]) torch.Size([182625])\n",
            "torch.Size([22655, 3]) torch.Size([22655])\n",
            "torch.Size([22866, 3]) torch.Size([22866])\n",
            "torch.Size([228146, 3]) torch.Size([228146])\n"
          ]
        }
      ]
    },
    {
      "cell_type": "code",
      "source": [
        "X.shape, X.dtype, Y.shape, Y.dtype"
      ],
      "metadata": {
        "colab": {
          "base_uri": "https://localhost:8080/"
        },
        "id": "ZZvm2Lj-Kpq9",
        "outputId": "2da23b69-188a-4c40-decc-c24aa3a64077"
      },
      "execution_count": 9,
      "outputs": [
        {
          "output_type": "execute_result",
          "data": {
            "text/plain": [
              "(torch.Size([228146, 3]), torch.int64, torch.Size([228146]), torch.int64)"
            ]
          },
          "metadata": {},
          "execution_count": 9
        }
      ]
    },
    {
      "cell_type": "code",
      "source": [
        "Xtr.shape, Ytr.shape"
      ],
      "metadata": {
        "colab": {
          "base_uri": "https://localhost:8080/"
        },
        "id": "b1ExOiJdryQa",
        "outputId": "b352179a-3925-476f-f0bd-65f13cf21b25"
      },
      "execution_count": 10,
      "outputs": [
        {
          "output_type": "execute_result",
          "data": {
            "text/plain": [
              "(torch.Size([182625, 3]), torch.Size([182625]))"
            ]
          },
          "metadata": {},
          "execution_count": 10
        }
      ]
    },
    {
      "cell_type": "code",
      "source": [
        "n_embd = 10\n",
        "n_hidden = 200"
      ],
      "metadata": {
        "id": "OXzqNpTc9PVd"
      },
      "execution_count": 11,
      "outputs": []
    },
    {
      "cell_type": "code",
      "source": [
        "C = torch.randn((vocab_size, n_embd))\n",
        "w1 = torch.randn(block_size*n_embd, n_hidden) * 0.2\n",
        "b1 = torch.randn(n_hidden) * 0.01\n",
        "w2 = torch.randn(n_hidden, vocab_size) * 0.01\n",
        "b2 = torch.randn(vocab_size) * 0\n",
        "\n",
        "parameters = [C, w1, b1, w2, b2]\n",
        "weights = [C, w1, w2]\n",
        "for p in parameters:\n",
        "  p.requires_grad = True\n"
      ],
      "metadata": {
        "id": "Y3bPMri3NnAo"
      },
      "execution_count": 78,
      "outputs": []
    },
    {
      "cell_type": "code",
      "source": [
        "sum(p.nelement() for p in parameters)"
      ],
      "metadata": {
        "id": "8bMV3PLm2VEX",
        "outputId": "7e377347-fe3a-4fcb-e29c-38016c69f19f",
        "colab": {
          "base_uri": "https://localhost:8080/"
        }
      },
      "execution_count": 51,
      "outputs": [
        {
          "output_type": "execute_result",
          "data": {
            "text/plain": [
              "11897"
            ]
          },
          "metadata": {},
          "execution_count": 51
        }
      ]
    },
    {
      "cell_type": "code",
      "source": [
        "lre = torch.linspace(-3, 0, 100000)\n",
        "lrs = 10**lre\n"
      ],
      "metadata": {
        "id": "Fbm1qKHhcCwp"
      },
      "execution_count": 52,
      "outputs": []
    },
    {
      "cell_type": "code",
      "source": [
        "lri = []\n",
        "lossi = []\n",
        "stepi = []"
      ],
      "metadata": {
        "id": "P1ZIEQo62pjT"
      },
      "execution_count": 71,
      "outputs": []
    },
    {
      "cell_type": "code",
      "source": [
        "max_steps = 200000\n",
        "batch_size = 32\n",
        "\n",
        "for x in range(max_steps):\n",
        "\n",
        "  # minibatch\n",
        "  ix = torch.randint(0, Xtr.shape[0], (batch_size, ))\n",
        "\n",
        "\n",
        "  emb = C[Xtr[ix]]\n",
        "  wi1 = emb.view(-1, block_size * n_embd) @ w1\n",
        "  wi1b = wi1 + b1\n",
        "  wi1ba = wi1b.tanh()\n",
        "  wi2 = wi1ba @ w2\n",
        "  logits = wi2 + b2\n",
        "\n",
        "\n",
        "\n",
        "  for p in parameters:\n",
        "    p.grad = None\n",
        "\n",
        "  # regularization\n",
        "  loss = F.cross_entropy(logits, Ytr[ix]) + (torch.tensor([w.mean() for w in weights]).mean() * 0.1)\n",
        "\n",
        "  if x % 5000 == 0:\n",
        "    print(loss.item())\n",
        "  loss.backward()\n",
        "  lr = 0.001 if x < 100 else 0.2 / (1+((1e-5) * x))\n",
        "  for p in parameters:\n",
        "    p.data += -lr * p.grad\n",
        "\n",
        "  stepi.append(x)\n",
        "  lossi.append(loss.log10().item())\n",
        "\n",
        "\n",
        "print(loss.log10().item())"
      ],
      "metadata": {
        "colab": {
          "base_uri": "https://localhost:8080/"
        },
        "id": "hASN8gqCLzlU",
        "outputId": "a9061d1a-dbc6-4fa4-a725-44d8ec0b5001"
      },
      "execution_count": 79,
      "outputs": [
        {
          "output_type": "stream",
          "name": "stdout",
          "text": [
            "3.2880163192749023\n",
            "2.336575508117676\n",
            "2.0609805583953857\n",
            "2.1098358631134033\n",
            "2.160980463027954\n",
            "2.0973470211029053\n",
            "2.2814972400665283\n",
            "2.029536008834839\n",
            "2.396605968475342\n",
            "1.7119954824447632\n",
            "1.9698203802108765\n",
            "2.3525006771087646\n",
            "2.1092236042022705\n",
            "1.9522442817687988\n",
            "1.893015742301941\n",
            "1.8543109893798828\n",
            "2.131929874420166\n",
            "2.43033504486084\n",
            "1.883689522743225\n",
            "2.1767613887786865\n",
            "2.1678550243377686\n",
            "2.7589313983917236\n",
            "1.8761839866638184\n",
            "1.7942596673965454\n",
            "2.1286020278930664\n",
            "1.9204847812652588\n",
            "2.3427648544311523\n",
            "1.9110013246536255\n",
            "1.8118113279342651\n",
            "1.8659262657165527\n",
            "1.8501840829849243\n",
            "1.978672981262207\n",
            "2.213918447494507\n",
            "2.0245633125305176\n",
            "2.0466206073760986\n",
            "2.124995231628418\n",
            "2.176093339920044\n",
            "1.8857756853103638\n",
            "2.0902631282806396\n",
            "2.1082541942596436\n",
            "0.3185484707355499\n"
          ]
        }
      ]
    },
    {
      "cell_type": "code",
      "source": [
        "plt.figure(figsize=(20,10))\n",
        "plt.imshow(wi1ba.abs() > 0.99, cmap='gray', interpolation='nearest')"
      ],
      "metadata": {
        "id": "HPGFp3G59uyb",
        "outputId": "ba03dfb9-3af9-4d67-ca91-3f2eb953c1b9",
        "colab": {
          "base_uri": "https://localhost:8080/",
          "height": 328
        }
      },
      "execution_count": 80,
      "outputs": [
        {
          "output_type": "execute_result",
          "data": {
            "text/plain": [
              "<matplotlib.image.AxesImage at 0x7d22ba33e6e0>"
            ]
          },
          "metadata": {},
          "execution_count": 80
        },
        {
          "output_type": "display_data",
          "data": {
            "text/plain": [
              "<Figure size 2000x1000 with 1 Axes>"
            ],
            "image/png": "[encoded data removed]"
          },
          "metadata": {}
        }
      ]
    },
    {
      "cell_type": "code",
      "source": [
        "plt.hist(wi1ba.view(-1).tolist())"
      ],
      "metadata": {
        "id": "EIL7aqLe7Pt_",
        "outputId": "cea0a833-c433-4b9e-c9f0-262068119751",
        "colab": {
          "base_uri": "https://localhost:8080/",
          "height": 501
        }
      },
      "execution_count": 81,
      "outputs": [
        {
          "output_type": "execute_result",
          "data": {
            "text/plain": [
              "(array([1589.,  294.,  253.,  239.,  918.,  903.,  256.,  210.,  311.,\n",
              "        1427.]),\n",
              " array([-1. , -0.8, -0.6, -0.4, -0.2,  0. ,  0.2,  0.4,  0.6,  0.8,  1. ]),\n",
              " <BarContainer object of 10 artists>)"
            ]
          },
          "metadata": {},
          "execution_count": 81
        },
        {
          "output_type": "display_data",
          "data": {
            "text/plain": [
              "<Figure size 640x480 with 1 Axes>"
            ],
            "image/png": "[encoded data removed]"
          },
          "metadata": {}
        }
      ]
    },
    {
      "cell_type": "code",
      "source": [
        "@torch.no_grad()\n",
        "def split_loss(split):\n",
        "  x, y = {\n",
        "      'train': (Xtr, Ytr),\n",
        "      'val': (Xdev, Ydev),\n",
        "      'test': (Xte, Yte)\n",
        "  }[split]\n",
        "  emb = C[x]\n",
        "  embcat = emb.view(emb.shape[0], -1)\n",
        "  h = torch.tanh(embcat @ w1 + b1)\n",
        "  logits = h @ w2 + b2\n",
        "  loss = F.cross_entropy(logits, y)\n",
        "  return loss.item()\n",
        "\n",
        "print('train', split_loss('train'))\n",
        "print('val', split_loss('val'))"
      ],
      "metadata": {
        "id": "tbKZ5MefGZ5n",
        "outputId": "8462ab3c-b1b4-40cd-de88-58735fe62aa8",
        "colab": {
          "base_uri": "https://localhost:8080/"
        }
      },
      "execution_count": 82,
      "outputs": [
        {
          "output_type": "stream",
          "name": "stdout",
          "text": [
            "train 2.0915684700012207\n",
            "val 2.153444528579712\n"
          ]
        }
      ]
    },
    {
      "cell_type": "code",
      "source": [
        "plt.plot(stepi, lossi)"
      ],
      "metadata": {
        "colab": {
          "base_uri": "https://localhost:8080/",
          "height": 448
        },
        "id": "WJDq-8tZvb9T",
        "outputId": "ac38d77d-c667-4622-c1ca-6234ecb16e9d"
      },
      "execution_count": 58,
      "outputs": [
        {
          "output_type": "execute_result",
          "data": {
            "text/plain": [
              "[<matplotlib.lines.Line2D at 0x7d22c64497e0>]"
            ]
          },
          "metadata": {},
          "execution_count": 58
        },
        {
          "output_type": "display_data",
          "data": {
            "text/plain": [
              "<Figure size 640x480 with 1 Axes>"
            ],
            "image/png": "[encoded data removed]"
          },
          "metadata": {}
        }
      ]
    },
    {
      "cell_type": "code",
      "source": [
        "def prompt(cx, max_length=15, samples=1):\n",
        "  for x in range(samples):\n",
        "    out = [stoi[c] for c in cx]\n",
        "    if len(cx) > block_size:\n",
        "      cx = cx[-block_size:]\n",
        "    context = [0]*(block_size - len(cx)) + out\n",
        "    while True:\n",
        "      emb = C[context]\n",
        "      wi1 = emb.view(-1, block_size * n_embd) @ w1\n",
        "      wi1b = wi1 + b1\n",
        "      wi1ba = wi1b.tanh()\n",
        "      wi2 = wi1ba @ w2\n",
        "      logits = wi2 + b2\n",
        "      probs = F.softmax(logits, dim=1)\n",
        "      ix = torch.multinomial(probs, num_samples=1).item()\n",
        "      context = context[1:] + [ix]\n",
        "      out.append(ix)\n",
        "      if ix == 0:\n",
        "        break\n",
        "    print(''.join(itos[i] for i in out))\n",
        "\n",
        "prompt(\"bro\", samples=10)"
      ],
      "metadata": {
        "id": "KCmF27QgVEoY",
        "colab": {
          "base_uri": "https://localhost:8080/"
        },
        "outputId": "67696acc-dd3f-466e-fe78-642e22e6f4e3"
      },
      "execution_count": 59,
      "outputs": [
        {
          "output_type": "stream",
          "name": "stdout",
          "text": [
            "broc.\n",
            "brodyn.\n",
            "bron.\n",
            "brodem.\n",
            "brodelis.\n",
            "broleyna.\n",
            "brony.\n",
            "brodysarielliaaten.\n",
            "brotasiya.\n",
            "brodeyaney.\n"
          ]
        }
      ]
    },
    {
      "cell_type": "code",
      "source": [
        "prompt(\"z\", samples=10)"
      ],
      "metadata": {
        "id": "3Yx6gbVk8QkZ",
        "outputId": "38ba1762-5b30-45c9-c8d6-453660b1432e",
        "colab": {
          "base_uri": "https://localhost:8080/"
        }
      },
      "execution_count": 60,
      "outputs": [
        {
          "output_type": "stream",
          "name": "stdout",
          "text": [
            "zaceselvin.\n",
            "zae.\n",
            "zariousie.\n",
            "zaydarchinys.\n",
            "zen.\n",
            "zymie.\n",
            "zawasso.\n",
            "zansh.\n",
            "zaire.\n",
            "zayze.\n"
          ]
        }
      ]
    },
    {
      "cell_type": "code",
      "source": [
        "for _ in range(20):\n",
        "  out = []\n",
        "  context = [0] * block_size\n",
        "  while True:\n",
        "    emb = C[context]\n",
        "    wi1 = emb.view(-1, block_size * n_embd) @ w1\n",
        "    wi1b = wi1 + b1\n",
        "    wi1ba = wi1b.tanh()\n",
        "    wi2 = wi1ba @ w2\n",
        "    logits = wi2 + b2\n",
        "    probs = F.softmax(logits, dim=1)\n",
        "    ix = torch.multinomial(probs, num_samples=1).item()\n",
        "    context = context[1:] + [ix]\n",
        "    out.append(ix)\n",
        "    if ix == 0:\n",
        "      break\n",
        "  print(''.join(itos[i] for i in out))"
      ],
      "metadata": {
        "id": "CG_a6Jhz5rAl",
        "outputId": "40a16875-da77-44bd-deb3-e3ebec807356",
        "colab": {
          "base_uri": "https://localhost:8080/"
        }
      },
      "execution_count": 61,
      "outputs": [
        {
          "output_type": "stream",
          "name": "stdout",
          "text": [
            "malandi.\n",
            "adelaofiya.\n",
            "raoya.\n",
            "relysslvyn.\n",
            "brdaliyah.\n",
            "breela.\n",
            "zarie.\n",
            "mic.\n",
            "lvith.\n",
            "jaeqes.\n",
            "mel.\n",
            "demi.\n",
            "ashahmi.\n",
            "zaineras.\n",
            "colden.\n",
            "faostyn.\n",
            "darrika.\n",
            "kenton.\n",
            "juavzir.\n",
            "nattinondean.\n"
          ]
        }
      ]
    },
    {
      "cell_type": "code",
      "source": [
        "prompt('z', samples=10)\n",
        "print('\\n')\n",
        "prompt('w', samples=10)"
      ],
      "metadata": {
        "colab": {
          "base_uri": "https://localhost:8080/"
        },
        "id": "CJG8VVHWyhlx",
        "outputId": "5d43c18e-6498-4903-a965-9fe898233a20"
      },
      "execution_count": null,
      "outputs": [
        {
          "output_type": "stream",
          "name": "stdout",
          "text": [
            "zayrittaida.\n",
            "zakaremontriah.\n",
            "zuly.\n",
            "zamiki.\n",
            "zavianna.\n",
            "zamars.\n",
            "zanniella.\n",
            "zarvon.\n",
            "zanna.\n",
            "zad.\n",
            "\n",
            "\n",
            "wend.\n",
            "whanna.\n",
            "wardoni.\n",
            "wabell.\n",
            "weson.\n",
            "whanylon.\n",
            "wer.\n",
            "wen.\n",
            "wretton.\n",
            "wose.\n"
          ]
        }
      ]
    },
    {
      "cell_type": "code",
      "source": [
        "plt.figure(figsize=(8,8))\n",
        "plt.scatter(C[:, 0].data, C[:, 1].data, s=200)\n",
        "for i in range(C.shape[0]):\n",
        "  plt.text(C[i,0].item(), C[i, 1].item(), itos[i], ha='center', va='center', color='white')\n",
        "plt.grid('minor')"
      ],
      "metadata": {
        "colab": {
          "base_uri": "https://localhost:8080/",
          "height": 676
        },
        "id": "C8XUTz6nxgLT",
        "outputId": "83d8252a-0d78-4fa1-abb8-e83b60df5920"
      },
      "execution_count": null,
      "outputs": [
        {
          "output_type": "display_data",
          "data": {
            "text/plain": [
              "<Figure size 800x800 with 1 Axes>"
            ],
            "image/png": "[encoded data removed]"
          },
          "metadata": {}
        }
      ]
    },
    {
      "cell_type": "markdown",
      "source": [
        "thought it was overfitting for a second there"
      ],
      "metadata": {
        "id": "IYz7-r17xT-T"
      }
    },
    {
      "cell_type": "code",
      "source": [
        "torch.randint(0, X.shape[0], (32,))"
      ],
      "metadata": {
        "id": "V31_y7JFaMMb",
        "colab": {
          "base_uri": "https://localhost:8080/"
        },
        "outputId": "d8e12375-7d44-45f2-fb16-3cca9593ba1e"
      },
      "execution_count": null,
      "outputs": [
        {
          "output_type": "execute_result",
          "data": {
            "text/plain": [
              "tensor([213172,  33749, 118165, 118634, 212100,  75679,  20942,   7685, 159424,\n",
              "        104630, 193800, 190421,  69472,  14163,  65536,   7638,  74692,  55967,\n",
              "         18268, 151616,  68461,  73037, 130511, 196220,  25284, 118811,  17529,\n",
              "         98684, 158170,  21724,  96713,  95438])"
            ]
          },
          "metadata": {},
          "execution_count": 40
        }
      ]
    },
    {
      "cell_type": "code",
      "source": [
        "# train, val, test split\n",
        "# 80%, 10%, 10%\n"
      ],
      "metadata": {
        "id": "ZS5oW7wmfvAh"
      },
      "execution_count": null,
      "outputs": []
    }
  ]
}