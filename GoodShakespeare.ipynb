{
  "nbformat": 4,
  "nbformat_minor": 0,
  "metadata": {
    "colab": {
      "provenance": [],
      "gpuType": "T4",
      "authorship_tag": "ABX9TyMLYFiCFZCOHJQRzWIJN6An",
      "include_colab_link": true
    },
    "kernelspec": {
      "name": "python3",
      "display_name": "Python 3"
    },
    "language_info": {
      "name": "python"
    },
    "accelerator": "GPU"
  },
  "cells": [
    {
      "cell_type": "markdown",
      "metadata": {
        "id": "view-in-github",
        "colab_type": "text"
      },
      "source": [
        "<a href=\"https://colab.research.google.com/github/Trickshotblaster/nn-practices/blob/main/GoodShakespeare.ipynb\" target=\"_parent\"><img src=\"https://colab.research.google.com/assets/colab-badge.svg\" alt=\"Open In Colab\"/></a>"
      ]
    },
    {
      "cell_type": "code",
      "execution_count": 1,
      "metadata": {
        "id": "yY1Z4GSP4kpa"
      },
      "outputs": [],
      "source": [
        "import requests\n",
        "\n",
        "url = 'https://raw.githubusercontent.com/karpathy/char-rnn/master/data/tinyshakespeare/input.txt'\n",
        "text = requests.get(url)"
      ]
    },
    {
      "cell_type": "code",
      "source": [
        "import random"
      ],
      "metadata": {
        "id": "_MhuV9pFk1zN"
      },
      "execution_count": 2,
      "outputs": []
    },
    {
      "cell_type": "code",
      "source": [
        "text = text.text"
      ],
      "metadata": {
        "id": "mb0kHEqg4xMS"
      },
      "execution_count": 3,
      "outputs": []
    },
    {
      "cell_type": "code",
      "source": [
        "text = text.lower()\n",
        "punc = '''!()-[]{};:'\"\\,<>./?@#$%^&*_~'''\n",
        "\n",
        "for ele in text:\n",
        "    if ele in punc:\n",
        "        text = text.replace(ele, \"\")"
      ],
      "metadata": {
        "id": "eaUVI0rY42x1"
      },
      "execution_count": 4,
      "outputs": []
    },
    {
      "cell_type": "code",
      "source": [
        "vocab = text.split()"
      ],
      "metadata": {
        "id": "AJyD920j4-xH"
      },
      "execution_count": 5,
      "outputs": []
    },
    {
      "cell_type": "code",
      "source": [
        "vocab_dict = set()\n",
        "for word in vocab:\n",
        "  if random.randint(1, 10) > 7:\n",
        "    vocab_dict.update([word])"
      ],
      "metadata": {
        "id": "vj5k8Fau5A3D"
      },
      "execution_count": 6,
      "outputs": []
    },
    {
      "cell_type": "code",
      "source": [
        "len(vocab_dict)"
      ],
      "metadata": {
        "colab": {
          "base_uri": "https://localhost:8080/"
        },
        "id": "yEaUNI-u5e2r",
        "outputId": "4b5bfa08-cc3c-49e3-8fef-a3440f8cd93b"
      },
      "execution_count": 7,
      "outputs": [
        {
          "output_type": "execute_result",
          "data": {
            "text/plain": [
              "6938"
            ]
          },
          "metadata": {},
          "execution_count": 7
        }
      ]
    },
    {
      "cell_type": "code",
      "source": [
        "vocab_dict = sorted(vocab_dict)"
      ],
      "metadata": {
        "id": "7EqF9ERD6fxL"
      },
      "execution_count": 8,
      "outputs": []
    },
    {
      "cell_type": "code",
      "source": [
        "stoi = {\"[PAD]\": 0, \"[UNK]\": 1}\n",
        "itos = {0: \"[PAD]\", 1: \"[UNK]\"}\n",
        "stoi.update({char:i+2 for i, char in enumerate(vocab_dict)})\n",
        "itos.update({i+2:char for i, char in enumerate(vocab_dict)})"
      ],
      "metadata": {
        "id": "dIV5fbje59uP"
      },
      "execution_count": 9,
      "outputs": []
    },
    {
      "cell_type": "code",
      "source": [
        "stoi['a']"
      ],
      "metadata": {
        "colab": {
          "base_uri": "https://localhost:8080/"
        },
        "id": "OOXsvIeEuH8N",
        "outputId": "bb15759e-1296-4b87-df72-930cb0d88206"
      },
      "execution_count": 10,
      "outputs": [
        {
          "output_type": "execute_result",
          "data": {
            "text/plain": [
              "3"
            ]
          },
          "metadata": {},
          "execution_count": 10
        }
      ]
    },
    {
      "cell_type": "code",
      "source": [
        "itos[stoi['a']]"
      ],
      "metadata": {
        "colab": {
          "base_uri": "https://localhost:8080/",
          "height": 35
        },
        "id": "dY6wiY_6uBLF",
        "outputId": "4aa99aa4-24d0-4afc-d8a0-2a2212ced240"
      },
      "execution_count": 11,
      "outputs": [
        {
          "output_type": "execute_result",
          "data": {
            "text/plain": [
              "'a'"
            ],
            "application/vnd.google.colaboratory.intrinsic+json": {
              "type": "string"
            }
          },
          "metadata": {},
          "execution_count": 11
        }
      ]
    },
    {
      "cell_type": "code",
      "source": [
        "class Tokenizer:\n",
        "  def __init__(self, stoi, itos, len=10):\n",
        "    self.stoi = stoi\n",
        "    self.itos = itos\n",
        "    self.len = len\n",
        "  def encode(self, text, crop=True, pad=True):\n",
        "    out = []\n",
        "    if crop:\n",
        "      for word in text.lower().split()[:self.len]:\n",
        "        if word in self.stoi:\n",
        "          out.append(self.stoi[word])\n",
        "        else:\n",
        "          out.append(1)\n",
        "      if pad:\n",
        "        out = [0] * (self.len - len(out)) + out\n",
        "      return out\n",
        "    else:\n",
        "      for word in text.lower().split():\n",
        "        if word in self.stoi:\n",
        "          out.append(self.stoi[word])\n",
        "        else:\n",
        "          out.append(1)\n",
        "      if pad:\n",
        "        out = [0] * (self.len - len(out)) + out\n",
        "      return out\n",
        "  def decode(self, ids):\n",
        "    out = \"\"\n",
        "    for id in ids:\n",
        "      if (id in self.itos) and id != 1:\n",
        "        out += self.itos[id] + \" \"\n",
        "      elif id==0:\n",
        "        out += '[PAD]'\n",
        "      else:\n",
        "        out += '[UNK] '\n",
        "    return out"
      ],
      "metadata": {
        "id": "YYif7lrG6uyB"
      },
      "execution_count": 12,
      "outputs": []
    },
    {
      "cell_type": "code",
      "source": [
        "tokenizer = Tokenizer(stoi, itos)"
      ],
      "metadata": {
        "id": "9NeN4k1x8fg4"
      },
      "execution_count": 13,
      "outputs": []
    },
    {
      "cell_type": "code",
      "source": [
        "tokenizer.encode(\"hello world\", pad=False)"
      ],
      "metadata": {
        "colab": {
          "base_uri": "https://localhost:8080/"
        },
        "id": "lhKIv2b98i7P",
        "outputId": "e9cd584e-e083-4b0e-8603-562044dc1743"
      },
      "execution_count": 14,
      "outputs": [
        {
          "output_type": "execute_result",
          "data": {
            "text/plain": [
              "[1, 6841]"
            ]
          },
          "metadata": {},
          "execution_count": 14
        }
      ]
    },
    {
      "cell_type": "code",
      "source": [
        "tokenizer.decode(tokenizer.encode(\"hello world\", pad=False))"
      ],
      "metadata": {
        "colab": {
          "base_uri": "https://localhost:8080/",
          "height": 35
        },
        "id": "MsfKP-XB4CMt",
        "outputId": "ff9fae46-3471-48b2-aa3a-9004da02ff20"
      },
      "execution_count": 15,
      "outputs": [
        {
          "output_type": "execute_result",
          "data": {
            "text/plain": [
              "'[UNK] world '"
            ],
            "application/vnd.google.colaboratory.intrinsic+json": {
              "type": "string"
            }
          },
          "metadata": {},
          "execution_count": 15
        }
      ]
    },
    {
      "cell_type": "code",
      "source": [
        "import torch"
      ],
      "metadata": {
        "id": "tSvA5LK788Im"
      },
      "execution_count": 16,
      "outputs": []
    },
    {
      "cell_type": "code",
      "source": [
        "import torch.nn.functional as F"
      ],
      "metadata": {
        "id": "ihNO403RjcPT"
      },
      "execution_count": 17,
      "outputs": []
    },
    {
      "cell_type": "code",
      "source": [
        "device = torch.device(\"cuda:0\" if torch.cuda.is_available() else \"cpu\")"
      ],
      "metadata": {
        "id": "E-SwIr4Z-rb9"
      },
      "execution_count": 18,
      "outputs": []
    },
    {
      "cell_type": "code",
      "source": [
        "num_epochs = 100000\n",
        "lr = 10\n",
        "batch_size = 64"
      ],
      "metadata": {
        "id": "_6_FqERW_I28"
      },
      "execution_count": 55,
      "outputs": []
    },
    {
      "cell_type": "code",
      "source": [
        "context_len = 3\n",
        "emb_dim = 20\n",
        "vocab_size = len(stoi)\n",
        "n_hidden = 200\n",
        "C = torch.randn(vocab_size, emb_dim).to(device)\n",
        "w1 = torch.randn(context_len * emb_dim, n_hidden).to(device) * 0.03\n",
        "b1 = torch.randn(n_hidden).to(device) * 0.01\n",
        "w2 = torch.randn(n_hidden, vocab_size).to(device) * 0.03\n",
        "b2 = torch.randn(vocab_size).to(device) * 0.01\n",
        "\n",
        "params = [C, w1, b1, w2, b2]\n",
        "for p in params:\n",
        "  p.requires_grad = True\n",
        "\n",
        "tokenizer = Tokenizer(stoi, itos, len=context_len)"
      ],
      "metadata": {
        "id": "ENZrsino89iC"
      },
      "execution_count": 88,
      "outputs": []
    },
    {
      "cell_type": "code",
      "source": [
        "def build_dataset(text):\n",
        "  xs = []\n",
        "  ys = []\n",
        "  tokenized_text = tokenizer.encode(text, crop=False)\n",
        "  context = [0] * (context_len)\n",
        "  for x in tokenized_text:\n",
        "    xs.append(context)\n",
        "    ys.append(x)\n",
        "    context = context[1:] + [x]\n",
        "  xs = torch.tensor(xs).to(device)\n",
        "  ys = torch.tensor(ys).to(device)\n",
        "  return xs, ys\n",
        "Xtr, Ytr = build_dataset(text)\n",
        "train_examples = len(Xtr) - 1"
      ],
      "metadata": {
        "id": "ieiNgYuHfFuP"
      },
      "execution_count": 89,
      "outputs": []
    },
    {
      "cell_type": "code",
      "source": [
        "epochs = torch.arange(num_epochs)\n",
        "losses = []"
      ],
      "metadata": {
        "id": "nPAuz-Ey8ft1"
      },
      "execution_count": 90,
      "outputs": []
    },
    {
      "cell_type": "code",
      "source": [
        "for epoch in range(num_epochs):\n",
        "  batch_indices = torch.randint(0, train_examples, (batch_size, ))\n",
        "  xs = Xtr[batch_indices]\n",
        "  ys = Ytr[batch_indices]\n",
        "  emb = C[xs].view(-1, emb_dim * context_len)\n",
        "  l1 = (emb @ w1 + b1).tanh()\n",
        "  logits = (l1 @ w2 + b2).tanh()\n",
        "  loss = F.cross_entropy(logits, ys)\n",
        "\n",
        "  losses.append(loss.item())\n",
        "\n",
        "  for p in params:\n",
        "    p.grad = None\n",
        "\n",
        "  loss.backward()\n",
        "\n",
        "  for p in params:\n",
        "    p.data -= p.grad * (lr * ((epoch+1) ** -0.5))\n",
        "\n",
        "  if epoch % 10000 == 0:\n",
        "    print(\"Epoch\", str(epoch) + \", loss:\", loss.item())\n"
      ],
      "metadata": {
        "colab": {
          "base_uri": "https://localhost:8080/"
        },
        "id": "pUkAfTx6i1xO",
        "outputId": "6ba4f9cc-2beb-4ff0-f193-ab23adf6fd6d"
      },
      "execution_count": 91,
      "outputs": [
        {
          "output_type": "stream",
          "name": "stdout",
          "text": [
            "Epoch 0, loss: 8.844220161437988\n",
            "Epoch 10000, loss: 7.639857769012451\n",
            "Epoch 20000, loss: 7.512453556060791\n",
            "Epoch 30000, loss: 7.665687561035156\n",
            "Epoch 40000, loss: 7.558454990386963\n",
            "Epoch 50000, loss: 7.424802780151367\n",
            "Epoch 60000, loss: 7.457253456115723\n",
            "Epoch 70000, loss: 7.506791591644287\n",
            "Epoch 80000, loss: 7.517706394195557\n",
            "Epoch 90000, loss: 7.565774917602539\n"
          ]
        }
      ]
    },
    {
      "cell_type": "code",
      "source": [
        "import matplotlib.pyplot as plt\n",
        "\n",
        "plt.plot(epochs.numpy(), losses)"
      ],
      "metadata": {
        "colab": {
          "base_uri": "https://localhost:8080/",
          "height": 447
        },
        "id": "1ksd5_sK9RrW",
        "outputId": "5640850b-fb69-4f52-a5cc-97a32e0e052e"
      },
      "execution_count": 92,
      "outputs": [
        {
          "output_type": "execute_result",
          "data": {
            "text/plain": [
              "[<matplotlib.lines.Line2D at 0x7d82026ee770>]"
            ]
          },
          "metadata": {},
          "execution_count": 92
        },
        {
          "output_type": "display_data",
          "data": {
            "text/plain": [
              "<Figure size 640x480 with 1 Axes>"
            ],
            "image/png": "[encoded data removed]"
          },
          "metadata": {}
        }
      ]
    },
    {
      "cell_type": "code",
      "source": [
        "Xtr[100]"
      ],
      "metadata": {
        "colab": {
          "base_uri": "https://localhost:8080/"
        },
        "id": "LSo_PxgC3qSL",
        "outputId": "639453f1-f1f1-4b75-d3d0-a42d98e9351f"
      },
      "execution_count": 93,
      "outputs": [
        {
          "output_type": "execute_result",
          "data": {
            "text/plain": [
              "tensor([3001, 6031, 6863], device='cuda:0')"
            ]
          },
          "metadata": {},
          "execution_count": 93
        }
      ]
    },
    {
      "cell_type": "code",
      "source": [
        "Ytr[100]"
      ],
      "metadata": {
        "colab": {
          "base_uri": "https://localhost:8080/"
        },
        "id": "LCqdxQUf3tLx",
        "outputId": "46415093-bcbd-42ed-f508-3ab01a6b3b39"
      },
      "execution_count": 94,
      "outputs": [
        {
          "output_type": "execute_result",
          "data": {
            "text/plain": [
              "tensor(6909, device='cuda:0')"
            ]
          },
          "metadata": {},
          "execution_count": 94
        }
      ]
    },
    {
      "cell_type": "code",
      "source": [
        "tokenizer.decode([Ytr[100].cpu().numpy().item()])"
      ],
      "metadata": {
        "id": "TV4BxCB1Du07",
        "outputId": "fc92e9f6-6cf6-42ac-d071-1d2eab99efd1",
        "colab": {
          "base_uri": "https://localhost:8080/",
          "height": 35
        }
      },
      "execution_count": 95,
      "outputs": [
        {
          "output_type": "execute_result",
          "data": {
            "text/plain": [
              "'yield '"
            ],
            "application/vnd.google.colaboratory.intrinsic+json": {
              "type": "string"
            }
          },
          "metadata": {},
          "execution_count": 95
        }
      ]
    },
    {
      "cell_type": "code",
      "source": [
        "tokenizer.decode(Xtr[100].cpu().numpy())"
      ],
      "metadata": {
        "colab": {
          "base_uri": "https://localhost:8080/",
          "height": 35
        },
        "id": "dm0v9kDD3vW3",
        "outputId": "b600ebe3-0163-405f-9098-4a797414e839"
      },
      "execution_count": 96,
      "outputs": [
        {
          "output_type": "execute_result",
          "data": {
            "text/plain": [
              "'if they would '"
            ],
            "application/vnd.google.colaboratory.intrinsic+json": {
              "type": "string"
            }
          },
          "metadata": {},
          "execution_count": 96
        }
      ]
    },
    {
      "cell_type": "code",
      "source": [
        "def prompt(text, len=10):\n",
        "  output = text + \" \"\n",
        "  for x in range(len):\n",
        "    xs = torch.tensor(tokenizer.encode(output)).to(device)\n",
        "    emb = C[xs].view(-1, emb_dim * context_len)\n",
        "    l1 = (emb @ w1 + b1).tanh()\n",
        "    logits = (l1 @ w2 + b2).tanh()\n",
        "    outs = logits.softmax(dim=1)\n",
        "    selected = torch.multinomial(outs, num_samples=1)[0].cpu().numpy()\n",
        "    outchar = tokenizer.decode(selected)\n",
        "    output += outchar\n",
        "  return output"
      ],
      "metadata": {
        "id": "wQyRO80BlcdG"
      },
      "execution_count": 99,
      "outputs": []
    },
    {
      "cell_type": "code",
      "source": [
        "prompt(\"romeo\")"
      ],
      "metadata": {
        "colab": {
          "base_uri": "https://localhost:8080/",
          "height": 35
        },
        "id": "w-gXmwqNmRT0",
        "outputId": "b41b7db5-04f0-4cbc-85e3-a7d4cf053038"
      },
      "execution_count": 100,
      "outputs": [
        {
          "output_type": "execute_result",
          "data": {
            "text/plain": [
              "'romeo stroke male ravisher follow on velvet realm freely done first '"
            ],
            "application/vnd.google.colaboratory.intrinsic+json": {
              "type": "string"
            }
          },
          "metadata": {},
          "execution_count": 100
        }
      ]
    },
    {
      "cell_type": "code",
      "source": [
        "prompt(tokenizer.decode(Xtr[100].cpu().numpy()))"
      ],
      "metadata": {
        "id": "yYUc51_3DhCp",
        "outputId": "7be5a90e-a635-4d24-ef9a-758bee976d48",
        "colab": {
          "base_uri": "https://localhost:8080/",
          "height": 35
        }
      },
      "execution_count": 101,
      "outputs": [
        {
          "output_type": "execute_result",
          "data": {
            "text/plain": [
              "'if they would  imagine nothing encourage feather late anon equals dreamd tell hath '"
            ],
            "application/vnd.google.colaboratory.intrinsic+json": {
              "type": "string"
            }
          },
          "metadata": {},
          "execution_count": 101
        }
      ]
    }
  ]
}