{
  "nbformat": 4,
  "nbformat_minor": 0,
  "metadata": {
    "colab": {
      "provenance": [],
      "gpuType": "T4",
      "authorship_tag": "ABX9TyOWMQuJgImvfyxf+2cX6mfW",
      "include_colab_link": true
    },
    "kernelspec": {
      "name": "python3",
      "display_name": "Python 3"
    },
    "language_info": {
      "name": "python"
    },
    "accelerator": "GPU"
  },
  "cells": [
    {
      "cell_type": "markdown",
      "metadata": {
        "id": "view-in-github",
        "colab_type": "text"
      },
      "source": [
        "<a href=\"https://colab.research.google.com/github/Trickshotblaster/nn-practices/blob/main/GoodShakespeare.ipynb\" target=\"_parent\"><img src=\"https://colab.research.google.com/assets/colab-badge.svg\" alt=\"Open In Colab\"/></a>"
      ]
    },
    {
      "cell_type": "code",
      "execution_count": 1,
      "metadata": {
        "id": "yY1Z4GSP4kpa"
      },
      "outputs": [],
      "source": [
        "import requests\n",
        "\n",
        "url = 'https://raw.githubusercontent.com/karpathy/char-rnn/master/data/tinyshakespeare/input.txt'\n",
        "text = requests.get(url)"
      ]
    },
    {
      "cell_type": "code",
      "source": [
        "import random"
      ],
      "metadata": {
        "id": "_MhuV9pFk1zN"
      },
      "execution_count": 2,
      "outputs": []
    },
    {
      "cell_type": "code",
      "source": [
        "text = text.text"
      ],
      "metadata": {
        "id": "mb0kHEqg4xMS"
      },
      "execution_count": 3,
      "outputs": []
    },
    {
      "cell_type": "code",
      "source": [
        "text = text.lower()\n",
        "punc = '''!()-[]{};:'\"\\,<>./?@#$%^&*_~'''\n",
        "\n",
        "for ele in punc:\n",
        "  if ele in text:\n",
        "    text = text.replace(ele, \"\")"
      ],
      "metadata": {
        "id": "eaUVI0rY42x1"
      },
      "execution_count": 4,
      "outputs": []
    },
    {
      "cell_type": "code",
      "source": [
        "vocab = text.split()"
      ],
      "metadata": {
        "id": "AJyD920j4-xH"
      },
      "execution_count": 5,
      "outputs": []
    },
    {
      "cell_type": "code",
      "source": [
        "vocab_dict = set()\n",
        "for word in vocab:\n",
        "  if random.randint(1, 100) > 85:\n",
        "    vocab_dict.update([word])"
      ],
      "metadata": {
        "id": "vj5k8Fau5A3D"
      },
      "execution_count": 6,
      "outputs": []
    },
    {
      "cell_type": "code",
      "source": [
        "len(vocab_dict)"
      ],
      "metadata": {
        "colab": {
          "base_uri": "https://localhost:8080/"
        },
        "id": "yEaUNI-u5e2r",
        "outputId": "d22f818b-266c-4662-cda6-a37f21d6e7aa"
      },
      "execution_count": 7,
      "outputs": [
        {
          "output_type": "execute_result",
          "data": {
            "text/plain": [
              "4768"
            ]
          },
          "metadata": {},
          "execution_count": 7
        }
      ]
    },
    {
      "cell_type": "code",
      "source": [
        "vocab_dict = sorted(vocab_dict)"
      ],
      "metadata": {
        "id": "7EqF9ERD6fxL"
      },
      "execution_count": 8,
      "outputs": []
    },
    {
      "cell_type": "code",
      "source": [
        "stoi = {\"[PAD]\": 0, \"[UNK]\": 1}\n",
        "itos = {0: \"[PAD]\", 1: \"[UNK]\"}\n",
        "stoi.update({char:i+2 for i, char in enumerate(vocab_dict)})\n",
        "itos.update({i+2:char for i, char in enumerate(vocab_dict)})"
      ],
      "metadata": {
        "id": "dIV5fbje59uP"
      },
      "execution_count": 9,
      "outputs": []
    },
    {
      "cell_type": "code",
      "source": [
        "stoi['a']"
      ],
      "metadata": {
        "colab": {
          "base_uri": "https://localhost:8080/"
        },
        "id": "OOXsvIeEuH8N",
        "outputId": "79da7595-e59b-4bf9-da11-af27ddbd1bf4"
      },
      "execution_count": 10,
      "outputs": [
        {
          "output_type": "execute_result",
          "data": {
            "text/plain": [
              "3"
            ]
          },
          "metadata": {},
          "execution_count": 10
        }
      ]
    },
    {
      "cell_type": "code",
      "source": [
        "itos[stoi['a']]"
      ],
      "metadata": {
        "colab": {
          "base_uri": "https://localhost:8080/",
          "height": 35
        },
        "id": "dY6wiY_6uBLF",
        "outputId": "10c31ccc-7c13-4abc-c061-925fee8bee04"
      },
      "execution_count": 11,
      "outputs": [
        {
          "output_type": "execute_result",
          "data": {
            "text/plain": [
              "'a'"
            ],
            "application/vnd.google.colaboratory.intrinsic+json": {
              "type": "string"
            }
          },
          "metadata": {},
          "execution_count": 11
        }
      ]
    },
    {
      "cell_type": "code",
      "source": [
        "class Tokenizer:\n",
        "  def __init__(self, stoi, itos, len=10):\n",
        "    self.stoi = stoi\n",
        "    self.itos = itos\n",
        "    self.len = len\n",
        "  def encode(self, text, crop=True, pad=True):\n",
        "    out = []\n",
        "    if crop:\n",
        "      for word in text.lower().split()[:self.len]:\n",
        "        if word in self.stoi:\n",
        "          out.append(self.stoi[word])\n",
        "        else:\n",
        "          out.append(1)\n",
        "      if pad:\n",
        "        out = [0] * (self.len - len(out)) + out\n",
        "      return out\n",
        "    else:\n",
        "      for word in text.lower().split():\n",
        "        if word in self.stoi:\n",
        "          out.append(self.stoi[word])\n",
        "        else:\n",
        "          out.append(1)\n",
        "      if pad:\n",
        "        out = [0] * (self.len - len(out)) + out\n",
        "      return out\n",
        "  def decode(self, ids):\n",
        "    out = \"\"\n",
        "    for id in ids:\n",
        "      if (id in self.itos) and id != 1:\n",
        "        out += self.itos[id] + \" \"\n",
        "      elif id==0:\n",
        "        out += '[PAD]'\n",
        "      else:\n",
        "        out += '[UNK] '\n",
        "    return out"
      ],
      "metadata": {
        "id": "YYif7lrG6uyB"
      },
      "execution_count": 12,
      "outputs": []
    },
    {
      "cell_type": "code",
      "source": [
        "tokenizer = Tokenizer(stoi, itos)"
      ],
      "metadata": {
        "id": "9NeN4k1x8fg4"
      },
      "execution_count": 13,
      "outputs": []
    },
    {
      "cell_type": "code",
      "source": [
        "tokenizer.encode(\"hello world\", pad=False)"
      ],
      "metadata": {
        "colab": {
          "base_uri": "https://localhost:8080/"
        },
        "id": "lhKIv2b98i7P",
        "outputId": "d57085ec-96b0-4904-934b-d72d38cae191"
      },
      "execution_count": 14,
      "outputs": [
        {
          "output_type": "execute_result",
          "data": {
            "text/plain": [
              "[1, 4697]"
            ]
          },
          "metadata": {},
          "execution_count": 14
        }
      ]
    },
    {
      "cell_type": "code",
      "source": [
        "tokenizer.decode(tokenizer.encode(\"hello world\", pad=False))"
      ],
      "metadata": {
        "colab": {
          "base_uri": "https://localhost:8080/",
          "height": 35
        },
        "id": "MsfKP-XB4CMt",
        "outputId": "02940734-75ee-4286-80d6-6e97023d0d9f"
      },
      "execution_count": 15,
      "outputs": [
        {
          "output_type": "execute_result",
          "data": {
            "text/plain": [
              "'[UNK] world '"
            ],
            "application/vnd.google.colaboratory.intrinsic+json": {
              "type": "string"
            }
          },
          "metadata": {},
          "execution_count": 15
        }
      ]
    },
    {
      "cell_type": "code",
      "source": [
        "import torch"
      ],
      "metadata": {
        "id": "tSvA5LK788Im"
      },
      "execution_count": 16,
      "outputs": []
    },
    {
      "cell_type": "code",
      "source": [
        "import torch.nn.functional as F"
      ],
      "metadata": {
        "id": "ihNO403RjcPT"
      },
      "execution_count": 17,
      "outputs": []
    },
    {
      "cell_type": "code",
      "source": [
        "device = torch.device(\"cuda:0\" if torch.cuda.is_available() else \"cpu\")"
      ],
      "metadata": {
        "id": "E-SwIr4Z-rb9"
      },
      "execution_count": 18,
      "outputs": []
    },
    {
      "cell_type": "code",
      "source": [
        "num_epochs = 100000\n",
        "lr = 10\n",
        "batch_size = 256"
      ],
      "metadata": {
        "id": "_6_FqERW_I28"
      },
      "execution_count": 19,
      "outputs": []
    },
    {
      "cell_type": "code",
      "source": [
        "context_len = 3\n",
        "emb_dim = 20\n",
        "vocab_size = len(stoi)\n",
        "n_hidden = 400\n",
        "C = torch.randn(vocab_size, emb_dim).to(device)\n",
        "w1 = torch.randn(context_len * emb_dim, n_hidden).to(device) * 0.1\n",
        "b1 = torch.randn(n_hidden).to(device) * 0.01\n",
        "w2 = torch.randn(n_hidden, vocab_size).to(device) * 0.1\n",
        "b2 = torch.randn(vocab_size).to(device) * 0.01\n",
        "\n",
        "params = [C, w1, b1, w2, b2]\n",
        "for p in params:\n",
        "  p.requires_grad = True\n",
        "\n",
        "tokenizer = Tokenizer(stoi, itos, len=context_len)"
      ],
      "metadata": {
        "id": "ENZrsino89iC"
      },
      "execution_count": 20,
      "outputs": []
    },
    {
      "cell_type": "code",
      "source": [
        "def build_dataset(text):\n",
        "  xs = []\n",
        "  ys = []\n",
        "  tokenized_text = tokenizer.encode(text, crop=False)\n",
        "  context = [0] * (context_len)\n",
        "  for x in tokenized_text:\n",
        "    xs.append(context)\n",
        "    ys.append(x)\n",
        "    context = context[1:] + [x]\n",
        "  xs = torch.tensor(xs).to(device)\n",
        "  ys = torch.tensor(ys).to(device)\n",
        "  return xs, ys\n",
        "Xtr, Ytr = build_dataset(text)\n",
        "train_examples = len(Xtr) - 1"
      ],
      "metadata": {
        "id": "ieiNgYuHfFuP"
      },
      "execution_count": 21,
      "outputs": []
    },
    {
      "cell_type": "code",
      "source": [
        "epochs = torch.arange(num_epochs)\n",
        "losses = []"
      ],
      "metadata": {
        "id": "nPAuz-Ey8ft1"
      },
      "execution_count": 22,
      "outputs": []
    },
    {
      "cell_type": "code",
      "source": [
        "for epoch in range(num_epochs):\n",
        "  batch_indices = torch.randint(0, train_examples, (batch_size, ))\n",
        "  xs = Xtr[batch_indices]\n",
        "  ys = Ytr[batch_indices]\n",
        "  emb = C[xs].view(-1, emb_dim * context_len)\n",
        "  l1 = (emb @ w1 + b1).tanh()\n",
        "  logits = (l1 @ w2 + b2).tanh()\n",
        "  loss = F.cross_entropy(logits, ys)\n",
        "\n",
        "  losses.append(loss.item())\n",
        "\n",
        "  for p in params:\n",
        "    p.grad = None\n",
        "\n",
        "  loss.backward()\n",
        "\n",
        "  for p in params:\n",
        "    p.data -= p.grad * (lr * ((epoch+1) ** -0.5))\n",
        "\n",
        "  if epoch % 10000 == 0:\n",
        "    print(\"Epoch\", str(epoch) + \", loss:\", loss.item())\n",
        "\n",
        "\n",
        "  print(tokenizer.decode(xs[0].cpu().numpy()))\n",
        "  print(tokenizer.decode([ys[0].cpu().item()]))\n",
        "  selected = [logits.softmax(dim=1)[0].argmax().item()]\n",
        "  print(\"Predicted index:\", selected)\n",
        "  print(\"Predicted word:\", tokenizer.decode(selected))\n",
        "  print(logits.softmax(dim=1)[0].argmax(), logits.shape)\n",
        "  break"
      ],
      "metadata": {
        "colab": {
          "base_uri": "https://localhost:8080/"
        },
        "id": "pUkAfTx6i1xO",
        "outputId": "3fc4f71d-43db-4f35-e4cc-9f6439a69814"
      },
      "execution_count": 86,
      "outputs": [
        {
          "output_type": "stream",
          "name": "stdout",
          "text": [
            "Epoch 0, loss: 7.175992488861084\n",
            "nurse ah [UNK] \n",
            "thats \n",
            "Predicted index: [1]\n",
            "Predicted word: [UNK] \n",
            "tensor(1, device='cuda:0') torch.Size([256, 4770])\n"
          ]
        }
      ]
    },
    {
      "cell_type": "code",
      "source": [
        "import matplotlib.pyplot as plt\n",
        "\n",
        "plt.plot(epochs.numpy(), losses)"
      ],
      "metadata": {
        "colab": {
          "base_uri": "https://localhost:8080/",
          "height": 449
        },
        "id": "1ksd5_sK9RrW",
        "outputId": "1a21fc12-dcf2-4d30-a1ea-a090e25b7b7f"
      },
      "execution_count": 24,
      "outputs": [
        {
          "output_type": "execute_result",
          "data": {
            "text/plain": [
              "[<matplotlib.lines.Line2D at 0x7c9c40d4d690>]"
            ]
          },
          "metadata": {},
          "execution_count": 24
        },
        {
          "output_type": "display_data",
          "data": {
            "text/plain": [
              "<Figure size 640x480 with 1 Axes>"
            ],
            "image/png": "[encoded data removed]"
          },
          "metadata": {}
        }
      ]
    },
    {
      "cell_type": "code",
      "source": [
        "Xtr[100]"
      ],
      "metadata": {
        "colab": {
          "base_uri": "https://localhost:8080/"
        },
        "id": "LSo_PxgC3qSL",
        "outputId": "70869f4b-676a-48b7-e407-2cf97aa1471b"
      },
      "execution_count": 25,
      "outputs": [
        {
          "output_type": "execute_result",
          "data": {
            "text/plain": [
              "tensor([2076, 4129, 4709], device='cuda:0')"
            ]
          },
          "metadata": {},
          "execution_count": 25
        }
      ]
    },
    {
      "cell_type": "code",
      "source": [
        "Ytr[100]"
      ],
      "metadata": {
        "colab": {
          "base_uri": "https://localhost:8080/"
        },
        "id": "LCqdxQUf3tLx",
        "outputId": "de3ca0d5-ffa4-4398-8c84-6c0366ca55d8"
      },
      "execution_count": 26,
      "outputs": [
        {
          "output_type": "execute_result",
          "data": {
            "text/plain": [
              "tensor(4745, device='cuda:0')"
            ]
          },
          "metadata": {},
          "execution_count": 26
        }
      ]
    },
    {
      "cell_type": "code",
      "source": [
        "tokenizer.decode([Ytr[100].cpu().numpy().item()])"
      ],
      "metadata": {
        "id": "TV4BxCB1Du07",
        "outputId": "e54ef1cd-2653-42d5-deee-c21353ebb97f",
        "colab": {
          "base_uri": "https://localhost:8080/",
          "height": 35
        }
      },
      "execution_count": 27,
      "outputs": [
        {
          "output_type": "execute_result",
          "data": {
            "text/plain": [
              "'yield '"
            ],
            "application/vnd.google.colaboratory.intrinsic+json": {
              "type": "string"
            }
          },
          "metadata": {},
          "execution_count": 27
        }
      ]
    },
    {
      "cell_type": "code",
      "source": [
        "tokenizer.decode(Xtr[100].cpu().numpy())"
      ],
      "metadata": {
        "colab": {
          "base_uri": "https://localhost:8080/",
          "height": 35
        },
        "id": "dm0v9kDD3vW3",
        "outputId": "b5d7ab69-6e73-4d15-d74e-add88a1d9d8f"
      },
      "execution_count": 28,
      "outputs": [
        {
          "output_type": "execute_result",
          "data": {
            "text/plain": [
              "'if they would '"
            ],
            "application/vnd.google.colaboratory.intrinsic+json": {
              "type": "string"
            }
          },
          "metadata": {},
          "execution_count": 28
        }
      ]
    },
    {
      "cell_type": "code",
      "source": [
        "def prompt(text, len=10):\n",
        "  with torch.no_grad():\n",
        "    output = text + \" \"\n",
        "    for x in range(len):\n",
        "      xs = torch.tensor(tokenizer.encode(output)).to(device)\n",
        "      emb = C[xs].view(-1, emb_dim * context_len)\n",
        "      l1 = (emb @ w1 + b1).tanh()\n",
        "      logits = (l1 @ w2 + b2).tanh()\n",
        "      outs = logits.softmax(dim=1)[0]\n",
        "      selected = torch.multinomial(outs, num_samples=1).cpu().numpy()\n",
        "      outchar = tokenizer.decode(selected)\n",
        "      output += outchar\n",
        "    return output"
      ],
      "metadata": {
        "id": "wQyRO80BlcdG"
      },
      "execution_count": 87,
      "outputs": []
    },
    {
      "cell_type": "code",
      "source": [
        "prompt(\"\")"
      ],
      "metadata": {
        "id": "UKp4vviShXAL",
        "outputId": "6a4b46eb-e892-445a-d058-2cd46b1943c0",
        "colab": {
          "base_uri": "https://localhost:8080/",
          "height": 35
        }
      },
      "execution_count": 88,
      "outputs": [
        {
          "output_type": "execute_result",
          "data": {
            "text/plain": [
              "' condemn trick bolingbroke arraign juliet come churchdoor stillvexd sufferance threefold '"
            ],
            "application/vnd.google.colaboratory.intrinsic+json": {
              "type": "string"
            }
          },
          "metadata": {},
          "execution_count": 88
        }
      ]
    },
    {
      "cell_type": "code",
      "source": [
        "def get_likelihood(input, expected):\n",
        "  with torch.no_grad():\n",
        "    emb = C[input].view(-1, emb_dim * context_len)\n",
        "    l1 = (emb @ w1 + b1).tanh()\n",
        "    logits = (l1 @ w2 + b2).tanh()\n",
        "    outs = logits.softmax(dim=1)\n",
        "    print(outs.shape)\n",
        "    print(\"Max:\", outs[0].argmax(), outs[0][outs.argmax()])\n",
        "    return outs[0][expected]"
      ],
      "metadata": {
        "id": "gtRjMRO8Vgg1"
      },
      "execution_count": 30,
      "outputs": []
    },
    {
      "cell_type": "code",
      "source": [
        "get_likelihood(Xtr[100], Ytr[100])"
      ],
      "metadata": {
        "id": "D1EZaQV7V09d",
        "outputId": "7bdfabad-af75-419b-ed24-6193596ea014",
        "colab": {
          "base_uri": "https://localhost:8080/"
        }
      },
      "execution_count": 31,
      "outputs": [
        {
          "output_type": "stream",
          "name": "stdout",
          "text": [
            "torch.Size([1, 4770])\n",
            "Max: tensor(1, device='cuda:0') tensor(0.0012, device='cuda:0', grad_fn=<SelectBackward0>)\n"
          ]
        },
        {
          "output_type": "execute_result",
          "data": {
            "text/plain": [
              "tensor(0.0012, device='cuda:0', grad_fn=<SelectBackward0>)"
            ]
          },
          "metadata": {},
          "execution_count": 31
        }
      ]
    },
    {
      "cell_type": "code",
      "source": [
        "prompt(\"romeo\")"
      ],
      "metadata": {
        "colab": {
          "base_uri": "https://localhost:8080/",
          "height": 35
        },
        "id": "w-gXmwqNmRT0",
        "outputId": "057cad3b-d7e2-4ed2-b0d7-76880da92fb8"
      },
      "execution_count": 32,
      "outputs": [
        {
          "output_type": "execute_result",
          "data": {
            "text/plain": [
              "'romeo approbation disguised need nuptial much rogues plot lowly tedious letting '"
            ],
            "application/vnd.google.colaboratory.intrinsic+json": {
              "type": "string"
            }
          },
          "metadata": {},
          "execution_count": 32
        }
      ]
    },
    {
      "cell_type": "code",
      "source": [
        "prompt(tokenizer.decode(Xtr[100].cpu().numpy()))"
      ],
      "metadata": {
        "id": "yYUc51_3DhCp",
        "outputId": "45b3a689-4a1e-4991-c6a1-f95173cf8769",
        "colab": {
          "base_uri": "https://localhost:8080/",
          "height": 35
        }
      },
      "execution_count": 33,
      "outputs": [
        {
          "output_type": "execute_result",
          "data": {
            "text/plain": [
              "'if they would  moody pray frame shalt departure sovereigns such come kindreds mowbray '"
            ],
            "application/vnd.google.colaboratory.intrinsic+json": {
              "type": "string"
            }
          },
          "metadata": {},
          "execution_count": 33
        }
      ]
    },
    {
      "cell_type": "code",
      "source": [
        "prompt(\"which\", len=100)"
      ],
      "metadata": {
        "id": "y__9xkcHd7eL",
        "outputId": "0c5cb59b-40b2-4fa9-e916-91ee1a9fce30",
        "colab": {
          "base_uri": "https://localhost:8080/",
          "height": 105
        }
      },
      "execution_count": 35,
      "outputs": [
        {
          "output_type": "execute_result",
          "data": {
            "text/plain": [
              "'which sat gloucester thee dried wast gracious faithful rejoicing sew nurse door these scarlet signor beget heart earldom worthy oerpast taen bodies smoothing dangerous complaints taunts bay vouchsafe longlane hills treasons unconstant adjudged grievous brief pray antonio adam bound galld careful party observation armed loss successor up herald reverend far stand stool wont whatever any cried hung leash good draw drew royal thankd doings main hourly sheer longer duck devised crush true mine must adjudged a shoes worthy dost swifter tenth king puissant compelld prey doctors shamed truedisposing toil singularity insolence together aery obdurate manual lets burden temperately jogging expectst suppressd '"
            ],
            "application/vnd.google.colaboratory.intrinsic+json": {
              "type": "string"
            }
          },
          "metadata": {},
          "execution_count": 35
        }
      ]
    },
    {
      "cell_type": "code",
      "source": [
        "def random_prompt(text, len=10):\n",
        "  with torch.no_grad():\n",
        "    output = text + \" \"\n",
        "    for x in range(len):\n",
        "      xs = torch.tensor(tokenizer.encode(output)).to(device)\n",
        "      emb = C[xs].view(-1, emb_dim * context_len)\n",
        "      l1 = (emb @ w1 + b1).tanh()\n",
        "      logits = (l1 @ w2 + b2).tanh()\n",
        "      logits = torch.ones(logits.shape)\n",
        "      outs = logits.softmax(dim=1)\n",
        "      selected = torch.multinomial(outs, num_samples=1)[0].cpu().numpy()\n",
        "      outchar = tokenizer.decode(selected)\n",
        "      output += outchar\n",
        "    return output"
      ],
      "metadata": {
        "id": "fB162Amdc_80"
      },
      "execution_count": 39,
      "outputs": []
    },
    {
      "cell_type": "code",
      "source": [
        "random_prompt(\"\", len=100)"
      ],
      "metadata": {
        "id": "QAg1GsvFdYbJ",
        "outputId": "869668d7-9a09-4fd4-9d7c-fde774373445",
        "colab": {
          "base_uri": "https://localhost:8080/",
          "height": 105
        }
      },
      "execution_count": 40,
      "outputs": [
        {
          "output_type": "execute_result",
          "data": {
            "text/plain": [
              "' meek noise necessary whats people wherewith villains france trail needless souls volumes lead moral bolt passable shore wills policy peaceful coast takest hours devices smile hardly angry rebellion swore clamour worlds heirs fortunes consenting land aloof becomest friendships blind dale mothers bloods goose sweetly remorse sure tutor stage agatestone panting burthens revenged minnows white also understand distressed vessel follows straind singularity elements teeming cannibals fester prattling mistaking earls judgmentday mouths banishment floods violets guilt weep cheerly arts longer worth alls golden begins bloody crying not army vassal mount incessant side spur bawdy hangs slept refelld grant rarer kinsmen ungovernd than '"
            ],
            "application/vnd.google.colaboratory.intrinsic+json": {
              "type": "string"
            }
          },
          "metadata": {},
          "execution_count": 40
        }
      ]
    },
    {
      "cell_type": "markdown",
      "source": [
        "random is better"
      ],
      "metadata": {
        "id": "fa_5SMusdw3f"
      }
    }
  ]
}