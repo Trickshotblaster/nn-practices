{
  "nbformat": 4,
  "nbformat_minor": 0,
  "metadata": {
    "colab": {
      "provenance": [],
      "gpuType": "T4",
      "authorship_tag": "ABX9TyOm1WY9BVUqtgydx/JMrp9u",
      "include_colab_link": true
    },
    "kernelspec": {
      "name": "python3",
      "display_name": "Python 3"
    },
    "language_info": {
      "name": "python"
    },
    "accelerator": "GPU"
  },
  "cells": [
    {
      "cell_type": "markdown",
      "metadata": {
        "id": "view-in-github",
        "colab_type": "text"
      },
      "source": [
        "<a href=\"https://colab.research.google.com/github/Trickshotblaster/nn-practices/blob/main/GoodShakespeare.ipynb\" target=\"_parent\"><img src=\"https://colab.research.google.com/assets/colab-badge.svg\" alt=\"Open In Colab\"/></a>"
      ]
    },
    {
      "cell_type": "code",
      "execution_count": 140,
      "metadata": {
        "id": "yY1Z4GSP4kpa"
      },
      "outputs": [],
      "source": [
        "import requests\n",
        "\n",
        "url = 'https://raw.githubusercontent.com/karpathy/char-rnn/master/data/tinyshakespeare/input.txt'\n",
        "text = requests.get(url)"
      ]
    },
    {
      "cell_type": "code",
      "source": [
        "import random"
      ],
      "metadata": {
        "id": "_MhuV9pFk1zN"
      },
      "execution_count": 141,
      "outputs": []
    },
    {
      "cell_type": "code",
      "source": [
        "text = text.text"
      ],
      "metadata": {
        "id": "mb0kHEqg4xMS"
      },
      "execution_count": 142,
      "outputs": []
    },
    {
      "cell_type": "code",
      "source": [
        "text = text.lower()\n",
        "punc = '''!()-[]{};:'\"\\,<>./?@#$%^&*_~'''\n",
        "\n",
        "for ele in punc:\n",
        "  if ele in text:\n",
        "    text = text.replace(ele, \"\")"
      ],
      "metadata": {
        "id": "eaUVI0rY42x1"
      },
      "execution_count": 143,
      "outputs": []
    },
    {
      "cell_type": "code",
      "source": [
        "vocab = text.split()"
      ],
      "metadata": {
        "id": "AJyD920j4-xH"
      },
      "execution_count": 144,
      "outputs": []
    },
    {
      "cell_type": "code",
      "source": [
        "vocab_dict = set()\n",
        "for word in vocab:\n",
        "  if random.randint(1, 100) > 50:\n",
        "    vocab_dict.update([word])"
      ],
      "metadata": {
        "id": "vj5k8Fau5A3D"
      },
      "execution_count": 145,
      "outputs": []
    },
    {
      "cell_type": "code",
      "source": [
        "len(vocab_dict)"
      ],
      "metadata": {
        "colab": {
          "base_uri": "https://localhost:8080/"
        },
        "id": "yEaUNI-u5e2r",
        "outputId": "eab48894-7a88-438c-b607-e6b077e64471"
      },
      "execution_count": 146,
      "outputs": [
        {
          "output_type": "execute_result",
          "data": {
            "text/plain": [
              "9199"
            ]
          },
          "metadata": {},
          "execution_count": 146
        }
      ]
    },
    {
      "cell_type": "code",
      "source": [
        "vocab_dict = sorted(vocab_dict)"
      ],
      "metadata": {
        "id": "7EqF9ERD6fxL"
      },
      "execution_count": 147,
      "outputs": []
    },
    {
      "cell_type": "code",
      "source": [
        "stoi = {\"[PAD]\": 0, \"[UNK]\": 1}\n",
        "itos = {0: \"[PAD]\", 1: \"[UNK]\"}\n",
        "stoi.update({char:i+2 for i, char in enumerate(vocab_dict)})\n",
        "itos.update({i+2:char for i, char in enumerate(vocab_dict)})"
      ],
      "metadata": {
        "id": "dIV5fbje59uP"
      },
      "execution_count": 148,
      "outputs": []
    },
    {
      "cell_type": "code",
      "source": [
        "stoi['a']"
      ],
      "metadata": {
        "colab": {
          "base_uri": "https://localhost:8080/"
        },
        "id": "OOXsvIeEuH8N",
        "outputId": "e7d7dad5-1ff4-4ba8-c289-f96a85559171"
      },
      "execution_count": 149,
      "outputs": [
        {
          "output_type": "execute_result",
          "data": {
            "text/plain": [
              "3"
            ]
          },
          "metadata": {},
          "execution_count": 149
        }
      ]
    },
    {
      "cell_type": "code",
      "source": [
        "itos[stoi['a']]"
      ],
      "metadata": {
        "colab": {
          "base_uri": "https://localhost:8080/",
          "height": 35
        },
        "id": "dY6wiY_6uBLF",
        "outputId": "964f3428-8edf-42b7-b217-b829fc859d13"
      },
      "execution_count": 150,
      "outputs": [
        {
          "output_type": "execute_result",
          "data": {
            "text/plain": [
              "'a'"
            ],
            "application/vnd.google.colaboratory.intrinsic+json": {
              "type": "string"
            }
          },
          "metadata": {},
          "execution_count": 150
        }
      ]
    },
    {
      "cell_type": "code",
      "source": [
        "class Tokenizer:\n",
        "  def __init__(self, stoi, itos, len=10):\n",
        "    self.stoi = stoi\n",
        "    self.itos = itos\n",
        "    self.len = len\n",
        "  def encode(self, text, crop=True, pad=True):\n",
        "    out = []\n",
        "    if crop:\n",
        "      for word in text.lower().split()[:self.len]:\n",
        "        if word in self.stoi:\n",
        "          out.append(self.stoi[word])\n",
        "        else:\n",
        "          out.append(1)\n",
        "      if pad:\n",
        "        out = [0] * (self.len - len(out)) + out\n",
        "      return out\n",
        "    else:\n",
        "      for word in text.lower().split():\n",
        "        if word in self.stoi:\n",
        "          out.append(self.stoi[word])\n",
        "        else:\n",
        "          out.append(1)\n",
        "      if pad:\n",
        "        out = [0] * (self.len - len(out)) + out\n",
        "      return out\n",
        "  def decode(self, ids):\n",
        "    out = \"\"\n",
        "    for id in ids:\n",
        "      if (id in self.itos) and id != 1:\n",
        "        out += self.itos[id] + \" \"\n",
        "      elif id==0:\n",
        "        out += '[PAD]'\n",
        "      else:\n",
        "        out += '[UNK] '\n",
        "    return out"
      ],
      "metadata": {
        "id": "YYif7lrG6uyB"
      },
      "execution_count": 151,
      "outputs": []
    },
    {
      "cell_type": "code",
      "source": [
        "tokenizer = Tokenizer(stoi, itos)"
      ],
      "metadata": {
        "id": "9NeN4k1x8fg4"
      },
      "execution_count": 152,
      "outputs": []
    },
    {
      "cell_type": "code",
      "source": [
        "tokenizer.encode(\"hello world\", pad=False)"
      ],
      "metadata": {
        "colab": {
          "base_uri": "https://localhost:8080/"
        },
        "id": "lhKIv2b98i7P",
        "outputId": "590229b1-f627-4941-84dd-b0ce3760733c"
      },
      "execution_count": 153,
      "outputs": [
        {
          "output_type": "execute_result",
          "data": {
            "text/plain": [
              "[1, 9086]"
            ]
          },
          "metadata": {},
          "execution_count": 153
        }
      ]
    },
    {
      "cell_type": "code",
      "source": [
        "tokenizer.decode(tokenizer.encode(\"hello world\", pad=False))"
      ],
      "metadata": {
        "colab": {
          "base_uri": "https://localhost:8080/",
          "height": 35
        },
        "id": "MsfKP-XB4CMt",
        "outputId": "b60f8393-7c76-4267-872c-9f56ef9ed5f0"
      },
      "execution_count": 154,
      "outputs": [
        {
          "output_type": "execute_result",
          "data": {
            "text/plain": [
              "'[UNK] world '"
            ],
            "application/vnd.google.colaboratory.intrinsic+json": {
              "type": "string"
            }
          },
          "metadata": {},
          "execution_count": 154
        }
      ]
    },
    {
      "cell_type": "code",
      "source": [
        "import torch"
      ],
      "metadata": {
        "id": "tSvA5LK788Im"
      },
      "execution_count": 155,
      "outputs": []
    },
    {
      "cell_type": "code",
      "source": [
        "import torch.nn.functional as F"
      ],
      "metadata": {
        "id": "ihNO403RjcPT"
      },
      "execution_count": 156,
      "outputs": []
    },
    {
      "cell_type": "code",
      "source": [
        "device = torch.device(\"cuda:0\" if torch.cuda.is_available() else \"cpu\")"
      ],
      "metadata": {
        "id": "E-SwIr4Z-rb9"
      },
      "execution_count": 157,
      "outputs": []
    },
    {
      "cell_type": "code",
      "source": [
        "num_epochs = 100000\n",
        "lr = 100\n",
        "batch_size = 256"
      ],
      "metadata": {
        "id": "_6_FqERW_I28"
      },
      "execution_count": 158,
      "outputs": []
    },
    {
      "cell_type": "code",
      "source": [
        "context_len = 3\n",
        "emb_dim = 20\n",
        "vocab_size = len(stoi)\n",
        "n_hidden = 400\n",
        "C = torch.randn(vocab_size, emb_dim).to(device)\n",
        "w1 = torch.randn(context_len * emb_dim, n_hidden).to(device) * 0.1\n",
        "b1 = torch.randn(n_hidden).to(device) * 0.01\n",
        "w2 = torch.randn(n_hidden, vocab_size).to(device) * 0.1\n",
        "b2 = torch.randn(vocab_size).to(device) * 0.01\n",
        "\n",
        "params = [C, w1, b1, w2, b2]\n",
        "for p in params:\n",
        "  p.requires_grad = True\n",
        "\n",
        "tokenizer = Tokenizer(stoi, itos, len=context_len)"
      ],
      "metadata": {
        "id": "ENZrsino89iC"
      },
      "execution_count": 159,
      "outputs": []
    },
    {
      "cell_type": "code",
      "source": [
        "def build_dataset(text):\n",
        "  xs = []\n",
        "  ys = []\n",
        "  tokenized_text = tokenizer.encode(text, crop=False)\n",
        "  context = [0] * (context_len)\n",
        "  for x in tokenized_text:\n",
        "    xs.append(context)\n",
        "    ys.append(x)\n",
        "    context = context[1:] + [x]\n",
        "  xs = torch.tensor(xs).to(device)\n",
        "  ys = torch.tensor(ys).to(device)\n",
        "  return xs, ys\n",
        "Xtr, Ytr = build_dataset(text)\n",
        "train_examples = len(Xtr) - 1"
      ],
      "metadata": {
        "id": "ieiNgYuHfFuP"
      },
      "execution_count": 160,
      "outputs": []
    },
    {
      "cell_type": "code",
      "source": [
        "epochs = []\n",
        "losses = []"
      ],
      "metadata": {
        "id": "nPAuz-Ey8ft1"
      },
      "execution_count": 161,
      "outputs": []
    },
    {
      "cell_type": "code",
      "source": [
        "for epoch in range(num_epochs):\n",
        "  batch_indices = torch.randint(0, train_examples, (batch_size, ))\n",
        "  xs = Xtr[batch_indices]\n",
        "  ys = Ytr[batch_indices]\n",
        "  emb = C[xs].view(-1, emb_dim * context_len)\n",
        "  l1 = (emb @ w1 + b1).tanh()\n",
        "  logits = (l1 @ w2 + b2).tanh()\n",
        "  loss = F.cross_entropy(logits, ys)\n",
        "  epochs.append(epoch)\n",
        "  losses.append(loss.item())\n",
        "\n",
        "  for p in params:\n",
        "    p.grad = None\n",
        "\n",
        "  loss.backward()\n",
        "\n",
        "  for p in params:\n",
        "    p.data -= p.grad * (lr * ((epoch+1) ** -0.5))\n",
        "\n",
        "  if epoch % 10000 == 0:\n",
        "    print(\"Epoch\", str(epoch) + \", loss:\", loss.item())\n",
        "\n",
        "\n",
        "    print(tokenizer.decode(xs[0].cpu().numpy()))\n",
        "    print(tokenizer.decode([ys[0].cpu().item()]))\n",
        "    selected = [logits.softmax(dim=1)[0].argmax().item()]\n",
        "    print(\"Predicted index:\", selected)\n",
        "    print(\"Predicted word:\", tokenizer.decode(selected))\n",
        "    print(logits.softmax(dim=1)[0].argmax(), logits.shape)\n",
        "    print(\"Confidence:\", logits.softmax(dim=1)[0][logits.softmax(dim=1)[0].argmax()])"
      ],
      "metadata": {
        "colab": {
          "base_uri": "https://localhost:8080/"
        },
        "id": "pUkAfTx6i1xO",
        "outputId": "20278246-a671-4bc0-f544-9c175fb77d60"
      },
      "execution_count": 162,
      "outputs": [
        {
          "metadata": {
            "tags": null
          },
          "name": "stdout",
          "output_type": "stream",
          "text": [
            "Epoch 0, loss: 9.347589492797852\n",
            "he escape post \n",
            "he \n",
            "Predicted index: [1151]\n",
            "Predicted word: camest \n",
            "tensor(1151, device='cuda:0') torch.Size([256, 9201])\n",
            "Confidence: tensor(0.0002, device='cuda:0', grad_fn=<SelectBackward0>)\n",
            "Epoch 10000, loss: 7.801671028137207\n",
            "awake takes note \n",
            "of \n",
            "Predicted index: [1]\n",
            "Predicted word: [UNK] \n",
            "tensor(1, device='cuda:0') torch.Size([256, 9201])\n",
            "Confidence: tensor(0.0006, device='cuda:0', grad_fn=<SelectBackward0>)\n",
            "Epoch 20000, loss: 7.736669540405273\n",
            "knees to me \n",
            "to \n",
            "Predicted index: [1]\n",
            "Predicted word: [UNK] \n",
            "tensor(1, device='cuda:0') torch.Size([256, 9201])\n",
            "Confidence: tensor(0.0006, device='cuda:0', grad_fn=<SelectBackward0>)\n",
            "Epoch 30000, loss: 7.7094926834106445\n",
            "would have stirrd \n",
            "up \n",
            "Predicted index: [1]\n",
            "Predicted word: [UNK] \n",
            "tensor(1, device='cuda:0') torch.Size([256, 9201])\n",
            "Confidence: tensor(0.0006, device='cuda:0', grad_fn=<SelectBackward0>)\n",
            "Epoch 40000, loss: 7.679647445678711\n",
            "brave fellow but \n",
            "hes \n",
            "Predicted index: [1]\n",
            "Predicted word: [UNK] \n",
            "tensor(1, device='cuda:0') torch.Size([256, 9201])\n",
            "Confidence: tensor(0.0006, device='cuda:0', grad_fn=<SelectBackward0>)\n",
            "Epoch 50000, loss: 7.620231628417969\n",
            "it is a \n",
            "[UNK] \n",
            "Predicted index: [1]\n",
            "Predicted word: [UNK] \n",
            "tensor(1, device='cuda:0') torch.Size([256, 9201])\n",
            "Confidence: tensor(0.0006, device='cuda:0', grad_fn=<SelectBackward0>)\n",
            "Epoch 60000, loss: 7.750532150268555\n",
            "thee from this \n",
            "slaughterhouse \n",
            "Predicted index: [1]\n",
            "Predicted word: [UNK] \n",
            "tensor(1, device='cuda:0') torch.Size([256, 9201])\n",
            "Confidence: tensor(0.0006, device='cuda:0', grad_fn=<SelectBackward0>)\n",
            "Epoch 70000, loss: 7.7469892501831055\n",
            "and [UNK] than \n",
            "mine \n",
            "Predicted index: [1]\n",
            "Predicted word: [UNK] \n",
            "tensor(1, device='cuda:0') torch.Size([256, 9201])\n",
            "Confidence: tensor(0.0007, device='cuda:0', grad_fn=<SelectBackward0>)\n",
            "Epoch 80000, loss: 7.68008279800415\n",
            "tested gold or \n",
            "stones \n",
            "Predicted index: [1]\n",
            "Predicted word: [UNK] \n",
            "tensor(1, device='cuda:0') torch.Size([256, 9201])\n",
            "Confidence: tensor(0.0007, device='cuda:0', grad_fn=<SelectBackward0>)\n",
            "Epoch 90000, loss: 7.682225704193115\n",
            "head and through \n",
            "the \n",
            "Predicted index: [1]\n",
            "Predicted word: [UNK] \n",
            "tensor(1, device='cuda:0') torch.Size([256, 9201])\n",
            "Confidence: tensor(0.0007, device='cuda:0', grad_fn=<SelectBackward0>)\n"
          ]
        }
      ]
    },
    {
      "cell_type": "code",
      "source": [
        "import matplotlib.pyplot as plt\n",
        "\n",
        "plt.plot(epochs, losses)"
      ],
      "metadata": {
        "colab": {
          "base_uri": "https://localhost:8080/",
          "height": 447
        },
        "id": "1ksd5_sK9RrW",
        "outputId": "76301eb2-380e-44ca-d5d0-94c4028fe0a1"
      },
      "execution_count": 163,
      "outputs": [
        {
          "output_type": "execute_result",
          "data": {
            "text/plain": [
              "[<matplotlib.lines.Line2D at 0x79d15ca0f460>]"
            ]
          },
          "metadata": {},
          "execution_count": 163
        },
        {
          "output_type": "display_data",
          "data": {
            "text/plain": [
              "<Figure size 640x480 with 1 Axes>"
            ],
            "image/png": "[encoded data removed]"
          },
          "metadata": {}
        }
      ]
    },
    {
      "cell_type": "code",
      "source": [
        "Xtr[100]"
      ],
      "metadata": {
        "colab": {
          "base_uri": "https://localhost:8080/"
        },
        "id": "LSo_PxgC3qSL",
        "outputId": "04a74c77-50f1-42a8-dfc1-0efde0b567dc"
      },
      "execution_count": 164,
      "outputs": [
        {
          "output_type": "execute_result",
          "data": {
            "text/plain": [
              "tensor([3962, 7992, 9109], device='cuda:0')"
            ]
          },
          "metadata": {},
          "execution_count": 164
        }
      ]
    },
    {
      "cell_type": "code",
      "source": [
        "Ytr[100]"
      ],
      "metadata": {
        "colab": {
          "base_uri": "https://localhost:8080/"
        },
        "id": "LCqdxQUf3tLx",
        "outputId": "0d254880-8e5f-4803-b4db-603f1d8534e3"
      },
      "execution_count": 165,
      "outputs": [
        {
          "output_type": "execute_result",
          "data": {
            "text/plain": [
              "tensor(9165, device='cuda:0')"
            ]
          },
          "metadata": {},
          "execution_count": 165
        }
      ]
    },
    {
      "cell_type": "code",
      "source": [
        "tokenizer.decode([Ytr[100].cpu().numpy().item()])"
      ],
      "metadata": {
        "id": "TV4BxCB1Du07",
        "outputId": "3a469858-2835-4220-da59-2182674c3136",
        "colab": {
          "base_uri": "https://localhost:8080/",
          "height": 35
        }
      },
      "execution_count": 166,
      "outputs": [
        {
          "output_type": "execute_result",
          "data": {
            "text/plain": [
              "'yield '"
            ],
            "application/vnd.google.colaboratory.intrinsic+json": {
              "type": "string"
            }
          },
          "metadata": {},
          "execution_count": 166
        }
      ]
    },
    {
      "cell_type": "code",
      "source": [
        "tokenizer.decode(Xtr[100].cpu().numpy())"
      ],
      "metadata": {
        "colab": {
          "base_uri": "https://localhost:8080/",
          "height": 35
        },
        "id": "dm0v9kDD3vW3",
        "outputId": "4a071a78-07d7-4f70-8008-bfb02fa47690"
      },
      "execution_count": 167,
      "outputs": [
        {
          "output_type": "execute_result",
          "data": {
            "text/plain": [
              "'if they would '"
            ],
            "application/vnd.google.colaboratory.intrinsic+json": {
              "type": "string"
            }
          },
          "metadata": {},
          "execution_count": 167
        }
      ]
    },
    {
      "cell_type": "code",
      "source": [
        "def prompt(text, len=10):\n",
        "  with torch.no_grad():\n",
        "    output = text + \" \"\n",
        "    for x in range(len):\n",
        "      xs = torch.tensor(tokenizer.encode(output)).to(device)\n",
        "      emb = C[xs].view(-1, emb_dim * context_len)\n",
        "      l1 = (emb @ w1 + b1).tanh()\n",
        "      logits = (l1 @ w2 + b2).tanh()\n",
        "      outs = logits.softmax(dim=1)[0]\n",
        "      #selected = torch.multinomial(outs, num_samples=1).cpu().numpy()\n",
        "      selected = [outs.argmax().item()]\n",
        "      outchar = tokenizer.decode(selected)\n",
        "      output += outchar\n",
        "    return output"
      ],
      "metadata": {
        "id": "wQyRO80BlcdG"
      },
      "execution_count": 168,
      "outputs": []
    },
    {
      "cell_type": "code",
      "source": [
        "prompt(\"\")"
      ],
      "metadata": {
        "colab": {
          "base_uri": "https://localhost:8080/",
          "height": 35
        },
        "id": "UKp4vviShXAL",
        "outputId": "f2d77d61-ed90-42b6-be2e-a5476db5452c"
      },
      "execution_count": 169,
      "outputs": [
        {
          "data": {
            "application/vnd.google.colaboratory.intrinsic+json": {
              "type": "string"
            },
            "text/plain": [
              "' [UNK] [UNK] [UNK] [UNK] [UNK] [UNK] [UNK] [UNK] [UNK] [UNK] '"
            ]
          },
          "execution_count": 169,
          "metadata": {},
          "output_type": "execute_result"
        }
      ]
    },
    {
      "cell_type": "code",
      "source": [
        "def get_likelihood(input, expected):\n",
        "  with torch.no_grad():\n",
        "    emb = C[input].view(-1, emb_dim * context_len)\n",
        "    l1 = (emb @ w1 + b1).tanh()\n",
        "    logits = (l1 @ w2 + b2).tanh()\n",
        "    outs = logits.softmax(dim=1)\n",
        "    print(outs.shape)\n",
        "    print(\"Max:\", outs[0].argmax(), outs[0][outs.argmax()])\n",
        "    return outs[0][expected]"
      ],
      "metadata": {
        "id": "gtRjMRO8Vgg1"
      },
      "execution_count": 170,
      "outputs": []
    },
    {
      "cell_type": "code",
      "source": [
        "get_likelihood(Xtr[100], Ytr[100])"
      ],
      "metadata": {
        "id": "D1EZaQV7V09d",
        "outputId": "c9b93127-18ae-40c3-e8bf-9323a94b1137",
        "colab": {
          "base_uri": "https://localhost:8080/"
        }
      },
      "execution_count": 171,
      "outputs": [
        {
          "metadata": {
            "tags": null
          },
          "name": "stdout",
          "output_type": "stream",
          "text": [
            "torch.Size([1, 9201])\n",
            "Max: tensor(1, device='cuda:0') tensor(0.0007, device='cuda:0')\n"
          ]
        },
        {
          "output_type": "execute_result",
          "data": {
            "text/plain": [
              "tensor(9.0942e-05, device='cuda:0')"
            ]
          },
          "metadata": {},
          "execution_count": 171
        }
      ]
    },
    {
      "cell_type": "code",
      "source": [
        "prompt(\"romeo\")"
      ],
      "metadata": {
        "colab": {
          "base_uri": "https://localhost:8080/",
          "height": 35
        },
        "id": "w-gXmwqNmRT0",
        "outputId": "304ad086-a6b2-4b91-d9b4-ef0d3b3dbc26"
      },
      "execution_count": 172,
      "outputs": [
        {
          "data": {
            "application/vnd.google.colaboratory.intrinsic+json": {
              "type": "string"
            },
            "text/plain": [
              "'romeo [UNK] [UNK] [UNK] [UNK] [UNK] [UNK] [UNK] [UNK] [UNK] [UNK] '"
            ]
          },
          "execution_count": 172,
          "metadata": {},
          "output_type": "execute_result"
        }
      ]
    },
    {
      "cell_type": "code",
      "source": [
        "prompt(tokenizer.decode(Xtr[100].cpu().numpy()))"
      ],
      "metadata": {
        "id": "yYUc51_3DhCp",
        "outputId": "9841c5e7-67c0-48b9-d0d3-e7565c0df675",
        "colab": {
          "base_uri": "https://localhost:8080/",
          "height": 35
        }
      },
      "execution_count": 173,
      "outputs": [
        {
          "data": {
            "application/vnd.google.colaboratory.intrinsic+json": {
              "type": "string"
            },
            "text/plain": [
              "'if they would  [UNK] [UNK] [UNK] [UNK] [UNK] [UNK] [UNK] [UNK] [UNK] [UNK] '"
            ]
          },
          "execution_count": 173,
          "metadata": {},
          "output_type": "execute_result"
        }
      ]
    },
    {
      "cell_type": "code",
      "source": [
        "prompt(\"which\", len=100)"
      ],
      "metadata": {
        "id": "y__9xkcHd7eL",
        "outputId": "f49f1794-bbce-4d9e-cadd-bac905e5b073",
        "colab": {
          "base_uri": "https://localhost:8080/",
          "height": 87
        }
      },
      "execution_count": 174,
      "outputs": [
        {
          "output_type": "execute_result",
          "data": {
            "text/plain": [
              "'which [UNK] [UNK] [UNK] [UNK] [UNK] [UNK] [UNK] [UNK] [UNK] [UNK] [UNK] [UNK] [UNK] [UNK] [UNK] [UNK] [UNK] [UNK] [UNK] [UNK] [UNK] [UNK] [UNK] [UNK] [UNK] [UNK] [UNK] [UNK] [UNK] [UNK] [UNK] [UNK] [UNK] [UNK] [UNK] [UNK] [UNK] [UNK] [UNK] [UNK] [UNK] [UNK] [UNK] [UNK] [UNK] [UNK] [UNK] [UNK] [UNK] [UNK] [UNK] [UNK] [UNK] [UNK] [UNK] [UNK] [UNK] [UNK] [UNK] [UNK] [UNK] [UNK] [UNK] [UNK] [UNK] [UNK] [UNK] [UNK] [UNK] [UNK] [UNK] [UNK] [UNK] [UNK] [UNK] [UNK] [UNK] [UNK] [UNK] [UNK] [UNK] [UNK] [UNK] [UNK] [UNK] [UNK] [UNK] [UNK] [UNK] [UNK] [UNK] [UNK] [UNK] [UNK] [UNK] [UNK] [UNK] [UNK] [UNK] [UNK] '"
            ],
            "application/vnd.google.colaboratory.intrinsic+json": {
              "type": "string"
            }
          },
          "metadata": {},
          "execution_count": 174
        }
      ]
    },
    {
      "cell_type": "code",
      "source": [
        "def random_prompt(text, len=10):\n",
        "  with torch.no_grad():\n",
        "    output = text + \" \"\n",
        "    for x in range(len):\n",
        "      xs = torch.tensor(tokenizer.encode(output)).to(device)\n",
        "      emb = C[xs].view(-1, emb_dim * context_len)\n",
        "      l1 = (emb @ w1 + b1).tanh()\n",
        "      logits = (l1 @ w2 + b2).tanh()\n",
        "      logits = torch.ones(logits.shape)\n",
        "      outs = logits.softmax(dim=1)\n",
        "      selected = torch.multinomial(outs, num_samples=1)[0].cpu().numpy()\n",
        "      outchar = tokenizer.decode(selected)\n",
        "      output += outchar\n",
        "    return output"
      ],
      "metadata": {
        "id": "fB162Amdc_80"
      },
      "execution_count": 175,
      "outputs": []
    },
    {
      "cell_type": "code",
      "source": [
        "random_prompt(\"\", len=100)"
      ],
      "metadata": {
        "colab": {
          "base_uri": "https://localhost:8080/",
          "height": 122
        },
        "id": "QAg1GsvFdYbJ",
        "outputId": "6af6cc81-6d3c-4d83-9a28-2380d9ec1b9c"
      },
      "execution_count": 176,
      "outputs": [
        {
          "output_type": "execute_result",
          "data": {
            "text/plain": [
              "' quailing camel strangled dishonest badness overtake innocence hercules buckinghams inauspicious lightning paramour rebels companions thracian cowards grandam lineal shapes rivers vouches severely sleepy infected cipher committed worm perdition chasing epitome willt morecast 3 slandering committing transport reveal troth visor nobleness monument wilderness commend blunt sparks greybeard scolding thin richest no corners flote dear relieved deceitful flung quote basest carried ground nineteen atlas shrugst prefixd merriest batten maintain dispatchd nimbly newbuilt barren avoided spell courageous givet fruittrees follies calls horrible uprighteously politic conscience conversation finder hearkening money ache lineaments restorative common sacred champion meteor unhappily horsemen carefully francisco fines decay gash '"
            ],
            "application/vnd.google.colaboratory.intrinsic+json": {
              "type": "string"
            }
          },
          "metadata": {},
          "execution_count": 176
        }
      ]
    },
    {
      "cell_type": "markdown",
      "source": [
        "random is better"
      ],
      "metadata": {
        "id": "fa_5SMusdw3f"
      }
    }
  ]
}