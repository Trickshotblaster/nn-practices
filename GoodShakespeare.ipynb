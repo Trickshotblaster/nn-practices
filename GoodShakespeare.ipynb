{
  "nbformat": 4,
  "nbformat_minor": 0,
  "metadata": {
    "colab": {
      "provenance": [],
      "gpuType": "T4",
      "authorship_tag": "ABX9TyNBz0t4fkvDtdCVjvhe2KoA",
      "include_colab_link": true
    },
    "kernelspec": {
      "name": "python3",
      "display_name": "Python 3"
    },
    "language_info": {
      "name": "python"
    },
    "accelerator": "GPU"
  },
  "cells": [
    {
      "cell_type": "markdown",
      "metadata": {
        "id": "view-in-github",
        "colab_type": "text"
      },
      "source": [
        "<a href=\"https://colab.research.google.com/github/Trickshotblaster/nn-practices/blob/main/GoodShakespeare.ipynb\" target=\"_parent\"><img src=\"https://colab.research.google.com/assets/colab-badge.svg\" alt=\"Open In Colab\"/></a>"
      ]
    },
    {
      "cell_type": "code",
      "execution_count": 131,
      "metadata": {
        "id": "yY1Z4GSP4kpa"
      },
      "outputs": [],
      "source": [
        "import requests\n",
        "\n",
        "url = 'https://raw.githubusercontent.com/karpathy/char-rnn/master/data/tinyshakespeare/input.txt'\n",
        "text = requests.get(url)"
      ]
    },
    {
      "cell_type": "code",
      "source": [
        "import random"
      ],
      "metadata": {
        "id": "_MhuV9pFk1zN"
      },
      "execution_count": 132,
      "outputs": []
    },
    {
      "cell_type": "code",
      "source": [
        "text = text.text"
      ],
      "metadata": {
        "id": "mb0kHEqg4xMS"
      },
      "execution_count": 133,
      "outputs": []
    },
    {
      "cell_type": "code",
      "source": [
        "text = text.lower()\n",
        "punc = '''!()-[]{};:'\"\\,<>./?@#$%^&*_~'''\n",
        "\n",
        "for ele in text:\n",
        "    if ele in punc:\n",
        "        text = text.replace(ele, \"\")"
      ],
      "metadata": {
        "id": "eaUVI0rY42x1"
      },
      "execution_count": 134,
      "outputs": []
    },
    {
      "cell_type": "code",
      "source": [
        "vocab = text.split()"
      ],
      "metadata": {
        "id": "AJyD920j4-xH"
      },
      "execution_count": 135,
      "outputs": []
    },
    {
      "cell_type": "code",
      "source": [
        "vocab_dict = set()\n",
        "for word in vocab:\n",
        "  if random.randint(1, 100) > 85:\n",
        "    vocab_dict.update([word])"
      ],
      "metadata": {
        "id": "vj5k8Fau5A3D"
      },
      "execution_count": 136,
      "outputs": []
    },
    {
      "cell_type": "code",
      "source": [
        "len(vocab_dict)"
      ],
      "metadata": {
        "colab": {
          "base_uri": "https://localhost:8080/"
        },
        "id": "yEaUNI-u5e2r",
        "outputId": "8ed62f5f-ee9f-4e47-ca75-1fe1a146b804"
      },
      "execution_count": 137,
      "outputs": [
        {
          "output_type": "execute_result",
          "data": {
            "text/plain": [
              "4711"
            ]
          },
          "metadata": {},
          "execution_count": 137
        }
      ]
    },
    {
      "cell_type": "code",
      "source": [
        "vocab_dict = sorted(vocab_dict)"
      ],
      "metadata": {
        "id": "7EqF9ERD6fxL"
      },
      "execution_count": 138,
      "outputs": []
    },
    {
      "cell_type": "code",
      "source": [
        "stoi = {\"[PAD]\": 0, \"[UNK]\": 1}\n",
        "itos = {0: \"[PAD]\", 1: \"[UNK]\"}\n",
        "stoi.update({char:i+2 for i, char in enumerate(vocab_dict)})\n",
        "itos.update({i+2:char for i, char in enumerate(vocab_dict)})"
      ],
      "metadata": {
        "id": "dIV5fbje59uP"
      },
      "execution_count": 139,
      "outputs": []
    },
    {
      "cell_type": "code",
      "source": [
        "stoi['a']"
      ],
      "metadata": {
        "colab": {
          "base_uri": "https://localhost:8080/"
        },
        "id": "OOXsvIeEuH8N",
        "outputId": "125d3b16-1a96-4faf-8d53-d4910b74ed0e"
      },
      "execution_count": 140,
      "outputs": [
        {
          "output_type": "execute_result",
          "data": {
            "text/plain": [
              "3"
            ]
          },
          "metadata": {},
          "execution_count": 140
        }
      ]
    },
    {
      "cell_type": "code",
      "source": [
        "itos[stoi['a']]"
      ],
      "metadata": {
        "colab": {
          "base_uri": "https://localhost:8080/",
          "height": 35
        },
        "id": "dY6wiY_6uBLF",
        "outputId": "111d4aa9-45f0-43dc-b414-eb21c11f495b"
      },
      "execution_count": 141,
      "outputs": [
        {
          "output_type": "execute_result",
          "data": {
            "text/plain": [
              "'a'"
            ],
            "application/vnd.google.colaboratory.intrinsic+json": {
              "type": "string"
            }
          },
          "metadata": {},
          "execution_count": 141
        }
      ]
    },
    {
      "cell_type": "code",
      "source": [
        "class Tokenizer:\n",
        "  def __init__(self, stoi, itos, len=10):\n",
        "    self.stoi = stoi\n",
        "    self.itos = itos\n",
        "    self.len = len\n",
        "  def encode(self, text, crop=True, pad=True):\n",
        "    out = []\n",
        "    if crop:\n",
        "      for word in text.lower().split()[:self.len]:\n",
        "        if word in self.stoi:\n",
        "          out.append(self.stoi[word])\n",
        "        else:\n",
        "          out.append(1)\n",
        "      if pad:\n",
        "        out = [0] * (self.len - len(out)) + out\n",
        "      return out\n",
        "    else:\n",
        "      for word in text.lower().split():\n",
        "        if word in self.stoi:\n",
        "          out.append(self.stoi[word])\n",
        "        else:\n",
        "          out.append(1)\n",
        "      if pad:\n",
        "        out = [0] * (self.len - len(out)) + out\n",
        "      return out\n",
        "  def decode(self, ids):\n",
        "    out = \"\"\n",
        "    for id in ids:\n",
        "      if (id in self.itos) and id != 1:\n",
        "        out += self.itos[id] + \" \"\n",
        "      elif id==0:\n",
        "        out += '[PAD]'\n",
        "      else:\n",
        "        out += '[UNK] '\n",
        "    return out"
      ],
      "metadata": {
        "id": "YYif7lrG6uyB"
      },
      "execution_count": 142,
      "outputs": []
    },
    {
      "cell_type": "code",
      "source": [
        "tokenizer = Tokenizer(stoi, itos)"
      ],
      "metadata": {
        "id": "9NeN4k1x8fg4"
      },
      "execution_count": 143,
      "outputs": []
    },
    {
      "cell_type": "code",
      "source": [
        "tokenizer.encode(\"hello world\", pad=False)"
      ],
      "metadata": {
        "colab": {
          "base_uri": "https://localhost:8080/"
        },
        "id": "lhKIv2b98i7P",
        "outputId": "a5686646-7d73-4a96-cdcd-54232718eae2"
      },
      "execution_count": 144,
      "outputs": [
        {
          "output_type": "execute_result",
          "data": {
            "text/plain": [
              "[1, 4643]"
            ]
          },
          "metadata": {},
          "execution_count": 144
        }
      ]
    },
    {
      "cell_type": "code",
      "source": [
        "tokenizer.decode(tokenizer.encode(\"hello world\", pad=False))"
      ],
      "metadata": {
        "colab": {
          "base_uri": "https://localhost:8080/",
          "height": 35
        },
        "id": "MsfKP-XB4CMt",
        "outputId": "f95e92a2-47b7-4290-c7eb-a85fa0ca9046"
      },
      "execution_count": 145,
      "outputs": [
        {
          "output_type": "execute_result",
          "data": {
            "text/plain": [
              "'[UNK] world '"
            ],
            "application/vnd.google.colaboratory.intrinsic+json": {
              "type": "string"
            }
          },
          "metadata": {},
          "execution_count": 145
        }
      ]
    },
    {
      "cell_type": "code",
      "source": [
        "import torch"
      ],
      "metadata": {
        "id": "tSvA5LK788Im"
      },
      "execution_count": 146,
      "outputs": []
    },
    {
      "cell_type": "code",
      "source": [
        "import torch.nn.functional as F"
      ],
      "metadata": {
        "id": "ihNO403RjcPT"
      },
      "execution_count": 147,
      "outputs": []
    },
    {
      "cell_type": "code",
      "source": [
        "device = torch.device(\"cuda:0\" if torch.cuda.is_available() else \"cpu\")"
      ],
      "metadata": {
        "id": "E-SwIr4Z-rb9"
      },
      "execution_count": 148,
      "outputs": []
    },
    {
      "cell_type": "code",
      "source": [
        "num_epochs = 100000\n",
        "lr = 10\n",
        "batch_size = 256"
      ],
      "metadata": {
        "id": "_6_FqERW_I28"
      },
      "execution_count": 149,
      "outputs": []
    },
    {
      "cell_type": "code",
      "source": [
        "context_len = 3\n",
        "emb_dim = 20\n",
        "vocab_size = len(stoi)\n",
        "n_hidden = 400\n",
        "C = torch.randn(vocab_size, emb_dim).to(device)\n",
        "w1 = torch.randn(context_len * emb_dim, n_hidden).to(device) * 0.1\n",
        "b1 = torch.randn(n_hidden).to(device) * 0.01\n",
        "w2 = torch.randn(n_hidden, vocab_size).to(device) * 0.1\n",
        "b2 = torch.randn(vocab_size).to(device) * 0.01\n",
        "\n",
        "params = [C, w1, b1, w2, b2]\n",
        "for p in params:\n",
        "  p.requires_grad = True\n",
        "\n",
        "tokenizer = Tokenizer(stoi, itos, len=context_len)"
      ],
      "metadata": {
        "id": "ENZrsino89iC"
      },
      "execution_count": 150,
      "outputs": []
    },
    {
      "cell_type": "code",
      "source": [
        "def build_dataset(text):\n",
        "  xs = []\n",
        "  ys = []\n",
        "  tokenized_text = tokenizer.encode(text, crop=False)\n",
        "  context = [0] * (context_len)\n",
        "  for x in tokenized_text:\n",
        "    xs.append(context)\n",
        "    ys.append(x)\n",
        "    context = context[1:] + [x]\n",
        "  xs = torch.tensor(xs).to(device)\n",
        "  ys = torch.tensor(ys).to(device)\n",
        "  return xs, ys\n",
        "Xtr, Ytr = build_dataset(text)\n",
        "train_examples = len(Xtr) - 1"
      ],
      "metadata": {
        "id": "ieiNgYuHfFuP"
      },
      "execution_count": 151,
      "outputs": []
    },
    {
      "cell_type": "code",
      "source": [
        "epochs = torch.arange(num_epochs)\n",
        "losses = []"
      ],
      "metadata": {
        "id": "nPAuz-Ey8ft1"
      },
      "execution_count": 152,
      "outputs": []
    },
    {
      "cell_type": "code",
      "source": [
        "for epoch in range(num_epochs):\n",
        "  batch_indices = torch.randint(0, train_examples, (batch_size, ))\n",
        "  xs = Xtr[batch_indices]\n",
        "  ys = Ytr[batch_indices]\n",
        "  emb = C[xs].view(-1, emb_dim * context_len)\n",
        "  l1 = (emb @ w1 + b1).tanh()\n",
        "  logits = (l1 @ w2 + b2).tanh()\n",
        "  loss = F.cross_entropy(logits, ys)\n",
        "\n",
        "  losses.append(loss.item())\n",
        "\n",
        "  for p in params:\n",
        "    p.grad = None\n",
        "\n",
        "  loss.backward()\n",
        "\n",
        "  for p in params:\n",
        "    p.data -= p.grad * (lr * ((epoch+1) ** -0.5))\n",
        "\n",
        "  if epoch % 10000 == 0:\n",
        "    print(\"Epoch\", str(epoch) + \", loss:\", loss.item())\n"
      ],
      "metadata": {
        "colab": {
          "base_uri": "https://localhost:8080/"
        },
        "id": "pUkAfTx6i1xO",
        "outputId": "79f95f15-918e-4fda-d925-e928ddfdc025"
      },
      "execution_count": 153,
      "outputs": [
        {
          "output_type": "stream",
          "name": "stdout",
          "text": [
            "Epoch 0, loss: 8.635568618774414\n",
            "Epoch 10000, loss: 7.089189529418945\n",
            "Epoch 20000, loss: 7.123117923736572\n",
            "Epoch 30000, loss: 7.10128116607666\n",
            "Epoch 40000, loss: 7.117026329040527\n",
            "Epoch 50000, loss: 7.02869987487793\n",
            "Epoch 60000, loss: 7.054577350616455\n",
            "Epoch 70000, loss: 7.034709930419922\n",
            "Epoch 80000, loss: 6.982211112976074\n",
            "Epoch 90000, loss: 7.073363304138184\n"
          ]
        }
      ]
    },
    {
      "cell_type": "code",
      "source": [
        "import matplotlib.pyplot as plt\n",
        "\n",
        "plt.plot(epochs.numpy(), losses)"
      ],
      "metadata": {
        "colab": {
          "base_uri": "https://localhost:8080/",
          "height": 447
        },
        "id": "1ksd5_sK9RrW",
        "outputId": "f38d2b83-b721-4db0-b62a-5eee0635b2f6"
      },
      "execution_count": 154,
      "outputs": [
        {
          "output_type": "execute_result",
          "data": {
            "text/plain": [
              "[<matplotlib.lines.Line2D at 0x7a4b2586ba00>]"
            ]
          },
          "metadata": {},
          "execution_count": 154
        },
        {
          "output_type": "display_data",
          "data": {
            "text/plain": [
              "<Figure size 640x480 with 1 Axes>"
            ],
            "image/png": "[encoded data removed]"
          },
          "metadata": {}
        }
      ]
    },
    {
      "cell_type": "code",
      "source": [
        "Xtr[100]"
      ],
      "metadata": {
        "colab": {
          "base_uri": "https://localhost:8080/"
        },
        "id": "LSo_PxgC3qSL",
        "outputId": "e5e84dbf-5bca-4523-826b-47fdfb48ad5a"
      },
      "execution_count": 155,
      "outputs": [
        {
          "output_type": "execute_result",
          "data": {
            "text/plain": [
              "tensor([1988, 4059, 4657], device='cuda:0')"
            ]
          },
          "metadata": {},
          "execution_count": 155
        }
      ]
    },
    {
      "cell_type": "code",
      "source": [
        "Ytr[100]"
      ],
      "metadata": {
        "colab": {
          "base_uri": "https://localhost:8080/"
        },
        "id": "LCqdxQUf3tLx",
        "outputId": "5eed03e0-ad2e-4a69-f7e5-e90fd5453ac6"
      },
      "execution_count": 156,
      "outputs": [
        {
          "output_type": "execute_result",
          "data": {
            "text/plain": [
              "tensor(4691, device='cuda:0')"
            ]
          },
          "metadata": {},
          "execution_count": 156
        }
      ]
    },
    {
      "cell_type": "code",
      "source": [
        "tokenizer.decode([Ytr[100].cpu().numpy().item()])"
      ],
      "metadata": {
        "id": "TV4BxCB1Du07",
        "outputId": "3f877953-e645-4009-c814-d75dc3d4fcb9",
        "colab": {
          "base_uri": "https://localhost:8080/",
          "height": 35
        }
      },
      "execution_count": 157,
      "outputs": [
        {
          "output_type": "execute_result",
          "data": {
            "text/plain": [
              "'yield '"
            ],
            "application/vnd.google.colaboratory.intrinsic+json": {
              "type": "string"
            }
          },
          "metadata": {},
          "execution_count": 157
        }
      ]
    },
    {
      "cell_type": "code",
      "source": [
        "tokenizer.decode(Xtr[100].cpu().numpy())"
      ],
      "metadata": {
        "colab": {
          "base_uri": "https://localhost:8080/",
          "height": 35
        },
        "id": "dm0v9kDD3vW3",
        "outputId": "78b1a902-553a-41d3-b64d-9384d3925248"
      },
      "execution_count": 158,
      "outputs": [
        {
          "output_type": "execute_result",
          "data": {
            "text/plain": [
              "'if they would '"
            ],
            "application/vnd.google.colaboratory.intrinsic+json": {
              "type": "string"
            }
          },
          "metadata": {},
          "execution_count": 158
        }
      ]
    },
    {
      "cell_type": "code",
      "source": [
        "def prompt(text, len=10):\n",
        "  output = text + \" \"\n",
        "  for x in range(len):\n",
        "    xs = torch.tensor(tokenizer.encode(output)).to(device)\n",
        "    emb = C[xs].view(-1, emb_dim * context_len)\n",
        "    l1 = (emb @ w1 + b1).tanh()\n",
        "    logits = (l1 @ w2 + b2).tanh()\n",
        "    outs = logits.softmax(dim=1)\n",
        "    selected = torch.multinomial(outs, num_samples=1)[0].cpu().numpy()\n",
        "    outchar = tokenizer.decode(selected)\n",
        "    output += outchar\n",
        "  return output"
      ],
      "metadata": {
        "id": "wQyRO80BlcdG"
      },
      "execution_count": 159,
      "outputs": []
    },
    {
      "cell_type": "code",
      "source": [
        "def get_likelihood(input, expected):\n",
        "  emb = C[input].view(-1, emb_dim * context_len)\n",
        "  l1 = (emb @ w1 + b1).tanh()\n",
        "  logits = (l1 @ w2 + b2).tanh()\n",
        "  outs = logits.softmax(dim=1)\n",
        "  print(outs.shape)\n",
        "  print(\"Max:\", outs[0].argmax(), outs[0][outs.argmax()])\n",
        "  return outs[0][expected]"
      ],
      "metadata": {
        "id": "gtRjMRO8Vgg1"
      },
      "execution_count": 160,
      "outputs": []
    },
    {
      "cell_type": "code",
      "source": [
        "get_likelihood(Xtr[100], Ytr[100])"
      ],
      "metadata": {
        "id": "D1EZaQV7V09d",
        "outputId": "9bc81006-e9f7-44a8-f26a-39af311dbc10",
        "colab": {
          "base_uri": "https://localhost:8080/"
        }
      },
      "execution_count": 161,
      "outputs": [
        {
          "output_type": "stream",
          "name": "stdout",
          "text": [
            "torch.Size([1, 4713])\n",
            "Max: tensor(1, device='cuda:0') tensor(0.0012, device='cuda:0', grad_fn=<SelectBackward0>)\n"
          ]
        },
        {
          "output_type": "execute_result",
          "data": {
            "text/plain": [
              "tensor(0.0010, device='cuda:0', grad_fn=<SelectBackward0>)"
            ]
          },
          "metadata": {},
          "execution_count": 161
        }
      ]
    },
    {
      "cell_type": "code",
      "source": [
        "prompt(\"romeo\")"
      ],
      "metadata": {
        "colab": {
          "base_uri": "https://localhost:8080/",
          "height": 35
        },
        "id": "w-gXmwqNmRT0",
        "outputId": "57632b0a-0e4a-41a7-ab3f-06b1f35d1ba2"
      },
      "execution_count": 162,
      "outputs": [
        {
          "output_type": "execute_result",
          "data": {
            "text/plain": [
              "'romeo whats so little else ten jacob traitors sinking respecting be '"
            ],
            "application/vnd.google.colaboratory.intrinsic+json": {
              "type": "string"
            }
          },
          "metadata": {},
          "execution_count": 162
        }
      ]
    },
    {
      "cell_type": "code",
      "source": [
        "prompt(tokenizer.decode(Xtr[100].cpu().numpy()))"
      ],
      "metadata": {
        "id": "yYUc51_3DhCp",
        "outputId": "61d3ab0d-5ffc-47ec-8c84-09f793587a6b",
        "colab": {
          "base_uri": "https://localhost:8080/",
          "height": 35
        }
      },
      "execution_count": 163,
      "outputs": [
        {
          "output_type": "execute_result",
          "data": {
            "text/plain": [
              "'if they would  offences recorder madam misshaped feard ifs fairy thomas prosperous words '"
            ],
            "application/vnd.google.colaboratory.intrinsic+json": {
              "type": "string"
            }
          },
          "metadata": {},
          "execution_count": 163
        }
      ]
    },
    {
      "cell_type": "code",
      "source": [
        "prompt(\"\", len=100)"
      ],
      "metadata": {
        "id": "y__9xkcHd7eL",
        "outputId": "f979701f-cfdd-40de-a753-2af1203f8428",
        "colab": {
          "base_uri": "https://localhost:8080/",
          "height": 87
        }
      },
      "execution_count": 164,
      "outputs": [
        {
          "output_type": "execute_result",
          "data": {
            "text/plain": [
              "' boring thrice boat crabtrees bush mean wounds petruchio ram an picture bleated needs asketh standerby storms cleomenes rebelld gentlewoman sail disgrace hood moisture attaind judge unreal keeper tod brine sedition cousins shop took defiance win this women took this trim worship amended fifes ordained called helping war saints blessed yes several grim nor couple favourites loan therefore guard lights leanwitted tutors mine cats love air set sinister montague flote passing thus romeo distinction commission supreme hungry resolute cicester summer marquess never magic shall even accident montgomery effect are belongs heavenly cry admitted naught see whiles earthly swoln earldom twenty where '"
            ],
            "application/vnd.google.colaboratory.intrinsic+json": {
              "type": "string"
            }
          },
          "metadata": {},
          "execution_count": 164
        }
      ]
    }
  ]
}